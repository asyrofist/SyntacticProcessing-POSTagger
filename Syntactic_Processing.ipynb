{
 "cells": [
  {
   "cell_type": "markdown",
   "metadata": {},
   "source": [
    "## POS tagging using modified Viterbi"
   ]
  },
  {
   "cell_type": "markdown",
   "metadata": {},
   "source": [
    "Essentially working with <b>HMM-based</b> <I>POS tagger</I> and implementing <b>Viterbi</b> algorithm using Penn Treebank there is some loss of accuracy due to algorithm not able to correctly tag the unknown words(not present in training set).\n",
    "Thus algorithm tag arbitrarily chooses first tag to those words.\n",
    "\n",
    "<I>We have been provided with Treebank dataset of NLTK with the 'universal' tagset having 12 coarse tag classes</I>\n",
    "\n",
    "We aim at correcting the incorrect tagging of unknown words using two techniques:\n",
    "- Using <b>morphological cues</b> to correctly tag the unknown words in the corpus\n",
    "- <b>Modifying Viterbi algorithm</b> so that it only considers one among emission/transition probabilities. As for unknown words emission probability is zero.\n",
    "\n",
    "<b>Goals:</b>\n",
    "1. Vanilla Viterbi for POS tagging without dealing with unknown words \n",
    "2. Solve unknown word problem by modifying Viterbi also using lexicon, rule-based, probabilistic etc.\n",
    "3. Compare tagging accuracy after modifications in Viterbi algo\n",
    "4. List down at least three cases from the sample test file (i.e. unknown word-tag pairs) which were incorrectly tagged by the original Viterbi POS tagger and got corrected after your modifications. \n",
    "\n",
    "***"
   ]
  },
  {
   "cell_type": "markdown",
   "metadata": {},
   "source": [
    "## 1. Data Preparation"
   ]
  },
  {
   "cell_type": "code",
   "execution_count": 1,
   "metadata": {},
   "outputs": [],
   "source": [
    "#Importing libraries\n",
    "import nltk, re, pprint\n",
    "import numpy as np\n",
    "import pandas as pd\n",
    "import requests\n",
    "import matplotlib.pyplot as plt\n",
    "import seaborn as sns\n",
    "import pprint, time\n",
    "import random\n",
    "from sklearn.model_selection import train_test_split\n",
    "from nltk.tokenize import word_tokenize\n",
    "from nltk.tag import DefaultTagger \n",
    "test_file='Test_sentences.txt'"
   ]
  },
  {
   "cell_type": "markdown",
   "metadata": {},
   "source": [
    "#### 1.1 Reading the Treebank tagged sentences"
   ]
  },
  {
   "cell_type": "code",
   "execution_count": 2,
   "metadata": {},
   "outputs": [],
   "source": [
    "nltk_data = list(nltk.corpus.treebank.tagged_sents(tagset='universal'))"
   ]
  },
  {
   "cell_type": "markdown",
   "metadata": {},
   "source": [
    "<b>First few tagged sentences</b>"
   ]
  },
  {
   "cell_type": "code",
   "execution_count": 3,
   "metadata": {},
   "outputs": [
    {
     "name": "stdout",
     "output_type": "stream",
     "text": [
      "[[('Pierre', 'NOUN'), ('Vinken', 'NOUN'), (',', '.'), ('61', 'NUM'), ('years', 'NOUN'), ('old', 'ADJ'), (',', '.'), ('will', 'VERB'), ('join', 'VERB'), ('the', 'DET'), ('board', 'NOUN'), ('as', 'ADP'), ('a', 'DET'), ('nonexecutive', 'ADJ'), ('director', 'NOUN'), ('Nov.', 'NOUN'), ('29', 'NUM'), ('.', '.')], [('Mr.', 'NOUN'), ('Vinken', 'NOUN'), ('is', 'VERB'), ('chairman', 'NOUN'), ('of', 'ADP'), ('Elsevier', 'NOUN'), ('N.V.', 'NOUN'), (',', '.'), ('the', 'DET'), ('Dutch', 'NOUN'), ('publishing', 'VERB'), ('group', 'NOUN'), ('.', '.')], [('Rudolph', 'NOUN'), ('Agnew', 'NOUN'), (',', '.'), ('55', 'NUM'), ('years', 'NOUN'), ('old', 'ADJ'), ('and', 'CONJ'), ('former', 'ADJ'), ('chairman', 'NOUN'), ('of', 'ADP'), ('Consolidated', 'NOUN'), ('Gold', 'NOUN'), ('Fields', 'NOUN'), ('PLC', 'NOUN'), (',', '.'), ('was', 'VERB'), ('named', 'VERB'), ('*-1', 'X'), ('a', 'DET'), ('nonexecutive', 'ADJ'), ('director', 'NOUN'), ('of', 'ADP'), ('this', 'DET'), ('British', 'ADJ'), ('industrial', 'ADJ'), ('conglomerate', 'NOUN'), ('.', '.')], [('A', 'DET'), ('form', 'NOUN'), ('of', 'ADP'), ('asbestos', 'NOUN'), ('once', 'ADV'), ('used', 'VERB'), ('*', 'X'), ('*', 'X'), ('to', 'PRT'), ('make', 'VERB'), ('Kent', 'NOUN'), ('cigarette', 'NOUN'), ('filters', 'NOUN'), ('has', 'VERB'), ('caused', 'VERB'), ('a', 'DET'), ('high', 'ADJ'), ('percentage', 'NOUN'), ('of', 'ADP'), ('cancer', 'NOUN'), ('deaths', 'NOUN'), ('among', 'ADP'), ('a', 'DET'), ('group', 'NOUN'), ('of', 'ADP'), ('workers', 'NOUN'), ('exposed', 'VERB'), ('*', 'X'), ('to', 'PRT'), ('it', 'PRON'), ('more', 'ADV'), ('than', 'ADP'), ('30', 'NUM'), ('years', 'NOUN'), ('ago', 'ADP'), (',', '.'), ('researchers', 'NOUN'), ('reported', 'VERB'), ('0', 'X'), ('*T*-1', 'X'), ('.', '.')], [('The', 'DET'), ('asbestos', 'NOUN'), ('fiber', 'NOUN'), (',', '.'), ('crocidolite', 'NOUN'), (',', '.'), ('is', 'VERB'), ('unusually', 'ADV'), ('resilient', 'ADJ'), ('once', 'ADP'), ('it', 'PRON'), ('enters', 'VERB'), ('the', 'DET'), ('lungs', 'NOUN'), (',', '.'), ('with', 'ADP'), ('even', 'ADV'), ('brief', 'ADJ'), ('exposures', 'NOUN'), ('to', 'PRT'), ('it', 'PRON'), ('causing', 'VERB'), ('symptoms', 'NOUN'), ('that', 'DET'), ('*T*-1', 'X'), ('show', 'VERB'), ('up', 'PRT'), ('decades', 'NOUN'), ('later', 'ADJ'), (',', '.'), ('researchers', 'NOUN'), ('said', 'VERB'), ('0', 'X'), ('*T*-2', 'X'), ('.', '.')], [('Lorillard', 'NOUN'), ('Inc.', 'NOUN'), (',', '.'), ('the', 'DET'), ('unit', 'NOUN'), ('of', 'ADP'), ('New', 'ADJ'), ('York-based', 'ADJ'), ('Loews', 'NOUN'), ('Corp.', 'NOUN'), ('that', 'DET'), ('*T*-2', 'X'), ('makes', 'VERB'), ('Kent', 'NOUN'), ('cigarettes', 'NOUN'), (',', '.'), ('stopped', 'VERB'), ('using', 'VERB'), ('crocidolite', 'NOUN'), ('in', 'ADP'), ('its', 'PRON'), ('Micronite', 'NOUN'), ('cigarette', 'NOUN'), ('filters', 'NOUN'), ('in', 'ADP'), ('1956', 'NUM'), ('.', '.')], [('Although', 'ADP'), ('preliminary', 'ADJ'), ('findings', 'NOUN'), ('were', 'VERB'), ('reported', 'VERB'), ('*-2', 'X'), ('more', 'ADV'), ('than', 'ADP'), ('a', 'DET'), ('year', 'NOUN'), ('ago', 'ADP'), (',', '.'), ('the', 'DET'), ('latest', 'ADJ'), ('results', 'NOUN'), ('appear', 'VERB'), ('in', 'ADP'), ('today', 'NOUN'), (\"'s\", 'PRT'), ('New', 'NOUN'), ('England', 'NOUN'), ('Journal', 'NOUN'), ('of', 'ADP'), ('Medicine', 'NOUN'), (',', '.'), ('a', 'DET'), ('forum', 'NOUN'), ('likely', 'ADJ'), ('*', 'X'), ('to', 'PRT'), ('bring', 'VERB'), ('new', 'ADJ'), ('attention', 'NOUN'), ('to', 'PRT'), ('the', 'DET'), ('problem', 'NOUN'), ('.', '.')], [('A', 'DET'), ('Lorillard', 'NOUN'), ('spokewoman', 'NOUN'), ('said', 'VERB'), (',', '.'), ('``', '.'), ('This', 'DET'), ('is', 'VERB'), ('an', 'DET'), ('old', 'ADJ'), ('story', 'NOUN'), ('.', '.')], [('We', 'PRON'), (\"'re\", 'VERB'), ('talking', 'VERB'), ('about', 'ADP'), ('years', 'NOUN'), ('ago', 'ADP'), ('before', 'ADP'), ('anyone', 'NOUN'), ('heard', 'VERB'), ('of', 'ADP'), ('asbestos', 'NOUN'), ('having', 'VERB'), ('any', 'DET'), ('questionable', 'ADJ'), ('properties', 'NOUN'), ('.', '.')], [('There', 'DET'), ('is', 'VERB'), ('no', 'DET'), ('asbestos', 'NOUN'), ('in', 'ADP'), ('our', 'PRON'), ('products', 'NOUN'), ('now', 'ADV'), ('.', '.'), (\"''\", '.')], [('Neither', 'DET'), ('Lorillard', 'NOUN'), ('nor', 'CONJ'), ('the', 'DET'), ('researchers', 'NOUN'), ('who', 'PRON'), ('*T*-3', 'X'), ('studied', 'VERB'), ('the', 'DET'), ('workers', 'NOUN'), ('were', 'VERB'), ('aware', 'ADJ'), ('of', 'ADP'), ('any', 'DET'), ('research', 'NOUN'), ('on', 'ADP'), ('smokers', 'NOUN'), ('of', 'ADP'), ('the', 'DET'), ('Kent', 'NOUN'), ('cigarettes', 'NOUN'), ('.', '.')], [('``', '.'), ('We', 'PRON'), ('have', 'VERB'), ('no', 'DET'), ('useful', 'ADJ'), ('information', 'NOUN'), ('on', 'ADP'), ('whether', 'ADP'), ('users', 'NOUN'), ('are', 'VERB'), ('at', 'ADP'), ('risk', 'NOUN'), (',', '.'), (\"''\", '.'), ('said', 'VERB'), ('*T*-1', 'X'), ('James', 'NOUN'), ('A.', 'NOUN'), ('Talcott', 'NOUN'), ('of', 'ADP'), ('Boston', 'NOUN'), (\"'s\", 'PRT'), ('Dana-Farber', 'NOUN'), ('Cancer', 'NOUN'), ('Institute', 'NOUN'), ('.', '.')], [('Dr.', 'NOUN'), ('Talcott', 'NOUN'), ('led', 'VERB'), ('a', 'DET'), ('team', 'NOUN'), ('of', 'ADP'), ('researchers', 'NOUN'), ('from', 'ADP'), ('the', 'DET'), ('National', 'NOUN'), ('Cancer', 'NOUN'), ('Institute', 'NOUN'), ('and', 'CONJ'), ('the', 'DET'), ('medical', 'ADJ'), ('schools', 'NOUN'), ('of', 'ADP'), ('Harvard', 'NOUN'), ('University', 'NOUN'), ('and', 'CONJ'), ('Boston', 'NOUN'), ('University', 'NOUN'), ('.', '.')], [('The', 'DET'), ('Lorillard', 'NOUN'), ('spokeswoman', 'NOUN'), ('said', 'VERB'), ('0', 'X'), ('asbestos', 'NOUN'), ('was', 'VERB'), ('used', 'VERB'), ('*-1', 'X'), ('in', 'ADP'), ('``', '.'), ('very', 'ADV'), ('modest', 'ADJ'), ('amounts', 'NOUN'), (\"''\", '.'), ('in', 'ADP'), ('*', 'X'), ('making', 'VERB'), ('paper', 'NOUN'), ('for', 'ADP'), ('the', 'DET'), ('filters', 'NOUN'), ('in', 'ADP'), ('the', 'DET'), ('early', 'ADJ'), ('1950s', 'NUM'), ('and', 'CONJ'), ('replaced', 'VERB'), ('*-1', 'X'), ('with', 'ADP'), ('a', 'DET'), ('different', 'ADJ'), ('type', 'NOUN'), ('of', 'ADP'), ('filter', 'NOUN'), ('in', 'ADP'), ('1956', 'NUM'), ('.', '.')], [('From', 'ADP'), ('1953', 'NUM'), ('to', 'PRT'), ('1955', 'NUM'), (',', '.'), ('9.8', 'NUM'), ('billion', 'NUM'), ('Kent', 'NOUN'), ('cigarettes', 'NOUN'), ('with', 'ADP'), ('the', 'DET'), ('filters', 'NOUN'), ('were', 'VERB'), ('sold', 'VERB'), ('*-3', 'X'), (',', '.'), ('the', 'DET'), ('company', 'NOUN'), ('said', 'VERB'), ('0', 'X'), ('*T*-1', 'X'), ('.', '.')], [('Among', 'ADP'), ('33', 'NUM'), ('men', 'NOUN'), ('who', 'PRON'), ('*T*-4', 'X'), ('worked', 'VERB'), ('closely', 'ADV'), ('with', 'ADP'), ('the', 'DET'), ('substance', 'NOUN'), (',', '.'), ('28', 'NUM'), ('*ICH*-1', 'X'), ('have', 'VERB'), ('died', 'VERB'), ('--', '.'), ('more', 'ADJ'), ('than', 'ADP'), ('three', 'NUM'), ('times', 'NOUN'), ('the', 'DET'), ('expected', 'VERB'), ('number', 'NOUN'), ('.', '.')], [('Four', 'NUM'), ('of', 'ADP'), ('the', 'DET'), ('five', 'NUM'), ('surviving', 'VERB'), ('workers', 'NOUN'), ('have', 'VERB'), ('asbestos-related', 'ADJ'), ('diseases', 'NOUN'), (',', '.'), ('including', 'VERB'), ('three', 'NUM'), ('with', 'ADP'), ('recently', 'ADV'), ('diagnosed', 'VERB'), ('cancer', 'NOUN'), ('.', '.')], [('The', 'DET'), ('total', 'NOUN'), ('of', 'ADP'), ('18', 'NUM'), ('deaths', 'NOUN'), ('from', 'ADP'), ('malignant', 'ADJ'), ('mesothelioma', 'NOUN'), (',', '.'), ('lung', 'NOUN'), ('cancer', 'NOUN'), ('and', 'CONJ'), ('asbestosis', 'NOUN'), ('was', 'VERB'), ('far', 'ADV'), ('higher', 'ADJ'), ('than', 'ADP'), ('*', 'X'), ('expected', 'VERB'), ('*?*', 'X'), (',', '.'), ('the', 'DET'), ('researchers', 'NOUN'), ('said', 'VERB'), ('0', 'X'), ('*T*-1', 'X'), ('.', '.')], [('``', '.'), ('The', 'DET'), ('morbidity', 'NOUN'), ('rate', 'NOUN'), ('is', 'VERB'), ('a', 'DET'), ('striking', 'ADJ'), ('finding', 'NOUN'), ('among', 'ADP'), ('those', 'DET'), ('of', 'ADP'), ('us', 'PRON'), ('who', 'PRON'), ('*T*-5', 'X'), ('study', 'VERB'), ('asbestos-related', 'ADJ'), ('diseases', 'NOUN'), (',', '.'), (\"''\", '.'), ('said', 'VERB'), ('*T*-1', 'X'), ('Dr.', 'NOUN'), ('Talcott', 'NOUN'), ('.', '.')], [('The', 'DET'), ('percentage', 'NOUN'), ('of', 'ADP'), ('lung', 'NOUN'), ('cancer', 'NOUN'), ('deaths', 'NOUN'), ('among', 'ADP'), ('the', 'DET'), ('workers', 'NOUN'), ('at', 'ADP'), ('the', 'DET'), ('West', 'NOUN'), ('Groton', 'NOUN'), (',', '.'), ('Mass.', 'NOUN'), (',', '.'), ('paper', 'NOUN'), ('factory', 'NOUN'), ('appears', 'VERB'), ('*-1', 'X'), ('to', 'PRT'), ('be', 'VERB'), ('the', 'DET'), ('highest', 'ADJ'), ('for', 'ADP'), ('any', 'DET'), ('asbestos', 'NOUN'), ('workers', 'NOUN'), ('studied', 'VERB'), ('*', 'X'), ('in', 'ADP'), ('Western', 'ADJ'), ('industrialized', 'VERB'), ('countries', 'NOUN'), (',', '.'), ('he', 'PRON'), ('said', 'VERB'), ('0', 'X'), ('*T*-2', 'X'), ('.', '.')], [('The', 'DET'), ('plant', 'NOUN'), (',', '.'), ('which', 'DET'), ('*T*-1', 'X'), ('is', 'VERB'), ('owned', 'VERB'), ('*-4', 'X'), ('by', 'ADP'), ('Hollingsworth', 'NOUN'), ('&', 'CONJ'), ('Vose', 'NOUN'), ('Co.', 'NOUN'), (',', '.'), ('was', 'VERB'), ('under', 'ADP'), ('contract', 'NOUN'), ('*ICH*-2', 'X'), ('with', 'ADP'), ('Lorillard', 'NOUN'), ('*', 'X'), ('to', 'PRT'), ('make', 'VERB'), ('the', 'DET'), ('cigarette', 'NOUN'), ('filters', 'NOUN'), ('.', '.')], [('The', 'DET'), ('finding', 'NOUN'), ('probably', 'ADV'), ('will', 'VERB'), ('support', 'VERB'), ('those', 'DET'), ('who', 'PRON'), ('*T*-6', 'X'), ('argue', 'VERB'), ('that', 'ADP'), ('the', 'DET'), ('U.S.', 'NOUN'), ('should', 'VERB'), ('regulate', 'VERB'), ('the', 'DET'), ('class', 'NOUN'), ('of', 'ADP'), ('asbestos', 'NOUN'), ('including', 'VERB'), ('crocidolite', 'NOUN'), ('more', 'ADV'), ('stringently', 'ADV'), ('than', 'ADP'), ('the', 'DET'), ('common', 'ADJ'), ('kind', 'NOUN'), ('of', 'ADP'), ('asbestos', 'NOUN'), (',', '.'), ('chrysotile', 'NOUN'), (',', '.'), ('found', 'VERB'), ('*', 'X'), ('in', 'ADP'), ('most', 'ADJ'), ('schools', 'NOUN'), ('and', 'CONJ'), ('other', 'ADJ'), ('buildings', 'NOUN'), (',', '.'), ('Dr.', 'NOUN'), ('Talcott', 'NOUN'), ('said', 'VERB'), ('0', 'X'), ('*T*-1', 'X'), ('.', '.')], [('The', 'DET'), ('U.S.', 'NOUN'), ('is', 'VERB'), ('one', 'NUM'), ('of', 'ADP'), ('the', 'DET'), ('few', 'ADJ'), ('industrialized', 'VERB'), ('nations', 'NOUN'), ('that', 'DET'), ('*T*-7', 'X'), ('does', 'VERB'), (\"n't\", 'ADV'), ('have', 'VERB'), ('a', 'DET'), ('higher', 'ADJ'), ('standard', 'NOUN'), ('of', 'ADP'), ('regulation', 'NOUN'), ('for', 'ADP'), ('the', 'DET'), ('smooth', 'ADJ'), (',', '.'), ('needle-like', 'ADJ'), ('fibers', 'NOUN'), ('such', 'ADJ'), ('as', 'ADP'), ('crocidolite', 'NOUN'), ('that', 'DET'), ('*T*-1', 'X'), ('are', 'VERB'), ('classified', 'VERB'), ('*-5', 'X'), ('as', 'ADP'), ('amphobiles', 'NOUN'), (',', '.'), ('according', 'VERB'), ('to', 'PRT'), ('Brooke', 'NOUN'), ('T.', 'NOUN'), ('Mossman', 'NOUN'), (',', '.'), ('a', 'DET'), ('professor', 'NOUN'), ('of', 'ADP'), ('pathlogy', 'NOUN'), ('at', 'ADP'), ('the', 'DET'), ('University', 'NOUN'), ('of', 'ADP'), ('Vermont', 'NOUN'), ('College', 'NOUN'), ('of', 'ADP'), ('Medicine', 'NOUN'), ('.', '.')], [('More', 'ADV'), ('common', 'ADJ'), ('chrysotile', 'NOUN'), ('fibers', 'NOUN'), ('are', 'VERB'), ('curly', 'ADJ'), ('and', 'CONJ'), ('are', 'VERB'), ('more', 'ADV'), ('easily', 'ADV'), ('rejected', 'VERB'), ('*-1', 'X'), ('by', 'ADP'), ('the', 'DET'), ('body', 'NOUN'), (',', '.'), ('Dr.', 'NOUN'), ('Mossman', 'NOUN'), ('explained', 'VERB'), ('0', 'X'), ('*T*-2', 'X'), ('.', '.')], [('In', 'ADP'), ('July', 'NOUN'), (',', '.'), ('the', 'DET'), ('Environmental', 'NOUN'), ('Protection', 'NOUN'), ('Agency', 'NOUN'), ('imposed', 'VERB'), ('a', 'DET'), ('gradual', 'ADJ'), ('ban', 'NOUN'), ('on', 'ADP'), ('virtually', 'ADV'), ('all', 'DET'), ('uses', 'NOUN'), ('of', 'ADP'), ('asbestos', 'NOUN'), ('.', '.')], [('By', 'ADP'), ('1997', 'NUM'), (',', '.'), ('almost', 'ADV'), ('all', 'DET'), ('remaining', 'VERB'), ('uses', 'NOUN'), ('of', 'ADP'), ('cancer-causing', 'ADJ'), ('asbestos', 'NOUN'), ('will', 'VERB'), ('be', 'VERB'), ('outlawed', 'VERB'), ('*-6', 'X'), ('.', '.')], [('About', 'ADP'), ('160', 'NUM'), ('workers', 'NOUN'), ('at', 'ADP'), ('a', 'DET'), ('factory', 'NOUN'), ('that', 'DET'), ('*T*-8', 'X'), ('made', 'VERB'), ('paper', 'NOUN'), ('for', 'ADP'), ('the', 'DET'), ('Kent', 'NOUN'), ('filters', 'NOUN'), ('were', 'VERB'), ('exposed', 'VERB'), ('*-7', 'X'), ('to', 'PRT'), ('asbestos', 'NOUN'), ('in', 'ADP'), ('the', 'DET'), ('1950s', 'NUM'), ('.', '.')], [('Areas', 'NOUN'), ('of', 'ADP'), ('the', 'DET'), ('factory', 'NOUN'), ('*ICH*-2', 'X'), ('were', 'VERB'), ('particularly', 'ADV'), ('dusty', 'ADJ'), ('where', 'ADV'), ('the', 'DET'), ('crocidolite', 'NOUN'), ('was', 'VERB'), ('used', 'VERB'), ('*-8', 'X'), ('*T*-1', 'X'), ('.', '.')], [('Workers', 'NOUN'), ('dumped', 'VERB'), ('large', 'ADJ'), ('burlap', 'NOUN'), ('sacks', 'NOUN'), ('of', 'ADP'), ('the', 'DET'), ('imported', 'VERB'), ('material', 'NOUN'), ('into', 'ADP'), ('a', 'DET'), ('huge', 'ADJ'), ('bin', 'NOUN'), (',', '.'), ('poured', 'VERB'), ('in', 'PRT'), ('cotton', 'NOUN'), ('and', 'CONJ'), ('acetate', 'NOUN'), ('fibers', 'NOUN'), ('and', 'CONJ'), ('mechanically', 'ADV'), ('mixed', 'VERB'), ('the', 'DET'), ('dry', 'ADJ'), ('fibers', 'NOUN'), ('in', 'ADP'), ('a', 'DET'), ('process', 'NOUN'), ('used', 'VERB'), ('*', 'X'), ('*', 'X'), ('to', 'PRT'), ('make', 'VERB'), ('filters', 'NOUN'), ('.', '.')], [('Workers', 'NOUN'), ('described', 'VERB'), ('``', '.'), ('clouds', 'NOUN'), ('of', 'ADP'), ('blue', 'ADJ'), ('dust', 'NOUN'), (\"''\", '.'), ('that', 'DET'), ('*T*-1', 'X'), ('hung', 'VERB'), ('over', 'ADP'), ('parts', 'NOUN'), ('of', 'ADP'), ('the', 'DET'), ('factory', 'NOUN'), (',', '.'), ('even', 'ADV'), ('though', 'ADP'), ('exhaust', 'NOUN'), ('fans', 'NOUN'), ('ventilated', 'VERB'), ('the', 'DET'), ('area', 'NOUN'), ('.', '.')], [('``', '.'), ('There', 'DET'), (\"'s\", 'VERB'), ('no', 'DET'), ('question', 'NOUN'), ('that', 'ADP'), ('some', 'DET'), ('of', 'ADP'), ('those', 'DET'), ('workers', 'NOUN'), ('and', 'CONJ'), ('managers', 'NOUN'), ('contracted', 'VERB'), ('asbestos-related', 'ADJ'), ('diseases', 'NOUN'), (',', '.'), (\"''\", '.'), ('said', 'VERB'), ('*T*-1', 'X'), ('Darrell', 'NOUN'), ('Phillips', 'NOUN'), (',', '.'), ('vice', 'NOUN'), ('president', 'NOUN'), ('of', 'ADP'), ('human', 'ADJ'), ('resources', 'NOUN'), ('for', 'ADP'), ('Hollingsworth', 'NOUN'), ('&', 'CONJ'), ('Vose', 'NOUN'), ('.', '.')], [('``', '.'), ('But', 'CONJ'), ('you', 'PRON'), ('have', 'VERB'), ('*-1', 'X'), ('to', 'PRT'), ('recognize', 'VERB'), ('that', 'ADP'), ('these', 'DET'), ('events', 'NOUN'), ('took', 'VERB'), ('place', 'NOUN'), ('35', 'NUM'), ('years', 'NOUN'), ('ago', 'ADP'), ('.', '.')], [('It', 'PRON'), ('has', 'VERB'), ('no', 'DET'), ('bearing', 'NOUN'), ('on', 'ADP'), ('our', 'PRON'), ('work', 'NOUN'), ('force', 'NOUN'), ('today', 'NOUN'), ('.', '.')], [('Yields', 'NOUN'), ('on', 'ADP'), ('money-market', 'ADJ'), ('mutual', 'ADJ'), ('funds', 'NOUN'), ('continued', 'VERB'), ('*-1', 'X'), ('to', 'PRT'), ('slide', 'VERB'), (',', '.'), ('amid', 'ADP'), ('signs', 'NOUN'), ('that', 'ADP'), ('portfolio', 'NOUN'), ('managers', 'NOUN'), ('expect', 'VERB'), ('further', 'ADJ'), ('declines', 'NOUN'), ('in', 'ADP'), ('interest', 'NOUN'), ('rates', 'NOUN'), ('.', '.')], [('The', 'DET'), ('average', 'ADJ'), ('seven-day', 'ADJ'), ('compound', 'NOUN'), ('yield', 'NOUN'), ('of', 'ADP'), ('the', 'DET'), ('400', 'NUM'), ('taxable', 'ADJ'), ('funds', 'NOUN'), ('tracked', 'VERB'), ('*', 'X'), ('by', 'ADP'), ('IBC', 'NOUN'), (\"'s\", 'PRT'), ('Money', 'NOUN'), ('Fund', 'NOUN'), ('Report', 'NOUN'), ('eased', 'VERB'), ('a', 'DET'), ('fraction', 'NOUN'), ('of', 'ADP'), ('a', 'DET'), ('percentage', 'NOUN'), ('point', 'NOUN'), ('to', 'PRT'), ('8.45', 'NUM'), ('%', 'NOUN'), ('from', 'ADP'), ('8.47', 'NUM'), ('%', 'NOUN'), ('for', 'ADP'), ('the', 'DET'), ('week', 'NOUN'), ('ended', 'VERB'), ('Tuesday', 'NOUN'), ('.', '.')], [('Compound', 'NOUN'), ('yields', 'NOUN'), ('assume', 'VERB'), ('reinvestment', 'NOUN'), ('of', 'ADP'), ('dividends', 'NOUN'), ('and', 'CONJ'), ('that', 'ADP'), ('the', 'DET'), ('current', 'ADJ'), ('yield', 'NOUN'), ('continues', 'VERB'), ('for', 'ADP'), ('a', 'DET'), ('year', 'NOUN'), ('.', '.')], [('Average', 'ADJ'), ('maturity', 'NOUN'), ('of', 'ADP'), ('the', 'DET'), ('funds', 'NOUN'), (\"'\", 'PRT'), ('investments', 'NOUN'), ('lengthened', 'VERB'), ('by', 'ADP'), ('a', 'DET'), ('day', 'NOUN'), ('to', 'PRT'), ('41', 'NUM'), ('days', 'NOUN'), (',', '.'), ('the', 'DET'), ('longest', 'ADJ'), ('since', 'ADP'), ('early', 'ADJ'), ('August', 'NOUN'), (',', '.'), ('according', 'VERB'), ('to', 'PRT'), ('Donoghue', 'NOUN'), (\"'s\", 'PRT'), ('.', '.')], [('Longer', 'ADJ'), ('maturities', 'NOUN'), ('are', 'VERB'), ('thought', 'VERB'), ('*-1', 'X'), ('to', 'PRT'), ('indicate', 'VERB'), ('declining', 'VERB'), ('interest', 'NOUN'), ('rates', 'NOUN'), ('because', 'ADP'), ('they', 'PRON'), ('permit', 'VERB'), ('portfolio', 'NOUN'), ('managers', 'NOUN'), ('to', 'PRT'), ('retain', 'VERB'), ('relatively', 'ADV'), ('higher', 'ADJ'), ('rates', 'NOUN'), ('for', 'ADP'), ('a', 'DET'), ('longer', 'ADJ'), ('period', 'NOUN'), ('.', '.')], [('Shorter', 'ADJ'), ('maturities', 'NOUN'), ('are', 'VERB'), ('considered', 'VERB'), ('*-9', 'X'), ('a', 'DET'), ('sign', 'NOUN'), ('of', 'ADP'), ('rising', 'VERB'), ('rates', 'NOUN'), ('because', 'ADP'), ('portfolio', 'NOUN'), ('managers', 'NOUN'), ('can', 'VERB'), ('capture', 'VERB'), ('higher', 'ADJ'), ('rates', 'NOUN'), ('sooner', 'ADV'), ('.', '.')], [('The', 'DET'), ('average', 'ADJ'), ('maturity', 'NOUN'), ('for', 'ADP'), ('funds', 'NOUN'), ('open', 'ADJ'), ('only', 'ADV'), ('to', 'PRT'), ('institutions', 'NOUN'), (',', '.'), ('considered', 'VERB'), ('by', 'ADP'), ('some', 'DET'), ('*', 'X'), ('to', 'PRT'), ('be', 'VERB'), ('a', 'DET'), ('stronger', 'ADJ'), ('indicator', 'NOUN'), ('because', 'ADP'), ('those', 'DET'), ('managers', 'NOUN'), ('watch', 'VERB'), ('the', 'DET'), ('market', 'NOUN'), ('closely', 'ADV'), (',', '.'), ('reached', 'VERB'), ('a', 'DET'), ('high', 'ADJ'), ('point', 'NOUN'), ('for', 'ADP'), ('the', 'DET'), ('year', 'NOUN'), ('--', '.'), ('33', 'NUM'), ('days', 'NOUN'), ('.', '.')]]\n"
     ]
    }
   ],
   "source": [
    "print(nltk_data[:40])"
   ]
  },
  {
   "cell_type": "markdown",
   "metadata": {},
   "source": [
    "In the list mentioned above, each element of the list is a sentence. Also, note that each sentence ends with a full stop '.' whose POS tag is also a '.'. Thus, the POS tag '.' demarcates the end of a sentence.\n",
    "\n",
    "Also, we do not need the corpus to be segmented into sentences, but can rather use a list of (word, tag) tuples. Let's convert the list into a (word, tag) tuple."
   ]
  },
  {
   "cell_type": "markdown",
   "metadata": {},
   "source": [
    "<b>Converting the list of sents to a list of (word, pos tag) tuples</b>"
   ]
  },
  {
   "cell_type": "code",
   "execution_count": 4,
   "metadata": {},
   "outputs": [
    {
     "name": "stdout",
     "output_type": "stream",
     "text": [
      "Length of tagged words:  100676\n",
      "10 sample tagged words with word and POS tag:  [('Pierre', 'NOUN'), ('Vinken', 'NOUN'), (',', '.'), ('61', 'NUM'), ('years', 'NOUN'), ('old', 'ADJ'), (',', '.'), ('will', 'VERB'), ('join', 'VERB'), ('the', 'DET')]\n"
     ]
    }
   ],
   "source": [
    "tagged_words = [tup for sent in nltk_data for tup in sent]\n",
    "print('Length of tagged words: ',len(tagged_words))\n",
    "print('10 sample tagged words with word and POS tag: ',tagged_words[:10])"
   ]
  },
  {
   "cell_type": "markdown",
   "metadata": {},
   "source": [
    "We now have a list of about `100676` (word, tag) tuples. Let's now do some exploratory analyses."
   ]
  },
  {
   "cell_type": "markdown",
   "metadata": {},
   "source": [
    "## 2. Exploratory Analysis\n",
    "\n",
    "Let's now conduct some basic exploratory analysis to understand the tagged corpus. \n",
    "\n"
   ]
  },
  {
   "cell_type": "markdown",
   "metadata": {},
   "source": [
    "#### 2.1 Number of unique POS tags in the corpus"
   ]
  },
  {
   "cell_type": "code",
   "execution_count": 5,
   "metadata": {},
   "outputs": [
    {
     "data": {
      "text/plain": [
       "12"
      ]
     },
     "execution_count": 5,
     "metadata": {},
     "output_type": "execute_result"
    }
   ],
   "source": [
    "# We can use the set() function on the list of tags to get a unique set of tags, \n",
    "# and compute its length\n",
    "tags = [pair[1] for pair in tagged_words]\n",
    "unique_tags = set(tags)\n",
    "len(unique_tags)"
   ]
  },
  {
   "cell_type": "markdown",
   "metadata": {},
   "source": [
    "There are 12 unique tags in the corpus as expected"
   ]
  },
  {
   "cell_type": "markdown",
   "metadata": {},
   "source": [
    "#### 2.2 Most frequent tags in the corpus"
   ]
  },
  {
   "cell_type": "code",
   "execution_count": 6,
   "metadata": {},
   "outputs": [
    {
     "data": {
      "text/plain": [
       "Counter({'NOUN': 28867,\n",
       "         '.': 11715,\n",
       "         'NUM': 3546,\n",
       "         'ADJ': 6397,\n",
       "         'VERB': 13564,\n",
       "         'DET': 8725,\n",
       "         'ADP': 9857,\n",
       "         'CONJ': 2265,\n",
       "         'X': 6613,\n",
       "         'ADV': 3171,\n",
       "         'PRT': 3219,\n",
       "         'PRON': 2737})"
      ]
     },
     "execution_count": 6,
     "metadata": {},
     "output_type": "execute_result"
    }
   ],
   "source": [
    "# To count the frequency of elements in a list, the Counter() class from collections\n",
    "# module is very useful, as shown below\n",
    "\n",
    "from collections import Counter\n",
    "tag_counts = Counter(tags)\n",
    "tag_counts"
   ]
  },
  {
   "cell_type": "markdown",
   "metadata": {},
   "source": [
    "Most frequent tags include `Noun`, `.` ,`NUM` etc"
   ]
  },
  {
   "cell_type": "markdown",
   "metadata": {},
   "source": [
    "#### 2.3 Most frequent words in the corpus"
   ]
  },
  {
   "cell_type": "code",
   "execution_count": 7,
   "metadata": {},
   "outputs": [
    {
     "data": {
      "text/plain": [
       "[(',', 4885),\n",
       " ('the', 4045),\n",
       " ('.', 3828),\n",
       " ('of', 2319),\n",
       " ('to', 2164),\n",
       " ('a', 1878),\n",
       " ('in', 1572),\n",
       " ('and', 1511),\n",
       " ('*-1', 1123),\n",
       " ('0', 1099),\n",
       " ('*', 965),\n",
       " (\"'s\", 864),\n",
       " ('for', 817),\n",
       " ('that', 807),\n",
       " ('*T*-1', 806),\n",
       " ('*U*', 744),\n",
       " ('$', 718),\n",
       " ('The', 717),\n",
       " ('``', 702),\n",
       " (\"''\", 684),\n",
       " ('is', 671),\n",
       " ('said', 628),\n",
       " ('on', 490),\n",
       " ('it', 476),\n",
       " ('%', 446),\n",
       " ('by', 429),\n",
       " ('at', 402),\n",
       " ('with', 387),\n",
       " ('from', 386),\n",
       " ('as', 385),\n",
       " ('million', 383),\n",
       " ('Mr.', 375),\n",
       " ('*-2', 372),\n",
       " ('are', 369),\n",
       " ('was', 367),\n",
       " ('be', 356),\n",
       " ('*T*-2', 345),\n",
       " ('has', 339),\n",
       " ('its', 332),\n",
       " (\"n't\", 325),\n",
       " ('have', 323),\n",
       " ('an', 316),\n",
       " ('or', 291),\n",
       " ('will', 281),\n",
       " ('company', 260),\n",
       " ('--', 230),\n",
       " ('he', 230),\n",
       " ('which', 225),\n",
       " ('U.S.', 221),\n",
       " ('year', 212),\n",
       " ('they', 210),\n",
       " ('says', 210),\n",
       " ('would', 209),\n",
       " ('about', 206),\n",
       " ('more', 198),\n",
       " ('were', 197),\n",
       " ('In', 197),\n",
       " ('this', 184),\n",
       " ('their', 181),\n",
       " ('than', 180),\n",
       " ('market', 176),\n",
       " (';', 171),\n",
       " ('New', 165),\n",
       " ('had', 165),\n",
       " ('who', 163),\n",
       " ('new', 162),\n",
       " ('trading', 162),\n",
       " ('billion', 159),\n",
       " ('But', 158),\n",
       " ('up', 153),\n",
       " ('but', 151),\n",
       " ('been', 150),\n",
       " ('also', 147),\n",
       " (':', 142),\n",
       " ('stock', 136),\n",
       " ('other', 134),\n",
       " ('president', 133),\n",
       " ('not', 133),\n",
       " ('one', 132),\n",
       " ('*-3', 130),\n",
       " ('program', 127),\n",
       " ('some', 122),\n",
       " ('his', 121),\n",
       " ('could', 120),\n",
       " ('share', 119),\n",
       " ('because', 118),\n",
       " ('Corp.', 117),\n",
       " ('years', 115),\n",
       " ('I', 115),\n",
       " ('shares', 114),\n",
       " ('-RRB-', 112),\n",
       " ('A', 110),\n",
       " ('York', 107),\n",
       " ('-LRB-', 106),\n",
       " ('any', 105),\n",
       " ('all', 103),\n",
       " ('two', 103),\n",
       " ('It', 100),\n",
       " ('Inc.', 97),\n",
       " ('*T*-3', 97),\n",
       " ('can', 94),\n",
       " ('Japanese', 91),\n",
       " ('last', 90),\n",
       " ('no', 87),\n",
       " ('such', 87),\n",
       " ('into', 87),\n",
       " ('&', 86),\n",
       " ('prices', 86),\n",
       " ('do', 85),\n",
       " ('government', 83),\n",
       " ('many', 83),\n",
       " ('over', 82),\n",
       " ('if', 81),\n",
       " ('only', 78),\n",
       " ('after', 78),\n",
       " ('out', 78),\n",
       " ('when', 77),\n",
       " ('she', 77),\n",
       " ('business', 76),\n",
       " ('most', 75),\n",
       " ('say', 75),\n",
       " ('first', 75),\n",
       " ('Japan', 75),\n",
       " ('Co.', 74),\n",
       " ('make', 73),\n",
       " (\"'\", 73),\n",
       " ('He', 73),\n",
       " ('recent', 72),\n",
       " ('so', 71),\n",
       " ('*ICH*-1', 70),\n",
       " ('you', 70),\n",
       " ('may', 70),\n",
       " ('them', 70),\n",
       " ('cents', 70),\n",
       " ('even', 68),\n",
       " ('executive', 68),\n",
       " ('there', 68),\n",
       " ('funds', 67),\n",
       " ('next', 67),\n",
       " ('American', 67),\n",
       " ('stocks', 67),\n",
       " ('price', 66),\n",
       " ('index', 64),\n",
       " ('investors', 63),\n",
       " ('time', 63),\n",
       " ('companies', 63),\n",
       " ('futures', 63),\n",
       " ('did', 62),\n",
       " ('now', 61),\n",
       " ('rose', 61),\n",
       " ('October', 61),\n",
       " ('yesterday', 61),\n",
       " ('under', 60),\n",
       " ('issue', 60),\n",
       " ('much', 60),\n",
       " ('sales', 59),\n",
       " ('bonds', 59),\n",
       " ('months', 59),\n",
       " ('profit', 58),\n",
       " ('Mrs.', 58),\n",
       " ('common', 57),\n",
       " ('like', 57),\n",
       " ('made', 56),\n",
       " ('down', 56),\n",
       " ('people', 56),\n",
       " ('investment', 56),\n",
       " ('yen', 56),\n",
       " ('those', 55),\n",
       " ('these', 55),\n",
       " ('week', 55),\n",
       " ('House', 55),\n",
       " ('does', 54),\n",
       " ('interest', 53),\n",
       " ('money', 53),\n",
       " ('They', 53),\n",
       " ('markets', 53),\n",
       " ('buy', 53),\n",
       " ('expected', 52),\n",
       " ('what', 52),\n",
       " ('days', 51),\n",
       " ('federal', 51),\n",
       " ('chief', 51),\n",
       " ('banks', 51),\n",
       " ('10', 51),\n",
       " ('her', 51),\n",
       " ('net', 51),\n",
       " ('rates', 50),\n",
       " ('since', 50),\n",
       " ('trade', 50),\n",
       " ('Exchange', 50),\n",
       " ('higher', 49),\n",
       " ('while', 49),\n",
       " ('own', 49),\n",
       " ('before', 48),\n",
       " ('three', 48),\n",
       " ('yield', 48),\n",
       " ('earlier', 48),\n",
       " ('plan', 48),\n",
       " ('we', 48),\n",
       " ('take', 48),\n",
       " ('traders', 48),\n",
       " ('30', 47),\n",
       " ('We', 47),\n",
       " ('officials', 47),\n",
       " ('offer', 47),\n",
       " ('get', 47),\n",
       " ('Tuesday', 46),\n",
       " ('well', 46),\n",
       " ('Congress', 46),\n",
       " ('debt', 46),\n",
       " ('country', 46),\n",
       " ('50', 46),\n",
       " ('sell', 46),\n",
       " ('chairman', 45),\n",
       " ('number', 45),\n",
       " ('*?*', 45),\n",
       " ('off', 45),\n",
       " ('1988', 45),\n",
       " ('vice', 44),\n",
       " ('And', 44),\n",
       " ('just', 44),\n",
       " ('might', 44),\n",
       " ('month', 44),\n",
       " ('small', 44),\n",
       " ('major', 44),\n",
       " ('Bush', 44),\n",
       " ('Department', 44),\n",
       " ('group', 43),\n",
       " ('early', 43),\n",
       " ('cash', 43),\n",
       " ('1990', 43),\n",
       " ('1', 43),\n",
       " ('help', 43),\n",
       " ('Board', 43),\n",
       " ('Chicago', 43),\n",
       " ('rate', 42),\n",
       " ('good', 42),\n",
       " ('another', 42),\n",
       " ('financial', 42),\n",
       " ('through', 42),\n",
       " ('September', 42),\n",
       " ('15', 42),\n",
       " ('concern', 42),\n",
       " ('income', 42),\n",
       " ('fiscal', 42),\n",
       " ('Treasury', 41),\n",
       " ('industry', 41),\n",
       " ('economic', 41),\n",
       " ('pay', 41),\n",
       " ('This', 40),\n",
       " ('managers', 40),\n",
       " ('South', 40),\n",
       " ('1989', 40),\n",
       " ('That', 40),\n",
       " ('added', 40),\n",
       " ('less', 40),\n",
       " ('100', 40),\n",
       " ('firm', 40),\n",
       " ('report', 40),\n",
       " ('?', 40),\n",
       " ('If', 40),\n",
       " ('sold', 39),\n",
       " ('including', 39),\n",
       " ('growth', 39),\n",
       " ('spokesman', 39),\n",
       " ('investor', 39),\n",
       " ('part', 39),\n",
       " ('due', 39),\n",
       " ('ago', 38),\n",
       " ('should', 38),\n",
       " ('during', 38),\n",
       " ('First', 38),\n",
       " ('500', 38),\n",
       " ('use', 38),\n",
       " ('earnings', 38),\n",
       " ('Street', 38),\n",
       " ('bank', 38),\n",
       " ('reported', 37),\n",
       " ('contract', 37),\n",
       " ('same', 37),\n",
       " ('big', 37),\n",
       " ('each', 37),\n",
       " ('law', 37),\n",
       " ('Wall', 37),\n",
       " ('Yeargin', 37),\n",
       " ('Columbia', 37),\n",
       " ('unit', 36),\n",
       " ('For', 36),\n",
       " ('still', 36),\n",
       " ('between', 36),\n",
       " ('bid', 36),\n",
       " ('Stock', 36),\n",
       " ('Cray', 36),\n",
       " ('8', 36),\n",
       " ('issues', 36),\n",
       " ('test', 36),\n",
       " ('quarter', 36),\n",
       " ('court', 35),\n",
       " ('already', 35),\n",
       " ('Big', 35),\n",
       " ('both', 35),\n",
       " ('S&P', 35),\n",
       " ('*-4', 34),\n",
       " ('*ICH*-2', 34),\n",
       " ('according', 34),\n",
       " ('where', 34),\n",
       " ('*RNR*-1', 34),\n",
       " ('John', 34),\n",
       " ('against', 34),\n",
       " ('firms', 34),\n",
       " ('right', 34),\n",
       " ('plans', 34),\n",
       " ('research', 33),\n",
       " ('few', 33),\n",
       " ('securities', 33),\n",
       " ('International', 33),\n",
       " ('below', 33),\n",
       " ('compared', 33),\n",
       " ('being', 33),\n",
       " ('*EXP*-1', 33),\n",
       " ('bill', 33),\n",
       " ('director', 32),\n",
       " ('used', 32),\n",
       " ('There', 32),\n",
       " ('products', 32),\n",
       " ('far', 32),\n",
       " ('average', 32),\n",
       " ('current', 32),\n",
       " ('fell', 32),\n",
       " ('capital', 32),\n",
       " ('began', 32),\n",
       " ('officer', 32),\n",
       " ('state', 32),\n",
       " ('several', 32),\n",
       " ('loss', 32),\n",
       " ('1987', 32),\n",
       " ('Bank', 32),\n",
       " ('notes', 32),\n",
       " ('high', 31),\n",
       " ('among', 31),\n",
       " ('very', 31),\n",
       " ('based', 31),\n",
       " ('until', 31),\n",
       " ('increase', 31),\n",
       " ('lower', 31),\n",
       " ('six', 31),\n",
       " ('construction', 31),\n",
       " ('students', 31),\n",
       " ('points', 31),\n",
       " ('board', 30),\n",
       " ('problem', 30),\n",
       " ('end', 30),\n",
       " ('2', 30),\n",
       " ('way', 30),\n",
       " ('around', 30),\n",
       " ('closed', 30),\n",
       " ('record', 30),\n",
       " ('As', 30),\n",
       " ('analysts', 30),\n",
       " ('charge', 30),\n",
       " ('administration', 30),\n",
       " (\"'re\", 29),\n",
       " ('five', 29),\n",
       " ('large', 29),\n",
       " ('though', 29),\n",
       " ('point', 29),\n",
       " ('operations', 29),\n",
       " ('without', 29),\n",
       " ('demand', 29),\n",
       " ('past', 29),\n",
       " ('set', 29),\n",
       " ('case', 29),\n",
       " ('orders', 29),\n",
       " ('public', 29),\n",
       " ('want', 29),\n",
       " ('see', 29),\n",
       " ('junk', 29),\n",
       " ('whether', 28),\n",
       " ('paper', 28),\n",
       " ('took', 28),\n",
       " ('maker', 28),\n",
       " ('return', 28),\n",
       " ('ad', 28),\n",
       " ('largest', 28),\n",
       " ('At', 28),\n",
       " ('problems', 28),\n",
       " ('President', 28),\n",
       " ('cut', 28),\n",
       " ('3\\\\/4', 28),\n",
       " ('work', 27),\n",
       " ('example', 27),\n",
       " ('sale', 27),\n",
       " ('then', 27),\n",
       " ('manager', 27),\n",
       " ('department', 27),\n",
       " ('1\\\\/2', 27),\n",
       " ('Securities', 27),\n",
       " ('close', 27),\n",
       " ('action', 27),\n",
       " ('analyst', 27),\n",
       " ('Campbell', 27),\n",
       " ('our', 26),\n",
       " ('information', 26),\n",
       " ('us', 26),\n",
       " ('future', 26),\n",
       " ('economy', 26),\n",
       " ('offered', 26),\n",
       " ('spending', 26),\n",
       " ('costs', 26),\n",
       " ('long', 26),\n",
       " ('move', 26),\n",
       " ('operating', 26),\n",
       " ('additional', 26),\n",
       " ('Group', 26),\n",
       " ('priced', 26),\n",
       " ('certain', 26),\n",
       " ('London', 26),\n",
       " ('members', 26),\n",
       " ('13', 26),\n",
       " ('bond', 26),\n",
       " ('California', 26),\n",
       " ('suspension', 26),\n",
       " ('recently', 25),\n",
       " ('period', 25),\n",
       " ('approved', 25),\n",
       " ('20', 25),\n",
       " ('nation', 25),\n",
       " ('corporate', 25),\n",
       " ('fine', 25),\n",
       " ('come', 25),\n",
       " ('noted', 25),\n",
       " ('purchase', 25),\n",
       " ('power', 25),\n",
       " ('While', 25),\n",
       " ('China', 25),\n",
       " ('offering', 25),\n",
       " ('how', 25),\n",
       " ('Oct.', 25),\n",
       " ('low', 25),\n",
       " ('back', 25),\n",
       " ('services', 25),\n",
       " ('appropriations', 25),\n",
       " ('old', 24),\n",
       " ('Nov.', 24),\n",
       " ('total', 24),\n",
       " ('ended', 24),\n",
       " ('service', 24),\n",
       " ('division', 24),\n",
       " ('fall', 24),\n",
       " ('news', 24),\n",
       " ('value', 24),\n",
       " ('possible', 24),\n",
       " ('Robert', 24),\n",
       " ('strong', 24),\n",
       " ('least', 24),\n",
       " ('You', 24),\n",
       " ('40', 24),\n",
       " ('result', 24),\n",
       " ('little', 24),\n",
       " ('stake', 24),\n",
       " ('often', 24),\n",
       " ('however', 24),\n",
       " ('contracts', 24),\n",
       " ('Tokyo', 24),\n",
       " ('Some', 24),\n",
       " ('commercial', 24),\n",
       " ('England', 23),\n",
       " ('*T*-4', 23),\n",
       " ('found', 23),\n",
       " ('force', 23),\n",
       " ('day', 23),\n",
       " ('William', 23),\n",
       " ('increased', 23),\n",
       " ('magazine', 23),\n",
       " ('Washington', 23),\n",
       " ('become', 23),\n",
       " ('local', 23),\n",
       " ('customers', 23),\n",
       " ('12', 23),\n",
       " ('addition', 23),\n",
       " ('face', 23),\n",
       " ('half', 23),\n",
       " ('growing', 23),\n",
       " ('foreign', 23),\n",
       " ('computer', 23),\n",
       " ('office', 23),\n",
       " ('dividend', 23),\n",
       " ('think', 23),\n",
       " ('your', 23),\n",
       " ('programs', 23),\n",
       " ('safety', 23),\n",
       " ('Georgia', 23),\n",
       " ('veto', 23),\n",
       " ('sugar', 23),\n",
       " ('USX', 23),\n",
       " ('named', 22),\n",
       " ('latest', 22),\n",
       " ('today', 22),\n",
       " ('likely', 22),\n",
       " ('James', 22),\n",
       " ('University', 22),\n",
       " ('support', 22),\n",
       " ('almost', 22),\n",
       " ('go', 22),\n",
       " ('currently', 22),\n",
       " ('management', 22),\n",
       " ('manufacturing', 22),\n",
       " ('trying', 22),\n",
       " ('gains', 22),\n",
       " ('too', 22),\n",
       " ('proposed', 22),\n",
       " ('received', 22),\n",
       " ('weeks', 22),\n",
       " ('world', 22),\n",
       " ('legislation', 22),\n",
       " ('These', 22),\n",
       " ('cases', 22),\n",
       " ('So', 22),\n",
       " ('II', 22),\n",
       " ('production', 22),\n",
       " ('put', 22),\n",
       " ('declined', 22),\n",
       " ('change', 22),\n",
       " ('school', 22),\n",
       " ('questions', 22),\n",
       " ('card', 22),\n",
       " ('arbitrage', 22),\n",
       " ('results', 21),\n",
       " ('different', 21),\n",
       " ('countries', 21),\n",
       " ('plant', 21),\n",
       " ('dividends', 21),\n",
       " ('raise', 21),\n",
       " ('general', 21),\n",
       " ('When', 21),\n",
       " ('Association', 21),\n",
       " ('held', 21),\n",
       " ('give', 21),\n",
       " ('full', 21),\n",
       " ('decline', 21),\n",
       " ('Federal', 21),\n",
       " ('Edison', 21),\n",
       " ('Research', 21),\n",
       " ('came', 21),\n",
       " ('She', 21),\n",
       " ('product', 21),\n",
       " ('level', 21),\n",
       " ('payments', 21),\n",
       " ('outstanding', 21),\n",
       " ('Union', 21),\n",
       " ('credit', 21),\n",
       " ('rise', 21),\n",
       " ('never', 21),\n",
       " ('proposal', 21),\n",
       " ('family', 21),\n",
       " ('One', 21),\n",
       " ('exchange', 21),\n",
       " ('High', 21),\n",
       " ('volume', 21),\n",
       " ('takeover', 21),\n",
       " ('transactions', 21),\n",
       " ('America', 21),\n",
       " ('15,000', 21),\n",
       " ('limit', 21),\n",
       " ('trades', 21),\n",
       " ('volatility', 21),\n",
       " ('ringers', 21),\n",
       " ('Hahn', 21),\n",
       " ('workers', 20),\n",
       " ('National', 20),\n",
       " ('making', 20),\n",
       " ('continue', 20),\n",
       " ('shareholders', 20),\n",
       " ('holding', 20),\n",
       " ('transaction', 20),\n",
       " ('senior', 20),\n",
       " ('four', 20),\n",
       " ('official', 20),\n",
       " ('3', 20),\n",
       " ('estimated', 20),\n",
       " ('called', 20),\n",
       " ('paid', 20),\n",
       " ('rights', 20),\n",
       " ('designed', 20),\n",
       " ('here', 20),\n",
       " ('7', 20),\n",
       " ('talks', 20),\n",
       " ('private', 20),\n",
       " ('going', 20),\n",
       " ('employees', 20),\n",
       " ('deal', 20),\n",
       " ('Rep.', 20),\n",
       " ('funding', 20),\n",
       " ('Dow', 20),\n",
       " ('Jones', 20),\n",
       " ('Gulf', 20),\n",
       " ('former', 19),\n",
       " ('place', 19),\n",
       " ('bills', 19),\n",
       " ('fees', 19),\n",
       " ('Ltd.', 19),\n",
       " ('expects', 19),\n",
       " ('decision', 19),\n",
       " ('executives', 19),\n",
       " ('cars', 19),\n",
       " ('Korea', 19),\n",
       " ('5', 19),\n",
       " ('drop', 19),\n",
       " ('What', 19),\n",
       " ('United', 19),\n",
       " ('political', 19),\n",
       " ('seeking', 19),\n",
       " ('amount', 19),\n",
       " ('every', 19),\n",
       " ('previous', 19),\n",
       " ('Sales', 19),\n",
       " ('comment', 19),\n",
       " ('enough', 19),\n",
       " ('restructuring', 19),\n",
       " ('better', 19),\n",
       " ('Soviet', 19),\n",
       " ('lead', 19),\n",
       " ('must', 19),\n",
       " ('gain', 19),\n",
       " ('pressure', 19),\n",
       " ('health', 19),\n",
       " ('wo', 19),\n",
       " ('banking', 19),\n",
       " ('San', 19),\n",
       " ('Inc', 19),\n",
       " ('stock-index', 19),\n",
       " ('bells', 19),\n",
       " ('Express', 19),\n",
       " ('corn', 19),\n",
       " ('industrial', 18),\n",
       " ('A.', 18),\n",
       " ('18', 18),\n",
       " ('August', 18),\n",
       " ('institutions', 18),\n",
       " ('9', 18),\n",
       " ('thrift', 18),\n",
       " ('Senate', 18),\n",
       " ('increasing', 18),\n",
       " ('saying', 18),\n",
       " ('got', 18),\n",
       " ('owns', 18),\n",
       " ('order', 18),\n",
       " ('performance', 18),\n",
       " ('March', 18),\n",
       " ('development', 18),\n",
       " ('1991', 18),\n",
       " ('terms', 18),\n",
       " ('international', 18),\n",
       " ('home', 18),\n",
       " ('acquired', 18),\n",
       " ('finance', 18),\n",
       " ('An', 18),\n",
       " ('clients', 18),\n",
       " ('buying', 18),\n",
       " ('oil', 18),\n",
       " ('above', 18),\n",
       " ('run', 18),\n",
       " ('conditions', 18),\n",
       " ('real', 18),\n",
       " ('job', 18),\n",
       " ('Industries', 18),\n",
       " ('insurance', 18),\n",
       " ('effect', 18),\n",
       " ('my', 18),\n",
       " ('need', 18),\n",
       " ('gained', 18),\n",
       " ('10,000', 18),\n",
       " ('Nixon', 18),\n",
       " ('fined', 18),\n",
       " ('wage', 18),\n",
       " ('Buick', 18),\n",
       " ('form', 17),\n",
       " ('Boston', 17),\n",
       " ('team', 17),\n",
       " ('particularly', 17),\n",
       " ('further', 17),\n",
       " ('investments', 17),\n",
       " ('reached', 17),\n",
       " ('annual', 17),\n",
       " ('marketing', 17),\n",
       " ('city', 17),\n",
       " ('On', 17),\n",
       " ('away', 17),\n",
       " ('announced', 17),\n",
       " ('11', 17),\n",
       " ('equity', 17),\n",
       " ('composite', 17),\n",
       " ('Commerce', 17),\n",
       " ('Dec.', 17),\n",
       " ('1985', 17),\n",
       " ('tax', 17),\n",
       " ('control', 17),\n",
       " ('filed', 17),\n",
       " ('assets', 17),\n",
       " ('agreement', 17),\n",
       " ('system', 17),\n",
       " ('became', 17),\n",
       " ('White', 17),\n",
       " ('dollars', 17),\n",
       " ('seek', 17),\n",
       " ('nearly', 17),\n",
       " ('agreed', 17),\n",
       " ('Michael', 17),\n",
       " ('late', 17),\n",
       " ('6', 17),\n",
       " ('survey', 17),\n",
       " ('sector', 17),\n",
       " ('included', 17),\n",
       " ('important', 17),\n",
       " ('agency', 17),\n",
       " ('charges', 17),\n",
       " ('To', 17),\n",
       " ('Many', 17),\n",
       " ('wine', 17),\n",
       " ('package', 17),\n",
       " ('using', 16),\n",
       " ('led', 16),\n",
       " ('times', 16),\n",
       " ('Financial', 16),\n",
       " ('meeting', 16),\n",
       " ('decided', 16),\n",
       " ('food', 16),\n",
       " ('Wednesday', 16),\n",
       " ('4', 16),\n",
       " ('keep', 16),\n",
       " ('cost', 16),\n",
       " ('yet', 16),\n",
       " ('...', 16),\n",
       " ('increases', 16),\n",
       " ('Commission', 16),\n",
       " ('City', 16),\n",
       " ('R.', 16),\n",
       " ('31', 16),\n",
       " ('Texas', 16),\n",
       " ('disclosed', 16),\n",
       " ('him', 16),\n",
       " ('able', 16),\n",
       " ('rather', 16),\n",
       " ('principal', 16),\n",
       " ('Shearson', 16),\n",
       " ('changes', 16),\n",
       " ('Co', 16),\n",
       " ('find', 16),\n",
       " ('clear', 16),\n",
       " ('failed', 16),\n",
       " ('activity', 16),\n",
       " ('materials', 16),\n",
       " ('delivery', 16),\n",
       " ('tests', 16),\n",
       " ('taken', 16),\n",
       " ('know', 16),\n",
       " ('region', 16),\n",
       " ('following', 16),\n",
       " ('coming', 16),\n",
       " ('light', 16),\n",
       " (\"'ve\", 16),\n",
       " ('loan', 16),\n",
       " ('Also', 16),\n",
       " ('violations', 16),\n",
       " ('Calif.', 16),\n",
       " ('dollar', 16),\n",
       " ('Sea', 16),\n",
       " ('Containers', 16),\n",
       " ('car', 16),\n",
       " ('Ford', 16),\n",
       " ('#', 16),\n",
       " ('farmers', 16),\n",
       " ('UAL', 16),\n",
       " ('Moody', 16),\n",
       " ('Institute', 15),\n",
       " ('closely', 15),\n",
       " ('nations', 15),\n",
       " ('D.', 15),\n",
       " ('acquisition', 15),\n",
       " ('completed', 15),\n",
       " ('J.', 15),\n",
       " ('special', 15),\n",
       " ('free', 15),\n",
       " ('World', 15),\n",
       " ('potential', 15),\n",
       " ('fact', 15),\n",
       " ('Judge', 15),\n",
       " ('trucks', 15),\n",
       " ('Hills', 15),\n",
       " ('17', 15),\n",
       " ('reports', 15),\n",
       " ('computers', 15),\n",
       " ('built', 15),\n",
       " ('via', 15),\n",
       " ('raised', 15),\n",
       " ('buy-out', 15),\n",
       " ('traded', 15),\n",
       " ('Asia', 15),\n",
       " ('always', 15),\n",
       " ('dealers', 15),\n",
       " ('women', 15),\n",
       " ('needed', 15),\n",
       " ('Mitsubishi', 15),\n",
       " ('campaign', 15),\n",
       " ('across', 15),\n",
       " ('policy', 15),\n",
       " ('budget', 15),\n",
       " ('School', 15),\n",
       " ('things', 15),\n",
       " ('third', 15),\n",
       " ('lost', 15),\n",
       " ('statement', 15),\n",
       " ('St.', 15),\n",
       " ('wines', 15),\n",
       " ('NL', 15),\n",
       " ('Phelan', 15),\n",
       " ('grain', 15),\n",
       " ('3\\\\/8', 15),\n",
       " ('once', 14),\n",
       " ('Although', 14),\n",
       " ('probably', 14),\n",
       " ('kind', 14),\n",
       " ('huge', 14),\n",
       " ('question', 14),\n",
       " ('continued', 14),\n",
       " ('again', 14),\n",
       " ('short-term', 14),\n",
       " ('Under', 14),\n",
       " ('Trade', 14),\n",
       " ('second', 14),\n",
       " ('paying', 14),\n",
       " ('matter', 14),\n",
       " ('holders', 14),\n",
       " ('review', 14),\n",
       " ('Commonwealth', 14),\n",
       " ('State', 14),\n",
       " ('whose', 14),\n",
       " ('Last', 14),\n",
       " ('rule', 14),\n",
       " ('working', 14),\n",
       " ('include', 14),\n",
       " ('believe', 14),\n",
       " ('receive', 14),\n",
       " ('posted', 14),\n",
       " ('software', 14),\n",
       " ('All', 14),\n",
       " ('-LCB-', 14),\n",
       " ('-RCB-', 14),\n",
       " ('aid', 14),\n",
       " ('bad', 14),\n",
       " ('David', 14),\n",
       " ('significant', 14),\n",
       " ('wants', 14),\n",
       " ('personal', 14),\n",
       " ('data', 14),\n",
       " ('capacity', 14),\n",
       " ('scheduled', 14),\n",
       " ('Thomas', 14),\n",
       " ('despite', 14),\n",
       " ('went', 14),\n",
       " ('June', 14),\n",
       " ('regulators', 14),\n",
       " ('available', 14),\n",
       " ('long-term', 14),\n",
       " ('Johnson', 14),\n",
       " ('indicated', 14),\n",
       " ('purchasing', 14),\n",
       " ('building', 14),\n",
       " ('provide', 14),\n",
       " ('helped', 14),\n",
       " ('thing', 14),\n",
       " ('Ms.', 14),\n",
       " ('life', 14),\n",
       " ('line', 14),\n",
       " ('planned', 14),\n",
       " ('look', 14),\n",
       " ('goes', 14),\n",
       " ('lawyers', 14),\n",
       " ('jobs', 14),\n",
       " ('told', 14),\n",
       " ('others', 14),\n",
       " ('cause', 14),\n",
       " ('IRS', 14),\n",
       " ('Francisco', 14),\n",
       " ('December', 14),\n",
       " ('minimum', 14),\n",
       " ('General', 14),\n",
       " ('U.K.', 14),\n",
       " ('apparently', 14),\n",
       " ('Voice', 14),\n",
       " ('rating', 14),\n",
       " ('publishing', 13),\n",
       " ('PLC', 13),\n",
       " ('caused', 13),\n",
       " ('researchers', 13),\n",
       " ('show', 13),\n",
       " ('later', 13),\n",
       " ('Dr.', 13),\n",
       " ('Among', 13),\n",
       " ('study', 13),\n",
       " ('West', 13),\n",
       " ('Western', 13),\n",
       " ('process', 13),\n",
       " ('continues', 13),\n",
       " ('fund', 13),\n",
       " ('savings', 13),\n",
       " ('dropped', 13),\n",
       " ('auto', 13),\n",
       " ('position', 13),\n",
       " ('showed', 13),\n",
       " ('advertising', 13),\n",
       " ('advertisers', 13),\n",
       " ('concerns', 13),\n",
       " ('25', 13),\n",
       " ('consumer', 13),\n",
       " ('ordered', 13),\n",
       " ('Richard', 13),\n",
       " ('April', 13),\n",
       " ('changed', 13),\n",
       " ('domestic', 13),\n",
       " ('*ICH*-3', 13),\n",
       " ('60', 13),\n",
       " ('Computer', 13),\n",
       " ('financing', 13),\n",
       " ('although', 13),\n",
       " ('Fujitsu', 13),\n",
       " ('continuing', 13),\n",
       " ('slow', 13),\n",
       " ('launched', 13),\n",
       " ('convertible', 13),\n",
       " ('preferred', 13),\n",
       " ('gives', 13),\n",
       " ('70', 13),\n",
       " ('reduce', 13),\n",
       " ('90', 13),\n",
       " ('individual', 13),\n",
       " (\"'m\", 13),\n",
       " ('levels', 13),\n",
       " ('quickly', 13),\n",
       " ('goods', 13),\n",
       " ('generally', 13),\n",
       " ('leading', 13),\n",
       " ('committee', 13),\n",
       " ('evidence', 13),\n",
       " ('export', 13),\n",
       " ('short', 13),\n",
       " ('strike', 13),\n",
       " ('Sony', 13),\n",
       " ('something', 13),\n",
       " ('newspaper', 13),\n",
       " ('person', 13),\n",
       " ('situation', 13),\n",
       " ('abortion', 13),\n",
       " ('wanted', 13),\n",
       " ('known', 13),\n",
       " ('remains', 13),\n",
       " ('Greenville', 13),\n",
       " ('teacher', 13),\n",
       " ('Carolina', 13),\n",
       " ('alleged', 13),\n",
       " ('states', 13),\n",
       " ('Scoring', 13),\n",
       " ('Ward', 13),\n",
       " ('7\\\\/8', 13),\n",
       " ('5\\\\/8', 13),\n",
       " ('third-quarter', 13),\n",
       " ('pretax', 13),\n",
       " ('losses', 13),\n",
       " ('Sept.', 13),\n",
       " ('drug', 13),\n",
       " ('Justice', 13),\n",
       " ('profits', 13),\n",
       " ('Los', 13),\n",
       " ('within', 13),\n",
       " ('departure', 13),\n",
       " ('Program', 13),\n",
       " ('airline', 13),\n",
       " ('Herald', 13),\n",
       " ('Hearst', 13),\n",
       " ('antitrust', 13),\n",
       " ('pence', 13),\n",
       " ('Drexel', 13),\n",
       " ('Wedtech', 13),\n",
       " ('risk', 12),\n",
       " ('factory', 12),\n",
       " ('ban', 12),\n",
       " ('Fund', 12),\n",
       " ('sign', 12),\n",
       " ('Monday', 12),\n",
       " ('top', 12),\n",
       " ('authority', 12),\n",
       " ('act', 12),\n",
       " ('makers', 12),\n",
       " ('Valley', 12),\n",
       " ('followed', 12),\n",
       " ('nine', 12),\n",
       " ('figures', 12),\n",
       " ('imports', 12),\n",
       " ('remain', 12),\n",
       " ('January', 12),\n",
       " ...]"
      ]
     },
     "execution_count": 7,
     "metadata": {},
     "output_type": "execute_result"
    }
   ],
   "source": [
    "words = [pair[0] for pair in tagged_words]\n",
    "word_counts = Counter(words)\n",
    "word_counts.most_common()"
   ]
  },
  {
   "cell_type": "markdown",
   "metadata": {},
   "source": [
    "As seen most frequent words appearing in corpus are `,`,`the`,`.`,`of` etc "
   ]
  },
  {
   "cell_type": "markdown",
   "metadata": {},
   "source": [
    "#### 2.4 The most common tags can be seen using the most_common() method of Counter\n"
   ]
  },
  {
   "cell_type": "code",
   "execution_count": 8,
   "metadata": {},
   "outputs": [
    {
     "data": {
      "text/plain": [
       "[('NOUN', 28867), ('VERB', 13564), ('.', 11715), ('ADP', 9857), ('DET', 8725)]"
      ]
     },
     "execution_count": 8,
     "metadata": {},
     "output_type": "execute_result"
    }
   ],
   "source": [
    "tag_counts.most_common(5)"
   ]
  },
  {
   "cell_type": "markdown",
   "metadata": {},
   "source": [
    "Thus, NOUN is the most common tag followed by `VERB`, `.`, `ADP`, `DET` etc."
   ]
  },
  {
   "cell_type": "markdown",
   "metadata": {},
   "source": [
    "#### 2.5 Checking most commonly assigned tag to the random words"
   ]
  },
  {
   "cell_type": "code",
   "execution_count": 9,
   "metadata": {
    "scrolled": true
   },
   "outputs": [
    {
     "data": {
      "text/plain": [
       "Counter({('the', 'DET'): 4038,\n",
       "         ('The', 'DET'): 713,\n",
       "         ('The', 'NOUN'): 4,\n",
       "         ('the', 'NOUN'): 1,\n",
       "         ('the', 'ADJ'): 5,\n",
       "         ('THE', 'DET'): 2,\n",
       "         ('the', 'NUM'): 1})"
      ]
     },
     "execution_count": 9,
     "metadata": {},
     "output_type": "execute_result"
    }
   ],
   "source": [
    "bank = [pair for pair in tagged_words if pair[0].lower() == 'the']\n",
    "Counter(bank)"
   ]
  },
  {
   "cell_type": "markdown",
   "metadata": {},
   "source": [
    "Most common tagged assigned to tag `the` is `DET`"
   ]
  },
  {
   "cell_type": "code",
   "execution_count": 10,
   "metadata": {
    "scrolled": true
   },
   "outputs": [
    {
     "data": {
      "text/plain": [
       "Counter({('executive', 'NOUN'): 40, ('executive', 'ADJ'): 28})"
      ]
     },
     "execution_count": 10,
     "metadata": {},
     "output_type": "execute_result"
    }
   ],
   "source": [
    "executive = [pair for pair in tagged_words if pair[0].lower() == 'executive']\n",
    "Counter(executive)"
   ]
  },
  {
   "cell_type": "markdown",
   "metadata": {},
   "source": [
    "Most common tagged assigned to tag `executive` is `NOUN`"
   ]
  },
  {
   "cell_type": "markdown",
   "metadata": {},
   "source": [
    "#### Observing some rules which can potentially be used for POS tagging. "
   ]
  },
  {
   "cell_type": "markdown",
   "metadata": {},
   "source": [
    "#### 2.6 Number of words with the tag 'VERB' (verb, past tense) end with 'ed'"
   ]
  },
  {
   "cell_type": "code",
   "execution_count": 11,
   "metadata": {},
   "outputs": [
    {
     "name": "stdout",
     "output_type": "stream",
     "text": [
      "Percentage of VERB tagged words ending with `ed`:  20.694485402536124 %\n"
     ]
    },
    {
     "data": {
      "text/plain": [
       "[('named', 'VERB'),\n",
       " ('used', 'VERB'),\n",
       " ('caused', 'VERB'),\n",
       " ('exposed', 'VERB'),\n",
       " ('reported', 'VERB'),\n",
       " ('stopped', 'VERB'),\n",
       " ('reported', 'VERB'),\n",
       " ('studied', 'VERB'),\n",
       " ('led', 'VERB'),\n",
       " ('used', 'VERB'),\n",
       " ('replaced', 'VERB'),\n",
       " ('worked', 'VERB'),\n",
       " ('died', 'VERB'),\n",
       " ('expected', 'VERB'),\n",
       " ('diagnosed', 'VERB'),\n",
       " ('expected', 'VERB'),\n",
       " ('studied', 'VERB'),\n",
       " ('industrialized', 'VERB'),\n",
       " ('owned', 'VERB'),\n",
       " ('industrialized', 'VERB')]"
      ]
     },
     "execution_count": 11,
     "metadata": {},
     "output_type": "execute_result"
    }
   ],
   "source": [
    "past_tense_verbs = [pair for pair in tagged_words if pair[1]=='VERB']\n",
    "ed_verbs = [pair for pair in past_tense_verbs if pair[0].endswith('ed')]\n",
    "print('Percentage of VERB tagged words ending with `ed`: ',(len(ed_verbs) / len(past_tense_verbs)*100),'%')\n",
    "ed_verbs[:20]"
   ]
  },
  {
   "cell_type": "markdown",
   "metadata": {},
   "source": [
    "#### 2.6 Number of words with the tag 'VERB' end with 'ing'"
   ]
  },
  {
   "cell_type": "code",
   "execution_count": 12,
   "metadata": {
    "scrolled": false
   },
   "outputs": [
    {
     "name": "stdout",
     "output_type": "stream",
     "text": [
      "Percentage of VERB tagged words ending with `ing`:  10.852255971689766 %\n"
     ]
    },
    {
     "data": {
      "text/plain": [
       "[('publishing', 'VERB'),\n",
       " ('causing', 'VERB'),\n",
       " ('using', 'VERB'),\n",
       " ('bring', 'VERB'),\n",
       " ('talking', 'VERB'),\n",
       " ('having', 'VERB'),\n",
       " ('making', 'VERB'),\n",
       " ('surviving', 'VERB'),\n",
       " ('including', 'VERB'),\n",
       " ('including', 'VERB'),\n",
       " ('according', 'VERB'),\n",
       " ('remaining', 'VERB'),\n",
       " ('according', 'VERB'),\n",
       " ('declining', 'VERB'),\n",
       " ('rising', 'VERB'),\n",
       " ('yielding', 'VERB'),\n",
       " ('waiving', 'VERB'),\n",
       " ('holding', 'VERB'),\n",
       " ('holding', 'VERB'),\n",
       " ('cutting', 'VERB')]"
      ]
     },
     "execution_count": 12,
     "metadata": {},
     "output_type": "execute_result"
    }
   ],
   "source": [
    " participle_verbs = [pair for pair in tagged_words if pair[1]=='VERB']\n",
    "ing_verbs = [pair for pair in participle_verbs if pair[0].endswith('ing')]\n",
    "print('Percentage of VERB tagged words ending with `ing`: ',(len(ing_verbs) / len(participle_verbs))*100,'%')\n",
    "ing_verbs[:20]"
   ]
  },
  {
   "cell_type": "markdown",
   "metadata": {},
   "source": [
    "#### 2.7 Number of words with the tag 'ADV' end with 'ly'"
   ]
  },
  {
   "cell_type": "code",
   "execution_count": 13,
   "metadata": {},
   "outputs": [
    {
     "name": "stdout",
     "output_type": "stream",
     "text": [
      "Percentage of ADV tagged words ending with `ly`:  28.129927467675813 %\n"
     ]
    },
    {
     "data": {
      "text/plain": [
       "[('unusually', 'ADV'),\n",
       " ('closely', 'ADV'),\n",
       " ('recently', 'ADV'),\n",
       " ('probably', 'ADV'),\n",
       " ('stringently', 'ADV'),\n",
       " ('easily', 'ADV'),\n",
       " ('virtually', 'ADV'),\n",
       " ('particularly', 'ADV'),\n",
       " ('mechanically', 'ADV'),\n",
       " ('relatively', 'ADV'),\n",
       " ('only', 'ADV'),\n",
       " ('closely', 'ADV'),\n",
       " ('Typically', 'ADV'),\n",
       " ('currently', 'ADV'),\n",
       " ('heavily', 'ADV'),\n",
       " ('currently', 'ADV'),\n",
       " ('formerly', 'ADV'),\n",
       " ('Previously', 'ADV'),\n",
       " ('typically', 'ADV'),\n",
       " ('sharply', 'ADV')]"
      ]
     },
     "execution_count": 13,
     "metadata": {},
     "output_type": "execute_result"
    }
   ],
   "source": [
    "participle_adverbs = [pair for pair in tagged_words if pair[1]=='ADV']\n",
    "ly_adverbs = [pair for pair in participle_adverbs if pair[0].endswith('ly')]\n",
    "print('Percentage of ADV tagged words ending with `ly`: ',(len(ly_adverbs) / len(participle_adverbs))*100,'%')\n",
    "ly_adverbs[:20]"
   ]
  },
  {
   "cell_type": "markdown",
   "metadata": {},
   "source": [
    "#### Some tags are more likely to appear after certain other tags. \n",
    "For e.g. most nouns NN are usually followed by determiners DET (\"The/DETT constitution/NOUN\"), adjectives ADJ usually precede a noun NN (\" A large/ADJ building/NOUN\"), etc. "
   ]
  },
  {
   "cell_type": "markdown",
   "metadata": {},
   "source": [
    "#### 2.8 Fraction of adjectives ADJ followed by a noun NOUN"
   ]
  },
  {
   "cell_type": "code",
   "execution_count": 14,
   "metadata": {},
   "outputs": [
    {
     "name": "stdout",
     "output_type": "stream",
     "text": [
      "Total adjective tags:  6397\n",
      "Total adjective|noun tags:  4474\n",
      "Percentage of adjectives followed by noun:  69.93903392215101 %\n"
     ]
    }
   ],
   "source": [
    "# create a list of all tags (without the words)\n",
    "tags = [pair[1] for pair in tagged_words]\n",
    "\n",
    "# create a list of ADJ tags\n",
    "jj_tags = [t for t in tags if t == 'ADJ']\n",
    "\n",
    "# create a list of (ADJ, NOUN) tags\n",
    "jj_nn_tags = [(t, tags[index+1]) for index, t in enumerate(tags) \n",
    "              if t=='ADJ' and tags[index+1]=='NOUN']\n",
    "\n",
    "print('Total adjective tags: ',len(jj_tags))\n",
    "print('Total adjective|noun tags: ',len(jj_nn_tags))\n",
    "print('Percentage of adjectives followed by noun: ',(len(jj_nn_tags) / len(jj_tags))*100,'%')"
   ]
  },
  {
   "cell_type": "markdown",
   "metadata": {},
   "source": [
    "#### 2.9 Fraction of determiners DET followed by a noun NOUN"
   ]
  },
  {
   "cell_type": "code",
   "execution_count": 15,
   "metadata": {},
   "outputs": [
    {
     "name": "stdout",
     "output_type": "stream",
     "text": [
      "Total determinant tags:  8725\n",
      "Total determinant|noun tags:  5569\n",
      "Percentage of determinant followed by noun:  63.82808022922636 %\n"
     ]
    }
   ],
   "source": [
    "dt_tags = [t for t in tags if t == 'DET']\n",
    "dt_nn_tags = [(t, tags[index+1]) for index, t in enumerate(tags) \n",
    "              if t=='DET' and tags[index+1]=='NOUN']\n",
    "\n",
    "print('Total determinant tags: ',len(dt_tags))\n",
    "print('Total determinant|noun tags: ',len(dt_nn_tags))\n",
    "print('Percentage of determinant followed by noun: ',(len(dt_nn_tags) / len(dt_tags))*100,'%')"
   ]
  },
  {
   "cell_type": "markdown",
   "metadata": {},
   "source": [
    "#### 2.10 Fraction of particle PRT followed by a verb VERB"
   ]
  },
  {
   "cell_type": "code",
   "execution_count": 16,
   "metadata": {},
   "outputs": [
    {
     "name": "stdout",
     "output_type": "stream",
     "text": [
      "Total particle tags:  3219\n",
      "Total particle|verb tags:  1291\n",
      "Percentage of particle followed by verb:  40.10562286424356 %\n"
     ]
    }
   ],
   "source": [
    "prt_tags = [t for t in tags if t == 'PRT']\n",
    "prt_vb_tags = [(t, tags[index+1]) for index, t in enumerate(tags) \n",
    "              if t=='PRT' and tags[index+1]=='VERB']\n",
    "\n",
    "print('Total particle tags: ',len(prt_tags))\n",
    "print('Total particle|verb tags: ',len(prt_vb_tags))\n",
    "print('Percentage of particle followed by verb: ',(len(prt_vb_tags) / len(prt_tags))*100,'%')"
   ]
  },
  {
   "cell_type": "markdown",
   "metadata": {},
   "source": [
    "Thus, we see that the probability of certain tags appearing after certain other tags is quite high, and this fact can be used to build quite efficient POS tagging algorithms. "
   ]
  },
  {
   "cell_type": "markdown",
   "metadata": {},
   "source": [
    "## 3. Splitting into Train and Test Sets"
   ]
  },
  {
   "cell_type": "code",
   "execution_count": 17,
   "metadata": {
    "scrolled": true
   },
   "outputs": [
    {
     "name": "stdout",
     "output_type": "stream",
     "text": [
      "Training set size:  3718\n",
      "Test set size:  196\n"
     ]
    }
   ],
   "source": [
    "# splitting into train and test\n",
    "train_set, validation_set = train_test_split(nltk_data, test_size=0.05, train_size=0.95,random_state=101)\n",
    "\n",
    "print('Training set size: ',len(train_set))\n",
    "print('Test set size: ',len(validation_set))\n"
   ]
  },
  {
   "cell_type": "markdown",
   "metadata": {},
   "source": [
    "<b>Checking sample data in test and validation sets</b>"
   ]
  },
  {
   "cell_type": "code",
   "execution_count": 18,
   "metadata": {},
   "outputs": [
    {
     "name": "stdout",
     "output_type": "stream",
     "text": [
      "##Train set second column:  [[('Reliance', 'NOUN'), ('confirmed', 'VERB'), ('the', 'DET'), ('filing', 'NOUN'), ('but', 'CONJ'), ('would', 'VERB'), (\"n't\", 'ADV'), ('elaborate', 'VERB'), ('.', '.')], [('*', 'X'), ('Encouraging', 'VERB'), ('long-term', 'ADJ'), ('investing', 'NOUN'), ('.', '.')]]\n",
      "\n",
      "##Validation set second column:  [[('The', 'DET'), ('company', 'NOUN'), ('said', 'VERB'), ('0', 'X'), ('it', 'PRON'), ('is', 'VERB'), ('in', 'ADP'), ('the', 'DET'), ('process', 'NOUN'), ('of', 'ADP'), ('*', 'X'), ('phasing', 'VERB'), ('out', 'PRT'), ('John', 'NOUN'), ('Deere', 'NOUN'), (',', '.'), ('its', 'PRON'), ('current', 'ADJ'), ('source', 'NOUN'), ('of', 'ADP'), ('production', 'NOUN'), ('for', 'ADP'), ('midsized', 'ADJ'), ('motor', 'NOUN'), ('home', 'NOUN'), ('chassis', 'NOUN'), ('.', '.')], [('Douglas', 'NOUN'), ('Madison', 'NOUN'), (',', '.'), ('a', 'DET'), ('corporate', 'ADJ'), ('trader', 'NOUN'), ('with', 'ADP'), ('Bank', 'NOUN'), ('of', 'ADP'), ('America', 'NOUN'), ('in', 'ADP'), ('Los', 'NOUN'), ('Angeles', 'NOUN'), (',', '.'), ('traced', 'VERB'), ('the', 'DET'), ('dollar', 'NOUN'), (\"'s\", 'PRT'), ('recent', 'ADJ'), ('solid', 'ADJ'), ('performance', 'NOUN'), ('against', 'ADP'), ('the', 'DET'), ('yen', 'NOUN'), ('to', 'PRT'), ('purchases', 'NOUN'), ('of', 'ADP'), ('securities', 'NOUN'), ('by', 'ADP'), ('Japanese', 'ADJ'), ('insurance', 'NOUN'), ('companies', 'NOUN'), ('and', 'CONJ'), ('trust', 'NOUN'), ('banks', 'NOUN'), ('and', 'CONJ'), ('the', 'DET'), ('sense', 'NOUN'), ('that', 'ADP'), ('another', 'DET'), ('wave', 'NOUN'), ('of', 'ADP'), ('investment', 'NOUN'), ('is', 'VERB'), ('waiting', 'VERB'), ('in', 'ADP'), ('the', 'DET'), ('wings', 'NOUN'), ('.', '.')]]\n"
     ]
    }
   ],
   "source": [
    "print('##Train set second column: ',train_set[:2])\n",
    "print()\n",
    "print('##Validation set second column: ',validation_set[:2])"
   ]
  },
  {
   "cell_type": "markdown",
   "metadata": {},
   "source": [
    "#### 3.1 Getting list of tagged words from training and validation sets"
   ]
  },
  {
   "cell_type": "code",
   "execution_count": 19,
   "metadata": {},
   "outputs": [
    {
     "name": "stdout",
     "output_type": "stream",
     "text": [
      "Number of tags in training set: 95547\n",
      "Number of tags in validation set: 5129\n"
     ]
    }
   ],
   "source": [
    "train_tagged_words = [tup for sent in train_set for tup in sent]\n",
    "print('Number of tags in training set:',len(train_tagged_words))\n",
    "validation_tagged_words = [tup for sent in validation_set for tup in sent]\n",
    "print('Number of tags in validation set:',len(validation_tagged_words))"
   ]
  },
  {
   "cell_type": "markdown",
   "metadata": {},
   "source": [
    "#### 3.2 Getting list of tokens from training and validation sets"
   ]
  },
  {
   "cell_type": "code",
   "execution_count": 20,
   "metadata": {
    "scrolled": true
   },
   "outputs": [
    {
     "name": "stdout",
     "output_type": "stream",
     "text": [
      "Sample train tokens: ['Reliance', 'confirmed', 'the', 'filing', 'but', 'would', \"n't\", 'elaborate', '.', '*']\n",
      "Sample validation tokens: ['The', 'company', 'said', '0', 'it', 'is', 'in', 'the', 'process', 'of']\n"
     ]
    }
   ],
   "source": [
    "train_tokens = [pair[0] for pair in train_tagged_words]\n",
    "print('Sample train tokens:',train_tokens[:10])\n",
    "validation_tokens = [pair[0] for pair in validation_tagged_words]\n",
    "print('Sample validation tokens:',validation_tokens[:10])"
   ]
  },
  {
   "cell_type": "markdown",
   "metadata": {},
   "source": [
    "#### 3.3 Getting list of vocabulary/words from training and validation sets"
   ]
  },
  {
   "cell_type": "code",
   "execution_count": 21,
   "metadata": {},
   "outputs": [
    {
     "name": "stdout",
     "output_type": "stream",
     "text": [
      "Train vocabulary:  12100\n",
      "Validation vocabulary:  1877\n"
     ]
    }
   ],
   "source": [
    "train_vocabulary = set(train_tokens)\n",
    "print('Train vocabulary: ',len(train_vocabulary))\n",
    "validation_vocabulary = set(validation_tokens)\n",
    "print('Validation vocabulary: ',len(validation_vocabulary))"
   ]
  },
  {
   "cell_type": "markdown",
   "metadata": {},
   "source": [
    "#### 3.4 Fetching Known or common vocabulary/words"
   ]
  },
  {
   "cell_type": "code",
   "execution_count": 22,
   "metadata": {},
   "outputs": [
    {
     "name": "stdout",
     "output_type": "stream",
     "text": [
      "Number of common/known words:  1569\n",
      "Some known/common words in both train set and validation sets:  ['represent', 'Mr.', 'Nixon', 'Indianapolis', 'cause', \"n't\", 'billion', 'financial', 'rule', 'just']\n"
     ]
    }
   ],
   "source": [
    "#We check the training set for known set of words and compare them with validation set and bring out common words from two sets\n",
    "known_words=list(set(train_vocabulary).intersection(set(validation_vocabulary)))\n",
    "print('Number of common/known words: ',len(known_words))\n",
    "print('Some known/common words in both train set and validation sets: ',known_words[:10])\n"
   ]
  },
  {
   "cell_type": "markdown",
   "metadata": {},
   "source": [
    "#### 3.4 Fetching unknown vocabulary/words\n",
    "<a id='Unknown_Words'></a>"
   ]
  },
  {
   "cell_type": "code",
   "execution_count": 23,
   "metadata": {},
   "outputs": [
    {
     "name": "stdout",
     "output_type": "stream",
     "text": [
      "Number of unknown words:  308\n",
      "Some unknown words in both train set and validation sets:  ['1,298', 'Attorney', 'Editorials', 'investor-relations', 'fashion', 'Barbaresco', 'muted', 'championing', 'vagabond', '*-128']\n"
     ]
    }
   ],
   "source": [
    "#We check the which words from validation sets are not present in training set as POS tagging cannot identify them\n",
    "unknown_words=list(set(validation_vocabulary).difference(set(train_vocabulary)))\n",
    "print('Number of unknown words: ',len(unknown_words))\n",
    "print('Some unknown words in both train set and validation sets: ',unknown_words[:10])\n"
   ]
  },
  {
   "cell_type": "markdown",
   "metadata": {},
   "source": [
    "#### 3.4 Fetching number of unique tags in train and validation sets"
   ]
  },
  {
   "cell_type": "code",
   "execution_count": 24,
   "metadata": {},
   "outputs": [
    {
     "name": "stdout",
     "output_type": "stream",
     "text": [
      "Number of unique tags in train set:  12\n",
      "Number of unique tags in validation set:  12\n",
      "Tags in train corpus:  {'ADV', 'CONJ', 'ADP', 'VERB', 'NUM', 'PRON', 'X', 'NOUN', 'PRT', '.', 'DET', 'ADJ'}\n",
      "Tags in validation corpus:  {'ADV', 'ADP', 'CONJ', 'VERB', 'NUM', 'PRON', 'X', 'NOUN', 'PRT', '.', 'DET', 'ADJ'}\n"
     ]
    }
   ],
   "source": [
    "train_tags = set([pair[1] for pair in train_tagged_words])\n",
    "print('Number of unique tags in train set: ',len(train_tags))\n",
    "validation_tags = set([pair[1] for pair in validation_tagged_words])\n",
    "print('Number of unique tags in validation set: ',len(validation_tags))\n",
    "print('Tags in train corpus: ',train_tags)\n",
    "print('Tags in validation corpus: ',validation_tags)"
   ]
  },
  {
   "cell_type": "markdown",
   "metadata": {},
   "source": [
    "#### 3.5 Fetching probability of each tag in train set"
   ]
  },
  {
   "cell_type": "code",
   "execution_count": 25,
   "metadata": {},
   "outputs": [
    {
     "name": "stdout",
     "output_type": "stream",
     "text": [
      "{'NOUN': 0.2862674913916711, 'VERB': 0.1351167488251855, 'DET': 0.08666938784053921, 'CONJ': 0.02251248076862696, 'ADV': 0.031597015081582885, '.': 0.11641391147812072, 'X': 0.06576867928872701, 'ADJ': 0.06351847781719991, 'ADP': 0.0978889970381069, 'PRT': 0.03176447193527793, 'PRON': 0.0273373313657153, 'NUM': 0.035145007169246546}\n"
     ]
    }
   ],
   "source": [
    "map_of_tags=dict(Counter([tag for word,tag in train_tagged_words]))\n",
    "\n",
    "prob_tag=dict()\n",
    "total_tags=sum(map_of_tags.values())\n",
    "for k,v in map_of_tags.items():\n",
    "    prob_tag.update({k:(v/total_tags)})\n",
    "print(prob_tag)\n",
    "    "
   ]
  },
  {
   "cell_type": "markdown",
   "metadata": {},
   "source": [
    "## 4. POS Tagging Algorithm - HMM\n",
    "\n",
    "We'll use the HMM algorithm to tag the words. Given a sequence of words to be tagged, the task is to assign the most probable tag to the word. \n",
    "\n",
    "In other words, to every word w, assign the tag t that maximises the likelihood P(t/w). Since P(t/w) = P(w/t). P(t) / P(w), after ignoring P(w), we have to compute P(w/t) and P(t).\n",
    "\n",
    "\n",
    "P(w/t) is basically the probability that given a tag (say NOUN), what is the probability of it being w (say 'building'). This can be computed by computing the fraction of all NOUNs which are equal to w, i.e. \n",
    "\n",
    "P(w/t) = count(w, t) / count(t). \n",
    "\n",
    "\n",
    "The term P(t) is the probability of tag t, and in a tagging task, we assume that a tag will depend only on the previous tag. In other words, the probability of a tag being NOUN will depend only on the previous tag t(n-1). So for e.g. if t(n-1) is a ADJ, then t(n) is likely to be an NOUN since adjectives often precede a noun (blue coat, tall building etc.).\n",
    "\n",
    "\n",
    "Given the penn treebank tagged dataset, we can compute the two terms P(w/t) and P(t) and store them in two large matrices. The matrix of P(w/t) will be sparse, since each word will not be seen with most tags ever, and those terms will thus be zero. \n"
   ]
  },
  {
   "cell_type": "markdown",
   "metadata": {},
   "source": [
    "#### 4.1 Emission Probabilities"
   ]
  },
  {
   "cell_type": "code",
   "execution_count": 26,
   "metadata": {
    "scrolled": true
   },
   "outputs": [],
   "source": [
    "# computing P(w/t) and storing in T x V matrix\n",
    "t = len(train_tags)\n",
    "v = len(train_vocabulary)\n",
    "w_given_t = np.zeros((t, v))"
   ]
  },
  {
   "cell_type": "code",
   "execution_count": 27,
   "metadata": {},
   "outputs": [],
   "source": [
    "# compute word given tag: Emission Probability\n",
    "def word_given_tag(word, tag, train_bag = train_tagged_words):\n",
    "    tag_list = [pair for pair in train_bag if pair[1]==tag]\n",
    "    count_tag = len(tag_list)\n",
    "    w_given_tag_list = [pair[0] for pair in tag_list if pair[0]==word]\n",
    "    count_w_given_tag = len(w_given_tag_list)\n",
    "    \n",
    "    return (count_w_given_tag, count_tag)"
   ]
  },
  {
   "cell_type": "code",
   "execution_count": 28,
   "metadata": {
    "scrolled": true
   },
   "outputs": [
    {
     "name": "stdout",
     "output_type": "stream",
     "text": [
      "\n",
      " said\n",
      "(597, 12910)\n",
      "(0, 6069)\n",
      "(0, 3019) \n",
      "\n",
      "\n",
      " smooth\n",
      "(1, 6069)\n",
      "(0, 12910)\n",
      "(0, 3019)\n",
      "\n",
      " U.S.\n",
      "(210, 27352)\n",
      "(0, 12910)\n"
     ]
    }
   ],
   "source": [
    "# examples\n",
    "\n",
    "# said\n",
    "print(\"\\n\", \"said\")\n",
    "print(word_given_tag('said', 'VERB'))\n",
    "print(word_given_tag('said', 'ADJ'))\n",
    "print(word_given_tag('said', 'ADV'), \"\\n\")\n",
    "\n",
    "# smooth\n",
    "print(\"\\n\", \"smooth\")\n",
    "print(word_given_tag('smooth', 'ADJ'))\n",
    "print(word_given_tag('smooth', 'VERB'))\n",
    "print(word_given_tag('smooth', 'ADV'))\n",
    "\n",
    "# U.S.\n",
    "print(\"\\n\", \"U.S.\")\n",
    "print(word_given_tag('U.S.', 'NOUN'))\n",
    "print(word_given_tag('U.S.', 'VERB'))"
   ]
  },
  {
   "cell_type": "markdown",
   "metadata": {},
   "source": [
    "#### Observation:\n",
    "- 'said' appeared as verb 597 times out of total 12910 verbs in corpus which is more than any other tag for the same word\n"
   ]
  },
  {
   "cell_type": "markdown",
   "metadata": {},
   "source": [
    "#### 4.2 Transition Probabilities"
   ]
  },
  {
   "cell_type": "code",
   "execution_count": 29,
   "metadata": {},
   "outputs": [],
   "source": [
    "# compute tag given tag: tag2(t2) given tag1 (t1), i.e. Transition Probability\n",
    "\n",
    "def t2_given_t1(t2, t1, train_bag = train_tagged_words):\n",
    "    tags = [pair[1] for pair in train_bag]\n",
    "    count_t1 = len([t for t in tags if t==t1])\n",
    "    count_t2_t1 = 0\n",
    "    for index in range(len(tags)-1):\n",
    "        if tags[index]==t1 and tags[index+1] == t2:\n",
    "            count_t2_t1 += 1\n",
    "    return (count_t2_t1, count_t1)"
   ]
  },
  {
   "cell_type": "code",
   "execution_count": 30,
   "metadata": {
    "scrolled": true
   },
   "outputs": [
    {
     "name": "stdout",
     "output_type": "stream",
     "text": [
      "(4246, 6069)\n",
      "(4246, 6069)\n",
      "(5284, 8281)\n",
      "(1421, 12910)\n",
      "(0, 27352)\n",
      "(5, 3035)\n",
      "(4039, 27352)\n"
     ]
    }
   ],
   "source": [
    "# examples\n",
    "print(t2_given_t1(t2='NOUN', t1='ADJ'))\n",
    "print(t2_given_t1('NOUN', 'ADJ'))\n",
    "print(t2_given_t1('NOUN', 'DET'))\n",
    "print(t2_given_t1('NOUN', 'VERB'))\n",
    "print(t2_given_t1(',', 'NOUN'))\n",
    "print(t2_given_t1('PRT', 'PRT'))\n",
    "print(t2_given_t1('VERB', 'NOUN'))"
   ]
  },
  {
   "cell_type": "markdown",
   "metadata": {},
   "source": [
    "#### Observation:\n",
    "- NOUN appearing after adjective(ADJ) or determinant(DET) or verb(VERB) in corpus is more than any other tag "
   ]
  },
  {
   "cell_type": "markdown",
   "metadata": {},
   "source": [
    "<b>P(tag|start) is same as P(tag|'.')<b>"
   ]
  },
  {
   "cell_type": "code",
   "execution_count": 31,
   "metadata": {},
   "outputs": [
    {
     "name": "stdout",
     "output_type": "stream",
     "text": [
      "(1928, 11123)\n",
      "(991, 11123)\n",
      "(2472, 11123)\n"
     ]
    }
   ],
   "source": [
    "print(t2_given_t1('DET', '.'))\n",
    "print(t2_given_t1('VERB', '.'))\n",
    "print(t2_given_t1('NOUN', '.'))\n",
    "\n"
   ]
  },
  {
   "cell_type": "markdown",
   "metadata": {},
   "source": [
    "#### NOUN starting a sentence has more probability"
   ]
  },
  {
   "cell_type": "markdown",
   "metadata": {},
   "source": [
    "#### 4.3 Creating t x t transition matrix of tags"
   ]
  },
  {
   "cell_type": "code",
   "execution_count": 32,
   "metadata": {
    "scrolled": true
   },
   "outputs": [],
   "source": [
    "# each column is t2, each row is t1\n",
    "# thus M(i, j) represents P(tj given ti)\n",
    "tags_matrix = np.zeros((len(train_tags), len(train_tags)), dtype='float32')\n",
    "for i, t1 in enumerate(list(train_tags)):\n",
    "    for j, t2 in enumerate(list(train_tags)): \n",
    "        tags_matrix[i, j] = t2_given_t1(t2, t1)[0]/t2_given_t1(t2, t1)[1]"
   ]
  },
  {
   "cell_type": "code",
   "execution_count": 33,
   "metadata": {
    "scrolled": true
   },
   "outputs": [
    {
     "data": {
      "text/plain": [
       "array([[8.04902315e-02, 6.95594586e-03, 1.18582316e-01, 3.43491226e-01,\n",
       "        3.04736663e-02, 1.49055980e-02, 2.31864862e-02, 3.14673744e-02,\n",
       "        1.42431268e-02, 1.37131497e-01, 6.98906928e-02, 1.29181847e-01],\n",
       "       [5.53231053e-02, 4.64900048e-04, 5.25337048e-02, 1.56671315e-01,\n",
       "        3.99814025e-02, 5.81125058e-02, 8.83310102e-03, 3.49139929e-01,\n",
       "        4.64900024e-03, 3.48675027e-02, 1.21338911e-01, 1.18084610e-01],\n",
       "       [1.40062012e-02, 9.62258084e-04, 1.68929752e-02, 8.33956990e-03,\n",
       "        6.22260235e-02, 7.00310096e-02, 3.44274566e-02, 3.20966542e-01,\n",
       "        1.38992839e-03, 3.90249118e-02, 3.24708641e-01, 1.07024483e-01],\n",
       "       [8.19519758e-02, 5.57707204e-03, 9.20216888e-02, 1.69248641e-01,\n",
       "        2.28505041e-02, 3.57862115e-02, 2.17505813e-01, 1.10069714e-01,\n",
       "        3.06738969e-02, 3.49341594e-02, 1.34391949e-01, 6.49883822e-02],\n",
       "       [2.97796307e-03, 1.36986300e-02, 3.60333547e-02, 1.87611673e-02,\n",
       "        1.84931502e-01, 1.48898154e-03, 2.10541993e-01, 3.50208461e-01,\n",
       "        2.65038721e-02, 1.17331743e-01, 3.27575929e-03, 3.42465751e-02],\n",
       "       [3.40735056e-02, 5.35987737e-03, 2.29709037e-02, 4.85451758e-01,\n",
       "        6.50842255e-03, 7.65696773e-03, 8.99693742e-02, 2.10949466e-01,\n",
       "        1.30168451e-02, 4.09647785e-02, 9.95405857e-03, 7.31240436e-02],\n",
       "       [2.49840859e-02, 1.06619988e-02, 1.42584339e-01, 2.03851044e-01,\n",
       "        2.86441762e-03, 5.55378757e-02, 7.63844699e-02, 6.23806491e-02,\n",
       "        1.85232341e-01, 1.63590074e-01, 5.47422022e-02, 1.71865057e-02],\n",
       "       [1.70737058e-02, 4.26659845e-02, 1.76513597e-01, 1.47667453e-01,\n",
       "        9.54226404e-03, 4.60661016e-03, 2.91751977e-02, 2.63563901e-01,\n",
       "        4.33971919e-02, 2.40603983e-01, 1.29423812e-02, 1.22477328e-02],\n",
       "       [1.02141676e-02, 2.30642501e-03, 2.00988464e-02, 4.05271828e-01,\n",
       "        5.66721596e-02, 1.77924223e-02, 1.35090612e-02, 2.47775942e-01,\n",
       "        1.64744642e-03, 4.38220762e-02, 9.78583172e-02, 8.30313042e-02],\n",
       "       [5.23240119e-02, 5.75384349e-02, 9.13422629e-02, 8.90946686e-02,\n",
       "        8.10033232e-02, 6.63490072e-02, 2.69711409e-02, 2.22242206e-01,\n",
       "        2.42740265e-03, 9.33201462e-02, 1.73334539e-01, 4.39629592e-02],\n",
       "       [1.24381110e-02, 4.83033451e-04, 9.53991059e-03, 3.98502611e-02,\n",
       "        2.22195387e-02, 3.74350930e-03, 4.54051457e-02, 6.38087213e-01,\n",
       "        2.41516726e-04, 1.79929957e-02, 5.67564322e-03, 2.04323143e-01],\n",
       "       [4.77838190e-03, 1.69714950e-02, 7.82665983e-02, 1.16987973e-02,\n",
       "        2.12555602e-02, 3.29543574e-04, 2.10907888e-02, 6.99621022e-01,\n",
       "        1.07101668e-02, 6.39314577e-02, 4.94315382e-03, 6.64030313e-02]],\n",
       "      dtype=float32)"
      ]
     },
     "execution_count": 33,
     "metadata": {},
     "output_type": "execute_result"
    }
   ],
   "source": [
    "tags_matrix"
   ]
  },
  {
   "cell_type": "markdown",
   "metadata": {},
   "source": [
    "#### 4.4 Convert the matrix to a df for better readability"
   ]
  },
  {
   "cell_type": "code",
   "execution_count": 34,
   "metadata": {},
   "outputs": [],
   "source": [
    "tags_df = pd.DataFrame(tags_matrix, columns = list(train_tags), index=list(train_tags))"
   ]
  },
  {
   "cell_type": "code",
   "execution_count": 35,
   "metadata": {
    "scrolled": true
   },
   "outputs": [
    {
     "data": {
      "text/html": [
       "<div>\n",
       "<style scoped>\n",
       "    .dataframe tbody tr th:only-of-type {\n",
       "        vertical-align: middle;\n",
       "    }\n",
       "\n",
       "    .dataframe tbody tr th {\n",
       "        vertical-align: top;\n",
       "    }\n",
       "\n",
       "    .dataframe thead th {\n",
       "        text-align: right;\n",
       "    }\n",
       "</style>\n",
       "<table border=\"1\" class=\"dataframe\">\n",
       "  <thead>\n",
       "    <tr style=\"text-align: right;\">\n",
       "      <th></th>\n",
       "      <th>ADV</th>\n",
       "      <th>CONJ</th>\n",
       "      <th>ADP</th>\n",
       "      <th>VERB</th>\n",
       "      <th>NUM</th>\n",
       "      <th>PRON</th>\n",
       "      <th>X</th>\n",
       "      <th>NOUN</th>\n",
       "      <th>PRT</th>\n",
       "      <th>.</th>\n",
       "      <th>DET</th>\n",
       "      <th>ADJ</th>\n",
       "    </tr>\n",
       "  </thead>\n",
       "  <tbody>\n",
       "    <tr>\n",
       "      <th>ADV</th>\n",
       "      <td>0.080490</td>\n",
       "      <td>0.006956</td>\n",
       "      <td>0.118582</td>\n",
       "      <td>0.343491</td>\n",
       "      <td>0.030474</td>\n",
       "      <td>0.014906</td>\n",
       "      <td>0.023186</td>\n",
       "      <td>0.031467</td>\n",
       "      <td>0.014243</td>\n",
       "      <td>0.137131</td>\n",
       "      <td>0.069891</td>\n",
       "      <td>0.129182</td>\n",
       "    </tr>\n",
       "    <tr>\n",
       "      <th>CONJ</th>\n",
       "      <td>0.055323</td>\n",
       "      <td>0.000465</td>\n",
       "      <td>0.052534</td>\n",
       "      <td>0.156671</td>\n",
       "      <td>0.039981</td>\n",
       "      <td>0.058113</td>\n",
       "      <td>0.008833</td>\n",
       "      <td>0.349140</td>\n",
       "      <td>0.004649</td>\n",
       "      <td>0.034868</td>\n",
       "      <td>0.121339</td>\n",
       "      <td>0.118085</td>\n",
       "    </tr>\n",
       "    <tr>\n",
       "      <th>ADP</th>\n",
       "      <td>0.014006</td>\n",
       "      <td>0.000962</td>\n",
       "      <td>0.016893</td>\n",
       "      <td>0.008340</td>\n",
       "      <td>0.062226</td>\n",
       "      <td>0.070031</td>\n",
       "      <td>0.034427</td>\n",
       "      <td>0.320967</td>\n",
       "      <td>0.001390</td>\n",
       "      <td>0.039025</td>\n",
       "      <td>0.324709</td>\n",
       "      <td>0.107024</td>\n",
       "    </tr>\n",
       "    <tr>\n",
       "      <th>VERB</th>\n",
       "      <td>0.081952</td>\n",
       "      <td>0.005577</td>\n",
       "      <td>0.092022</td>\n",
       "      <td>0.169249</td>\n",
       "      <td>0.022851</td>\n",
       "      <td>0.035786</td>\n",
       "      <td>0.217506</td>\n",
       "      <td>0.110070</td>\n",
       "      <td>0.030674</td>\n",
       "      <td>0.034934</td>\n",
       "      <td>0.134392</td>\n",
       "      <td>0.064988</td>\n",
       "    </tr>\n",
       "    <tr>\n",
       "      <th>NUM</th>\n",
       "      <td>0.002978</td>\n",
       "      <td>0.013699</td>\n",
       "      <td>0.036033</td>\n",
       "      <td>0.018761</td>\n",
       "      <td>0.184932</td>\n",
       "      <td>0.001489</td>\n",
       "      <td>0.210542</td>\n",
       "      <td>0.350208</td>\n",
       "      <td>0.026504</td>\n",
       "      <td>0.117332</td>\n",
       "      <td>0.003276</td>\n",
       "      <td>0.034247</td>\n",
       "    </tr>\n",
       "    <tr>\n",
       "      <th>PRON</th>\n",
       "      <td>0.034074</td>\n",
       "      <td>0.005360</td>\n",
       "      <td>0.022971</td>\n",
       "      <td>0.485452</td>\n",
       "      <td>0.006508</td>\n",
       "      <td>0.007657</td>\n",
       "      <td>0.089969</td>\n",
       "      <td>0.210949</td>\n",
       "      <td>0.013017</td>\n",
       "      <td>0.040965</td>\n",
       "      <td>0.009954</td>\n",
       "      <td>0.073124</td>\n",
       "    </tr>\n",
       "    <tr>\n",
       "      <th>X</th>\n",
       "      <td>0.024984</td>\n",
       "      <td>0.010662</td>\n",
       "      <td>0.142584</td>\n",
       "      <td>0.203851</td>\n",
       "      <td>0.002864</td>\n",
       "      <td>0.055538</td>\n",
       "      <td>0.076384</td>\n",
       "      <td>0.062381</td>\n",
       "      <td>0.185232</td>\n",
       "      <td>0.163590</td>\n",
       "      <td>0.054742</td>\n",
       "      <td>0.017187</td>\n",
       "    </tr>\n",
       "    <tr>\n",
       "      <th>NOUN</th>\n",
       "      <td>0.017074</td>\n",
       "      <td>0.042666</td>\n",
       "      <td>0.176514</td>\n",
       "      <td>0.147667</td>\n",
       "      <td>0.009542</td>\n",
       "      <td>0.004607</td>\n",
       "      <td>0.029175</td>\n",
       "      <td>0.263564</td>\n",
       "      <td>0.043397</td>\n",
       "      <td>0.240604</td>\n",
       "      <td>0.012942</td>\n",
       "      <td>0.012248</td>\n",
       "    </tr>\n",
       "    <tr>\n",
       "      <th>PRT</th>\n",
       "      <td>0.010214</td>\n",
       "      <td>0.002306</td>\n",
       "      <td>0.020099</td>\n",
       "      <td>0.405272</td>\n",
       "      <td>0.056672</td>\n",
       "      <td>0.017792</td>\n",
       "      <td>0.013509</td>\n",
       "      <td>0.247776</td>\n",
       "      <td>0.001647</td>\n",
       "      <td>0.043822</td>\n",
       "      <td>0.097858</td>\n",
       "      <td>0.083031</td>\n",
       "    </tr>\n",
       "    <tr>\n",
       "      <th>.</th>\n",
       "      <td>0.052324</td>\n",
       "      <td>0.057538</td>\n",
       "      <td>0.091342</td>\n",
       "      <td>0.089095</td>\n",
       "      <td>0.081003</td>\n",
       "      <td>0.066349</td>\n",
       "      <td>0.026971</td>\n",
       "      <td>0.222242</td>\n",
       "      <td>0.002427</td>\n",
       "      <td>0.093320</td>\n",
       "      <td>0.173335</td>\n",
       "      <td>0.043963</td>\n",
       "    </tr>\n",
       "    <tr>\n",
       "      <th>DET</th>\n",
       "      <td>0.012438</td>\n",
       "      <td>0.000483</td>\n",
       "      <td>0.009540</td>\n",
       "      <td>0.039850</td>\n",
       "      <td>0.022220</td>\n",
       "      <td>0.003744</td>\n",
       "      <td>0.045405</td>\n",
       "      <td>0.638087</td>\n",
       "      <td>0.000242</td>\n",
       "      <td>0.017993</td>\n",
       "      <td>0.005676</td>\n",
       "      <td>0.204323</td>\n",
       "    </tr>\n",
       "    <tr>\n",
       "      <th>ADJ</th>\n",
       "      <td>0.004778</td>\n",
       "      <td>0.016971</td>\n",
       "      <td>0.078267</td>\n",
       "      <td>0.011699</td>\n",
       "      <td>0.021256</td>\n",
       "      <td>0.000330</td>\n",
       "      <td>0.021091</td>\n",
       "      <td>0.699621</td>\n",
       "      <td>0.010710</td>\n",
       "      <td>0.063931</td>\n",
       "      <td>0.004943</td>\n",
       "      <td>0.066403</td>\n",
       "    </tr>\n",
       "  </tbody>\n",
       "</table>\n",
       "</div>"
      ],
      "text/plain": [
       "           ADV      CONJ       ADP      VERB       NUM      PRON         X  \\\n",
       "ADV   0.080490  0.006956  0.118582  0.343491  0.030474  0.014906  0.023186   \n",
       "CONJ  0.055323  0.000465  0.052534  0.156671  0.039981  0.058113  0.008833   \n",
       "ADP   0.014006  0.000962  0.016893  0.008340  0.062226  0.070031  0.034427   \n",
       "VERB  0.081952  0.005577  0.092022  0.169249  0.022851  0.035786  0.217506   \n",
       "NUM   0.002978  0.013699  0.036033  0.018761  0.184932  0.001489  0.210542   \n",
       "PRON  0.034074  0.005360  0.022971  0.485452  0.006508  0.007657  0.089969   \n",
       "X     0.024984  0.010662  0.142584  0.203851  0.002864  0.055538  0.076384   \n",
       "NOUN  0.017074  0.042666  0.176514  0.147667  0.009542  0.004607  0.029175   \n",
       "PRT   0.010214  0.002306  0.020099  0.405272  0.056672  0.017792  0.013509   \n",
       ".     0.052324  0.057538  0.091342  0.089095  0.081003  0.066349  0.026971   \n",
       "DET   0.012438  0.000483  0.009540  0.039850  0.022220  0.003744  0.045405   \n",
       "ADJ   0.004778  0.016971  0.078267  0.011699  0.021256  0.000330  0.021091   \n",
       "\n",
       "          NOUN       PRT         .       DET       ADJ  \n",
       "ADV   0.031467  0.014243  0.137131  0.069891  0.129182  \n",
       "CONJ  0.349140  0.004649  0.034868  0.121339  0.118085  \n",
       "ADP   0.320967  0.001390  0.039025  0.324709  0.107024  \n",
       "VERB  0.110070  0.030674  0.034934  0.134392  0.064988  \n",
       "NUM   0.350208  0.026504  0.117332  0.003276  0.034247  \n",
       "PRON  0.210949  0.013017  0.040965  0.009954  0.073124  \n",
       "X     0.062381  0.185232  0.163590  0.054742  0.017187  \n",
       "NOUN  0.263564  0.043397  0.240604  0.012942  0.012248  \n",
       "PRT   0.247776  0.001647  0.043822  0.097858  0.083031  \n",
       ".     0.222242  0.002427  0.093320  0.173335  0.043963  \n",
       "DET   0.638087  0.000242  0.017993  0.005676  0.204323  \n",
       "ADJ   0.699621  0.010710  0.063931  0.004943  0.066403  "
      ]
     },
     "execution_count": 35,
     "metadata": {},
     "output_type": "execute_result"
    }
   ],
   "source": [
    "tags_df"
   ]
  },
  {
   "cell_type": "markdown",
   "metadata": {},
   "source": [
    "#### 4.5 Starting probability of all the tags in corpus"
   ]
  },
  {
   "cell_type": "code",
   "execution_count": 36,
   "metadata": {
    "scrolled": true
   },
   "outputs": [
    {
     "data": {
      "text/plain": [
       "ADV     0.052324\n",
       "CONJ    0.057538\n",
       "ADP     0.091342\n",
       "VERB    0.089095\n",
       "NUM     0.081003\n",
       "PRON    0.066349\n",
       "X       0.026971\n",
       "NOUN    0.222242\n",
       "PRT     0.002427\n",
       ".       0.093320\n",
       "DET     0.173335\n",
       "ADJ     0.043963\n",
       "Name: ., dtype: float32"
      ]
     },
     "execution_count": 36,
     "metadata": {},
     "output_type": "execute_result"
    }
   ],
   "source": [
    "tags_df.loc['.', :]"
   ]
  },
  {
   "cell_type": "markdown",
   "metadata": {},
   "source": [
    "#### 4.6 Heatmap of tags matrix"
   ]
  },
  {
   "cell_type": "code",
   "execution_count": 37,
   "metadata": {
    "scrolled": true
   },
   "outputs": [
    {
     "data": {
      "image/png": "[encoded data removed]",
      "text/plain": [
       "<Figure size 1296x864 with 2 Axes>"
      ]
     },
     "metadata": {
      "needs_background": "light"
     },
     "output_type": "display_data"
    }
   ],
   "source": [
    "# T(i, j) means P(tag j given tag i)\n",
    "plt.figure(figsize=(18, 12))\n",
    "sns.heatmap(tags_df)\n",
    "plt.show()\n"
   ]
  },
  {
   "cell_type": "markdown",
   "metadata": {},
   "source": [
    "#### 4.7 frequent tags (filtering the df to get P(t2, t1) > 0.5)"
   ]
  },
  {
   "cell_type": "code",
   "execution_count": 38,
   "metadata": {},
   "outputs": [
    {
     "data": {
      "image/png": "[encoded data removed]",
      "text/plain": [
       "<Figure size 1296x864 with 2 Axes>"
      ]
     },
     "metadata": {
      "needs_background": "light"
     },
     "output_type": "display_data"
    }
   ],
   "source": [
    "tags_frequent = tags_df[tags_df>0.40]\n",
    "plt.figure(figsize=(18, 12))\n",
    "sns.heatmap(tags_frequent)\n",
    "plt.show()"
   ]
  },
  {
   "cell_type": "markdown",
   "metadata": {},
   "source": [
    "#### We observe that probability is more for adjective followed by noun . Example: attractive person, beautiful place etc"
   ]
  },
  {
   "cell_type": "markdown",
   "metadata": {},
   "source": [
    "## 5. Building the Vanilla Viterbi Algorithm based POS tagger\n",
    "\n",
    "Let's now use the computed probabilities P(w, tag) and P(t2, t1) to assign tags to each word in the document. We'll run through each word w and compute P(tag/w)=P(w/tag).P(tag) for each tag in the tag set, and then assign the tag having the max P(tag/w).\n",
    "\n",
    "We'll store the assigned tags in a list of tuples, similar to the list 'train_tagged_words'. Each tuple will be a (token, assigned_tag). As we progress further in the list, each tag to be assigned will use the tag of the previous token.\n",
    "\n",
    "Note: P(tag|start) = P(tag|'.') "
   ]
  },
  {
   "cell_type": "code",
   "execution_count": 39,
   "metadata": {},
   "outputs": [
    {
     "name": "stdout",
     "output_type": "stream",
     "text": [
      "Total tagged words in training set:  95547\n"
     ]
    }
   ],
   "source": [
    "print('Total tagged words in training set: ',len(train_tagged_words))"
   ]
  },
  {
   "cell_type": "code",
   "execution_count": 40,
   "metadata": {},
   "outputs": [],
   "source": [
    "T = list(set([pair[1] for pair in train_tagged_words]))\n",
    "T.sort()\n"
   ]
  },
  {
   "cell_type": "markdown",
   "metadata": {},
   "source": [
    "#### 5.1 Making Vanilla Viterbi Heuristic function to tag the given words "
   ]
  },
  {
   "cell_type": "markdown",
   "metadata": {},
   "source": [
    "<b>Vanilla Viterbi</b>: The general viterbi algorithm that tags words based on the state probability i.e. based on maximum of (emmission_probability*transition_probability) for a given word"
   ]
  },
  {
   "cell_type": "code",
   "execution_count": 41,
   "metadata": {},
   "outputs": [],
   "source": [
    "# Vanilla Viterbi Heuristic\n",
    "def Vanilla_Viterbi(words):\n",
    "    state = []\n",
    "    #T = list(set([pair[1] for pair in train_bag]))\n",
    "    \n",
    "    for key, word in enumerate(words):\n",
    "        #initialise list of probability column for a given observation\n",
    "        p = [] \n",
    "        for tag in T:\n",
    "            if key == 0:\n",
    "                #at start of sentence\n",
    "                transition_p = tags_df.loc['.', tag]\n",
    "            else:\n",
    "                transition_p = tags_df.loc[state[-1], tag]\n",
    "                \n",
    "            # compute emission and state probabilities\n",
    "            emission_p = word_given_tag(words[key], tag)[0]/word_given_tag(words[key], tag)[1]\n",
    "            #computing state probability\n",
    "            state_probability = emission_p * transition_p    \n",
    "            p.append(state_probability)\n",
    "         \n",
    "        \n",
    "        pmax = max(p)\n",
    "        # getting state for which probability is maximum\n",
    "        state_max = T[p.index(pmax)] \n",
    "        state.append(state_max)\n",
    "    return list(zip(words, state))\n"
   ]
  },
  {
   "cell_type": "code",
   "execution_count": 42,
   "metadata": {},
   "outputs": [],
   "source": [
    "# list of tagged words\n",
    "test_run_base = [sent for sent in validation_tagged_words]\n",
    "\n",
    "# list of untagged words\n",
    "test_tagged_words = [sent[0] for sent in validation_tagged_words]\n"
   ]
  },
  {
   "cell_type": "markdown",
   "metadata": {},
   "source": [
    "#### 5.2 Evaluating on Validation Set and identify incorrect tags"
   ]
  },
  {
   "cell_type": "code",
   "execution_count": 43,
   "metadata": {},
   "outputs": [],
   "source": [
    "# Running on entire validation dataset would take more than 3-4hrs. \n",
    "# Let's test our Viterbi algorithm on a few sample sentences of validation dataset\n",
    "\n",
    "def evaluate_test(test_set,tagger=None,viterbi_call=Vanilla_Viterbi):\n",
    "   \n",
    "    \n",
    "    # tagging the test sentences\n",
    "    start = time.time()\n",
    "    tagged_seq=None\n",
    "    \n",
    "    #calling appropriate Viterbi call according to parameter passed along with tagger provided\n",
    "    if viterbi_call==Vanilla_Viterbi:    \n",
    "        tagged_seq = Vanilla_Viterbi(test_tagged_words)\n",
    "    else:\n",
    "        tagged_seq = viterbi_call(test_tagged_words,custom_tagger=tagger)\n",
    "       \n",
    "    #calculating execution time for query\n",
    "    end = time.time()\n",
    "    difference = end-start\n",
    "    \n",
    "    print(\"Time taken in seconds: \", difference)\n",
    "    print(tagged_seq)\n",
    "    \n",
    "    #calculating accuracy\n",
    "    check = [i for i, j in zip(tagged_seq, test_run_base) if i == j] \n",
    "    accuracy = len(check)/len(tagged_seq)\n",
    "    print('accuracy',accuracy)\n",
    "    print()\n",
    "    #fetching incorrect tags\n",
    "    incorrect_tagged_cases = [[test_run_base[i-1],j] for i, j in enumerate(zip(tagged_seq, test_run_base)) if j[0]!=j[1]]\n",
    "    print('Incorrect tagged cases: ',incorrect_tagged_cases)\n",
    "    return [accuracy,incorrect_tagged_cases]\n"
   ]
  },
  {
   "cell_type": "code",
   "execution_count": 44,
   "metadata": {},
   "outputs": [
    {
     "name": "stdout",
     "output_type": "stream",
     "text": [
      "Time taken in seconds:  1021.981516122818\n",
      "[('The', 'DET'), ('company', 'NOUN'), ('said', 'VERB'), ('0', 'X'), ('it', 'PRON'), ('is', 'VERB'), ('in', 'ADP'), ('the', 'DET'), ('process', 'NOUN'), ('of', 'ADP'), ('*', 'X'), ('phasing', 'VERB'), ('out', 'PRT'), ('John', 'NOUN'), ('Deere', '.'), (',', '.'), ('its', 'PRON'), ('current', 'ADJ'), ('source', 'NOUN'), ('of', 'ADP'), ('production', 'NOUN'), ('for', 'ADP'), ('midsized', 'VERB'), ('motor', 'NOUN'), ('home', 'NOUN'), ('chassis', 'NOUN'), ('.', '.'), ('Douglas', 'NOUN'), ('Madison', 'NOUN'), (',', '.'), ('a', 'DET'), ('corporate', 'ADJ'), ('trader', 'NOUN'), ('with', 'ADP'), ('Bank', 'NOUN'), ('of', 'ADP'), ('America', 'NOUN'), ('in', 'ADP'), ('Los', 'NOUN'), ('Angeles', 'NOUN'), (',', '.'), ('traced', '.'), ('the', 'DET'), ('dollar', 'NOUN'), (\"'s\", 'PRT'), ('recent', 'ADJ'), ('solid', 'ADJ'), ('performance', 'NOUN'), ('against', 'ADP'), ('the', 'DET'), ('yen', 'NOUN'), ('to', 'PRT'), ('purchases', 'NOUN'), ('of', 'ADP'), ('securities', 'NOUN'), ('by', 'ADP'), ('Japanese', 'ADJ'), ('insurance', 'NOUN'), ('companies', 'NOUN'), ('and', 'CONJ'), ('trust', 'NOUN'), ('banks', 'NOUN'), ('and', 'CONJ'), ('the', 'DET'), ('sense', 'NOUN'), ('that', 'ADP'), ('another', 'DET'), ('wave', '.'), ('of', 'ADP'), ('investment', 'NOUN'), ('is', 'VERB'), ('waiting', 'VERB'), ('in', 'ADP'), ('the', 'DET'), ('wings', 'NOUN'), ('.', '.'), ('Ralston', 'NOUN'), ('said', 'VERB'), ('0', 'X'), ('its', 'PRON'), ('Eveready', '.'), ('battery', 'NOUN'), ('unit', 'NOUN'), ('was', 'VERB'), ('hurt', 'VERB'), ('*-1', 'X'), ('by', 'ADP'), ('continuing', 'VERB'), ('economic', 'ADJ'), ('problems', 'NOUN'), ('in', 'ADP'), ('South', 'NOUN'), ('America', 'NOUN'), ('.', '.'), ('A', 'DET'), ('nickname', '.'), ('for', 'ADP'), ('measures', 'NOUN'), ('0', 'X'), ('*', 'X'), ('to', 'PRT'), ('stop', 'VERB'), ('the', 'DET'), ('market', 'NOUN'), ('from', 'ADP'), ('*-2', 'X'), ('plunging', 'VERB'), ('too', 'ADV'), ('far', 'ADV'), ('too', 'ADV'), ('fast', 'ADV'), ('*T*-1', 'X'), ('.', '.'), ('IBM', 'NOUN'), (',', '.'), ('the', 'DET'), ('world', 'NOUN'), ('leader', 'NOUN'), ('in', 'ADP'), ('computers', 'NOUN'), (',', '.'), ('did', 'VERB'), (\"n't\", 'ADV'), ('offer', 'VERB'), ('its', 'PRON'), ('first', 'ADJ'), ('PC', 'NOUN'), ('until', 'ADP'), ('August', 'NOUN'), ('1981', 'NUM'), ('as', 'ADP'), ('many', 'ADJ'), ('other', 'ADJ'), ('companies', 'NOUN'), ('entered', 'VERB'), ('the', 'DET'), ('market', 'NOUN'), ('.', '.'), ('Midwest', 'NOUN'), ('Financial', 'NOUN'), ('has', 'VERB'), ('$', '.'), ('2.3', 'NUM'), ('billion', 'NUM'), ('*U*', 'X'), ('in', 'ADP'), ('assets', 'NOUN'), ('and', 'CONJ'), ('eight', 'NUM'), ('banks', 'NOUN'), ('.', '.'), ('Mr.', 'NOUN'), ('Lane', 'NOUN'), (\"'s\", 'PRT'), ('final', 'ADJ'), ('purpose', 'NOUN'), ('is', 'VERB'), (\"n't\", 'ADV'), ('*-1', 'X'), ('to', 'PRT'), ('glamorize', '.'), ('the', 'DET'), ('Artist', 'NOUN'), (\"'s\", 'PRT'), ('vagabond', '.'), ('existence', '.'), ('.', '.'), ('In', 'ADP'), ('*-2', 'X'), ('ending', 'VERB'), ('Hungary', 'NOUN'), (\"'s\", 'PRT'), ('part', 'NOUN'), ('of', 'ADP'), ('the', 'DET'), ('project', 'NOUN'), (',', '.'), ('Parliament', 'NOUN'), ('authorized', '.'), ('Prime', 'NOUN'), ('Minister', 'NOUN'), ('Miklos', '.'), ('Nemeth', '.'), ('to', 'PRT'), ('modify', 'VERB'), ('a', 'DET'), ('1977', 'NUM'), ('agreement', 'NOUN'), ('with', 'ADP'), ('Czechoslovakia', 'NOUN'), (',', '.'), ('which', 'DET'), ('*T*-64', 'X'), ('still', 'ADV'), ('wants', 'VERB'), ('the', 'DET'), ('dam', 'NOUN'), ('to', 'PRT'), ('be', 'VERB'), ('built', 'VERB'), ('*-1', 'X'), ('.', '.'), ('He', 'PRON'), ('added', 'VERB'), (',', '.'), ('``', '.'), ('This', 'DET'), ('has', 'VERB'), ('nothing', 'NOUN'), ('0', 'X'), ('*', 'X'), ('to', 'PRT'), ('do', 'VERB'), ('*T*-1', 'X'), ('with', 'ADP'), ('Marty', 'NOUN'), ('Ackerman', 'NOUN'), ('and', 'CONJ'), ('it', 'PRON'), ('is', 'VERB'), ('not', 'ADV'), ('designed', 'VERB'), (',', '.'), ('particularly', 'ADV'), (',', '.'), ('*-2', 'X'), ('to', 'PRT'), ('take', 'VERB'), ('the', 'DET'), ('company', 'NOUN'), ('private', 'ADJ'), ('.', '.'), (\"''\", '.'), ('U.S.', 'NOUN'), ('News', 'NOUN'), (\"'\", 'PRT'), ('circulation', 'NOUN'), ('in', 'ADP'), ('the', 'DET'), ('same', 'ADJ'), ('time', 'NOUN'), ('was', 'VERB'), ('2,303,328', '.'), (',', '.'), ('down', 'ADV'), ('2.6', '.'), ('%', 'NOUN'), ('.', '.'), ('A', 'DET'), ('free', 'ADJ'), ('market', 'NOUN'), ('with', 'ADP'), ('a', 'DET'), ('profit', 'NOUN'), ('motive', 'NOUN'), ('will', 'VERB'), ('attract', 'VERB'), ('each', 'DET'), ('investor', 'NOUN'), ('to', 'PRT'), ('the', 'DET'), ('liquidity', 'NOUN'), ('and', 'CONJ'), ('risks', 'NOUN'), ('0', 'X'), ('he', 'PRON'), ('can', 'VERB'), ('tolerate', 'VERB'), ('*T*-1', 'X'), ('.', '.'), ('In', 'ADP'), ('an', 'DET'), ('eight-count', '.'), ('indictment', '.'), (',', '.'), ('the', 'DET'), ('government', 'NOUN'), ('has', 'VERB'), ('charged', 'VERB'), ('GAF', 'NOUN'), (',', '.'), ('a', 'DET'), ('Wayne', 'NOUN'), (',', '.'), ('N.J.', 'NOUN'), (',', '.'), ('specialty', 'NOUN'), ('chemical', 'NOUN'), ('maker', 'NOUN'), (',', '.'), ('and', 'CONJ'), ('its', 'PRON'), ('Vice', '.'), ('Chairman', 'NOUN'), ('James', 'NOUN'), ('T.', 'NOUN'), ('Sherwin', '.'), ('with', 'ADP'), ('*-2', 'X'), ('attempting', 'VERB'), ('*-1', 'X'), ('to', 'PRT'), ('manipulate', '.'), ('the', 'DET'), ('common', 'ADJ'), ('stock', 'NOUN'), ('of', 'ADP'), ('Union', 'NOUN'), ('Carbide', '.'), ('Corp.', 'NOUN'), ('in', 'ADP'), ('advance', 'NOUN'), ('of', 'ADP'), ('GAF', 'NOUN'), (\"'s\", 'PRT'), ('planned', 'VERB'), ('sale', 'NOUN'), ('of', 'ADP'), ('a', 'DET'), ('large', 'ADJ'), ('block', 'NOUN'), ('of', 'ADP'), ('the', 'DET'), ('stock', 'NOUN'), ('in', 'ADP'), ('November', 'NOUN'), ('1986', 'NUM'), ('.', '.'), ('The', 'DET'), ('Michigan', 'NOUN'), ('Democrat', 'NOUN'), (\"'s\", 'PRT'), ('proposal', 'NOUN'), (',', '.'), ('which', 'DET'), ('*T*-4', 'X'), ('is', 'VERB'), ('expected', 'VERB'), ('*-2', 'X'), ('today', 'NOUN'), (',', '.'), ('is', 'VERB'), ('described', 'VERB'), ('*-1', 'X'), ('by', 'ADP'), ('government', 'NOUN'), ('sources', 'NOUN'), ('and', 'CONJ'), ('lobbyists', 'NOUN'), ('as', 'ADP'), ('significantly', 'ADV'), ('weaker', 'ADJ'), ('than', 'ADP'), ('the', 'DET'), ('Bush', 'NOUN'), ('administration', 'NOUN'), (\"'s\", 'PRT'), ('plan', 'NOUN'), ('*', 'X'), ('to', 'PRT'), ('cut', 'VERB'), ('utility', 'NOUN'), ('emissions', 'NOUN'), ('that', 'ADP'), ('*T*-3', 'X'), ('lead', 'VERB'), ('to', 'PRT'), ('acid', 'ADJ'), ('rain', 'NOUN'), ('.', '.'), ('For', 'ADP'), ('1988', 'NUM'), (',', '.'), ('Commonwealth', 'NOUN'), ('Edison', 'NOUN'), ('reported', 'VERB'), ('earnings', 'NOUN'), ('of', 'ADP'), ('$', '.'), ('737.5', '.'), ('million', 'NUM'), ('*U*', 'X'), (',', '.'), ('or', 'CONJ'), ('$', '.'), ('3.01', '.'), ('*U*', 'X'), ('a', 'DET'), ('share', 'NOUN'), ('.', '.'), ('A', 'DET'), ('spokeswoman', 'NOUN'), ('for', 'ADP'), ('Crum', 'NOUN'), ('&', 'CONJ'), ('Forster', 'NOUN'), ('said', 'VERB'), ('0', 'X'), ('employees', 'NOUN'), ('were', 'VERB'), ('told', 'VERB'), ('*-1', 'X'), ('early', 'ADV'), ('this', 'DET'), ('week', 'NOUN'), ('that', 'ADP'), ('numerous', 'ADJ'), ('staff', 'NOUN'), ('functions', 'NOUN'), ('for', 'ADP'), ('the', 'DET'), ('personal', 'ADJ'), ('insurance', 'NOUN'), ('lines', 'NOUN'), ('were', 'VERB'), ('going', 'VERB'), ('*-3', 'X'), ('to', 'PRT'), ('be', 'VERB'), ('centralized', '.'), ('*-2', 'X'), ('as', 'ADP'), ('a', 'DET'), ('cost-cutting', 'ADJ'), ('move', 'NOUN'), ('.', '.'), ('``', '.'), ('We', 'PRON'), ('feel', 'VERB'), ('very', 'ADV'), ('strongly', 'ADV'), ('that', 'ADP'), ('we', 'PRON'), ('really', 'ADV'), ('need', 'VERB'), ('action', 'NOUN'), ('across', 'ADP'), ('the', 'DET'), ('full', 'ADJ'), ('range', 'NOUN'), ('of', 'ADP'), ('issues', 'NOUN'), ('0', 'X'), ('we', 'PRON'), (\"'ve\", 'VERB'), ('identified', 'VERB'), ('*T*-1', 'X'), (',', '.'), ('and', 'CONJ'), ('we', 'PRON'), ('need', 'VERB'), ('it', 'PRON'), ('by', 'ADP'), ('next', 'ADJ'), ('spring', 'NOUN'), (',', '.'), (\"''\", '.'), ('Mr.', 'NOUN'), ('Dallara', 'NOUN'), ('says', 'VERB'), ('*T*-2', 'X'), ('.', '.'), ('On', 'ADP'), ('the', 'DET'), ('one', 'NUM'), ('hand', 'NOUN'), (',', '.'), ('Brazil', 'NOUN'), ('started', 'VERB'), ('an', 'DET'), ('ethanol', '.'), ('program', 'NOUN'), ('about', 'ADP'), ('15', 'NUM'), ('years', 'NOUN'), ('ago', 'ADP'), ('*-1', 'X'), ('to', 'PRT'), ('fuel', 'NOUN'), ('a', 'DET'), ('huge', 'ADJ'), ('portion', 'NOUN'), ('of', 'ADP'), ('its', 'PRON'), ('national', 'ADJ'), ('fleet', '.'), ('of', 'ADP'), ('cars', 'NOUN'), ('and', 'CONJ'), ('is', 'VERB'), ('now', 'ADV'), ('committed', 'VERB'), ('to', 'PRT'), ('this', 'DET'), ('program', 'NOUN'), ('.', '.'), ('Crane', 'NOUN'), ('&', 'CONJ'), ('Co.', 'NOUN'), ('Securities', 'NOUN'), ('Inc.', 'NOUN'), (',', '.'), ('of', 'ADP'), ('Mount', '.'), ('Clemens', '.'), (',', '.'), ('Mich.', 'NOUN'), (',', '.'), ('and', 'CONJ'), ('its', 'PRON'), ('president', 'NOUN'), (',', '.'), ('Glenn', 'NOUN'), ('R.', 'NOUN'), ('Crane', 'NOUN'), (',', '.'), ('of', 'ADP'), ('Sterling', 'NOUN'), ('Heights', 'NOUN'), (',', '.'), ('Mich.', 'NOUN'), (',', '.'), ('consented', 'VERB'), ('to', 'PRT'), ('a', 'DET'), ('joint', 'ADJ'), ('fine', 'NOUN'), ('of', 'ADP'), ('$', '.'), ('10,000', 'NUM'), ('*U*', 'X'), ('.', '.'), ('Columbia', 'NOUN'), ('Savings', 'NOUN'), ('&', 'CONJ'), ('Loan', 'NOUN'), ('-LRB-', '.'), ('NYSE', '.'), (';', '.'), ('Symbol', '.'), (':', '.'), ('CSV', '.'), ('-RRB-', '.'), ('Ketchum', '.'), ('Communications', 'NOUN'), (',', '.'), ('Pittsburgh', '.'), (',', '.'), ('acquired', 'VERB'), ('Braun', '.'), ('&', 'CONJ'), ('Co.', 'NOUN'), (',', '.'), ('a', 'DET'), ('Los', 'NOUN'), ('Angeles', 'NOUN'), ('investor-relations', '.'), ('and', 'CONJ'), ('marketing-communications', '.'), ('firm', 'NOUN'), ('.', '.'), ('The', 'DET'), ('next', 'ADJ'), ('morning', 'NOUN'), (',', '.'), ('with', 'ADP'), ('a', 'DET'), ('police', 'NOUN'), ('escort', '.'), (',', '.'), ('busloads', '.'), ('of', 'ADP'), ('executives', 'NOUN'), ('and', 'CONJ'), ('their', 'PRON'), ('wives', '.'), ('raced', '.'), ('to', 'PRT'), ('the', 'DET'), ('Indianapolis', 'NOUN'), ('Motor', 'NOUN'), ('Speedway', '.'), (',', '.'), ('*-1', 'X'), ('unimpeded', '.'), ('by', 'ADP'), ('traffic', '.'), ('or', 'CONJ'), ('red', 'ADJ'), ('lights', 'NOUN'), ('.', '.'), ('We', 'PRON'), ('must', 'VERB'), ('be', 'VERB'), ('very', 'ADV'), ('cautious', 'ADJ'), ('about', 'ADP'), ('*', 'X'), ('labeling', '.'), ('investors', 'NOUN'), ('as', 'ADP'), ('``', '.'), ('long-term', 'ADJ'), (\"''\", '.'), ('or', 'CONJ'), ('``', '.'), ('short-term', 'ADJ'), ('.', '.'), (\"''\", '.'), ('And', 'CONJ'), ('an', 'DET'), ('FT-SE', 'NOUN'), ('futures', 'NOUN'), ('contract', 'NOUN'), ('is', 'VERB'), ('traded', 'VERB'), ('*-1', 'X'), ('on', 'ADP'), ('the', 'DET'), ('London', 'NOUN'), ('International', 'NOUN'), ('Financial', 'NOUN'), ('Futures', 'NOUN'), ('Exchange', 'NOUN'), ('.', '.'), ('But', 'CONJ'), ('when', 'ADV'), ('the', 'DET'), ('contract', 'NOUN'), ('reopened', '.'), ('*T*-1', 'X'), (',', '.'), ('the', 'DET'), ('subsequent', '.'), ('flood', '.'), ('of', 'ADP'), ('sell', 'NOUN'), ('orders', 'NOUN'), ('that', 'ADP'), ('*T*-211', '.'), ('quickly', 'ADV'), ('knocked', '.'), ('the', 'DET'), ('contract', 'NOUN'), ('down', 'ADP'), ('to', 'PRT'), ('the', 'DET'), ('30-point', 'ADJ'), ('limit', 'NOUN'), ('indicated', 'VERB'), ('that', 'ADP'), ('the', 'DET'), ('intermediate', '.'), ('limit', 'NOUN'), ('of', 'ADP'), ('20', 'NUM'), ('points', 'NOUN'), ('was', 'VERB'), ('needed', 'VERB'), ('*-128', '.'), ('*-128', '.'), ('to', 'PRT'), ('help', 'VERB'), ('keep', 'VERB'), ('stock', 'NOUN'), ('and', 'CONJ'), ('stock-index', 'ADJ'), ('futures', 'NOUN'), ('prices', 'NOUN'), ('synchronized', '.'), ('.', '.'), ('I', 'PRON'), ('feel', 'VERB'), ('pretty', 'ADV'), ('good', 'ADJ'), ('about', 'ADP'), ('it', 'PRON'), ('.', '.'), ('Proper', '.'), ('English', 'NOUN'), ('bells', 'NOUN'), ('are', 'VERB'), ('started', 'VERB'), ('*-1', 'X'), ('off', 'PRT'), ('in', 'ADP'), ('``', '.'), ('rounds', '.'), (',', '.'), (\"''\", '.'), ('from', 'ADP'), ('the', 'DET'), ('highest-pitched', '.'), ('bell', 'NOUN'), ('to', 'PRT'), ('the', 'DET'), ('lowest', 'ADJ'), ('--', '.'), ('a', 'DET'), ('simple', 'ADJ'), ('descending', '.'), ('scale', 'NOUN'), ('using', 'VERB'), (',', '.'), ('in', 'ADP'), ('larger', 'ADJ'), ('churches', 'NOUN'), (',', '.'), ('as', 'ADP'), ('many', 'ADJ'), ('as', 'ADP'), ('12', 'NUM'), ('bells', 'NOUN'), ('.', '.'), ('The', 'DET'), ('offer', 'NOUN'), ('is', 'VERB'), ('being', 'VERB'), ('launched', 'VERB'), ('*-45', 'X'), ('pursuant', 'ADJ'), ('to', 'PRT'), ('a', 'DET'), ('previously', 'ADV'), ('announced', 'VERB'), ('agreement', 'NOUN'), ('between', 'ADP'), ('the', 'DET'), ('companies', 'NOUN'), ('.', '.'), ('Traders', 'NOUN'), ('said', 'VERB'), ('0', 'X'), ('prices', 'NOUN'), ('also', 'ADV'), ('were', 'VERB'), ('supported', 'VERB'), ('*-1', 'X'), ('by', 'ADP'), ('widespread', 'ADJ'), ('rumors', 'NOUN'), ('that', 'ADP'), ('the', 'DET'), ('Soviet', 'ADJ'), ('Union', 'NOUN'), ('is', 'VERB'), ('on', 'ADP'), ('the', 'DET'), ('verge', '.'), ('of', 'ADP'), ('*', 'X'), ('receiving', 'VERB'), ('most', 'ADV'), ('favored', 'VERB'), ('nation', 'NOUN'), ('status', 'NOUN'), ('from', 'ADP'), ('the', 'DET'), ('U.S.', 'NOUN'), ('.', '.'), ('``', '.'), ('The', 'DET'), ('USIA', 'NOUN'), ('officially', 'ADV'), ('and', 'CONJ'), ('publicly', 'ADV'), ('declared', 'VERB'), ('the', 'DET'), ('absolute', '.'), ('right', 'NOUN'), ('*ICH*-2', 'X'), ('of', 'ADP'), ('everyone', 'NOUN'), ('except', 'ADP'), ('the', 'DET'), ('USIA', 'NOUN'), ('*', 'X'), ('to', 'PRT'), ('disseminate', '.'), ('agency', 'NOUN'), ('program', 'NOUN'), ('materials', 'NOUN'), ('in', 'ADP'), ('the', 'DET'), ('United', 'NOUN'), ('States', 'NOUN'), (',', '.'), (\"''\", '.'), ('my', 'PRON'), ('lawyer', 'NOUN'), (',', '.'), ('the', 'DET'), ('scholarly', '.'), ('Mark', 'NOUN'), ('McCormick', 'NOUN'), ('of', 'ADP'), ('Des', 'NOUN'), ('Moines', 'NOUN'), (',', '.'), ('said', 'VERB'), ('*T*-1', 'X'), ('in', 'ADP'), ('a', 'DET'), ('memo', '.'), ('pointing', 'VERB'), ('out', 'PRT'), ('the', 'DET'), ('facts', 'NOUN'), ('and', 'CONJ'), ('trying', 'VERB'), ('*', 'X'), ('to', 'PRT'), ('make', 'VERB'), ('me', 'PRON'), ('feel', 'VERB'), ('good', 'ADJ'), ('after', 'ADP'), ('the', 'DET'), ('press', 'NOUN'), ('reported', 'VERB'), ('that', 'ADP'), ('I', 'PRON'), ('had', 'VERB'), ('lost', 'VERB'), ('.', '.'), ('Federal', 'NOUN'), ('judges', 'NOUN'), ('make', 'VERB'), ('$', '.'), ('89,500', '.'), ('*U*', 'X'), ('annually', 'ADV'), (';', '.'), ('in', 'ADP'), ('February', 'NOUN'), (',', '.'), ('Congress', 'NOUN'), ('rejected', 'VERB'), ('a', 'DET'), ('bill', 'NOUN'), ('that', 'ADP'), ('*T*-1', 'X'), ('would', 'VERB'), ('have', 'VERB'), ('increased', 'VERB'), ('their', 'PRON'), ('pay', 'VERB'), ('by', 'ADP'), ('50', 'NUM'), ('%', 'NOUN'), ('.', '.'), ('*-1', 'X'), ('Bucking', '.'), ('the', 'DET'), ('market', 'NOUN'), ('trend', 'NOUN'), (',', '.'), ('an', 'DET'), ('issue', 'NOUN'), ('of', 'ADP'), ('$', '.'), ('130', 'NUM'), ('million', 'NUM'), ('*U*', 'X'), ('general', 'ADJ'), ('obligation', 'NOUN'), ('distributable', 'ADJ'), ('state', 'NOUN'), ('aid', 'NOUN'), ('bonds', 'NOUN'), ('from', 'ADP'), ('Detroit', 'NOUN'), (',', '.'), ('Mich.', 'NOUN'), (',', '.'), ('apparently', 'ADV'), ('drew', '.'), ('solid', 'ADJ'), ('investor', 'NOUN'), ('interest', 'NOUN'), ('.', '.'), ('The', 'DET'), ('Chinese', 'ADJ'), ('responded', 'VERB'), ('in', 'ADP'), ('an', 'DET'), ('equally', 'ADV'), ('undiplomatic', '.'), ('fashion', '.'), ('.', '.'), ('The', 'DET'), ('Soviet', 'ADJ'), ('Union', 'NOUN'), ('usually', 'ADV'), ('begins', 'VERB'), ('*-1', 'X'), ('buying', 'VERB'), ('U.S.', 'NOUN'), ('crops', 'NOUN'), ('earlier', 'ADV'), ('in', 'ADP'), ('the', 'DET'), ('fall', 'NOUN'), ('.', '.'), ('On', 'ADP'), ('the', 'DET'), ('other', 'ADJ'), ('hand', 'NOUN'), (',', '.'), ('if', 'ADP'), ('it', 'PRON'), ('goes', 'VERB'), ('way', 'NOUN'), ('sky', '.'), ('high', 'ADJ'), (',', '.'), ('I', 'PRON'), ('always', 'ADV'), ('sell', 'VERB'), ('.', '.'), ('The', 'DET'), ('fact', 'NOUN'), ('that', 'ADP'), ('New', 'NOUN'), ('England', 'NOUN'), ('proposed', 'VERB'), ('lower', 'ADJ'), ('rate', 'NOUN'), ('increases', 'NOUN'), ('--', '.'), ('4.8', 'NUM'), ('%', 'NOUN'), ('*U*', 'X'), ('over', 'ADP'), ('seven', 'NUM'), ('years', 'NOUN'), ('against', 'ADP'), ('around', 'ADP'), ('5.5', 'NUM'), ('%', 'NOUN'), ('boosts', 'VERB'), ('proposed', 'VERB'), ('*', 'X'), ('by', 'ADP'), ('the', 'DET'), ('other', 'ADJ'), ('two', 'NUM'), ('outside', 'ADJ'), ('bidders', 'NOUN'), ('--', '.'), ('complicated', 'ADJ'), ('negotiations', 'NOUN'), ('with', 'ADP'), ('state', 'NOUN'), ('officials', 'NOUN'), (',', '.'), ('Mr.', 'NOUN'), ('Ross', 'NOUN'), ('asserted', 'VERB'), ('0', 'X'), ('*T*-1', 'X'), ('.', '.'), ('New', 'NOUN'), ('rules', 'NOUN'), ('force', 'NOUN'), ('thrifts', 'NOUN'), ('to', 'PRT'), ('write', 'VERB'), ('down', 'ADV'), ('their', 'PRON'), ('junk', 'NOUN'), ('to', 'PRT'), ('market', 'NOUN'), ('value', 'NOUN'), (',', '.'), ('then', 'ADV'), ('sell', 'VERB'), ('the', 'DET'), ('bonds', 'NOUN'), ('over', 'ADP'), ('five', 'NUM'), ('years', 'NOUN'), ('.', '.'), ('They', 'PRON'), ('are', 'VERB'), (\"n't\", 'ADV'), ('accepted', 'VERB'), ('*-1', 'X'), ('everywhere', 'ADV'), (',', '.'), ('however', 'ADV'), ('.', '.'), ('James', 'NOUN'), ('Mason', 'NOUN'), (',', '.'), ('assistant', 'NOUN'), ('secretary', 'NOUN'), ('for', 'ADP'), ('health', 'NOUN'), (',', '.'), ('said', 'VERB'), ('0', 'X'), ('the', 'DET'), ('ban', 'NOUN'), ('on', 'ADP'), ('federal', 'ADJ'), ('funding', 'NOUN'), ('of', 'ADP'), ('fetal-tissue', 'ADJ'), ('transplant', 'NOUN'), ('research', 'NOUN'), ('``', '.'), ('should', 'VERB'), ('be', 'VERB'), ('continued', 'VERB'), ('*-1', 'X'), ('indefinitely', 'ADV'), ('.', '.'), (\"''\", '.'), ('Mr.', 'NOUN'), ('Watson', 'NOUN'), ('says', 'VERB'), ('0', 'X'), ('Mrs.', 'NOUN'), ('Yeargin', 'NOUN'), ('never', 'ADV'), ('complained', 'VERB'), ('to', 'PRT'), ('school', 'NOUN'), ('officials', 'NOUN'), ('that', 'ADP'), ('the', 'DET'), ('standardized', 'ADJ'), ('test', 'NOUN'), ('was', 'VERB'), ('unfair', 'ADJ'), ('.', '.'), ('Trinity', 'NOUN'), ('Industries', 'NOUN'), ('Inc.', 'NOUN'), ('said', 'VERB'), ('0', 'X'), ('it', 'PRON'), ('reached', 'VERB'), ('a', 'DET'), ('preliminary', 'ADJ'), ('agreement', 'NOUN'), ('*', 'X'), ('to', 'PRT'), ('sell', 'VERB'), ('500', 'NUM'), ('railcar', '.'), ('platforms', '.'), ('to', 'PRT'), ('Trailer', '.'), ('Train', '.'), ('Co.', 'NOUN'), ('of', 'ADP'), ('Chicago', 'NOUN'), ('.', '.'), ('Mr.', 'NOUN'), ('Leming', 'NOUN'), ('was', 'VERB'), (\"n't\", 'ADV'), ('surprised', 'VERB'), ('*-1', 'X'), ('by', 'ADP'), ('the', 'DET'), ('lower', 'ADJ'), ('price', 'NOUN'), ('cited', 'VERB'), ('*', 'X'), ('by', 'ADP'), ('NL', 'NOUN'), (',', '.'), ('*-1', 'X'), ('saying', 'VERB'), ('0', 'X'), ('he', 'PRON'), ('believes', 'VERB'), ('that', 'ADP'), ('$', '.'), ('55', 'NUM'), ('*U*', 'X'), ('a', 'DET'), ('share', 'NOUN'), ('is', 'VERB'), ('``', '.'), ('the', 'DET'), ('most', 'ADJ'), ('0', 'X'), ('you', 'PRON'), ('can', 'VERB'), ('pay', 'VERB'), ('*T*-2', 'X'), ('for', 'ADP'), ('Georgia', 'NOUN'), ('Gulf', 'NOUN'), ('before', 'ADP'), ('it', 'PRON'), ('becomes', 'VERB'), ('a', 'DET'), ('bad', 'ADJ'), ('acquisition', 'NOUN'), ('.', '.'), (\"''\", '.'), ('``', '.'), ('U.S.', 'NOUN'), ('investors', 'NOUN'), ('should', 'VERB'), ('have', 'VERB'), ('a', 'DET'), ('greater', 'ADJ'), ('opportunity', 'NOUN'), ('at', 'ADP'), ('direct', 'ADJ'), ('investment', 'NOUN'), (\"''\", '.'), ('in', 'ADP'), ('Japan', 'NOUN'), ('.', '.'), ('After', 'ADP'), ('the', 'DET'), ('first', 'ADJ'), ('set', 'NOUN'), ('of', 'ADP'), ('meetings', 'NOUN'), ('two', 'NUM'), ('months', 'NOUN'), ('ago', 'ADP'), (',', '.'), ('some', 'DET'), ('U.S.', 'NOUN'), ('officials', 'NOUN'), ('complained', 'VERB'), ('that', 'ADP'), ('Japan', 'NOUN'), ('had', 'VERB'), (\"n't\", 'ADV'), ('come', 'VERB'), ('up', 'ADV'), ('with', 'ADP'), ('specific', 'ADJ'), ('changes', 'NOUN'), ('0', 'X'), ('it', 'PRON'), ('was', 'VERB'), ('prepared', 'VERB'), ('*-1', 'X'), ('to', 'PRT'), ('make', 'VERB'), ('*T*-2', 'X'), ('.', '.'), ('That', 'DET'), ('was', 'VERB'), ('partially', 'ADV'), ('offset', 'VERB'), ('*-1', 'X'), ('by', 'ADP'), ('the', 'DET'), ('resumption', '.'), ('of', 'ADP'), ('space', 'NOUN'), ('shuttle', '.'), ('flights', 'NOUN'), ('and', 'CONJ'), ('increased', 'VERB'), ('demand', 'NOUN'), ('for', 'ADP'), ('expendable', '.'), ('launch-vehicle', '.'), ('engines', '.'), ('.', '.'), ('Net', 'ADJ'), ('is', 'VERB'), ('expected', 'VERB'), ('*-1', 'X'), ('to', 'PRT'), ('rise', 'VERB'), ('to', 'PRT'), ('17', 'NUM'), ('billion', 'NUM'), ('yen', 'NOUN'), ('from', 'ADP'), ('12.82', '.'), ('billion', 'NUM'), ('yen', 'NOUN'), ('a', 'DET'), ('year', 'NOUN'), ('earlier', 'ADV'), ('.', '.'), ('But', 'CONJ'), ('voters', 'NOUN'), ('decided', 'VERB'), ('that', 'ADP'), ('if', 'ADP'), ('the', 'DET'), ('stadium', 'NOUN'), ('was', 'VERB'), ('such', 'ADJ'), ('a', 'DET'), ('good', 'ADJ'), ('idea', 'NOUN'), ('someone', 'NOUN'), ('would', 'VERB'), ('build', 'VERB'), ('it', 'PRON'), ('himself', 'PRON'), (',', '.'), ('and', 'CONJ'), ('rejected', 'VERB'), ('it', 'PRON'), ('59', 'NUM'), ('%', 'NOUN'), ('to', 'PRT'), ('41', 'NUM'), ('%', 'NOUN'), ('*U*', 'X'), ('.', '.'), ('Bank', 'NOUN'), ('of', 'ADP'), ('New', 'NOUN'), ('England', 'NOUN'), (\"'s\", 'PRT'), ('shares', 'NOUN'), ('are', 'VERB'), ('traded', 'VERB'), ('*-1', 'X'), ('on', 'ADP'), ('the', 'DET'), ('New', 'NOUN'), ('York', 'NOUN'), ('Stock', 'NOUN'), ('Exchange', 'NOUN'), ('.', '.'), ('Revenue', 'NOUN'), ('rose', 'VERB'), ('42', 'NUM'), ('%', 'NOUN'), ('to', 'PRT'), ('$', '.'), ('133.7', '.'), ('million', 'NUM'), ('*U*', 'X'), ('from', 'ADP'), ('$', '.'), ('94', '.'), ('million', 'NUM'), ('*U*', 'X'), ('.', '.'), ('Williams', 'NOUN'), ('shares', 'NOUN'), (',', '.'), ('which', 'DET'), ('*T*-2', 'X'), ('were', 'VERB'), ('*-2', 'X'), ('to', 'PRT'), ('be', 'VERB'), ('delisted', '.'), ('*-1', 'X'), ('from', 'ADP'), ('the', 'DET'), ('New', 'NOUN'), ('York', 'NOUN'), ('Stock', 'NOUN'), ('Exchange', 'NOUN'), ('after', 'ADP'), ('the', 'DET'), ('close', 'NOUN'), ('of', 'ADP'), ('composite', 'ADJ'), ('trading', 'NOUN'), ('yesterday', 'NOUN'), (',', '.'), ('closed', 'VERB'), ('at', 'ADP'), ('$', '.'), ('23.25', '.'), ('*U*', 'X'), (',', '.'), ('off', 'ADP'), ('12.5', 'NUM'), ('cents', 'NOUN'), ('.', '.'), ('TREASURY', '.'), ('BILLS', '.'), (':', '.'), ('Results', '.'), ('of', 'ADP'), ('the', 'DET'), ('Monday', 'NOUN'), (',', '.'), ('October', 'NOUN'), ('30', 'NUM'), (',', '.'), ('1989', 'NUM'), (',', '.'), ('auction', 'NOUN'), ('of', 'ADP'), ('short-term', 'ADJ'), ('U.S.', 'NOUN'), ('government', 'NOUN'), ('bills', 'NOUN'), (',', '.'), ('sold', 'VERB'), ('*', 'X'), ('at', 'ADP'), ('a', 'DET'), ('discount', 'NOUN'), ('from', 'ADP'), ('face', 'NOUN'), ('value', 'NOUN'), ('in', 'ADP'), ('units', 'NOUN'), ('of', 'ADP'), ('$', '.'), ('10,000', 'NUM'), ('to', 'PRT'), ('$', '.'), ('1', 'NUM'), ('million', 'NUM'), ('*U*', 'X'), (':', '.'), ('7.78', '.'), ('%', 'NOUN'), ('13', 'NUM'), ('weeks', 'NOUN'), (';', '.'), ('7.62', '.'), ('%', 'NOUN'), ('26', 'NUM'), ('weeks', 'NOUN'), ('.', '.'), ('*-1', 'X'), ('Stung', 'VERB'), ('by', 'ADP'), ('charges', 'NOUN'), ('that', 'ADP'), ('their', 'PRON'), ('greed', 'NOUN'), ('is', 'VERB'), ('turning', 'VERB'), ('the', 'DET'), ('stock', 'NOUN'), ('market', 'NOUN'), ('into', 'ADP'), ('a', 'DET'), ('gigantic', '.'), ('crapshoot', '.'), (',', '.'), ('almost', 'ADV'), ('all', 'DET'), ('the', 'DET'), ('big', 'ADJ'), ('investment', 'NOUN'), ('banking', 'NOUN'), ('houses', 'NOUN'), ('have', 'VERB'), ('abandoned', 'VERB'), ('index', 'NOUN'), ('arbitrage', 'NOUN'), (',', '.'), ('a', 'DET'), ('common', 'ADJ'), ('form', 'NOUN'), ('of', 'ADP'), ('program', 'NOUN'), ('trading', 'NOUN'), (',', '.'), ('for', 'ADP'), ('their', 'PRON'), ('own', 'ADJ'), ('accounts', 'NOUN'), ('in', 'ADP'), ('the', 'DET'), ('past', 'ADJ'), ('few', 'ADJ'), ('days', 'NOUN'), ('.', '.'), ('One', 'NUM'), ('analyst', 'NOUN'), (',', '.'), ('Arthur', 'NOUN'), ('Stevenson', 'NOUN'), (',', '.'), ('of', 'ADP'), ('Prudential-Bache', 'NOUN'), ('Securities', 'NOUN'), (',', '.'), ('New', 'NOUN'), ('York', 'NOUN'), (',', '.'), ('estimated', 'VERB'), ('that', 'ADP'), ('65', 'NUM'), ('%', 'NOUN'), ('or', 'CONJ'), ('more', 'ADJ'), ('of', 'ADP'), ('Brazil', 'NOUN'), (\"'s\", 'PRT'), ('newly', 'ADV'), ('made', 'VERB'), ('automobiles', 'NOUN'), ('run', 'VERB'), ('on', 'ADP'), ('alcohol', 'NOUN'), ('and', 'CONJ'), ('ca', 'VERB'), (\"n't\", 'ADV'), ('use', 'VERB'), ('gasoline', 'NOUN'), ('.', '.'), ('Sales', 'NOUN'), ('were', 'VERB'), ('roughly', 'ADV'), ('flat', 'ADJ'), ('in', 'ADP'), ('the', 'DET'), ('1989', 'NUM'), ('model', 'NOUN'), ('year', 'NOUN'), ('compared', 'VERB'), ('with', 'ADP'), ('a', 'DET'), ('year', 'NOUN'), ('earlier', 'ADV'), (',', '.'), ('though', 'ADP'), ('industry', 'NOUN'), ('sales', 'NOUN'), ('fell', 'VERB'), ('.', '.'), ('The', 'DET'), ('IRS', 'NOUN'), ('warnings', 'NOUN'), ('stem', 'VERB'), ('from', 'ADP'), ('a', 'DET'), ('1984', 'NUM'), ('law', 'NOUN'), ('that', 'ADP'), ('*T*-1', 'X'), ('requires', 'VERB'), ('anyone', 'NOUN'), ('who', 'PRON'), ('*T*-126', '.'), ('receives', '.'), ('more', 'ADV'), ('than', 'ADP'), ('$', '.'), ('10,000', 'NUM'), ('*U*', 'X'), ('in', 'ADP'), ('cash', 'NOUN'), ('from', 'ADP'), ('a', 'DET'), ('client', 'NOUN'), ('or', 'CONJ'), ('customer', 'NOUN'), ('in', 'ADP'), ('one', 'NUM'), ('or', 'CONJ'), ('more', 'ADJ'), ('related', 'ADJ'), ('transactions', 'NOUN'), ('``', '.'), ('in', 'ADP'), ('the', 'DET'), ('course', 'NOUN'), ('of', 'ADP'), ('trade', 'NOUN'), ('or', 'CONJ'), ('business', 'NOUN'), (\"''\", '.'), ('to', 'PRT'), ('report', 'VERB'), ('the', 'DET'), ('payment', 'NOUN'), ('on', 'ADP'), ('a', 'DET'), ('document', '.'), ('known', 'VERB'), ('*', 'X'), ('as', 'ADP'), ('Form', '.'), ('8300', 'ADJ'), ('.', '.'), ('That', 'DET'), ('builds', '.'), ('confidence', 'NOUN'), (',', '.'), ('self', '.'), ('sufficiency', '.'), (',', '.'), ('not', 'ADV'), ('to', 'PRT'), ('mention', 'VERB'), ('critical', '.'), ('regulatory', 'ADJ'), ('net', 'ADJ'), ('worth', 'NOUN'), ('.', '.'), ('There', 'DET'), ('is', 'VERB'), ('no', 'DET'), ('asbestos', 'NOUN'), ('in', 'ADP'), ('our', 'PRON'), ('products', 'NOUN'), ('now', 'ADV'), ('.', '.'), (\"''\", '.'), ('Payouts', '.'), ('on', 'ADP'), ('the', 'DET'), ('S&P', 'NOUN'), ('500', 'NUM'), ('stocks', 'NOUN'), ('rose', 'VERB'), ('10', 'NUM'), ('%', 'NOUN'), ('in', 'ADP'), ('1988', 'NUM'), (',', '.'), ('according', 'VERB'), ('to', 'PRT'), ('Standard', 'NOUN'), ('&', 'CONJ'), ('Poor', 'NOUN'), (\"'s\", 'PRT'), ('Corp.', 'NOUN'), (',', '.'), ('and', 'CONJ'), ('Wall', 'NOUN'), ('Street', 'NOUN'), ('estimates', 'NOUN'), ('for', 'ADP'), ('1989', 'NUM'), ('growth', 'NOUN'), ('are', 'VERB'), ('generally', 'ADV'), ('between', 'ADP'), ('9', 'NUM'), ('%', 'NOUN'), ('and', 'CONJ'), ('14', 'NUM'), ('%', 'NOUN'), ('*U*', 'X'), ('.', '.'), ('Excision', '.'), ('of', 'ADP'), ('appropriations', 'NOUN'), ('riders', '.'), ('that', 'DET'), ('*T*-1', 'X'), ('trespass', '.'), ('on', 'ADP'), ('the', 'DET'), ('president', 'NOUN'), (\"'s\", 'PRT'), ('duties', 'NOUN'), ('and', 'CONJ'), ('prerogative', '.'), ('under', 'ADP'), ('Article', 'NOUN'), ('II', 'NOUN'), ('would', 'VERB'), ('be', 'VERB'), ('different', 'ADJ'), ('from', 'ADP'), ('the', 'DET'), ('line-item', 'ADJ'), ('veto', 'NOUN'), ('.', '.'), ('Demand', '.'), ('from', 'ADP'), ('Europe', 'NOUN'), ('and', 'CONJ'), ('Southeast', 'NOUN'), ('Asia', 'NOUN'), ('also', 'ADV'), ('grew', 'VERB'), (',', '.'), ('but', 'CONJ'), ('due', 'ADJ'), ('to', 'PRT'), ('increasing', 'VERB'), ('production', 'NOUN'), ('at', 'ADP'), ('local', 'ADJ'), ('plants', 'NOUN'), (',', '.'), ('overseas', 'ADV'), ('sales', 'NOUN'), ('edged', 'VERB'), ('down', 'ADV'), ('2.8', 'NUM'), ('%', 'NOUN'), ('.', '.'), ('Many', 'ADJ'), ('attorneys', 'NOUN'), ('have', 'VERB'), ('returned', 'VERB'), ('incomplete', 'ADJ'), ('forms', 'NOUN'), ('to', 'PRT'), ('the', 'DET'), ('IRS', 'NOUN'), ('in', 'ADP'), ('recent', 'ADJ'), ('years', 'NOUN'), (',', '.'), ('*-1', 'X'), ('citing', 'VERB'), ('attorney-client', 'ADJ'), ('privilege', 'NOUN'), ('.', '.'), ('The', 'DET'), ('ailing', 'VERB'), ('company', 'NOUN'), (',', '.'), ('which', 'DET'), ('*T*-236', '.'), ('has', 'VERB'), ('reported', 'VERB'), ('net', 'ADJ'), ('losses', 'NOUN'), ('for', 'ADP'), ('16', 'NUM'), ('consecutive', 'ADJ'), ('quarters', 'NOUN'), (',', '.'), ('said', 'VERB'), ('0', 'X'), ('it', 'PRON'), ('wo', 'VERB'), (\"n't\", 'ADV'), ('manufacture', 'VERB'), ('network', 'NOUN'), ('computer', 'NOUN'), ('systems', 'NOUN'), ('any', 'DET'), ('more', 'ADJ'), ('and', 'CONJ'), ('will', 'VERB'), ('greatly', 'ADV'), ('reduce', 'VERB'), ('its', 'PRON'), ('costly', 'ADJ'), ('direct', 'ADJ'), ('sales', 'NOUN'), ('force', 'NOUN'), ('.', '.'), ('The', 'DET'), ('Illinois', 'NOUN'), ('Supreme', 'NOUN'), ('Court', 'NOUN'), ('ordered', 'VERB'), ('the', 'DET'), ('commission', 'NOUN'), ('*-1', 'X'), ('to', 'PRT'), ('audit', 'NOUN'), ('Commonwealth', 'NOUN'), ('Edison', 'NOUN'), (\"'s\", 'PRT'), ('construction', 'NOUN'), ('expenses', 'NOUN'), ('and', 'CONJ'), ('refund', 'NOUN'), ('any', 'DET'), ('unreasonable', 'ADJ'), ('expenses', 'NOUN'), ('.', '.'), ('A', 'DET'), ('spokesman', 'NOUN'), ('for', 'ADP'), ('the', 'DET'), ('state', 'NOUN'), (',', '.'), ('however', 'ADV'), (',', '.'), ('calls', 'VERB'), ('the', 'DET'), ('idea', 'NOUN'), ('``', '.'), ('not', 'ADV'), ('effective', 'ADJ'), ('or', 'CONJ'), ('cost', 'NOUN'), ('efficient', 'ADJ'), ('.', '.'), ('``', '.'), ('We', 'PRON'), ('want', 'VERB'), ('*-1', 'X'), ('to', 'PRT'), ('see', 'VERB'), ('the', 'DET'), ('glass', 'NOUN'), ('market', 'NOUN'), ('from', 'ADP'), ('the', 'DET'), ('inside', '.'), (',', '.'), ('not', 'ADV'), ('the', 'DET'), ('outside', 'ADJ'), ('.', '.'), (\"''\", '.'), ('Spending', '.'), ('on', 'ADP'), ('private', 'ADJ'), (',', '.'), ('nonresidential', '.'), ('construction', 'NOUN'), ('was', 'VERB'), ('off', 'PRT'), ('2.6', '.'), ('%', 'NOUN'), ('to', 'PRT'), ('an', 'DET'), ('annual', 'ADJ'), ('rate', 'NOUN'), ('of', 'ADP'), ('$', '.'), ('99.1', '.'), ('billion', 'NUM'), ('*U*', 'X'), ('with', 'ADP'), ('no', 'DET'), ('sector', 'NOUN'), ('showing', 'VERB'), ('strength', 'NOUN'), ('.', '.'), ('``', '.'), ('So', 'ADV'), ('the', 'DET'), ('focus', 'NOUN'), ('turned', 'VERB'), ('to', 'PRT'), ('other', 'ADJ'), ('fixed-income', '.'), ('markets', 'NOUN'), (',', '.'), ('corporate', 'ADJ'), ('and', 'CONJ'), ('mortgages', 'NOUN'), ('in', 'ADP'), ('particular', 'ADJ'), (',', '.'), (\"''\", '.'), ('she', 'PRON'), ('said', 'VERB'), ('*T*-1', 'X'), ('.', '.'), ('Bond', 'NOUN'), ('prices', 'NOUN'), ('and', 'CONJ'), ('the', 'DET'), ('dollar', 'NOUN'), ('both', 'DET'), ('gained', 'VERB'), ('modestly', 'ADV'), ('.', '.'), ('Trading', 'NOUN'), ('was', 'VERB'), ('muted', '.'), ('*-1', 'X'), ('in', 'ADP'), ('part', 'NOUN'), ('because', 'ADP'), ('of', 'ADP'), ('the', 'DET'), ('observance', '.'), ('of', 'ADP'), ('All', 'DET'), ('Saints', '.'), (\"'\", '.'), ('Day', '.'), ('across', 'ADP'), ('much', 'ADJ'), ('of', 'ADP'), ('Europe', 'NOUN'), ('.', '.'), ('Mr.', 'NOUN'), ('Ackerman', 'NOUN'), ('already', 'ADV'), ('is', 'VERB'), ('seeking', 'VERB'), ('*-1', 'X'), ('to', 'PRT'), ('oust', '.'), ('Mr.', 'NOUN'), ('Edelman', 'NOUN'), ('as', 'ADP'), ('chairman', 'NOUN'), ('of', 'ADP'), ('Datapoint', '.'), ('Corp.', 'NOUN'), (',', '.'), ('an', 'DET'), ('Intelogic', 'NOUN'), ('affiliate', 'NOUN'), ('.', '.'), ('Each', 'DET'), ('variation', '.'), (',', '.'), ('or', 'CONJ'), ('change', 'NOUN'), (',', '.'), ('can', 'VERB'), ('occur', 'VERB'), ('only', 'ADV'), ('once', 'ADV'), (',', '.'), ('the', 'DET'), ('rules', 'NOUN'), ('state', 'NOUN'), ('0', 'X'), ('*T*-1', 'X'), ('.', '.'), ('At', 'ADP'), ('Cray', 'NOUN'), ('Computer', 'NOUN'), (',', '.'), ('he', 'PRON'), ('will', 'VERB'), ('be', 'VERB'), ('paid', 'VERB'), ('*-26', 'X'), ('$', '.'), ('240,000', '.'), ('*U*', 'X'), ('.', '.'), ('Price', 'NOUN'), ('Communications', 'NOUN'), ('Corp.', 'NOUN'), ('completed', 'VERB'), ('the', 'DET'), ('sale', 'NOUN'), ('of', 'ADP'), ('four', 'NUM'), ('of', 'ADP'), ('its', 'PRON'), ('TV', 'NOUN'), ('stations', 'NOUN'), ('to', 'PRT'), ('NTG', 'NOUN'), ('Inc.', 'NOUN'), ('for', 'ADP'), ('$', '.'), ('120', 'NUM'), ('million', 'NUM'), ('*U*', 'X'), ('in', 'ADP'), ('cash', 'NOUN'), ('and', 'CONJ'), ('notes', 'NOUN'), (',', '.'), ('*-1', 'X'), ('retaining', 'VERB'), ('a', 'DET'), ('10', 'NUM'), ('%', 'NOUN'), ('equity', 'NOUN'), ('stake', 'NOUN'), ('in', 'ADP'), ('the', 'DET'), ('new', 'ADJ'), ('concern', 'NOUN'), ('.', '.'), ('The', 'DET'), ('agreement', 'NOUN'), ('on', 'ADP'), ('Poland', 'NOUN'), ('contrasts', '.'), ('with', 'ADP'), ('the', 'DET'), ('major', 'ADJ'), ('differences', 'NOUN'), ('remaining', 'VERB'), ('over', 'ADP'), ('the', 'DET'), ('underlying', 'ADJ'), ('foreign', 'ADJ'), ('aid', 'NOUN'), ('bill', 'NOUN'), (',', '.'), ('which', 'DET'), ('*T*-9', 'X'), ('has', 'VERB'), ('already', 'ADV'), ('provoked', '.'), ('veto', 'NOUN'), ('threats', 'NOUN'), ('by', 'ADP'), ('the', 'DET'), ('White', 'NOUN'), ('House', 'NOUN'), ('and', 'CONJ'), ('is', 'VERB'), ('sharply', 'ADV'), ('confined', 'VERB'), ('under', 'ADP'), ('this', 'DET'), ('year', 'NOUN'), (\"'s\", 'PRT'), ('budget', 'NOUN'), ('.', '.'), ('The', 'DET'), ('move', 'NOUN'), ('boosts', 'VERB'), ('Intelogic', 'NOUN'), ('Chairman', 'NOUN'), ('Asher', '.'), ('Edelman', 'NOUN'), (\"'s\", 'PRT'), ('stake', 'NOUN'), ('to', 'PRT'), ('20', 'NUM'), ('%', 'NOUN'), ('from', 'ADP'), ('16.2', '.'), ('%', 'NOUN'), ('and', 'CONJ'), ('may', 'VERB'), ('help', 'VERB'), ('*-2', 'X'), ('prevent', 'VERB'), ('Martin', 'NOUN'), ('Ackerman', 'NOUN'), ('from', 'ADP'), ('*-1', 'X'), ('making', 'VERB'), ('a', 'DET'), ('run', 'VERB'), ('at', 'ADP'), ('the', 'DET'), ('computer-services', '.'), ('concern', 'NOUN'), ('.', '.'), ('In', 'ADP'), ('October', 'NOUN'), (',', '.'), ('the', 'DET'), ('busiest', '.'), ('month', 'NOUN'), ('of', 'ADP'), ('the', 'DET'), ('year', 'NOUN'), ('so', 'ADV'), ('far', 'ADV'), (',', '.'), ('daily', 'ADJ'), ('volume', 'NOUN'), ('averaged', '.'), ('roughly', 'ADV'), ('145', 'NUM'), ('million', 'NUM'), ('shares', 'NOUN'), ('.', '.'), ('But', 'CONJ'), ('in', 'ADP'), ('1986', 'NUM'), (',', '.'), ('program', 'NOUN'), ('traders', 'NOUN'), ('received', 'VERB'), ('what', 'PRON'), ('*T*-73', 'X'), ('amounted', 'VERB'), ('to', 'PRT'), ('an', 'DET'), ('exemption', 'NOUN'), ('from', 'ADP'), ('the', 'DET'), ('uptick', 'NOUN'), ('rule', 'NOUN'), ('in', 'ADP'), ('certain', 'ADJ'), ('situations', 'NOUN'), (',', '.'), ('*', 'X'), ('to', 'PRT'), ('make', 'VERB'), ('it', 'PRON'), ('*EXP*-1', 'X'), ('easier', 'ADJ'), ('*', 'X'), ('to', 'PRT'), ('link', 'VERB'), ('the', 'DET'), ('stock', 'NOUN'), ('and', 'CONJ'), ('futures', 'NOUN'), ('markets', 'NOUN'), ('.', '.'), ('The', 'DET'), ('Santa', 'NOUN'), ('Ana', 'NOUN'), ('bonds', 'NOUN'), ('were', 'VERB'), ('tentatively', 'ADV'), ('priced', 'VERB'), ('*-1', 'X'), ('*-2', 'X'), ('to', 'PRT'), ('yield', 'VERB'), ('from', 'ADP'), ('6.40', 'NUM'), ('%', 'NOUN'), ('in', 'ADP'), ('1991', 'NUM'), ('to', 'PRT'), ('7.458', 'NUM'), ('%', 'NOUN'), ('in', 'ADP'), ('He', 'PRON'), ('says', 'VERB'), ('0', 'X'), ('the', 'DET'), ('10', 'NUM'), ('citizen-sparked', '.'), ('issues', 'NOUN'), ('on', 'ADP'), ('state', 'NOUN'), ('ballots', '.'), ('this', 'DET'), ('fall', 'NOUN'), ('represent', 'VERB'), ('the', 'DET'), ('most', 'ADJ'), ('in', 'ADP'), ('any', 'DET'), ('odd-year', '.'), ('this', 'DET'), ('decade', 'NOUN'), ('.', '.'), ('The', 'DET'), ('issue', 'NOUN'), ('could', 'VERB'), ('be', 'VERB'), ('relaunched', '.'), ('*-1', 'X'), (',', '.'), ('possibly', 'ADV'), ('in', 'ADP'), ('a', 'DET'), ('restructured', 'VERB'), ('form', 'NOUN'), (',', '.'), ('as', 'ADP'), ('early', 'ADJ'), ('as', 'ADP'), ('next', 'ADJ'), ('week', 'NOUN'), (',', '.'), ('according', 'VERB'), ('to', 'PRT'), ('the', 'DET'), ('lead', 'NOUN'), ('underwriter', 'NOUN'), ('.', '.'), ('Today', 'NOUN'), ('taxpayers', 'NOUN'), ('get', 'VERB'), ('*-1', 'X'), ('to', 'PRT'), ('vote', 'VERB'), (',', '.'), ('most', 'ADV'), ('of', 'ADP'), ('the', 'DET'), ('time', 'NOUN'), (',', '.'), ('on', 'ADP'), ('whether', 'ADP'), ('they', 'PRON'), ('want', 'VERB'), ('*-2', 'X'), ('to', 'PRT'), ('finance', 'VERB'), ('the', 'DET'), ('building', 'NOUN'), ('schemes', '.'), ('of', 'ADP'), ('our', 'PRON'), ('modern', 'ADJ'), ('political', 'ADJ'), ('pharaohs', '.'), (',', '.'), ('or', 'CONJ'), ('let', 'VERB'), ('private', 'ADJ'), ('money', 'NOUN'), ('erect', '.'), ('these', 'DET'), ('playgrounds', '.'), ('for', 'ADP'), ('public', 'ADJ'), ('passions', '.'), ('.', '.'), ('Mr.', 'NOUN'), ('Dingell', 'NOUN'), (\"'s\", 'PRT'), ('staff', 'NOUN'), ('was', 'VERB'), ('expected', 'VERB'), ('*-2', 'X'), ('to', 'PRT'), ('present', 'ADJ'), ('its', 'PRON'), ('acid-rain', 'NOUN'), ('alternative', 'NOUN'), ('to', 'PRT'), ('other', 'ADJ'), ('committee', 'NOUN'), ('members', 'NOUN'), (',', '.'), ('apparently', 'ADV'), ('in', 'ADP'), ('an', 'DET'), ('attempt', 'NOUN'), ('*', 'X'), ('to', 'PRT'), ('appease', '.'), ('Midwestern', 'NOUN'), ('lawmakers', 'NOUN'), ('from', 'ADP'), ('high-polluting', '.'), ('states', 'NOUN'), ('who', 'PRON'), ('*T*-1', 'X'), ('insist', 'VERB'), ('on', 'ADP'), ('cost-sharing', 'ADJ'), ('.', '.'), ('Ginnie', 'NOUN'), ('Mae', 'NOUN'), (\"'s\", 'PRT'), ('9', 'NUM'), ('%', 'NOUN'), ('issue', 'NOUN'), ('for', 'ADP'), ('November', 'NOUN'), ('delivery', 'NOUN'), ('finished', 'VERB'), ('at', 'ADP'), ('98', 'NUM'), ('5\\\\/8', 'NUM'), (',', '.'), ('up', 'ADV'), ('2\\\\/32', 'NUM'), (',', '.'), ('and', 'CONJ'), ('its', 'PRON'), ('9', 'NUM'), ('1\\\\/2', 'NUM'), ('%', 'NOUN'), ('issue', 'NOUN'), ('at', 'ADP'), ('100', 'NUM'), ('22\\\\/32', 'NUM'), (',', '.'), ('also', 'ADV'), ('up', 'ADV'), ('2\\\\/32', 'NUM'), ('.', '.'), ('*-1', 'X'), ('Not', 'ADV'), ('counting', '.'), ('the', 'DET'), ('extraordinary', 'ADJ'), ('charge', 'NOUN'), (',', '.'), ('the', 'DET'), ('company', 'NOUN'), ('said', 'VERB'), ('0', 'X'), ('it', 'PRON'), ('would', 'VERB'), ('have', 'VERB'), ('had', 'VERB'), ('a', 'DET'), ('net', 'ADJ'), ('loss', 'NOUN'), ('of', 'ADP'), ('$', '.'), ('3.1', 'NUM'), ('million', 'NUM'), ('*U*', 'X'), (',', '.'), ('or', 'CONJ'), ('seven', 'NUM'), ('cents', 'NOUN'), ('a', 'DET'), ('share', 'NOUN'), ('.', '.'), ('Last', 'ADJ'), ('year', 'NOUN'), (\"'s\", 'PRT'), ('figures', 'NOUN'), ('include', 'VERB'), ('a', 'DET'), ('one-time', 'ADJ'), ('loss', 'NOUN'), ('of', 'ADP'), ('$', '.'), ('12', 'NUM'), ('million', 'NUM'), ('*U*', 'X'), ('for', 'ADP'), ('restructuring', 'NOUN'), ('and', 'CONJ'), ('unusual', 'ADJ'), ('items', 'NOUN'), ('.', '.'), ('However', 'ADV'), (',', '.'), ('neither', 'DET'), ('Mr.', 'NOUN'), ('Baum', 'NOUN'), ('nor', 'CONJ'), ('Mr.', 'NOUN'), ('Harper', 'NOUN'), ('has', 'VERB'), ('much', 'ADV'), ('international', 'ADJ'), ('experience', 'NOUN'), ('.', '.'), ('For', 'ADP'), ('fiscal', 'ADJ'), ('1989', 'NUM'), (\"'s\", 'PRT'), ('fourth', 'ADJ'), ('quarter', 'NOUN'), (',', '.'), ('Rockwell', 'NOUN'), (\"'s\", 'PRT'), ('net', 'ADJ'), ('income', 'NOUN'), ('totaled', 'VERB'), ('$', '.'), ('126.1', '.'), ('million', 'NUM'), ('*U*', 'X'), (',', '.'), ('or', 'CONJ'), ('50', 'NUM'), ('cents', 'NOUN'), ('a', 'DET'), ('share', 'NOUN'), ('.', '.'), ('George', 'NOUN'), ('Christopher', 'NOUN'), (',', '.'), ('the', 'DET'), ('former', 'ADJ'), ('San', 'NOUN'), ('Francisco', 'NOUN'), ('mayor', 'NOUN'), ('who', 'PRON'), ('*T*-1', 'X'), ('built', 'VERB'), ('Candlestick', 'NOUN'), ('Park', 'NOUN'), ('for', 'ADP'), ('the', 'DET'), ('Giants', 'NOUN'), ('in', 'ADP'), ('the', 'DET'), ('1960s', 'NUM'), (',', '.'), ('wo', 'VERB'), (\"n't\", 'ADV'), ('endorse', '.'), ('the', 'DET'), ('new', 'ADJ'), ('ballpark', 'NOUN'), ('.', '.'), ('``', '.'), ('It', 'PRON'), (\"'s\", 'VERB'), ('a', 'DET'), ('cosmetic', 'NOUN'), ('move', 'NOUN'), (',', '.'), (\"''\", '.'), ('said', 'VERB'), ('*T*-1', 'X'), ('Jonathan', 'NOUN'), ('S.', 'NOUN'), ('Gelles', '.'), ('of', 'ADP'), ('Wertheim', '.'), ('Schroder', '.'), ('&', 'CONJ'), ('Co', 'NOUN'), ('.', '.'), ('They', 'PRON'), ('belong', 'VERB'), ('to', 'PRT'), ('a', 'DET'), ('group', 'NOUN'), ('of', 'ADP'), ('15', 'NUM'), ('ringers', 'NOUN'), ('--', '.'), ('including', 'VERB'), ('two', 'NUM'), ('octogenarians', '.'), ('and', 'CONJ'), ('four', 'NUM'), ('youngsters', 'NOUN'), ('in', 'ADP'), ('training', 'NOUN'), ('--', '.'), ('who', 'PRON'), ('*T*-222', '.'), ('drive', 'VERB'), ('every', 'DET'), ('Sunday', 'NOUN'), ('from', 'ADP'), ('church', 'NOUN'), ('to', 'PRT'), ('church', 'NOUN'), ('in', 'ADP'), ('a', 'DET'), ('sometimes-exhausting', '.'), ('effort', 'NOUN'), ('*', 'X'), ('to', 'PRT'), ('keep', 'VERB'), ('the', 'DET'), ('bells', 'NOUN'), ('sounding', '.'), ('in', 'ADP'), ('the', 'DET'), ('many', 'ADJ'), ('belfries', '.'), ('of', 'ADP'), ('East', 'NOUN'), ('Anglia', '.'), ('.', '.'), ('As', 'ADP'), ('a', 'DET'), ('result', 'NOUN'), (',', '.'), ('the', 'DET'), ('market', 'NOUN'), (\"'s\", 'PRT'), ('dividend', 'NOUN'), ('yield', 'VERB'), ('--', '.'), ('dividends', 'NOUN'), ('as', 'ADP'), ('a', 'DET'), ('percentage', 'NOUN'), ('of', 'ADP'), ('price', 'NOUN'), ('--', '.'), ('has', 'VERB'), ('slid', 'VERB'), ('to', 'PRT'), ('a', 'DET'), ('level', 'NOUN'), ('that', 'ADP'), ('*T*-232', '.'), ('is', 'VERB'), ('fairly', 'ADV'), ('low', 'ADJ'), ('and', 'CONJ'), ('unenticing', '.'), ('by', 'ADP'), ('historical', 'ADJ'), ('standards', 'NOUN'), ('.', '.'), ('Most', 'ADJ'), ('contracts', 'NOUN'), ('are', 'VERB'), ('simply', 'ADV'), ('nullified', '.'), ('*-1', 'X'), ('by', 'ADP'), ('an', 'DET'), ('opposite', '.'), ('trade', 'NOUN'), ('before', 'ADP'), ('they', 'PRON'), ('come', 'VERB'), ('due', 'ADJ'), ('.', '.'), ('The', 'DET'), ('firmness', 'NOUN'), ('in', 'ADP'), ('heating', 'NOUN'), ('oil', 'NOUN'), ('was', 'VERB'), ('attributed', 'VERB'), ('*-1', 'X'), ('to', 'PRT'), ('colder', '.'), ('weather', 'NOUN'), ('in', 'ADP'), ('parts', 'NOUN'), ('of', 'ADP'), ('the', 'DET'), ('U.S.', 'NOUN'), ('and', 'CONJ'), ('to', 'PRT'), ('the', 'DET'), ('latest', 'ADJ'), ('weekly', 'ADJ'), ('report', 'NOUN'), ('by', 'ADP'), ('the', 'DET'), ('American', 'ADJ'), ('Petroleum', 'NOUN'), ('Institute', 'NOUN'), (',', '.'), ('which', 'DET'), ('*T*-2', 'X'), ('showed', 'VERB'), ('a', 'DET'), ('decline', 'NOUN'), ('in', 'ADP'), ('inventories', 'NOUN'), ('of', 'ADP'), ('the', 'DET'), ('fuel', 'NOUN'), ('.', '.'), ('Also', 'ADV'), (',', '.'), ('there', 'DET'), ('has', 'VERB'), ('been', 'VERB'), ('a', 'DET'), ('switch', 'NOUN'), ('*ICH*-3', 'X'), ('in', 'ADP'), ('the', 'DET'), ('past', 'ADJ'), ('decade', 'NOUN'), ('to', 'PRT'), ('planting', '.'), ('of', 'ADP'), ('orange', '.'), ('trees', '.'), ('in', 'ADP'), ('areas', 'NOUN'), ('that', 'ADP'), ('*T*-5', 'X'), ('were', 'VERB'), ('previously', 'ADV'), ('used', 'VERB'), ('*-1', 'X'), ('for', 'ADP'), ('cane', '.'), (',', '.'), ('and', 'CONJ'), ('this', 'DET'), ('change', 'NOUN'), ('is', 'VERB'), ('being', 'VERB'), ('felt', 'VERB'), ('*-4', 'X'), ('now', 'ADV'), (',', '.'), ('she', 'PRON'), ('said', 'VERB'), ('0', 'X'), ('*T*-2', 'X'), ('.', '.'), ('All', 'DET'), ('of', 'ADP'), ('the', 'DET'), ('changes', 'NOUN'), ('require', 'VERB'), ('regulatory', 'ADJ'), ('approval', 'NOUN'), (',', '.'), ('which', 'DET'), ('*T*-1', 'X'), ('is', 'VERB'), ('expected', 'VERB'), ('*-129', '.'), ('shortly', 'ADV'), ('.', '.'), ('The', 'DET'), ('start', 'NOUN'), ('of', 'ADP'), ('the', 'DET'), ('whole', 'ADJ'), ('process', 'NOUN'), ('is', 'VERB'), ('the', 'DET'), ('key', 'ADJ'), ('-', '.'), ('someone', 'NOUN'), ('must', 'VERB'), ('fundamentally', '.'), ('increase', 'NOUN'), ('or', 'CONJ'), ('decrease', 'NOUN'), ('his', 'PRON'), ('ownership', 'NOUN'), ('in', 'ADP'), ('widgets', 'NOUN'), ('*-1', 'X'), ('to', 'PRT'), ('make', 'VERB'), ('widget', 'NOUN'), ('prices', 'NOUN'), ('move', 'NOUN'), ('.', '.'), ('And', 'CONJ'), ('while', 'ADP'), ('there', 'DET'), ('was', 'VERB'), ('no', 'DET'), ('profit', 'NOUN'), ('*ICH*-1', 'X'), ('this', 'DET'), ('year', 'NOUN'), ('from', 'ADP'), ('discontinued', 'VERB'), ('operations', 'NOUN'), (',', '.'), ('last', 'ADJ'), ('year', 'NOUN'), ('they', 'PRON'), ('contributed', 'VERB'), ('#', '.'), ('34', 'NUM'), ('million', 'NUM'), ('*U*', 'X'), (',', '.'), ('before', 'ADP'), ('tax', 'NOUN'), ('.', '.'), ('From', 'ADP'), ('Italy', 'NOUN'), ('there', 'DET'), ('is', 'VERB'), ('Angelo', '.'), ('Gaja', '.'), ('Barbaresco', '.'), ('at', 'ADP'), ('$', '.'), ('125', 'NUM'), ('*U*', 'X'), ('a', 'DET'), ('bottle', 'NOUN'), (',', '.'), ('Piero', '.'), ('Antinori', '.'), (\"'s\", 'VERB'), ('La', 'NOUN'), ('Solaia', '.'), (',', '.'), ('a', 'DET'), ('$', '.'), ('90', 'NUM'), ('*U*', 'X'), ('Cabernet', 'NOUN'), ('from', 'ADP'), ('Tuscany', 'NOUN'), (',', '.'), ('and', 'CONJ'), ('Biondi-Santi', 'NOUN'), ('Brunello', 'NOUN'), ('at', 'ADP'), ('$', '.'), ('98', 'NUM'), ('*U*', 'X'), ('.', '.'), ('The', 'DET'), ('most', 'ADJ'), ('common', 'ADJ'), ('program-trading', 'ADJ'), ('vehicles', 'NOUN'), ('are', 'VERB'), ('futures', 'NOUN'), ('contracts', 'NOUN'), ('on', 'ADP'), ('Standard', 'NOUN'), ('&', 'CONJ'), ('poor', 'ADJ'), (\"'s\", 'PRT'), ('500-stock', 'ADJ'), ('index', 'NOUN'), ('-LRB-', '.'), ('traded', 'VERB'), ('*', 'X'), ('on', 'ADP'), ('the', 'DET'), ('Chicago', 'NOUN'), ('Mercantile', 'NOUN'), ('Exchange', 'NOUN'), ('-RRB-', '.'), (';', '.'), ('the', 'DET'), ('Major', 'NOUN'), ('Market', 'NOUN'), ('Index', 'NOUN'), (',', '.'), ('a', 'DET'), ('20-stock', '.'), ('index', 'NOUN'), ('that', 'ADP'), ('*T*-1', 'X'), ('mimics', '.'), ('the', 'DET'), ('Dow', 'NOUN'), ('Jones', 'NOUN'), ('Industrial', 'NOUN'), ('Average', 'NOUN'), ('-LRB-', '.'), ('traded', 'VERB'), ('*', 'X'), ('on', 'ADP'), ('the', 'DET'), ('chicago', '.'), ('Board', 'NOUN'), ('of', 'ADP'), ('Trade', 'NOUN'), ('-RRB-', '.'), (';', '.'), ('and', 'CONJ'), ('the', 'DET'), ('S&P', 'NOUN'), ('100', 'NUM'), ('options', 'NOUN'), ('-LRB-', '.'), ('traded', 'VERB'), ('*', 'X'), ('on', 'ADP'), ('the', 'DET'), ('Chicago', 'NOUN'), ('Board', 'NOUN'), ('Options', 'NOUN'), ('Exchange', 'NOUN'), (',', '.'), ('and', 'CONJ'), ('based', 'VERB'), ('*', 'X'), ('on', 'ADP'), ('100', 'NUM'), ('stocks', 'NOUN'), ('selected', 'VERB'), ('*', 'X'), ('from', 'ADP'), ('the', 'DET'), ('S&P', 'NOUN'), ('500', 'NUM'), ('-RRB-', '.'), ('.', '.'), ('The', 'DET'), ('analyst', 'NOUN'), ('noted', 'VERB'), ('that', 'ADP'), ('also', 'ADV'), ('inherent', 'ADJ'), ('in', 'ADP'), ('all', 'DET'), ('metal', 'NOUN'), ('markets', 'NOUN'), ('was', 'VERB'), ('*T*-1', 'X'), ('a', 'DET'), ('sympathetic', 'ADJ'), ('reaction', 'NOUN'), ('to', 'PRT'), ('stocks', 'NOUN'), ('.', '.'), ('``', '.'), ('We', 'PRON'), ('did', 'VERB'), (\"n't\", 'ADV'), ('have', 'VERB'), ('much', 'ADV'), ('of', 'ADP'), ('a', 'DET'), ('choice', 'NOUN'), (',', '.'), (\"''\", '.'), ('Cray', 'NOUN'), ('Computer', 'NOUN'), (\"'s\", 'PRT'), ('chief', 'NOUN'), ('financial', 'ADJ'), ('officer', 'NOUN'), (',', '.'), ('Gregory', 'NOUN'), ('Barnum', 'NOUN'), (',', '.'), ('said', 'VERB'), ('*T*-1', 'X'), ('in', 'ADP'), ('an', 'DET'), ('interview', 'NOUN'), ('.', '.'), ('The', 'DET'), ('purchasing', 'NOUN'), ('managers', 'NOUN'), (\"'\", 'PRT'), ('report', 'VERB'), ('is', 'VERB'), ('based', 'VERB'), ('*-56', 'X'), ('on', 'ADP'), ('data', 'NOUN'), ('provided', 'VERB'), ('*', 'X'), ('by', 'ADP'), ('more', 'ADJ'), ('than', 'ADP'), ('250', 'NUM'), ('purchasing', 'NOUN'), ('executives', 'NOUN'), ('.', '.'), ('The', 'DET'), ('British', 'ADJ'), ('also', 'ADV'), ('are', 'VERB'), ('scrutinizing', 'VERB'), ('program', 'NOUN'), ('trades', 'NOUN'), ('.', '.'), ('Legislation', '.'), ('0', 'X'), ('*T*-1', 'X'), ('to', 'PRT'), ('lift', 'VERB'), ('the', 'DET'), ('debt', 'NOUN'), ('ceiling', 'NOUN'), ('is', 'VERB'), ('ensnarled', '.'), ('*-11', 'X'), ('in', 'ADP'), ('the', 'DET'), ('fight', 'NOUN'), ('over', 'ADP'), ('*', 'X'), ('cutting', 'VERB'), ('capital-gains', 'NOUN'), ('taxes', 'NOUN'), ('.', '.'), ('Wednesday', 'NOUN'), (\"'s\", 'PRT'), ('volume', 'NOUN'), ('on', 'ADP'), ('the', 'DET'), ('First', 'NOUN'), ('Section', 'NOUN'), ('was', 'VERB'), ('estimated', 'VERB'), ('*-1', 'X'), ('at', 'ADP'), ('900', 'NUM'), ('million', 'NUM'), ('shares', 'NOUN'), (',', '.'), ('in', 'ADP'), ('line', 'NOUN'), ('with', 'ADP'), ('Tuesday', 'NOUN'), (\"'s\", 'PRT'), ('909', '.'), ('million', 'NUM'), ('.', '.'), ('The', 'DET'), ('training', 'NOUN'), ('wage', 'NOUN'), ('covers', 'VERB'), ('only', 'ADV'), ('workers', 'NOUN'), ('who', 'PRON'), ('*T*-260', '.'), ('are', 'VERB'), ('16', 'NUM'), ('to', 'PRT'), ('19', 'NUM'), ('years', 'NOUN'), ('old', 'ADJ'), ('.', '.'), ('Americans', 'NOUN'), ('will', 'VERB'), ('learn', '.'), ('more', 'ADV'), ('about', 'ADP'), ('*', 'X'), ('making', 'VERB'), ('products', 'NOUN'), ('for', 'ADP'), ('the', 'DET'), ('Soviets', 'NOUN'), ('.', '.'), ('*-1', 'X'), ('Starting', '.'), ('with', 'ADP'), ('Congressman', '.'), ('Mario', '.'), ('Biaggi', '.'), ('-LRB-', '.'), ('now', 'ADV'), ('serving', 'VERB'), ('a', 'DET'), ('jail', 'NOUN'), ('sentence', '.'), ('-RRB-', '.'), (',', '.'), ('the', 'DET'), ('company', 'NOUN'), ('began', 'VERB'), ('a', 'DET'), ('career', 'NOUN'), ('of', 'ADP'), ('*', 'X'), ('bribing', '.'), ('federal', 'ADJ'), (',', '.'), ('state', 'NOUN'), ('and', 'CONJ'), ('local', 'ADJ'), ('public', 'NOUN'), ('officials', 'NOUN'), ('and', 'CONJ'), ('those', 'DET'), ('close', 'NOUN'), ('to', 'PRT'), ('public', 'ADJ'), ('officials', 'NOUN'), (',', '.'), ('right', 'NOUN'), ('up', 'PRT'), ('to', 'PRT'), ('*RNR*-2', 'X'), ('and', 'CONJ'), ('including', 'VERB'), ('*RNR*-2', 'X'), ('E.', 'NOUN'), ('Robert', 'NOUN'), ('Wallach', '.'), (',', '.'), ('close', 'NOUN'), ('friend', 'NOUN'), ('and', 'CONJ'), ('adviser', 'NOUN'), ('to', 'PRT'), ('former', 'ADJ'), ('Attorney', '.'), ('General', 'NOUN'), ('Ed', 'NOUN'), ('Meese', '.'), ('.', '.'), ('While', 'ADP'), ('worry', 'VERB'), ('*ICH*-1', 'X'), ('grows', 'VERB'), ('about', 'ADP'), ('big', 'ADJ'), ('Japanese', 'ADJ'), ('investments', 'NOUN'), ('in', 'ADP'), ('the', 'DET'), ('U.S.', 'NOUN'), (',', '.'), ('Japan', 'NOUN'), (\"'s\", 'PRT'), ('big', 'ADJ'), ('trading', 'NOUN'), ('companies', 'NOUN'), ('are', 'VERB'), ('rapidly', 'ADV'), ('increasing', 'VERB'), ('their', 'PRON'), ('stake', 'NOUN'), ('in', 'ADP'), ('America', 'NOUN'), (\"'s\", 'PRT'), ('smaller', 'ADJ'), ('business', 'NOUN'), ('.', '.'), ('Before', 'ADP'), ('the', 'DET'), ('USX', 'NOUN'), ('case', 'NOUN'), (',', '.'), ('OSHA', 'NOUN'), (\"'s\", 'PRT'), ('largest', 'ADJ'), ('proposed', 'VERB'), ('fine', 'NOUN'), ('for', 'ADP'), ('one', 'NUM'), ('employer', 'NOUN'), ('was', 'VERB'), ('$', '.'), ('4.3', 'NUM'), ('million', 'NUM'), ('*U*', 'X'), ('for', 'ADP'), ('alleged', 'ADJ'), ('safety', 'NOUN'), ('violations', 'NOUN'), ('at', 'ADP'), ('John', 'NOUN'), ('Morrell', '.'), ('&', 'CONJ'), ('Co.', 'NOUN'), (',', '.'), ('a', 'DET'), ('meatpacking', '.'), ('subsidiary', 'NOUN'), ('of', 'ADP'), ('United', 'NOUN'), ('Brands', '.'), ('Co.', 'NOUN'), (',', '.'), ('Cincinnati', 'NOUN'), ('.', '.'), ('Mrs.', 'NOUN'), ('Ward', 'NOUN'), ('took', 'VERB'), ('over', 'ADP'), ('in', 'ADP'), ('1986', 'NUM'), (',', '.'), ('*-1', 'X'), ('becoming', 'VERB'), ('the', 'DET'), ('school', 'NOUN'), (\"'s\", 'PRT'), ('seventh', '.'), ('principal', 'NOUN'), ('in', 'ADP'), ('15', 'NUM'), ('years', 'NOUN'), ('.', '.'), ('Gerard', 'NOUN'), ('Scannell', 'NOUN'), (',', '.'), ('the', 'DET'), ('head', 'NOUN'), ('of', 'ADP'), ('OSHA', 'NOUN'), (',', '.'), ('said', 'VERB'), ('0', 'X'), ('USX', 'NOUN'), ('managers', 'NOUN'), ('have', 'VERB'), ('known', 'VERB'), ('about', 'ADP'), ('many', 'ADJ'), ('of', 'ADP'), ('the', 'DET'), ('safety', 'NOUN'), ('and', 'CONJ'), ('health', 'NOUN'), ('deficiencies', 'NOUN'), ('at', 'ADP'), ('the', 'DET'), ('plants', 'NOUN'), ('for', 'ADP'), ('years', 'NOUN'), (',', '.'), ('``', '.'), ('yet', 'ADV'), ('have', 'VERB'), ('failed', 'VERB'), ('*-1', 'X'), ('to', 'PRT'), ('take', 'VERB'), ('necessary', 'ADJ'), ('action', 'NOUN'), ('*', 'X'), ('to', 'PRT'), ('counteract', '.'), ('the', 'DET'), ('hazards', 'NOUN'), ('.', '.'), (\"''\", '.'), ('Drug', 'NOUN'), ('companies', 'NOUN'), ('in', 'ADP'), ('the', 'DET'), ('key', 'ADJ'), ('index', 'NOUN'), ('also', 'ADV'), ('notched', '.'), ('gains', 'NOUN'), ('as', 'ADP'), ('market-makers', 'NOUN'), ('searched', '.'), ('for', 'ADP'), ('stock', 'NOUN'), ('in', 'ADP'), ('anticipation', 'NOUN'), ('of', 'ADP'), ('demand', 'NOUN'), ('due', 'ADJ'), ('to', 'PRT'), ('the', 'DET'), ('sector', 'NOUN'), (\"'s\", 'PRT'), ('defensive', 'ADJ'), ('qualities', '.'), ('.', '.'), ('And', 'CONJ'), ('in', 'ADP'), ('the', 'DET'), ('Chicago', 'NOUN'), ('district', 'NOUN'), (',', '.'), ('the', 'DET'), ('report', 'NOUN'), ('said', 'VERB'), ('0', 'X'), ('*T*-1', 'X'), (',', '.'), ('``', '.'), ('a', 'DET'), ('manufacturer', 'NOUN'), ('of', 'ADP'), ('capital', 'NOUN'), ('goods', 'NOUN'), ('noted', 'VERB'), ('slower', 'ADJ'), ('orders', 'NOUN'), ('for', 'ADP'), ('some', 'DET'), ('types', 'NOUN'), (',', '.'), ('including', 'VERB'), ('defense', 'NOUN'), ('equipment', 'NOUN'), (',', '.'), ('petroleum', '.'), ('equipment', 'NOUN'), (',', '.'), ('food', 'NOUN'), ('packaging', 'NOUN'), ('machinery', 'NOUN'), ('and', 'CONJ'), ('material', 'NOUN'), ('handling', 'NOUN'), ('equipment', 'NOUN'), ('.', '.'), (\"''\", '.'), ('The', 'DET'), ('Contra', '.'), ('military', 'ADJ'), ('command', 'VERB'), (',', '.'), ('in', 'ADP'), ('a', 'DET'), ('statement', 'NOUN'), ('from', 'ADP'), ('Honduras', '.'), (',', '.'), ('said', 'VERB'), ('0', 'X'), ('Sandinista', '.'), ('troops', 'NOUN'), ('had', 'VERB'), ('launched', 'VERB'), ('a', 'DET'), ('major', 'ADJ'), ('offensive', '.'), ('against', 'ADP'), ('the', 'DET'), ('rebel', '.'), ('forces', 'NOUN'), ('.', '.'), ('As', 'ADP'), ('a', 'DET'), ('result', 'NOUN'), (',', '.'), ('the', 'DET'), ('company', 'NOUN'), ('said', 'VERB'), ('0', 'X'), ('it', 'PRON'), ('decided', 'VERB'), ('*-1', 'X'), ('to', 'PRT'), ('phase', '.'), ('out', 'ADP'), ('its', 'PRON'), ('oldest', 'ADJ'), ('capacity', 'NOUN'), ('and', 'CONJ'), ('``', '.'), ('make', 'VERB'), ('appropriate', '.'), ('reductions', 'NOUN'), (\"''\", '.'), ('in', 'ADP'), ('operating', 'NOUN'), ('expenses', 'NOUN'), ('.', '.'), ('An', 'DET'), ('appeal', 'NOUN'), ('is', 'VERB'), ('expected', 'VERB'), ('*-68', 'X'), ('.', '.'), ('Mr.', 'NOUN'), ('Nemeth', '.'), ('said', 'VERB'), ('in', 'ADP'), ('parliament', 'NOUN'), ('that', 'ADP'), ('Czechoslovakia', 'NOUN'), ('and', 'CONJ'), ('Hungary', 'NOUN'), ('would', 'VERB'), ('suffer', 'VERB'), ('environmental', 'ADJ'), ('damage', 'NOUN'), ('if', 'ADP'), ('the', 'DET'), ('twin', '.'), ('dams', '.'), ('were', 'VERB'), ('built', 'VERB'), ('*-67', 'X'), ('as', 'ADP'), ('*', 'X'), ('planned', 'VERB'), ('*-2', 'X'), ('.', '.'), ('Customers', '.'), ('holding', 'VERB'), ('contracts', 'NOUN'), ('for', 'ADP'), ('Waertsilae', 'NOUN'), ('Marine', 'NOUN'), (\"'s\", 'PRT'), ('undelivered', '.'), ('ships', 'NOUN'), ('are', 'VERB'), ('expected', 'VERB'), ('*-1', 'X'), ('to', 'PRT'), ('subscribe', 'VERB'), ('most', 'ADV'), ('of', 'ADP'), ('the', 'DET'), ('remaining', 'VERB'), ('170', '.'), ('million', 'NUM'), ('markkaa', 'NOUN'), ('in', 'ADP'), ('share', 'NOUN'), ('capital', 'NOUN'), (',', '.'), ('government', 'NOUN'), ('officials', 'NOUN'), ('said', 'VERB'), ('0', 'X'), ('*T*-2', 'X'), ('.', '.'), ('The', 'DET'), ('company', 'NOUN'), ('said', 'VERB'), ('0', 'X'), ('Mr.', 'NOUN'), ('Stronach', 'NOUN'), ('will', 'VERB'), ('personally', '.'), ('direct', 'ADJ'), ('the', 'DET'), ('restructuring', 'NOUN'), (',', '.'), ('*-1', 'X'), ('assisted', '.'), ('*-2', 'X'), ('by', 'ADP'), ('Manfred', '.'), ('Gingl', '.'), (',', '.'), ('president', 'NOUN'), ('and', 'CONJ'), ('chief', 'NOUN'), ('executive', 'NOUN'), ('.', '.'), ('Roederer', 'NOUN'), ('Cristal', 'NOUN'), ('at', 'ADP'), ('$', '.'), ('90', 'NUM'), ('*U*', 'X'), ('a', 'DET'), ('bottle', 'NOUN'), ('sells', 'VERB'), ('out', 'PRT'), ('around', 'ADP'), ('the', 'DET'), ('country', 'NOUN'), ('and', 'CONJ'), ('Taittinger', '.'), (\"'s\", 'VERB'), ('Comtes', '.'), ('de', 'ADP'), ('Champagne', 'NOUN'), ('Blanc', 'NOUN'), ('de', 'ADP'), ('Blancs', 'NOUN'), ('is', 'VERB'), ('encroaching', '.'), ('upon', 'ADP'), ('that', 'DET'), ('level', 'NOUN'), ('.', '.'), ('``', '.'), ('I', 'PRON'), (\"'m\", 'VERB'), ('starting', 'VERB'), ('*-1', 'X'), ('to', 'PRT'), ('see', 'VERB'), ('more', 'ADV'), ('business', 'NOUN'), ('transactions', 'NOUN'), (',', '.'), (\"''\", '.'), ('says', 'VERB'), ('*T*-2', 'X'), ('Andrea', '.'), ('West', 'NOUN'), ('of', 'ADP'), ('American', 'ADJ'), ('Telephone', 'NOUN'), ('&', 'CONJ'), ('Telegraph', 'NOUN'), ('Co.', 'NOUN'), (',', '.'), ('*-3', 'X'), ('noting', 'VERB'), ('growing', 'VERB'), ('interest', 'NOUN'), ('in', 'ADP'), ('use', 'NOUN'), ('of', 'ADP'), ('900', 'NUM'), ('service', 'NOUN'), ('for', 'ADP'), ('stock', 'NOUN'), ('sales', 'NOUN'), (',', '.'), ('software', 'NOUN'), ('tutorials', '.'), ('and', 'CONJ'), ('even', 'ADV'), ('service', 'NOUN'), ('contracts', 'NOUN'), ('.', '.'), ('In', 'ADP'), ('the', 'DET'), ('third', 'ADJ'), ('quarter', 'NOUN'), (',', '.'), ('Georgia', 'NOUN'), ('Gulf', 'NOUN'), ('earned', 'VERB'), ('$', '.'), ('46.1', '.'), ('million', 'NUM'), ('*U*', 'X'), (',', '.'), ('or', 'CONJ'), ('$', '.'), ('1.85', '.'), ('*U*', 'X'), ('a', 'DET'), ('share', 'NOUN'), (',', '.'), ('down', 'ADV'), ('from', 'ADP'), ('$', '.'), ('53', 'NUM'), ('million', 'NUM'), ('*U*', 'X'), (',', '.'), ('or', 'CONJ'), ('$', '.'), ('1.85', '.'), ('*U*', 'X'), ('a', 'DET'), ('share', 'NOUN'), ('on', 'ADP'), ('fewer', 'ADJ'), ('shares', 'NOUN'), ('outstanding', 'ADJ'), ('.', '.'), ('Japan', 'NOUN'), (\"'s\", 'PRT'), ('swelling', '.'), ('investment', 'NOUN'), ('in', 'ADP'), ('Southeast', 'NOUN'), ('Asia', 'NOUN'), ('is', 'VERB'), ('part', 'NOUN'), ('of', 'ADP'), ('its', 'PRON'), ('economic', 'ADJ'), ('evolution', 'NOUN'), ('.', '.'), ('Moreover', 'ADV'), (',', '.'), ('the', 'DET'), ('Japanese', 'ADJ'), ('government', 'NOUN'), (',', '.'), ('now', 'ADV'), ('the', 'DET'), ('world', 'NOUN'), (\"'s\", 'PRT'), ('largest', 'ADJ'), ('aid', 'NOUN'), ('donor', 'NOUN'), (',', '.'), ('is', 'VERB'), ('pumping', 'VERB'), ('far', 'ADV'), ('more', 'ADJ'), ('assistance', 'NOUN'), ('*ICH*-2', 'X'), ('into', 'ADP'), ('the', 'DET'), ('region', 'NOUN'), ('than', 'ADP'), ('the', 'DET'), ('U.S.', 'NOUN'), ('is', 'VERB'), ('*?*', 'X'), ('.', '.'), ('Mr.', 'NOUN'), ('Yamamoto', 'NOUN'), ('insisted', 'VERB'), ('that', 'ADP'), ('headquarters', 'NOUN'), ('had', 'VERB'), (\"n't\", 'ADV'), ('approved', 'VERB'), ('the', 'DET'), ('bids', 'NOUN'), (',', '.'), ('and', 'CONJ'), ('that', 'DET'), ('he', 'PRON'), ('did', 'VERB'), (\"n't\", 'ADV'), ('know', 'VERB'), ('about', 'ADP'), ('most', 'ADJ'), ('of', 'ADP'), ('the', 'DET'), ('cases', 'NOUN'), ('until', 'ADP'), ('Wednesday', 'NOUN'), ('.', '.'), ('The', 'DET'), ('Senate', 'NOUN'), ('Finance', 'NOUN'), ('Committee', 'NOUN'), (',', '.'), ('chaired', 'VERB'), ('*', 'X'), ('by', 'ADP'), ('a', 'DET'), ('fellow', 'ADJ'), ('Texan', '.'), (',', '.'), ('Democratic', 'ADJ'), ('Sen.', 'NOUN'), ('Lloyd', '.'), ('Bentsen', '.'), (',', '.'), ('last', 'ADJ'), ('month', 'NOUN'), ('urged', 'VERB'), ('U.S.', 'NOUN'), ('Trade', 'NOUN'), ('Representative', 'NOUN'), ('Carla', 'NOUN'), ('Hills', 'NOUN'), ('to', 'PRT'), ('use', 'VERB'), ('Mr.', 'NOUN'), ('Pickens', 'NOUN'), (\"'s\", 'PRT'), ('experience', 'NOUN'), ('in', 'ADP'), ('talks', 'NOUN'), ('with', 'ADP'), ('Tokyo', 'NOUN'), ('``', '.'), ('*-1', 'X'), ('to', 'PRT'), ('highlight', '.'), ('this', 'DET'), ('problem', 'NOUN'), ('facing', 'VERB'), ('Americans', 'NOUN'), ('who', 'PRON'), ('*T*-185', '.'), ('seek', 'VERB'), ('access', 'NOUN'), ('to', 'PRT'), ('the', 'DET'), ('Japanese', 'ADJ'), ('capital', 'NOUN'), ('markets', 'NOUN'), ('.', '.'), (\"''\", '.'), ('Mr.', 'NOUN'), ('Dinkins', 'NOUN'), ('did', 'VERB'), ('fail', 'VERB'), ('*-1', 'X'), ('to', 'PRT'), ('file', 'VERB'), ('his', 'PRON'), ('income', 'NOUN'), ('taxes', 'NOUN'), ('for', 'ADP'), ('four', 'NUM'), ('years', 'NOUN'), (',', '.'), ('but', 'CONJ'), ('he', 'PRON'), ('insists', 'VERB'), ('0', 'X'), ('he', 'PRON'), ('voluntarily', 'ADV'), ('admitted', 'VERB'), ('the', 'DET'), ('``', '.'), ('oversight', '.'), (\"''\", '.'), ('when', 'ADV'), ('he', 'PRON'), ('was', 'VERB'), ('being', 'VERB'), ('considered', 'VERB'), ('*-2', 'X'), ('for', 'ADP'), ('a', 'DET'), ('city', 'NOUN'), ('job', 'NOUN'), ('*T*-3', 'X'), ('.', '.'), ('The', 'DET'), ('screen', 'NOUN'), ('fills', 'VERB'), ('with', 'ADP'), ('a', 'DET'), ('small', 'ADJ'), (',', '.'), ('tight', 'ADV'), ('facial', '.'), ('shot', 'NOUN'), ('of', 'ADP'), ('David', 'NOUN'), ('Dinkins', 'NOUN'), (',', '.'), ('Democratic', 'ADJ'), ('candidate', 'NOUN'), ('for', 'ADP'), ('mayor', 'NOUN'), ('of', 'ADP'), ('New', 'NOUN'), ('York', 'NOUN'), ('City', 'NOUN'), ('.', '.'), ('R.', 'NOUN'), ('Gordon', 'NOUN'), ('McGovern', 'NOUN'), ('was', 'VERB'), ('forced', 'VERB'), ('*-37', 'X'), ('out', 'PRT'), ('as', 'ADP'), ('Campbell', 'NOUN'), ('Soup', 'NOUN'), ('Co.', 'NOUN'), (\"'s\", 'PRT'), ('president', 'NOUN'), ('and', 'CONJ'), ('chief', 'NOUN'), ('executive', 'NOUN'), ('officer', 'NOUN'), (',', '.'), ('the', 'DET'), ('strongest', 'ADJ'), ('evidence', 'NOUN'), ('yet', 'ADV'), ('of', 'ADP'), ('the', 'DET'), ('power', 'NOUN'), ('that', 'ADP'), ('Dorrance', 'NOUN'), ('family', 'NOUN'), ('members', 'NOUN'), ('intend', 'VERB'), ('*-2', 'X'), ('to', 'PRT'), ('wield', '.'), ('*T*-1', 'X'), ('in', 'ADP'), ('*', 'X'), ('reshaping', 'VERB'), ('the', 'DET'), ('troubled', 'ADJ'), ('food', 'NOUN'), ('company', 'NOUN'), ('.', '.'), ('Prices', 'NOUN'), ('rose', 'VERB'), ('on', 'ADP'), ('the', 'DET'), ('news', 'NOUN'), ('that', 'ADP'), ('a', 'DET'), ('sizable', 'ADJ'), ('West', 'NOUN'), ('German', 'NOUN'), ('refinery', '.'), ('was', 'VERB'), ('damaged', 'VERB'), ('*-1', 'X'), ('in', 'ADP'), ('a', 'DET'), ('fire', 'NOUN'), (',', '.'), ('*', 'X'), ('tightening', '.'), ('an', 'DET'), ('already', 'ADV'), ('tight', 'ADJ'), ('European', 'ADJ'), ('market', 'NOUN'), ('.', '.'), ('``', '.'), ('If', 'ADP'), ('I', 'PRON'), ('were', 'VERB'), ('choosing', 'VERB'), ('the', 'DET'), ('people', 'NOUN'), ('of', 'ADP'), ('tomorrow', 'NOUN'), (',', '.'), ('I', 'PRON'), ('would', 'VERB'), ('have', 'VERB'), ('chosen', 'VERB'), ('the', 'DET'), ('people', 'NOUN'), ('who', 'PRON'), ('*T*-1', 'X'), ('are', 'VERB'), ('now', 'ADV'), ('on', 'ADP'), ('the', 'DET'), ('board', 'NOUN'), (',', '.'), (\"''\", '.'), ('he', 'PRON'), ('said', 'VERB'), ('*T*-2', 'X'), ('.', '.'), ('Source', 'NOUN'), (':', '.'), ('Telerate', 'NOUN'), ('Systems', 'NOUN'), ('Inc', 'NOUN'), ('.', '.'), ('When', 'ADV'), ('Ms.', 'NOUN'), ('Evans', 'NOUN'), ('took', 'VERB'), ('her', 'PRON'), ('job', 'NOUN'), ('*T*-1', 'X'), (',', '.'), ('several', 'ADJ'), ('important', 'ADJ'), ('divisions', 'NOUN'), ('that', 'ADP'), ('*T*-2', 'X'), ('had', 'VERB'), ('reported', 'VERB'), ('to', 'PRT'), ('her', 'PRON'), ('predecessor', 'NOUN'), ('were', 'VERB'), (\"n't\", 'ADV'), ('included', 'VERB'), ('*-3', 'X'), ('partly', 'ADV'), ('because', 'ADP'), ('she', 'PRON'), ('did', 'VERB'), (\"n't\", 'ADV'), ('wish', 'VERB'), ('*-4', 'X'), ('to', 'PRT'), ('be', 'VERB'), ('a', 'DET'), ('full-time', 'ADJ'), ('administrator', 'NOUN'), ('.', '.'), ('The', 'DET'), ('two', 'NUM'), ('banks', 'NOUN'), ('merged', 'VERB'), ('in', 'ADP'), ('1985', 'NUM'), ('.', '.'), ('The', 'DET'), ('management', 'NOUN'), ('group', 'NOUN'), ('owns', 'VERB'), ('about', 'ADP'), ('18', 'NUM'), ('%', 'NOUN'), ('of', 'ADP'), ('the', 'DET'), ('stock', 'NOUN'), (',', '.'), ('most', 'ADV'), ('purchased', 'VERB'), ('*', 'X'), ('at', 'ADP'), ('nominal', '.'), ('prices', 'NOUN'), (',', '.'), ('and', 'CONJ'), ('would', 'VERB'), ('stand', 'VERB'), ('*-1', 'X'), ('to', 'PRT'), ('gain', 'NOUN'), ('millions', 'NOUN'), ('of', 'ADP'), ('dollars', 'NOUN'), ('if', 'ADP'), ('the', 'DET'), ('company', 'NOUN'), ('were', 'VERB'), ('sold', 'VERB'), ('*-115', '.'), ('.', '.'), ('Dick', '.'), ('Lobo', '.'), (',', '.'), ('the', 'DET'), ('general', 'ADJ'), ('manager', 'NOUN'), ('of', 'ADP'), ('WTVJ', '.'), (',', '.'), ('the', 'DET'), ('NBC-owned', '.'), ('station', 'NOUN'), ('in', 'ADP'), ('Miami', 'NOUN'), (',', '.'), ('for', 'ADP'), ('example', 'NOUN'), (',', '.'), ('says', 'VERB'), ('0', 'X'), ('the', 'DET'), ('show', 'NOUN'), ('has', 'VERB'), ('``', '.'), ('been', 'VERB'), ('a', 'DET'), ('major', 'ADJ'), ('disappointment', 'NOUN'), ('to', 'PRT'), ('us', 'PRON'), ('.', '.'), (\"''\", '.'), ('It', 'PRON'), ('also', 'ADV'), ('asks', 'VERB'), ('them', 'PRON'), ('*-1', 'X'), ('to', 'PRT'), ('add', 'VERB'), ('two-sevenths', '.'), ('and', 'CONJ'), ('three-sevenths', '.'), ('.', '.'), ('On', 'ADP'), ('the', 'DET'), ('New', 'NOUN'), ('York', 'NOUN'), ('Mercantile', 'NOUN'), ('Exchange', 'NOUN'), (',', '.'), ('heating', 'NOUN'), ('oil', 'NOUN'), ('for', 'ADP'), ('December', 'NOUN'), ('delivery', 'NOUN'), ('increased', 'VERB'), ('1.25', 'NUM'), ('cents', 'NOUN'), ('*-1', 'X'), ('to', 'PRT'), ('settle', 'VERB'), ('at', 'ADP'), ('60.36', '.'), ('cents', 'NOUN'), ('a', 'DET'), ('gallon', 'NOUN'), ('.', '.'), ('Showa', '.'), ('Shell', '.'), ('gained', 'VERB'), ('20', 'NUM'), ('to', 'PRT'), ('1,570', '.'), ('and', 'CONJ'), ('Mitsubishi', 'NOUN'), ('Oil', 'NOUN'), ('rose', 'VERB'), ('50', 'NUM'), ('to', 'PRT'), ('1,500', 'NUM'), ('.', '.'), ('Mr.', 'NOUN'), ('Allen', 'NOUN'), (\"'s\", 'PRT'), ('Pittsburgh', '.'), ('firm', 'NOUN'), (',', '.'), ('Advanced', '.'), ('Investment', 'NOUN'), ('Management', 'NOUN'), ('Inc.', 'NOUN'), (',', '.'), ('executes', '.'), ('program', 'NOUN'), ('trades', 'NOUN'), ('for', 'ADP'), ('institutions', 'NOUN'), ('.', '.'), ('It', 'PRON'), ('*EXP*-1', 'X'), ('is', 'VERB'), ('not', 'ADV'), ('unethical', '.'), ('*', 'X'), ('to', 'PRT'), ('choose', 'VERB'), ('a', 'DET'), ('higher-salaried', '.'), ('job', 'NOUN'), ('.', '.'), ('In', 'ADP'), ('addition', 'NOUN'), (',', '.'), ('the', 'DET'), ('Apple', 'NOUN'), ('II', 'NOUN'), ('was', 'VERB'), ('an', 'DET'), ('affordable', '.'), ('$', '.'), ('1,298', '.'), ('*U*', 'X'), ('.', '.'), ('A', 'DET'), ('shift', '.'), ('to', 'PRT'), ('*', 'X'), ('producing', 'VERB'), ('more', 'ADV'), ('alcohol', 'NOUN'), ('and', 'CONJ'), ('less', 'ADJ'), ('sugar', 'NOUN'), ('had', 'VERB'), ('been', 'VERB'), ('expected', 'VERB'), ('*-1', 'X'), (',', '.'), ('but', 'CONJ'), ('the', 'DET'), ('latest', 'ADJ'), ('news', 'NOUN'), (',', '.'), ('if', 'ADP'), ('true', 'ADJ'), (',', '.'), ('indicates', 'VERB'), ('a', 'DET'), ('more', 'ADJ'), ('drastic', '.'), ('shift', '.'), ('0', 'X'), ('than', 'ADP'), ('*T*-2', 'X'), ('had', 'VERB'), ('been', 'VERB'), ('anticipated', 'VERB'), ('*-3', 'X'), ('.', '.'), ('The', 'DET'), ('Federal', 'NOUN'), ('Reserve', 'NOUN'), (\"'s\", 'PRT'), ('Beige', '.'), ('Book', '.'), (',', '.'), ('a', 'DET'), ('summary', 'NOUN'), ('of', 'ADP'), ('economic', 'ADJ'), ('conditions', 'NOUN'), ('across', 'ADP'), ('the', 'DET'), ('country', 'NOUN'), (',', '.'), ('indicated', 'VERB'), ('that', 'ADP'), ('the', 'DET'), ('overall', 'ADJ'), ('economy', 'NOUN'), ('remains', 'VERB'), ('in', 'ADP'), ('a', 'DET'), ('pattern', 'NOUN'), ('of', 'ADP'), ('sluggish', 'ADJ'), ('growth', 'NOUN'), ('.', '.'), ('She', 'PRON'), ('says', 'VERB'), ('that', 'ADP'), ('because', 'ADP'), ('of', 'ADP'), ('Mrs.', 'NOUN'), ('Yeargin', 'NOUN'), ('she', 'PRON'), ('gave', 'VERB'), ('up', 'ADV'), ('ambitions', 'NOUN'), ('in', 'ADP'), ('architecture', 'NOUN'), ('and', 'CONJ'), ('is', 'VERB'), ('studying', 'VERB'), ('*-1', 'X'), ('to', 'PRT'), ('become', 'VERB'), ('a', 'DET'), ('teacher', 'NOUN'), ('.', '.'), ('The', 'DET'), ('downgrading', '.'), ('of', 'ADP'), ('debt', 'NOUN'), ('issued', 'VERB'), ('*', 'X'), ('by', 'ADP'), ('CS', 'NOUN'), ('First', 'NOUN'), ('Boston', 'NOUN'), ('Inc.', 'NOUN'), (',', '.'), ('parent', 'NOUN'), ('of', 'ADP'), ('First', 'NOUN'), ('Boston', 'NOUN'), ('Corp.', 'NOUN'), (',', '.'), ('by', 'ADP'), ('Moody', 'NOUN'), (\"'s\", 'PRT'), ('Investors', 'NOUN'), ('Service', 'NOUN'), ('Inc.', 'NOUN'), (',', '.'), ('*', 'X'), ('coupled', 'VERB'), ('*', 'X'), ('with', 'ADP'), ('a', 'DET'), ('Moody', 'NOUN'), (\"'s\", 'PRT'), ('announcement', 'NOUN'), ('that', 'ADP'), ('Shearson', 'NOUN'), ('Lehman', 'NOUN'), ('Hutton', 'NOUN'), ('Holdings', 'NOUN'), ('Inc.', 'NOUN'), ('is', 'VERB'), ('under', 'ADP'), ('review', 'NOUN'), ('for', 'ADP'), ('a', 'DET'), ('possible', 'ADJ'), ('downgrade', 'NOUN'), (',', '.'), ('sent', 'VERB'), ('shivers', '.'), ('through', 'ADP'), ('the', 'DET'), ('brokerage', 'NOUN'), ('community', 'NOUN'), ('this', 'DET'), ('week', 'NOUN'), ('.', '.'), ('And', 'CONJ'), ('8', 'NUM'), ('%', 'NOUN'), ('*ICH*-1', 'X'), ('said', 'VERB'), ('0', 'X'), ('export', 'VERB'), ('orders', 'NOUN'), ('were', 'VERB'), ('down', 'ADV'), ('last', 'ADJ'), ('month', 'NOUN'), (',', '.'), ('compared', 'VERB'), ('with', 'ADP'), ('6', 'NUM'), ('%', 'NOUN'), ('the', 'DET'), ('month', 'NOUN'), ('before', 'ADP'), ('.', '.'), ('Critics', 'NOUN'), ('like', 'ADP'), ('Mr.', 'NOUN'), ('Murray', 'NOUN'), ('``', '.'), ('are', 'VERB'), ('looking', 'VERB'), ('for', 'ADP'), ('witches', '.'), (',', '.'), ('and', 'CONJ'), ('people', 'NOUN'), ('who', 'PRON'), ('*T*-68', 'X'), ('use', 'VERB'), ('computers', 'NOUN'), ('*', 'X'), ('to', 'PRT'), ('trade', 'VERB'), ('are', 'VERB'), ('a', 'DET'), ('convenient', 'ADJ'), ('boogieman', '.'), (',', '.'), (\"''\", '.'), ('says', 'VERB'), ('0', 'X'), ('*T*-3', 'X'), ('J.', 'NOUN'), ('Thomas', 'NOUN'), ('Allen', 'NOUN'), (',', '.'), ('president', 'NOUN'), ('of', 'ADP'), ('Advanced', '.'), ('Investment', 'NOUN'), ('Management', 'NOUN'), ('Inc.', 'NOUN'), (',', '.'), ('a', 'DET'), ('Pittsburgh', '.'), ('firm', 'NOUN'), ('that', 'ADP'), ('*T*-1', 'X'), ('runs', 'VERB'), ('a', 'DET'), ('$', '.'), ('200', 'NUM'), ('million', 'NUM'), ('*U*', 'X'), ('fund', 'VERB'), ('that', 'ADP'), ('*T*-2', 'X'), ('uses', 'VERB'), ('index', 'NOUN'), ('arbitrage', 'NOUN'), ('.', '.'), ('The', 'DET'), ('dollar', 'NOUN'), ('rose', 'VERB'), ('.', '.'), ('This', 'DET'), ('species', '.'), ('of', 'ADP'), ('congressional', 'ADJ'), ('action', 'NOUN'), ('is', 'VERB'), ('predicated', '.'), ('*-50', 'X'), ('on', 'ADP'), ('an', 'DET'), ('interpretation', 'NOUN'), ('of', 'ADP'), ('the', 'DET'), ('appropriations', 'NOUN'), ('clause', 'NOUN'), ('that', 'ADP'), ('*T*-1', 'X'), ('is', 'VERB'), ('erroneous', '.'), ('and', 'CONJ'), ('unconstitutional', 'ADJ'), ('.', '.'), ('Mr.', 'NOUN'), ('Felten', 'NOUN'), ('said', 'VERB'), (',', '.'), ('``', '.'), ('We', 'PRON'), ('got', 'VERB'), ('what', 'PRON'), ('*T*-252', '.'), ('amounted', 'VERB'), ('to', 'PRT'), ('a', 'DET'), ('parking', 'NOUN'), ('ticket', 'NOUN'), (',', '.'), ('and', 'CONJ'), ('by', 'ADP'), ('*-1', 'X'), ('complaining', '.'), ('about', 'ADP'), ('it', 'PRON'), (',', '.'), ('we', 'PRON'), ('ended', 'VERB'), ('up', 'ADV'), ('with', 'ADP'), ('a', 'DET'), ('sizable', 'ADJ'), ('fine', 'NOUN'), ('and', 'CONJ'), ('suspension', 'NOUN'), ('.', '.'), (\"''\", '.'), ('In', 'ADP'), ('addition', 'NOUN'), (',', '.'), ('Buick', 'NOUN'), ('is', 'VERB'), ('a', 'DET'), ('relatively', 'ADV'), ('respected', 'VERB'), ('nameplate', 'NOUN'), ('among', 'ADP'), ('American', 'ADJ'), ('Express', 'NOUN'), ('card', 'NOUN'), ('holders', 'NOUN'), (',', '.'), ('says', 'VERB'), ('0', 'X'), ('*T*-1', 'X'), ('an', 'DET'), ('American', 'ADJ'), ('Express', 'NOUN'), ('spokeswoman', 'NOUN'), ('.', '.'), ('The', 'DET'), ('Chicago', 'NOUN'), ('report', 'NOUN'), ('raised', 'VERB'), ('the', 'DET'), ('possibility', 'NOUN'), ('that', 'ADP'), ('the', 'DET'), ('October', 'NOUN'), ('survey', 'NOUN'), ('of', 'ADP'), ('the', 'DET'), ('National', 'NOUN'), ('Association', 'NOUN'), ('of', 'ADP'), ('Purchasing', 'NOUN'), ('Management', 'NOUN'), ('would', 'VERB'), ('also', 'ADV'), ('show', 'VERB'), ('a', 'DET'), ('reading', 'NOUN'), ('above', 'ADP'), ('50', 'NUM'), ('%', 'NOUN'), ('.', '.'), ('Analysts', 'NOUN'), ('said', 'VERB'), ('0', 'X'), ('the', 'DET'), ('fall', 'NOUN'), ('in', 'ADP'), ('pretax', 'NOUN'), ('profit', 'NOUN'), ('was', 'VERB'), ('due', 'ADJ'), ('to', 'PRT'), ('the', 'DET'), ('group', 'NOUN'), (\"'s\", 'PRT'), ('recent', 'ADJ'), ('restructuring', 'NOUN'), ('and', 'CONJ'), ('sale', 'NOUN'), ('of', 'ADP'), ('peripheral', 'ADJ'), ('units', 'NOUN'), (',', '.'), ('and', 'CONJ'), ('that', 'DET'), ('its', 'PRON'), ('remaining', 'VERB'), ('businesses', 'NOUN'), ('are', 'VERB'), ('performing', 'VERB'), ('well', 'ADV'), ('.', '.'), ('The', 'DET'), ('Bush', 'NOUN'), ('administration', 'NOUN'), (\"'s\", 'PRT'), ('nomination', 'NOUN'), ('of', 'ADP'), ('Clarence', '.'), ('Thomas', 'NOUN'), ('to', 'PRT'), ('a', 'DET'), ('seat', 'NOUN'), ('on', 'ADP'), ('the', 'DET'), ('federal', 'ADJ'), ('appeals', 'NOUN'), ('court', 'NOUN'), ('here', 'ADV'), ('received', 'VERB'), ('a', 'DET'), ('blow', 'NOUN'), ('this', 'DET'), ('week', 'NOUN'), ('when', 'ADV'), ('the', 'DET'), ('American', 'ADJ'), ('Bar', '.'), ('Association', 'NOUN'), ('gave', 'VERB'), ('Mr.', 'NOUN'), ('Thomas', 'NOUN'), ('only', 'ADV'), ('a', 'DET'), ('``', '.'), ('qualified', 'VERB'), (\"''\", '.'), ('rating', 'NOUN'), (',', '.'), ('rather', 'ADV'), ('than', 'ADP'), ('``', '.'), ('well', 'ADV'), ('qualified', 'VERB'), ('*T*-1', 'X'), ('.', '.'), (\"''\", '.'), ('Cooper', 'NOUN'), ('Tire', '.'), ('&', 'CONJ'), ('Rubber', '.'), ('Co.', 'NOUN'), ('said', 'VERB'), ('0', 'X'), ('it', 'PRON'), ('has', 'VERB'), ('reached', 'VERB'), ('an', 'DET'), ('agreement', 'NOUN'), ('*ICH*-1', 'X'), ('in', 'ADP'), ('principle', 'NOUN'), ('*', 'X'), ('to', 'PRT'), ('buy', 'VERB'), ('buildings', 'NOUN'), ('and', 'CONJ'), ('related', 'VERB'), ('property', 'NOUN'), ('in', 'ADP'), ('Albany', '.'), (',', '.'), ('Ga.', 'NOUN'), (',', '.'), ('from', 'ADP'), ('Bridgestone\\\\/Firestone', 'NOUN'), ('Inc', 'NOUN'), ('.', '.'), ('Packaging', '.'), ('has', 'VERB'), ('some', 'DET'), ('drawbacks', '.'), ('.', '.'), ('A', 'DET'), ('White', 'NOUN'), ('House', 'NOUN'), ('spokesman', 'NOUN'), ('condemned', 'VERB'), ('the', 'DET'), ('truce', 'NOUN'), ('suspension', 'NOUN'), ('as', 'ADP'), ('``', '.'), ('deplorable', '.'), (\"''\", '.'), ('but', 'CONJ'), ('brushed', '.'), ('off', 'ADP'), ('talk', 'NOUN'), ('of', 'ADP'), ('*', 'X'), ('renewing', '.'), ('military', 'ADJ'), ('funding', 'NOUN'), ('for', 'ADP'), ('the', 'DET'), ('insurgents', '.'), ('.', '.'), ('``', '.'), ('What', 'PRON'), ('*T*-164', '.'), (\"'s\", 'VERB'), ('different', 'ADJ'), ('is', 'VERB'), ('that', 'ADP'), ('it', 'PRON'), ('is', 'VERB'), ('happening', '.'), ('with', 'ADP'), ('young', 'ADJ'), ('wines', 'NOUN'), ('just', 'ADV'), ('coming', 'VERB'), ('out', 'PRT'), ('.', '.'), ('The', 'DET'), ('firm', 'NOUN'), ('and', 'CONJ'), ('Mr.', 'NOUN'), ('Whelen', 'NOUN'), ('allegedly', 'ADV'), ('sold', 'VERB'), ('securities', 'NOUN'), ('to', 'PRT'), ('the', 'DET'), ('public', 'ADJ'), ('at', 'ADP'), ('unfair', 'ADJ'), ('prices', 'NOUN'), (',', '.'), ('among', 'ADP'), ('other', 'ADJ'), ('alleged', 'ADJ'), ('violations', 'NOUN'), ('.', '.'), ('Net', 'ADJ'), ('advanced', 'ADJ'), ('to', 'PRT'), ('$', '.'), ('94.2', '.'), ('million', 'NUM'), ('*U*', 'X'), (',', '.'), ('or', 'CONJ'), ('89', 'NUM'), ('cents', 'NOUN'), ('a', 'DET'), ('share', 'NOUN'), (',', '.'), ('from', 'ADP'), ('$', '.'), ('85', 'NUM'), ('million', 'NUM'), ('*U*', 'X'), (',', '.'), ('or', 'CONJ'), ('83', '.'), ('cents', 'NOUN'), ('a', 'DET'), ('share', 'NOUN'), (',', '.'), ('including', 'VERB'), ('net', 'ADJ'), ('realized', 'VERB'), ('investment', 'NOUN'), ('gains', 'NOUN'), ('of', 'ADP'), ('$', '.'), ('31', 'NUM'), ('million', 'NUM'), ('*U*', 'X'), (',', '.'), ('up', 'ADV'), ('from', 'ADP'), ('$', '.'), ('10', 'NUM'), ('million', 'NUM'), ('*U*', 'X'), ('a', 'DET'), ('year', 'NOUN'), ('ago', 'ADP'), ('.', '.'), ('There', 'DET'), ('were', 'VERB'), ('many', 'ADJ'), ('pioneer', 'NOUN'), ('PC', 'NOUN'), ('contributors', '.'), ('.', '.'), ('``', '.'), ('It', 'PRON'), ('*EXP*-1', 'X'), (\"'s\", 'PRT'), ('hard', 'ADJ'), ('*', 'X'), ('to', 'PRT'), ('explain', 'VERB'), ('to', 'PRT'), ('a', 'DET'), ('17-year-old', '.'), ('why', 'ADV'), ('someone', 'NOUN'), ('0', 'X'), ('they', 'PRON'), ('like', 'VERB'), ('*T*-2', 'X'), ('had', 'VERB'), ('*-3', 'X'), ('to', 'PRT'), ('go', 'VERB'), (',', '.'), (\"''\", '.'), ('says', 'VERB'), ('*T*-4', 'X'), ('Mrs.', 'NOUN'), ('Ward', 'NOUN'), ('.', '.'), ('Last', 'ADJ'), ('year', 'NOUN'), (',', '.'), ('DSM', 'NOUN'), ('had', 'VERB'), ('71', 'NUM'), ('million', 'NUM'), ('guilders', 'NOUN'), ('of', 'ADP'), ('extraordinary', 'ADJ'), ('charges', 'NOUN'), ('for', 'ADP'), ('the', 'DET'), ('restructuring', 'NOUN'), ('program', 'NOUN'), ('and', 'CONJ'), ('other', 'ADJ'), ('transactions', 'NOUN'), ('.', '.'), ('By', 'ADP'), ('January', 'NOUN'), ('it', 'PRON'), ('*EXP*-1', 'X'), ('should', 'VERB'), ('be', 'VERB'), ('fairly', 'ADV'), ('clear', 'ADJ'), ('what', 'PRON'), ('*T*-2', 'X'), (\"'s\", 'PRT'), ('hot', '.'), ('--', '.'), ('and', 'CONJ'), ('what', 'PRON'), ('*T*-172', '.'), (\"'s\", 'VERB'), ('not', 'ADV'), ('*?*', 'X'), ('.', '.'), ('He', 'PRON'), ('added', 'VERB'), (',', '.'), ('``', '.'), ('There', 'DET'), (\"'s\", 'VERB'), ('nothing', 'NOUN'), ('very', 'ADV'), ('hot', '.'), ('.', '.'), (\"''\", '.'), ('New', 'NOUN'), ('York', 'NOUN'), ('City', 'NOUN'), (':', '.'), ('Argentina', 'NOUN'), ('said', 'VERB'), ('0', 'X'), ('it', 'PRON'), ('will', 'VERB'), ('ask', 'VERB'), ('creditor', 'NOUN'), ('banks', 'NOUN'), ('*-1', 'X'), ('to', 'PRT'), ('halve', '.'), ('its', 'PRON'), ('foreign', 'ADJ'), ('debt', 'NOUN'), ('of', 'ADP'), ('$', '.'), ('64', 'NUM'), ('billion', 'NUM'), ('*U*', 'X'), ('--', '.'), ('the', 'DET'), ('third-highest', '.'), ('in', 'ADP'), ('the', 'DET'), ('developing', 'VERB'), ('world', 'NOUN'), ('.', '.'), ('``', '.'), ('Professional', 'NOUN'), ('sugar', 'NOUN'), ('people', 'NOUN'), ('here', 'ADV'), ('who', 'PRON'), ('*T*-1', 'X'), ('have', 'VERB'), ('strong', 'ADJ'), ('contacts', 'NOUN'), ('with', 'ADP'), ('the', 'DET'), ('Brazilian', 'ADJ'), ('sugar', 'NOUN'), ('industry', 'NOUN'), ('have', 'VERB'), ('been', 'VERB'), ('unable', 'ADJ'), ('*-3', 'X'), ('to', 'PRT'), ('confirm', 'VERB'), ('the', 'DET'), ('reports', 'NOUN'), ('or', 'CONJ'), ('get', 'VERB'), ('enough', 'ADV'), ('information', 'NOUN'), ('0', 'X'), ('*', 'X'), ('to', 'PRT'), ('clarify', 'VERB'), ('the', 'DET'), ('situation', 'NOUN'), ('*T*-4', 'X'), (',', '.'), (\"''\", '.'), ('he', 'PRON'), ('said', 'VERB'), ('*T*-2', 'X'), ('.', '.'), ('The', 'DET'), ('second', 'ADJ'), ('patent', 'NOUN'), ('describes', 'VERB'), ('bone', 'NOUN'), ('morphogenetic', 'ADJ'), ('protein-1', '.'), (',', '.'), ('a', 'DET'), ('substance', 'NOUN'), ('that', 'ADP'), ('*T*-2', 'X'), ('can', 'VERB'), ('induce', '.'), ('formation', '.'), ('of', 'ADP'), ('new', 'ADJ'), ('cartilage', 'NOUN'), ('.', '.'), ('This', 'DET'), ('argument', 'NOUN'), ('is', 'VERB'), ('perhaps', 'ADV'), ('the', 'DET'), ('most', 'ADJ'), ('interesting', 'ADJ'), ('one', 'NUM'), ('for', 'ADP'), ('*', 'X'), ('abolishing', '.'), ('program', 'NOUN'), ('trading', 'NOUN'), ('--', '.'), ('not', 'ADV'), ('because', 'ADP'), ('of', 'ADP'), ('its', 'PRON'), ('merits', '.'), (',', '.'), ('but', 'CONJ'), ('because', 'ADP'), ('of', 'ADP'), ('the', 'DET'), ('firms', 'NOUN'), ('championing', '.'), ('the', 'DET'), ('cause', 'NOUN'), ('.', '.'), ('USX', 'NOUN'), ('Corp.', 'NOUN'), ('posted', 'VERB'), ('a', 'DET'), ('23', 'NUM'), ('%', 'NOUN'), ('drop', 'NOUN'), ('in', 'ADP'), ('third-quarter', 'NOUN'), ('profit', 'NOUN'), (',', '.'), ('as', 'ADP'), ('improved', 'VERB'), ('oil', 'NOUN'), ('results', 'NOUN'), ('failed', 'VERB'), ('*-1', 'X'), ('to', 'PRT'), ('offset', 'VERB'), ('weakness', 'NOUN'), ('in', 'ADP'), ('steel', 'NOUN'), ('and', 'CONJ'), ('natural', 'ADJ'), ('gas', 'NOUN'), ('operations', 'NOUN'), ('.', '.'), ('But', 'CONJ'), ('a', 'DET'), ('takeover', 'NOUN'), ('battle', 'NOUN'), ('opens', '.'), ('up', 'ADV'), ('the', 'DET'), ('possibility', 'NOUN'), ('of', 'ADP'), ('a', 'DET'), ('bidding', 'NOUN'), ('war', 'NOUN'), (',', '.'), ('with', 'ADP'), ('all', 'DET'), ('0', 'X'), ('that', 'ADP'), ('implies', 'VERB'), ('*T*-1', 'X'), ('.', '.'), ('First', 'NOUN'), ('Commonwealth', 'NOUN'), ('Securities', 'NOUN'), ('Corp.', 'NOUN'), (',', '.'), ('of', 'ADP'), ('New', 'NOUN'), ('Orleans', 'NOUN'), (',', '.'), ('and', 'CONJ'), ('its', 'PRON'), ('president', 'NOUN'), (',', '.'), ('Kenneth', 'NOUN'), ('J.', 'NOUN'), ('Canepa', 'NOUN'), (',', '.'), ('also', 'ADV'), ('of', 'ADP'), ('New', 'NOUN'), ('Orleans', 'NOUN'), (',', '.'), ('consented', 'VERB'), ('to', 'PRT'), ('a', 'DET'), ('$', '.'), ('10,000', 'NUM'), ('*U*', 'X'), ('fine', 'NOUN'), ('.', '.'), ('Third', '.'), ('quarter', 'NOUN'), (',', '.'), ('Sept.', 'NOUN'), ('30', 'NUM'), (',', '.'), ('1989', 'NUM'), (':', '.'), ('Net', 'ADJ'), ('loss', 'NOUN'), (':', '.'), ('$', '.'), ('11.57', '.'), ('*U*', 'X'), ('a', 'DET'), ('share', 'NOUN'), ('vs.', 'ADP'), ('net', 'ADJ'), ('income', 'NOUN'), (':', '.'), ('37', 'NUM'), ('cents', 'NOUN'), ('a', 'DET'), ('share', 'NOUN'), ('Old', 'NOUN'), ('Spaghetti', '.'), ('Warehouse', '.'), ('rose', 'VERB'), ('1', 'NUM'), ('to', 'PRT'), ('16', 'NUM'), ('1\\\\/8', 'NUM'), ('.', '.'), ('The', 'DET'), ('offer', 'NOUN'), (',', '.'), ('advertised', 'VERB'), ('*', 'X'), ('in', 'ADP'), ('today', 'NOUN'), (\"'s\", 'PRT'), ('editions', '.'), ('of', 'ADP'), ('The', 'DET'), ('Wall', 'NOUN'), ('Street', 'NOUN'), ('Journal', 'NOUN'), (',', '.'), ('is', 'VERB'), ('scheduled', 'VERB'), ('*-1', 'X'), ('to', 'PRT'), ('expire', 'VERB'), ('at', 'ADP'), ('the', 'DET'), ('end', 'NOUN'), ('of', 'ADP'), ('November', 'NOUN'), ('.', '.'), ('Editorials', '.'), ('in', 'ADP'), ('the', 'DET'), ('Greenville', 'NOUN'), ('newspaper', 'NOUN'), ('allowed', 'VERB'), ('that', 'ADP'), ('Mrs.', 'NOUN'), ('Yeargin', 'NOUN'), ('was', 'VERB'), ('wrong', 'ADJ'), (',', '.'), ('but', 'CONJ'), ('also', 'ADV'), ('said', 'VERB'), ('0', 'X'), ('the', 'DET'), ('case', 'NOUN'), ('showed', 'VERB'), ('how', 'ADV'), ('testing', 'NOUN'), ('was', 'VERB'), ('being', 'VERB'), ('overused', '.'), ('*-2', 'X'), ('*T*-1', 'X'), ('.', '.'), ('``', '.'), ('Each', 'DET'), ('day', 'NOUN'), ('that', 'ADP'), ('Congress', 'NOUN'), ('fails', 'VERB'), ('*-1', 'X'), ('to', 'PRT'), ('act', 'VERB'), ('*T*-2', 'X'), ('...', '.'), ('will', 'VERB'), ('cause', 'VERB'), ('additional', 'ADJ'), ('disruption', '.'), ('in', 'ADP'), ('our', 'PRON'), ('borrowing', 'VERB'), ('schedule', '.'), (',', '.'), ('*', 'X'), ('possibly', 'ADV'), ('resulting', 'VERB'), ('in', 'ADP'), ('higher', 'ADJ'), ('interest', 'NOUN'), ('costs', 'NOUN'), ('to', 'PRT'), ('the', 'DET'), ('taxpayer', '.'), (',', '.'), (\"''\", '.'), ('Treasury', 'NOUN'), ('Secretary', 'NOUN'), ('Nicholas', '.'), ('Brady', '.'), ('said', 'VERB'), ('*T*-3', 'X'), ('in', 'ADP'), ('a', 'DET'), ('speech', 'NOUN'), ('prepared', 'VERB'), ('*', 'X'), ('for', 'ADP'), ('delivery', 'NOUN'), ('last', 'ADJ'), ('night', 'NOUN'), ('to', 'PRT'), ('a', 'DET'), ('group', 'NOUN'), ('of', 'ADP'), ('bankers', 'NOUN'), ('.', '.'), ('Although', 'ADP'), ('preliminary', 'ADJ'), ('findings', 'NOUN'), ('were', 'VERB'), ('reported', 'VERB'), ('*-2', 'X'), ('more', 'ADV'), ('than', 'ADP'), ('a', 'DET'), ('year', 'NOUN'), ('ago', 'ADP'), (',', '.'), ('the', 'DET'), ('latest', 'ADJ'), ('results', 'NOUN'), ('appear', 'VERB'), ('in', 'ADP'), ('today', 'NOUN'), (\"'s\", 'PRT'), ('New', 'NOUN'), ('England', 'NOUN'), ('Journal', 'NOUN'), ('of', 'ADP'), ('Medicine', 'NOUN'), (',', '.'), ('a', 'DET'), ('forum', 'NOUN'), ('likely', 'ADJ'), ('*', 'X'), ('to', 'PRT'), ('bring', 'VERB'), ('new', 'ADJ'), ('attention', 'NOUN'), ('to', 'PRT'), ('the', 'DET'), ('problem', 'NOUN'), ('.', '.'), ('When', 'ADV'), ('you', 'PRON'), ('become', 'VERB'), ('a', 'DET'), ('federal', 'ADJ'), ('judge', 'NOUN'), ('*T*-1', 'X'), (',', '.'), ('all', 'DET'), ('of', 'ADP'), ('a', 'DET'), ('sudden', 'ADJ'), ('you', 'PRON'), ('are', 'VERB'), ('relegated', 'VERB'), ('*-2', 'X'), ('to', 'PRT'), ('a', 'DET'), ('paltry', 'ADJ'), ('sum', '.'), ('.', '.'), (\"''\", '.'), ('``', '.'), ('These', 'DET'), ('kids', 'NOUN'), ('broke', '.'), ('my', 'PRON'), ('heart', 'NOUN'), (',', '.'), (\"''\", '.'), ('she', 'PRON'), ('says', 'VERB'), ('*T*-1', 'X'), ('.', '.'), ('``', '.'), ('You', 'PRON'), (\"'d\", 'VERB'), ('see', 'VERB'), ('her', 'PRON'), ('correcting', '.'), ('homework', '.'), ('in', 'ADP'), ('the', 'DET'), ('stands', 'NOUN'), ('at', 'ADP'), ('a', 'DET'), ('football', 'NOUN'), ('game', 'NOUN'), ('.', '.'), (\"''\", '.'), ('After', 'ADP'), ('the', 'DET'), ('race', 'NOUN'), (',', '.'), ('Fortune', '.'), ('500', 'NUM'), ('executives', 'NOUN'), ('drooled', '.'), ('like', 'ADP'), ('schoolboys', '.'), ('over', 'ADP'), ('the', 'DET'), ('cars', 'NOUN'), ('and', 'CONJ'), ('drivers', 'NOUN'), ('.', '.'), ('``', '.'), ('If', 'ADP'), ('you', 'PRON'), ('look', 'VERB'), ('at', 'ADP'), ('the', 'DET'), ('third', 'ADJ'), ('quarter', 'NOUN'), ('as', 'ADP'), ('*', 'X'), ('posting', 'VERB'), ('roughly', 'ADV'), ('2.5', 'NUM'), ('%', 'NOUN'), ('growth', 'NOUN'), (',', '.'), ('I', 'PRON'), ('do', 'VERB'), ('see', 'VERB'), ('some', 'DET'), ('slowing', 'NOUN'), ('in', 'ADP'), ('the', 'DET'), ('fourth', 'ADJ'), ('quarter', 'NOUN'), (',', '.'), (\"''\", '.'), ('agrees', 'VERB'), ('*T*-1', 'X'), ('Kansas', 'NOUN'), ('City', 'NOUN'), ('Fed', 'NOUN'), ('President', 'NOUN'), ('Roger', 'NOUN'), ('Guffey', 'NOUN'), ('.', '.'), ('Heritage', 'NOUN'), (',', '.'), ('which', 'DET'), ('*T*-1', 'X'), ('owns', 'VERB'), ('51', 'NUM'), ('%', 'NOUN'), ('of', 'ADP'), ('POP', 'NOUN'), (\"'s\", 'PRT'), ('3.6', 'NUM'), ('million', 'NUM'), ('shares', 'NOUN'), ('outstanding', 'ADJ'), (',', '.'), ('said', 'VERB'), ('0', 'X'), ('it', 'PRON'), ('will', 'VERB'), ('exchange', 'NOUN'), ('one', 'NUM'), ('share', 'NOUN'), ('of', 'ADP'), ('a', 'DET'), ('new', 'ADJ'), ('preferred', 'ADJ'), ('stock', 'NOUN'), ('for', 'ADP'), ('each', 'DET'), ('POP', 'NOUN'), ('common', 'ADJ'), ('share', 'NOUN'), ('0', 'X'), ('it', 'PRON'), ('does', 'VERB'), (\"n't\", 'ADV'), ('already', 'ADV'), ('own', 'ADJ'), ('*T*-2', 'X'), ('.', '.'), ('Primerica', 'NOUN'), (',', '.'), ('as', 'ADP'), ('*', 'X'), ('expected', 'VERB'), (',', '.'), ('also', 'ADV'), ('acquired', 'VERB'), ('certain', 'ADJ'), ('assets', 'NOUN'), ('of', 'ADP'), ('the', 'DET'), ('agency', 'NOUN'), ('and', 'CONJ'), ('assumed', 'VERB'), ('certain', 'ADJ'), ('of', 'ADP'), ('its', 'PRON'), ('liabilities', '.'), ('.', '.'), ('Second', 'NOUN'), (',', '.'), ('they', 'PRON'), ('channel', '.'), ('monthly', 'ADJ'), ('mortgage', 'NOUN'), ('payments', 'NOUN'), ('into', 'ADP'), ('semiannual', 'ADJ'), ('payments', 'NOUN'), (',', '.'), ('*-1', 'X'), ('reducing', 'VERB'), ('the', 'DET'), ('administrative', 'ADJ'), ('burden', 'NOUN'), ('on', 'ADP'), ('investors', 'NOUN'), ('.', '.'), ('Moscow', 'NOUN'), ('has', 'VERB'), ('settled', 'VERB'), ('pre-1917', '.'), ('debts', 'NOUN'), ('with', 'ADP'), ('other', 'ADJ'), ('countries', 'NOUN'), ('in', 'ADP'), ('recent', 'ADJ'), ('years', 'NOUN'), ('at', 'ADP'), ('less', 'ADJ'), ('than', 'ADP'), ('face', 'NOUN'), ('value', 'NOUN'), ('.', '.'), ('And', 'CONJ'), ('the', 'DET'), ('nose', 'NOUN'), ('on', 'ADP'), ('Mr.', 'NOUN'), ('Courter', 'NOUN'), (\"'s\", 'PRT'), ('face', 'VERB'), ('grows', 'VERB'), ('.', '.'), ('Finmeccanica', 'NOUN'), ('is', 'VERB'), ('an', 'DET'), ('Italian', 'ADJ'), ('state-owned', 'ADJ'), ('holding', 'NOUN'), ('company', 'NOUN'), ('with', 'ADP'), ('interests', 'NOUN'), ('in', 'ADP'), ('the', 'DET'), ('mechanical', 'ADJ'), ('engineering', 'NOUN'), ('industry', 'NOUN'), ('.', '.'), ('Mr.', 'NOUN'), ('van', 'NOUN'), ('Dover', 'NOUN'), ('said', 'VERB'), ('0', 'X'), ('the', 'DET'), ('crystal', 'NOUN'), ('changes', 'NOUN'), ('0', 'X'), ('his', 'PRON'), ('team', 'NOUN'), ('introduced', 'VERB'), ('*T*-1', 'X'), ('apparently', 'ADV'), ('pins', 'NOUN'), ('the', 'DET'), ('magnetic', 'ADJ'), ('fields', 'NOUN'), ('in', 'ADP'), ('place', 'NOUN'), (',', '.'), ('*', 'X'), ('preventing', 'VERB'), ('them', 'PRON'), ('from', 'ADP'), ('*-3', 'X'), ('lowering', 'VERB'), ('current-carrying', 'ADJ'), ('capacity', 'NOUN'), ('.', '.'), ('South', 'NOUN'), ('Carolina', 'NOUN'), (\"'s\", 'PRT'), ('reforms', 'NOUN'), ('were', 'VERB'), ('designed', 'VERB'), ('*-1', 'X'), ('for', 'ADP'), ('schools', 'NOUN'), ('like', 'ADP'), ('Greenville', 'NOUN'), ('High', 'NOUN'), ('School', 'NOUN'), ('.', '.'), ('Overall', '.'), (',', '.'), ('pretax', 'NOUN'), ('electronics', 'NOUN'), ('earnings', 'NOUN'), ('soared', 'VERB'), ('12', 'NUM'), ('%', 'NOUN'), ('to', 'PRT'), ('$', '.'), ('107.9', '.'), ('million', 'NUM'), ('*U*', 'X'), ('from', 'ADP'), ('$', '.'), ('96.4', '.'), ('million', 'NUM'), ('*U*', 'X'), ('.', '.'), ('The', 'DET'), ('American', 'ADJ'), ('Bar', '.'), ('Association', 'NOUN'), (\"'s\", 'PRT'), ('House', 'NOUN'), ('of', 'ADP'), ('Delegates', '.'), ('passed', 'VERB'), ('a', 'DET'), ('resolution', 'NOUN'), ('*ICH*-1', 'X'), ('in', 'ADP'), ('1985', 'NUM'), ('condemning', '.'), ('the', 'DET'), ('IRS', 'NOUN'), ('reporting', 'VERB'), ('requirement', 'NOUN'), ('.', '.'), ('According', 'VERB'), ('to', 'PRT'), ('an', 'DET'), ('American', 'ADJ'), ('member', 'NOUN'), ('of', 'ADP'), ('the', 'DET'), ('Nixon', 'NOUN'), ('party', 'NOUN'), (',', '.'), ('the', 'DET'), ('former', 'ADJ'), ('president', 'NOUN'), ('raised', 'VERB'), ('a', 'DET'), ('number', 'NOUN'), ('of', 'ADP'), ('controversial', 'ADJ'), ('issues', 'NOUN'), ('in', 'ADP'), ('his', 'PRON'), ('20', 'NUM'), ('hours', 'NOUN'), ('of', 'ADP'), ('talks', 'NOUN'), ('with', 'ADP'), ('top-level', '.'), ('Chinese', 'ADJ'), ('officials', 'NOUN'), ('.', '.')]\n",
      "accuracy 0.909728992006239\n",
      "\n",
      "Incorrect tagged cases:  [[('John', 'NOUN'), (('Deere', '.'), ('Deere', 'NOUN'))], [('for', 'ADP'), (('midsized', 'VERB'), ('midsized', 'ADJ'))], [(',', '.'), (('traced', '.'), ('traced', 'VERB'))], [('another', 'DET'), (('wave', '.'), ('wave', 'NOUN'))], [('its', 'PRON'), (('Eveready', '.'), ('Eveready', 'NOUN'))], [('A', 'DET'), (('nickname', '.'), ('nickname', 'NOUN'))], [('to', 'PRT'), (('glamorize', '.'), ('glamorize', 'VERB'))], [(\"'s\", 'PRT'), (('vagabond', '.'), ('vagabond', 'NOUN'))], [('vagabond', 'NOUN'), (('existence', '.'), ('existence', 'NOUN'))], [('Parliament', 'NOUN'), (('authorized', '.'), ('authorized', 'VERB'))], [('Minister', 'NOUN'), (('Miklos', '.'), ('Miklos', 'NOUN'))], [('Miklos', 'NOUN'), (('Nemeth', '.'), ('Nemeth', 'NOUN'))], [('was', 'VERB'), (('2,303,328', '.'), ('2,303,328', 'NUM'))], [('down', 'ADV'), (('2.6', '.'), ('2.6', 'NUM'))], [('an', 'DET'), (('eight-count', '.'), ('eight-count', 'ADJ'))], [('eight-count', 'ADJ'), (('indictment', '.'), ('indictment', 'NOUN'))], [('its', 'PRON'), (('Vice', '.'), ('Vice', 'NOUN'))], [('T.', 'NOUN'), (('Sherwin', '.'), ('Sherwin', 'NOUN'))], [('to', 'PRT'), (('manipulate', '.'), ('manipulate', 'VERB'))], [('Union', 'NOUN'), (('Carbide', '.'), ('Carbide', 'NOUN'))], [(\"'s\", 'PRT'), (('planned', 'VERB'), ('planned', 'ADJ'))], [('lobbyists', 'NOUN'), (('as', 'ADP'), ('as', 'ADV'))], [('emissions', 'NOUN'), (('that', 'ADP'), ('that', 'DET'))], [('$', '.'), (('737.5', '.'), ('737.5', 'NUM'))], [('$', '.'), (('3.01', '.'), ('3.01', 'NUM'))], [('be', 'VERB'), (('centralized', '.'), ('centralized', 'VERB'))], [('an', 'DET'), (('ethanol', '.'), ('ethanol', 'NOUN'))], [('to', 'PRT'), (('fuel', 'NOUN'), ('fuel', 'VERB'))], [('national', 'ADJ'), (('fleet', '.'), ('fleet', 'NOUN'))], [('of', 'ADP'), (('Mount', '.'), ('Mount', 'NOUN'))], [('Mount', 'NOUN'), (('Clemens', '.'), ('Clemens', 'NOUN'))], [('-LRB-', '.'), (('NYSE', '.'), ('NYSE', 'NOUN'))], [(';', '.'), (('Symbol', '.'), ('Symbol', 'NOUN'))], [(':', '.'), (('CSV', '.'), ('CSV', 'NOUN'))], [('-RRB-', '.'), (('Ketchum', '.'), ('Ketchum', 'NOUN'))], [(',', '.'), (('Pittsburgh', '.'), ('Pittsburgh', 'NOUN'))], [('acquired', 'VERB'), (('Braun', '.'), ('Braun', 'NOUN'))], [('Angeles', 'NOUN'), (('investor-relations', '.'), ('investor-relations', 'NOUN'))], [('and', 'CONJ'), (('marketing-communications', '.'), ('marketing-communications', 'NOUN'))], [('police', 'NOUN'), (('escort', '.'), ('escort', 'NOUN'))], [(',', '.'), (('busloads', '.'), ('busloads', 'NOUN'))], [('their', 'PRON'), (('wives', '.'), ('wives', 'NOUN'))], [('wives', 'NOUN'), (('raced', '.'), ('raced', 'VERB'))], [('Motor', 'NOUN'), (('Speedway', '.'), ('Speedway', 'NOUN'))], [('*-1', 'X'), (('unimpeded', '.'), ('unimpeded', 'ADJ'))], [('by', 'ADP'), (('traffic', '.'), ('traffic', 'NOUN'))], [('*', 'X'), (('labeling', '.'), ('labeling', 'VERB'))], [('contract', 'NOUN'), (('reopened', '.'), ('reopened', 'VERB'))], [('the', 'DET'), (('subsequent', '.'), ('subsequent', 'ADJ'))], [('subsequent', 'ADJ'), (('flood', '.'), ('flood', 'NOUN'))], [('orders', 'NOUN'), (('that', 'ADP'), ('that', 'DET'))], [('that', 'DET'), (('*T*-211', '.'), ('*T*-211', 'X'))], [('quickly', 'ADV'), (('knocked', '.'), ('knocked', 'VERB'))], [('contract', 'NOUN'), (('down', 'ADP'), ('down', 'PRT'))], [('the', 'DET'), (('intermediate', '.'), ('intermediate', 'ADJ'))], [('needed', 'VERB'), (('*-128', '.'), ('*-128', 'X'))], [('*-128', 'X'), (('*-128', '.'), ('*-128', 'X'))], [('prices', 'NOUN'), (('synchronized', '.'), ('synchronized', 'VERB'))], [('.', '.'), (('Proper', '.'), ('Proper', 'ADJ'))], [('Proper', 'ADJ'), (('English', 'NOUN'), ('English', 'ADJ'))], [('``', '.'), (('rounds', '.'), ('rounds', 'NOUN'))], [('the', 'DET'), (('highest-pitched', '.'), ('highest-pitched', 'ADJ'))], [('simple', 'ADJ'), (('descending', '.'), ('descending', 'VERB'))], [(',', '.'), (('as', 'ADP'), ('as', 'ADV'))], [('the', 'DET'), (('Soviet', 'ADJ'), ('Soviet', 'NOUN'))], [('the', 'DET'), (('verge', '.'), ('verge', 'NOUN'))], [('most', 'ADV'), (('favored', 'VERB'), ('favored', 'ADJ'))], [('the', 'DET'), (('absolute', '.'), ('absolute', 'ADJ'))], [('to', 'PRT'), (('disseminate', '.'), ('disseminate', 'VERB'))], [('the', 'DET'), (('scholarly', '.'), ('scholarly', 'ADJ'))], [('a', 'DET'), (('memo', '.'), ('memo', 'NOUN'))], [('.', '.'), (('Federal', 'NOUN'), ('Federal', 'ADJ'))], [('$', '.'), (('89,500', '.'), ('89,500', 'NUM'))], [('bill', 'NOUN'), (('that', 'ADP'), ('that', 'DET'))], [('their', 'PRON'), (('pay', 'VERB'), ('pay', 'NOUN'))], [('*-1', 'X'), (('Bucking', '.'), ('Bucking', 'VERB'))], [('apparently', 'ADV'), (('drew', '.'), ('drew', 'VERB'))], [('The', 'DET'), (('Chinese', 'ADJ'), ('Chinese', 'NOUN'))], [('equally', 'ADV'), (('undiplomatic', '.'), ('undiplomatic', 'ADJ'))], [('undiplomatic', 'ADJ'), (('fashion', '.'), ('fashion', 'NOUN'))], [('The', 'DET'), (('Soviet', 'ADJ'), ('Soviet', 'NOUN'))], [('crops', 'NOUN'), (('earlier', 'ADV'), ('earlier', 'ADJ'))], [('way', 'NOUN'), (('sky', '.'), ('sky', 'NOUN'))], [('sky', 'NOUN'), (('high', 'ADJ'), ('high', 'ADV'))], [('%', 'NOUN'), (('boosts', 'VERB'), ('boosts', 'NOUN'))], [('--', '.'), (('complicated', 'ADJ'), ('complicated', 'ADP'))], [('.', '.'), (('New', 'NOUN'), ('New', 'ADJ'))], [('rules', 'NOUN'), (('force', 'NOUN'), ('force', 'VERB'))], [('write', 'VERB'), (('down', 'ADV'), ('down', 'PRT'))], [('500', 'NUM'), (('railcar', '.'), ('railcar', 'NOUN'))], [('railcar', 'NOUN'), (('platforms', '.'), ('platforms', 'NOUN'))], [('to', 'PRT'), (('Trailer', '.'), ('Trailer', 'NOUN'))], [('Trailer', 'NOUN'), (('Train', '.'), ('Train', 'NOUN'))], [('months', 'NOUN'), (('ago', 'ADP'), ('ago', 'ADV'))], [('come', 'VERB'), (('up', 'ADV'), ('up', 'PRT'))], [('the', 'DET'), (('resumption', '.'), ('resumption', 'NOUN'))], [('space', 'NOUN'), (('shuttle', '.'), ('shuttle', 'NOUN'))], [('for', 'ADP'), (('expendable', '.'), ('expendable', 'ADJ'))], [('expendable', 'ADJ'), (('launch-vehicle', '.'), ('launch-vehicle', 'NOUN'))], [('launch-vehicle', 'NOUN'), (('engines', '.'), ('engines', 'NOUN'))], [('.', '.'), (('Net', 'ADJ'), ('Net', 'NOUN'))], [('from', 'ADP'), (('12.82', '.'), ('12.82', 'NUM'))], [('year', 'NOUN'), (('earlier', 'ADV'), ('earlier', 'ADJ'))], [('was', 'VERB'), (('such', 'ADJ'), ('such', 'DET'))], [('$', '.'), (('133.7', '.'), ('133.7', 'NUM'))], [('$', '.'), (('94', '.'), ('94', 'NUM'))], [('be', 'VERB'), (('delisted', '.'), ('delisted', 'VERB'))], [('$', '.'), (('23.25', '.'), ('23.25', 'NUM'))], [(',', '.'), (('off', 'ADP'), ('off', 'ADV'))], [('.', '.'), (('TREASURY', '.'), ('TREASURY', 'NOUN'))], [('TREASURY', 'NOUN'), (('BILLS', '.'), ('BILLS', 'NOUN'))], [(':', '.'), (('Results', '.'), ('Results', 'NOUN'))], [(':', '.'), (('7.78', '.'), ('7.78', 'NUM'))], [(';', '.'), (('7.62', '.'), ('7.62', 'NUM'))], [('a', 'DET'), (('gigantic', '.'), ('gigantic', 'ADJ'))], [('gigantic', 'ADJ'), (('crapshoot', '.'), ('crapshoot', 'NOUN'))], [('year', 'NOUN'), (('earlier', 'ADV'), ('earlier', 'ADJ'))], [('law', 'NOUN'), (('that', 'ADP'), ('that', 'DET'))], [('who', 'PRON'), (('*T*-126', '.'), ('*T*-126', 'X'))], [('*T*-126', 'X'), (('receives', '.'), ('receives', 'VERB'))], [('receives', 'VERB'), (('more', 'ADV'), ('more', 'ADJ'))], [('a', 'DET'), (('document', '.'), ('document', 'NOUN'))], [('as', 'ADP'), (('Form', '.'), ('Form', 'NOUN'))], [('Form', 'NOUN'), (('8300', 'ADJ'), ('8300', 'NUM'))], [('That', 'DET'), (('builds', '.'), ('builds', 'VERB'))], [(',', '.'), (('self', '.'), ('self', 'NOUN'))], [('self', 'NOUN'), (('sufficiency', '.'), ('sufficiency', 'NOUN'))], [('mention', 'VERB'), (('critical', '.'), ('critical', 'ADJ'))], [('regulatory', 'ADJ'), (('net', 'ADJ'), ('net', 'NOUN'))], [(\"''\", '.'), (('Payouts', '.'), ('Payouts', 'NOUN'))], [('.', '.'), (('Excision', '.'), ('Excision', 'NOUN'))], [('appropriations', 'NOUN'), (('riders', '.'), ('riders', 'NOUN'))], [('*T*-1', 'X'), (('trespass', '.'), ('trespass', 'VERB'))], [('and', 'CONJ'), (('prerogative', '.'), ('prerogative', 'NOUN'))], [('.', '.'), (('Demand', '.'), ('Demand', 'NOUN'))], [('but', 'CONJ'), (('due', 'ADJ'), ('due', 'ADV'))], [(',', '.'), (('overseas', 'ADV'), ('overseas', 'ADJ'))], [('which', 'DET'), (('*T*-236', '.'), ('*T*-236', 'X'))], [('systems', 'NOUN'), (('any', 'DET'), ('any', 'ADV'))], [('to', 'PRT'), (('audit', 'NOUN'), ('audit', 'VERB'))], [('and', 'CONJ'), (('refund', 'NOUN'), ('refund', 'VERB'))], [('the', 'DET'), (('inside', '.'), ('inside', 'NOUN'))], [('the', 'DET'), (('outside', 'ADJ'), ('outside', 'NOUN'))], [(\"''\", '.'), (('Spending', '.'), ('Spending', 'NOUN'))], [(',', '.'), (('nonresidential', '.'), ('nonresidential', 'ADJ'))], [('was', 'VERB'), (('off', 'PRT'), ('off', 'ADJ'))], [('off', 'ADJ'), (('2.6', '.'), ('2.6', 'NUM'))], [('$', '.'), (('99.1', '.'), ('99.1', 'NUM'))], [('``', '.'), (('So', 'ADV'), ('So', 'ADP'))], [('other', 'ADJ'), (('fixed-income', '.'), ('fixed-income', 'ADJ'))], [('was', 'VERB'), (('muted', '.'), ('muted', 'VERB'))], [('the', 'DET'), (('observance', '.'), ('observance', 'NOUN'))], [('of', 'ADP'), (('All', 'DET'), ('All', 'NOUN'))], [('All', 'NOUN'), (('Saints', '.'), ('Saints', 'NOUN'))], [('Saints', 'NOUN'), ((\"'\", '.'), (\"'\", 'PRT'))], [(\"'\", 'PRT'), (('Day', '.'), ('Day', 'NOUN'))], [('to', 'PRT'), (('oust', '.'), ('oust', 'VERB'))], [('of', 'ADP'), (('Datapoint', '.'), ('Datapoint', 'NOUN'))], [('Each', 'DET'), (('variation', '.'), ('variation', 'NOUN'))], [('rules', 'NOUN'), (('state', 'NOUN'), ('state', 'VERB'))], [('$', '.'), (('240,000', '.'), ('240,000', 'NUM'))], [('Poland', 'NOUN'), (('contrasts', '.'), ('contrasts', 'VERB'))], [('the', 'DET'), (('underlying', 'ADJ'), ('underlying', 'VERB'))], [('already', 'ADV'), (('provoked', '.'), ('provoked', 'VERB'))], [('Chairman', 'NOUN'), (('Asher', '.'), ('Asher', 'NOUN'))], [('from', 'ADP'), (('16.2', '.'), ('16.2', 'NUM'))], [('a', 'DET'), (('run', 'VERB'), ('run', 'NOUN'))], [('the', 'DET'), (('computer-services', '.'), ('computer-services', 'NOUN'))], [('the', 'DET'), (('busiest', '.'), ('busiest', 'ADJ'))], [('so', 'ADV'), (('far', 'ADV'), ('far', 'ADJ'))], [('volume', 'NOUN'), (('averaged', '.'), ('averaged', 'VERB'))], [('10', 'NUM'), (('citizen-sparked', '.'), ('citizen-sparked', 'ADJ'))], [('state', 'NOUN'), (('ballots', '.'), ('ballots', 'NOUN'))], [('any', 'DET'), (('odd-year', '.'), ('odd-year', 'ADJ'))], [('be', 'VERB'), (('relaunched', '.'), ('relaunched', 'VERB'))], [(',', '.'), (('as', 'ADP'), ('as', 'ADV'))], [('as', 'ADV'), (('early', 'ADJ'), ('early', 'ADV'))], [(',', '.'), (('most', 'ADV'), ('most', 'ADJ'))], [('the', 'DET'), (('building', 'NOUN'), ('building', 'VERB'))], [('building', 'VERB'), (('schemes', '.'), ('schemes', 'NOUN'))], [('political', 'ADJ'), (('pharaohs', '.'), ('pharaohs', 'NOUN'))], [('money', 'NOUN'), (('erect', '.'), ('erect', 'VERB'))], [('these', 'DET'), (('playgrounds', '.'), ('playgrounds', 'NOUN'))], [('public', 'ADJ'), (('passions', '.'), ('passions', 'NOUN'))], [('to', 'PRT'), (('present', 'ADJ'), ('present', 'VERB'))], [('to', 'PRT'), (('appease', '.'), ('appease', 'VERB'))], [('appease', 'VERB'), (('Midwestern', 'NOUN'), ('Midwestern', 'ADJ'))], [('from', 'ADP'), (('high-polluting', '.'), ('high-polluting', 'ADJ'))], [('on', 'ADP'), (('cost-sharing', 'ADJ'), ('cost-sharing', 'NOUN'))], [('Not', 'ADV'), (('counting', '.'), ('counting', 'VERB'))], [('has', 'VERB'), (('much', 'ADV'), ('much', 'ADJ'))], [('$', '.'), (('126.1', '.'), ('126.1', 'NUM'))], [(\"n't\", 'ADV'), (('endorse', '.'), ('endorse', 'VERB'))], [('a', 'DET'), (('cosmetic', 'NOUN'), ('cosmetic', 'ADJ'))], [('S.', 'NOUN'), (('Gelles', '.'), ('Gelles', 'NOUN'))], [('of', 'ADP'), (('Wertheim', '.'), ('Wertheim', 'NOUN'))], [('Wertheim', 'NOUN'), (('Schroder', '.'), ('Schroder', 'NOUN'))], [('two', 'NUM'), (('octogenarians', '.'), ('octogenarians', 'NOUN'))], [('who', 'PRON'), (('*T*-222', '.'), ('*T*-222', 'X'))], [('a', 'DET'), (('sometimes-exhausting', '.'), ('sometimes-exhausting', 'ADJ'))], [('bells', 'NOUN'), (('sounding', '.'), ('sounding', 'VERB'))], [('many', 'ADJ'), (('belfries', '.'), ('belfries', 'NOUN'))], [('East', 'NOUN'), (('Anglia', '.'), ('Anglia', 'NOUN'))], [('dividend', 'NOUN'), (('yield', 'VERB'), ('yield', 'NOUN'))], [('level', 'NOUN'), (('that', 'ADP'), ('that', 'DET'))], [('that', 'DET'), (('*T*-232', '.'), ('*T*-232', 'X'))], [('and', 'CONJ'), (('unenticing', '.'), ('unenticing', 'ADJ'))], [('simply', 'ADV'), (('nullified', '.'), ('nullified', 'VERB'))], [('an', 'DET'), (('opposite', '.'), ('opposite', 'ADJ'))], [('to', 'PRT'), (('colder', '.'), ('colder', 'ADJ'))], [('the', 'DET'), (('American', 'ADJ'), ('American', 'NOUN'))], [('to', 'PRT'), (('planting', '.'), ('planting', 'NOUN'))], [('of', 'ADP'), (('orange', '.'), ('orange', 'ADJ'))], [('orange', 'ADJ'), (('trees', '.'), ('trees', 'NOUN'))], [('areas', 'NOUN'), (('that', 'ADP'), ('that', 'DET'))], [('for', 'ADP'), (('cane', '.'), ('cane', 'NOUN'))], [('expected', 'VERB'), (('*-129', '.'), ('*-129', 'X'))], [('the', 'DET'), (('key', 'ADJ'), ('key', 'NOUN'))], [('must', 'VERB'), (('fundamentally', '.'), ('fundamentally', 'ADV'))], [('fundamentally', 'ADV'), (('increase', 'NOUN'), ('increase', 'VERB'))], [('or', 'CONJ'), (('decrease', 'NOUN'), ('decrease', 'VERB'))], [('prices', 'NOUN'), (('move', 'NOUN'), ('move', 'VERB'))], [('Italy', 'NOUN'), (('there', 'DET'), ('there', 'ADV'))], [('is', 'VERB'), (('Angelo', '.'), ('Angelo', 'NOUN'))], [('Angelo', 'NOUN'), (('Gaja', '.'), ('Gaja', 'NOUN'))], [('Gaja', 'NOUN'), (('Barbaresco', '.'), ('Barbaresco', 'NOUN'))], [(',', '.'), (('Piero', '.'), ('Piero', 'NOUN'))], [('Piero', 'NOUN'), (('Antinori', '.'), ('Antinori', 'NOUN'))], [('Antinori', 'NOUN'), ((\"'s\", 'VERB'), (\"'s\", 'PRT'))], [('La', 'NOUN'), (('Solaia', '.'), ('Solaia', 'NOUN'))], [('The', 'DET'), (('most', 'ADJ'), ('most', 'ADV'))], [('&', 'CONJ'), (('poor', 'ADJ'), ('poor', 'NOUN'))], [('a', 'DET'), (('20-stock', '.'), ('20-stock', 'ADJ'))], [('index', 'NOUN'), (('that', 'ADP'), ('that', 'DET'))], [('*T*-1', 'X'), (('mimics', '.'), ('mimics', 'VERB'))], [('the', 'DET'), (('chicago', '.'), ('chicago', 'NOUN'))], [(\"'\", 'PRT'), (('report', 'VERB'), ('report', 'NOUN'))], [('by', 'ADP'), (('more', 'ADJ'), ('more', 'ADV'))], [('The', 'DET'), (('British', 'ADJ'), ('British', 'NOUN'))], [('.', '.'), (('Legislation', '.'), ('Legislation', 'NOUN'))], [('is', 'VERB'), (('ensnarled', '.'), ('ensnarled', 'VERB'))], [('cutting', 'VERB'), (('capital-gains', 'NOUN'), ('capital-gains', 'ADJ'))], [(\"'s\", 'PRT'), (('909', '.'), ('909', 'NUM'))], [('covers', 'VERB'), (('only', 'ADV'), ('only', 'ADJ'))], [('who', 'PRON'), (('*T*-260', '.'), ('*T*-260', 'X'))], [('will', 'VERB'), (('learn', '.'), ('learn', 'VERB'))], [('*-1', 'X'), (('Starting', '.'), ('Starting', 'VERB'))], [('with', 'ADP'), (('Congressman', '.'), ('Congressman', 'NOUN'))], [('Congressman', 'NOUN'), (('Mario', '.'), ('Mario', 'NOUN'))], [('Mario', 'NOUN'), (('Biaggi', '.'), ('Biaggi', 'NOUN'))], [('jail', 'NOUN'), (('sentence', '.'), ('sentence', 'NOUN'))], [('*', 'X'), (('bribing', '.'), ('bribing', 'VERB'))], [('local', 'ADJ'), (('public', 'NOUN'), ('public', 'ADJ'))], [('those', 'DET'), (('close', 'NOUN'), ('close', 'ADJ'))], [(',', '.'), (('right', 'NOUN'), ('right', 'ADV'))], [('right', 'ADV'), (('up', 'PRT'), ('up', 'ADP'))], [('Robert', 'NOUN'), (('Wallach', '.'), ('Wallach', 'NOUN'))], [(',', '.'), (('close', 'NOUN'), ('close', 'ADJ'))], [('former', 'ADJ'), (('Attorney', '.'), ('Attorney', 'NOUN'))], [('Ed', 'NOUN'), (('Meese', '.'), ('Meese', 'NOUN'))], [('While', 'ADP'), (('worry', 'VERB'), ('worry', 'NOUN'))], [('for', 'ADP'), (('alleged', 'ADJ'), ('alleged', 'VERB'))], [('John', 'NOUN'), (('Morrell', '.'), ('Morrell', 'NOUN'))], [('a', 'DET'), (('meatpacking', '.'), ('meatpacking', 'NOUN'))], [('United', 'NOUN'), (('Brands', '.'), ('Brands', 'NOUN'))], [('took', 'VERB'), (('over', 'ADP'), ('over', 'PRT'))], [(\"'s\", 'PRT'), (('seventh', '.'), ('seventh', 'ADJ'))], [('to', 'PRT'), (('counteract', '.'), ('counteract', 'VERB'))], [('also', 'ADV'), (('notched', '.'), ('notched', 'VERB'))], [('market-makers', 'NOUN'), (('searched', '.'), ('searched', 'VERB'))], [('defensive', 'ADJ'), (('qualities', '.'), ('qualities', 'NOUN'))], [(',', '.'), (('petroleum', '.'), ('petroleum', 'NOUN'))], [('The', 'DET'), (('Contra', '.'), ('Contra', 'NOUN'))], [('military', 'ADJ'), (('command', 'VERB'), ('command', 'NOUN'))], [('from', 'ADP'), (('Honduras', '.'), ('Honduras', 'NOUN'))], [('0', 'X'), (('Sandinista', '.'), ('Sandinista', 'NOUN'))], [('major', 'ADJ'), (('offensive', '.'), ('offensive', 'NOUN'))], [('the', 'DET'), (('rebel', '.'), ('rebel', 'NOUN'))], [('to', 'PRT'), (('phase', '.'), ('phase', 'VERB'))], [('phase', 'VERB'), (('out', 'ADP'), ('out', 'PRT'))], [('make', 'VERB'), (('appropriate', '.'), ('appropriate', 'ADJ'))], [('Mr.', 'NOUN'), (('Nemeth', '.'), ('Nemeth', 'NOUN'))], [('the', 'DET'), (('twin', '.'), ('twin', 'NOUN'))], [('twin', 'NOUN'), (('dams', '.'), ('dams', 'NOUN'))], [('.', '.'), (('Customers', '.'), ('Customers', 'NOUN'))], [(\"'s\", 'PRT'), (('undelivered', '.'), ('undelivered', 'ADJ'))], [('subscribe', 'VERB'), (('most', 'ADV'), ('most', 'ADJ'))], [('remaining', 'VERB'), (('170', '.'), ('170', 'NUM'))], [('will', 'VERB'), (('personally', '.'), ('personally', 'ADV'))], [('personally', 'ADV'), (('direct', 'ADJ'), ('direct', 'VERB'))], [('*-1', 'X'), (('assisted', '.'), ('assisted', 'VERB'))], [('by', 'ADP'), (('Manfred', '.'), ('Manfred', 'NOUN'))], [('Manfred', 'NOUN'), (('Gingl', '.'), ('Gingl', 'NOUN'))], [('and', 'CONJ'), (('Taittinger', '.'), ('Taittinger', 'NOUN'))], [('Taittinger', 'NOUN'), ((\"'s\", 'VERB'), (\"'s\", 'PRT'))], [(\"'s\", 'PRT'), (('Comtes', '.'), ('Comtes', 'NOUN'))], [('is', 'VERB'), (('encroaching', '.'), ('encroaching', 'VERB'))], [('see', 'VERB'), (('more', 'ADV'), ('more', 'ADJ'))], [('*T*-2', 'X'), (('Andrea', '.'), ('Andrea', 'NOUN'))], [('of', 'ADP'), (('American', 'ADJ'), ('American', 'NOUN'))], [('software', 'NOUN'), (('tutorials', '.'), ('tutorials', 'NOUN'))], [('$', '.'), (('46.1', '.'), ('46.1', 'NUM'))], [('$', '.'), (('1.85', '.'), ('1.85', 'NUM'))], [('$', '.'), (('1.85', '.'), ('1.85', 'NUM'))], [(\"'s\", 'PRT'), (('swelling', '.'), ('swelling', 'VERB'))], [('and', 'CONJ'), (('that', 'DET'), ('that', 'ADP'))], [('fellow', 'ADJ'), (('Texan', '.'), ('Texan', 'NOUN'))], [('Sen.', 'NOUN'), (('Lloyd', '.'), ('Lloyd', 'NOUN'))], [('Lloyd', 'NOUN'), (('Bentsen', '.'), ('Bentsen', 'NOUN'))], [('to', 'PRT'), (('highlight', '.'), ('highlight', 'VERB'))], [('who', 'PRON'), (('*T*-185', '.'), ('*T*-185', 'X'))], [('``', '.'), (('oversight', '.'), ('oversight', 'NOUN'))], [(',', '.'), (('tight', 'ADV'), ('tight', 'ADJ'))], [('tight', 'ADJ'), (('facial', '.'), ('facial', 'ADJ'))], [('*-37', 'X'), (('out', 'PRT'), ('out', 'ADP'))], [('power', 'NOUN'), (('that', 'ADP'), ('that', 'DET'))], [('to', 'PRT'), (('wield', '.'), ('wield', 'VERB'))], [('sizable', 'ADJ'), (('West', 'NOUN'), ('West', 'ADJ'))], [('West', 'ADJ'), (('German', 'NOUN'), ('German', 'ADJ'))], [('German', 'ADJ'), (('refinery', '.'), ('refinery', 'NOUN'))], [('*', 'X'), (('tightening', '.'), ('tightening', 'VERB'))], [('divisions', 'NOUN'), (('that', 'ADP'), ('that', 'DET'))], [(\"n't\", 'ADV'), (('wish', 'VERB'), ('wish', 'NOUN'))], [('owns', 'VERB'), (('about', 'ADP'), ('about', 'ADV'))], [(',', '.'), (('most', 'ADV'), ('most', 'ADJ'))], [('at', 'ADP'), (('nominal', '.'), ('nominal', 'ADJ'))], [('to', 'PRT'), (('gain', 'NOUN'), ('gain', 'VERB'))], [('sold', 'VERB'), (('*-115', '.'), ('*-115', 'X'))], [('.', '.'), (('Dick', '.'), ('Dick', 'NOUN'))], [('Dick', 'NOUN'), (('Lobo', '.'), ('Lobo', 'NOUN'))], [('of', 'ADP'), (('WTVJ', '.'), ('WTVJ', 'NOUN'))], [('the', 'DET'), (('NBC-owned', '.'), ('NBC-owned', 'ADJ'))], [('add', 'VERB'), (('two-sevenths', '.'), ('two-sevenths', 'NOUN'))], [('and', 'CONJ'), (('three-sevenths', '.'), ('three-sevenths', 'NOUN'))], [('at', 'ADP'), (('60.36', '.'), ('60.36', 'NUM'))], [('.', '.'), (('Showa', '.'), ('Showa', 'NOUN'))], [('Showa', 'NOUN'), (('Shell', '.'), ('Shell', 'NOUN'))], [('to', 'PRT'), (('1,570', '.'), ('1,570', 'NUM'))], [(\"'s\", 'PRT'), (('Pittsburgh', '.'), ('Pittsburgh', 'NOUN'))], [(',', '.'), (('Advanced', '.'), ('Advanced', 'NOUN'))], [(',', '.'), (('executes', '.'), ('executes', 'VERB'))], [('not', 'ADV'), (('unethical', '.'), ('unethical', 'ADJ'))], [('a', 'DET'), (('higher-salaried', '.'), ('higher-salaried', 'ADJ'))], [('an', 'DET'), (('affordable', '.'), ('affordable', 'ADJ'))], [('$', '.'), (('1,298', '.'), ('1,298', 'NUM'))], [('A', 'DET'), (('shift', '.'), ('shift', 'NOUN'))], [('producing', 'VERB'), (('more', 'ADV'), ('more', 'ADJ'))], [('a', 'DET'), (('more', 'ADJ'), ('more', 'ADV'))], [('more', 'ADV'), (('drastic', '.'), ('drastic', 'ADJ'))], [('drastic', 'ADJ'), (('shift', '.'), ('shift', 'NOUN'))], [(\"'s\", 'PRT'), (('Beige', '.'), ('Beige', 'NOUN'))], [('Beige', 'NOUN'), (('Book', '.'), ('Book', 'NOUN'))], [('gave', 'VERB'), (('up', 'ADV'), ('up', 'PRT'))], [('The', 'DET'), (('downgrading', '.'), ('downgrading', 'NOUN'))], [('sent', 'VERB'), (('shivers', '.'), ('shivers', 'NOUN'))], [('0', 'X'), (('export', 'VERB'), ('export', 'NOUN'))], [('month', 'NOUN'), (('before', 'ADP'), ('before', 'ADV'))], [('for', 'ADP'), (('witches', '.'), ('witches', 'NOUN'))], [('convenient', 'ADJ'), (('boogieman', '.'), ('boogieman', 'NOUN'))], [('of', 'ADP'), (('Advanced', '.'), ('Advanced', 'NOUN'))], [('a', 'DET'), (('Pittsburgh', '.'), ('Pittsburgh', 'NOUN'))], [('firm', 'NOUN'), (('that', 'ADP'), ('that', 'DET'))], [('*U*', 'X'), (('fund', 'VERB'), ('fund', 'NOUN'))], [('fund', 'NOUN'), (('that', 'ADP'), ('that', 'DET'))], [('This', 'DET'), (('species', '.'), ('species', 'NOUN'))], [('is', 'VERB'), (('predicated', '.'), ('predicated', 'VERB'))], [('clause', 'NOUN'), (('that', 'ADP'), ('that', 'DET'))], [('is', 'VERB'), (('erroneous', '.'), ('erroneous', 'ADJ'))], [('what', 'PRON'), (('*T*-252', '.'), ('*T*-252', 'X'))], [('*-1', 'X'), (('complaining', '.'), ('complaining', 'VERB'))], [('ended', 'VERB'), (('up', 'ADV'), ('up', 'PRT'))], [('among', 'ADP'), (('American', 'ADJ'), ('American', 'NOUN'))], [('an', 'DET'), (('American', 'ADJ'), ('American', 'NOUN'))], [('and', 'CONJ'), (('that', 'DET'), ('that', 'ADP'))], [('of', 'ADP'), (('Clarence', '.'), ('Clarence', 'NOUN'))], [('the', 'DET'), (('American', 'ADJ'), ('American', 'NOUN'))], [('American', 'NOUN'), (('Bar', '.'), ('Bar', 'NOUN'))], [('``', '.'), (('qualified', 'VERB'), ('qualified', 'ADJ'))], [('Cooper', 'NOUN'), (('Tire', '.'), ('Tire', 'NOUN'))], [('Tire', 'NOUN'), (('&', 'CONJ'), ('&', 'X'))], [('&', 'X'), (('Rubber', '.'), ('Rubber', 'NOUN'))], [('and', 'CONJ'), (('related', 'VERB'), ('related', 'ADJ'))], [('in', 'ADP'), (('Albany', '.'), ('Albany', 'NOUN'))], [('.', '.'), (('Packaging', '.'), ('Packaging', 'NOUN'))], [('some', 'DET'), (('drawbacks', '.'), ('drawbacks', 'NOUN'))], [('``', '.'), (('deplorable', '.'), ('deplorable', 'ADJ'))], [('but', 'CONJ'), (('brushed', '.'), ('brushed', 'VERB'))], [('brushed', 'VERB'), (('off', 'ADP'), ('off', 'PRT'))], [('*', 'X'), (('renewing', '.'), ('renewing', 'VERB'))], [('the', 'DET'), (('insurgents', '.'), ('insurgents', 'NOUN'))], [('What', 'PRON'), (('*T*-164', '.'), ('*T*-164', 'X'))], [('is', 'VERB'), (('happening', '.'), ('happening', 'VERB'))], [('the', 'DET'), (('public', 'ADJ'), ('public', 'NOUN'))], [('.', '.'), (('Net', 'ADJ'), ('Net', 'NOUN'))], [('Net', 'NOUN'), (('advanced', 'ADJ'), ('advanced', 'VERB'))], [('$', '.'), (('94.2', '.'), ('94.2', 'NUM'))], [('or', 'CONJ'), (('83', '.'), ('83', 'NUM'))], [('including', 'VERB'), (('net', 'ADJ'), ('net', 'NOUN'))], [('PC', 'NOUN'), (('contributors', '.'), ('contributors', 'NOUN'))], [('*EXP*-1', 'X'), ((\"'s\", 'PRT'), (\"'s\", 'VERB'))], [('a', 'DET'), (('17-year-old', '.'), ('17-year-old', 'ADJ'))], [(\"'s\", 'PRT'), (('hot', '.'), ('hot', 'ADJ'))], [('--', '.'), (('and', 'CONJ'), ('and', 'NOUN'))], [('what', 'PRON'), (('*T*-172', '.'), ('*T*-172', 'X'))], [('very', 'ADV'), (('hot', '.'), ('hot', 'ADJ'))], [('to', 'PRT'), (('halve', '.'), ('halve', 'VERB'))], [('the', 'DET'), (('third-highest', '.'), ('third-highest', 'ADJ'))], [('``', '.'), (('Professional', 'NOUN'), ('Professional', 'ADJ'))], [('get', 'VERB'), (('enough', 'ADV'), ('enough', 'ADJ'))], [('morphogenetic', 'ADJ'), (('protein-1', '.'), ('protein-1', 'NOUN'))], [('substance', 'NOUN'), (('that', 'ADP'), ('that', 'DET'))], [('can', 'VERB'), (('induce', '.'), ('induce', 'VERB'))], [('induce', 'VERB'), (('formation', '.'), ('formation', 'NOUN'))], [('the', 'DET'), (('most', 'ADJ'), ('most', 'ADV'))], [('*', 'X'), (('abolishing', '.'), ('abolishing', 'VERB'))], [('its', 'PRON'), (('merits', '.'), ('merits', 'NOUN'))], [('firms', 'NOUN'), (('championing', '.'), ('championing', 'VERB'))], [('battle', 'NOUN'), (('opens', '.'), ('opens', 'VERB'))], [('opens', 'VERB'), (('up', 'ADV'), ('up', 'PRT'))], [('0', 'X'), (('that', 'ADP'), ('that', 'DET'))], [('.', '.'), (('Third', '.'), ('Third', 'ADJ'))], [('$', '.'), (('11.57', '.'), ('11.57', 'NUM'))], [('share', 'NOUN'), (('vs.', 'ADP'), ('vs.', 'CONJ'))], [('vs.', 'CONJ'), (('net', 'ADJ'), ('net', 'NOUN'))], [('Old', 'NOUN'), (('Spaghetti', '.'), ('Spaghetti', 'NOUN'))], [('Spaghetti', 'NOUN'), (('Warehouse', '.'), ('Warehouse', 'NOUN'))], [(\"'s\", 'PRT'), (('editions', '.'), ('editions', 'NOUN'))], [('.', '.'), (('Editorials', '.'), ('Editorials', 'NOUN'))], [('being', 'VERB'), (('overused', '.'), ('overused', 'VERB'))], [('additional', 'ADJ'), (('disruption', '.'), ('disruption', 'NOUN'))], [('our', 'PRON'), (('borrowing', 'VERB'), ('borrowing', 'NOUN'))], [('borrowing', 'NOUN'), (('schedule', '.'), ('schedule', 'NOUN'))], [('the', 'DET'), (('taxpayer', '.'), ('taxpayer', 'NOUN'))], [('Secretary', 'NOUN'), (('Nicholas', '.'), ('Nicholas', 'NOUN'))], [('Nicholas', 'NOUN'), (('Brady', '.'), ('Brady', 'NOUN'))], [('paltry', 'ADJ'), (('sum', '.'), ('sum', 'NOUN'))], [('kids', 'NOUN'), (('broke', '.'), ('broke', 'VERB'))], [('her', 'PRON'), (('correcting', '.'), ('correcting', 'VERB'))], [('correcting', 'VERB'), (('homework', '.'), ('homework', 'NOUN'))], [(',', '.'), (('Fortune', '.'), ('Fortune', 'NOUN'))], [('executives', 'NOUN'), (('drooled', '.'), ('drooled', 'VERB'))], [('like', 'ADP'), (('schoolboys', '.'), ('schoolboys', 'NOUN'))], [('will', 'VERB'), (('exchange', 'NOUN'), ('exchange', 'VERB'))], [('new', 'ADJ'), (('preferred', 'ADJ'), ('preferred', 'VERB'))], [('already', 'ADV'), (('own', 'ADJ'), ('own', 'VERB'))], [('its', 'PRON'), (('liabilities', '.'), ('liabilities', 'NOUN'))], [('.', '.'), (('Second', 'NOUN'), ('Second', 'ADJ'))], [('they', 'PRON'), (('channel', '.'), ('channel', 'VERB'))], [('settled', 'VERB'), (('pre-1917', '.'), ('pre-1917', 'ADJ'))], [(\"'s\", 'PRT'), (('face', 'VERB'), ('face', 'NOUN'))], [('state-owned', 'ADJ'), (('holding', 'NOUN'), ('holding', 'VERB'))], [('crystal', 'NOUN'), (('changes', 'NOUN'), ('changes', 'VERB'))], [('apparently', 'ADV'), (('pins', 'NOUN'), ('pins', 'VERB'))], [('.', '.'), (('Overall', '.'), ('Overall', 'ADJ'))], [(',', '.'), (('pretax', 'NOUN'), ('pretax', 'ADJ'))], [('$', '.'), (('107.9', '.'), ('107.9', 'NUM'))], [('$', '.'), (('96.4', '.'), ('96.4', 'NUM'))], [('The', 'DET'), (('American', 'ADJ'), ('American', 'NOUN'))], [('American', 'NOUN'), (('Bar', '.'), ('Bar', 'NOUN'))], [('of', 'ADP'), (('Delegates', '.'), ('Delegates', 'NOUN'))], [('1985', 'NUM'), (('condemning', '.'), ('condemning', 'VERB'))], [('IRS', 'NOUN'), (('reporting', 'VERB'), ('reporting', 'NOUN'))], [('with', 'ADP'), (('top-level', '.'), ('top-level', 'ADJ'))]]\n"
     ]
    }
   ],
   "source": [
    "accuracy_vanilla,incorrect_tagged=evaluate_test(validation_set)"
   ]
  },
  {
   "cell_type": "markdown",
   "metadata": {},
   "source": [
    "#### Accuracy from Vanilla Viterbi on validation set :"
   ]
  },
  {
   "cell_type": "code",
   "execution_count": 45,
   "metadata": {},
   "outputs": [
    {
     "name": "stdout",
     "output_type": "stream",
     "text": [
      "accuracy:  0.909728992006239\n"
     ]
    }
   ],
   "source": [
    "print('accuracy: ',accuracy_vanilla)"
   ]
  },
  {
   "cell_type": "markdown",
   "metadata": {},
   "source": [
    "#### Incorrect tagged cases:"
   ]
  },
  {
   "cell_type": "code",
   "execution_count": 46,
   "metadata": {
    "scrolled": true
   },
   "outputs": [
    {
     "name": "stdout",
     "output_type": "stream",
     "text": [
      "Incorrect tagged cases:  [[('John', 'NOUN'), (('Deere', '.'), ('Deere', 'NOUN'))], [('for', 'ADP'), (('midsized', 'VERB'), ('midsized', 'ADJ'))], [(',', '.'), (('traced', '.'), ('traced', 'VERB'))], [('another', 'DET'), (('wave', '.'), ('wave', 'NOUN'))], [('its', 'PRON'), (('Eveready', '.'), ('Eveready', 'NOUN'))], [('A', 'DET'), (('nickname', '.'), ('nickname', 'NOUN'))], [('to', 'PRT'), (('glamorize', '.'), ('glamorize', 'VERB'))], [(\"'s\", 'PRT'), (('vagabond', '.'), ('vagabond', 'NOUN'))], [('vagabond', 'NOUN'), (('existence', '.'), ('existence', 'NOUN'))], [('Parliament', 'NOUN'), (('authorized', '.'), ('authorized', 'VERB'))], [('Minister', 'NOUN'), (('Miklos', '.'), ('Miklos', 'NOUN'))], [('Miklos', 'NOUN'), (('Nemeth', '.'), ('Nemeth', 'NOUN'))], [('was', 'VERB'), (('2,303,328', '.'), ('2,303,328', 'NUM'))], [('down', 'ADV'), (('2.6', '.'), ('2.6', 'NUM'))], [('an', 'DET'), (('eight-count', '.'), ('eight-count', 'ADJ'))], [('eight-count', 'ADJ'), (('indictment', '.'), ('indictment', 'NOUN'))], [('its', 'PRON'), (('Vice', '.'), ('Vice', 'NOUN'))], [('T.', 'NOUN'), (('Sherwin', '.'), ('Sherwin', 'NOUN'))], [('to', 'PRT'), (('manipulate', '.'), ('manipulate', 'VERB'))], [('Union', 'NOUN'), (('Carbide', '.'), ('Carbide', 'NOUN'))], [(\"'s\", 'PRT'), (('planned', 'VERB'), ('planned', 'ADJ'))], [('lobbyists', 'NOUN'), (('as', 'ADP'), ('as', 'ADV'))], [('emissions', 'NOUN'), (('that', 'ADP'), ('that', 'DET'))], [('$', '.'), (('737.5', '.'), ('737.5', 'NUM'))], [('$', '.'), (('3.01', '.'), ('3.01', 'NUM'))], [('be', 'VERB'), (('centralized', '.'), ('centralized', 'VERB'))], [('an', 'DET'), (('ethanol', '.'), ('ethanol', 'NOUN'))], [('to', 'PRT'), (('fuel', 'NOUN'), ('fuel', 'VERB'))], [('national', 'ADJ'), (('fleet', '.'), ('fleet', 'NOUN'))], [('of', 'ADP'), (('Mount', '.'), ('Mount', 'NOUN'))], [('Mount', 'NOUN'), (('Clemens', '.'), ('Clemens', 'NOUN'))], [('-LRB-', '.'), (('NYSE', '.'), ('NYSE', 'NOUN'))], [(';', '.'), (('Symbol', '.'), ('Symbol', 'NOUN'))], [(':', '.'), (('CSV', '.'), ('CSV', 'NOUN'))], [('-RRB-', '.'), (('Ketchum', '.'), ('Ketchum', 'NOUN'))], [(',', '.'), (('Pittsburgh', '.'), ('Pittsburgh', 'NOUN'))], [('acquired', 'VERB'), (('Braun', '.'), ('Braun', 'NOUN'))], [('Angeles', 'NOUN'), (('investor-relations', '.'), ('investor-relations', 'NOUN'))], [('and', 'CONJ'), (('marketing-communications', '.'), ('marketing-communications', 'NOUN'))], [('police', 'NOUN'), (('escort', '.'), ('escort', 'NOUN'))], [(',', '.'), (('busloads', '.'), ('busloads', 'NOUN'))], [('their', 'PRON'), (('wives', '.'), ('wives', 'NOUN'))], [('wives', 'NOUN'), (('raced', '.'), ('raced', 'VERB'))], [('Motor', 'NOUN'), (('Speedway', '.'), ('Speedway', 'NOUN'))], [('*-1', 'X'), (('unimpeded', '.'), ('unimpeded', 'ADJ'))], [('by', 'ADP'), (('traffic', '.'), ('traffic', 'NOUN'))], [('*', 'X'), (('labeling', '.'), ('labeling', 'VERB'))], [('contract', 'NOUN'), (('reopened', '.'), ('reopened', 'VERB'))], [('the', 'DET'), (('subsequent', '.'), ('subsequent', 'ADJ'))], [('subsequent', 'ADJ'), (('flood', '.'), ('flood', 'NOUN'))], [('orders', 'NOUN'), (('that', 'ADP'), ('that', 'DET'))], [('that', 'DET'), (('*T*-211', '.'), ('*T*-211', 'X'))], [('quickly', 'ADV'), (('knocked', '.'), ('knocked', 'VERB'))], [('contract', 'NOUN'), (('down', 'ADP'), ('down', 'PRT'))], [('the', 'DET'), (('intermediate', '.'), ('intermediate', 'ADJ'))], [('needed', 'VERB'), (('*-128', '.'), ('*-128', 'X'))], [('*-128', 'X'), (('*-128', '.'), ('*-128', 'X'))], [('prices', 'NOUN'), (('synchronized', '.'), ('synchronized', 'VERB'))], [('.', '.'), (('Proper', '.'), ('Proper', 'ADJ'))], [('Proper', 'ADJ'), (('English', 'NOUN'), ('English', 'ADJ'))], [('``', '.'), (('rounds', '.'), ('rounds', 'NOUN'))], [('the', 'DET'), (('highest-pitched', '.'), ('highest-pitched', 'ADJ'))], [('simple', 'ADJ'), (('descending', '.'), ('descending', 'VERB'))], [(',', '.'), (('as', 'ADP'), ('as', 'ADV'))], [('the', 'DET'), (('Soviet', 'ADJ'), ('Soviet', 'NOUN'))], [('the', 'DET'), (('verge', '.'), ('verge', 'NOUN'))], [('most', 'ADV'), (('favored', 'VERB'), ('favored', 'ADJ'))], [('the', 'DET'), (('absolute', '.'), ('absolute', 'ADJ'))], [('to', 'PRT'), (('disseminate', '.'), ('disseminate', 'VERB'))], [('the', 'DET'), (('scholarly', '.'), ('scholarly', 'ADJ'))], [('a', 'DET'), (('memo', '.'), ('memo', 'NOUN'))], [('.', '.'), (('Federal', 'NOUN'), ('Federal', 'ADJ'))], [('$', '.'), (('89,500', '.'), ('89,500', 'NUM'))], [('bill', 'NOUN'), (('that', 'ADP'), ('that', 'DET'))], [('their', 'PRON'), (('pay', 'VERB'), ('pay', 'NOUN'))], [('*-1', 'X'), (('Bucking', '.'), ('Bucking', 'VERB'))], [('apparently', 'ADV'), (('drew', '.'), ('drew', 'VERB'))], [('The', 'DET'), (('Chinese', 'ADJ'), ('Chinese', 'NOUN'))], [('equally', 'ADV'), (('undiplomatic', '.'), ('undiplomatic', 'ADJ'))], [('undiplomatic', 'ADJ'), (('fashion', '.'), ('fashion', 'NOUN'))], [('The', 'DET'), (('Soviet', 'ADJ'), ('Soviet', 'NOUN'))], [('crops', 'NOUN'), (('earlier', 'ADV'), ('earlier', 'ADJ'))], [('way', 'NOUN'), (('sky', '.'), ('sky', 'NOUN'))], [('sky', 'NOUN'), (('high', 'ADJ'), ('high', 'ADV'))], [('%', 'NOUN'), (('boosts', 'VERB'), ('boosts', 'NOUN'))], [('--', '.'), (('complicated', 'ADJ'), ('complicated', 'ADP'))], [('.', '.'), (('New', 'NOUN'), ('New', 'ADJ'))], [('rules', 'NOUN'), (('force', 'NOUN'), ('force', 'VERB'))], [('write', 'VERB'), (('down', 'ADV'), ('down', 'PRT'))], [('500', 'NUM'), (('railcar', '.'), ('railcar', 'NOUN'))], [('railcar', 'NOUN'), (('platforms', '.'), ('platforms', 'NOUN'))], [('to', 'PRT'), (('Trailer', '.'), ('Trailer', 'NOUN'))], [('Trailer', 'NOUN'), (('Train', '.'), ('Train', 'NOUN'))], [('months', 'NOUN'), (('ago', 'ADP'), ('ago', 'ADV'))], [('come', 'VERB'), (('up', 'ADV'), ('up', 'PRT'))], [('the', 'DET'), (('resumption', '.'), ('resumption', 'NOUN'))], [('space', 'NOUN'), (('shuttle', '.'), ('shuttle', 'NOUN'))], [('for', 'ADP'), (('expendable', '.'), ('expendable', 'ADJ'))], [('expendable', 'ADJ'), (('launch-vehicle', '.'), ('launch-vehicle', 'NOUN'))], [('launch-vehicle', 'NOUN'), (('engines', '.'), ('engines', 'NOUN'))], [('.', '.'), (('Net', 'ADJ'), ('Net', 'NOUN'))], [('from', 'ADP'), (('12.82', '.'), ('12.82', 'NUM'))], [('year', 'NOUN'), (('earlier', 'ADV'), ('earlier', 'ADJ'))], [('was', 'VERB'), (('such', 'ADJ'), ('such', 'DET'))], [('$', '.'), (('133.7', '.'), ('133.7', 'NUM'))], [('$', '.'), (('94', '.'), ('94', 'NUM'))], [('be', 'VERB'), (('delisted', '.'), ('delisted', 'VERB'))], [('$', '.'), (('23.25', '.'), ('23.25', 'NUM'))], [(',', '.'), (('off', 'ADP'), ('off', 'ADV'))], [('.', '.'), (('TREASURY', '.'), ('TREASURY', 'NOUN'))], [('TREASURY', 'NOUN'), (('BILLS', '.'), ('BILLS', 'NOUN'))], [(':', '.'), (('Results', '.'), ('Results', 'NOUN'))], [(':', '.'), (('7.78', '.'), ('7.78', 'NUM'))], [(';', '.'), (('7.62', '.'), ('7.62', 'NUM'))], [('a', 'DET'), (('gigantic', '.'), ('gigantic', 'ADJ'))], [('gigantic', 'ADJ'), (('crapshoot', '.'), ('crapshoot', 'NOUN'))], [('year', 'NOUN'), (('earlier', 'ADV'), ('earlier', 'ADJ'))], [('law', 'NOUN'), (('that', 'ADP'), ('that', 'DET'))], [('who', 'PRON'), (('*T*-126', '.'), ('*T*-126', 'X'))], [('*T*-126', 'X'), (('receives', '.'), ('receives', 'VERB'))], [('receives', 'VERB'), (('more', 'ADV'), ('more', 'ADJ'))], [('a', 'DET'), (('document', '.'), ('document', 'NOUN'))], [('as', 'ADP'), (('Form', '.'), ('Form', 'NOUN'))], [('Form', 'NOUN'), (('8300', 'ADJ'), ('8300', 'NUM'))], [('That', 'DET'), (('builds', '.'), ('builds', 'VERB'))], [(',', '.'), (('self', '.'), ('self', 'NOUN'))], [('self', 'NOUN'), (('sufficiency', '.'), ('sufficiency', 'NOUN'))], [('mention', 'VERB'), (('critical', '.'), ('critical', 'ADJ'))], [('regulatory', 'ADJ'), (('net', 'ADJ'), ('net', 'NOUN'))], [(\"''\", '.'), (('Payouts', '.'), ('Payouts', 'NOUN'))], [('.', '.'), (('Excision', '.'), ('Excision', 'NOUN'))], [('appropriations', 'NOUN'), (('riders', '.'), ('riders', 'NOUN'))], [('*T*-1', 'X'), (('trespass', '.'), ('trespass', 'VERB'))], [('and', 'CONJ'), (('prerogative', '.'), ('prerogative', 'NOUN'))], [('.', '.'), (('Demand', '.'), ('Demand', 'NOUN'))], [('but', 'CONJ'), (('due', 'ADJ'), ('due', 'ADV'))], [(',', '.'), (('overseas', 'ADV'), ('overseas', 'ADJ'))], [('which', 'DET'), (('*T*-236', '.'), ('*T*-236', 'X'))], [('systems', 'NOUN'), (('any', 'DET'), ('any', 'ADV'))], [('to', 'PRT'), (('audit', 'NOUN'), ('audit', 'VERB'))], [('and', 'CONJ'), (('refund', 'NOUN'), ('refund', 'VERB'))], [('the', 'DET'), (('inside', '.'), ('inside', 'NOUN'))], [('the', 'DET'), (('outside', 'ADJ'), ('outside', 'NOUN'))], [(\"''\", '.'), (('Spending', '.'), ('Spending', 'NOUN'))], [(',', '.'), (('nonresidential', '.'), ('nonresidential', 'ADJ'))], [('was', 'VERB'), (('off', 'PRT'), ('off', 'ADJ'))], [('off', 'ADJ'), (('2.6', '.'), ('2.6', 'NUM'))], [('$', '.'), (('99.1', '.'), ('99.1', 'NUM'))], [('``', '.'), (('So', 'ADV'), ('So', 'ADP'))], [('other', 'ADJ'), (('fixed-income', '.'), ('fixed-income', 'ADJ'))], [('was', 'VERB'), (('muted', '.'), ('muted', 'VERB'))], [('the', 'DET'), (('observance', '.'), ('observance', 'NOUN'))], [('of', 'ADP'), (('All', 'DET'), ('All', 'NOUN'))], [('All', 'NOUN'), (('Saints', '.'), ('Saints', 'NOUN'))], [('Saints', 'NOUN'), ((\"'\", '.'), (\"'\", 'PRT'))], [(\"'\", 'PRT'), (('Day', '.'), ('Day', 'NOUN'))], [('to', 'PRT'), (('oust', '.'), ('oust', 'VERB'))], [('of', 'ADP'), (('Datapoint', '.'), ('Datapoint', 'NOUN'))], [('Each', 'DET'), (('variation', '.'), ('variation', 'NOUN'))], [('rules', 'NOUN'), (('state', 'NOUN'), ('state', 'VERB'))], [('$', '.'), (('240,000', '.'), ('240,000', 'NUM'))], [('Poland', 'NOUN'), (('contrasts', '.'), ('contrasts', 'VERB'))], [('the', 'DET'), (('underlying', 'ADJ'), ('underlying', 'VERB'))], [('already', 'ADV'), (('provoked', '.'), ('provoked', 'VERB'))], [('Chairman', 'NOUN'), (('Asher', '.'), ('Asher', 'NOUN'))], [('from', 'ADP'), (('16.2', '.'), ('16.2', 'NUM'))], [('a', 'DET'), (('run', 'VERB'), ('run', 'NOUN'))], [('the', 'DET'), (('computer-services', '.'), ('computer-services', 'NOUN'))], [('the', 'DET'), (('busiest', '.'), ('busiest', 'ADJ'))], [('so', 'ADV'), (('far', 'ADV'), ('far', 'ADJ'))], [('volume', 'NOUN'), (('averaged', '.'), ('averaged', 'VERB'))], [('10', 'NUM'), (('citizen-sparked', '.'), ('citizen-sparked', 'ADJ'))], [('state', 'NOUN'), (('ballots', '.'), ('ballots', 'NOUN'))], [('any', 'DET'), (('odd-year', '.'), ('odd-year', 'ADJ'))], [('be', 'VERB'), (('relaunched', '.'), ('relaunched', 'VERB'))], [(',', '.'), (('as', 'ADP'), ('as', 'ADV'))], [('as', 'ADV'), (('early', 'ADJ'), ('early', 'ADV'))], [(',', '.'), (('most', 'ADV'), ('most', 'ADJ'))], [('the', 'DET'), (('building', 'NOUN'), ('building', 'VERB'))], [('building', 'VERB'), (('schemes', '.'), ('schemes', 'NOUN'))], [('political', 'ADJ'), (('pharaohs', '.'), ('pharaohs', 'NOUN'))], [('money', 'NOUN'), (('erect', '.'), ('erect', 'VERB'))], [('these', 'DET'), (('playgrounds', '.'), ('playgrounds', 'NOUN'))], [('public', 'ADJ'), (('passions', '.'), ('passions', 'NOUN'))], [('to', 'PRT'), (('present', 'ADJ'), ('present', 'VERB'))], [('to', 'PRT'), (('appease', '.'), ('appease', 'VERB'))], [('appease', 'VERB'), (('Midwestern', 'NOUN'), ('Midwestern', 'ADJ'))], [('from', 'ADP'), (('high-polluting', '.'), ('high-polluting', 'ADJ'))], [('on', 'ADP'), (('cost-sharing', 'ADJ'), ('cost-sharing', 'NOUN'))], [('Not', 'ADV'), (('counting', '.'), ('counting', 'VERB'))], [('has', 'VERB'), (('much', 'ADV'), ('much', 'ADJ'))], [('$', '.'), (('126.1', '.'), ('126.1', 'NUM'))], [(\"n't\", 'ADV'), (('endorse', '.'), ('endorse', 'VERB'))], [('a', 'DET'), (('cosmetic', 'NOUN'), ('cosmetic', 'ADJ'))], [('S.', 'NOUN'), (('Gelles', '.'), ('Gelles', 'NOUN'))], [('of', 'ADP'), (('Wertheim', '.'), ('Wertheim', 'NOUN'))], [('Wertheim', 'NOUN'), (('Schroder', '.'), ('Schroder', 'NOUN'))], [('two', 'NUM'), (('octogenarians', '.'), ('octogenarians', 'NOUN'))], [('who', 'PRON'), (('*T*-222', '.'), ('*T*-222', 'X'))], [('a', 'DET'), (('sometimes-exhausting', '.'), ('sometimes-exhausting', 'ADJ'))], [('bells', 'NOUN'), (('sounding', '.'), ('sounding', 'VERB'))], [('many', 'ADJ'), (('belfries', '.'), ('belfries', 'NOUN'))], [('East', 'NOUN'), (('Anglia', '.'), ('Anglia', 'NOUN'))], [('dividend', 'NOUN'), (('yield', 'VERB'), ('yield', 'NOUN'))], [('level', 'NOUN'), (('that', 'ADP'), ('that', 'DET'))], [('that', 'DET'), (('*T*-232', '.'), ('*T*-232', 'X'))], [('and', 'CONJ'), (('unenticing', '.'), ('unenticing', 'ADJ'))], [('simply', 'ADV'), (('nullified', '.'), ('nullified', 'VERB'))], [('an', 'DET'), (('opposite', '.'), ('opposite', 'ADJ'))], [('to', 'PRT'), (('colder', '.'), ('colder', 'ADJ'))], [('the', 'DET'), (('American', 'ADJ'), ('American', 'NOUN'))], [('to', 'PRT'), (('planting', '.'), ('planting', 'NOUN'))], [('of', 'ADP'), (('orange', '.'), ('orange', 'ADJ'))], [('orange', 'ADJ'), (('trees', '.'), ('trees', 'NOUN'))], [('areas', 'NOUN'), (('that', 'ADP'), ('that', 'DET'))], [('for', 'ADP'), (('cane', '.'), ('cane', 'NOUN'))], [('expected', 'VERB'), (('*-129', '.'), ('*-129', 'X'))], [('the', 'DET'), (('key', 'ADJ'), ('key', 'NOUN'))], [('must', 'VERB'), (('fundamentally', '.'), ('fundamentally', 'ADV'))], [('fundamentally', 'ADV'), (('increase', 'NOUN'), ('increase', 'VERB'))], [('or', 'CONJ'), (('decrease', 'NOUN'), ('decrease', 'VERB'))], [('prices', 'NOUN'), (('move', 'NOUN'), ('move', 'VERB'))], [('Italy', 'NOUN'), (('there', 'DET'), ('there', 'ADV'))], [('is', 'VERB'), (('Angelo', '.'), ('Angelo', 'NOUN'))], [('Angelo', 'NOUN'), (('Gaja', '.'), ('Gaja', 'NOUN'))], [('Gaja', 'NOUN'), (('Barbaresco', '.'), ('Barbaresco', 'NOUN'))], [(',', '.'), (('Piero', '.'), ('Piero', 'NOUN'))], [('Piero', 'NOUN'), (('Antinori', '.'), ('Antinori', 'NOUN'))], [('Antinori', 'NOUN'), ((\"'s\", 'VERB'), (\"'s\", 'PRT'))], [('La', 'NOUN'), (('Solaia', '.'), ('Solaia', 'NOUN'))], [('The', 'DET'), (('most', 'ADJ'), ('most', 'ADV'))], [('&', 'CONJ'), (('poor', 'ADJ'), ('poor', 'NOUN'))], [('a', 'DET'), (('20-stock', '.'), ('20-stock', 'ADJ'))], [('index', 'NOUN'), (('that', 'ADP'), ('that', 'DET'))], [('*T*-1', 'X'), (('mimics', '.'), ('mimics', 'VERB'))], [('the', 'DET'), (('chicago', '.'), ('chicago', 'NOUN'))], [(\"'\", 'PRT'), (('report', 'VERB'), ('report', 'NOUN'))], [('by', 'ADP'), (('more', 'ADJ'), ('more', 'ADV'))], [('The', 'DET'), (('British', 'ADJ'), ('British', 'NOUN'))], [('.', '.'), (('Legislation', '.'), ('Legislation', 'NOUN'))], [('is', 'VERB'), (('ensnarled', '.'), ('ensnarled', 'VERB'))], [('cutting', 'VERB'), (('capital-gains', 'NOUN'), ('capital-gains', 'ADJ'))], [(\"'s\", 'PRT'), (('909', '.'), ('909', 'NUM'))], [('covers', 'VERB'), (('only', 'ADV'), ('only', 'ADJ'))], [('who', 'PRON'), (('*T*-260', '.'), ('*T*-260', 'X'))], [('will', 'VERB'), (('learn', '.'), ('learn', 'VERB'))], [('*-1', 'X'), (('Starting', '.'), ('Starting', 'VERB'))], [('with', 'ADP'), (('Congressman', '.'), ('Congressman', 'NOUN'))], [('Congressman', 'NOUN'), (('Mario', '.'), ('Mario', 'NOUN'))], [('Mario', 'NOUN'), (('Biaggi', '.'), ('Biaggi', 'NOUN'))], [('jail', 'NOUN'), (('sentence', '.'), ('sentence', 'NOUN'))], [('*', 'X'), (('bribing', '.'), ('bribing', 'VERB'))], [('local', 'ADJ'), (('public', 'NOUN'), ('public', 'ADJ'))], [('those', 'DET'), (('close', 'NOUN'), ('close', 'ADJ'))], [(',', '.'), (('right', 'NOUN'), ('right', 'ADV'))], [('right', 'ADV'), (('up', 'PRT'), ('up', 'ADP'))], [('Robert', 'NOUN'), (('Wallach', '.'), ('Wallach', 'NOUN'))], [(',', '.'), (('close', 'NOUN'), ('close', 'ADJ'))], [('former', 'ADJ'), (('Attorney', '.'), ('Attorney', 'NOUN'))], [('Ed', 'NOUN'), (('Meese', '.'), ('Meese', 'NOUN'))], [('While', 'ADP'), (('worry', 'VERB'), ('worry', 'NOUN'))], [('for', 'ADP'), (('alleged', 'ADJ'), ('alleged', 'VERB'))], [('John', 'NOUN'), (('Morrell', '.'), ('Morrell', 'NOUN'))], [('a', 'DET'), (('meatpacking', '.'), ('meatpacking', 'NOUN'))], [('United', 'NOUN'), (('Brands', '.'), ('Brands', 'NOUN'))], [('took', 'VERB'), (('over', 'ADP'), ('over', 'PRT'))], [(\"'s\", 'PRT'), (('seventh', '.'), ('seventh', 'ADJ'))], [('to', 'PRT'), (('counteract', '.'), ('counteract', 'VERB'))], [('also', 'ADV'), (('notched', '.'), ('notched', 'VERB'))], [('market-makers', 'NOUN'), (('searched', '.'), ('searched', 'VERB'))], [('defensive', 'ADJ'), (('qualities', '.'), ('qualities', 'NOUN'))], [(',', '.'), (('petroleum', '.'), ('petroleum', 'NOUN'))], [('The', 'DET'), (('Contra', '.'), ('Contra', 'NOUN'))], [('military', 'ADJ'), (('command', 'VERB'), ('command', 'NOUN'))], [('from', 'ADP'), (('Honduras', '.'), ('Honduras', 'NOUN'))], [('0', 'X'), (('Sandinista', '.'), ('Sandinista', 'NOUN'))], [('major', 'ADJ'), (('offensive', '.'), ('offensive', 'NOUN'))], [('the', 'DET'), (('rebel', '.'), ('rebel', 'NOUN'))], [('to', 'PRT'), (('phase', '.'), ('phase', 'VERB'))], [('phase', 'VERB'), (('out', 'ADP'), ('out', 'PRT'))], [('make', 'VERB'), (('appropriate', '.'), ('appropriate', 'ADJ'))], [('Mr.', 'NOUN'), (('Nemeth', '.'), ('Nemeth', 'NOUN'))], [('the', 'DET'), (('twin', '.'), ('twin', 'NOUN'))], [('twin', 'NOUN'), (('dams', '.'), ('dams', 'NOUN'))], [('.', '.'), (('Customers', '.'), ('Customers', 'NOUN'))], [(\"'s\", 'PRT'), (('undelivered', '.'), ('undelivered', 'ADJ'))], [('subscribe', 'VERB'), (('most', 'ADV'), ('most', 'ADJ'))], [('remaining', 'VERB'), (('170', '.'), ('170', 'NUM'))], [('will', 'VERB'), (('personally', '.'), ('personally', 'ADV'))], [('personally', 'ADV'), (('direct', 'ADJ'), ('direct', 'VERB'))], [('*-1', 'X'), (('assisted', '.'), ('assisted', 'VERB'))], [('by', 'ADP'), (('Manfred', '.'), ('Manfred', 'NOUN'))], [('Manfred', 'NOUN'), (('Gingl', '.'), ('Gingl', 'NOUN'))], [('and', 'CONJ'), (('Taittinger', '.'), ('Taittinger', 'NOUN'))], [('Taittinger', 'NOUN'), ((\"'s\", 'VERB'), (\"'s\", 'PRT'))], [(\"'s\", 'PRT'), (('Comtes', '.'), ('Comtes', 'NOUN'))], [('is', 'VERB'), (('encroaching', '.'), ('encroaching', 'VERB'))], [('see', 'VERB'), (('more', 'ADV'), ('more', 'ADJ'))], [('*T*-2', 'X'), (('Andrea', '.'), ('Andrea', 'NOUN'))], [('of', 'ADP'), (('American', 'ADJ'), ('American', 'NOUN'))], [('software', 'NOUN'), (('tutorials', '.'), ('tutorials', 'NOUN'))], [('$', '.'), (('46.1', '.'), ('46.1', 'NUM'))], [('$', '.'), (('1.85', '.'), ('1.85', 'NUM'))], [('$', '.'), (('1.85', '.'), ('1.85', 'NUM'))], [(\"'s\", 'PRT'), (('swelling', '.'), ('swelling', 'VERB'))], [('and', 'CONJ'), (('that', 'DET'), ('that', 'ADP'))], [('fellow', 'ADJ'), (('Texan', '.'), ('Texan', 'NOUN'))], [('Sen.', 'NOUN'), (('Lloyd', '.'), ('Lloyd', 'NOUN'))], [('Lloyd', 'NOUN'), (('Bentsen', '.'), ('Bentsen', 'NOUN'))], [('to', 'PRT'), (('highlight', '.'), ('highlight', 'VERB'))], [('who', 'PRON'), (('*T*-185', '.'), ('*T*-185', 'X'))], [('``', '.'), (('oversight', '.'), ('oversight', 'NOUN'))], [(',', '.'), (('tight', 'ADV'), ('tight', 'ADJ'))], [('tight', 'ADJ'), (('facial', '.'), ('facial', 'ADJ'))], [('*-37', 'X'), (('out', 'PRT'), ('out', 'ADP'))], [('power', 'NOUN'), (('that', 'ADP'), ('that', 'DET'))], [('to', 'PRT'), (('wield', '.'), ('wield', 'VERB'))], [('sizable', 'ADJ'), (('West', 'NOUN'), ('West', 'ADJ'))], [('West', 'ADJ'), (('German', 'NOUN'), ('German', 'ADJ'))], [('German', 'ADJ'), (('refinery', '.'), ('refinery', 'NOUN'))], [('*', 'X'), (('tightening', '.'), ('tightening', 'VERB'))], [('divisions', 'NOUN'), (('that', 'ADP'), ('that', 'DET'))], [(\"n't\", 'ADV'), (('wish', 'VERB'), ('wish', 'NOUN'))], [('owns', 'VERB'), (('about', 'ADP'), ('about', 'ADV'))], [(',', '.'), (('most', 'ADV'), ('most', 'ADJ'))], [('at', 'ADP'), (('nominal', '.'), ('nominal', 'ADJ'))], [('to', 'PRT'), (('gain', 'NOUN'), ('gain', 'VERB'))], [('sold', 'VERB'), (('*-115', '.'), ('*-115', 'X'))], [('.', '.'), (('Dick', '.'), ('Dick', 'NOUN'))], [('Dick', 'NOUN'), (('Lobo', '.'), ('Lobo', 'NOUN'))], [('of', 'ADP'), (('WTVJ', '.'), ('WTVJ', 'NOUN'))], [('the', 'DET'), (('NBC-owned', '.'), ('NBC-owned', 'ADJ'))], [('add', 'VERB'), (('two-sevenths', '.'), ('two-sevenths', 'NOUN'))], [('and', 'CONJ'), (('three-sevenths', '.'), ('three-sevenths', 'NOUN'))], [('at', 'ADP'), (('60.36', '.'), ('60.36', 'NUM'))], [('.', '.'), (('Showa', '.'), ('Showa', 'NOUN'))], [('Showa', 'NOUN'), (('Shell', '.'), ('Shell', 'NOUN'))], [('to', 'PRT'), (('1,570', '.'), ('1,570', 'NUM'))], [(\"'s\", 'PRT'), (('Pittsburgh', '.'), ('Pittsburgh', 'NOUN'))], [(',', '.'), (('Advanced', '.'), ('Advanced', 'NOUN'))], [(',', '.'), (('executes', '.'), ('executes', 'VERB'))], [('not', 'ADV'), (('unethical', '.'), ('unethical', 'ADJ'))], [('a', 'DET'), (('higher-salaried', '.'), ('higher-salaried', 'ADJ'))], [('an', 'DET'), (('affordable', '.'), ('affordable', 'ADJ'))], [('$', '.'), (('1,298', '.'), ('1,298', 'NUM'))], [('A', 'DET'), (('shift', '.'), ('shift', 'NOUN'))], [('producing', 'VERB'), (('more', 'ADV'), ('more', 'ADJ'))], [('a', 'DET'), (('more', 'ADJ'), ('more', 'ADV'))], [('more', 'ADV'), (('drastic', '.'), ('drastic', 'ADJ'))], [('drastic', 'ADJ'), (('shift', '.'), ('shift', 'NOUN'))], [(\"'s\", 'PRT'), (('Beige', '.'), ('Beige', 'NOUN'))], [('Beige', 'NOUN'), (('Book', '.'), ('Book', 'NOUN'))], [('gave', 'VERB'), (('up', 'ADV'), ('up', 'PRT'))], [('The', 'DET'), (('downgrading', '.'), ('downgrading', 'NOUN'))], [('sent', 'VERB'), (('shivers', '.'), ('shivers', 'NOUN'))], [('0', 'X'), (('export', 'VERB'), ('export', 'NOUN'))], [('month', 'NOUN'), (('before', 'ADP'), ('before', 'ADV'))], [('for', 'ADP'), (('witches', '.'), ('witches', 'NOUN'))], [('convenient', 'ADJ'), (('boogieman', '.'), ('boogieman', 'NOUN'))], [('of', 'ADP'), (('Advanced', '.'), ('Advanced', 'NOUN'))], [('a', 'DET'), (('Pittsburgh', '.'), ('Pittsburgh', 'NOUN'))], [('firm', 'NOUN'), (('that', 'ADP'), ('that', 'DET'))], [('*U*', 'X'), (('fund', 'VERB'), ('fund', 'NOUN'))], [('fund', 'NOUN'), (('that', 'ADP'), ('that', 'DET'))], [('This', 'DET'), (('species', '.'), ('species', 'NOUN'))], [('is', 'VERB'), (('predicated', '.'), ('predicated', 'VERB'))], [('clause', 'NOUN'), (('that', 'ADP'), ('that', 'DET'))], [('is', 'VERB'), (('erroneous', '.'), ('erroneous', 'ADJ'))], [('what', 'PRON'), (('*T*-252', '.'), ('*T*-252', 'X'))], [('*-1', 'X'), (('complaining', '.'), ('complaining', 'VERB'))], [('ended', 'VERB'), (('up', 'ADV'), ('up', 'PRT'))], [('among', 'ADP'), (('American', 'ADJ'), ('American', 'NOUN'))], [('an', 'DET'), (('American', 'ADJ'), ('American', 'NOUN'))], [('and', 'CONJ'), (('that', 'DET'), ('that', 'ADP'))], [('of', 'ADP'), (('Clarence', '.'), ('Clarence', 'NOUN'))], [('the', 'DET'), (('American', 'ADJ'), ('American', 'NOUN'))], [('American', 'NOUN'), (('Bar', '.'), ('Bar', 'NOUN'))], [('``', '.'), (('qualified', 'VERB'), ('qualified', 'ADJ'))], [('Cooper', 'NOUN'), (('Tire', '.'), ('Tire', 'NOUN'))], [('Tire', 'NOUN'), (('&', 'CONJ'), ('&', 'X'))], [('&', 'X'), (('Rubber', '.'), ('Rubber', 'NOUN'))], [('and', 'CONJ'), (('related', 'VERB'), ('related', 'ADJ'))], [('in', 'ADP'), (('Albany', '.'), ('Albany', 'NOUN'))], [('.', '.'), (('Packaging', '.'), ('Packaging', 'NOUN'))], [('some', 'DET'), (('drawbacks', '.'), ('drawbacks', 'NOUN'))], [('``', '.'), (('deplorable', '.'), ('deplorable', 'ADJ'))], [('but', 'CONJ'), (('brushed', '.'), ('brushed', 'VERB'))], [('brushed', 'VERB'), (('off', 'ADP'), ('off', 'PRT'))], [('*', 'X'), (('renewing', '.'), ('renewing', 'VERB'))], [('the', 'DET'), (('insurgents', '.'), ('insurgents', 'NOUN'))], [('What', 'PRON'), (('*T*-164', '.'), ('*T*-164', 'X'))], [('is', 'VERB'), (('happening', '.'), ('happening', 'VERB'))], [('the', 'DET'), (('public', 'ADJ'), ('public', 'NOUN'))], [('.', '.'), (('Net', 'ADJ'), ('Net', 'NOUN'))], [('Net', 'NOUN'), (('advanced', 'ADJ'), ('advanced', 'VERB'))], [('$', '.'), (('94.2', '.'), ('94.2', 'NUM'))], [('or', 'CONJ'), (('83', '.'), ('83', 'NUM'))], [('including', 'VERB'), (('net', 'ADJ'), ('net', 'NOUN'))], [('PC', 'NOUN'), (('contributors', '.'), ('contributors', 'NOUN'))], [('*EXP*-1', 'X'), ((\"'s\", 'PRT'), (\"'s\", 'VERB'))], [('a', 'DET'), (('17-year-old', '.'), ('17-year-old', 'ADJ'))], [(\"'s\", 'PRT'), (('hot', '.'), ('hot', 'ADJ'))], [('--', '.'), (('and', 'CONJ'), ('and', 'NOUN'))], [('what', 'PRON'), (('*T*-172', '.'), ('*T*-172', 'X'))], [('very', 'ADV'), (('hot', '.'), ('hot', 'ADJ'))], [('to', 'PRT'), (('halve', '.'), ('halve', 'VERB'))], [('the', 'DET'), (('third-highest', '.'), ('third-highest', 'ADJ'))], [('``', '.'), (('Professional', 'NOUN'), ('Professional', 'ADJ'))], [('get', 'VERB'), (('enough', 'ADV'), ('enough', 'ADJ'))], [('morphogenetic', 'ADJ'), (('protein-1', '.'), ('protein-1', 'NOUN'))], [('substance', 'NOUN'), (('that', 'ADP'), ('that', 'DET'))], [('can', 'VERB'), (('induce', '.'), ('induce', 'VERB'))], [('induce', 'VERB'), (('formation', '.'), ('formation', 'NOUN'))], [('the', 'DET'), (('most', 'ADJ'), ('most', 'ADV'))], [('*', 'X'), (('abolishing', '.'), ('abolishing', 'VERB'))], [('its', 'PRON'), (('merits', '.'), ('merits', 'NOUN'))], [('firms', 'NOUN'), (('championing', '.'), ('championing', 'VERB'))], [('battle', 'NOUN'), (('opens', '.'), ('opens', 'VERB'))], [('opens', 'VERB'), (('up', 'ADV'), ('up', 'PRT'))], [('0', 'X'), (('that', 'ADP'), ('that', 'DET'))], [('.', '.'), (('Third', '.'), ('Third', 'ADJ'))], [('$', '.'), (('11.57', '.'), ('11.57', 'NUM'))], [('share', 'NOUN'), (('vs.', 'ADP'), ('vs.', 'CONJ'))], [('vs.', 'CONJ'), (('net', 'ADJ'), ('net', 'NOUN'))], [('Old', 'NOUN'), (('Spaghetti', '.'), ('Spaghetti', 'NOUN'))], [('Spaghetti', 'NOUN'), (('Warehouse', '.'), ('Warehouse', 'NOUN'))], [(\"'s\", 'PRT'), (('editions', '.'), ('editions', 'NOUN'))], [('.', '.'), (('Editorials', '.'), ('Editorials', 'NOUN'))], [('being', 'VERB'), (('overused', '.'), ('overused', 'VERB'))], [('additional', 'ADJ'), (('disruption', '.'), ('disruption', 'NOUN'))], [('our', 'PRON'), (('borrowing', 'VERB'), ('borrowing', 'NOUN'))], [('borrowing', 'NOUN'), (('schedule', '.'), ('schedule', 'NOUN'))], [('the', 'DET'), (('taxpayer', '.'), ('taxpayer', 'NOUN'))], [('Secretary', 'NOUN'), (('Nicholas', '.'), ('Nicholas', 'NOUN'))], [('Nicholas', 'NOUN'), (('Brady', '.'), ('Brady', 'NOUN'))], [('paltry', 'ADJ'), (('sum', '.'), ('sum', 'NOUN'))], [('kids', 'NOUN'), (('broke', '.'), ('broke', 'VERB'))], [('her', 'PRON'), (('correcting', '.'), ('correcting', 'VERB'))], [('correcting', 'VERB'), (('homework', '.'), ('homework', 'NOUN'))], [(',', '.'), (('Fortune', '.'), ('Fortune', 'NOUN'))], [('executives', 'NOUN'), (('drooled', '.'), ('drooled', 'VERB'))], [('like', 'ADP'), (('schoolboys', '.'), ('schoolboys', 'NOUN'))], [('will', 'VERB'), (('exchange', 'NOUN'), ('exchange', 'VERB'))], [('new', 'ADJ'), (('preferred', 'ADJ'), ('preferred', 'VERB'))], [('already', 'ADV'), (('own', 'ADJ'), ('own', 'VERB'))], [('its', 'PRON'), (('liabilities', '.'), ('liabilities', 'NOUN'))], [('.', '.'), (('Second', 'NOUN'), ('Second', 'ADJ'))], [('they', 'PRON'), (('channel', '.'), ('channel', 'VERB'))], [('settled', 'VERB'), (('pre-1917', '.'), ('pre-1917', 'ADJ'))], [(\"'s\", 'PRT'), (('face', 'VERB'), ('face', 'NOUN'))], [('state-owned', 'ADJ'), (('holding', 'NOUN'), ('holding', 'VERB'))], [('crystal', 'NOUN'), (('changes', 'NOUN'), ('changes', 'VERB'))], [('apparently', 'ADV'), (('pins', 'NOUN'), ('pins', 'VERB'))], [('.', '.'), (('Overall', '.'), ('Overall', 'ADJ'))], [(',', '.'), (('pretax', 'NOUN'), ('pretax', 'ADJ'))], [('$', '.'), (('107.9', '.'), ('107.9', 'NUM'))], [('$', '.'), (('96.4', '.'), ('96.4', 'NUM'))], [('The', 'DET'), (('American', 'ADJ'), ('American', 'NOUN'))], [('American', 'NOUN'), (('Bar', '.'), ('Bar', 'NOUN'))], [('of', 'ADP'), (('Delegates', '.'), ('Delegates', 'NOUN'))], [('1985', 'NUM'), (('condemning', '.'), ('condemning', 'VERB'))], [('IRS', 'NOUN'), (('reporting', 'VERB'), ('reporting', 'NOUN'))], [('with', 'ADP'), (('top-level', '.'), ('top-level', 'ADJ'))]]\n"
     ]
    }
   ],
   "source": [
    "print('Incorrect tagged cases: ',incorrect_tagged)"
   ]
  },
  {
   "cell_type": "markdown",
   "metadata": {},
   "source": [
    "<b>Incorrect tagged words</b>\n",
    "<a id='Incorrect_Words'></a>"
   ]
  },
  {
   "cell_type": "code",
   "execution_count": 47,
   "metadata": {},
   "outputs": [
    {
     "name": "stdout",
     "output_type": "stream",
     "text": [
      "Incorrect tagged words size:  405  Incorrect tagged words:  {'1,298', 'Attorney', 'Editorials', 'investor-relations', 'fashion', 'there', 'Barbaresco', 'muted', 'vagabond', 'championing', '*-128', 'Congressman', 'Carbide', 'overused', '*T*-222', 'glamorize', 'Soviet', 'tutorials', 'Mount', 'own', 'odd-year', 'Eveready', 'CSV', 'Professional', 'audit', \"'\", 'Anglia', 'wish', 'fund', 'cosmetic', 'highlight', 'opposite', '83', 'disseminate', 'pins', 'Delegates', '133.7', 'flood', 'centralized', 'Sherwin', '89,500', 'unethical', 'witches', 'such', 'Comtes', 'drooled', 'executes', 'Gingl', 'Excision', 'two-sevenths', 'yield', 'ballots', 'public', 'Warehouse', 'overseas', 'Meese', '94', 'encroaching', 'traced', 'provoked', 'much', 'high-polluting', 'Brands', 'top-level', 'Braun', 'dams', 'complicated', 'observance', 'high', 'Net', 'down', 'offensive', 'delisted', 'shivers', 'export', 'memo', '*-129', 'Texan', 'boogieman', 'schemes', 'verge', 'oust', 'opens', 'refund', 'qualified', 'critical', 'exchange', 'Tire', '8300', '*T*-236', 'contributors', 'qualities', '2,303,328', 'American', 'contrasts', 'fixed-income', 'Overall', 'endorse', 'BILLS', '2.6', 'NBC-owned', 'underlying', 'gigantic', '*T*-172', 'undiplomatic', 'manipulate', 'sufficiency', 'renewing', 'expendable', 'counteract', 'alleged', 'averaged', 'condemning', 'due', '60.36', 'Sandinista', 'Chinese', 'Albany', 'holding', '*T*-252', '240,000', 'Pittsburgh', 'report', 'complaining', '11.57', 'phase', 'borrowing', 'facial', 'third-highest', 'pay', 'move', 'Andrea', 'playgrounds', 'drawbacks', 'state', 'species', 'Brady', '96.4', 'Clarence', 'favored', 'swelling', 'changes', 'Legislation', 'existence', 'railcar', 'brushed', 'relaunched', 'Day', 'Wertheim', 'Schroder', 'pre-1917', 'learn', 'trespass', 'disruption', 'bribing', 'off', 'shift', 'intermediate', 'only', 'fuel', '46.1', 'predicated', 'Gelles', 'traffic', '909', 'ensnarled', 'Morrell', 'insurgents', 'outside', 'wield', 'formation', '737.5', 'increase', 'TREASURY', 'planting', 'planned', 'worry', 'capital-gains', 'induce', 'unimpeded', 'English', 'busiest', 'passions', 'escort', 'Lobo', 'Gaja', '20-stock', 'drastic', 'engines', 'poor', 'British', 'prerogative', 'self', '16.2', 'refinery', 'inside', 'Asher', 'cost-sharing', 'Honduras', 'German', 'preferred', 'that', 'personally', 'before', 'computer-services', 'up', 'builds', 'Midwestern', '7.78', '*T*-126', '170', 'nominal', 'wives', 'building', '23.25', 'Vice', 'Deere', 'raced', 'twin', 'present', 'Clemens', 'appease', 'crapshoot', 'reopened', 'Dick', 'pharaohs', 'Starting', 'more', 'Lloyd', 'protein-1', '*T*-211', 'sentence', '12.82', '126.1', 'descending', 'happening', 'Payouts', 'and', 'Wallach', 'platforms', 'Results', 'Ketchum', 'Biaggi', 'far', 'Speedway', 'Demand', 'petroleum', 'cane', 'Nicholas', 'pretax', 'Solaia', 'busloads', 'force', 'enough', '99.1', 'Form', 'marketing-communications', 'Customers', 'mimics', 'orange', 'subsequent', 'over', 'launch-vehicle', 'any', 'Nemeth', 'synchronized', 'New', 'hot', 'eight-count', 'schoolboys', 'ethanol', 'Datapoint', 'early', 'run', 'octogenarians', 'decrease', 'Book', \"'s\", 'correcting', 'citizen-sparked', 'West', 'face', 'schedule', 'Piero', 'earlier', 'three-sevenths', 'command', 'Antinori', 'tight', 'Beige', 'Spending', 'absolute', 'sky', 'unenticing', 'seventh', 'Train', 'riders', 'homework', 'scholarly', 'NYSE', 'as', '107.9', 'fundamentally', 'Bucking', 'highest-pitched', '&', 'variation', 'Proper', 'nullified', 'searched', 'Showa', 'Rubber', 'Saints', 'erect', 'shuttle', 'broke', 'higher-salaried', 'most', 'Second', 'Spaghetti', 'sounding', 'Miklos', 'sum', 'Contra', 'key', 'abolishing', 'wave', 'Federal', 'oversight', '*T*-185', 'Symbol', 'Third', 'channel', 'All', 'Bentsen', 'Taittinger', 'rounds', 'ago', 'meatpacking', 'So', '1,570', 'Packaging', 'resumption', 'related', 'net', 'assisted', 'appropriate', '3.01', 'erroneous', 'counting', '*T*-232', 'authorized', 'about', 'gain', 'nickname', 'Advanced', '7.62', 'receives', 'Fortune', 'belfries', 'trees', 'sometimes-exhausting', 'tightening', 'labeling', '*T*-164', '*T*-260', 'midsized', 'close', 'chicago', 'affordable', 'Angelo', 'drew', 'notched', 'vs.', 'direct', 'rebel', 'document', '17-year-old', 'Trailer', 'Bar', 'nonresidential', 'reporting', 'halve', 'colder', 'fleet', 'downgrading', 'undelivered', 'Shell', 'WTVJ', '*-115', 'merits', 'liabilities', 'advanced', '1.85', 'knocked', 'deplorable', 'boosts', 'right', 'taxpayer', 'out', 'editions', '94.2', 'indictment', 'Mario', 'Manfred'}\n"
     ]
    }
   ],
   "source": [
    "incorrect_tagged_words=[i[0] for i in [incorrect_word[1] for pair in incorrect_tagged for incorrect_word in pair][1::2]]\n",
    "incorrect_tagged_words_vanilla=set(incorrect_tagged_words)\n",
    "incorrect_tagged_words_vanilla\n",
    "print('Incorrect tagged words size: ',len(incorrect_tagged_words_vanilla),' Incorrect tagged words: ',incorrect_tagged_words_vanilla)"
   ]
  },
  {
   "cell_type": "markdown",
   "metadata": {},
   "source": [
    "#### 5.3 Evaluating on test set"
   ]
  },
  {
   "cell_type": "code",
   "execution_count": 48,
   "metadata": {},
   "outputs": [],
   "source": [
    "## Function to test on test sentences\n",
    "def check_tags_on_test_vanilla(sentence_test):\n",
    "    words = word_tokenize(sentence_test)\n",
    "\n",
    "    start = time.time()\n",
    "    tagged_seq = Vanilla_Viterbi(words)\n",
    "    end = time.time()\n",
    "    difference = end-start\n",
    "    print('Tag Sequence: ',tagged_seq)\n",
    "    print(difference)\n",
    "    return tagged_seq\n",
    "    "
   ]
  },
  {
   "cell_type": "markdown",
   "metadata": {},
   "source": [
    "<b>Results on Test Set:</b>\n",
    "<a id='Vanilla_Tests_Results'></a>"
   ]
  },
  {
   "cell_type": "code",
   "execution_count": 49,
   "metadata": {},
   "outputs": [
    {
     "name": "stdout",
     "output_type": "stream",
     "text": [
      "Sentence 1:  Android is a mobile operating system developed by Google.\n",
      "Tag Sequence:  [('Android', '.'), ('is', 'VERB'), ('a', 'DET'), ('mobile', 'ADJ'), ('operating', 'NOUN'), ('system', 'NOUN'), ('developed', 'VERB'), ('by', 'ADP'), ('Google', '.'), ('.', '.')]\n",
      "1.9977316856384277\n",
      "\n",
      "Sentence 2:  Android has been the best-selling OS worldwide on smartphones since 2011 and on tablets since 2013.\n",
      "Tag Sequence:  [('Android', '.'), ('has', 'VERB'), ('been', 'VERB'), ('the', 'DET'), ('best-selling', 'ADJ'), ('OS', '.'), ('worldwide', '.'), ('on', 'ADP'), ('smartphones', '.'), ('since', 'ADP'), ('2011', '.'), ('and', 'CONJ'), ('on', 'ADP'), ('tablets', 'NOUN'), ('since', 'ADP'), ('2013', '.'), ('.', '.')]\n",
      "3.626295328140259\n",
      "\n",
      "Sentence 3:  Google and Twitter made a deal in 2015 that gave Google access to Twitter's firehose.\n",
      "Tag Sequence:  [('Google', '.'), ('and', 'CONJ'), ('Twitter', '.'), ('made', 'VERB'), ('a', 'DET'), ('deal', 'NOUN'), ('in', 'ADP'), ('2015', '.'), ('that', 'DET'), ('gave', 'VERB'), ('Google', '.'), ('access', 'NOUN'), ('to', 'PRT'), ('Twitter', '.'), (\"'s\", 'VERB'), ('firehose', '.'), ('.', '.')]\n",
      "3.303161859512329\n",
      "\n",
      "Sentence 4:  Twitter is an online news and social networking service on which users post and interact with messages known as tweets.\n",
      "Tag Sequence:  [('Twitter', '.'), ('is', 'VERB'), ('an', 'DET'), ('online', '.'), ('news', 'NOUN'), ('and', 'CONJ'), ('social', 'ADJ'), ('networking', 'NOUN'), ('service', 'NOUN'), ('on', 'ADP'), ('which', 'DET'), ('users', 'NOUN'), ('post', 'NOUN'), ('and', 'CONJ'), ('interact', '.'), ('with', 'ADP'), ('messages', '.'), ('known', 'VERB'), ('as', 'ADP'), ('tweets', '.'), ('.', '.')]\n",
      "4.057170391082764\n",
      "\n",
      "Sentence 5:  Before entering politics, Donald Trump was a domineering businessman and a television personality.\n",
      "Tag Sequence:  [('Before', 'ADP'), ('entering', 'VERB'), ('politics', 'NOUN'), (',', '.'), ('Donald', 'NOUN'), ('Trump', 'NOUN'), ('was', 'VERB'), ('a', 'DET'), ('domineering', '.'), ('businessman', 'NOUN'), ('and', 'CONJ'), ('a', 'DET'), ('television', 'NOUN'), ('personality', '.'), ('.', '.')]\n",
      "3.0847203731536865\n",
      "\n",
      "Sentence 6:  The 2018 FIFA World Cup is the 21st FIFA World Cup, an international football tournament contested once every four years.\n",
      "Tag Sequence:  [('The', 'DET'), ('2018', '.'), ('FIFA', '.'), ('World', 'NOUN'), ('Cup', '.'), ('is', 'VERB'), ('the', 'DET'), ('21st', '.'), ('FIFA', '.'), ('World', 'NOUN'), ('Cup', '.'), (',', '.'), ('an', 'DET'), ('international', 'ADJ'), ('football', 'NOUN'), ('tournament', '.'), ('contested', '.'), ('once', 'ADV'), ('every', 'DET'), ('four', 'NUM'), ('years', 'NOUN'), ('.', '.')]\n",
      "5.99907374382019\n",
      "\n",
      "Sentence 7:  This is the first World Cup to be held in Eastern Europe and the 11th time that it has been held in Europe.\n",
      "Tag Sequence:  [('This', 'DET'), ('is', 'VERB'), ('the', 'DET'), ('first', 'ADJ'), ('World', 'NOUN'), ('Cup', '.'), ('to', 'PRT'), ('be', 'VERB'), ('held', 'VERB'), ('in', 'ADP'), ('Eastern', 'NOUN'), ('Europe', 'NOUN'), ('and', 'CONJ'), ('the', 'DET'), ('11th', 'ADJ'), ('time', 'NOUN'), ('that', 'ADP'), ('it', 'PRON'), ('has', 'VERB'), ('been', 'VERB'), ('held', 'VERB'), ('in', 'ADP'), ('Europe', 'NOUN'), ('.', '.')]\n",
      "5.130272626876831\n",
      "\n",
      "Sentence 8:  Show me the cheapest round trips from Dallas to Atlanta\n",
      "Tag Sequence:  [('Show', 'NOUN'), ('me', 'PRON'), ('the', 'DET'), ('cheapest', 'ADJ'), ('round', 'NOUN'), ('trips', '.'), ('from', 'ADP'), ('Dallas', 'NOUN'), ('to', 'PRT'), ('Atlanta', 'NOUN')]\n",
      "2.782581090927124\n",
      "\n",
      "Sentence 9:  I would like to see flights from Denver to Philadelphia.\n",
      "Tag Sequence:  [('I', 'PRON'), ('would', 'VERB'), ('like', 'ADP'), ('to', 'PRT'), ('see', 'VERB'), ('flights', 'NOUN'), ('from', 'ADP'), ('Denver', 'NOUN'), ('to', 'PRT'), ('Philadelphia', 'NOUN'), ('.', '.')]\n",
      "2.2120859622955322\n",
      "\n",
      "Sentence 10:  Show me the price of the flights leaving Atlanta at about 3 in the afternoon and arriving in San Francisco.\n",
      "Tag Sequence:  [('Show', 'NOUN'), ('me', 'PRON'), ('the', 'DET'), ('price', 'NOUN'), ('of', 'ADP'), ('the', 'DET'), ('flights', 'NOUN'), ('leaving', 'VERB'), ('Atlanta', 'NOUN'), ('at', 'ADP'), ('about', 'ADP'), ('3', 'NUM'), ('in', 'ADP'), ('the', 'DET'), ('afternoon', 'NOUN'), ('and', 'CONJ'), ('arriving', '.'), ('in', 'ADP'), ('San', 'NOUN'), ('Francisco', 'NOUN'), ('.', '.')]\n",
      "4.070143461227417\n",
      "\n",
      "Sentence 11:  NASA invited social media users to experience the launch of ICESAT-2 Satellite.\n",
      "Tag Sequence:  [('NASA', '.'), ('invited', '.'), ('social', 'ADJ'), ('media', 'NOUN'), ('users', 'NOUN'), ('to', 'PRT'), ('experience', 'NOUN'), ('the', 'DET'), ('launch', 'NOUN'), ('of', 'ADP'), ('ICESAT-2', '.'), ('Satellite', '.'), ('.', '.')]\n",
      "3.4378292560577393\n",
      "\n",
      "Sentence 12:  \n",
      "Tag Sequence:  []\n",
      "0.0\n",
      "\n"
     ]
    }
   ],
   "source": [
    "#Executing Vanilla viterbi line by line on each sentence on test set\n",
    "f = open(test_file)\n",
    "reader = f.read()\n",
    "sentences_test = reader.splitlines()\n",
    "f.close()\n",
    "\n",
    "test_vanilla_tag_seq=[]\n",
    "\n",
    "i=1\n",
    "for line in sentences_test:\n",
    "    if line!=[]:\n",
    "        print('Sentence '+str(i)+': ',line)\n",
    "        test_vanilla_tag_seq.append(check_tags_on_test_vanilla(line))\n",
    "        print()\n",
    "        i=i+1\n",
    "    \n",
    "\n"
   ]
  },
  {
   "cell_type": "markdown",
   "metadata": {},
   "source": [
    "<B>Number of unknown words in test set<B>"
   ]
  },
  {
   "cell_type": "code",
   "execution_count": 50,
   "metadata": {},
   "outputs": [
    {
     "name": "stdout",
     "output_type": "stream",
     "text": [
      "Words in test set:  115\n",
      "Unknown words in test set:  28\n"
     ]
    }
   ],
   "source": [
    "words_in_test=[]\n",
    "for l in sentences_test:\n",
    "    words_in_test.append(word_tokenize(l))\n",
    "test_vocabulary = [item for sublist in words_in_test for item in sublist]\n",
    "print('Words in test set: ',len(set(test_vocabulary)))\n",
    "print('Unknown words in test set: ',len(list(set(test_vocabulary).difference(set(train_vocabulary)))))"
   ]
  },
  {
   "cell_type": "markdown",
   "metadata": {},
   "source": [
    "### Observation\n",
    "<b>We can clearly see that many of the words are tagged incorrectly primarily because they were not present in the training dataset such as Google marked as '.', OS marked as '.', NASA marked as '.' etc.\n",
    "These words should have been tagged as NOUN. Thus we will try and rectify our Viterbi algorithm.</b>\n",
    "\n",
    "Some other observations:\n",
    "- Accuracy from Vanilla viterbi is : `0.909728992006239 (~91%)`\n",
    "- Number of tags in validation set identified incorrectlly from vanilla viterbi: `405`\n",
    "- We can make out that some words are verbs , numbers and nouns looking at the sample data set. Thus we will try building morphological taggers based on rule based techniques to improve correctness of tags.\n"
   ]
  },
  {
   "cell_type": "markdown",
   "metadata": {},
   "source": [
    "## 6. Solve the problem of unknown words"
   ]
  },
  {
   "cell_type": "markdown",
   "metadata": {},
   "source": [
    "#### 6.1 Approach 1 "
   ]
  },
  {
   "cell_type": "markdown",
   "metadata": {},
   "source": [
    "As we have seen  Vanilla viterbi is incapabe of identifying few words: \n",
    "    - Some proper nouns(NOUN) like Android , Google, Twitter etc and has identified them as '.'\n",
    "    - Some verbs like(VERB) arriving, contested and has identified them as '.'\n",
    "    - Some numbers(NUM) like 2015, 2018 and has identified them as '.'\n",
    "    \n",
    "Thus we have to build a more sophisticated Viterbi by including custome tagger based on morphological cues"
   ]
  },
  {
   "cell_type": "markdown",
   "metadata": {},
   "source": [
    "#### 6.1.1 Rule-Based (Regular Expression) Tagger\n",
    "\n",
    "Building a rule-based, or regular expression based tagger. In NLTK, the `RegexpTagger()` can be provided with handwritten regular expression patterns, as shown below.\n",
    "\n",
    "Below, we specify regexes for past/present tense verbs ,  possesive nouns , plural nouns , cardinal numbers etc.. and finally, if none of the above rules are applicable to a word, we tag the most frequent tag NOUN.  "
   ]
  },
  {
   "cell_type": "code",
   "execution_count": 51,
   "metadata": {},
   "outputs": [],
   "source": [
    "# A rule based tagging system based on morphological cues of english that will correctly identify \n",
    "# some tags based on prefixes and some words apprearing in the words\n",
    "\n",
    "# 1st Rule: Matches any word that starts with alphabets(capital or small) and ends with 'ously' and tag them as 'ADV'\n",
    "\n",
    "# 2nd Rule: Matches any comma separated numbers and tag them as 'NUM'\n",
    "\n",
    "# 3rd Rule: Matches whole capital letters in english and tag the word as 'NOUN'.\n",
    "\n",
    "# 4th Rule: Matches words ending with 's' and tag them as 'NOUN' as they can be possessive or plural nouns\n",
    "\n",
    "# 5th Rule: Matches words ending with ed/ing/es/ied/ive/ould and tag them as 'VERB'\n",
    "\n",
    "# 6th Rule: Matches words staring from alphabets and containing numbers to contain address like words and tag them as 'NOUN'\n",
    "\n",
    "# 7th Rule: Matches numbers in any form (integers/float) and tag them as 'NUM'\n",
    "\n",
    "# 8th Rule: Matches words ending with 'ive' or 'iest' and tag them as 'ADJ'\n",
    "\n",
    "# 9th Rule: Matches any word having special characters along with number and tag it as 'X' \n",
    "#           which ideally cannot be assigned to real part of speech category\n",
    "\n",
    "# 10th Rule: If all above regex do not work it , defaultly tags the word as 'NOUN'\n",
    "\n",
    "def rule_based_tagger(word):\n",
    "    patterns = [\n",
    "        \n",
    "        (r'[aA-zZ]+(ously)$', 'ADV'),                   # ending with ously\n",
    "        (r'^[0-9]+(,[0-9]+)*$', 'NUM'),                 # comma separated numbers\n",
    "        (r'^[A-Z]+([a-z]{1,2})?\\.?$','NOUN'),           # English letters capitalization\n",
    "        (r'[aA-zZ]+(\\'s|s)$', 'NOUN'),                  # possessive nouns & plural nouns\n",
    "        (r'[aA-zZ]+(ed|ing|es|ied|ould)$', 'VERB'),     # ending with ed/ing/es/ied/ive/ould\n",
    "        (r'^[aA-zZ].*[0-9]+','NOUN'),                   # address like words which contains house number with street\n",
    "        (r'^-?[0-9]+(.[0-9]+)?$', 'NUM'),               # cardinal numbers, any number\n",
    "        (r'[aA-zZ]+(ive|iest)$', 'ADJ'),                # words ending with ive and iest\n",
    "        (r'^([*0|-|$].*)','X'),                         # Number having special characters *T*-117, 0\n",
    "        (r'.*', 'NOUN')                                 # leftover any word as Noun \n",
    "        \n",
    "    ]\n",
    "    \n",
    "    rule_based_tagger = nltk.RegexpTagger(patterns)    \n",
    "    return rule_based_tagger.tag(word)"
   ]
  },
  {
   "cell_type": "markdown",
   "metadata": {},
   "source": [
    "#### 6.1.2 Modifying Viterbi for rule based tagging"
   ]
  },
  {
   "cell_type": "markdown",
   "metadata": {},
   "source": [
    "<b>Modified Viterbi</b>: The altered viterbi algorithm that handles unknown words(words there in validation set but not in training set) problem .\n",
    "\n",
    "Emission probability becomes zero as the word is not there in training set.Thus based on the state probability i.e. based on maximum of (emmission_probability*transition_probability) for a given word we cannot identify tag of a given word , due to the fact that it will be always zero.\n",
    "\n",
    "- Thus in this first approach we introduce rule based tagging mechanism to enhance the probability of unknown word being correctly tagged."
   ]
  },
  {
   "cell_type": "code",
   "execution_count": 52,
   "metadata": {},
   "outputs": [],
   "source": [
    "# Modified Viterbi Heuristic\n",
    "def Modified_Viterbi_Rule_Based(words, custom_tagger=None):\n",
    "    \n",
    "    state = []\n",
    "    #T = list(set([pair[1] for pair in train_bag]))\n",
    "    \n",
    "    for key, word in enumerate(words):\n",
    "        #initialise list of probability column for a given observation\n",
    "        sp = [] \n",
    "        ep = []\n",
    "        tp = [] \n",
    "        for tag in T:\n",
    "            if key == 0:\n",
    "                #Depicts start of sentence\n",
    "                transition_p = tags_df.loc['.', tag]\n",
    "            else:\n",
    "                transition_p = tags_df.loc[state[-1], tag]\n",
    "                \n",
    "            # compute emission and state probabilities\n",
    "            emission_p = word_given_tag(words[key], tag)[0]/word_given_tag(words[key], tag)[1]\n",
    "            tp.append(transition_p)\n",
    "            ep.append(emission_p)\n",
    "            state_probability = emission_p * transition_p    \n",
    "            sp.append(state_probability)\n",
    "            \n",
    "        max_p = max(sp)\n",
    "        state_max = T[sp.index(max_p)]\n",
    "        #condition for unknown word when state probability becomes zero (as emission probability=0)\n",
    "        if max_p==0.0:\n",
    "            #in case of rule based tagging\n",
    "            if custom_tagger!=None:\n",
    "                state_max=custom_tagger([word])[0][1]\n",
    "        else:\n",
    "            # getting state for which probability is maximum\n",
    "            state_max = T[sp.index(max_p)] \n",
    "        state.append(state_max)\n",
    "    return list(zip(words, state))\n",
    "\n"
   ]
  },
  {
   "cell_type": "markdown",
   "metadata": {},
   "source": [
    "#### 6.1.3 Evaluating on Validation Set and identify incorrect tags"
   ]
  },
  {
   "cell_type": "code",
   "execution_count": 53,
   "metadata": {},
   "outputs": [
    {
     "name": "stdout",
     "output_type": "stream",
     "text": [
      "Time taken in seconds:  1070.4883422851562\n",
      "[('The', 'DET'), ('company', 'NOUN'), ('said', 'VERB'), ('0', 'X'), ('it', 'PRON'), ('is', 'VERB'), ('in', 'ADP'), ('the', 'DET'), ('process', 'NOUN'), ('of', 'ADP'), ('*', 'X'), ('phasing', 'VERB'), ('out', 'PRT'), ('John', 'NOUN'), ('Deere', 'NOUN'), (',', '.'), ('its', 'PRON'), ('current', 'ADJ'), ('source', 'NOUN'), ('of', 'ADP'), ('production', 'NOUN'), ('for', 'ADP'), ('midsized', 'VERB'), ('motor', 'NOUN'), ('home', 'NOUN'), ('chassis', 'NOUN'), ('.', '.'), ('Douglas', 'NOUN'), ('Madison', 'NOUN'), (',', '.'), ('a', 'DET'), ('corporate', 'ADJ'), ('trader', 'NOUN'), ('with', 'ADP'), ('Bank', 'NOUN'), ('of', 'ADP'), ('America', 'NOUN'), ('in', 'ADP'), ('Los', 'NOUN'), ('Angeles', 'NOUN'), (',', '.'), ('traced', 'VERB'), ('the', 'DET'), ('dollar', 'NOUN'), (\"'s\", 'PRT'), ('recent', 'ADJ'), ('solid', 'ADJ'), ('performance', 'NOUN'), ('against', 'ADP'), ('the', 'DET'), ('yen', 'NOUN'), ('to', 'PRT'), ('purchases', 'NOUN'), ('of', 'ADP'), ('securities', 'NOUN'), ('by', 'ADP'), ('Japanese', 'ADJ'), ('insurance', 'NOUN'), ('companies', 'NOUN'), ('and', 'CONJ'), ('trust', 'NOUN'), ('banks', 'NOUN'), ('and', 'CONJ'), ('the', 'DET'), ('sense', 'NOUN'), ('that', 'ADP'), ('another', 'DET'), ('wave', 'NOUN'), ('of', 'ADP'), ('investment', 'NOUN'), ('is', 'VERB'), ('waiting', 'VERB'), ('in', 'ADP'), ('the', 'DET'), ('wings', 'NOUN'), ('.', '.'), ('Ralston', 'NOUN'), ('said', 'VERB'), ('0', 'X'), ('its', 'PRON'), ('Eveready', 'NOUN'), ('battery', 'NOUN'), ('unit', 'NOUN'), ('was', 'VERB'), ('hurt', 'VERB'), ('*-1', 'X'), ('by', 'ADP'), ('continuing', 'VERB'), ('economic', 'ADJ'), ('problems', 'NOUN'), ('in', 'ADP'), ('South', 'NOUN'), ('America', 'NOUN'), ('.', '.'), ('A', 'DET'), ('nickname', 'NOUN'), ('for', 'ADP'), ('measures', 'NOUN'), ('0', 'X'), ('*', 'X'), ('to', 'PRT'), ('stop', 'VERB'), ('the', 'DET'), ('market', 'NOUN'), ('from', 'ADP'), ('*-2', 'X'), ('plunging', 'VERB'), ('too', 'ADV'), ('far', 'ADV'), ('too', 'ADV'), ('fast', 'ADV'), ('*T*-1', 'X'), ('.', '.'), ('IBM', 'NOUN'), (',', '.'), ('the', 'DET'), ('world', 'NOUN'), ('leader', 'NOUN'), ('in', 'ADP'), ('computers', 'NOUN'), (',', '.'), ('did', 'VERB'), (\"n't\", 'ADV'), ('offer', 'VERB'), ('its', 'PRON'), ('first', 'ADJ'), ('PC', 'NOUN'), ('until', 'ADP'), ('August', 'NOUN'), ('1981', 'NUM'), ('as', 'ADP'), ('many', 'ADJ'), ('other', 'ADJ'), ('companies', 'NOUN'), ('entered', 'VERB'), ('the', 'DET'), ('market', 'NOUN'), ('.', '.'), ('Midwest', 'NOUN'), ('Financial', 'NOUN'), ('has', 'VERB'), ('$', '.'), ('2.3', 'NUM'), ('billion', 'NUM'), ('*U*', 'X'), ('in', 'ADP'), ('assets', 'NOUN'), ('and', 'CONJ'), ('eight', 'NUM'), ('banks', 'NOUN'), ('.', '.'), ('Mr.', 'NOUN'), ('Lane', 'NOUN'), (\"'s\", 'PRT'), ('final', 'ADJ'), ('purpose', 'NOUN'), ('is', 'VERB'), (\"n't\", 'ADV'), ('*-1', 'X'), ('to', 'PRT'), ('glamorize', 'NOUN'), ('the', 'DET'), ('Artist', 'NOUN'), (\"'s\", 'PRT'), ('vagabond', 'NOUN'), ('existence', 'NOUN'), ('.', '.'), ('In', 'ADP'), ('*-2', 'X'), ('ending', 'VERB'), ('Hungary', 'NOUN'), (\"'s\", 'PRT'), ('part', 'NOUN'), ('of', 'ADP'), ('the', 'DET'), ('project', 'NOUN'), (',', '.'), ('Parliament', 'NOUN'), ('authorized', 'VERB'), ('Prime', 'NOUN'), ('Minister', 'NOUN'), ('Miklos', 'NOUN'), ('Nemeth', 'NOUN'), ('to', 'PRT'), ('modify', 'VERB'), ('a', 'DET'), ('1977', 'NUM'), ('agreement', 'NOUN'), ('with', 'ADP'), ('Czechoslovakia', 'NOUN'), (',', '.'), ('which', 'DET'), ('*T*-64', 'X'), ('still', 'ADV'), ('wants', 'VERB'), ('the', 'DET'), ('dam', 'NOUN'), ('to', 'PRT'), ('be', 'VERB'), ('built', 'VERB'), ('*-1', 'X'), ('.', '.'), ('He', 'PRON'), ('added', 'VERB'), (',', '.'), ('``', '.'), ('This', 'DET'), ('has', 'VERB'), ('nothing', 'NOUN'), ('0', 'X'), ('*', 'X'), ('to', 'PRT'), ('do', 'VERB'), ('*T*-1', 'X'), ('with', 'ADP'), ('Marty', 'NOUN'), ('Ackerman', 'NOUN'), ('and', 'CONJ'), ('it', 'PRON'), ('is', 'VERB'), ('not', 'ADV'), ('designed', 'VERB'), (',', '.'), ('particularly', 'ADV'), (',', '.'), ('*-2', 'X'), ('to', 'PRT'), ('take', 'VERB'), ('the', 'DET'), ('company', 'NOUN'), ('private', 'ADJ'), ('.', '.'), (\"''\", '.'), ('U.S.', 'NOUN'), ('News', 'NOUN'), (\"'\", 'PRT'), ('circulation', 'NOUN'), ('in', 'ADP'), ('the', 'DET'), ('same', 'ADJ'), ('time', 'NOUN'), ('was', 'VERB'), ('2,303,328', 'NUM'), (',', '.'), ('down', 'ADV'), ('2.6', 'NUM'), ('%', 'NOUN'), ('.', '.'), ('A', 'DET'), ('free', 'ADJ'), ('market', 'NOUN'), ('with', 'ADP'), ('a', 'DET'), ('profit', 'NOUN'), ('motive', 'NOUN'), ('will', 'VERB'), ('attract', 'VERB'), ('each', 'DET'), ('investor', 'NOUN'), ('to', 'PRT'), ('the', 'DET'), ('liquidity', 'NOUN'), ('and', 'CONJ'), ('risks', 'NOUN'), ('0', 'X'), ('he', 'PRON'), ('can', 'VERB'), ('tolerate', 'VERB'), ('*T*-1', 'X'), ('.', '.'), ('In', 'ADP'), ('an', 'DET'), ('eight-count', 'NOUN'), ('indictment', 'NOUN'), (',', '.'), ('the', 'DET'), ('government', 'NOUN'), ('has', 'VERB'), ('charged', 'VERB'), ('GAF', 'NOUN'), (',', '.'), ('a', 'DET'), ('Wayne', 'NOUN'), (',', '.'), ('N.J.', 'NOUN'), (',', '.'), ('specialty', 'NOUN'), ('chemical', 'NOUN'), ('maker', 'NOUN'), (',', '.'), ('and', 'CONJ'), ('its', 'PRON'), ('Vice', 'NOUN'), ('Chairman', 'NOUN'), ('James', 'NOUN'), ('T.', 'NOUN'), ('Sherwin', 'NOUN'), ('with', 'ADP'), ('*-2', 'X'), ('attempting', 'VERB'), ('*-1', 'X'), ('to', 'PRT'), ('manipulate', 'NOUN'), ('the', 'DET'), ('common', 'ADJ'), ('stock', 'NOUN'), ('of', 'ADP'), ('Union', 'NOUN'), ('Carbide', 'NOUN'), ('Corp.', 'NOUN'), ('in', 'ADP'), ('advance', 'NOUN'), ('of', 'ADP'), ('GAF', 'NOUN'), (\"'s\", 'PRT'), ('planned', 'VERB'), ('sale', 'NOUN'), ('of', 'ADP'), ('a', 'DET'), ('large', 'ADJ'), ('block', 'NOUN'), ('of', 'ADP'), ('the', 'DET'), ('stock', 'NOUN'), ('in', 'ADP'), ('November', 'NOUN'), ('1986', 'NUM'), ('.', '.'), ('The', 'DET'), ('Michigan', 'NOUN'), ('Democrat', 'NOUN'), (\"'s\", 'PRT'), ('proposal', 'NOUN'), (',', '.'), ('which', 'DET'), ('*T*-4', 'X'), ('is', 'VERB'), ('expected', 'VERB'), ('*-2', 'X'), ('today', 'NOUN'), (',', '.'), ('is', 'VERB'), ('described', 'VERB'), ('*-1', 'X'), ('by', 'ADP'), ('government', 'NOUN'), ('sources', 'NOUN'), ('and', 'CONJ'), ('lobbyists', 'NOUN'), ('as', 'ADP'), ('significantly', 'ADV'), ('weaker', 'ADJ'), ('than', 'ADP'), ('the', 'DET'), ('Bush', 'NOUN'), ('administration', 'NOUN'), (\"'s\", 'PRT'), ('plan', 'NOUN'), ('*', 'X'), ('to', 'PRT'), ('cut', 'VERB'), ('utility', 'NOUN'), ('emissions', 'NOUN'), ('that', 'ADP'), ('*T*-3', 'X'), ('lead', 'VERB'), ('to', 'PRT'), ('acid', 'ADJ'), ('rain', 'NOUN'), ('.', '.'), ('For', 'ADP'), ('1988', 'NUM'), (',', '.'), ('Commonwealth', 'NOUN'), ('Edison', 'NOUN'), ('reported', 'VERB'), ('earnings', 'NOUN'), ('of', 'ADP'), ('$', '.'), ('737.5', 'NUM'), ('million', 'NUM'), ('*U*', 'X'), (',', '.'), ('or', 'CONJ'), ('$', '.'), ('3.01', 'NUM'), ('*U*', 'X'), ('a', 'DET'), ('share', 'NOUN'), ('.', '.'), ('A', 'DET'), ('spokeswoman', 'NOUN'), ('for', 'ADP'), ('Crum', 'NOUN'), ('&', 'CONJ'), ('Forster', 'NOUN'), ('said', 'VERB'), ('0', 'X'), ('employees', 'NOUN'), ('were', 'VERB'), ('told', 'VERB'), ('*-1', 'X'), ('early', 'ADV'), ('this', 'DET'), ('week', 'NOUN'), ('that', 'ADP'), ('numerous', 'ADJ'), ('staff', 'NOUN'), ('functions', 'NOUN'), ('for', 'ADP'), ('the', 'DET'), ('personal', 'ADJ'), ('insurance', 'NOUN'), ('lines', 'NOUN'), ('were', 'VERB'), ('going', 'VERB'), ('*-3', 'X'), ('to', 'PRT'), ('be', 'VERB'), ('centralized', 'VERB'), ('*-2', 'X'), ('as', 'ADP'), ('a', 'DET'), ('cost-cutting', 'ADJ'), ('move', 'NOUN'), ('.', '.'), ('``', '.'), ('We', 'PRON'), ('feel', 'VERB'), ('very', 'ADV'), ('strongly', 'ADV'), ('that', 'ADP'), ('we', 'PRON'), ('really', 'ADV'), ('need', 'VERB'), ('action', 'NOUN'), ('across', 'ADP'), ('the', 'DET'), ('full', 'ADJ'), ('range', 'NOUN'), ('of', 'ADP'), ('issues', 'NOUN'), ('0', 'X'), ('we', 'PRON'), (\"'ve\", 'VERB'), ('identified', 'VERB'), ('*T*-1', 'X'), (',', '.'), ('and', 'CONJ'), ('we', 'PRON'), ('need', 'VERB'), ('it', 'PRON'), ('by', 'ADP'), ('next', 'ADJ'), ('spring', 'NOUN'), (',', '.'), (\"''\", '.'), ('Mr.', 'NOUN'), ('Dallara', 'NOUN'), ('says', 'VERB'), ('*T*-2', 'X'), ('.', '.'), ('On', 'ADP'), ('the', 'DET'), ('one', 'NUM'), ('hand', 'NOUN'), (',', '.'), ('Brazil', 'NOUN'), ('started', 'VERB'), ('an', 'DET'), ('ethanol', 'NOUN'), ('program', 'NOUN'), ('about', 'ADP'), ('15', 'NUM'), ('years', 'NOUN'), ('ago', 'ADP'), ('*-1', 'X'), ('to', 'PRT'), ('fuel', 'NOUN'), ('a', 'DET'), ('huge', 'ADJ'), ('portion', 'NOUN'), ('of', 'ADP'), ('its', 'PRON'), ('national', 'ADJ'), ('fleet', 'NOUN'), ('of', 'ADP'), ('cars', 'NOUN'), ('and', 'CONJ'), ('is', 'VERB'), ('now', 'ADV'), ('committed', 'VERB'), ('to', 'PRT'), ('this', 'DET'), ('program', 'NOUN'), ('.', '.'), ('Crane', 'NOUN'), ('&', 'CONJ'), ('Co.', 'NOUN'), ('Securities', 'NOUN'), ('Inc.', 'NOUN'), (',', '.'), ('of', 'ADP'), ('Mount', 'NOUN'), ('Clemens', 'NOUN'), (',', '.'), ('Mich.', 'NOUN'), (',', '.'), ('and', 'CONJ'), ('its', 'PRON'), ('president', 'NOUN'), (',', '.'), ('Glenn', 'NOUN'), ('R.', 'NOUN'), ('Crane', 'NOUN'), (',', '.'), ('of', 'ADP'), ('Sterling', 'NOUN'), ('Heights', 'NOUN'), (',', '.'), ('Mich.', 'NOUN'), (',', '.'), ('consented', 'VERB'), ('to', 'PRT'), ('a', 'DET'), ('joint', 'ADJ'), ('fine', 'NOUN'), ('of', 'ADP'), ('$', '.'), ('10,000', 'NUM'), ('*U*', 'X'), ('.', '.'), ('Columbia', 'NOUN'), ('Savings', 'NOUN'), ('&', 'CONJ'), ('Loan', 'NOUN'), ('-LRB-', '.'), ('NYSE', 'NOUN'), (';', '.'), ('Symbol', 'NOUN'), (':', '.'), ('CSV', 'NOUN'), ('-RRB-', '.'), ('Ketchum', 'NOUN'), ('Communications', 'NOUN'), (',', '.'), ('Pittsburgh', 'NOUN'), (',', '.'), ('acquired', 'VERB'), ('Braun', 'NOUN'), ('&', 'CONJ'), ('Co.', 'NOUN'), (',', '.'), ('a', 'DET'), ('Los', 'NOUN'), ('Angeles', 'NOUN'), ('investor-relations', 'NOUN'), ('and', 'CONJ'), ('marketing-communications', 'NOUN'), ('firm', 'NOUN'), ('.', '.'), ('The', 'DET'), ('next', 'ADJ'), ('morning', 'NOUN'), (',', '.'), ('with', 'ADP'), ('a', 'DET'), ('police', 'NOUN'), ('escort', 'NOUN'), (',', '.'), ('busloads', 'NOUN'), ('of', 'ADP'), ('executives', 'NOUN'), ('and', 'CONJ'), ('their', 'PRON'), ('wives', 'NOUN'), ('raced', 'VERB'), ('to', 'PRT'), ('the', 'DET'), ('Indianapolis', 'NOUN'), ('Motor', 'NOUN'), ('Speedway', 'NOUN'), (',', '.'), ('*-1', 'X'), ('unimpeded', 'VERB'), ('by', 'ADP'), ('traffic', 'NOUN'), ('or', 'CONJ'), ('red', 'ADJ'), ('lights', 'NOUN'), ('.', '.'), ('We', 'PRON'), ('must', 'VERB'), ('be', 'VERB'), ('very', 'ADV'), ('cautious', 'ADJ'), ('about', 'ADP'), ('*', 'X'), ('labeling', 'VERB'), ('investors', 'NOUN'), ('as', 'ADP'), ('``', '.'), ('long-term', 'ADJ'), (\"''\", '.'), ('or', 'CONJ'), ('``', '.'), ('short-term', 'ADJ'), ('.', '.'), (\"''\", '.'), ('And', 'CONJ'), ('an', 'DET'), ('FT-SE', 'NOUN'), ('futures', 'NOUN'), ('contract', 'NOUN'), ('is', 'VERB'), ('traded', 'VERB'), ('*-1', 'X'), ('on', 'ADP'), ('the', 'DET'), ('London', 'NOUN'), ('International', 'NOUN'), ('Financial', 'NOUN'), ('Futures', 'NOUN'), ('Exchange', 'NOUN'), ('.', '.'), ('But', 'CONJ'), ('when', 'ADV'), ('the', 'DET'), ('contract', 'NOUN'), ('reopened', 'VERB'), ('*T*-1', 'X'), (',', '.'), ('the', 'DET'), ('subsequent', 'NOUN'), ('flood', 'NOUN'), ('of', 'ADP'), ('sell', 'NOUN'), ('orders', 'NOUN'), ('that', 'ADP'), ('*T*-211', 'X'), ('quickly', 'ADV'), ('knocked', 'VERB'), ('the', 'DET'), ('contract', 'NOUN'), ('down', 'ADP'), ('to', 'PRT'), ('the', 'DET'), ('30-point', 'ADJ'), ('limit', 'NOUN'), ('indicated', 'VERB'), ('that', 'ADP'), ('the', 'DET'), ('intermediate', 'NOUN'), ('limit', 'NOUN'), ('of', 'ADP'), ('20', 'NUM'), ('points', 'NOUN'), ('was', 'VERB'), ('needed', 'VERB'), ('*-128', 'X'), ('*-128', 'X'), ('to', 'PRT'), ('help', 'VERB'), ('keep', 'VERB'), ('stock', 'NOUN'), ('and', 'CONJ'), ('stock-index', 'ADJ'), ('futures', 'NOUN'), ('prices', 'NOUN'), ('synchronized', 'VERB'), ('.', '.'), ('I', 'PRON'), ('feel', 'VERB'), ('pretty', 'ADV'), ('good', 'ADJ'), ('about', 'ADP'), ('it', 'PRON'), ('.', '.'), ('Proper', 'NOUN'), ('English', 'NOUN'), ('bells', 'NOUN'), ('are', 'VERB'), ('started', 'VERB'), ('*-1', 'X'), ('off', 'PRT'), ('in', 'ADP'), ('``', '.'), ('rounds', 'NOUN'), (',', '.'), (\"''\", '.'), ('from', 'ADP'), ('the', 'DET'), ('highest-pitched', 'NOUN'), ('bell', 'NOUN'), ('to', 'PRT'), ('the', 'DET'), ('lowest', 'ADJ'), ('--', '.'), ('a', 'DET'), ('simple', 'ADJ'), ('descending', 'VERB'), ('scale', 'NOUN'), ('using', 'VERB'), (',', '.'), ('in', 'ADP'), ('larger', 'ADJ'), ('churches', 'NOUN'), (',', '.'), ('as', 'ADP'), ('many', 'ADJ'), ('as', 'ADP'), ('12', 'NUM'), ('bells', 'NOUN'), ('.', '.'), ('The', 'DET'), ('offer', 'NOUN'), ('is', 'VERB'), ('being', 'VERB'), ('launched', 'VERB'), ('*-45', 'X'), ('pursuant', 'ADJ'), ('to', 'PRT'), ('a', 'DET'), ('previously', 'ADV'), ('announced', 'VERB'), ('agreement', 'NOUN'), ('between', 'ADP'), ('the', 'DET'), ('companies', 'NOUN'), ('.', '.'), ('Traders', 'NOUN'), ('said', 'VERB'), ('0', 'X'), ('prices', 'NOUN'), ('also', 'ADV'), ('were', 'VERB'), ('supported', 'VERB'), ('*-1', 'X'), ('by', 'ADP'), ('widespread', 'ADJ'), ('rumors', 'NOUN'), ('that', 'ADP'), ('the', 'DET'), ('Soviet', 'ADJ'), ('Union', 'NOUN'), ('is', 'VERB'), ('on', 'ADP'), ('the', 'DET'), ('verge', 'NOUN'), ('of', 'ADP'), ('*', 'X'), ('receiving', 'VERB'), ('most', 'ADV'), ('favored', 'VERB'), ('nation', 'NOUN'), ('status', 'NOUN'), ('from', 'ADP'), ('the', 'DET'), ('U.S.', 'NOUN'), ('.', '.'), ('``', '.'), ('The', 'DET'), ('USIA', 'NOUN'), ('officially', 'ADV'), ('and', 'CONJ'), ('publicly', 'ADV'), ('declared', 'VERB'), ('the', 'DET'), ('absolute', 'NOUN'), ('right', 'NOUN'), ('*ICH*-2', 'X'), ('of', 'ADP'), ('everyone', 'NOUN'), ('except', 'ADP'), ('the', 'DET'), ('USIA', 'NOUN'), ('*', 'X'), ('to', 'PRT'), ('disseminate', 'NOUN'), ('agency', 'NOUN'), ('program', 'NOUN'), ('materials', 'NOUN'), ('in', 'ADP'), ('the', 'DET'), ('United', 'NOUN'), ('States', 'NOUN'), (',', '.'), (\"''\", '.'), ('my', 'PRON'), ('lawyer', 'NOUN'), (',', '.'), ('the', 'DET'), ('scholarly', 'NOUN'), ('Mark', 'NOUN'), ('McCormick', 'NOUN'), ('of', 'ADP'), ('Des', 'NOUN'), ('Moines', 'NOUN'), (',', '.'), ('said', 'VERB'), ('*T*-1', 'X'), ('in', 'ADP'), ('a', 'DET'), ('memo', 'NOUN'), ('pointing', 'VERB'), ('out', 'PRT'), ('the', 'DET'), ('facts', 'NOUN'), ('and', 'CONJ'), ('trying', 'VERB'), ('*', 'X'), ('to', 'PRT'), ('make', 'VERB'), ('me', 'PRON'), ('feel', 'VERB'), ('good', 'ADJ'), ('after', 'ADP'), ('the', 'DET'), ('press', 'NOUN'), ('reported', 'VERB'), ('that', 'ADP'), ('I', 'PRON'), ('had', 'VERB'), ('lost', 'VERB'), ('.', '.'), ('Federal', 'NOUN'), ('judges', 'NOUN'), ('make', 'VERB'), ('$', '.'), ('89,500', 'NUM'), ('*U*', 'X'), ('annually', 'ADV'), (';', '.'), ('in', 'ADP'), ('February', 'NOUN'), (',', '.'), ('Congress', 'NOUN'), ('rejected', 'VERB'), ('a', 'DET'), ('bill', 'NOUN'), ('that', 'ADP'), ('*T*-1', 'X'), ('would', 'VERB'), ('have', 'VERB'), ('increased', 'VERB'), ('their', 'PRON'), ('pay', 'VERB'), ('by', 'ADP'), ('50', 'NUM'), ('%', 'NOUN'), ('.', '.'), ('*-1', 'X'), ('Bucking', 'VERB'), ('the', 'DET'), ('market', 'NOUN'), ('trend', 'NOUN'), (',', '.'), ('an', 'DET'), ('issue', 'NOUN'), ('of', 'ADP'), ('$', '.'), ('130', 'NUM'), ('million', 'NUM'), ('*U*', 'X'), ('general', 'ADJ'), ('obligation', 'NOUN'), ('distributable', 'ADJ'), ('state', 'NOUN'), ('aid', 'NOUN'), ('bonds', 'NOUN'), ('from', 'ADP'), ('Detroit', 'NOUN'), (',', '.'), ('Mich.', 'NOUN'), (',', '.'), ('apparently', 'ADV'), ('drew', 'NOUN'), ('solid', 'ADJ'), ('investor', 'NOUN'), ('interest', 'NOUN'), ('.', '.'), ('The', 'DET'), ('Chinese', 'ADJ'), ('responded', 'VERB'), ('in', 'ADP'), ('an', 'DET'), ('equally', 'ADV'), ('undiplomatic', 'NOUN'), ('fashion', 'NOUN'), ('.', '.'), ('The', 'DET'), ('Soviet', 'ADJ'), ('Union', 'NOUN'), ('usually', 'ADV'), ('begins', 'VERB'), ('*-1', 'X'), ('buying', 'VERB'), ('U.S.', 'NOUN'), ('crops', 'NOUN'), ('earlier', 'ADV'), ('in', 'ADP'), ('the', 'DET'), ('fall', 'NOUN'), ('.', '.'), ('On', 'ADP'), ('the', 'DET'), ('other', 'ADJ'), ('hand', 'NOUN'), (',', '.'), ('if', 'ADP'), ('it', 'PRON'), ('goes', 'VERB'), ('way', 'NOUN'), ('sky', 'NOUN'), ('high', 'ADJ'), (',', '.'), ('I', 'PRON'), ('always', 'ADV'), ('sell', 'VERB'), ('.', '.'), ('The', 'DET'), ('fact', 'NOUN'), ('that', 'ADP'), ('New', 'NOUN'), ('England', 'NOUN'), ('proposed', 'VERB'), ('lower', 'ADJ'), ('rate', 'NOUN'), ('increases', 'NOUN'), ('--', '.'), ('4.8', 'NUM'), ('%', 'NOUN'), ('*U*', 'X'), ('over', 'ADP'), ('seven', 'NUM'), ('years', 'NOUN'), ('against', 'ADP'), ('around', 'ADP'), ('5.5', 'NUM'), ('%', 'NOUN'), ('boosts', 'VERB'), ('proposed', 'VERB'), ('*', 'X'), ('by', 'ADP'), ('the', 'DET'), ('other', 'ADJ'), ('two', 'NUM'), ('outside', 'ADJ'), ('bidders', 'NOUN'), ('--', '.'), ('complicated', 'ADJ'), ('negotiations', 'NOUN'), ('with', 'ADP'), ('state', 'NOUN'), ('officials', 'NOUN'), (',', '.'), ('Mr.', 'NOUN'), ('Ross', 'NOUN'), ('asserted', 'VERB'), ('0', 'X'), ('*T*-1', 'X'), ('.', '.'), ('New', 'NOUN'), ('rules', 'NOUN'), ('force', 'NOUN'), ('thrifts', 'NOUN'), ('to', 'PRT'), ('write', 'VERB'), ('down', 'ADV'), ('their', 'PRON'), ('junk', 'NOUN'), ('to', 'PRT'), ('market', 'NOUN'), ('value', 'NOUN'), (',', '.'), ('then', 'ADV'), ('sell', 'VERB'), ('the', 'DET'), ('bonds', 'NOUN'), ('over', 'ADP'), ('five', 'NUM'), ('years', 'NOUN'), ('.', '.'), ('They', 'PRON'), ('are', 'VERB'), (\"n't\", 'ADV'), ('accepted', 'VERB'), ('*-1', 'X'), ('everywhere', 'ADV'), (',', '.'), ('however', 'ADV'), ('.', '.'), ('James', 'NOUN'), ('Mason', 'NOUN'), (',', '.'), ('assistant', 'NOUN'), ('secretary', 'NOUN'), ('for', 'ADP'), ('health', 'NOUN'), (',', '.'), ('said', 'VERB'), ('0', 'X'), ('the', 'DET'), ('ban', 'NOUN'), ('on', 'ADP'), ('federal', 'ADJ'), ('funding', 'NOUN'), ('of', 'ADP'), ('fetal-tissue', 'ADJ'), ('transplant', 'NOUN'), ('research', 'NOUN'), ('``', '.'), ('should', 'VERB'), ('be', 'VERB'), ('continued', 'VERB'), ('*-1', 'X'), ('indefinitely', 'ADV'), ('.', '.'), (\"''\", '.'), ('Mr.', 'NOUN'), ('Watson', 'NOUN'), ('says', 'VERB'), ('0', 'X'), ('Mrs.', 'NOUN'), ('Yeargin', 'NOUN'), ('never', 'ADV'), ('complained', 'VERB'), ('to', 'PRT'), ('school', 'NOUN'), ('officials', 'NOUN'), ('that', 'ADP'), ('the', 'DET'), ('standardized', 'ADJ'), ('test', 'NOUN'), ('was', 'VERB'), ('unfair', 'ADJ'), ('.', '.'), ('Trinity', 'NOUN'), ('Industries', 'NOUN'), ('Inc.', 'NOUN'), ('said', 'VERB'), ('0', 'X'), ('it', 'PRON'), ('reached', 'VERB'), ('a', 'DET'), ('preliminary', 'ADJ'), ('agreement', 'NOUN'), ('*', 'X'), ('to', 'PRT'), ('sell', 'VERB'), ('500', 'NUM'), ('railcar', 'NOUN'), ('platforms', 'NOUN'), ('to', 'PRT'), ('Trailer', 'NOUN'), ('Train', 'NOUN'), ('Co.', 'NOUN'), ('of', 'ADP'), ('Chicago', 'NOUN'), ('.', '.'), ('Mr.', 'NOUN'), ('Leming', 'NOUN'), ('was', 'VERB'), (\"n't\", 'ADV'), ('surprised', 'VERB'), ('*-1', 'X'), ('by', 'ADP'), ('the', 'DET'), ('lower', 'ADJ'), ('price', 'NOUN'), ('cited', 'VERB'), ('*', 'X'), ('by', 'ADP'), ('NL', 'NOUN'), (',', '.'), ('*-1', 'X'), ('saying', 'VERB'), ('0', 'X'), ('he', 'PRON'), ('believes', 'VERB'), ('that', 'ADP'), ('$', '.'), ('55', 'NUM'), ('*U*', 'X'), ('a', 'DET'), ('share', 'NOUN'), ('is', 'VERB'), ('``', '.'), ('the', 'DET'), ('most', 'ADJ'), ('0', 'X'), ('you', 'PRON'), ('can', 'VERB'), ('pay', 'VERB'), ('*T*-2', 'X'), ('for', 'ADP'), ('Georgia', 'NOUN'), ('Gulf', 'NOUN'), ('before', 'ADP'), ('it', 'PRON'), ('becomes', 'VERB'), ('a', 'DET'), ('bad', 'ADJ'), ('acquisition', 'NOUN'), ('.', '.'), (\"''\", '.'), ('``', '.'), ('U.S.', 'NOUN'), ('investors', 'NOUN'), ('should', 'VERB'), ('have', 'VERB'), ('a', 'DET'), ('greater', 'ADJ'), ('opportunity', 'NOUN'), ('at', 'ADP'), ('direct', 'ADJ'), ('investment', 'NOUN'), (\"''\", '.'), ('in', 'ADP'), ('Japan', 'NOUN'), ('.', '.'), ('After', 'ADP'), ('the', 'DET'), ('first', 'ADJ'), ('set', 'NOUN'), ('of', 'ADP'), ('meetings', 'NOUN'), ('two', 'NUM'), ('months', 'NOUN'), ('ago', 'ADP'), (',', '.'), ('some', 'DET'), ('U.S.', 'NOUN'), ('officials', 'NOUN'), ('complained', 'VERB'), ('that', 'ADP'), ('Japan', 'NOUN'), ('had', 'VERB'), (\"n't\", 'ADV'), ('come', 'VERB'), ('up', 'ADV'), ('with', 'ADP'), ('specific', 'ADJ'), ('changes', 'NOUN'), ('0', 'X'), ('it', 'PRON'), ('was', 'VERB'), ('prepared', 'VERB'), ('*-1', 'X'), ('to', 'PRT'), ('make', 'VERB'), ('*T*-2', 'X'), ('.', '.'), ('That', 'DET'), ('was', 'VERB'), ('partially', 'ADV'), ('offset', 'VERB'), ('*-1', 'X'), ('by', 'ADP'), ('the', 'DET'), ('resumption', 'NOUN'), ('of', 'ADP'), ('space', 'NOUN'), ('shuttle', 'NOUN'), ('flights', 'NOUN'), ('and', 'CONJ'), ('increased', 'VERB'), ('demand', 'NOUN'), ('for', 'ADP'), ('expendable', 'NOUN'), ('launch-vehicle', 'NOUN'), ('engines', 'NOUN'), ('.', '.'), ('Net', 'ADJ'), ('is', 'VERB'), ('expected', 'VERB'), ('*-1', 'X'), ('to', 'PRT'), ('rise', 'VERB'), ('to', 'PRT'), ('17', 'NUM'), ('billion', 'NUM'), ('yen', 'NOUN'), ('from', 'ADP'), ('12.82', 'NUM'), ('billion', 'NUM'), ('yen', 'NOUN'), ('a', 'DET'), ('year', 'NOUN'), ('earlier', 'ADV'), ('.', '.'), ('But', 'CONJ'), ('voters', 'NOUN'), ('decided', 'VERB'), ('that', 'ADP'), ('if', 'ADP'), ('the', 'DET'), ('stadium', 'NOUN'), ('was', 'VERB'), ('such', 'ADJ'), ('a', 'DET'), ('good', 'ADJ'), ('idea', 'NOUN'), ('someone', 'NOUN'), ('would', 'VERB'), ('build', 'VERB'), ('it', 'PRON'), ('himself', 'PRON'), (',', '.'), ('and', 'CONJ'), ('rejected', 'VERB'), ('it', 'PRON'), ('59', 'NUM'), ('%', 'NOUN'), ('to', 'PRT'), ('41', 'NUM'), ('%', 'NOUN'), ('*U*', 'X'), ('.', '.'), ('Bank', 'NOUN'), ('of', 'ADP'), ('New', 'NOUN'), ('England', 'NOUN'), (\"'s\", 'PRT'), ('shares', 'NOUN'), ('are', 'VERB'), ('traded', 'VERB'), ('*-1', 'X'), ('on', 'ADP'), ('the', 'DET'), ('New', 'NOUN'), ('York', 'NOUN'), ('Stock', 'NOUN'), ('Exchange', 'NOUN'), ('.', '.'), ('Revenue', 'NOUN'), ('rose', 'VERB'), ('42', 'NUM'), ('%', 'NOUN'), ('to', 'PRT'), ('$', '.'), ('133.7', 'NUM'), ('million', 'NUM'), ('*U*', 'X'), ('from', 'ADP'), ('$', '.'), ('94', 'NUM'), ('million', 'NUM'), ('*U*', 'X'), ('.', '.'), ('Williams', 'NOUN'), ('shares', 'NOUN'), (',', '.'), ('which', 'DET'), ('*T*-2', 'X'), ('were', 'VERB'), ('*-2', 'X'), ('to', 'PRT'), ('be', 'VERB'), ('delisted', 'VERB'), ('*-1', 'X'), ('from', 'ADP'), ('the', 'DET'), ('New', 'NOUN'), ('York', 'NOUN'), ('Stock', 'NOUN'), ('Exchange', 'NOUN'), ('after', 'ADP'), ('the', 'DET'), ('close', 'NOUN'), ('of', 'ADP'), ('composite', 'ADJ'), ('trading', 'NOUN'), ('yesterday', 'NOUN'), (',', '.'), ('closed', 'VERB'), ('at', 'ADP'), ('$', '.'), ('23.25', 'NUM'), ('*U*', 'X'), (',', '.'), ('off', 'ADP'), ('12.5', 'NUM'), ('cents', 'NOUN'), ('.', '.'), ('TREASURY', 'NOUN'), ('BILLS', 'NOUN'), (':', '.'), ('Results', 'NOUN'), ('of', 'ADP'), ('the', 'DET'), ('Monday', 'NOUN'), (',', '.'), ('October', 'NOUN'), ('30', 'NUM'), (',', '.'), ('1989', 'NUM'), (',', '.'), ('auction', 'NOUN'), ('of', 'ADP'), ('short-term', 'ADJ'), ('U.S.', 'NOUN'), ('government', 'NOUN'), ('bills', 'NOUN'), (',', '.'), ('sold', 'VERB'), ('*', 'X'), ('at', 'ADP'), ('a', 'DET'), ('discount', 'NOUN'), ('from', 'ADP'), ('face', 'NOUN'), ('value', 'NOUN'), ('in', 'ADP'), ('units', 'NOUN'), ('of', 'ADP'), ('$', '.'), ('10,000', 'NUM'), ('to', 'PRT'), ('$', '.'), ('1', 'NUM'), ('million', 'NUM'), ('*U*', 'X'), (':', '.'), ('7.78', 'NUM'), ('%', 'NOUN'), ('13', 'NUM'), ('weeks', 'NOUN'), (';', '.'), ('7.62', 'NUM'), ('%', 'NOUN'), ('26', 'NUM'), ('weeks', 'NOUN'), ('.', '.'), ('*-1', 'X'), ('Stung', 'VERB'), ('by', 'ADP'), ('charges', 'NOUN'), ('that', 'ADP'), ('their', 'PRON'), ('greed', 'NOUN'), ('is', 'VERB'), ('turning', 'VERB'), ('the', 'DET'), ('stock', 'NOUN'), ('market', 'NOUN'), ('into', 'ADP'), ('a', 'DET'), ('gigantic', 'NOUN'), ('crapshoot', 'NOUN'), (',', '.'), ('almost', 'ADV'), ('all', 'DET'), ('the', 'DET'), ('big', 'ADJ'), ('investment', 'NOUN'), ('banking', 'NOUN'), ('houses', 'NOUN'), ('have', 'VERB'), ('abandoned', 'VERB'), ('index', 'NOUN'), ('arbitrage', 'NOUN'), (',', '.'), ('a', 'DET'), ('common', 'ADJ'), ('form', 'NOUN'), ('of', 'ADP'), ('program', 'NOUN'), ('trading', 'NOUN'), (',', '.'), ('for', 'ADP'), ('their', 'PRON'), ('own', 'ADJ'), ('accounts', 'NOUN'), ('in', 'ADP'), ('the', 'DET'), ('past', 'ADJ'), ('few', 'ADJ'), ('days', 'NOUN'), ('.', '.'), ('One', 'NUM'), ('analyst', 'NOUN'), (',', '.'), ('Arthur', 'NOUN'), ('Stevenson', 'NOUN'), (',', '.'), ('of', 'ADP'), ('Prudential-Bache', 'NOUN'), ('Securities', 'NOUN'), (',', '.'), ('New', 'NOUN'), ('York', 'NOUN'), (',', '.'), ('estimated', 'VERB'), ('that', 'ADP'), ('65', 'NUM'), ('%', 'NOUN'), ('or', 'CONJ'), ('more', 'ADJ'), ('of', 'ADP'), ('Brazil', 'NOUN'), (\"'s\", 'PRT'), ('newly', 'ADV'), ('made', 'VERB'), ('automobiles', 'NOUN'), ('run', 'VERB'), ('on', 'ADP'), ('alcohol', 'NOUN'), ('and', 'CONJ'), ('ca', 'VERB'), (\"n't\", 'ADV'), ('use', 'VERB'), ('gasoline', 'NOUN'), ('.', '.'), ('Sales', 'NOUN'), ('were', 'VERB'), ('roughly', 'ADV'), ('flat', 'ADJ'), ('in', 'ADP'), ('the', 'DET'), ('1989', 'NUM'), ('model', 'NOUN'), ('year', 'NOUN'), ('compared', 'VERB'), ('with', 'ADP'), ('a', 'DET'), ('year', 'NOUN'), ('earlier', 'ADV'), (',', '.'), ('though', 'ADP'), ('industry', 'NOUN'), ('sales', 'NOUN'), ('fell', 'VERB'), ('.', '.'), ('The', 'DET'), ('IRS', 'NOUN'), ('warnings', 'NOUN'), ('stem', 'VERB'), ('from', 'ADP'), ('a', 'DET'), ('1984', 'NUM'), ('law', 'NOUN'), ('that', 'ADP'), ('*T*-1', 'X'), ('requires', 'VERB'), ('anyone', 'NOUN'), ('who', 'PRON'), ('*T*-126', 'X'), ('receives', 'NOUN'), ('more', 'ADV'), ('than', 'ADP'), ('$', '.'), ('10,000', 'NUM'), ('*U*', 'X'), ('in', 'ADP'), ('cash', 'NOUN'), ('from', 'ADP'), ('a', 'DET'), ('client', 'NOUN'), ('or', 'CONJ'), ('customer', 'NOUN'), ('in', 'ADP'), ('one', 'NUM'), ('or', 'CONJ'), ('more', 'ADJ'), ('related', 'ADJ'), ('transactions', 'NOUN'), ('``', '.'), ('in', 'ADP'), ('the', 'DET'), ('course', 'NOUN'), ('of', 'ADP'), ('trade', 'NOUN'), ('or', 'CONJ'), ('business', 'NOUN'), (\"''\", '.'), ('to', 'PRT'), ('report', 'VERB'), ('the', 'DET'), ('payment', 'NOUN'), ('on', 'ADP'), ('a', 'DET'), ('document', 'NOUN'), ('known', 'VERB'), ('*', 'X'), ('as', 'ADP'), ('Form', 'NOUN'), ('8300', 'ADJ'), ('.', '.'), ('That', 'DET'), ('builds', 'NOUN'), ('confidence', 'NOUN'), (',', '.'), ('self', 'NOUN'), ('sufficiency', 'NOUN'), (',', '.'), ('not', 'ADV'), ('to', 'PRT'), ('mention', 'VERB'), ('critical', 'NOUN'), ('regulatory', 'ADJ'), ('net', 'ADJ'), ('worth', 'NOUN'), ('.', '.'), ('There', 'DET'), ('is', 'VERB'), ('no', 'DET'), ('asbestos', 'NOUN'), ('in', 'ADP'), ('our', 'PRON'), ('products', 'NOUN'), ('now', 'ADV'), ('.', '.'), (\"''\", '.'), ('Payouts', 'NOUN'), ('on', 'ADP'), ('the', 'DET'), ('S&P', 'NOUN'), ('500', 'NUM'), ('stocks', 'NOUN'), ('rose', 'VERB'), ('10', 'NUM'), ('%', 'NOUN'), ('in', 'ADP'), ('1988', 'NUM'), (',', '.'), ('according', 'VERB'), ('to', 'PRT'), ('Standard', 'NOUN'), ('&', 'CONJ'), ('Poor', 'NOUN'), (\"'s\", 'PRT'), ('Corp.', 'NOUN'), (',', '.'), ('and', 'CONJ'), ('Wall', 'NOUN'), ('Street', 'NOUN'), ('estimates', 'NOUN'), ('for', 'ADP'), ('1989', 'NUM'), ('growth', 'NOUN'), ('are', 'VERB'), ('generally', 'ADV'), ('between', 'ADP'), ('9', 'NUM'), ('%', 'NOUN'), ('and', 'CONJ'), ('14', 'NUM'), ('%', 'NOUN'), ('*U*', 'X'), ('.', '.'), ('Excision', 'NOUN'), ('of', 'ADP'), ('appropriations', 'NOUN'), ('riders', 'NOUN'), ('that', 'ADP'), ('*T*-1', 'X'), ('trespass', 'NOUN'), ('on', 'ADP'), ('the', 'DET'), ('president', 'NOUN'), (\"'s\", 'PRT'), ('duties', 'NOUN'), ('and', 'CONJ'), ('prerogative', 'ADJ'), ('under', 'ADP'), ('Article', 'NOUN'), ('II', 'NOUN'), ('would', 'VERB'), ('be', 'VERB'), ('different', 'ADJ'), ('from', 'ADP'), ('the', 'DET'), ('line-item', 'ADJ'), ('veto', 'NOUN'), ('.', '.'), ('Demand', 'NOUN'), ('from', 'ADP'), ('Europe', 'NOUN'), ('and', 'CONJ'), ('Southeast', 'NOUN'), ('Asia', 'NOUN'), ('also', 'ADV'), ('grew', 'VERB'), (',', '.'), ('but', 'CONJ'), ('due', 'ADJ'), ('to', 'PRT'), ('increasing', 'VERB'), ('production', 'NOUN'), ('at', 'ADP'), ('local', 'ADJ'), ('plants', 'NOUN'), (',', '.'), ('overseas', 'ADV'), ('sales', 'NOUN'), ('edged', 'VERB'), ('down', 'ADV'), ('2.8', 'NUM'), ('%', 'NOUN'), ('.', '.'), ('Many', 'ADJ'), ('attorneys', 'NOUN'), ('have', 'VERB'), ('returned', 'VERB'), ('incomplete', 'ADJ'), ('forms', 'NOUN'), ('to', 'PRT'), ('the', 'DET'), ('IRS', 'NOUN'), ('in', 'ADP'), ('recent', 'ADJ'), ('years', 'NOUN'), (',', '.'), ('*-1', 'X'), ('citing', 'VERB'), ('attorney-client', 'ADJ'), ('privilege', 'NOUN'), ('.', '.'), ('The', 'DET'), ('ailing', 'VERB'), ('company', 'NOUN'), (',', '.'), ('which', 'DET'), ('*T*-236', 'X'), ('has', 'VERB'), ('reported', 'VERB'), ('net', 'ADJ'), ('losses', 'NOUN'), ('for', 'ADP'), ('16', 'NUM'), ('consecutive', 'ADJ'), ('quarters', 'NOUN'), (',', '.'), ('said', 'VERB'), ('0', 'X'), ('it', 'PRON'), ('wo', 'VERB'), (\"n't\", 'ADV'), ('manufacture', 'VERB'), ('network', 'NOUN'), ('computer', 'NOUN'), ('systems', 'NOUN'), ('any', 'DET'), ('more', 'ADJ'), ('and', 'CONJ'), ('will', 'VERB'), ('greatly', 'ADV'), ('reduce', 'VERB'), ('its', 'PRON'), ('costly', 'ADJ'), ('direct', 'ADJ'), ('sales', 'NOUN'), ('force', 'NOUN'), ('.', '.'), ('The', 'DET'), ('Illinois', 'NOUN'), ('Supreme', 'NOUN'), ('Court', 'NOUN'), ('ordered', 'VERB'), ('the', 'DET'), ('commission', 'NOUN'), ('*-1', 'X'), ('to', 'PRT'), ('audit', 'NOUN'), ('Commonwealth', 'NOUN'), ('Edison', 'NOUN'), (\"'s\", 'PRT'), ('construction', 'NOUN'), ('expenses', 'NOUN'), ('and', 'CONJ'), ('refund', 'NOUN'), ('any', 'DET'), ('unreasonable', 'ADJ'), ('expenses', 'NOUN'), ('.', '.'), ('A', 'DET'), ('spokesman', 'NOUN'), ('for', 'ADP'), ('the', 'DET'), ('state', 'NOUN'), (',', '.'), ('however', 'ADV'), (',', '.'), ('calls', 'VERB'), ('the', 'DET'), ('idea', 'NOUN'), ('``', '.'), ('not', 'ADV'), ('effective', 'ADJ'), ('or', 'CONJ'), ('cost', 'NOUN'), ('efficient', 'ADJ'), ('.', '.'), ('``', '.'), ('We', 'PRON'), ('want', 'VERB'), ('*-1', 'X'), ('to', 'PRT'), ('see', 'VERB'), ('the', 'DET'), ('glass', 'NOUN'), ('market', 'NOUN'), ('from', 'ADP'), ('the', 'DET'), ('inside', 'NOUN'), (',', '.'), ('not', 'ADV'), ('the', 'DET'), ('outside', 'ADJ'), ('.', '.'), (\"''\", '.'), ('Spending', 'VERB'), ('on', 'ADP'), ('private', 'ADJ'), (',', '.'), ('nonresidential', 'NOUN'), ('construction', 'NOUN'), ('was', 'VERB'), ('off', 'PRT'), ('2.6', 'NUM'), ('%', 'NOUN'), ('to', 'PRT'), ('an', 'DET'), ('annual', 'ADJ'), ('rate', 'NOUN'), ('of', 'ADP'), ('$', '.'), ('99.1', 'NUM'), ('billion', 'NUM'), ('*U*', 'X'), ('with', 'ADP'), ('no', 'DET'), ('sector', 'NOUN'), ('showing', 'VERB'), ('strength', 'NOUN'), ('.', '.'), ('``', '.'), ('So', 'ADV'), ('the', 'DET'), ('focus', 'NOUN'), ('turned', 'VERB'), ('to', 'PRT'), ('other', 'ADJ'), ('fixed-income', 'NOUN'), ('markets', 'NOUN'), (',', '.'), ('corporate', 'ADJ'), ('and', 'CONJ'), ('mortgages', 'NOUN'), ('in', 'ADP'), ('particular', 'ADJ'), (',', '.'), (\"''\", '.'), ('she', 'PRON'), ('said', 'VERB'), ('*T*-1', 'X'), ('.', '.'), ('Bond', 'NOUN'), ('prices', 'NOUN'), ('and', 'CONJ'), ('the', 'DET'), ('dollar', 'NOUN'), ('both', 'DET'), ('gained', 'VERB'), ('modestly', 'ADV'), ('.', '.'), ('Trading', 'NOUN'), ('was', 'VERB'), ('muted', 'VERB'), ('*-1', 'X'), ('in', 'ADP'), ('part', 'NOUN'), ('because', 'ADP'), ('of', 'ADP'), ('the', 'DET'), ('observance', 'NOUN'), ('of', 'ADP'), ('All', 'DET'), ('Saints', 'NOUN'), (\"'\", 'PRT'), ('Day', 'NOUN'), ('across', 'ADP'), ('much', 'ADJ'), ('of', 'ADP'), ('Europe', 'NOUN'), ('.', '.'), ('Mr.', 'NOUN'), ('Ackerman', 'NOUN'), ('already', 'ADV'), ('is', 'VERB'), ('seeking', 'VERB'), ('*-1', 'X'), ('to', 'PRT'), ('oust', 'NOUN'), ('Mr.', 'NOUN'), ('Edelman', 'NOUN'), ('as', 'ADP'), ('chairman', 'NOUN'), ('of', 'ADP'), ('Datapoint', 'NOUN'), ('Corp.', 'NOUN'), (',', '.'), ('an', 'DET'), ('Intelogic', 'NOUN'), ('affiliate', 'NOUN'), ('.', '.'), ('Each', 'DET'), ('variation', 'NOUN'), (',', '.'), ('or', 'CONJ'), ('change', 'NOUN'), (',', '.'), ('can', 'VERB'), ('occur', 'VERB'), ('only', 'ADV'), ('once', 'ADV'), (',', '.'), ('the', 'DET'), ('rules', 'NOUN'), ('state', 'NOUN'), ('0', 'X'), ('*T*-1', 'X'), ('.', '.'), ('At', 'ADP'), ('Cray', 'NOUN'), ('Computer', 'NOUN'), (',', '.'), ('he', 'PRON'), ('will', 'VERB'), ('be', 'VERB'), ('paid', 'VERB'), ('*-26', 'X'), ('$', '.'), ('240,000', 'NUM'), ('*U*', 'X'), ('.', '.'), ('Price', 'NOUN'), ('Communications', 'NOUN'), ('Corp.', 'NOUN'), ('completed', 'VERB'), ('the', 'DET'), ('sale', 'NOUN'), ('of', 'ADP'), ('four', 'NUM'), ('of', 'ADP'), ('its', 'PRON'), ('TV', 'NOUN'), ('stations', 'NOUN'), ('to', 'PRT'), ('NTG', 'NOUN'), ('Inc.', 'NOUN'), ('for', 'ADP'), ('$', '.'), ('120', 'NUM'), ('million', 'NUM'), ('*U*', 'X'), ('in', 'ADP'), ('cash', 'NOUN'), ('and', 'CONJ'), ('notes', 'NOUN'), (',', '.'), ('*-1', 'X'), ('retaining', 'VERB'), ('a', 'DET'), ('10', 'NUM'), ('%', 'NOUN'), ('equity', 'NOUN'), ('stake', 'NOUN'), ('in', 'ADP'), ('the', 'DET'), ('new', 'ADJ'), ('concern', 'NOUN'), ('.', '.'), ('The', 'DET'), ('agreement', 'NOUN'), ('on', 'ADP'), ('Poland', 'NOUN'), ('contrasts', 'NOUN'), ('with', 'ADP'), ('the', 'DET'), ('major', 'ADJ'), ('differences', 'NOUN'), ('remaining', 'VERB'), ('over', 'ADP'), ('the', 'DET'), ('underlying', 'ADJ'), ('foreign', 'ADJ'), ('aid', 'NOUN'), ('bill', 'NOUN'), (',', '.'), ('which', 'DET'), ('*T*-9', 'X'), ('has', 'VERB'), ('already', 'ADV'), ('provoked', 'VERB'), ('veto', 'VERB'), ('threats', 'NOUN'), ('by', 'ADP'), ('the', 'DET'), ('White', 'NOUN'), ('House', 'NOUN'), ('and', 'CONJ'), ('is', 'VERB'), ('sharply', 'ADV'), ('confined', 'VERB'), ('under', 'ADP'), ('this', 'DET'), ('year', 'NOUN'), (\"'s\", 'PRT'), ('budget', 'NOUN'), ('.', '.'), ('The', 'DET'), ('move', 'NOUN'), ('boosts', 'VERB'), ('Intelogic', 'NOUN'), ('Chairman', 'NOUN'), ('Asher', 'NOUN'), ('Edelman', 'NOUN'), (\"'s\", 'PRT'), ('stake', 'NOUN'), ('to', 'PRT'), ('20', 'NUM'), ('%', 'NOUN'), ('from', 'ADP'), ('16.2', 'NUM'), ('%', 'NOUN'), ('and', 'CONJ'), ('may', 'VERB'), ('help', 'VERB'), ('*-2', 'X'), ('prevent', 'VERB'), ('Martin', 'NOUN'), ('Ackerman', 'NOUN'), ('from', 'ADP'), ('*-1', 'X'), ('making', 'VERB'), ('a', 'DET'), ('run', 'VERB'), ('at', 'ADP'), ('the', 'DET'), ('computer-services', 'NOUN'), ('concern', 'NOUN'), ('.', '.'), ('In', 'ADP'), ('October', 'NOUN'), (',', '.'), ('the', 'DET'), ('busiest', 'ADJ'), ('month', 'NOUN'), ('of', 'ADP'), ('the', 'DET'), ('year', 'NOUN'), ('so', 'ADV'), ('far', 'ADV'), (',', '.'), ('daily', 'ADJ'), ('volume', 'NOUN'), ('averaged', 'VERB'), ('roughly', 'ADV'), ('145', 'NUM'), ('million', 'NUM'), ('shares', 'NOUN'), ('.', '.'), ('But', 'CONJ'), ('in', 'ADP'), ('1986', 'NUM'), (',', '.'), ('program', 'NOUN'), ('traders', 'NOUN'), ('received', 'VERB'), ('what', 'PRON'), ('*T*-73', 'X'), ('amounted', 'VERB'), ('to', 'PRT'), ('an', 'DET'), ('exemption', 'NOUN'), ('from', 'ADP'), ('the', 'DET'), ('uptick', 'NOUN'), ('rule', 'NOUN'), ('in', 'ADP'), ('certain', 'ADJ'), ('situations', 'NOUN'), (',', '.'), ('*', 'X'), ('to', 'PRT'), ('make', 'VERB'), ('it', 'PRON'), ('*EXP*-1', 'X'), ('easier', 'ADJ'), ('*', 'X'), ('to', 'PRT'), ('link', 'VERB'), ('the', 'DET'), ('stock', 'NOUN'), ('and', 'CONJ'), ('futures', 'NOUN'), ('markets', 'NOUN'), ('.', '.'), ('The', 'DET'), ('Santa', 'NOUN'), ('Ana', 'NOUN'), ('bonds', 'NOUN'), ('were', 'VERB'), ('tentatively', 'ADV'), ('priced', 'VERB'), ('*-1', 'X'), ('*-2', 'X'), ('to', 'PRT'), ('yield', 'VERB'), ('from', 'ADP'), ('6.40', 'NUM'), ('%', 'NOUN'), ('in', 'ADP'), ('1991', 'NUM'), ('to', 'PRT'), ('7.458', 'NUM'), ('%', 'NOUN'), ('in', 'ADP'), ('He', 'PRON'), ('says', 'VERB'), ('0', 'X'), ('the', 'DET'), ('10', 'NUM'), ('citizen-sparked', 'NOUN'), ('issues', 'NOUN'), ('on', 'ADP'), ('state', 'NOUN'), ('ballots', 'NOUN'), ('this', 'DET'), ('fall', 'NOUN'), ('represent', 'VERB'), ('the', 'DET'), ('most', 'ADJ'), ('in', 'ADP'), ('any', 'DET'), ('odd-year', 'NOUN'), ('this', 'DET'), ('decade', 'NOUN'), ('.', '.'), ('The', 'DET'), ('issue', 'NOUN'), ('could', 'VERB'), ('be', 'VERB'), ('relaunched', 'VERB'), ('*-1', 'X'), (',', '.'), ('possibly', 'ADV'), ('in', 'ADP'), ('a', 'DET'), ('restructured', 'VERB'), ('form', 'NOUN'), (',', '.'), ('as', 'ADP'), ('early', 'ADJ'), ('as', 'ADP'), ('next', 'ADJ'), ('week', 'NOUN'), (',', '.'), ('according', 'VERB'), ('to', 'PRT'), ('the', 'DET'), ('lead', 'NOUN'), ('underwriter', 'NOUN'), ('.', '.'), ('Today', 'NOUN'), ('taxpayers', 'NOUN'), ('get', 'VERB'), ('*-1', 'X'), ('to', 'PRT'), ('vote', 'VERB'), (',', '.'), ('most', 'ADV'), ('of', 'ADP'), ('the', 'DET'), ('time', 'NOUN'), (',', '.'), ('on', 'ADP'), ('whether', 'ADP'), ('they', 'PRON'), ('want', 'VERB'), ('*-2', 'X'), ('to', 'PRT'), ('finance', 'VERB'), ('the', 'DET'), ('building', 'NOUN'), ('schemes', 'NOUN'), ('of', 'ADP'), ('our', 'PRON'), ('modern', 'ADJ'), ('political', 'ADJ'), ('pharaohs', 'NOUN'), (',', '.'), ('or', 'CONJ'), ('let', 'VERB'), ('private', 'ADJ'), ('money', 'NOUN'), ('erect', 'NOUN'), ('these', 'DET'), ('playgrounds', 'NOUN'), ('for', 'ADP'), ('public', 'ADJ'), ('passions', 'NOUN'), ('.', '.'), ('Mr.', 'NOUN'), ('Dingell', 'NOUN'), (\"'s\", 'PRT'), ('staff', 'NOUN'), ('was', 'VERB'), ('expected', 'VERB'), ('*-2', 'X'), ('to', 'PRT'), ('present', 'ADJ'), ('its', 'PRON'), ('acid-rain', 'NOUN'), ('alternative', 'NOUN'), ('to', 'PRT'), ('other', 'ADJ'), ('committee', 'NOUN'), ('members', 'NOUN'), (',', '.'), ('apparently', 'ADV'), ('in', 'ADP'), ('an', 'DET'), ('attempt', 'NOUN'), ('*', 'X'), ('to', 'PRT'), ('appease', 'NOUN'), ('Midwestern', 'NOUN'), ('lawmakers', 'NOUN'), ('from', 'ADP'), ('high-polluting', 'NOUN'), ('states', 'NOUN'), ('who', 'PRON'), ('*T*-1', 'X'), ('insist', 'VERB'), ('on', 'ADP'), ('cost-sharing', 'ADJ'), ('.', '.'), ('Ginnie', 'NOUN'), ('Mae', 'NOUN'), (\"'s\", 'PRT'), ('9', 'NUM'), ('%', 'NOUN'), ('issue', 'NOUN'), ('for', 'ADP'), ('November', 'NOUN'), ('delivery', 'NOUN'), ('finished', 'VERB'), ('at', 'ADP'), ('98', 'NUM'), ('5\\\\/8', 'NUM'), (',', '.'), ('up', 'ADV'), ('2\\\\/32', 'NUM'), (',', '.'), ('and', 'CONJ'), ('its', 'PRON'), ('9', 'NUM'), ('1\\\\/2', 'NUM'), ('%', 'NOUN'), ('issue', 'NOUN'), ('at', 'ADP'), ('100', 'NUM'), ('22\\\\/32', 'NUM'), (',', '.'), ('also', 'ADV'), ('up', 'ADV'), ('2\\\\/32', 'NUM'), ('.', '.'), ('*-1', 'X'), ('Not', 'ADV'), ('counting', 'VERB'), ('the', 'DET'), ('extraordinary', 'ADJ'), ('charge', 'NOUN'), (',', '.'), ('the', 'DET'), ('company', 'NOUN'), ('said', 'VERB'), ('0', 'X'), ('it', 'PRON'), ('would', 'VERB'), ('have', 'VERB'), ('had', 'VERB'), ('a', 'DET'), ('net', 'ADJ'), ('loss', 'NOUN'), ('of', 'ADP'), ('$', '.'), ('3.1', 'NUM'), ('million', 'NUM'), ('*U*', 'X'), (',', '.'), ('or', 'CONJ'), ('seven', 'NUM'), ('cents', 'NOUN'), ('a', 'DET'), ('share', 'NOUN'), ('.', '.'), ('Last', 'ADJ'), ('year', 'NOUN'), (\"'s\", 'PRT'), ('figures', 'NOUN'), ('include', 'VERB'), ('a', 'DET'), ('one-time', 'ADJ'), ('loss', 'NOUN'), ('of', 'ADP'), ('$', '.'), ('12', 'NUM'), ('million', 'NUM'), ('*U*', 'X'), ('for', 'ADP'), ('restructuring', 'NOUN'), ('and', 'CONJ'), ('unusual', 'ADJ'), ('items', 'NOUN'), ('.', '.'), ('However', 'ADV'), (',', '.'), ('neither', 'DET'), ('Mr.', 'NOUN'), ('Baum', 'NOUN'), ('nor', 'CONJ'), ('Mr.', 'NOUN'), ('Harper', 'NOUN'), ('has', 'VERB'), ('much', 'ADV'), ('international', 'ADJ'), ('experience', 'NOUN'), ('.', '.'), ('For', 'ADP'), ('fiscal', 'ADJ'), ('1989', 'NUM'), (\"'s\", 'PRT'), ('fourth', 'ADJ'), ('quarter', 'NOUN'), (',', '.'), ('Rockwell', 'NOUN'), (\"'s\", 'PRT'), ('net', 'ADJ'), ('income', 'NOUN'), ('totaled', 'VERB'), ('$', '.'), ('126.1', 'NUM'), ('million', 'NUM'), ('*U*', 'X'), (',', '.'), ('or', 'CONJ'), ('50', 'NUM'), ('cents', 'NOUN'), ('a', 'DET'), ('share', 'NOUN'), ('.', '.'), ('George', 'NOUN'), ('Christopher', 'NOUN'), (',', '.'), ('the', 'DET'), ('former', 'ADJ'), ('San', 'NOUN'), ('Francisco', 'NOUN'), ('mayor', 'NOUN'), ('who', 'PRON'), ('*T*-1', 'X'), ('built', 'VERB'), ('Candlestick', 'NOUN'), ('Park', 'NOUN'), ('for', 'ADP'), ('the', 'DET'), ('Giants', 'NOUN'), ('in', 'ADP'), ('the', 'DET'), ('1960s', 'NUM'), (',', '.'), ('wo', 'VERB'), (\"n't\", 'ADV'), ('endorse', 'NOUN'), ('the', 'DET'), ('new', 'ADJ'), ('ballpark', 'NOUN'), ('.', '.'), ('``', '.'), ('It', 'PRON'), (\"'s\", 'VERB'), ('a', 'DET'), ('cosmetic', 'NOUN'), ('move', 'NOUN'), (',', '.'), (\"''\", '.'), ('said', 'VERB'), ('*T*-1', 'X'), ('Jonathan', 'NOUN'), ('S.', 'NOUN'), ('Gelles', 'NOUN'), ('of', 'ADP'), ('Wertheim', 'NOUN'), ('Schroder', 'NOUN'), ('&', 'CONJ'), ('Co', 'NOUN'), ('.', '.'), ('They', 'PRON'), ('belong', 'VERB'), ('to', 'PRT'), ('a', 'DET'), ('group', 'NOUN'), ('of', 'ADP'), ('15', 'NUM'), ('ringers', 'NOUN'), ('--', '.'), ('including', 'VERB'), ('two', 'NUM'), ('octogenarians', 'NOUN'), ('and', 'CONJ'), ('four', 'NUM'), ('youngsters', 'NOUN'), ('in', 'ADP'), ('training', 'NOUN'), ('--', '.'), ('who', 'PRON'), ('*T*-222', 'X'), ('drive', 'VERB'), ('every', 'DET'), ('Sunday', 'NOUN'), ('from', 'ADP'), ('church', 'NOUN'), ('to', 'PRT'), ('church', 'NOUN'), ('in', 'ADP'), ('a', 'DET'), ('sometimes-exhausting', 'NOUN'), ('effort', 'NOUN'), ('*', 'X'), ('to', 'PRT'), ('keep', 'VERB'), ('the', 'DET'), ('bells', 'NOUN'), ('sounding', 'VERB'), ('in', 'ADP'), ('the', 'DET'), ('many', 'ADJ'), ('belfries', 'NOUN'), ('of', 'ADP'), ('East', 'NOUN'), ('Anglia', 'NOUN'), ('.', '.'), ('As', 'ADP'), ('a', 'DET'), ('result', 'NOUN'), (',', '.'), ('the', 'DET'), ('market', 'NOUN'), (\"'s\", 'PRT'), ('dividend', 'NOUN'), ('yield', 'VERB'), ('--', '.'), ('dividends', 'NOUN'), ('as', 'ADP'), ('a', 'DET'), ('percentage', 'NOUN'), ('of', 'ADP'), ('price', 'NOUN'), ('--', '.'), ('has', 'VERB'), ('slid', 'VERB'), ('to', 'PRT'), ('a', 'DET'), ('level', 'NOUN'), ('that', 'ADP'), ('*T*-232', 'X'), ('is', 'VERB'), ('fairly', 'ADV'), ('low', 'ADJ'), ('and', 'CONJ'), ('unenticing', 'VERB'), ('by', 'ADP'), ('historical', 'ADJ'), ('standards', 'NOUN'), ('.', '.'), ('Most', 'ADJ'), ('contracts', 'NOUN'), ('are', 'VERB'), ('simply', 'ADV'), ('nullified', 'VERB'), ('*-1', 'X'), ('by', 'ADP'), ('an', 'DET'), ('opposite', 'NOUN'), ('trade', 'NOUN'), ('before', 'ADP'), ('they', 'PRON'), ('come', 'VERB'), ('due', 'ADJ'), ('.', '.'), ('The', 'DET'), ('firmness', 'NOUN'), ('in', 'ADP'), ('heating', 'NOUN'), ('oil', 'NOUN'), ('was', 'VERB'), ('attributed', 'VERB'), ('*-1', 'X'), ('to', 'PRT'), ('colder', 'NOUN'), ('weather', 'VERB'), ('in', 'ADP'), ('parts', 'NOUN'), ('of', 'ADP'), ('the', 'DET'), ('U.S.', 'NOUN'), ('and', 'CONJ'), ('to', 'PRT'), ('the', 'DET'), ('latest', 'ADJ'), ('weekly', 'ADJ'), ('report', 'NOUN'), ('by', 'ADP'), ('the', 'DET'), ('American', 'ADJ'), ('Petroleum', 'NOUN'), ('Institute', 'NOUN'), (',', '.'), ('which', 'DET'), ('*T*-2', 'X'), ('showed', 'VERB'), ('a', 'DET'), ('decline', 'NOUN'), ('in', 'ADP'), ('inventories', 'NOUN'), ('of', 'ADP'), ('the', 'DET'), ('fuel', 'NOUN'), ('.', '.'), ('Also', 'ADV'), (',', '.'), ('there', 'DET'), ('has', 'VERB'), ('been', 'VERB'), ('a', 'DET'), ('switch', 'NOUN'), ('*ICH*-3', 'X'), ('in', 'ADP'), ('the', 'DET'), ('past', 'ADJ'), ('decade', 'NOUN'), ('to', 'PRT'), ('planting', 'VERB'), ('of', 'ADP'), ('orange', 'NOUN'), ('trees', 'NOUN'), ('in', 'ADP'), ('areas', 'NOUN'), ('that', 'ADP'), ('*T*-5', 'X'), ('were', 'VERB'), ('previously', 'ADV'), ('used', 'VERB'), ('*-1', 'X'), ('for', 'ADP'), ('cane', 'NOUN'), (',', '.'), ('and', 'CONJ'), ('this', 'DET'), ('change', 'NOUN'), ('is', 'VERB'), ('being', 'VERB'), ('felt', 'VERB'), ('*-4', 'X'), ('now', 'ADV'), (',', '.'), ('she', 'PRON'), ('said', 'VERB'), ('0', 'X'), ('*T*-2', 'X'), ('.', '.'), ('All', 'DET'), ('of', 'ADP'), ('the', 'DET'), ('changes', 'NOUN'), ('require', 'VERB'), ('regulatory', 'ADJ'), ('approval', 'NOUN'), (',', '.'), ('which', 'DET'), ('*T*-1', 'X'), ('is', 'VERB'), ('expected', 'VERB'), ('*-129', 'X'), ('shortly', 'ADV'), ('.', '.'), ('The', 'DET'), ('start', 'NOUN'), ('of', 'ADP'), ('the', 'DET'), ('whole', 'ADJ'), ('process', 'NOUN'), ('is', 'VERB'), ('the', 'DET'), ('key', 'ADJ'), ('-', '.'), ('someone', 'NOUN'), ('must', 'VERB'), ('fundamentally', 'NOUN'), ('increase', 'NOUN'), ('or', 'CONJ'), ('decrease', 'NOUN'), ('his', 'PRON'), ('ownership', 'NOUN'), ('in', 'ADP'), ('widgets', 'NOUN'), ('*-1', 'X'), ('to', 'PRT'), ('make', 'VERB'), ('widget', 'NOUN'), ('prices', 'NOUN'), ('move', 'NOUN'), ('.', '.'), ('And', 'CONJ'), ('while', 'ADP'), ('there', 'DET'), ('was', 'VERB'), ('no', 'DET'), ('profit', 'NOUN'), ('*ICH*-1', 'X'), ('this', 'DET'), ('year', 'NOUN'), ('from', 'ADP'), ('discontinued', 'VERB'), ('operations', 'NOUN'), (',', '.'), ('last', 'ADJ'), ('year', 'NOUN'), ('they', 'PRON'), ('contributed', 'VERB'), ('#', '.'), ('34', 'NUM'), ('million', 'NUM'), ('*U*', 'X'), (',', '.'), ('before', 'ADP'), ('tax', 'NOUN'), ('.', '.'), ('From', 'ADP'), ('Italy', 'NOUN'), ('there', 'DET'), ('is', 'VERB'), ('Angelo', 'NOUN'), ('Gaja', 'NOUN'), ('Barbaresco', 'NOUN'), ('at', 'ADP'), ('$', '.'), ('125', 'NUM'), ('*U*', 'X'), ('a', 'DET'), ('bottle', 'NOUN'), (',', '.'), ('Piero', 'NOUN'), ('Antinori', 'NOUN'), (\"'s\", 'PRT'), ('La', 'NOUN'), ('Solaia', 'NOUN'), (',', '.'), ('a', 'DET'), ('$', '.'), ('90', 'NUM'), ('*U*', 'X'), ('Cabernet', 'NOUN'), ('from', 'ADP'), ('Tuscany', 'NOUN'), (',', '.'), ('and', 'CONJ'), ('Biondi-Santi', 'NOUN'), ('Brunello', 'NOUN'), ('at', 'ADP'), ('$', '.'), ('98', 'NUM'), ('*U*', 'X'), ('.', '.'), ('The', 'DET'), ('most', 'ADJ'), ('common', 'ADJ'), ('program-trading', 'ADJ'), ('vehicles', 'NOUN'), ('are', 'VERB'), ('futures', 'NOUN'), ('contracts', 'NOUN'), ('on', 'ADP'), ('Standard', 'NOUN'), ('&', 'CONJ'), ('poor', 'ADJ'), (\"'s\", 'PRT'), ('500-stock', 'ADJ'), ('index', 'NOUN'), ('-LRB-', '.'), ('traded', 'VERB'), ('*', 'X'), ('on', 'ADP'), ('the', 'DET'), ('Chicago', 'NOUN'), ('Mercantile', 'NOUN'), ('Exchange', 'NOUN'), ('-RRB-', '.'), (';', '.'), ('the', 'DET'), ('Major', 'NOUN'), ('Market', 'NOUN'), ('Index', 'NOUN'), (',', '.'), ('a', 'DET'), ('20-stock', 'NOUN'), ('index', 'NOUN'), ('that', 'ADP'), ('*T*-1', 'X'), ('mimics', 'NOUN'), ('the', 'DET'), ('Dow', 'NOUN'), ('Jones', 'NOUN'), ('Industrial', 'NOUN'), ('Average', 'NOUN'), ('-LRB-', '.'), ('traded', 'VERB'), ('*', 'X'), ('on', 'ADP'), ('the', 'DET'), ('chicago', 'NOUN'), ('Board', 'NOUN'), ('of', 'ADP'), ('Trade', 'NOUN'), ('-RRB-', '.'), (';', '.'), ('and', 'CONJ'), ('the', 'DET'), ('S&P', 'NOUN'), ('100', 'NUM'), ('options', 'NOUN'), ('-LRB-', '.'), ('traded', 'VERB'), ('*', 'X'), ('on', 'ADP'), ('the', 'DET'), ('Chicago', 'NOUN'), ('Board', 'NOUN'), ('Options', 'NOUN'), ('Exchange', 'NOUN'), (',', '.'), ('and', 'CONJ'), ('based', 'VERB'), ('*', 'X'), ('on', 'ADP'), ('100', 'NUM'), ('stocks', 'NOUN'), ('selected', 'VERB'), ('*', 'X'), ('from', 'ADP'), ('the', 'DET'), ('S&P', 'NOUN'), ('500', 'NUM'), ('-RRB-', '.'), ('.', '.'), ('The', 'DET'), ('analyst', 'NOUN'), ('noted', 'VERB'), ('that', 'ADP'), ('also', 'ADV'), ('inherent', 'ADJ'), ('in', 'ADP'), ('all', 'DET'), ('metal', 'NOUN'), ('markets', 'NOUN'), ('was', 'VERB'), ('*T*-1', 'X'), ('a', 'DET'), ('sympathetic', 'ADJ'), ('reaction', 'NOUN'), ('to', 'PRT'), ('stocks', 'NOUN'), ('.', '.'), ('``', '.'), ('We', 'PRON'), ('did', 'VERB'), (\"n't\", 'ADV'), ('have', 'VERB'), ('much', 'ADV'), ('of', 'ADP'), ('a', 'DET'), ('choice', 'NOUN'), (',', '.'), (\"''\", '.'), ('Cray', 'NOUN'), ('Computer', 'NOUN'), (\"'s\", 'PRT'), ('chief', 'NOUN'), ('financial', 'ADJ'), ('officer', 'NOUN'), (',', '.'), ('Gregory', 'NOUN'), ('Barnum', 'NOUN'), (',', '.'), ('said', 'VERB'), ('*T*-1', 'X'), ('in', 'ADP'), ('an', 'DET'), ('interview', 'NOUN'), ('.', '.'), ('The', 'DET'), ('purchasing', 'NOUN'), ('managers', 'NOUN'), (\"'\", 'PRT'), ('report', 'VERB'), ('is', 'VERB'), ('based', 'VERB'), ('*-56', 'X'), ('on', 'ADP'), ('data', 'NOUN'), ('provided', 'VERB'), ('*', 'X'), ('by', 'ADP'), ('more', 'ADJ'), ('than', 'ADP'), ('250', 'NUM'), ('purchasing', 'NOUN'), ('executives', 'NOUN'), ('.', '.'), ('The', 'DET'), ('British', 'ADJ'), ('also', 'ADV'), ('are', 'VERB'), ('scrutinizing', 'VERB'), ('program', 'NOUN'), ('trades', 'NOUN'), ('.', '.'), ('Legislation', 'NOUN'), ('0', 'X'), ('*T*-1', 'X'), ('to', 'PRT'), ('lift', 'VERB'), ('the', 'DET'), ('debt', 'NOUN'), ('ceiling', 'NOUN'), ('is', 'VERB'), ('ensnarled', 'VERB'), ('*-11', 'X'), ('in', 'ADP'), ('the', 'DET'), ('fight', 'NOUN'), ('over', 'ADP'), ('*', 'X'), ('cutting', 'VERB'), ('capital-gains', 'NOUN'), ('taxes', 'NOUN'), ('.', '.'), ('Wednesday', 'NOUN'), (\"'s\", 'PRT'), ('volume', 'NOUN'), ('on', 'ADP'), ('the', 'DET'), ('First', 'NOUN'), ('Section', 'NOUN'), ('was', 'VERB'), ('estimated', 'VERB'), ('*-1', 'X'), ('at', 'ADP'), ('900', 'NUM'), ('million', 'NUM'), ('shares', 'NOUN'), (',', '.'), ('in', 'ADP'), ('line', 'NOUN'), ('with', 'ADP'), ('Tuesday', 'NOUN'), (\"'s\", 'PRT'), ('909', 'NUM'), ('million', 'NUM'), ('.', '.'), ('The', 'DET'), ('training', 'NOUN'), ('wage', 'NOUN'), ('covers', 'VERB'), ('only', 'ADV'), ('workers', 'NOUN'), ('who', 'PRON'), ('*T*-260', 'X'), ('are', 'VERB'), ('16', 'NUM'), ('to', 'PRT'), ('19', 'NUM'), ('years', 'NOUN'), ('old', 'ADJ'), ('.', '.'), ('Americans', 'NOUN'), ('will', 'VERB'), ('learn', 'NOUN'), ('more', 'ADV'), ('about', 'ADP'), ('*', 'X'), ('making', 'VERB'), ('products', 'NOUN'), ('for', 'ADP'), ('the', 'DET'), ('Soviets', 'NOUN'), ('.', '.'), ('*-1', 'X'), ('Starting', 'VERB'), ('with', 'ADP'), ('Congressman', 'NOUN'), ('Mario', 'NOUN'), ('Biaggi', 'NOUN'), ('-LRB-', '.'), ('now', 'ADV'), ('serving', 'VERB'), ('a', 'DET'), ('jail', 'NOUN'), ('sentence', 'NOUN'), ('-RRB-', '.'), (',', '.'), ('the', 'DET'), ('company', 'NOUN'), ('began', 'VERB'), ('a', 'DET'), ('career', 'NOUN'), ('of', 'ADP'), ('*', 'X'), ('bribing', 'VERB'), ('federal', 'ADJ'), (',', '.'), ('state', 'NOUN'), ('and', 'CONJ'), ('local', 'ADJ'), ('public', 'NOUN'), ('officials', 'NOUN'), ('and', 'CONJ'), ('those', 'DET'), ('close', 'NOUN'), ('to', 'PRT'), ('public', 'ADJ'), ('officials', 'NOUN'), (',', '.'), ('right', 'NOUN'), ('up', 'PRT'), ('to', 'PRT'), ('*RNR*-2', 'X'), ('and', 'CONJ'), ('including', 'VERB'), ('*RNR*-2', 'X'), ('E.', 'NOUN'), ('Robert', 'NOUN'), ('Wallach', 'NOUN'), (',', '.'), ('close', 'NOUN'), ('friend', 'NOUN'), ('and', 'CONJ'), ('adviser', 'NOUN'), ('to', 'PRT'), ('former', 'ADJ'), ('Attorney', 'NOUN'), ('General', 'NOUN'), ('Ed', 'NOUN'), ('Meese', 'NOUN'), ('.', '.'), ('While', 'ADP'), ('worry', 'VERB'), ('*ICH*-1', 'X'), ('grows', 'VERB'), ('about', 'ADP'), ('big', 'ADJ'), ('Japanese', 'ADJ'), ('investments', 'NOUN'), ('in', 'ADP'), ('the', 'DET'), ('U.S.', 'NOUN'), (',', '.'), ('Japan', 'NOUN'), (\"'s\", 'PRT'), ('big', 'ADJ'), ('trading', 'NOUN'), ('companies', 'NOUN'), ('are', 'VERB'), ('rapidly', 'ADV'), ('increasing', 'VERB'), ('their', 'PRON'), ('stake', 'NOUN'), ('in', 'ADP'), ('America', 'NOUN'), (\"'s\", 'PRT'), ('smaller', 'ADJ'), ('business', 'NOUN'), ('.', '.'), ('Before', 'ADP'), ('the', 'DET'), ('USX', 'NOUN'), ('case', 'NOUN'), (',', '.'), ('OSHA', 'NOUN'), (\"'s\", 'PRT'), ('largest', 'ADJ'), ('proposed', 'VERB'), ('fine', 'NOUN'), ('for', 'ADP'), ('one', 'NUM'), ('employer', 'NOUN'), ('was', 'VERB'), ('$', '.'), ('4.3', 'NUM'), ('million', 'NUM'), ('*U*', 'X'), ('for', 'ADP'), ('alleged', 'ADJ'), ('safety', 'NOUN'), ('violations', 'NOUN'), ('at', 'ADP'), ('John', 'NOUN'), ('Morrell', 'NOUN'), ('&', 'CONJ'), ('Co.', 'NOUN'), (',', '.'), ('a', 'DET'), ('meatpacking', 'VERB'), ('subsidiary', 'NOUN'), ('of', 'ADP'), ('United', 'NOUN'), ('Brands', 'NOUN'), ('Co.', 'NOUN'), (',', '.'), ('Cincinnati', 'NOUN'), ('.', '.'), ('Mrs.', 'NOUN'), ('Ward', 'NOUN'), ('took', 'VERB'), ('over', 'ADP'), ('in', 'ADP'), ('1986', 'NUM'), (',', '.'), ('*-1', 'X'), ('becoming', 'VERB'), ('the', 'DET'), ('school', 'NOUN'), (\"'s\", 'PRT'), ('seventh', 'NOUN'), ('principal', 'NOUN'), ('in', 'ADP'), ('15', 'NUM'), ('years', 'NOUN'), ('.', '.'), ('Gerard', 'NOUN'), ('Scannell', 'NOUN'), (',', '.'), ('the', 'DET'), ('head', 'NOUN'), ('of', 'ADP'), ('OSHA', 'NOUN'), (',', '.'), ('said', 'VERB'), ('0', 'X'), ('USX', 'NOUN'), ('managers', 'NOUN'), ('have', 'VERB'), ('known', 'VERB'), ('about', 'ADP'), ('many', 'ADJ'), ('of', 'ADP'), ('the', 'DET'), ('safety', 'NOUN'), ('and', 'CONJ'), ('health', 'NOUN'), ('deficiencies', 'NOUN'), ('at', 'ADP'), ('the', 'DET'), ('plants', 'NOUN'), ('for', 'ADP'), ('years', 'NOUN'), (',', '.'), ('``', '.'), ('yet', 'ADV'), ('have', 'VERB'), ('failed', 'VERB'), ('*-1', 'X'), ('to', 'PRT'), ('take', 'VERB'), ('necessary', 'ADJ'), ('action', 'NOUN'), ('*', 'X'), ('to', 'PRT'), ('counteract', 'NOUN'), ('the', 'DET'), ('hazards', 'NOUN'), ('.', '.'), (\"''\", '.'), ('Drug', 'NOUN'), ('companies', 'NOUN'), ('in', 'ADP'), ('the', 'DET'), ('key', 'ADJ'), ('index', 'NOUN'), ('also', 'ADV'), ('notched', 'VERB'), ('gains', 'NOUN'), ('as', 'ADP'), ('market-makers', 'NOUN'), ('searched', 'VERB'), ('for', 'ADP'), ('stock', 'NOUN'), ('in', 'ADP'), ('anticipation', 'NOUN'), ('of', 'ADP'), ('demand', 'NOUN'), ('due', 'ADJ'), ('to', 'PRT'), ('the', 'DET'), ('sector', 'NOUN'), (\"'s\", 'PRT'), ('defensive', 'ADJ'), ('qualities', 'NOUN'), ('.', '.'), ('And', 'CONJ'), ('in', 'ADP'), ('the', 'DET'), ('Chicago', 'NOUN'), ('district', 'NOUN'), (',', '.'), ('the', 'DET'), ('report', 'NOUN'), ('said', 'VERB'), ('0', 'X'), ('*T*-1', 'X'), (',', '.'), ('``', '.'), ('a', 'DET'), ('manufacturer', 'NOUN'), ('of', 'ADP'), ('capital', 'NOUN'), ('goods', 'NOUN'), ('noted', 'VERB'), ('slower', 'ADJ'), ('orders', 'NOUN'), ('for', 'ADP'), ('some', 'DET'), ('types', 'NOUN'), (',', '.'), ('including', 'VERB'), ('defense', 'NOUN'), ('equipment', 'NOUN'), (',', '.'), ('petroleum', 'NOUN'), ('equipment', 'NOUN'), (',', '.'), ('food', 'NOUN'), ('packaging', 'NOUN'), ('machinery', 'NOUN'), ('and', 'CONJ'), ('material', 'NOUN'), ('handling', 'NOUN'), ('equipment', 'NOUN'), ('.', '.'), (\"''\", '.'), ('The', 'DET'), ('Contra', 'NOUN'), ('military', 'ADJ'), ('command', 'VERB'), (',', '.'), ('in', 'ADP'), ('a', 'DET'), ('statement', 'NOUN'), ('from', 'ADP'), ('Honduras', 'NOUN'), (',', '.'), ('said', 'VERB'), ('0', 'X'), ('Sandinista', 'NOUN'), ('troops', 'NOUN'), ('had', 'VERB'), ('launched', 'VERB'), ('a', 'DET'), ('major', 'ADJ'), ('offensive', 'ADJ'), ('against', 'ADP'), ('the', 'DET'), ('rebel', 'NOUN'), ('forces', 'NOUN'), ('.', '.'), ('As', 'ADP'), ('a', 'DET'), ('result', 'NOUN'), (',', '.'), ('the', 'DET'), ('company', 'NOUN'), ('said', 'VERB'), ('0', 'X'), ('it', 'PRON'), ('decided', 'VERB'), ('*-1', 'X'), ('to', 'PRT'), ('phase', 'NOUN'), ('out', 'PRT'), ('its', 'PRON'), ('oldest', 'ADJ'), ('capacity', 'NOUN'), ('and', 'CONJ'), ('``', '.'), ('make', 'VERB'), ('appropriate', 'NOUN'), ('reductions', 'NOUN'), (\"''\", '.'), ('in', 'ADP'), ('operating', 'NOUN'), ('expenses', 'NOUN'), ('.', '.'), ('An', 'DET'), ('appeal', 'NOUN'), ('is', 'VERB'), ('expected', 'VERB'), ('*-68', 'X'), ('.', '.'), ('Mr.', 'NOUN'), ('Nemeth', 'NOUN'), ('said', 'VERB'), ('in', 'ADP'), ('parliament', 'NOUN'), ('that', 'ADP'), ('Czechoslovakia', 'NOUN'), ('and', 'CONJ'), ('Hungary', 'NOUN'), ('would', 'VERB'), ('suffer', 'VERB'), ('environmental', 'ADJ'), ('damage', 'NOUN'), ('if', 'ADP'), ('the', 'DET'), ('twin', 'NOUN'), ('dams', 'NOUN'), ('were', 'VERB'), ('built', 'VERB'), ('*-67', 'X'), ('as', 'ADP'), ('*', 'X'), ('planned', 'VERB'), ('*-2', 'X'), ('.', '.'), ('Customers', 'NOUN'), ('holding', 'VERB'), ('contracts', 'NOUN'), ('for', 'ADP'), ('Waertsilae', 'NOUN'), ('Marine', 'NOUN'), (\"'s\", 'PRT'), ('undelivered', 'VERB'), ('ships', 'NOUN'), ('are', 'VERB'), ('expected', 'VERB'), ('*-1', 'X'), ('to', 'PRT'), ('subscribe', 'VERB'), ('most', 'ADV'), ('of', 'ADP'), ('the', 'DET'), ('remaining', 'VERB'), ('170', 'NUM'), ('million', 'NUM'), ('markkaa', 'NOUN'), ('in', 'ADP'), ('share', 'NOUN'), ('capital', 'NOUN'), (',', '.'), ('government', 'NOUN'), ('officials', 'NOUN'), ('said', 'VERB'), ('0', 'X'), ('*T*-2', 'X'), ('.', '.'), ('The', 'DET'), ('company', 'NOUN'), ('said', 'VERB'), ('0', 'X'), ('Mr.', 'NOUN'), ('Stronach', 'NOUN'), ('will', 'VERB'), ('personally', 'NOUN'), ('direct', 'VERB'), ('the', 'DET'), ('restructuring', 'NOUN'), (',', '.'), ('*-1', 'X'), ('assisted', 'VERB'), ('*-2', 'X'), ('by', 'ADP'), ('Manfred', 'VERB'), ('Gingl', 'NOUN'), (',', '.'), ('president', 'NOUN'), ('and', 'CONJ'), ('chief', 'NOUN'), ('executive', 'NOUN'), ('.', '.'), ('Roederer', 'NOUN'), ('Cristal', 'NOUN'), ('at', 'ADP'), ('$', '.'), ('90', 'NUM'), ('*U*', 'X'), ('a', 'DET'), ('bottle', 'NOUN'), ('sells', 'VERB'), ('out', 'PRT'), ('around', 'ADP'), ('the', 'DET'), ('country', 'NOUN'), ('and', 'CONJ'), ('Taittinger', 'NOUN'), (\"'s\", 'PRT'), ('Comtes', 'NOUN'), ('de', 'ADP'), ('Champagne', 'NOUN'), ('Blanc', 'NOUN'), ('de', 'ADP'), ('Blancs', 'NOUN'), ('is', 'VERB'), ('encroaching', 'VERB'), ('upon', 'ADP'), ('that', 'DET'), ('level', 'NOUN'), ('.', '.'), ('``', '.'), ('I', 'PRON'), (\"'m\", 'VERB'), ('starting', 'VERB'), ('*-1', 'X'), ('to', 'PRT'), ('see', 'VERB'), ('more', 'ADV'), ('business', 'NOUN'), ('transactions', 'NOUN'), (',', '.'), (\"''\", '.'), ('says', 'VERB'), ('*T*-2', 'X'), ('Andrea', 'NOUN'), ('West', 'NOUN'), ('of', 'ADP'), ('American', 'ADJ'), ('Telephone', 'NOUN'), ('&', 'CONJ'), ('Telegraph', 'NOUN'), ('Co.', 'NOUN'), (',', '.'), ('*-3', 'X'), ('noting', 'VERB'), ('growing', 'VERB'), ('interest', 'NOUN'), ('in', 'ADP'), ('use', 'NOUN'), ('of', 'ADP'), ('900', 'NUM'), ('service', 'NOUN'), ('for', 'ADP'), ('stock', 'NOUN'), ('sales', 'NOUN'), (',', '.'), ('software', 'NOUN'), ('tutorials', 'NOUN'), ('and', 'CONJ'), ('even', 'ADV'), ('service', 'NOUN'), ('contracts', 'NOUN'), ('.', '.'), ('In', 'ADP'), ('the', 'DET'), ('third', 'ADJ'), ('quarter', 'NOUN'), (',', '.'), ('Georgia', 'NOUN'), ('Gulf', 'NOUN'), ('earned', 'VERB'), ('$', '.'), ('46.1', 'NUM'), ('million', 'NUM'), ('*U*', 'X'), (',', '.'), ('or', 'CONJ'), ('$', '.'), ('1.85', 'NUM'), ('*U*', 'X'), ('a', 'DET'), ('share', 'NOUN'), (',', '.'), ('down', 'ADV'), ('from', 'ADP'), ('$', '.'), ('53', 'NUM'), ('million', 'NUM'), ('*U*', 'X'), (',', '.'), ('or', 'CONJ'), ('$', '.'), ('1.85', 'NUM'), ('*U*', 'X'), ('a', 'DET'), ('share', 'NOUN'), ('on', 'ADP'), ('fewer', 'ADJ'), ('shares', 'NOUN'), ('outstanding', 'ADJ'), ('.', '.'), ('Japan', 'NOUN'), (\"'s\", 'PRT'), ('swelling', 'VERB'), ('investment', 'NOUN'), ('in', 'ADP'), ('Southeast', 'NOUN'), ('Asia', 'NOUN'), ('is', 'VERB'), ('part', 'NOUN'), ('of', 'ADP'), ('its', 'PRON'), ('economic', 'ADJ'), ('evolution', 'NOUN'), ('.', '.'), ('Moreover', 'ADV'), (',', '.'), ('the', 'DET'), ('Japanese', 'ADJ'), ('government', 'NOUN'), (',', '.'), ('now', 'ADV'), ('the', 'DET'), ('world', 'NOUN'), (\"'s\", 'PRT'), ('largest', 'ADJ'), ('aid', 'NOUN'), ('donor', 'NOUN'), (',', '.'), ('is', 'VERB'), ('pumping', 'VERB'), ('far', 'ADV'), ('more', 'ADJ'), ('assistance', 'NOUN'), ('*ICH*-2', 'X'), ('into', 'ADP'), ('the', 'DET'), ('region', 'NOUN'), ('than', 'ADP'), ('the', 'DET'), ('U.S.', 'NOUN'), ('is', 'VERB'), ('*?*', 'X'), ('.', '.'), ('Mr.', 'NOUN'), ('Yamamoto', 'NOUN'), ('insisted', 'VERB'), ('that', 'ADP'), ('headquarters', 'NOUN'), ('had', 'VERB'), (\"n't\", 'ADV'), ('approved', 'VERB'), ('the', 'DET'), ('bids', 'NOUN'), (',', '.'), ('and', 'CONJ'), ('that', 'DET'), ('he', 'PRON'), ('did', 'VERB'), (\"n't\", 'ADV'), ('know', 'VERB'), ('about', 'ADP'), ('most', 'ADJ'), ('of', 'ADP'), ('the', 'DET'), ('cases', 'NOUN'), ('until', 'ADP'), ('Wednesday', 'NOUN'), ('.', '.'), ('The', 'DET'), ('Senate', 'NOUN'), ('Finance', 'NOUN'), ('Committee', 'NOUN'), (',', '.'), ('chaired', 'VERB'), ('*', 'X'), ('by', 'ADP'), ('a', 'DET'), ('fellow', 'ADJ'), ('Texan', 'NOUN'), (',', '.'), ('Democratic', 'ADJ'), ('Sen.', 'NOUN'), ('Lloyd', 'NOUN'), ('Bentsen', 'NOUN'), (',', '.'), ('last', 'ADJ'), ('month', 'NOUN'), ('urged', 'VERB'), ('U.S.', 'NOUN'), ('Trade', 'NOUN'), ('Representative', 'NOUN'), ('Carla', 'NOUN'), ('Hills', 'NOUN'), ('to', 'PRT'), ('use', 'VERB'), ('Mr.', 'NOUN'), ('Pickens', 'NOUN'), (\"'s\", 'PRT'), ('experience', 'NOUN'), ('in', 'ADP'), ('talks', 'NOUN'), ('with', 'ADP'), ('Tokyo', 'NOUN'), ('``', '.'), ('*-1', 'X'), ('to', 'PRT'), ('highlight', 'NOUN'), ('this', 'DET'), ('problem', 'NOUN'), ('facing', 'VERB'), ('Americans', 'NOUN'), ('who', 'PRON'), ('*T*-185', 'X'), ('seek', 'VERB'), ('access', 'NOUN'), ('to', 'PRT'), ('the', 'DET'), ('Japanese', 'ADJ'), ('capital', 'NOUN'), ('markets', 'NOUN'), ('.', '.'), (\"''\", '.'), ('Mr.', 'NOUN'), ('Dinkins', 'NOUN'), ('did', 'VERB'), ('fail', 'VERB'), ('*-1', 'X'), ('to', 'PRT'), ('file', 'VERB'), ('his', 'PRON'), ('income', 'NOUN'), ('taxes', 'NOUN'), ('for', 'ADP'), ('four', 'NUM'), ('years', 'NOUN'), (',', '.'), ('but', 'CONJ'), ('he', 'PRON'), ('insists', 'VERB'), ('0', 'X'), ('he', 'PRON'), ('voluntarily', 'ADV'), ('admitted', 'VERB'), ('the', 'DET'), ('``', '.'), ('oversight', 'NOUN'), (\"''\", '.'), ('when', 'ADV'), ('he', 'PRON'), ('was', 'VERB'), ('being', 'VERB'), ('considered', 'VERB'), ('*-2', 'X'), ('for', 'ADP'), ('a', 'DET'), ('city', 'NOUN'), ('job', 'NOUN'), ('*T*-3', 'X'), ('.', '.'), ('The', 'DET'), ('screen', 'NOUN'), ('fills', 'VERB'), ('with', 'ADP'), ('a', 'DET'), ('small', 'ADJ'), (',', '.'), ('tight', 'ADV'), ('facial', 'NOUN'), ('shot', 'VERB'), ('of', 'ADP'), ('David', 'NOUN'), ('Dinkins', 'NOUN'), (',', '.'), ('Democratic', 'ADJ'), ('candidate', 'NOUN'), ('for', 'ADP'), ('mayor', 'NOUN'), ('of', 'ADP'), ('New', 'NOUN'), ('York', 'NOUN'), ('City', 'NOUN'), ('.', '.'), ('R.', 'NOUN'), ('Gordon', 'NOUN'), ('McGovern', 'NOUN'), ('was', 'VERB'), ('forced', 'VERB'), ('*-37', 'X'), ('out', 'PRT'), ('as', 'ADP'), ('Campbell', 'NOUN'), ('Soup', 'NOUN'), ('Co.', 'NOUN'), (\"'s\", 'PRT'), ('president', 'NOUN'), ('and', 'CONJ'), ('chief', 'NOUN'), ('executive', 'NOUN'), ('officer', 'NOUN'), (',', '.'), ('the', 'DET'), ('strongest', 'ADJ'), ('evidence', 'NOUN'), ('yet', 'ADV'), ('of', 'ADP'), ('the', 'DET'), ('power', 'NOUN'), ('that', 'ADP'), ('Dorrance', 'NOUN'), ('family', 'NOUN'), ('members', 'NOUN'), ('intend', 'VERB'), ('*-2', 'X'), ('to', 'PRT'), ('wield', 'NOUN'), ('*T*-1', 'X'), ('in', 'ADP'), ('*', 'X'), ('reshaping', 'VERB'), ('the', 'DET'), ('troubled', 'ADJ'), ('food', 'NOUN'), ('company', 'NOUN'), ('.', '.'), ('Prices', 'NOUN'), ('rose', 'VERB'), ('on', 'ADP'), ('the', 'DET'), ('news', 'NOUN'), ('that', 'ADP'), ('a', 'DET'), ('sizable', 'ADJ'), ('West', 'NOUN'), ('German', 'NOUN'), ('refinery', 'NOUN'), ('was', 'VERB'), ('damaged', 'VERB'), ('*-1', 'X'), ('in', 'ADP'), ('a', 'DET'), ('fire', 'NOUN'), (',', '.'), ('*', 'X'), ('tightening', 'VERB'), ('an', 'DET'), ('already', 'ADV'), ('tight', 'ADJ'), ('European', 'ADJ'), ('market', 'NOUN'), ('.', '.'), ('``', '.'), ('If', 'ADP'), ('I', 'PRON'), ('were', 'VERB'), ('choosing', 'VERB'), ('the', 'DET'), ('people', 'NOUN'), ('of', 'ADP'), ('tomorrow', 'NOUN'), (',', '.'), ('I', 'PRON'), ('would', 'VERB'), ('have', 'VERB'), ('chosen', 'VERB'), ('the', 'DET'), ('people', 'NOUN'), ('who', 'PRON'), ('*T*-1', 'X'), ('are', 'VERB'), ('now', 'ADV'), ('on', 'ADP'), ('the', 'DET'), ('board', 'NOUN'), (',', '.'), (\"''\", '.'), ('he', 'PRON'), ('said', 'VERB'), ('*T*-2', 'X'), ('.', '.'), ('Source', 'NOUN'), (':', '.'), ('Telerate', 'NOUN'), ('Systems', 'NOUN'), ('Inc', 'NOUN'), ('.', '.'), ('When', 'ADV'), ('Ms.', 'NOUN'), ('Evans', 'NOUN'), ('took', 'VERB'), ('her', 'PRON'), ('job', 'NOUN'), ('*T*-1', 'X'), (',', '.'), ('several', 'ADJ'), ('important', 'ADJ'), ('divisions', 'NOUN'), ('that', 'ADP'), ('*T*-2', 'X'), ('had', 'VERB'), ('reported', 'VERB'), ('to', 'PRT'), ('her', 'PRON'), ('predecessor', 'NOUN'), ('were', 'VERB'), (\"n't\", 'ADV'), ('included', 'VERB'), ('*-3', 'X'), ('partly', 'ADV'), ('because', 'ADP'), ('she', 'PRON'), ('did', 'VERB'), (\"n't\", 'ADV'), ('wish', 'VERB'), ('*-4', 'X'), ('to', 'PRT'), ('be', 'VERB'), ('a', 'DET'), ('full-time', 'ADJ'), ('administrator', 'NOUN'), ('.', '.'), ('The', 'DET'), ('two', 'NUM'), ('banks', 'NOUN'), ('merged', 'VERB'), ('in', 'ADP'), ('1985', 'NUM'), ('.', '.'), ('The', 'DET'), ('management', 'NOUN'), ('group', 'NOUN'), ('owns', 'VERB'), ('about', 'ADP'), ('18', 'NUM'), ('%', 'NOUN'), ('of', 'ADP'), ('the', 'DET'), ('stock', 'NOUN'), (',', '.'), ('most', 'ADV'), ('purchased', 'VERB'), ('*', 'X'), ('at', 'ADP'), ('nominal', 'NOUN'), ('prices', 'NOUN'), (',', '.'), ('and', 'CONJ'), ('would', 'VERB'), ('stand', 'VERB'), ('*-1', 'X'), ('to', 'PRT'), ('gain', 'NOUN'), ('millions', 'NOUN'), ('of', 'ADP'), ('dollars', 'NOUN'), ('if', 'ADP'), ('the', 'DET'), ('company', 'NOUN'), ('were', 'VERB'), ('sold', 'VERB'), ('*-115', 'X'), ('.', '.'), ('Dick', 'NOUN'), ('Lobo', 'NOUN'), (',', '.'), ('the', 'DET'), ('general', 'ADJ'), ('manager', 'NOUN'), ('of', 'ADP'), ('WTVJ', 'NOUN'), (',', '.'), ('the', 'DET'), ('NBC-owned', 'NOUN'), ('station', 'NOUN'), ('in', 'ADP'), ('Miami', 'NOUN'), (',', '.'), ('for', 'ADP'), ('example', 'NOUN'), (',', '.'), ('says', 'VERB'), ('0', 'X'), ('the', 'DET'), ('show', 'NOUN'), ('has', 'VERB'), ('``', '.'), ('been', 'VERB'), ('a', 'DET'), ('major', 'ADJ'), ('disappointment', 'NOUN'), ('to', 'PRT'), ('us', 'PRON'), ('.', '.'), (\"''\", '.'), ('It', 'PRON'), ('also', 'ADV'), ('asks', 'VERB'), ('them', 'PRON'), ('*-1', 'X'), ('to', 'PRT'), ('add', 'VERB'), ('two-sevenths', 'NOUN'), ('and', 'CONJ'), ('three-sevenths', 'NOUN'), ('.', '.'), ('On', 'ADP'), ('the', 'DET'), ('New', 'NOUN'), ('York', 'NOUN'), ('Mercantile', 'NOUN'), ('Exchange', 'NOUN'), (',', '.'), ('heating', 'NOUN'), ('oil', 'NOUN'), ('for', 'ADP'), ('December', 'NOUN'), ('delivery', 'NOUN'), ('increased', 'VERB'), ('1.25', 'NUM'), ('cents', 'NOUN'), ('*-1', 'X'), ('to', 'PRT'), ('settle', 'VERB'), ('at', 'ADP'), ('60.36', 'NUM'), ('cents', 'NOUN'), ('a', 'DET'), ('gallon', 'NOUN'), ('.', '.'), ('Showa', 'NOUN'), ('Shell', 'NOUN'), ('gained', 'VERB'), ('20', 'NUM'), ('to', 'PRT'), ('1,570', 'NUM'), ('and', 'CONJ'), ('Mitsubishi', 'NOUN'), ('Oil', 'NOUN'), ('rose', 'VERB'), ('50', 'NUM'), ('to', 'PRT'), ('1,500', 'NUM'), ('.', '.'), ('Mr.', 'NOUN'), ('Allen', 'NOUN'), (\"'s\", 'PRT'), ('Pittsburgh', 'NOUN'), ('firm', 'NOUN'), (',', '.'), ('Advanced', 'VERB'), ('Investment', 'NOUN'), ('Management', 'NOUN'), ('Inc.', 'NOUN'), (',', '.'), ('executes', 'NOUN'), ('program', 'NOUN'), ('trades', 'NOUN'), ('for', 'ADP'), ('institutions', 'NOUN'), ('.', '.'), ('It', 'PRON'), ('*EXP*-1', 'X'), ('is', 'VERB'), ('not', 'ADV'), ('unethical', 'NOUN'), ('*', 'X'), ('to', 'PRT'), ('choose', 'VERB'), ('a', 'DET'), ('higher-salaried', 'NOUN'), ('job', 'NOUN'), ('.', '.'), ('In', 'ADP'), ('addition', 'NOUN'), (',', '.'), ('the', 'DET'), ('Apple', 'NOUN'), ('II', 'NOUN'), ('was', 'VERB'), ('an', 'DET'), ('affordable', 'NOUN'), ('$', '.'), ('1,298', 'NUM'), ('*U*', 'X'), ('.', '.'), ('A', 'DET'), ('shift', 'NOUN'), ('to', 'PRT'), ('*', 'X'), ('producing', 'VERB'), ('more', 'ADV'), ('alcohol', 'NOUN'), ('and', 'CONJ'), ('less', 'ADJ'), ('sugar', 'NOUN'), ('had', 'VERB'), ('been', 'VERB'), ('expected', 'VERB'), ('*-1', 'X'), (',', '.'), ('but', 'CONJ'), ('the', 'DET'), ('latest', 'ADJ'), ('news', 'NOUN'), (',', '.'), ('if', 'ADP'), ('true', 'ADJ'), (',', '.'), ('indicates', 'VERB'), ('a', 'DET'), ('more', 'ADJ'), ('drastic', 'NOUN'), ('shift', 'NOUN'), ('0', 'X'), ('than', 'ADP'), ('*T*-2', 'X'), ('had', 'VERB'), ('been', 'VERB'), ('anticipated', 'VERB'), ('*-3', 'X'), ('.', '.'), ('The', 'DET'), ('Federal', 'NOUN'), ('Reserve', 'NOUN'), (\"'s\", 'PRT'), ('Beige', 'NOUN'), ('Book', 'NOUN'), (',', '.'), ('a', 'DET'), ('summary', 'NOUN'), ('of', 'ADP'), ('economic', 'ADJ'), ('conditions', 'NOUN'), ('across', 'ADP'), ('the', 'DET'), ('country', 'NOUN'), (',', '.'), ('indicated', 'VERB'), ('that', 'ADP'), ('the', 'DET'), ('overall', 'ADJ'), ('economy', 'NOUN'), ('remains', 'VERB'), ('in', 'ADP'), ('a', 'DET'), ('pattern', 'NOUN'), ('of', 'ADP'), ('sluggish', 'ADJ'), ('growth', 'NOUN'), ('.', '.'), ('She', 'PRON'), ('says', 'VERB'), ('that', 'ADP'), ('because', 'ADP'), ('of', 'ADP'), ('Mrs.', 'NOUN'), ('Yeargin', 'NOUN'), ('she', 'PRON'), ('gave', 'VERB'), ('up', 'ADV'), ('ambitions', 'NOUN'), ('in', 'ADP'), ('architecture', 'NOUN'), ('and', 'CONJ'), ('is', 'VERB'), ('studying', 'VERB'), ('*-1', 'X'), ('to', 'PRT'), ('become', 'VERB'), ('a', 'DET'), ('teacher', 'NOUN'), ('.', '.'), ('The', 'DET'), ('downgrading', 'VERB'), ('of', 'ADP'), ('debt', 'NOUN'), ('issued', 'VERB'), ('*', 'X'), ('by', 'ADP'), ('CS', 'NOUN'), ('First', 'NOUN'), ('Boston', 'NOUN'), ('Inc.', 'NOUN'), (',', '.'), ('parent', 'NOUN'), ('of', 'ADP'), ('First', 'NOUN'), ('Boston', 'NOUN'), ('Corp.', 'NOUN'), (',', '.'), ('by', 'ADP'), ('Moody', 'NOUN'), (\"'s\", 'PRT'), ('Investors', 'NOUN'), ('Service', 'NOUN'), ('Inc.', 'NOUN'), (',', '.'), ('*', 'X'), ('coupled', 'VERB'), ('*', 'X'), ('with', 'ADP'), ('a', 'DET'), ('Moody', 'NOUN'), (\"'s\", 'PRT'), ('announcement', 'NOUN'), ('that', 'ADP'), ('Shearson', 'NOUN'), ('Lehman', 'NOUN'), ('Hutton', 'NOUN'), ('Holdings', 'NOUN'), ('Inc.', 'NOUN'), ('is', 'VERB'), ('under', 'ADP'), ('review', 'NOUN'), ('for', 'ADP'), ('a', 'DET'), ('possible', 'ADJ'), ('downgrade', 'NOUN'), (',', '.'), ('sent', 'VERB'), ('shivers', 'NOUN'), ('through', 'ADP'), ('the', 'DET'), ('brokerage', 'NOUN'), ('community', 'NOUN'), ('this', 'DET'), ('week', 'NOUN'), ('.', '.'), ('And', 'CONJ'), ('8', 'NUM'), ('%', 'NOUN'), ('*ICH*-1', 'X'), ('said', 'VERB'), ('0', 'X'), ('export', 'VERB'), ('orders', 'NOUN'), ('were', 'VERB'), ('down', 'ADV'), ('last', 'ADJ'), ('month', 'NOUN'), (',', '.'), ('compared', 'VERB'), ('with', 'ADP'), ('6', 'NUM'), ('%', 'NOUN'), ('the', 'DET'), ('month', 'NOUN'), ('before', 'ADP'), ('.', '.'), ('Critics', 'NOUN'), ('like', 'ADP'), ('Mr.', 'NOUN'), ('Murray', 'NOUN'), ('``', '.'), ('are', 'VERB'), ('looking', 'VERB'), ('for', 'ADP'), ('witches', 'NOUN'), (',', '.'), ('and', 'CONJ'), ('people', 'NOUN'), ('who', 'PRON'), ('*T*-68', 'X'), ('use', 'VERB'), ('computers', 'NOUN'), ('*', 'X'), ('to', 'PRT'), ('trade', 'VERB'), ('are', 'VERB'), ('a', 'DET'), ('convenient', 'ADJ'), ('boogieman', 'NOUN'), (',', '.'), (\"''\", '.'), ('says', 'VERB'), ('0', 'X'), ('*T*-3', 'X'), ('J.', 'NOUN'), ('Thomas', 'NOUN'), ('Allen', 'NOUN'), (',', '.'), ('president', 'NOUN'), ('of', 'ADP'), ('Advanced', 'VERB'), ('Investment', 'NOUN'), ('Management', 'NOUN'), ('Inc.', 'NOUN'), (',', '.'), ('a', 'DET'), ('Pittsburgh', 'NOUN'), ('firm', 'NOUN'), ('that', 'ADP'), ('*T*-1', 'X'), ('runs', 'VERB'), ('a', 'DET'), ('$', '.'), ('200', 'NUM'), ('million', 'NUM'), ('*U*', 'X'), ('fund', 'VERB'), ('that', 'ADP'), ('*T*-2', 'X'), ('uses', 'VERB'), ('index', 'NOUN'), ('arbitrage', 'NOUN'), ('.', '.'), ('The', 'DET'), ('dollar', 'NOUN'), ('rose', 'VERB'), ('.', '.'), ('This', 'DET'), ('species', 'NOUN'), ('of', 'ADP'), ('congressional', 'ADJ'), ('action', 'NOUN'), ('is', 'VERB'), ('predicated', 'VERB'), ('*-50', 'X'), ('on', 'ADP'), ('an', 'DET'), ('interpretation', 'NOUN'), ('of', 'ADP'), ('the', 'DET'), ('appropriations', 'NOUN'), ('clause', 'NOUN'), ('that', 'ADP'), ('*T*-1', 'X'), ('is', 'VERB'), ('erroneous', 'NOUN'), ('and', 'CONJ'), ('unconstitutional', 'ADJ'), ('.', '.'), ('Mr.', 'NOUN'), ('Felten', 'NOUN'), ('said', 'VERB'), (',', '.'), ('``', '.'), ('We', 'PRON'), ('got', 'VERB'), ('what', 'PRON'), ('*T*-252', 'X'), ('amounted', 'VERB'), ('to', 'PRT'), ('a', 'DET'), ('parking', 'NOUN'), ('ticket', 'NOUN'), (',', '.'), ('and', 'CONJ'), ('by', 'ADP'), ('*-1', 'X'), ('complaining', 'VERB'), ('about', 'ADP'), ('it', 'PRON'), (',', '.'), ('we', 'PRON'), ('ended', 'VERB'), ('up', 'ADV'), ('with', 'ADP'), ('a', 'DET'), ('sizable', 'ADJ'), ('fine', 'NOUN'), ('and', 'CONJ'), ('suspension', 'NOUN'), ('.', '.'), (\"''\", '.'), ('In', 'ADP'), ('addition', 'NOUN'), (',', '.'), ('Buick', 'NOUN'), ('is', 'VERB'), ('a', 'DET'), ('relatively', 'ADV'), ('respected', 'VERB'), ('nameplate', 'NOUN'), ('among', 'ADP'), ('American', 'ADJ'), ('Express', 'NOUN'), ('card', 'NOUN'), ('holders', 'NOUN'), (',', '.'), ('says', 'VERB'), ('0', 'X'), ('*T*-1', 'X'), ('an', 'DET'), ('American', 'ADJ'), ('Express', 'NOUN'), ('spokeswoman', 'NOUN'), ('.', '.'), ('The', 'DET'), ('Chicago', 'NOUN'), ('report', 'NOUN'), ('raised', 'VERB'), ('the', 'DET'), ('possibility', 'NOUN'), ('that', 'ADP'), ('the', 'DET'), ('October', 'NOUN'), ('survey', 'NOUN'), ('of', 'ADP'), ('the', 'DET'), ('National', 'NOUN'), ('Association', 'NOUN'), ('of', 'ADP'), ('Purchasing', 'NOUN'), ('Management', 'NOUN'), ('would', 'VERB'), ('also', 'ADV'), ('show', 'VERB'), ('a', 'DET'), ('reading', 'NOUN'), ('above', 'ADP'), ('50', 'NUM'), ('%', 'NOUN'), ('.', '.'), ('Analysts', 'NOUN'), ('said', 'VERB'), ('0', 'X'), ('the', 'DET'), ('fall', 'NOUN'), ('in', 'ADP'), ('pretax', 'NOUN'), ('profit', 'NOUN'), ('was', 'VERB'), ('due', 'ADJ'), ('to', 'PRT'), ('the', 'DET'), ('group', 'NOUN'), (\"'s\", 'PRT'), ('recent', 'ADJ'), ('restructuring', 'NOUN'), ('and', 'CONJ'), ('sale', 'NOUN'), ('of', 'ADP'), ('peripheral', 'ADJ'), ('units', 'NOUN'), (',', '.'), ('and', 'CONJ'), ('that', 'DET'), ('its', 'PRON'), ('remaining', 'VERB'), ('businesses', 'NOUN'), ('are', 'VERB'), ('performing', 'VERB'), ('well', 'ADV'), ('.', '.'), ('The', 'DET'), ('Bush', 'NOUN'), ('administration', 'NOUN'), (\"'s\", 'PRT'), ('nomination', 'NOUN'), ('of', 'ADP'), ('Clarence', 'NOUN'), ('Thomas', 'NOUN'), ('to', 'PRT'), ('a', 'DET'), ('seat', 'NOUN'), ('on', 'ADP'), ('the', 'DET'), ('federal', 'ADJ'), ('appeals', 'NOUN'), ('court', 'NOUN'), ('here', 'ADV'), ('received', 'VERB'), ('a', 'DET'), ('blow', 'NOUN'), ('this', 'DET'), ('week', 'NOUN'), ('when', 'ADV'), ('the', 'DET'), ('American', 'ADJ'), ('Bar', 'NOUN'), ('Association', 'NOUN'), ('gave', 'VERB'), ('Mr.', 'NOUN'), ('Thomas', 'NOUN'), ('only', 'ADV'), ('a', 'DET'), ('``', '.'), ('qualified', 'VERB'), (\"''\", '.'), ('rating', 'NOUN'), (',', '.'), ('rather', 'ADV'), ('than', 'ADP'), ('``', '.'), ('well', 'ADV'), ('qualified', 'VERB'), ('*T*-1', 'X'), ('.', '.'), (\"''\", '.'), ('Cooper', 'NOUN'), ('Tire', 'NOUN'), ('&', 'CONJ'), ('Rubber', 'NOUN'), ('Co.', 'NOUN'), ('said', 'VERB'), ('0', 'X'), ('it', 'PRON'), ('has', 'VERB'), ('reached', 'VERB'), ('an', 'DET'), ('agreement', 'NOUN'), ('*ICH*-1', 'X'), ('in', 'ADP'), ('principle', 'NOUN'), ('*', 'X'), ('to', 'PRT'), ('buy', 'VERB'), ('buildings', 'NOUN'), ('and', 'CONJ'), ('related', 'VERB'), ('property', 'NOUN'), ('in', 'ADP'), ('Albany', 'NOUN'), (',', '.'), ('Ga.', 'NOUN'), (',', '.'), ('from', 'ADP'), ('Bridgestone\\\\/Firestone', 'NOUN'), ('Inc', 'NOUN'), ('.', '.'), ('Packaging', 'VERB'), ('has', 'VERB'), ('some', 'DET'), ('drawbacks', 'NOUN'), ('.', '.'), ('A', 'DET'), ('White', 'NOUN'), ('House', 'NOUN'), ('spokesman', 'NOUN'), ('condemned', 'VERB'), ('the', 'DET'), ('truce', 'NOUN'), ('suspension', 'NOUN'), ('as', 'ADP'), ('``', '.'), ('deplorable', 'NOUN'), (\"''\", '.'), ('but', 'CONJ'), ('brushed', 'VERB'), ('off', 'PRT'), ('talk', 'VERB'), ('of', 'ADP'), ('*', 'X'), ('renewing', 'VERB'), ('military', 'ADJ'), ('funding', 'NOUN'), ('for', 'ADP'), ('the', 'DET'), ('insurgents', 'NOUN'), ('.', '.'), ('``', '.'), ('What', 'PRON'), ('*T*-164', 'X'), (\"'s\", 'PRT'), ('different', 'ADJ'), ('is', 'VERB'), ('that', 'ADP'), ('it', 'PRON'), ('is', 'VERB'), ('happening', 'VERB'), ('with', 'ADP'), ('young', 'ADJ'), ('wines', 'NOUN'), ('just', 'ADV'), ('coming', 'VERB'), ('out', 'PRT'), ('.', '.'), ('The', 'DET'), ('firm', 'NOUN'), ('and', 'CONJ'), ('Mr.', 'NOUN'), ('Whelen', 'NOUN'), ('allegedly', 'ADV'), ('sold', 'VERB'), ('securities', 'NOUN'), ('to', 'PRT'), ('the', 'DET'), ('public', 'ADJ'), ('at', 'ADP'), ('unfair', 'ADJ'), ('prices', 'NOUN'), (',', '.'), ('among', 'ADP'), ('other', 'ADJ'), ('alleged', 'ADJ'), ('violations', 'NOUN'), ('.', '.'), ('Net', 'ADJ'), ('advanced', 'ADJ'), ('to', 'PRT'), ('$', '.'), ('94.2', 'NUM'), ('million', 'NUM'), ('*U*', 'X'), (',', '.'), ('or', 'CONJ'), ('89', 'NUM'), ('cents', 'NOUN'), ('a', 'DET'), ('share', 'NOUN'), (',', '.'), ('from', 'ADP'), ('$', '.'), ('85', 'NUM'), ('million', 'NUM'), ('*U*', 'X'), (',', '.'), ('or', 'CONJ'), ('83', 'NUM'), ('cents', 'NOUN'), ('a', 'DET'), ('share', 'NOUN'), (',', '.'), ('including', 'VERB'), ('net', 'ADJ'), ('realized', 'VERB'), ('investment', 'NOUN'), ('gains', 'NOUN'), ('of', 'ADP'), ('$', '.'), ('31', 'NUM'), ('million', 'NUM'), ('*U*', 'X'), (',', '.'), ('up', 'ADV'), ('from', 'ADP'), ('$', '.'), ('10', 'NUM'), ('million', 'NUM'), ('*U*', 'X'), ('a', 'DET'), ('year', 'NOUN'), ('ago', 'ADP'), ('.', '.'), ('There', 'DET'), ('were', 'VERB'), ('many', 'ADJ'), ('pioneer', 'NOUN'), ('PC', 'NOUN'), ('contributors', 'NOUN'), ('.', '.'), ('``', '.'), ('It', 'PRON'), ('*EXP*-1', 'X'), (\"'s\", 'PRT'), ('hard', 'ADJ'), ('*', 'X'), ('to', 'PRT'), ('explain', 'VERB'), ('to', 'PRT'), ('a', 'DET'), ('17-year-old', 'NOUN'), ('why', 'ADV'), ('someone', 'NOUN'), ('0', 'X'), ('they', 'PRON'), ('like', 'VERB'), ('*T*-2', 'X'), ('had', 'VERB'), ('*-3', 'X'), ('to', 'PRT'), ('go', 'VERB'), (',', '.'), (\"''\", '.'), ('says', 'VERB'), ('*T*-4', 'X'), ('Mrs.', 'NOUN'), ('Ward', 'NOUN'), ('.', '.'), ('Last', 'ADJ'), ('year', 'NOUN'), (',', '.'), ('DSM', 'NOUN'), ('had', 'VERB'), ('71', 'NUM'), ('million', 'NUM'), ('guilders', 'NOUN'), ('of', 'ADP'), ('extraordinary', 'ADJ'), ('charges', 'NOUN'), ('for', 'ADP'), ('the', 'DET'), ('restructuring', 'NOUN'), ('program', 'NOUN'), ('and', 'CONJ'), ('other', 'ADJ'), ('transactions', 'NOUN'), ('.', '.'), ('By', 'ADP'), ('January', 'NOUN'), ('it', 'PRON'), ('*EXP*-1', 'X'), ('should', 'VERB'), ('be', 'VERB'), ('fairly', 'ADV'), ('clear', 'ADJ'), ('what', 'PRON'), ('*T*-2', 'X'), (\"'s\", 'PRT'), ('hot', 'NOUN'), ('--', '.'), ('and', 'CONJ'), ('what', 'PRON'), ('*T*-172', 'X'), (\"'s\", 'PRT'), ('not', 'ADV'), ('*?*', 'X'), ('.', '.'), ('He', 'PRON'), ('added', 'VERB'), (',', '.'), ('``', '.'), ('There', 'DET'), (\"'s\", 'VERB'), ('nothing', 'NOUN'), ('very', 'ADV'), ('hot', 'NOUN'), ('.', '.'), (\"''\", '.'), ('New', 'NOUN'), ('York', 'NOUN'), ('City', 'NOUN'), (':', '.'), ('Argentina', 'NOUN'), ('said', 'VERB'), ('0', 'X'), ('it', 'PRON'), ('will', 'VERB'), ('ask', 'VERB'), ('creditor', 'NOUN'), ('banks', 'NOUN'), ('*-1', 'X'), ('to', 'PRT'), ('halve', 'NOUN'), ('its', 'PRON'), ('foreign', 'ADJ'), ('debt', 'NOUN'), ('of', 'ADP'), ('$', '.'), ('64', 'NUM'), ('billion', 'NUM'), ('*U*', 'X'), ('--', '.'), ('the', 'DET'), ('third-highest', 'NOUN'), ('in', 'ADP'), ('the', 'DET'), ('developing', 'VERB'), ('world', 'NOUN'), ('.', '.'), ('``', '.'), ('Professional', 'NOUN'), ('sugar', 'NOUN'), ('people', 'NOUN'), ('here', 'ADV'), ('who', 'PRON'), ('*T*-1', 'X'), ('have', 'VERB'), ('strong', 'ADJ'), ('contacts', 'NOUN'), ('with', 'ADP'), ('the', 'DET'), ('Brazilian', 'ADJ'), ('sugar', 'NOUN'), ('industry', 'NOUN'), ('have', 'VERB'), ('been', 'VERB'), ('unable', 'ADJ'), ('*-3', 'X'), ('to', 'PRT'), ('confirm', 'VERB'), ('the', 'DET'), ('reports', 'NOUN'), ('or', 'CONJ'), ('get', 'VERB'), ('enough', 'ADV'), ('information', 'NOUN'), ('0', 'X'), ('*', 'X'), ('to', 'PRT'), ('clarify', 'VERB'), ('the', 'DET'), ('situation', 'NOUN'), ('*T*-4', 'X'), (',', '.'), (\"''\", '.'), ('he', 'PRON'), ('said', 'VERB'), ('*T*-2', 'X'), ('.', '.'), ('The', 'DET'), ('second', 'ADJ'), ('patent', 'NOUN'), ('describes', 'VERB'), ('bone', 'NOUN'), ('morphogenetic', 'ADJ'), ('protein-1', 'NOUN'), (',', '.'), ('a', 'DET'), ('substance', 'NOUN'), ('that', 'ADP'), ('*T*-2', 'X'), ('can', 'VERB'), ('induce', 'NOUN'), ('formation', 'NOUN'), ('of', 'ADP'), ('new', 'ADJ'), ('cartilage', 'NOUN'), ('.', '.'), ('This', 'DET'), ('argument', 'NOUN'), ('is', 'VERB'), ('perhaps', 'ADV'), ('the', 'DET'), ('most', 'ADJ'), ('interesting', 'ADJ'), ('one', 'NUM'), ('for', 'ADP'), ('*', 'X'), ('abolishing', 'VERB'), ('program', 'NOUN'), ('trading', 'NOUN'), ('--', '.'), ('not', 'ADV'), ('because', 'ADP'), ('of', 'ADP'), ('its', 'PRON'), ('merits', 'NOUN'), (',', '.'), ('but', 'CONJ'), ('because', 'ADP'), ('of', 'ADP'), ('the', 'DET'), ('firms', 'NOUN'), ('championing', 'VERB'), ('the', 'DET'), ('cause', 'NOUN'), ('.', '.'), ('USX', 'NOUN'), ('Corp.', 'NOUN'), ('posted', 'VERB'), ('a', 'DET'), ('23', 'NUM'), ('%', 'NOUN'), ('drop', 'NOUN'), ('in', 'ADP'), ('third-quarter', 'NOUN'), ('profit', 'NOUN'), (',', '.'), ('as', 'ADP'), ('improved', 'VERB'), ('oil', 'NOUN'), ('results', 'NOUN'), ('failed', 'VERB'), ('*-1', 'X'), ('to', 'PRT'), ('offset', 'VERB'), ('weakness', 'NOUN'), ('in', 'ADP'), ('steel', 'NOUN'), ('and', 'CONJ'), ('natural', 'ADJ'), ('gas', 'NOUN'), ('operations', 'NOUN'), ('.', '.'), ('But', 'CONJ'), ('a', 'DET'), ('takeover', 'NOUN'), ('battle', 'NOUN'), ('opens', 'NOUN'), ('up', 'PRT'), ('the', 'DET'), ('possibility', 'NOUN'), ('of', 'ADP'), ('a', 'DET'), ('bidding', 'NOUN'), ('war', 'NOUN'), (',', '.'), ('with', 'ADP'), ('all', 'DET'), ('0', 'X'), ('that', 'ADP'), ('implies', 'VERB'), ('*T*-1', 'X'), ('.', '.'), ('First', 'NOUN'), ('Commonwealth', 'NOUN'), ('Securities', 'NOUN'), ('Corp.', 'NOUN'), (',', '.'), ('of', 'ADP'), ('New', 'NOUN'), ('Orleans', 'NOUN'), (',', '.'), ('and', 'CONJ'), ('its', 'PRON'), ('president', 'NOUN'), (',', '.'), ('Kenneth', 'NOUN'), ('J.', 'NOUN'), ('Canepa', 'NOUN'), (',', '.'), ('also', 'ADV'), ('of', 'ADP'), ('New', 'NOUN'), ('Orleans', 'NOUN'), (',', '.'), ('consented', 'VERB'), ('to', 'PRT'), ('a', 'DET'), ('$', '.'), ('10,000', 'NUM'), ('*U*', 'X'), ('fine', 'NOUN'), ('.', '.'), ('Third', 'NOUN'), ('quarter', 'NOUN'), (',', '.'), ('Sept.', 'NOUN'), ('30', 'NUM'), (',', '.'), ('1989', 'NUM'), (':', '.'), ('Net', 'ADJ'), ('loss', 'NOUN'), (':', '.'), ('$', '.'), ('11.57', 'NUM'), ('*U*', 'X'), ('a', 'DET'), ('share', 'NOUN'), ('vs.', 'ADP'), ('net', 'ADJ'), ('income', 'NOUN'), (':', '.'), ('37', 'NUM'), ('cents', 'NOUN'), ('a', 'DET'), ('share', 'NOUN'), ('Old', 'NOUN'), ('Spaghetti', 'NOUN'), ('Warehouse', 'NOUN'), ('rose', 'VERB'), ('1', 'NUM'), ('to', 'PRT'), ('16', 'NUM'), ('1\\\\/8', 'NUM'), ('.', '.'), ('The', 'DET'), ('offer', 'NOUN'), (',', '.'), ('advertised', 'VERB'), ('*', 'X'), ('in', 'ADP'), ('today', 'NOUN'), (\"'s\", 'PRT'), ('editions', 'NOUN'), ('of', 'ADP'), ('The', 'DET'), ('Wall', 'NOUN'), ('Street', 'NOUN'), ('Journal', 'NOUN'), (',', '.'), ('is', 'VERB'), ('scheduled', 'VERB'), ('*-1', 'X'), ('to', 'PRT'), ('expire', 'VERB'), ('at', 'ADP'), ('the', 'DET'), ('end', 'NOUN'), ('of', 'ADP'), ('November', 'NOUN'), ('.', '.'), ('Editorials', 'NOUN'), ('in', 'ADP'), ('the', 'DET'), ('Greenville', 'NOUN'), ('newspaper', 'NOUN'), ('allowed', 'VERB'), ('that', 'ADP'), ('Mrs.', 'NOUN'), ('Yeargin', 'NOUN'), ('was', 'VERB'), ('wrong', 'ADJ'), (',', '.'), ('but', 'CONJ'), ('also', 'ADV'), ('said', 'VERB'), ('0', 'X'), ('the', 'DET'), ('case', 'NOUN'), ('showed', 'VERB'), ('how', 'ADV'), ('testing', 'NOUN'), ('was', 'VERB'), ('being', 'VERB'), ('overused', 'VERB'), ('*-2', 'X'), ('*T*-1', 'X'), ('.', '.'), ('``', '.'), ('Each', 'DET'), ('day', 'NOUN'), ('that', 'ADP'), ('Congress', 'NOUN'), ('fails', 'VERB'), ('*-1', 'X'), ('to', 'PRT'), ('act', 'VERB'), ('*T*-2', 'X'), ('...', '.'), ('will', 'VERB'), ('cause', 'VERB'), ('additional', 'ADJ'), ('disruption', 'NOUN'), ('in', 'ADP'), ('our', 'PRON'), ('borrowing', 'VERB'), ('schedule', 'NOUN'), (',', '.'), ('*', 'X'), ('possibly', 'ADV'), ('resulting', 'VERB'), ('in', 'ADP'), ('higher', 'ADJ'), ('interest', 'NOUN'), ('costs', 'NOUN'), ('to', 'PRT'), ('the', 'DET'), ('taxpayer', 'NOUN'), (',', '.'), (\"''\", '.'), ('Treasury', 'NOUN'), ('Secretary', 'NOUN'), ('Nicholas', 'NOUN'), ('Brady', 'NOUN'), ('said', 'VERB'), ('*T*-3', 'X'), ('in', 'ADP'), ('a', 'DET'), ('speech', 'NOUN'), ('prepared', 'VERB'), ('*', 'X'), ('for', 'ADP'), ('delivery', 'NOUN'), ('last', 'ADJ'), ('night', 'NOUN'), ('to', 'PRT'), ('a', 'DET'), ('group', 'NOUN'), ('of', 'ADP'), ('bankers', 'NOUN'), ('.', '.'), ('Although', 'ADP'), ('preliminary', 'ADJ'), ('findings', 'NOUN'), ('were', 'VERB'), ('reported', 'VERB'), ('*-2', 'X'), ('more', 'ADV'), ('than', 'ADP'), ('a', 'DET'), ('year', 'NOUN'), ('ago', 'ADP'), (',', '.'), ('the', 'DET'), ('latest', 'ADJ'), ('results', 'NOUN'), ('appear', 'VERB'), ('in', 'ADP'), ('today', 'NOUN'), (\"'s\", 'PRT'), ('New', 'NOUN'), ('England', 'NOUN'), ('Journal', 'NOUN'), ('of', 'ADP'), ('Medicine', 'NOUN'), (',', '.'), ('a', 'DET'), ('forum', 'NOUN'), ('likely', 'ADJ'), ('*', 'X'), ('to', 'PRT'), ('bring', 'VERB'), ('new', 'ADJ'), ('attention', 'NOUN'), ('to', 'PRT'), ('the', 'DET'), ('problem', 'NOUN'), ('.', '.'), ('When', 'ADV'), ('you', 'PRON'), ('become', 'VERB'), ('a', 'DET'), ('federal', 'ADJ'), ('judge', 'NOUN'), ('*T*-1', 'X'), (',', '.'), ('all', 'DET'), ('of', 'ADP'), ('a', 'DET'), ('sudden', 'ADJ'), ('you', 'PRON'), ('are', 'VERB'), ('relegated', 'VERB'), ('*-2', 'X'), ('to', 'PRT'), ('a', 'DET'), ('paltry', 'ADJ'), ('sum', 'NOUN'), ('.', '.'), (\"''\", '.'), ('``', '.'), ('These', 'DET'), ('kids', 'NOUN'), ('broke', 'NOUN'), ('my', 'PRON'), ('heart', 'NOUN'), (',', '.'), (\"''\", '.'), ('she', 'PRON'), ('says', 'VERB'), ('*T*-1', 'X'), ('.', '.'), ('``', '.'), ('You', 'PRON'), (\"'d\", 'VERB'), ('see', 'VERB'), ('her', 'PRON'), ('correcting', 'VERB'), ('homework', 'NOUN'), ('in', 'ADP'), ('the', 'DET'), ('stands', 'NOUN'), ('at', 'ADP'), ('a', 'DET'), ('football', 'NOUN'), ('game', 'NOUN'), ('.', '.'), (\"''\", '.'), ('After', 'ADP'), ('the', 'DET'), ('race', 'NOUN'), (',', '.'), ('Fortune', 'NOUN'), ('500', 'NUM'), ('executives', 'NOUN'), ('drooled', 'VERB'), ('like', 'ADP'), ('schoolboys', 'NOUN'), ('over', 'ADP'), ('the', 'DET'), ('cars', 'NOUN'), ('and', 'CONJ'), ('drivers', 'NOUN'), ('.', '.'), ('``', '.'), ('If', 'ADP'), ('you', 'PRON'), ('look', 'VERB'), ('at', 'ADP'), ('the', 'DET'), ('third', 'ADJ'), ('quarter', 'NOUN'), ('as', 'ADP'), ('*', 'X'), ('posting', 'VERB'), ('roughly', 'ADV'), ('2.5', 'NUM'), ('%', 'NOUN'), ('growth', 'NOUN'), (',', '.'), ('I', 'PRON'), ('do', 'VERB'), ('see', 'VERB'), ('some', 'DET'), ('slowing', 'NOUN'), ('in', 'ADP'), ('the', 'DET'), ('fourth', 'ADJ'), ('quarter', 'NOUN'), (',', '.'), (\"''\", '.'), ('agrees', 'VERB'), ('*T*-1', 'X'), ('Kansas', 'NOUN'), ('City', 'NOUN'), ('Fed', 'NOUN'), ('President', 'NOUN'), ('Roger', 'NOUN'), ('Guffey', 'NOUN'), ('.', '.'), ('Heritage', 'NOUN'), (',', '.'), ('which', 'DET'), ('*T*-1', 'X'), ('owns', 'VERB'), ('51', 'NUM'), ('%', 'NOUN'), ('of', 'ADP'), ('POP', 'NOUN'), (\"'s\", 'PRT'), ('3.6', 'NUM'), ('million', 'NUM'), ('shares', 'NOUN'), ('outstanding', 'ADJ'), (',', '.'), ('said', 'VERB'), ('0', 'X'), ('it', 'PRON'), ('will', 'VERB'), ('exchange', 'NOUN'), ('one', 'NUM'), ('share', 'NOUN'), ('of', 'ADP'), ('a', 'DET'), ('new', 'ADJ'), ('preferred', 'ADJ'), ('stock', 'NOUN'), ('for', 'ADP'), ('each', 'DET'), ('POP', 'NOUN'), ('common', 'ADJ'), ('share', 'NOUN'), ('0', 'X'), ('it', 'PRON'), ('does', 'VERB'), (\"n't\", 'ADV'), ('already', 'ADV'), ('own', 'ADJ'), ('*T*-2', 'X'), ('.', '.'), ('Primerica', 'NOUN'), (',', '.'), ('as', 'ADP'), ('*', 'X'), ('expected', 'VERB'), (',', '.'), ('also', 'ADV'), ('acquired', 'VERB'), ('certain', 'ADJ'), ('assets', 'NOUN'), ('of', 'ADP'), ('the', 'DET'), ('agency', 'NOUN'), ('and', 'CONJ'), ('assumed', 'VERB'), ('certain', 'ADJ'), ('of', 'ADP'), ('its', 'PRON'), ('liabilities', 'NOUN'), ('.', '.'), ('Second', 'NOUN'), (',', '.'), ('they', 'PRON'), ('channel', 'NOUN'), ('monthly', 'ADJ'), ('mortgage', 'NOUN'), ('payments', 'NOUN'), ('into', 'ADP'), ('semiannual', 'ADJ'), ('payments', 'NOUN'), (',', '.'), ('*-1', 'X'), ('reducing', 'VERB'), ('the', 'DET'), ('administrative', 'ADJ'), ('burden', 'NOUN'), ('on', 'ADP'), ('investors', 'NOUN'), ('.', '.'), ('Moscow', 'NOUN'), ('has', 'VERB'), ('settled', 'VERB'), ('pre-1917', 'NOUN'), ('debts', 'NOUN'), ('with', 'ADP'), ('other', 'ADJ'), ('countries', 'NOUN'), ('in', 'ADP'), ('recent', 'ADJ'), ('years', 'NOUN'), ('at', 'ADP'), ('less', 'ADJ'), ('than', 'ADP'), ('face', 'NOUN'), ('value', 'NOUN'), ('.', '.'), ('And', 'CONJ'), ('the', 'DET'), ('nose', 'NOUN'), ('on', 'ADP'), ('Mr.', 'NOUN'), ('Courter', 'NOUN'), (\"'s\", 'PRT'), ('face', 'VERB'), ('grows', 'VERB'), ('.', '.'), ('Finmeccanica', 'NOUN'), ('is', 'VERB'), ('an', 'DET'), ('Italian', 'ADJ'), ('state-owned', 'ADJ'), ('holding', 'NOUN'), ('company', 'NOUN'), ('with', 'ADP'), ('interests', 'NOUN'), ('in', 'ADP'), ('the', 'DET'), ('mechanical', 'ADJ'), ('engineering', 'NOUN'), ('industry', 'NOUN'), ('.', '.'), ('Mr.', 'NOUN'), ('van', 'NOUN'), ('Dover', 'NOUN'), ('said', 'VERB'), ('0', 'X'), ('the', 'DET'), ('crystal', 'NOUN'), ('changes', 'NOUN'), ('0', 'X'), ('his', 'PRON'), ('team', 'NOUN'), ('introduced', 'VERB'), ('*T*-1', 'X'), ('apparently', 'ADV'), ('pins', 'NOUN'), ('the', 'DET'), ('magnetic', 'ADJ'), ('fields', 'NOUN'), ('in', 'ADP'), ('place', 'NOUN'), (',', '.'), ('*', 'X'), ('preventing', 'VERB'), ('them', 'PRON'), ('from', 'ADP'), ('*-3', 'X'), ('lowering', 'VERB'), ('current-carrying', 'ADJ'), ('capacity', 'NOUN'), ('.', '.'), ('South', 'NOUN'), ('Carolina', 'NOUN'), (\"'s\", 'PRT'), ('reforms', 'NOUN'), ('were', 'VERB'), ('designed', 'VERB'), ('*-1', 'X'), ('for', 'ADP'), ('schools', 'NOUN'), ('like', 'ADP'), ('Greenville', 'NOUN'), ('High', 'NOUN'), ('School', 'NOUN'), ('.', '.'), ('Overall', 'NOUN'), (',', '.'), ('pretax', 'NOUN'), ('electronics', 'NOUN'), ('earnings', 'NOUN'), ('soared', 'VERB'), ('12', 'NUM'), ('%', 'NOUN'), ('to', 'PRT'), ('$', '.'), ('107.9', 'NUM'), ('million', 'NUM'), ('*U*', 'X'), ('from', 'ADP'), ('$', '.'), ('96.4', 'NUM'), ('million', 'NUM'), ('*U*', 'X'), ('.', '.'), ('The', 'DET'), ('American', 'ADJ'), ('Bar', 'NOUN'), ('Association', 'NOUN'), (\"'s\", 'PRT'), ('House', 'NOUN'), ('of', 'ADP'), ('Delegates', 'NOUN'), ('passed', 'VERB'), ('a', 'DET'), ('resolution', 'NOUN'), ('*ICH*-1', 'X'), ('in', 'ADP'), ('1985', 'NUM'), ('condemning', 'VERB'), ('the', 'DET'), ('IRS', 'NOUN'), ('reporting', 'VERB'), ('requirement', 'NOUN'), ('.', '.'), ('According', 'VERB'), ('to', 'PRT'), ('an', 'DET'), ('American', 'ADJ'), ('member', 'NOUN'), ('of', 'ADP'), ('the', 'DET'), ('Nixon', 'NOUN'), ('party', 'NOUN'), (',', '.'), ('the', 'DET'), ('former', 'ADJ'), ('president', 'NOUN'), ('raised', 'VERB'), ('a', 'DET'), ('number', 'NOUN'), ('of', 'ADP'), ('controversial', 'ADJ'), ('issues', 'NOUN'), ('in', 'ADP'), ('his', 'PRON'), ('20', 'NUM'), ('hours', 'NOUN'), ('of', 'ADP'), ('talks', 'NOUN'), ('with', 'ADP'), ('top-level', 'NOUN'), ('Chinese', 'NOUN'), ('officials', 'NOUN'), ('.', '.')]\n",
      "accuracy 0.9561317995710665\n",
      "\n",
      "Incorrect tagged cases:  [[('for', 'ADP'), (('midsized', 'VERB'), ('midsized', 'ADJ'))], [('to', 'PRT'), (('glamorize', 'NOUN'), ('glamorize', 'VERB'))], [('an', 'DET'), (('eight-count', 'NOUN'), ('eight-count', 'ADJ'))], [('to', 'PRT'), (('manipulate', 'NOUN'), ('manipulate', 'VERB'))], [(\"'s\", 'PRT'), (('planned', 'VERB'), ('planned', 'ADJ'))], [('lobbyists', 'NOUN'), (('as', 'ADP'), ('as', 'ADV'))], [('emissions', 'NOUN'), (('that', 'ADP'), ('that', 'DET'))], [('to', 'PRT'), (('fuel', 'NOUN'), ('fuel', 'VERB'))], [('*-1', 'X'), (('unimpeded', 'VERB'), ('unimpeded', 'ADJ'))], [('the', 'DET'), (('subsequent', 'NOUN'), ('subsequent', 'ADJ'))], [('orders', 'NOUN'), (('that', 'ADP'), ('that', 'DET'))], [('contract', 'NOUN'), (('down', 'ADP'), ('down', 'PRT'))], [('the', 'DET'), (('intermediate', 'NOUN'), ('intermediate', 'ADJ'))], [('.', '.'), (('Proper', 'NOUN'), ('Proper', 'ADJ'))], [('Proper', 'ADJ'), (('English', 'NOUN'), ('English', 'ADJ'))], [('the', 'DET'), (('highest-pitched', 'NOUN'), ('highest-pitched', 'ADJ'))], [(',', '.'), (('as', 'ADP'), ('as', 'ADV'))], [('the', 'DET'), (('Soviet', 'ADJ'), ('Soviet', 'NOUN'))], [('most', 'ADV'), (('favored', 'VERB'), ('favored', 'ADJ'))], [('the', 'DET'), (('absolute', 'NOUN'), ('absolute', 'ADJ'))], [('to', 'PRT'), (('disseminate', 'NOUN'), ('disseminate', 'VERB'))], [('the', 'DET'), (('scholarly', 'NOUN'), ('scholarly', 'ADJ'))], [('.', '.'), (('Federal', 'NOUN'), ('Federal', 'ADJ'))], [('bill', 'NOUN'), (('that', 'ADP'), ('that', 'DET'))], [('their', 'PRON'), (('pay', 'VERB'), ('pay', 'NOUN'))], [('apparently', 'ADV'), (('drew', 'NOUN'), ('drew', 'VERB'))], [('The', 'DET'), (('Chinese', 'ADJ'), ('Chinese', 'NOUN'))], [('equally', 'ADV'), (('undiplomatic', 'NOUN'), ('undiplomatic', 'ADJ'))], [('The', 'DET'), (('Soviet', 'ADJ'), ('Soviet', 'NOUN'))], [('crops', 'NOUN'), (('earlier', 'ADV'), ('earlier', 'ADJ'))], [('sky', 'NOUN'), (('high', 'ADJ'), ('high', 'ADV'))], [('%', 'NOUN'), (('boosts', 'VERB'), ('boosts', 'NOUN'))], [('--', '.'), (('complicated', 'ADJ'), ('complicated', 'ADP'))], [('.', '.'), (('New', 'NOUN'), ('New', 'ADJ'))], [('rules', 'NOUN'), (('force', 'NOUN'), ('force', 'VERB'))], [('write', 'VERB'), (('down', 'ADV'), ('down', 'PRT'))], [('months', 'NOUN'), (('ago', 'ADP'), ('ago', 'ADV'))], [('come', 'VERB'), (('up', 'ADV'), ('up', 'PRT'))], [('for', 'ADP'), (('expendable', 'NOUN'), ('expendable', 'ADJ'))], [('.', '.'), (('Net', 'ADJ'), ('Net', 'NOUN'))], [('year', 'NOUN'), (('earlier', 'ADV'), ('earlier', 'ADJ'))], [('was', 'VERB'), (('such', 'ADJ'), ('such', 'DET'))], [(',', '.'), (('off', 'ADP'), ('off', 'ADV'))], [('a', 'DET'), (('gigantic', 'NOUN'), ('gigantic', 'ADJ'))], [('year', 'NOUN'), (('earlier', 'ADV'), ('earlier', 'ADJ'))], [('law', 'NOUN'), (('that', 'ADP'), ('that', 'DET'))], [('*T*-126', 'X'), (('receives', 'NOUN'), ('receives', 'VERB'))], [('receives', 'VERB'), (('more', 'ADV'), ('more', 'ADJ'))], [('Form', 'NOUN'), (('8300', 'ADJ'), ('8300', 'NUM'))], [('That', 'DET'), (('builds', 'NOUN'), ('builds', 'VERB'))], [('mention', 'VERB'), (('critical', 'NOUN'), ('critical', 'ADJ'))], [('regulatory', 'ADJ'), (('net', 'ADJ'), ('net', 'NOUN'))], [('riders', 'NOUN'), (('that', 'ADP'), ('that', 'DET'))], [('*T*-1', 'X'), (('trespass', 'NOUN'), ('trespass', 'VERB'))], [('and', 'CONJ'), (('prerogative', 'ADJ'), ('prerogative', 'NOUN'))], [('but', 'CONJ'), (('due', 'ADJ'), ('due', 'ADV'))], [(',', '.'), (('overseas', 'ADV'), ('overseas', 'ADJ'))], [('systems', 'NOUN'), (('any', 'DET'), ('any', 'ADV'))], [('to', 'PRT'), (('audit', 'NOUN'), ('audit', 'VERB'))], [('and', 'CONJ'), (('refund', 'NOUN'), ('refund', 'VERB'))], [('the', 'DET'), (('outside', 'ADJ'), ('outside', 'NOUN'))], [(\"''\", '.'), (('Spending', 'VERB'), ('Spending', 'NOUN'))], [(',', '.'), (('nonresidential', 'NOUN'), ('nonresidential', 'ADJ'))], [('was', 'VERB'), (('off', 'PRT'), ('off', 'ADJ'))], [('``', '.'), (('So', 'ADV'), ('So', 'ADP'))], [('other', 'ADJ'), (('fixed-income', 'NOUN'), ('fixed-income', 'ADJ'))], [('of', 'ADP'), (('All', 'DET'), ('All', 'NOUN'))], [('to', 'PRT'), (('oust', 'NOUN'), ('oust', 'VERB'))], [('rules', 'NOUN'), (('state', 'NOUN'), ('state', 'VERB'))], [('Poland', 'NOUN'), (('contrasts', 'NOUN'), ('contrasts', 'VERB'))], [('the', 'DET'), (('underlying', 'ADJ'), ('underlying', 'VERB'))], [('provoked', 'VERB'), (('veto', 'VERB'), ('veto', 'NOUN'))], [('a', 'DET'), (('run', 'VERB'), ('run', 'NOUN'))], [('so', 'ADV'), (('far', 'ADV'), ('far', 'ADJ'))], [('10', 'NUM'), (('citizen-sparked', 'NOUN'), ('citizen-sparked', 'ADJ'))], [('any', 'DET'), (('odd-year', 'NOUN'), ('odd-year', 'ADJ'))], [(',', '.'), (('as', 'ADP'), ('as', 'ADV'))], [('as', 'ADV'), (('early', 'ADJ'), ('early', 'ADV'))], [(',', '.'), (('most', 'ADV'), ('most', 'ADJ'))], [('the', 'DET'), (('building', 'NOUN'), ('building', 'VERB'))], [('money', 'NOUN'), (('erect', 'NOUN'), ('erect', 'VERB'))], [('to', 'PRT'), (('present', 'ADJ'), ('present', 'VERB'))], [('to', 'PRT'), (('appease', 'NOUN'), ('appease', 'VERB'))], [('appease', 'VERB'), (('Midwestern', 'NOUN'), ('Midwestern', 'ADJ'))], [('from', 'ADP'), (('high-polluting', 'NOUN'), ('high-polluting', 'ADJ'))], [('on', 'ADP'), (('cost-sharing', 'ADJ'), ('cost-sharing', 'NOUN'))], [('has', 'VERB'), (('much', 'ADV'), ('much', 'ADJ'))], [(\"n't\", 'ADV'), (('endorse', 'NOUN'), ('endorse', 'VERB'))], [('a', 'DET'), (('cosmetic', 'NOUN'), ('cosmetic', 'ADJ'))], [('a', 'DET'), (('sometimes-exhausting', 'NOUN'), ('sometimes-exhausting', 'ADJ'))], [('dividend', 'NOUN'), (('yield', 'VERB'), ('yield', 'NOUN'))], [('level', 'NOUN'), (('that', 'ADP'), ('that', 'DET'))], [('and', 'CONJ'), (('unenticing', 'VERB'), ('unenticing', 'ADJ'))], [('an', 'DET'), (('opposite', 'NOUN'), ('opposite', 'ADJ'))], [('to', 'PRT'), (('colder', 'NOUN'), ('colder', 'ADJ'))], [('colder', 'ADJ'), (('weather', 'VERB'), ('weather', 'NOUN'))], [('the', 'DET'), (('American', 'ADJ'), ('American', 'NOUN'))], [('to', 'PRT'), (('planting', 'VERB'), ('planting', 'NOUN'))], [('of', 'ADP'), (('orange', 'NOUN'), ('orange', 'ADJ'))], [('areas', 'NOUN'), (('that', 'ADP'), ('that', 'DET'))], [('the', 'DET'), (('key', 'ADJ'), ('key', 'NOUN'))], [('must', 'VERB'), (('fundamentally', 'NOUN'), ('fundamentally', 'ADV'))], [('fundamentally', 'ADV'), (('increase', 'NOUN'), ('increase', 'VERB'))], [('or', 'CONJ'), (('decrease', 'NOUN'), ('decrease', 'VERB'))], [('prices', 'NOUN'), (('move', 'NOUN'), ('move', 'VERB'))], [('Italy', 'NOUN'), (('there', 'DET'), ('there', 'ADV'))], [('The', 'DET'), (('most', 'ADJ'), ('most', 'ADV'))], [('&', 'CONJ'), (('poor', 'ADJ'), ('poor', 'NOUN'))], [('a', 'DET'), (('20-stock', 'NOUN'), ('20-stock', 'ADJ'))], [('index', 'NOUN'), (('that', 'ADP'), ('that', 'DET'))], [('*T*-1', 'X'), (('mimics', 'NOUN'), ('mimics', 'VERB'))], [(\"'\", 'PRT'), (('report', 'VERB'), ('report', 'NOUN'))], [('by', 'ADP'), (('more', 'ADJ'), ('more', 'ADV'))], [('The', 'DET'), (('British', 'ADJ'), ('British', 'NOUN'))], [('cutting', 'VERB'), (('capital-gains', 'NOUN'), ('capital-gains', 'ADJ'))], [('covers', 'VERB'), (('only', 'ADV'), ('only', 'ADJ'))], [('will', 'VERB'), (('learn', 'NOUN'), ('learn', 'VERB'))], [('local', 'ADJ'), (('public', 'NOUN'), ('public', 'ADJ'))], [('those', 'DET'), (('close', 'NOUN'), ('close', 'ADJ'))], [(',', '.'), (('right', 'NOUN'), ('right', 'ADV'))], [('right', 'ADV'), (('up', 'PRT'), ('up', 'ADP'))], [(',', '.'), (('close', 'NOUN'), ('close', 'ADJ'))], [('While', 'ADP'), (('worry', 'VERB'), ('worry', 'NOUN'))], [('for', 'ADP'), (('alleged', 'ADJ'), ('alleged', 'VERB'))], [('a', 'DET'), (('meatpacking', 'VERB'), ('meatpacking', 'NOUN'))], [('took', 'VERB'), (('over', 'ADP'), ('over', 'PRT'))], [(\"'s\", 'PRT'), (('seventh', 'NOUN'), ('seventh', 'ADJ'))], [('to', 'PRT'), (('counteract', 'NOUN'), ('counteract', 'VERB'))], [('military', 'ADJ'), (('command', 'VERB'), ('command', 'NOUN'))], [('major', 'ADJ'), (('offensive', 'ADJ'), ('offensive', 'NOUN'))], [('to', 'PRT'), (('phase', 'NOUN'), ('phase', 'VERB'))], [('make', 'VERB'), (('appropriate', 'NOUN'), ('appropriate', 'ADJ'))], [(\"'s\", 'PRT'), (('undelivered', 'VERB'), ('undelivered', 'ADJ'))], [('subscribe', 'VERB'), (('most', 'ADV'), ('most', 'ADJ'))], [('will', 'VERB'), (('personally', 'NOUN'), ('personally', 'ADV'))], [('by', 'ADP'), (('Manfred', 'VERB'), ('Manfred', 'NOUN'))], [('see', 'VERB'), (('more', 'ADV'), ('more', 'ADJ'))], [('of', 'ADP'), (('American', 'ADJ'), ('American', 'NOUN'))], [('and', 'CONJ'), (('that', 'DET'), ('that', 'ADP'))], [('to', 'PRT'), (('highlight', 'NOUN'), ('highlight', 'VERB'))], [(',', '.'), (('tight', 'ADV'), ('tight', 'ADJ'))], [('tight', 'ADJ'), (('facial', 'NOUN'), ('facial', 'ADJ'))], [('facial', 'ADJ'), (('shot', 'VERB'), ('shot', 'NOUN'))], [('*-37', 'X'), (('out', 'PRT'), ('out', 'ADP'))], [('power', 'NOUN'), (('that', 'ADP'), ('that', 'DET'))], [('to', 'PRT'), (('wield', 'NOUN'), ('wield', 'VERB'))], [('sizable', 'ADJ'), (('West', 'NOUN'), ('West', 'ADJ'))], [('West', 'ADJ'), (('German', 'NOUN'), ('German', 'ADJ'))], [('divisions', 'NOUN'), (('that', 'ADP'), ('that', 'DET'))], [(\"n't\", 'ADV'), (('wish', 'VERB'), ('wish', 'NOUN'))], [('owns', 'VERB'), (('about', 'ADP'), ('about', 'ADV'))], [(',', '.'), (('most', 'ADV'), ('most', 'ADJ'))], [('at', 'ADP'), (('nominal', 'NOUN'), ('nominal', 'ADJ'))], [('to', 'PRT'), (('gain', 'NOUN'), ('gain', 'VERB'))], [('the', 'DET'), (('NBC-owned', 'NOUN'), ('NBC-owned', 'ADJ'))], [(',', '.'), (('Advanced', 'VERB'), ('Advanced', 'NOUN'))], [(',', '.'), (('executes', 'NOUN'), ('executes', 'VERB'))], [('not', 'ADV'), (('unethical', 'NOUN'), ('unethical', 'ADJ'))], [('a', 'DET'), (('higher-salaried', 'NOUN'), ('higher-salaried', 'ADJ'))], [('an', 'DET'), (('affordable', 'NOUN'), ('affordable', 'ADJ'))], [('producing', 'VERB'), (('more', 'ADV'), ('more', 'ADJ'))], [('a', 'DET'), (('more', 'ADJ'), ('more', 'ADV'))], [('more', 'ADV'), (('drastic', 'NOUN'), ('drastic', 'ADJ'))], [('gave', 'VERB'), (('up', 'ADV'), ('up', 'PRT'))], [('The', 'DET'), (('downgrading', 'VERB'), ('downgrading', 'NOUN'))], [('0', 'X'), (('export', 'VERB'), ('export', 'NOUN'))], [('month', 'NOUN'), (('before', 'ADP'), ('before', 'ADV'))], [('of', 'ADP'), (('Advanced', 'VERB'), ('Advanced', 'NOUN'))], [('firm', 'NOUN'), (('that', 'ADP'), ('that', 'DET'))], [('*U*', 'X'), (('fund', 'VERB'), ('fund', 'NOUN'))], [('fund', 'NOUN'), (('that', 'ADP'), ('that', 'DET'))], [('clause', 'NOUN'), (('that', 'ADP'), ('that', 'DET'))], [('is', 'VERB'), (('erroneous', 'NOUN'), ('erroneous', 'ADJ'))], [('ended', 'VERB'), (('up', 'ADV'), ('up', 'PRT'))], [('among', 'ADP'), (('American', 'ADJ'), ('American', 'NOUN'))], [('an', 'DET'), (('American', 'ADJ'), ('American', 'NOUN'))], [('and', 'CONJ'), (('that', 'DET'), ('that', 'ADP'))], [('the', 'DET'), (('American', 'ADJ'), ('American', 'NOUN'))], [('``', '.'), (('qualified', 'VERB'), ('qualified', 'ADJ'))], [('Tire', 'NOUN'), (('&', 'CONJ'), ('&', 'X'))], [('and', 'CONJ'), (('related', 'VERB'), ('related', 'ADJ'))], [('.', '.'), (('Packaging', 'VERB'), ('Packaging', 'NOUN'))], [('``', '.'), (('deplorable', 'NOUN'), ('deplorable', 'ADJ'))], [('off', 'PRT'), (('talk', 'VERB'), ('talk', 'NOUN'))], [('*T*-164', 'X'), ((\"'s\", 'PRT'), (\"'s\", 'VERB'))], [('the', 'DET'), (('public', 'ADJ'), ('public', 'NOUN'))], [('.', '.'), (('Net', 'ADJ'), ('Net', 'NOUN'))], [('Net', 'NOUN'), (('advanced', 'ADJ'), ('advanced', 'VERB'))], [('including', 'VERB'), (('net', 'ADJ'), ('net', 'NOUN'))], [('*EXP*-1', 'X'), ((\"'s\", 'PRT'), (\"'s\", 'VERB'))], [('a', 'DET'), (('17-year-old', 'NOUN'), ('17-year-old', 'ADJ'))], [(\"'s\", 'PRT'), (('hot', 'NOUN'), ('hot', 'ADJ'))], [('--', '.'), (('and', 'CONJ'), ('and', 'NOUN'))], [('*T*-172', 'X'), ((\"'s\", 'PRT'), (\"'s\", 'VERB'))], [('very', 'ADV'), (('hot', 'NOUN'), ('hot', 'ADJ'))], [('to', 'PRT'), (('halve', 'NOUN'), ('halve', 'VERB'))], [('the', 'DET'), (('third-highest', 'NOUN'), ('third-highest', 'ADJ'))], [('``', '.'), (('Professional', 'NOUN'), ('Professional', 'ADJ'))], [('get', 'VERB'), (('enough', 'ADV'), ('enough', 'ADJ'))], [('substance', 'NOUN'), (('that', 'ADP'), ('that', 'DET'))], [('can', 'VERB'), (('induce', 'NOUN'), ('induce', 'VERB'))], [('the', 'DET'), (('most', 'ADJ'), ('most', 'ADV'))], [('battle', 'NOUN'), (('opens', 'NOUN'), ('opens', 'VERB'))], [('0', 'X'), (('that', 'ADP'), ('that', 'DET'))], [('.', '.'), (('Third', 'NOUN'), ('Third', 'ADJ'))], [('share', 'NOUN'), (('vs.', 'ADP'), ('vs.', 'CONJ'))], [('vs.', 'CONJ'), (('net', 'ADJ'), ('net', 'NOUN'))], [('our', 'PRON'), (('borrowing', 'VERB'), ('borrowing', 'NOUN'))], [('kids', 'NOUN'), (('broke', 'NOUN'), ('broke', 'VERB'))], [('will', 'VERB'), (('exchange', 'NOUN'), ('exchange', 'VERB'))], [('new', 'ADJ'), (('preferred', 'ADJ'), ('preferred', 'VERB'))], [('already', 'ADV'), (('own', 'ADJ'), ('own', 'VERB'))], [('.', '.'), (('Second', 'NOUN'), ('Second', 'ADJ'))], [('they', 'PRON'), (('channel', 'NOUN'), ('channel', 'VERB'))], [('settled', 'VERB'), (('pre-1917', 'NOUN'), ('pre-1917', 'ADJ'))], [(\"'s\", 'PRT'), (('face', 'VERB'), ('face', 'NOUN'))], [('state-owned', 'ADJ'), (('holding', 'NOUN'), ('holding', 'VERB'))], [('crystal', 'NOUN'), (('changes', 'NOUN'), ('changes', 'VERB'))], [('apparently', 'ADV'), (('pins', 'NOUN'), ('pins', 'VERB'))], [('.', '.'), (('Overall', 'NOUN'), ('Overall', 'ADJ'))], [(',', '.'), (('pretax', 'NOUN'), ('pretax', 'ADJ'))], [('The', 'DET'), (('American', 'ADJ'), ('American', 'NOUN'))], [('IRS', 'NOUN'), (('reporting', 'VERB'), ('reporting', 'NOUN'))], [('with', 'ADP'), (('top-level', 'NOUN'), ('top-level', 'ADJ'))], [('top-level', 'ADJ'), (('Chinese', 'NOUN'), ('Chinese', 'ADJ'))]]\n"
     ]
    }
   ],
   "source": [
    "accuracy_modified_rulebased,incorrect_tagged=evaluate_test(validation_set,tagger=rule_based_tagger,viterbi_call=Modified_Viterbi_Rule_Based)"
   ]
  },
  {
   "cell_type": "markdown",
   "metadata": {},
   "source": [
    "#### Accuracy from Modified Viterbi on validation set :"
   ]
  },
  {
   "cell_type": "code",
   "execution_count": 54,
   "metadata": {},
   "outputs": [
    {
     "name": "stdout",
     "output_type": "stream",
     "text": [
      "accuracy:  0.9561317995710665\n"
     ]
    }
   ],
   "source": [
    "print('accuracy: ',accuracy_modified_rulebased)"
   ]
  },
  {
   "cell_type": "markdown",
   "metadata": {},
   "source": [
    "#### Incorrect tagged cases:"
   ]
  },
  {
   "cell_type": "code",
   "execution_count": 55,
   "metadata": {},
   "outputs": [
    {
     "name": "stdout",
     "output_type": "stream",
     "text": [
      "Incorrect tagged cases:  [[('for', 'ADP'), (('midsized', 'VERB'), ('midsized', 'ADJ'))], [('to', 'PRT'), (('glamorize', 'NOUN'), ('glamorize', 'VERB'))], [('an', 'DET'), (('eight-count', 'NOUN'), ('eight-count', 'ADJ'))], [('to', 'PRT'), (('manipulate', 'NOUN'), ('manipulate', 'VERB'))], [(\"'s\", 'PRT'), (('planned', 'VERB'), ('planned', 'ADJ'))], [('lobbyists', 'NOUN'), (('as', 'ADP'), ('as', 'ADV'))], [('emissions', 'NOUN'), (('that', 'ADP'), ('that', 'DET'))], [('to', 'PRT'), (('fuel', 'NOUN'), ('fuel', 'VERB'))], [('*-1', 'X'), (('unimpeded', 'VERB'), ('unimpeded', 'ADJ'))], [('the', 'DET'), (('subsequent', 'NOUN'), ('subsequent', 'ADJ'))], [('orders', 'NOUN'), (('that', 'ADP'), ('that', 'DET'))], [('contract', 'NOUN'), (('down', 'ADP'), ('down', 'PRT'))], [('the', 'DET'), (('intermediate', 'NOUN'), ('intermediate', 'ADJ'))], [('.', '.'), (('Proper', 'NOUN'), ('Proper', 'ADJ'))], [('Proper', 'ADJ'), (('English', 'NOUN'), ('English', 'ADJ'))], [('the', 'DET'), (('highest-pitched', 'NOUN'), ('highest-pitched', 'ADJ'))], [(',', '.'), (('as', 'ADP'), ('as', 'ADV'))], [('the', 'DET'), (('Soviet', 'ADJ'), ('Soviet', 'NOUN'))], [('most', 'ADV'), (('favored', 'VERB'), ('favored', 'ADJ'))], [('the', 'DET'), (('absolute', 'NOUN'), ('absolute', 'ADJ'))], [('to', 'PRT'), (('disseminate', 'NOUN'), ('disseminate', 'VERB'))], [('the', 'DET'), (('scholarly', 'NOUN'), ('scholarly', 'ADJ'))], [('.', '.'), (('Federal', 'NOUN'), ('Federal', 'ADJ'))], [('bill', 'NOUN'), (('that', 'ADP'), ('that', 'DET'))], [('their', 'PRON'), (('pay', 'VERB'), ('pay', 'NOUN'))], [('apparently', 'ADV'), (('drew', 'NOUN'), ('drew', 'VERB'))], [('The', 'DET'), (('Chinese', 'ADJ'), ('Chinese', 'NOUN'))], [('equally', 'ADV'), (('undiplomatic', 'NOUN'), ('undiplomatic', 'ADJ'))], [('The', 'DET'), (('Soviet', 'ADJ'), ('Soviet', 'NOUN'))], [('crops', 'NOUN'), (('earlier', 'ADV'), ('earlier', 'ADJ'))], [('sky', 'NOUN'), (('high', 'ADJ'), ('high', 'ADV'))], [('%', 'NOUN'), (('boosts', 'VERB'), ('boosts', 'NOUN'))], [('--', '.'), (('complicated', 'ADJ'), ('complicated', 'ADP'))], [('.', '.'), (('New', 'NOUN'), ('New', 'ADJ'))], [('rules', 'NOUN'), (('force', 'NOUN'), ('force', 'VERB'))], [('write', 'VERB'), (('down', 'ADV'), ('down', 'PRT'))], [('months', 'NOUN'), (('ago', 'ADP'), ('ago', 'ADV'))], [('come', 'VERB'), (('up', 'ADV'), ('up', 'PRT'))], [('for', 'ADP'), (('expendable', 'NOUN'), ('expendable', 'ADJ'))], [('.', '.'), (('Net', 'ADJ'), ('Net', 'NOUN'))], [('year', 'NOUN'), (('earlier', 'ADV'), ('earlier', 'ADJ'))], [('was', 'VERB'), (('such', 'ADJ'), ('such', 'DET'))], [(',', '.'), (('off', 'ADP'), ('off', 'ADV'))], [('a', 'DET'), (('gigantic', 'NOUN'), ('gigantic', 'ADJ'))], [('year', 'NOUN'), (('earlier', 'ADV'), ('earlier', 'ADJ'))], [('law', 'NOUN'), (('that', 'ADP'), ('that', 'DET'))], [('*T*-126', 'X'), (('receives', 'NOUN'), ('receives', 'VERB'))], [('receives', 'VERB'), (('more', 'ADV'), ('more', 'ADJ'))], [('Form', 'NOUN'), (('8300', 'ADJ'), ('8300', 'NUM'))], [('That', 'DET'), (('builds', 'NOUN'), ('builds', 'VERB'))], [('mention', 'VERB'), (('critical', 'NOUN'), ('critical', 'ADJ'))], [('regulatory', 'ADJ'), (('net', 'ADJ'), ('net', 'NOUN'))], [('riders', 'NOUN'), (('that', 'ADP'), ('that', 'DET'))], [('*T*-1', 'X'), (('trespass', 'NOUN'), ('trespass', 'VERB'))], [('and', 'CONJ'), (('prerogative', 'ADJ'), ('prerogative', 'NOUN'))], [('but', 'CONJ'), (('due', 'ADJ'), ('due', 'ADV'))], [(',', '.'), (('overseas', 'ADV'), ('overseas', 'ADJ'))], [('systems', 'NOUN'), (('any', 'DET'), ('any', 'ADV'))], [('to', 'PRT'), (('audit', 'NOUN'), ('audit', 'VERB'))], [('and', 'CONJ'), (('refund', 'NOUN'), ('refund', 'VERB'))], [('the', 'DET'), (('outside', 'ADJ'), ('outside', 'NOUN'))], [(\"''\", '.'), (('Spending', 'VERB'), ('Spending', 'NOUN'))], [(',', '.'), (('nonresidential', 'NOUN'), ('nonresidential', 'ADJ'))], [('was', 'VERB'), (('off', 'PRT'), ('off', 'ADJ'))], [('``', '.'), (('So', 'ADV'), ('So', 'ADP'))], [('other', 'ADJ'), (('fixed-income', 'NOUN'), ('fixed-income', 'ADJ'))], [('of', 'ADP'), (('All', 'DET'), ('All', 'NOUN'))], [('to', 'PRT'), (('oust', 'NOUN'), ('oust', 'VERB'))], [('rules', 'NOUN'), (('state', 'NOUN'), ('state', 'VERB'))], [('Poland', 'NOUN'), (('contrasts', 'NOUN'), ('contrasts', 'VERB'))], [('the', 'DET'), (('underlying', 'ADJ'), ('underlying', 'VERB'))], [('provoked', 'VERB'), (('veto', 'VERB'), ('veto', 'NOUN'))], [('a', 'DET'), (('run', 'VERB'), ('run', 'NOUN'))], [('so', 'ADV'), (('far', 'ADV'), ('far', 'ADJ'))], [('10', 'NUM'), (('citizen-sparked', 'NOUN'), ('citizen-sparked', 'ADJ'))], [('any', 'DET'), (('odd-year', 'NOUN'), ('odd-year', 'ADJ'))], [(',', '.'), (('as', 'ADP'), ('as', 'ADV'))], [('as', 'ADV'), (('early', 'ADJ'), ('early', 'ADV'))], [(',', '.'), (('most', 'ADV'), ('most', 'ADJ'))], [('the', 'DET'), (('building', 'NOUN'), ('building', 'VERB'))], [('money', 'NOUN'), (('erect', 'NOUN'), ('erect', 'VERB'))], [('to', 'PRT'), (('present', 'ADJ'), ('present', 'VERB'))], [('to', 'PRT'), (('appease', 'NOUN'), ('appease', 'VERB'))], [('appease', 'VERB'), (('Midwestern', 'NOUN'), ('Midwestern', 'ADJ'))], [('from', 'ADP'), (('high-polluting', 'NOUN'), ('high-polluting', 'ADJ'))], [('on', 'ADP'), (('cost-sharing', 'ADJ'), ('cost-sharing', 'NOUN'))], [('has', 'VERB'), (('much', 'ADV'), ('much', 'ADJ'))], [(\"n't\", 'ADV'), (('endorse', 'NOUN'), ('endorse', 'VERB'))], [('a', 'DET'), (('cosmetic', 'NOUN'), ('cosmetic', 'ADJ'))], [('a', 'DET'), (('sometimes-exhausting', 'NOUN'), ('sometimes-exhausting', 'ADJ'))], [('dividend', 'NOUN'), (('yield', 'VERB'), ('yield', 'NOUN'))], [('level', 'NOUN'), (('that', 'ADP'), ('that', 'DET'))], [('and', 'CONJ'), (('unenticing', 'VERB'), ('unenticing', 'ADJ'))], [('an', 'DET'), (('opposite', 'NOUN'), ('opposite', 'ADJ'))], [('to', 'PRT'), (('colder', 'NOUN'), ('colder', 'ADJ'))], [('colder', 'ADJ'), (('weather', 'VERB'), ('weather', 'NOUN'))], [('the', 'DET'), (('American', 'ADJ'), ('American', 'NOUN'))], [('to', 'PRT'), (('planting', 'VERB'), ('planting', 'NOUN'))], [('of', 'ADP'), (('orange', 'NOUN'), ('orange', 'ADJ'))], [('areas', 'NOUN'), (('that', 'ADP'), ('that', 'DET'))], [('the', 'DET'), (('key', 'ADJ'), ('key', 'NOUN'))], [('must', 'VERB'), (('fundamentally', 'NOUN'), ('fundamentally', 'ADV'))], [('fundamentally', 'ADV'), (('increase', 'NOUN'), ('increase', 'VERB'))], [('or', 'CONJ'), (('decrease', 'NOUN'), ('decrease', 'VERB'))], [('prices', 'NOUN'), (('move', 'NOUN'), ('move', 'VERB'))], [('Italy', 'NOUN'), (('there', 'DET'), ('there', 'ADV'))], [('The', 'DET'), (('most', 'ADJ'), ('most', 'ADV'))], [('&', 'CONJ'), (('poor', 'ADJ'), ('poor', 'NOUN'))], [('a', 'DET'), (('20-stock', 'NOUN'), ('20-stock', 'ADJ'))], [('index', 'NOUN'), (('that', 'ADP'), ('that', 'DET'))], [('*T*-1', 'X'), (('mimics', 'NOUN'), ('mimics', 'VERB'))], [(\"'\", 'PRT'), (('report', 'VERB'), ('report', 'NOUN'))], [('by', 'ADP'), (('more', 'ADJ'), ('more', 'ADV'))], [('The', 'DET'), (('British', 'ADJ'), ('British', 'NOUN'))], [('cutting', 'VERB'), (('capital-gains', 'NOUN'), ('capital-gains', 'ADJ'))], [('covers', 'VERB'), (('only', 'ADV'), ('only', 'ADJ'))], [('will', 'VERB'), (('learn', 'NOUN'), ('learn', 'VERB'))], [('local', 'ADJ'), (('public', 'NOUN'), ('public', 'ADJ'))], [('those', 'DET'), (('close', 'NOUN'), ('close', 'ADJ'))], [(',', '.'), (('right', 'NOUN'), ('right', 'ADV'))], [('right', 'ADV'), (('up', 'PRT'), ('up', 'ADP'))], [(',', '.'), (('close', 'NOUN'), ('close', 'ADJ'))], [('While', 'ADP'), (('worry', 'VERB'), ('worry', 'NOUN'))], [('for', 'ADP'), (('alleged', 'ADJ'), ('alleged', 'VERB'))], [('a', 'DET'), (('meatpacking', 'VERB'), ('meatpacking', 'NOUN'))], [('took', 'VERB'), (('over', 'ADP'), ('over', 'PRT'))], [(\"'s\", 'PRT'), (('seventh', 'NOUN'), ('seventh', 'ADJ'))], [('to', 'PRT'), (('counteract', 'NOUN'), ('counteract', 'VERB'))], [('military', 'ADJ'), (('command', 'VERB'), ('command', 'NOUN'))], [('major', 'ADJ'), (('offensive', 'ADJ'), ('offensive', 'NOUN'))], [('to', 'PRT'), (('phase', 'NOUN'), ('phase', 'VERB'))], [('make', 'VERB'), (('appropriate', 'NOUN'), ('appropriate', 'ADJ'))], [(\"'s\", 'PRT'), (('undelivered', 'VERB'), ('undelivered', 'ADJ'))], [('subscribe', 'VERB'), (('most', 'ADV'), ('most', 'ADJ'))], [('will', 'VERB'), (('personally', 'NOUN'), ('personally', 'ADV'))], [('by', 'ADP'), (('Manfred', 'VERB'), ('Manfred', 'NOUN'))], [('see', 'VERB'), (('more', 'ADV'), ('more', 'ADJ'))], [('of', 'ADP'), (('American', 'ADJ'), ('American', 'NOUN'))], [('and', 'CONJ'), (('that', 'DET'), ('that', 'ADP'))], [('to', 'PRT'), (('highlight', 'NOUN'), ('highlight', 'VERB'))], [(',', '.'), (('tight', 'ADV'), ('tight', 'ADJ'))], [('tight', 'ADJ'), (('facial', 'NOUN'), ('facial', 'ADJ'))], [('facial', 'ADJ'), (('shot', 'VERB'), ('shot', 'NOUN'))], [('*-37', 'X'), (('out', 'PRT'), ('out', 'ADP'))], [('power', 'NOUN'), (('that', 'ADP'), ('that', 'DET'))], [('to', 'PRT'), (('wield', 'NOUN'), ('wield', 'VERB'))], [('sizable', 'ADJ'), (('West', 'NOUN'), ('West', 'ADJ'))], [('West', 'ADJ'), (('German', 'NOUN'), ('German', 'ADJ'))], [('divisions', 'NOUN'), (('that', 'ADP'), ('that', 'DET'))], [(\"n't\", 'ADV'), (('wish', 'VERB'), ('wish', 'NOUN'))], [('owns', 'VERB'), (('about', 'ADP'), ('about', 'ADV'))], [(',', '.'), (('most', 'ADV'), ('most', 'ADJ'))], [('at', 'ADP'), (('nominal', 'NOUN'), ('nominal', 'ADJ'))], [('to', 'PRT'), (('gain', 'NOUN'), ('gain', 'VERB'))], [('the', 'DET'), (('NBC-owned', 'NOUN'), ('NBC-owned', 'ADJ'))], [(',', '.'), (('Advanced', 'VERB'), ('Advanced', 'NOUN'))], [(',', '.'), (('executes', 'NOUN'), ('executes', 'VERB'))], [('not', 'ADV'), (('unethical', 'NOUN'), ('unethical', 'ADJ'))], [('a', 'DET'), (('higher-salaried', 'NOUN'), ('higher-salaried', 'ADJ'))], [('an', 'DET'), (('affordable', 'NOUN'), ('affordable', 'ADJ'))], [('producing', 'VERB'), (('more', 'ADV'), ('more', 'ADJ'))], [('a', 'DET'), (('more', 'ADJ'), ('more', 'ADV'))], [('more', 'ADV'), (('drastic', 'NOUN'), ('drastic', 'ADJ'))], [('gave', 'VERB'), (('up', 'ADV'), ('up', 'PRT'))], [('The', 'DET'), (('downgrading', 'VERB'), ('downgrading', 'NOUN'))], [('0', 'X'), (('export', 'VERB'), ('export', 'NOUN'))], [('month', 'NOUN'), (('before', 'ADP'), ('before', 'ADV'))], [('of', 'ADP'), (('Advanced', 'VERB'), ('Advanced', 'NOUN'))], [('firm', 'NOUN'), (('that', 'ADP'), ('that', 'DET'))], [('*U*', 'X'), (('fund', 'VERB'), ('fund', 'NOUN'))], [('fund', 'NOUN'), (('that', 'ADP'), ('that', 'DET'))], [('clause', 'NOUN'), (('that', 'ADP'), ('that', 'DET'))], [('is', 'VERB'), (('erroneous', 'NOUN'), ('erroneous', 'ADJ'))], [('ended', 'VERB'), (('up', 'ADV'), ('up', 'PRT'))], [('among', 'ADP'), (('American', 'ADJ'), ('American', 'NOUN'))], [('an', 'DET'), (('American', 'ADJ'), ('American', 'NOUN'))], [('and', 'CONJ'), (('that', 'DET'), ('that', 'ADP'))], [('the', 'DET'), (('American', 'ADJ'), ('American', 'NOUN'))], [('``', '.'), (('qualified', 'VERB'), ('qualified', 'ADJ'))], [('Tire', 'NOUN'), (('&', 'CONJ'), ('&', 'X'))], [('and', 'CONJ'), (('related', 'VERB'), ('related', 'ADJ'))], [('.', '.'), (('Packaging', 'VERB'), ('Packaging', 'NOUN'))], [('``', '.'), (('deplorable', 'NOUN'), ('deplorable', 'ADJ'))], [('off', 'PRT'), (('talk', 'VERB'), ('talk', 'NOUN'))], [('*T*-164', 'X'), ((\"'s\", 'PRT'), (\"'s\", 'VERB'))], [('the', 'DET'), (('public', 'ADJ'), ('public', 'NOUN'))], [('.', '.'), (('Net', 'ADJ'), ('Net', 'NOUN'))], [('Net', 'NOUN'), (('advanced', 'ADJ'), ('advanced', 'VERB'))], [('including', 'VERB'), (('net', 'ADJ'), ('net', 'NOUN'))], [('*EXP*-1', 'X'), ((\"'s\", 'PRT'), (\"'s\", 'VERB'))], [('a', 'DET'), (('17-year-old', 'NOUN'), ('17-year-old', 'ADJ'))], [(\"'s\", 'PRT'), (('hot', 'NOUN'), ('hot', 'ADJ'))], [('--', '.'), (('and', 'CONJ'), ('and', 'NOUN'))], [('*T*-172', 'X'), ((\"'s\", 'PRT'), (\"'s\", 'VERB'))], [('very', 'ADV'), (('hot', 'NOUN'), ('hot', 'ADJ'))], [('to', 'PRT'), (('halve', 'NOUN'), ('halve', 'VERB'))], [('the', 'DET'), (('third-highest', 'NOUN'), ('third-highest', 'ADJ'))], [('``', '.'), (('Professional', 'NOUN'), ('Professional', 'ADJ'))], [('get', 'VERB'), (('enough', 'ADV'), ('enough', 'ADJ'))], [('substance', 'NOUN'), (('that', 'ADP'), ('that', 'DET'))], [('can', 'VERB'), (('induce', 'NOUN'), ('induce', 'VERB'))], [('the', 'DET'), (('most', 'ADJ'), ('most', 'ADV'))], [('battle', 'NOUN'), (('opens', 'NOUN'), ('opens', 'VERB'))], [('0', 'X'), (('that', 'ADP'), ('that', 'DET'))], [('.', '.'), (('Third', 'NOUN'), ('Third', 'ADJ'))], [('share', 'NOUN'), (('vs.', 'ADP'), ('vs.', 'CONJ'))], [('vs.', 'CONJ'), (('net', 'ADJ'), ('net', 'NOUN'))], [('our', 'PRON'), (('borrowing', 'VERB'), ('borrowing', 'NOUN'))], [('kids', 'NOUN'), (('broke', 'NOUN'), ('broke', 'VERB'))], [('will', 'VERB'), (('exchange', 'NOUN'), ('exchange', 'VERB'))], [('new', 'ADJ'), (('preferred', 'ADJ'), ('preferred', 'VERB'))], [('already', 'ADV'), (('own', 'ADJ'), ('own', 'VERB'))], [('.', '.'), (('Second', 'NOUN'), ('Second', 'ADJ'))], [('they', 'PRON'), (('channel', 'NOUN'), ('channel', 'VERB'))], [('settled', 'VERB'), (('pre-1917', 'NOUN'), ('pre-1917', 'ADJ'))], [(\"'s\", 'PRT'), (('face', 'VERB'), ('face', 'NOUN'))], [('state-owned', 'ADJ'), (('holding', 'NOUN'), ('holding', 'VERB'))], [('crystal', 'NOUN'), (('changes', 'NOUN'), ('changes', 'VERB'))], [('apparently', 'ADV'), (('pins', 'NOUN'), ('pins', 'VERB'))], [('.', '.'), (('Overall', 'NOUN'), ('Overall', 'ADJ'))], [(',', '.'), (('pretax', 'NOUN'), ('pretax', 'ADJ'))], [('The', 'DET'), (('American', 'ADJ'), ('American', 'NOUN'))], [('IRS', 'NOUN'), (('reporting', 'VERB'), ('reporting', 'NOUN'))], [('with', 'ADP'), (('top-level', 'NOUN'), ('top-level', 'ADJ'))], [('top-level', 'ADJ'), (('Chinese', 'NOUN'), ('Chinese', 'ADJ'))]]\n"
     ]
    }
   ],
   "source": [
    "print('Incorrect tagged cases: ',incorrect_tagged)"
   ]
  },
  {
   "cell_type": "markdown",
   "metadata": {},
   "source": [
    "#### 6.1.4 Incorrect tagged words \n",
    "<a id='Incorrect_Words_Modified'></a>"
   ]
  },
  {
   "cell_type": "code",
   "execution_count": 56,
   "metadata": {},
   "outputs": [
    {
     "name": "stdout",
     "output_type": "stream",
     "text": [
      "Incorrect tagged words size:  176  Incorrect tagged words:  {'as', 'NBC-owned', 'up', 'builds', 'gigantic', 'underlying', 'undiplomatic', 'fundamentally', 'manipulate', 'Midwestern', 'expendable', 'there', 'counteract', 'highest-pitched', '&', 'Proper', 'alleged', 'nominal', 'building', 'erect', 'due', 'glamorize', 'broke', 'Chinese', 'holding', 'Soviet', 'most', 'higher-salaried', 'Second', 'own', 'odd-year', 'present', 'shot', 'Professional', 'audit', 'appease', 'report', 'key', 'Federal', 'phase', 'wish', 'fund', 'cosmetic', 'borrowing', 'facial', 'highlight', 'third-highest', 'pay', 'move', 'opposite', 'disseminate', 'pins', 'Third', 'channel', 'All', 'state', 'more', 'ago', 'meatpacking', 'So', 'favored', 'Packaging', 'changes', 'unethical', 'related', 'net', 'such', 'executes', 'and', 'pre-1917', 'learn', 'yield', 'appropriate', 'trespass', 'off', 'talk', 'erroneous', 'about', 'intermediate', 'far', 'public', 'overseas', 'gain', 'only', 'Advanced', 'fuel', 'receives', 'sometimes-exhausting', 'pretax', 'weather', 'much', 'force', 'enough', 'high-polluting', 'midsized', 'top-level', 'close', 'outside', 'affordable', 'wield', 'drew', 'complicated', 'increase', 'vs.', 'planting', 'planned', 'high', 'mimics', 'worry', 'capital-gains', 'induce', 'Net', 'orange', '17-year-old', 'subsequent', 'down', 'unimpeded', 'nonresidential', 'reporting', 'offensive', 'over', 'halve', 'English', 'colder', 'downgrading', 'veto', 'any', 'export', 'undelivered', 'New', 'hot', 'Manfred', 'eight-count', '20-stock', 'drastic', 'oust', 'opens', 'refund', 'qualified', 'early', 'critical', 'run', 'advanced', 'poor', 'British', 'decrease', \"'s\", 'prerogative', 'exchange', 'deplorable', 'citizen-sparked', 'West', 'face', 'earlier', 'boosts', 'right', 'command', '8300', 'tight', 'out', 'cost-sharing', 'German', 'American', 'preferred', 'contrasts', 'fixed-income', 'Spending', 'Overall', 'absolute', 'endorse', 'unenticing', 'seventh', 'that', 'scholarly', 'personally', 'before'}\n"
     ]
    }
   ],
   "source": [
    "incorrect_tagged_words=[i[0] for i in [incorrect_word[1] for pair in incorrect_tagged for incorrect_word in pair][1::2]]\n",
    "incorrect_tagged_rulebased=set(incorrect_tagged_words)\n",
    "print('Incorrect tagged words size: ',len(incorrect_tagged_rulebased),' Incorrect tagged words: ',incorrect_tagged_rulebased)"
   ]
  },
  {
   "cell_type": "markdown",
   "metadata": {},
   "source": [
    "<b>Unknown Words which are common in incorrect tagged words</b>:\n",
    "\n",
    "\n",
    "- Unknown Words Section: [Unknown_Words](#Unknown_Words) \n",
    "- Incorrect Tagged Words Section: [Incorrect_Words_Modified](#Incorrect_Words_Modified)"
   ]
  },
  {
   "cell_type": "markdown",
   "metadata": {},
   "source": [
    "<b>Left over unknown words which are not been corrected from above</b>:"
   ]
  },
  {
   "cell_type": "code",
   "execution_count": 57,
   "metadata": {},
   "outputs": [
    {
     "data": {
      "text/plain": [
       "{'17-year-old',\n",
       " '20-stock',\n",
       " 'Advanced',\n",
       " 'Manfred',\n",
       " 'NBC-owned',\n",
       " 'Overall',\n",
       " 'Packaging',\n",
       " 'Proper',\n",
       " 'Spending',\n",
       " 'Third',\n",
       " 'absolute',\n",
       " 'affordable',\n",
       " 'appease',\n",
       " 'appropriate',\n",
       " 'broke',\n",
       " 'builds',\n",
       " 'channel',\n",
       " 'citizen-sparked',\n",
       " 'colder',\n",
       " 'contrasts',\n",
       " 'counteract',\n",
       " 'critical',\n",
       " 'deplorable',\n",
       " 'disseminate',\n",
       " 'downgrading',\n",
       " 'drastic',\n",
       " 'drew',\n",
       " 'eight-count',\n",
       " 'endorse',\n",
       " 'erect',\n",
       " 'erroneous',\n",
       " 'executes',\n",
       " 'expendable',\n",
       " 'facial',\n",
       " 'fixed-income',\n",
       " 'fundamentally',\n",
       " 'gigantic',\n",
       " 'glamorize',\n",
       " 'halve',\n",
       " 'high-polluting',\n",
       " 'higher-salaried',\n",
       " 'highest-pitched',\n",
       " 'highlight',\n",
       " 'hot',\n",
       " 'induce',\n",
       " 'intermediate',\n",
       " 'learn',\n",
       " 'manipulate',\n",
       " 'meatpacking',\n",
       " 'mimics',\n",
       " 'nominal',\n",
       " 'nonresidential',\n",
       " 'odd-year',\n",
       " 'offensive',\n",
       " 'opens',\n",
       " 'opposite',\n",
       " 'orange',\n",
       " 'oust',\n",
       " 'personally',\n",
       " 'phase',\n",
       " 'planting',\n",
       " 'pre-1917',\n",
       " 'prerogative',\n",
       " 'receives',\n",
       " 'scholarly',\n",
       " 'seventh',\n",
       " 'sometimes-exhausting',\n",
       " 'subsequent',\n",
       " 'third-highest',\n",
       " 'top-level',\n",
       " 'trespass',\n",
       " 'undelivered',\n",
       " 'undiplomatic',\n",
       " 'unenticing',\n",
       " 'unethical',\n",
       " 'unimpeded',\n",
       " 'wield'}"
      ]
     },
     "execution_count": 57,
     "metadata": {},
     "output_type": "execute_result"
    }
   ],
   "source": [
    "set(unknown_words).intersection(incorrect_tagged_rulebased)"
   ]
  },
  {
   "cell_type": "code",
   "execution_count": 58,
   "metadata": {},
   "outputs": [
    {
     "name": "stdout",
     "output_type": "stream",
     "text": [
      "56.25 % of unknown words identified correctly\n"
     ]
    }
   ],
   "source": [
    "print((1-(len(set(unknown_words).intersection(incorrect_tagged_rulebased))/len(incorrect_tagged_rulebased)))*100,'% of unknown words identified correctly')"
   ]
  },
  {
   "cell_type": "markdown",
   "metadata": {},
   "source": [
    "#### Conclusion"
   ]
  },
  {
   "cell_type": "markdown",
   "metadata": {},
   "source": [
    "#### 6.1.5 Evaluating on test set"
   ]
  },
  {
   "cell_type": "code",
   "execution_count": 59,
   "metadata": {},
   "outputs": [],
   "source": [
    "## Function to test on test sentences\n",
    "def check_tags_on_test_modified_ruleb(sentence_test):\n",
    "    words = word_tokenize(sentence_test)\n",
    "\n",
    "    start = time.time()\n",
    "    tagged_seq = Modified_Viterbi_Rule_Based(words,custom_tagger=rule_based_tagger)\n",
    "    end = time.time()\n",
    "    difference = end-start\n",
    "    print('Tag Sequence: ',tagged_seq)\n",
    "    print(difference)\n",
    "    return tagged_seq\n",
    "    "
   ]
  },
  {
   "cell_type": "markdown",
   "metadata": {},
   "source": [
    "<b>Results on Test Set:</b>\n",
    "<a id='Rulebased_Tests_Results'></a>"
   ]
  },
  {
   "cell_type": "code",
   "execution_count": 60,
   "metadata": {},
   "outputs": [
    {
     "name": "stdout",
     "output_type": "stream",
     "text": [
      "Sentence 1:  Android is a mobile operating system developed by Google.\n",
      "\n",
      "Tag Sequence:  [('Android', 'NOUN'), ('is', 'VERB'), ('a', 'DET'), ('mobile', 'ADJ'), ('operating', 'NOUN'), ('system', 'NOUN'), ('developed', 'VERB'), ('by', 'ADP'), ('Google', 'NOUN'), ('.', '.')]\n",
      "2.053551435470581\n",
      "\n",
      "Sentence 2:  Android has been the best-selling OS worldwide on smartphones since 2011 and on tablets since 2013.\n",
      "\n",
      "Tag Sequence:  [('Android', 'NOUN'), ('has', 'VERB'), ('been', 'VERB'), ('the', 'DET'), ('best-selling', 'ADJ'), ('OS', 'NOUN'), ('worldwide', 'NOUN'), ('on', 'ADP'), ('smartphones', 'NOUN'), ('since', 'ADP'), ('2011', 'NUM'), ('and', 'CONJ'), ('on', 'ADP'), ('tablets', 'NOUN'), ('since', 'ADP'), ('2013', 'NUM'), ('.', '.')]\n",
      "3.310145854949951\n",
      "\n",
      "Sentence 3:  Google and Twitter made a deal in 2015 that gave Google access to Twitter's firehose.\n",
      "\n",
      "Tag Sequence:  [('Google', 'NOUN'), ('and', 'CONJ'), ('Twitter', 'NOUN'), ('made', 'VERB'), ('a', 'DET'), ('deal', 'NOUN'), ('in', 'ADP'), ('2015', 'NUM'), ('that', 'ADP'), ('gave', 'VERB'), ('Google', 'NOUN'), ('access', 'NOUN'), ('to', 'PRT'), ('Twitter', 'NOUN'), (\"'s\", 'PRT'), ('firehose', 'NOUN'), ('.', '.')]\n",
      "3.211409568786621\n",
      "\n",
      "Sentence 4:  Twitter is an online news and social networking service on which users post and interact with messages known as tweets.\n",
      "\n",
      "Tag Sequence:  [('Twitter', 'NOUN'), ('is', 'VERB'), ('an', 'DET'), ('online', 'NOUN'), ('news', 'NOUN'), ('and', 'CONJ'), ('social', 'ADJ'), ('networking', 'NOUN'), ('service', 'NOUN'), ('on', 'ADP'), ('which', 'DET'), ('users', 'NOUN'), ('post', 'NOUN'), ('and', 'CONJ'), ('interact', 'NOUN'), ('with', 'ADP'), ('messages', 'NOUN'), ('known', 'VERB'), ('as', 'ADP'), ('tweets', 'NOUN'), ('.', '.')]\n",
      "3.9614038467407227\n",
      "\n",
      "Sentence 5:  Before entering politics, Donald Trump was a domineering businessman and a television personality.\n",
      "\n",
      "Tag Sequence:  [('Before', 'ADP'), ('entering', 'VERB'), ('politics', 'NOUN'), (',', '.'), ('Donald', 'NOUN'), ('Trump', 'NOUN'), ('was', 'VERB'), ('a', 'DET'), ('domineering', 'VERB'), ('businessman', 'NOUN'), ('and', 'CONJ'), ('a', 'DET'), ('television', 'NOUN'), ('personality', 'NOUN'), ('.', '.')]\n",
      "2.817418336868286\n",
      "\n",
      "Sentence 6:  The 2018 FIFA World Cup is the 21st FIFA World Cup, an international football tournament contested once every four years.\n",
      "\n",
      "Tag Sequence:  [('The', 'DET'), ('2018', 'NUM'), ('FIFA', 'NOUN'), ('World', 'NOUN'), ('Cup', 'NOUN'), ('is', 'VERB'), ('the', 'DET'), ('21st', 'NOUN'), ('FIFA', 'NOUN'), ('World', 'NOUN'), ('Cup', 'NOUN'), (',', '.'), ('an', 'DET'), ('international', 'ADJ'), ('football', 'NOUN'), ('tournament', 'NOUN'), ('contested', 'VERB'), ('once', 'ADV'), ('every', 'DET'), ('four', 'NUM'), ('years', 'NOUN'), ('.', '.')]\n",
      "4.335443496704102\n",
      "\n",
      "Sentence 7:  This is the first World Cup to be held in Eastern Europe and the 11th time that it has been held in Europe.\n",
      "\n",
      "Tag Sequence:  [('This', 'DET'), ('is', 'VERB'), ('the', 'DET'), ('first', 'ADJ'), ('World', 'NOUN'), ('Cup', 'NOUN'), ('to', 'PRT'), ('be', 'VERB'), ('held', 'VERB'), ('in', 'ADP'), ('Eastern', 'NOUN'), ('Europe', 'NOUN'), ('and', 'CONJ'), ('the', 'DET'), ('11th', 'ADJ'), ('time', 'NOUN'), ('that', 'ADP'), ('it', 'PRON'), ('has', 'VERB'), ('been', 'VERB'), ('held', 'VERB'), ('in', 'ADP'), ('Europe', 'NOUN'), ('.', '.')]\n",
      "4.671503782272339\n",
      "\n",
      "Sentence 8:  Show me the cheapest round trips from Dallas to Atlanta\n",
      "\n",
      "Tag Sequence:  [('Show', 'NOUN'), ('me', 'PRON'), ('the', 'DET'), ('cheapest', 'ADJ'), ('round', 'NOUN'), ('trips', 'NOUN'), ('from', 'ADP'), ('Dallas', 'NOUN'), ('to', 'PRT'), ('Atlanta', 'NOUN')]\n",
      "1.9138362407684326\n",
      "\n",
      "Sentence 9:  I would like to see flights from Denver to Philadelphia.\n",
      "\n",
      "Tag Sequence:  [('I', 'PRON'), ('would', 'VERB'), ('like', 'ADP'), ('to', 'PRT'), ('see', 'VERB'), ('flights', 'NOUN'), ('from', 'ADP'), ('Denver', 'NOUN'), ('to', 'PRT'), ('Philadelphia', 'NOUN'), ('.', '.')]\n",
      "2.1671998500823975\n",
      "\n",
      "Sentence 10:  Show me the price of the flights leaving Atlanta at about 3 in the afternoon and arriving in San Francisco.\n",
      "\n",
      "Tag Sequence:  [('Show', 'NOUN'), ('me', 'PRON'), ('the', 'DET'), ('price', 'NOUN'), ('of', 'ADP'), ('the', 'DET'), ('flights', 'NOUN'), ('leaving', 'VERB'), ('Atlanta', 'NOUN'), ('at', 'ADP'), ('about', 'ADP'), ('3', 'NUM'), ('in', 'ADP'), ('the', 'DET'), ('afternoon', 'NOUN'), ('and', 'CONJ'), ('arriving', 'VERB'), ('in', 'ADP'), ('San', 'NOUN'), ('Francisco', 'NOUN'), ('.', '.')]\n",
      "3.900592565536499\n",
      "\n",
      "Sentence 11:  NASA invited social media users to experience the launch of ICESAT-2 Satellite.\n",
      "\n",
      "Tag Sequence:  [('NASA', 'NOUN'), ('invited', 'VERB'), ('social', 'ADJ'), ('media', 'NOUN'), ('users', 'NOUN'), ('to', 'PRT'), ('experience', 'NOUN'), ('the', 'DET'), ('launch', 'NOUN'), ('of', 'ADP'), ('ICESAT-2', 'NOUN'), ('Satellite', 'NOUN'), ('.', '.')]\n",
      "2.3995447158813477\n",
      "\n",
      "Sentence 12:  \n",
      "\n",
      "Tag Sequence:  []\n",
      "0.0\n",
      "\n"
     ]
    }
   ],
   "source": [
    "#Executing Modified viterbi line by line on each sentence on test set\n",
    "f = open(test_file)\n",
    "file_as_list = f.readlines()\n",
    "\n",
    "test_rulebased_tag_seq=[]\n",
    "i=1\n",
    "for line in file_as_list:\n",
    "    if line!=[]:\n",
    "        print('Sentence '+str(i)+': ',line)\n",
    "        test_rulebased_tag_seq.append(check_tags_on_test_modified_ruleb(line))\n",
    "        print()\n",
    "        i=i+1"
   ]
  },
  {
   "cell_type": "markdown",
   "metadata": {},
   "source": [
    "### Observation\n",
    "<b>It is seen that most of the incorrect tagged cases are corrected by using rule based technique for tagging.\n",
    "Some of the improved cases are : Google,Twitter,OS (previous->'.' now->NOUN) ,2011 (previous->'.' now->NUM), arriving (previous->'.' now->VERB) etc</b>\n",
    "\n",
    "We will be discussing the details of this at the last section\n",
    "\n",
    "Some other observations:\n",
    "- Accuracy has increased from `0.909728992006239 (~91%)`(Vanilla) to `0.9561317995710665 (~96%)`\n",
    "- Number of tags in validation set identified incorrectlly has dropped from `405` to `176`\n",
    "- We can also try out other technique purely based on transition probability to avoid morphological taggers.\n"
   ]
  },
  {
   "cell_type": "markdown",
   "metadata": {},
   "source": [
    "#### 6.2 Approach 2 "
   ]
  },
  {
   "cell_type": "markdown",
   "metadata": {},
   "source": [
    "#### 6.2.1 Consider transition probability\n",
    "\n",
    "Emission probability becomes zero when the word is not there in training set.Thus based on the state probability i.e. based on maximum of (emmission_probability*transition_probability) for a given word we cannot identify tag of a given word , due to the fact that it will be always zero.\n",
    "\n",
    "- In this second approach we handle the problem of unknown words by considering transition probability of the particular tag in the training dataset to tag the unknown word."
   ]
  },
  {
   "cell_type": "code",
   "execution_count": 61,
   "metadata": {},
   "outputs": [],
   "source": [
    "# Modified Viterbi Heuristic\n",
    "def Modified_Viterbi_Transitional_P(words, custom_tagger=None):\n",
    "    \n",
    "    state = []\n",
    "    #T = list(set([pair[1] for pair in train_bag]))\n",
    "    \n",
    "    for key, word in enumerate(words):\n",
    "        #initialise list of probability column for a given observation\n",
    "        state_prob = []\n",
    "        trans_prob = [] #transitional_prob list\n",
    "        for tag in T:\n",
    "            if key == 0:\n",
    "                transition_p = tags_df.loc['.', tag]\n",
    "            else:\n",
    "                transition_p = tags_df.loc[state[-1], tag]\n",
    "                \n",
    "            # compute emission and state probabilities\n",
    "            emission_p = word_given_tag(words[key], tag)[0]/word_given_tag(words[key], tag)[1]\n",
    "            state_probability = emission_p * transition_p    \n",
    "            state_prob.append(state_probability)\n",
    "            \n",
    "            #Taking transition probability of tag to get more accurate results\n",
    "            trans_prob.append(transition_p)\n",
    "            \n",
    "        max_p = max(state_prob)\n",
    "        state_max = T[state_prob.index(max_p)] \n",
    "        \n",
    "        if max_p==0:\n",
    "            # getting state for which probability is maximum from list of [tans] prob\n",
    "            state_max = T[trans_prob.index(max(trans_prob))]\n",
    "        \n",
    "        else:\n",
    "            # getting state for which probability is maximum\n",
    "            state_max = T[state_prob.index(max_p)] \n",
    "            \n",
    "        state.append(state_max)\n",
    "    return list(zip(words, state))\n",
    "\n"
   ]
  },
  {
   "cell_type": "markdown",
   "metadata": {},
   "source": [
    "#### 6.1.3 Evaluating on Validation Set and identify incorrect tags"
   ]
  },
  {
   "cell_type": "code",
   "execution_count": 62,
   "metadata": {},
   "outputs": [
    {
     "name": "stdout",
     "output_type": "stream",
     "text": [
      "Time taken in seconds:  720.9156813621521\n",
      "[('The', 'DET'), ('company', 'NOUN'), ('said', 'VERB'), ('0', 'X'), ('it', 'PRON'), ('is', 'VERB'), ('in', 'ADP'), ('the', 'DET'), ('process', 'NOUN'), ('of', 'ADP'), ('*', 'X'), ('phasing', 'VERB'), ('out', 'PRT'), ('John', 'NOUN'), ('Deere', 'NOUN'), (',', '.'), ('its', 'PRON'), ('current', 'ADJ'), ('source', 'NOUN'), ('of', 'ADP'), ('production', 'NOUN'), ('for', 'ADP'), ('midsized', 'VERB'), ('motor', 'NOUN'), ('home', 'NOUN'), ('chassis', 'NOUN'), ('.', '.'), ('Douglas', 'NOUN'), ('Madison', 'NOUN'), (',', '.'), ('a', 'DET'), ('corporate', 'ADJ'), ('trader', 'NOUN'), ('with', 'ADP'), ('Bank', 'NOUN'), ('of', 'ADP'), ('America', 'NOUN'), ('in', 'ADP'), ('Los', 'NOUN'), ('Angeles', 'NOUN'), (',', '.'), ('traced', 'NOUN'), ('the', 'DET'), ('dollar', 'NOUN'), (\"'s\", 'PRT'), ('recent', 'ADJ'), ('solid', 'ADJ'), ('performance', 'NOUN'), ('against', 'ADP'), ('the', 'DET'), ('yen', 'NOUN'), ('to', 'PRT'), ('purchases', 'NOUN'), ('of', 'ADP'), ('securities', 'NOUN'), ('by', 'ADP'), ('Japanese', 'ADJ'), ('insurance', 'NOUN'), ('companies', 'NOUN'), ('and', 'CONJ'), ('trust', 'NOUN'), ('banks', 'NOUN'), ('and', 'CONJ'), ('the', 'DET'), ('sense', 'NOUN'), ('that', 'ADP'), ('another', 'DET'), ('wave', 'NOUN'), ('of', 'ADP'), ('investment', 'NOUN'), ('is', 'VERB'), ('waiting', 'VERB'), ('in', 'ADP'), ('the', 'DET'), ('wings', 'NOUN'), ('.', '.'), ('Ralston', 'NOUN'), ('said', 'VERB'), ('0', 'X'), ('its', 'PRON'), ('Eveready', 'VERB'), ('battery', 'NOUN'), ('unit', 'NOUN'), ('was', 'VERB'), ('hurt', 'VERB'), ('*-1', 'X'), ('by', 'ADP'), ('continuing', 'VERB'), ('economic', 'ADJ'), ('problems', 'NOUN'), ('in', 'ADP'), ('South', 'NOUN'), ('America', 'NOUN'), ('.', '.'), ('A', 'DET'), ('nickname', 'NOUN'), ('for', 'ADP'), ('measures', 'NOUN'), ('0', 'X'), ('*', 'X'), ('to', 'PRT'), ('stop', 'VERB'), ('the', 'DET'), ('market', 'NOUN'), ('from', 'ADP'), ('*-2', 'X'), ('plunging', 'VERB'), ('too', 'ADV'), ('far', 'ADV'), ('too', 'ADV'), ('fast', 'ADV'), ('*T*-1', 'X'), ('.', '.'), ('IBM', 'NOUN'), (',', '.'), ('the', 'DET'), ('world', 'NOUN'), ('leader', 'NOUN'), ('in', 'ADP'), ('computers', 'NOUN'), (',', '.'), ('did', 'VERB'), (\"n't\", 'ADV'), ('offer', 'VERB'), ('its', 'PRON'), ('first', 'ADJ'), ('PC', 'NOUN'), ('until', 'ADP'), ('August', 'NOUN'), ('1981', 'NUM'), ('as', 'ADP'), ('many', 'ADJ'), ('other', 'ADJ'), ('companies', 'NOUN'), ('entered', 'VERB'), ('the', 'DET'), ('market', 'NOUN'), ('.', '.'), ('Midwest', 'NOUN'), ('Financial', 'NOUN'), ('has', 'VERB'), ('$', '.'), ('2.3', 'NUM'), ('billion', 'NUM'), ('*U*', 'X'), ('in', 'ADP'), ('assets', 'NOUN'), ('and', 'CONJ'), ('eight', 'NUM'), ('banks', 'NOUN'), ('.', '.'), ('Mr.', 'NOUN'), ('Lane', 'NOUN'), (\"'s\", 'PRT'), ('final', 'ADJ'), ('purpose', 'NOUN'), ('is', 'VERB'), (\"n't\", 'ADV'), ('*-1', 'X'), ('to', 'PRT'), ('glamorize', 'VERB'), ('the', 'DET'), ('Artist', 'NOUN'), (\"'s\", 'PRT'), ('vagabond', 'VERB'), ('existence', 'X'), ('.', '.'), ('In', 'ADP'), ('*-2', 'X'), ('ending', 'VERB'), ('Hungary', 'NOUN'), (\"'s\", 'PRT'), ('part', 'NOUN'), ('of', 'ADP'), ('the', 'DET'), ('project', 'NOUN'), (',', '.'), ('Parliament', 'NOUN'), ('authorized', 'NOUN'), ('Prime', 'NOUN'), ('Minister', 'NOUN'), ('Miklos', 'NOUN'), ('Nemeth', 'NOUN'), ('to', 'PRT'), ('modify', 'VERB'), ('a', 'DET'), ('1977', 'NUM'), ('agreement', 'NOUN'), ('with', 'ADP'), ('Czechoslovakia', 'NOUN'), (',', '.'), ('which', 'DET'), ('*T*-64', 'X'), ('still', 'ADV'), ('wants', 'VERB'), ('the', 'DET'), ('dam', 'NOUN'), ('to', 'PRT'), ('be', 'VERB'), ('built', 'VERB'), ('*-1', 'X'), ('.', '.'), ('He', 'PRON'), ('added', 'VERB'), (',', '.'), ('``', '.'), ('This', 'DET'), ('has', 'VERB'), ('nothing', 'NOUN'), ('0', 'X'), ('*', 'X'), ('to', 'PRT'), ('do', 'VERB'), ('*T*-1', 'X'), ('with', 'ADP'), ('Marty', 'NOUN'), ('Ackerman', 'NOUN'), ('and', 'CONJ'), ('it', 'PRON'), ('is', 'VERB'), ('not', 'ADV'), ('designed', 'VERB'), (',', '.'), ('particularly', 'ADV'), (',', '.'), ('*-2', 'X'), ('to', 'PRT'), ('take', 'VERB'), ('the', 'DET'), ('company', 'NOUN'), ('private', 'ADJ'), ('.', '.'), (\"''\", '.'), ('U.S.', 'NOUN'), ('News', 'NOUN'), (\"'\", 'PRT'), ('circulation', 'NOUN'), ('in', 'ADP'), ('the', 'DET'), ('same', 'ADJ'), ('time', 'NOUN'), ('was', 'VERB'), ('2,303,328', 'X'), (',', '.'), ('down', 'ADV'), ('2.6', 'VERB'), ('%', 'NOUN'), ('.', '.'), ('A', 'DET'), ('free', 'ADJ'), ('market', 'NOUN'), ('with', 'ADP'), ('a', 'DET'), ('profit', 'NOUN'), ('motive', 'NOUN'), ('will', 'VERB'), ('attract', 'VERB'), ('each', 'DET'), ('investor', 'NOUN'), ('to', 'PRT'), ('the', 'DET'), ('liquidity', 'NOUN'), ('and', 'CONJ'), ('risks', 'NOUN'), ('0', 'X'), ('he', 'PRON'), ('can', 'VERB'), ('tolerate', 'VERB'), ('*T*-1', 'X'), ('.', '.'), ('In', 'ADP'), ('an', 'DET'), ('eight-count', 'NOUN'), ('indictment', 'NOUN'), (',', '.'), ('the', 'DET'), ('government', 'NOUN'), ('has', 'VERB'), ('charged', 'VERB'), ('GAF', 'NOUN'), (',', '.'), ('a', 'DET'), ('Wayne', 'NOUN'), (',', '.'), ('N.J.', 'NOUN'), (',', '.'), ('specialty', 'NOUN'), ('chemical', 'NOUN'), ('maker', 'NOUN'), (',', '.'), ('and', 'CONJ'), ('its', 'PRON'), ('Vice', 'VERB'), ('Chairman', 'NOUN'), ('James', 'NOUN'), ('T.', 'NOUN'), ('Sherwin', 'NOUN'), ('with', 'ADP'), ('*-2', 'X'), ('attempting', 'VERB'), ('*-1', 'X'), ('to', 'PRT'), ('manipulate', 'VERB'), ('the', 'DET'), ('common', 'ADJ'), ('stock', 'NOUN'), ('of', 'ADP'), ('Union', 'NOUN'), ('Carbide', 'NOUN'), ('Corp.', 'NOUN'), ('in', 'ADP'), ('advance', 'NOUN'), ('of', 'ADP'), ('GAF', 'NOUN'), (\"'s\", 'PRT'), ('planned', 'VERB'), ('sale', 'NOUN'), ('of', 'ADP'), ('a', 'DET'), ('large', 'ADJ'), ('block', 'NOUN'), ('of', 'ADP'), ('the', 'DET'), ('stock', 'NOUN'), ('in', 'ADP'), ('November', 'NOUN'), ('1986', 'NUM'), ('.', '.'), ('The', 'DET'), ('Michigan', 'NOUN'), ('Democrat', 'NOUN'), (\"'s\", 'PRT'), ('proposal', 'NOUN'), (',', '.'), ('which', 'DET'), ('*T*-4', 'X'), ('is', 'VERB'), ('expected', 'VERB'), ('*-2', 'X'), ('today', 'NOUN'), (',', '.'), ('is', 'VERB'), ('described', 'VERB'), ('*-1', 'X'), ('by', 'ADP'), ('government', 'NOUN'), ('sources', 'NOUN'), ('and', 'CONJ'), ('lobbyists', 'NOUN'), ('as', 'ADP'), ('significantly', 'ADV'), ('weaker', 'ADJ'), ('than', 'ADP'), ('the', 'DET'), ('Bush', 'NOUN'), ('administration', 'NOUN'), (\"'s\", 'PRT'), ('plan', 'NOUN'), ('*', 'X'), ('to', 'PRT'), ('cut', 'VERB'), ('utility', 'NOUN'), ('emissions', 'NOUN'), ('that', 'ADP'), ('*T*-3', 'X'), ('lead', 'VERB'), ('to', 'PRT'), ('acid', 'ADJ'), ('rain', 'NOUN'), ('.', '.'), ('For', 'ADP'), ('1988', 'NUM'), (',', '.'), ('Commonwealth', 'NOUN'), ('Edison', 'NOUN'), ('reported', 'VERB'), ('earnings', 'NOUN'), ('of', 'ADP'), ('$', '.'), ('737.5', 'NOUN'), ('million', 'NUM'), ('*U*', 'X'), (',', '.'), ('or', 'CONJ'), ('$', '.'), ('3.01', 'NOUN'), ('*U*', 'X'), ('a', 'DET'), ('share', 'NOUN'), ('.', '.'), ('A', 'DET'), ('spokeswoman', 'NOUN'), ('for', 'ADP'), ('Crum', 'NOUN'), ('&', 'CONJ'), ('Forster', 'NOUN'), ('said', 'VERB'), ('0', 'X'), ('employees', 'NOUN'), ('were', 'VERB'), ('told', 'VERB'), ('*-1', 'X'), ('early', 'ADV'), ('this', 'DET'), ('week', 'NOUN'), ('that', 'ADP'), ('numerous', 'ADJ'), ('staff', 'NOUN'), ('functions', 'NOUN'), ('for', 'ADP'), ('the', 'DET'), ('personal', 'ADJ'), ('insurance', 'NOUN'), ('lines', 'NOUN'), ('were', 'VERB'), ('going', 'VERB'), ('*-3', 'X'), ('to', 'PRT'), ('be', 'VERB'), ('centralized', 'X'), ('*-2', 'X'), ('as', 'ADP'), ('a', 'DET'), ('cost-cutting', 'ADJ'), ('move', 'NOUN'), ('.', '.'), ('``', '.'), ('We', 'PRON'), ('feel', 'VERB'), ('very', 'ADV'), ('strongly', 'ADV'), ('that', 'ADP'), ('we', 'PRON'), ('really', 'ADV'), ('need', 'VERB'), ('action', 'NOUN'), ('across', 'ADP'), ('the', 'DET'), ('full', 'ADJ'), ('range', 'NOUN'), ('of', 'ADP'), ('issues', 'NOUN'), ('0', 'X'), ('we', 'PRON'), (\"'ve\", 'VERB'), ('identified', 'VERB'), ('*T*-1', 'X'), (',', '.'), ('and', 'CONJ'), ('we', 'PRON'), ('need', 'VERB'), ('it', 'PRON'), ('by', 'ADP'), ('next', 'ADJ'), ('spring', 'NOUN'), (',', '.'), (\"''\", '.'), ('Mr.', 'NOUN'), ('Dallara', 'NOUN'), ('says', 'VERB'), ('*T*-2', 'X'), ('.', '.'), ('On', 'ADP'), ('the', 'DET'), ('one', 'NUM'), ('hand', 'NOUN'), (',', '.'), ('Brazil', 'NOUN'), ('started', 'VERB'), ('an', 'DET'), ('ethanol', 'NOUN'), ('program', 'NOUN'), ('about', 'ADP'), ('15', 'NUM'), ('years', 'NOUN'), ('ago', 'ADP'), ('*-1', 'X'), ('to', 'PRT'), ('fuel', 'NOUN'), ('a', 'DET'), ('huge', 'ADJ'), ('portion', 'NOUN'), ('of', 'ADP'), ('its', 'PRON'), ('national', 'ADJ'), ('fleet', 'NOUN'), ('of', 'ADP'), ('cars', 'NOUN'), ('and', 'CONJ'), ('is', 'VERB'), ('now', 'ADV'), ('committed', 'VERB'), ('to', 'PRT'), ('this', 'DET'), ('program', 'NOUN'), ('.', '.'), ('Crane', 'NOUN'), ('&', 'CONJ'), ('Co.', 'NOUN'), ('Securities', 'NOUN'), ('Inc.', 'NOUN'), (',', '.'), ('of', 'ADP'), ('Mount', 'DET'), ('Clemens', 'NOUN'), (',', '.'), ('Mich.', 'NOUN'), (',', '.'), ('and', 'CONJ'), ('its', 'PRON'), ('president', 'NOUN'), (',', '.'), ('Glenn', 'NOUN'), ('R.', 'NOUN'), ('Crane', 'NOUN'), (',', '.'), ('of', 'ADP'), ('Sterling', 'NOUN'), ('Heights', 'NOUN'), (',', '.'), ('Mich.', 'NOUN'), (',', '.'), ('consented', 'VERB'), ('to', 'PRT'), ('a', 'DET'), ('joint', 'ADJ'), ('fine', 'NOUN'), ('of', 'ADP'), ('$', '.'), ('10,000', 'NUM'), ('*U*', 'X'), ('.', '.'), ('Columbia', 'NOUN'), ('Savings', 'NOUN'), ('&', 'CONJ'), ('Loan', 'NOUN'), ('-LRB-', '.'), ('NYSE', 'NOUN'), (';', '.'), ('Symbol', 'NOUN'), (':', '.'), ('CSV', 'NOUN'), ('-RRB-', '.'), ('Ketchum', 'NOUN'), ('Communications', 'NOUN'), (',', '.'), ('Pittsburgh', 'NOUN'), (',', '.'), ('acquired', 'VERB'), ('Braun', 'X'), ('&', 'CONJ'), ('Co.', 'NOUN'), (',', '.'), ('a', 'DET'), ('Los', 'NOUN'), ('Angeles', 'NOUN'), ('investor-relations', 'NOUN'), ('and', 'CONJ'), ('marketing-communications', 'NOUN'), ('firm', 'NOUN'), ('.', '.'), ('The', 'DET'), ('next', 'ADJ'), ('morning', 'NOUN'), (',', '.'), ('with', 'ADP'), ('a', 'DET'), ('police', 'NOUN'), ('escort', 'NOUN'), (',', '.'), ('busloads', 'NOUN'), ('of', 'ADP'), ('executives', 'NOUN'), ('and', 'CONJ'), ('their', 'PRON'), ('wives', 'VERB'), ('raced', 'X'), ('to', 'PRT'), ('the', 'DET'), ('Indianapolis', 'NOUN'), ('Motor', 'NOUN'), ('Speedway', 'NOUN'), (',', '.'), ('*-1', 'X'), ('unimpeded', 'VERB'), ('by', 'ADP'), ('traffic', 'DET'), ('or', 'CONJ'), ('red', 'ADJ'), ('lights', 'NOUN'), ('.', '.'), ('We', 'PRON'), ('must', 'VERB'), ('be', 'VERB'), ('very', 'ADV'), ('cautious', 'ADJ'), ('about', 'ADP'), ('*', 'X'), ('labeling', 'VERB'), ('investors', 'NOUN'), ('as', 'ADP'), ('``', '.'), ('long-term', 'ADJ'), (\"''\", '.'), ('or', 'CONJ'), ('``', '.'), ('short-term', 'ADJ'), ('.', '.'), (\"''\", '.'), ('And', 'CONJ'), ('an', 'DET'), ('FT-SE', 'NOUN'), ('futures', 'NOUN'), ('contract', 'NOUN'), ('is', 'VERB'), ('traded', 'VERB'), ('*-1', 'X'), ('on', 'ADP'), ('the', 'DET'), ('London', 'NOUN'), ('International', 'NOUN'), ('Financial', 'NOUN'), ('Futures', 'NOUN'), ('Exchange', 'NOUN'), ('.', '.'), ('But', 'CONJ'), ('when', 'ADV'), ('the', 'DET'), ('contract', 'NOUN'), ('reopened', 'NOUN'), ('*T*-1', 'X'), (',', '.'), ('the', 'DET'), ('subsequent', 'NOUN'), ('flood', 'NOUN'), ('of', 'ADP'), ('sell', 'NOUN'), ('orders', 'NOUN'), ('that', 'ADP'), ('*T*-211', 'DET'), ('quickly', 'ADV'), ('knocked', 'VERB'), ('the', 'DET'), ('contract', 'NOUN'), ('down', 'ADP'), ('to', 'PRT'), ('the', 'DET'), ('30-point', 'ADJ'), ('limit', 'NOUN'), ('indicated', 'VERB'), ('that', 'ADP'), ('the', 'DET'), ('intermediate', 'NOUN'), ('limit', 'NOUN'), ('of', 'ADP'), ('20', 'NUM'), ('points', 'NOUN'), ('was', 'VERB'), ('needed', 'VERB'), ('*-128', 'X'), ('*-128', 'VERB'), ('to', 'PRT'), ('help', 'VERB'), ('keep', 'VERB'), ('stock', 'NOUN'), ('and', 'CONJ'), ('stock-index', 'ADJ'), ('futures', 'NOUN'), ('prices', 'NOUN'), ('synchronized', 'NOUN'), ('.', '.'), ('I', 'PRON'), ('feel', 'VERB'), ('pretty', 'ADV'), ('good', 'ADJ'), ('about', 'ADP'), ('it', 'PRON'), ('.', '.'), ('Proper', 'NOUN'), ('English', 'NOUN'), ('bells', 'NOUN'), ('are', 'VERB'), ('started', 'VERB'), ('*-1', 'X'), ('off', 'PRT'), ('in', 'ADP'), ('``', '.'), ('rounds', 'NOUN'), (',', '.'), (\"''\", '.'), ('from', 'ADP'), ('the', 'DET'), ('highest-pitched', 'NOUN'), ('bell', 'NOUN'), ('to', 'PRT'), ('the', 'DET'), ('lowest', 'ADJ'), ('--', '.'), ('a', 'DET'), ('simple', 'ADJ'), ('descending', 'NOUN'), ('scale', 'NOUN'), ('using', 'VERB'), (',', '.'), ('in', 'ADP'), ('larger', 'ADJ'), ('churches', 'NOUN'), (',', '.'), ('as', 'ADP'), ('many', 'ADJ'), ('as', 'ADP'), ('12', 'NUM'), ('bells', 'NOUN'), ('.', '.'), ('The', 'DET'), ('offer', 'NOUN'), ('is', 'VERB'), ('being', 'VERB'), ('launched', 'VERB'), ('*-45', 'X'), ('pursuant', 'ADJ'), ('to', 'PRT'), ('a', 'DET'), ('previously', 'ADV'), ('announced', 'VERB'), ('agreement', 'NOUN'), ('between', 'ADP'), ('the', 'DET'), ('companies', 'NOUN'), ('.', '.'), ('Traders', 'NOUN'), ('said', 'VERB'), ('0', 'X'), ('prices', 'NOUN'), ('also', 'ADV'), ('were', 'VERB'), ('supported', 'VERB'), ('*-1', 'X'), ('by', 'ADP'), ('widespread', 'ADJ'), ('rumors', 'NOUN'), ('that', 'ADP'), ('the', 'DET'), ('Soviet', 'ADJ'), ('Union', 'NOUN'), ('is', 'VERB'), ('on', 'ADP'), ('the', 'DET'), ('verge', 'NOUN'), ('of', 'ADP'), ('*', 'X'), ('receiving', 'VERB'), ('most', 'ADV'), ('favored', 'VERB'), ('nation', 'NOUN'), ('status', 'NOUN'), ('from', 'ADP'), ('the', 'DET'), ('U.S.', 'NOUN'), ('.', '.'), ('``', '.'), ('The', 'DET'), ('USIA', 'NOUN'), ('officially', 'ADV'), ('and', 'CONJ'), ('publicly', 'ADV'), ('declared', 'VERB'), ('the', 'DET'), ('absolute', 'NOUN'), ('right', 'NOUN'), ('*ICH*-2', 'X'), ('of', 'ADP'), ('everyone', 'NOUN'), ('except', 'ADP'), ('the', 'DET'), ('USIA', 'NOUN'), ('*', 'X'), ('to', 'PRT'), ('disseminate', 'VERB'), ('agency', 'NOUN'), ('program', 'NOUN'), ('materials', 'NOUN'), ('in', 'ADP'), ('the', 'DET'), ('United', 'NOUN'), ('States', 'NOUN'), (',', '.'), (\"''\", '.'), ('my', 'PRON'), ('lawyer', 'NOUN'), (',', '.'), ('the', 'DET'), ('scholarly', 'NOUN'), ('Mark', 'NOUN'), ('McCormick', 'NOUN'), ('of', 'ADP'), ('Des', 'NOUN'), ('Moines', 'NOUN'), (',', '.'), ('said', 'VERB'), ('*T*-1', 'X'), ('in', 'ADP'), ('a', 'DET'), ('memo', 'NOUN'), ('pointing', 'VERB'), ('out', 'PRT'), ('the', 'DET'), ('facts', 'NOUN'), ('and', 'CONJ'), ('trying', 'VERB'), ('*', 'X'), ('to', 'PRT'), ('make', 'VERB'), ('me', 'PRON'), ('feel', 'VERB'), ('good', 'ADJ'), ('after', 'ADP'), ('the', 'DET'), ('press', 'NOUN'), ('reported', 'VERB'), ('that', 'ADP'), ('I', 'PRON'), ('had', 'VERB'), ('lost', 'VERB'), ('.', '.'), ('Federal', 'NOUN'), ('judges', 'NOUN'), ('make', 'VERB'), ('$', '.'), ('89,500', 'NOUN'), ('*U*', 'X'), ('annually', 'ADV'), (';', '.'), ('in', 'ADP'), ('February', 'NOUN'), (',', '.'), ('Congress', 'NOUN'), ('rejected', 'VERB'), ('a', 'DET'), ('bill', 'NOUN'), ('that', 'ADP'), ('*T*-1', 'X'), ('would', 'VERB'), ('have', 'VERB'), ('increased', 'VERB'), ('their', 'PRON'), ('pay', 'VERB'), ('by', 'ADP'), ('50', 'NUM'), ('%', 'NOUN'), ('.', '.'), ('*-1', 'X'), ('Bucking', 'VERB'), ('the', 'DET'), ('market', 'NOUN'), ('trend', 'NOUN'), (',', '.'), ('an', 'DET'), ('issue', 'NOUN'), ('of', 'ADP'), ('$', '.'), ('130', 'NUM'), ('million', 'NUM'), ('*U*', 'X'), ('general', 'ADJ'), ('obligation', 'NOUN'), ('distributable', 'ADJ'), ('state', 'NOUN'), ('aid', 'NOUN'), ('bonds', 'NOUN'), ('from', 'ADP'), ('Detroit', 'NOUN'), (',', '.'), ('Mich.', 'NOUN'), (',', '.'), ('apparently', 'ADV'), ('drew', 'VERB'), ('solid', 'ADJ'), ('investor', 'NOUN'), ('interest', 'NOUN'), ('.', '.'), ('The', 'DET'), ('Chinese', 'ADJ'), ('responded', 'VERB'), ('in', 'ADP'), ('an', 'DET'), ('equally', 'ADV'), ('undiplomatic', 'VERB'), ('fashion', 'X'), ('.', '.'), ('The', 'DET'), ('Soviet', 'ADJ'), ('Union', 'NOUN'), ('usually', 'ADV'), ('begins', 'VERB'), ('*-1', 'X'), ('buying', 'VERB'), ('U.S.', 'NOUN'), ('crops', 'NOUN'), ('earlier', 'ADV'), ('in', 'ADP'), ('the', 'DET'), ('fall', 'NOUN'), ('.', '.'), ('On', 'ADP'), ('the', 'DET'), ('other', 'ADJ'), ('hand', 'NOUN'), (',', '.'), ('if', 'ADP'), ('it', 'PRON'), ('goes', 'VERB'), ('way', 'NOUN'), ('sky', 'NOUN'), ('high', 'ADJ'), (',', '.'), ('I', 'PRON'), ('always', 'ADV'), ('sell', 'VERB'), ('.', '.'), ('The', 'DET'), ('fact', 'NOUN'), ('that', 'ADP'), ('New', 'NOUN'), ('England', 'NOUN'), ('proposed', 'VERB'), ('lower', 'ADJ'), ('rate', 'NOUN'), ('increases', 'NOUN'), ('--', '.'), ('4.8', 'NUM'), ('%', 'NOUN'), ('*U*', 'X'), ('over', 'ADP'), ('seven', 'NUM'), ('years', 'NOUN'), ('against', 'ADP'), ('around', 'ADP'), ('5.5', 'NUM'), ('%', 'NOUN'), ('boosts', 'VERB'), ('proposed', 'VERB'), ('*', 'X'), ('by', 'ADP'), ('the', 'DET'), ('other', 'ADJ'), ('two', 'NUM'), ('outside', 'ADJ'), ('bidders', 'NOUN'), ('--', '.'), ('complicated', 'ADJ'), ('negotiations', 'NOUN'), ('with', 'ADP'), ('state', 'NOUN'), ('officials', 'NOUN'), (',', '.'), ('Mr.', 'NOUN'), ('Ross', 'NOUN'), ('asserted', 'VERB'), ('0', 'X'), ('*T*-1', 'X'), ('.', '.'), ('New', 'NOUN'), ('rules', 'NOUN'), ('force', 'NOUN'), ('thrifts', 'NOUN'), ('to', 'PRT'), ('write', 'VERB'), ('down', 'ADV'), ('their', 'PRON'), ('junk', 'NOUN'), ('to', 'PRT'), ('market', 'NOUN'), ('value', 'NOUN'), (',', '.'), ('then', 'ADV'), ('sell', 'VERB'), ('the', 'DET'), ('bonds', 'NOUN'), ('over', 'ADP'), ('five', 'NUM'), ('years', 'NOUN'), ('.', '.'), ('They', 'PRON'), ('are', 'VERB'), (\"n't\", 'ADV'), ('accepted', 'VERB'), ('*-1', 'X'), ('everywhere', 'ADV'), (',', '.'), ('however', 'ADV'), ('.', '.'), ('James', 'NOUN'), ('Mason', 'NOUN'), (',', '.'), ('assistant', 'NOUN'), ('secretary', 'NOUN'), ('for', 'ADP'), ('health', 'NOUN'), (',', '.'), ('said', 'VERB'), ('0', 'X'), ('the', 'DET'), ('ban', 'NOUN'), ('on', 'ADP'), ('federal', 'ADJ'), ('funding', 'NOUN'), ('of', 'ADP'), ('fetal-tissue', 'ADJ'), ('transplant', 'NOUN'), ('research', 'NOUN'), ('``', '.'), ('should', 'VERB'), ('be', 'VERB'), ('continued', 'VERB'), ('*-1', 'X'), ('indefinitely', 'ADV'), ('.', '.'), (\"''\", '.'), ('Mr.', 'NOUN'), ('Watson', 'NOUN'), ('says', 'VERB'), ('0', 'X'), ('Mrs.', 'NOUN'), ('Yeargin', 'NOUN'), ('never', 'ADV'), ('complained', 'VERB'), ('to', 'PRT'), ('school', 'NOUN'), ('officials', 'NOUN'), ('that', 'ADP'), ('the', 'DET'), ('standardized', 'ADJ'), ('test', 'NOUN'), ('was', 'VERB'), ('unfair', 'ADJ'), ('.', '.'), ('Trinity', 'NOUN'), ('Industries', 'NOUN'), ('Inc.', 'NOUN'), ('said', 'VERB'), ('0', 'X'), ('it', 'PRON'), ('reached', 'VERB'), ('a', 'DET'), ('preliminary', 'ADJ'), ('agreement', 'NOUN'), ('*', 'X'), ('to', 'PRT'), ('sell', 'VERB'), ('500', 'NUM'), ('railcar', 'NOUN'), ('platforms', 'NOUN'), ('to', 'PRT'), ('Trailer', 'VERB'), ('Train', 'X'), ('Co.', 'NOUN'), ('of', 'ADP'), ('Chicago', 'NOUN'), ('.', '.'), ('Mr.', 'NOUN'), ('Leming', 'NOUN'), ('was', 'VERB'), (\"n't\", 'ADV'), ('surprised', 'VERB'), ('*-1', 'X'), ('by', 'ADP'), ('the', 'DET'), ('lower', 'ADJ'), ('price', 'NOUN'), ('cited', 'VERB'), ('*', 'X'), ('by', 'ADP'), ('NL', 'NOUN'), (',', '.'), ('*-1', 'X'), ('saying', 'VERB'), ('0', 'X'), ('he', 'PRON'), ('believes', 'VERB'), ('that', 'ADP'), ('$', '.'), ('55', 'NUM'), ('*U*', 'X'), ('a', 'DET'), ('share', 'NOUN'), ('is', 'VERB'), ('``', '.'), ('the', 'DET'), ('most', 'ADJ'), ('0', 'X'), ('you', 'PRON'), ('can', 'VERB'), ('pay', 'VERB'), ('*T*-2', 'X'), ('for', 'ADP'), ('Georgia', 'NOUN'), ('Gulf', 'NOUN'), ('before', 'ADP'), ('it', 'PRON'), ('becomes', 'VERB'), ('a', 'DET'), ('bad', 'ADJ'), ('acquisition', 'NOUN'), ('.', '.'), (\"''\", '.'), ('``', '.'), ('U.S.', 'NOUN'), ('investors', 'NOUN'), ('should', 'VERB'), ('have', 'VERB'), ('a', 'DET'), ('greater', 'ADJ'), ('opportunity', 'NOUN'), ('at', 'ADP'), ('direct', 'ADJ'), ('investment', 'NOUN'), (\"''\", '.'), ('in', 'ADP'), ('Japan', 'NOUN'), ('.', '.'), ('After', 'ADP'), ('the', 'DET'), ('first', 'ADJ'), ('set', 'NOUN'), ('of', 'ADP'), ('meetings', 'NOUN'), ('two', 'NUM'), ('months', 'NOUN'), ('ago', 'ADP'), (',', '.'), ('some', 'DET'), ('U.S.', 'NOUN'), ('officials', 'NOUN'), ('complained', 'VERB'), ('that', 'ADP'), ('Japan', 'NOUN'), ('had', 'VERB'), (\"n't\", 'ADV'), ('come', 'VERB'), ('up', 'ADV'), ('with', 'ADP'), ('specific', 'ADJ'), ('changes', 'NOUN'), ('0', 'X'), ('it', 'PRON'), ('was', 'VERB'), ('prepared', 'VERB'), ('*-1', 'X'), ('to', 'PRT'), ('make', 'VERB'), ('*T*-2', 'X'), ('.', '.'), ('That', 'DET'), ('was', 'VERB'), ('partially', 'ADV'), ('offset', 'VERB'), ('*-1', 'X'), ('by', 'ADP'), ('the', 'DET'), ('resumption', 'NOUN'), ('of', 'ADP'), ('space', 'NOUN'), ('shuttle', 'NOUN'), ('flights', 'NOUN'), ('and', 'CONJ'), ('increased', 'VERB'), ('demand', 'NOUN'), ('for', 'ADP'), ('expendable', 'DET'), ('launch-vehicle', 'NOUN'), ('engines', 'NOUN'), ('.', '.'), ('Net', 'ADJ'), ('is', 'VERB'), ('expected', 'VERB'), ('*-1', 'X'), ('to', 'PRT'), ('rise', 'VERB'), ('to', 'PRT'), ('17', 'NUM'), ('billion', 'NUM'), ('yen', 'NOUN'), ('from', 'ADP'), ('12.82', 'DET'), ('billion', 'NUM'), ('yen', 'NOUN'), ('a', 'DET'), ('year', 'NOUN'), ('earlier', 'ADV'), ('.', '.'), ('But', 'CONJ'), ('voters', 'NOUN'), ('decided', 'VERB'), ('that', 'ADP'), ('if', 'ADP'), ('the', 'DET'), ('stadium', 'NOUN'), ('was', 'VERB'), ('such', 'ADJ'), ('a', 'DET'), ('good', 'ADJ'), ('idea', 'NOUN'), ('someone', 'NOUN'), ('would', 'VERB'), ('build', 'VERB'), ('it', 'PRON'), ('himself', 'PRON'), (',', '.'), ('and', 'CONJ'), ('rejected', 'VERB'), ('it', 'PRON'), ('59', 'NUM'), ('%', 'NOUN'), ('to', 'PRT'), ('41', 'NUM'), ('%', 'NOUN'), ('*U*', 'X'), ('.', '.'), ('Bank', 'NOUN'), ('of', 'ADP'), ('New', 'NOUN'), ('England', 'NOUN'), (\"'s\", 'PRT'), ('shares', 'NOUN'), ('are', 'VERB'), ('traded', 'VERB'), ('*-1', 'X'), ('on', 'ADP'), ('the', 'DET'), ('New', 'NOUN'), ('York', 'NOUN'), ('Stock', 'NOUN'), ('Exchange', 'NOUN'), ('.', '.'), ('Revenue', 'NOUN'), ('rose', 'VERB'), ('42', 'NUM'), ('%', 'NOUN'), ('to', 'PRT'), ('$', '.'), ('133.7', 'NOUN'), ('million', 'NUM'), ('*U*', 'X'), ('from', 'ADP'), ('$', '.'), ('94', 'NOUN'), ('million', 'NUM'), ('*U*', 'X'), ('.', '.'), ('Williams', 'NOUN'), ('shares', 'NOUN'), (',', '.'), ('which', 'DET'), ('*T*-2', 'X'), ('were', 'VERB'), ('*-2', 'X'), ('to', 'PRT'), ('be', 'VERB'), ('delisted', 'X'), ('*-1', 'X'), ('from', 'ADP'), ('the', 'DET'), ('New', 'NOUN'), ('York', 'NOUN'), ('Stock', 'NOUN'), ('Exchange', 'NOUN'), ('after', 'ADP'), ('the', 'DET'), ('close', 'NOUN'), ('of', 'ADP'), ('composite', 'ADJ'), ('trading', 'NOUN'), ('yesterday', 'NOUN'), (',', '.'), ('closed', 'VERB'), ('at', 'ADP'), ('$', '.'), ('23.25', 'NOUN'), ('*U*', 'X'), (',', '.'), ('off', 'ADP'), ('12.5', 'NUM'), ('cents', 'NOUN'), ('.', '.'), ('TREASURY', 'NOUN'), ('BILLS', 'NOUN'), (':', '.'), ('Results', 'NOUN'), ('of', 'ADP'), ('the', 'DET'), ('Monday', 'NOUN'), (',', '.'), ('October', 'NOUN'), ('30', 'NUM'), (',', '.'), ('1989', 'NUM'), (',', '.'), ('auction', 'NOUN'), ('of', 'ADP'), ('short-term', 'ADJ'), ('U.S.', 'NOUN'), ('government', 'NOUN'), ('bills', 'NOUN'), (',', '.'), ('sold', 'VERB'), ('*', 'X'), ('at', 'ADP'), ('a', 'DET'), ('discount', 'NOUN'), ('from', 'ADP'), ('face', 'NOUN'), ('value', 'NOUN'), ('in', 'ADP'), ('units', 'NOUN'), ('of', 'ADP'), ('$', '.'), ('10,000', 'NUM'), ('to', 'PRT'), ('$', '.'), ('1', 'NUM'), ('million', 'NUM'), ('*U*', 'X'), (':', '.'), ('7.78', 'NOUN'), ('%', 'NOUN'), ('13', 'NUM'), ('weeks', 'NOUN'), (';', '.'), ('7.62', 'NOUN'), ('%', 'NOUN'), ('26', 'NUM'), ('weeks', 'NOUN'), ('.', '.'), ('*-1', 'X'), ('Stung', 'VERB'), ('by', 'ADP'), ('charges', 'NOUN'), ('that', 'ADP'), ('their', 'PRON'), ('greed', 'NOUN'), ('is', 'VERB'), ('turning', 'VERB'), ('the', 'DET'), ('stock', 'NOUN'), ('market', 'NOUN'), ('into', 'ADP'), ('a', 'DET'), ('gigantic', 'NOUN'), ('crapshoot', 'NOUN'), (',', '.'), ('almost', 'ADV'), ('all', 'DET'), ('the', 'DET'), ('big', 'ADJ'), ('investment', 'NOUN'), ('banking', 'NOUN'), ('houses', 'NOUN'), ('have', 'VERB'), ('abandoned', 'VERB'), ('index', 'NOUN'), ('arbitrage', 'NOUN'), (',', '.'), ('a', 'DET'), ('common', 'ADJ'), ('form', 'NOUN'), ('of', 'ADP'), ('program', 'NOUN'), ('trading', 'NOUN'), (',', '.'), ('for', 'ADP'), ('their', 'PRON'), ('own', 'ADJ'), ('accounts', 'NOUN'), ('in', 'ADP'), ('the', 'DET'), ('past', 'ADJ'), ('few', 'ADJ'), ('days', 'NOUN'), ('.', '.'), ('One', 'NUM'), ('analyst', 'NOUN'), (',', '.'), ('Arthur', 'NOUN'), ('Stevenson', 'NOUN'), (',', '.'), ('of', 'ADP'), ('Prudential-Bache', 'NOUN'), ('Securities', 'NOUN'), (',', '.'), ('New', 'NOUN'), ('York', 'NOUN'), (',', '.'), ('estimated', 'VERB'), ('that', 'ADP'), ('65', 'NUM'), ('%', 'NOUN'), ('or', 'CONJ'), ('more', 'ADJ'), ('of', 'ADP'), ('Brazil', 'NOUN'), (\"'s\", 'PRT'), ('newly', 'ADV'), ('made', 'VERB'), ('automobiles', 'NOUN'), ('run', 'VERB'), ('on', 'ADP'), ('alcohol', 'NOUN'), ('and', 'CONJ'), ('ca', 'VERB'), (\"n't\", 'ADV'), ('use', 'VERB'), ('gasoline', 'NOUN'), ('.', '.'), ('Sales', 'NOUN'), ('were', 'VERB'), ('roughly', 'ADV'), ('flat', 'ADJ'), ('in', 'ADP'), ('the', 'DET'), ('1989', 'NUM'), ('model', 'NOUN'), ('year', 'NOUN'), ('compared', 'VERB'), ('with', 'ADP'), ('a', 'DET'), ('year', 'NOUN'), ('earlier', 'ADV'), (',', '.'), ('though', 'ADP'), ('industry', 'NOUN'), ('sales', 'NOUN'), ('fell', 'VERB'), ('.', '.'), ('The', 'DET'), ('IRS', 'NOUN'), ('warnings', 'NOUN'), ('stem', 'VERB'), ('from', 'ADP'), ('a', 'DET'), ('1984', 'NUM'), ('law', 'NOUN'), ('that', 'ADP'), ('*T*-1', 'X'), ('requires', 'VERB'), ('anyone', 'NOUN'), ('who', 'PRON'), ('*T*-126', 'VERB'), ('receives', 'X'), ('more', 'ADV'), ('than', 'ADP'), ('$', '.'), ('10,000', 'NUM'), ('*U*', 'X'), ('in', 'ADP'), ('cash', 'NOUN'), ('from', 'ADP'), ('a', 'DET'), ('client', 'NOUN'), ('or', 'CONJ'), ('customer', 'NOUN'), ('in', 'ADP'), ('one', 'NUM'), ('or', 'CONJ'), ('more', 'ADJ'), ('related', 'ADJ'), ('transactions', 'NOUN'), ('``', '.'), ('in', 'ADP'), ('the', 'DET'), ('course', 'NOUN'), ('of', 'ADP'), ('trade', 'NOUN'), ('or', 'CONJ'), ('business', 'NOUN'), (\"''\", '.'), ('to', 'PRT'), ('report', 'VERB'), ('the', 'DET'), ('payment', 'NOUN'), ('on', 'ADP'), ('a', 'DET'), ('document', 'NOUN'), ('known', 'VERB'), ('*', 'X'), ('as', 'ADP'), ('Form', 'DET'), ('8300', 'ADJ'), ('.', '.'), ('That', 'DET'), ('builds', 'NOUN'), ('confidence', 'NOUN'), (',', '.'), ('self', 'NOUN'), ('sufficiency', 'NOUN'), (',', '.'), ('not', 'ADV'), ('to', 'PRT'), ('mention', 'VERB'), ('critical', 'X'), ('regulatory', 'ADJ'), ('net', 'ADJ'), ('worth', 'NOUN'), ('.', '.'), ('There', 'DET'), ('is', 'VERB'), ('no', 'DET'), ('asbestos', 'NOUN'), ('in', 'ADP'), ('our', 'PRON'), ('products', 'NOUN'), ('now', 'ADV'), ('.', '.'), (\"''\", '.'), ('Payouts', 'NOUN'), ('on', 'ADP'), ('the', 'DET'), ('S&P', 'NOUN'), ('500', 'NUM'), ('stocks', 'NOUN'), ('rose', 'VERB'), ('10', 'NUM'), ('%', 'NOUN'), ('in', 'ADP'), ('1988', 'NUM'), (',', '.'), ('according', 'VERB'), ('to', 'PRT'), ('Standard', 'NOUN'), ('&', 'CONJ'), ('Poor', 'NOUN'), (\"'s\", 'PRT'), ('Corp.', 'NOUN'), (',', '.'), ('and', 'CONJ'), ('Wall', 'NOUN'), ('Street', 'NOUN'), ('estimates', 'NOUN'), ('for', 'ADP'), ('1989', 'NUM'), ('growth', 'NOUN'), ('are', 'VERB'), ('generally', 'ADV'), ('between', 'ADP'), ('9', 'NUM'), ('%', 'NOUN'), ('and', 'CONJ'), ('14', 'NUM'), ('%', 'NOUN'), ('*U*', 'X'), ('.', '.'), ('Excision', 'NOUN'), ('of', 'ADP'), ('appropriations', 'NOUN'), ('riders', 'NOUN'), ('that', 'ADP'), ('*T*-1', 'X'), ('trespass', 'VERB'), ('on', 'ADP'), ('the', 'DET'), ('president', 'NOUN'), (\"'s\", 'PRT'), ('duties', 'NOUN'), ('and', 'CONJ'), ('prerogative', 'NOUN'), ('under', 'ADP'), ('Article', 'NOUN'), ('II', 'NOUN'), ('would', 'VERB'), ('be', 'VERB'), ('different', 'ADJ'), ('from', 'ADP'), ('the', 'DET'), ('line-item', 'ADJ'), ('veto', 'NOUN'), ('.', '.'), ('Demand', 'NOUN'), ('from', 'ADP'), ('Europe', 'NOUN'), ('and', 'CONJ'), ('Southeast', 'NOUN'), ('Asia', 'NOUN'), ('also', 'ADV'), ('grew', 'VERB'), (',', '.'), ('but', 'CONJ'), ('due', 'ADJ'), ('to', 'PRT'), ('increasing', 'VERB'), ('production', 'NOUN'), ('at', 'ADP'), ('local', 'ADJ'), ('plants', 'NOUN'), (',', '.'), ('overseas', 'ADV'), ('sales', 'NOUN'), ('edged', 'VERB'), ('down', 'ADV'), ('2.8', 'NUM'), ('%', 'NOUN'), ('.', '.'), ('Many', 'ADJ'), ('attorneys', 'NOUN'), ('have', 'VERB'), ('returned', 'VERB'), ('incomplete', 'ADJ'), ('forms', 'NOUN'), ('to', 'PRT'), ('the', 'DET'), ('IRS', 'NOUN'), ('in', 'ADP'), ('recent', 'ADJ'), ('years', 'NOUN'), (',', '.'), ('*-1', 'X'), ('citing', 'VERB'), ('attorney-client', 'ADJ'), ('privilege', 'NOUN'), ('.', '.'), ('The', 'DET'), ('ailing', 'VERB'), ('company', 'NOUN'), (',', '.'), ('which', 'DET'), ('*T*-236', 'NOUN'), ('has', 'VERB'), ('reported', 'VERB'), ('net', 'ADJ'), ('losses', 'NOUN'), ('for', 'ADP'), ('16', 'NUM'), ('consecutive', 'ADJ'), ('quarters', 'NOUN'), (',', '.'), ('said', 'VERB'), ('0', 'X'), ('it', 'PRON'), ('wo', 'VERB'), (\"n't\", 'ADV'), ('manufacture', 'VERB'), ('network', 'NOUN'), ('computer', 'NOUN'), ('systems', 'NOUN'), ('any', 'DET'), ('more', 'ADJ'), ('and', 'CONJ'), ('will', 'VERB'), ('greatly', 'ADV'), ('reduce', 'VERB'), ('its', 'PRON'), ('costly', 'ADJ'), ('direct', 'ADJ'), ('sales', 'NOUN'), ('force', 'NOUN'), ('.', '.'), ('The', 'DET'), ('Illinois', 'NOUN'), ('Supreme', 'NOUN'), ('Court', 'NOUN'), ('ordered', 'VERB'), ('the', 'DET'), ('commission', 'NOUN'), ('*-1', 'X'), ('to', 'PRT'), ('audit', 'NOUN'), ('Commonwealth', 'NOUN'), ('Edison', 'NOUN'), (\"'s\", 'PRT'), ('construction', 'NOUN'), ('expenses', 'NOUN'), ('and', 'CONJ'), ('refund', 'NOUN'), ('any', 'DET'), ('unreasonable', 'ADJ'), ('expenses', 'NOUN'), ('.', '.'), ('A', 'DET'), ('spokesman', 'NOUN'), ('for', 'ADP'), ('the', 'DET'), ('state', 'NOUN'), (',', '.'), ('however', 'ADV'), (',', '.'), ('calls', 'VERB'), ('the', 'DET'), ('idea', 'NOUN'), ('``', '.'), ('not', 'ADV'), ('effective', 'ADJ'), ('or', 'CONJ'), ('cost', 'NOUN'), ('efficient', 'ADJ'), ('.', '.'), ('``', '.'), ('We', 'PRON'), ('want', 'VERB'), ('*-1', 'X'), ('to', 'PRT'), ('see', 'VERB'), ('the', 'DET'), ('glass', 'NOUN'), ('market', 'NOUN'), ('from', 'ADP'), ('the', 'DET'), ('inside', 'NOUN'), (',', '.'), ('not', 'ADV'), ('the', 'DET'), ('outside', 'ADJ'), ('.', '.'), (\"''\", '.'), ('Spending', 'NOUN'), ('on', 'ADP'), ('private', 'ADJ'), (',', '.'), ('nonresidential', 'NOUN'), ('construction', 'NOUN'), ('was', 'VERB'), ('off', 'PRT'), ('2.6', 'VERB'), ('%', 'NOUN'), ('to', 'PRT'), ('an', 'DET'), ('annual', 'ADJ'), ('rate', 'NOUN'), ('of', 'ADP'), ('$', '.'), ('99.1', 'NOUN'), ('billion', 'NUM'), ('*U*', 'X'), ('with', 'ADP'), ('no', 'DET'), ('sector', 'NOUN'), ('showing', 'VERB'), ('strength', 'NOUN'), ('.', '.'), ('``', '.'), ('So', 'ADV'), ('the', 'DET'), ('focus', 'NOUN'), ('turned', 'VERB'), ('to', 'PRT'), ('other', 'ADJ'), ('fixed-income', 'NOUN'), ('markets', 'NOUN'), (',', '.'), ('corporate', 'ADJ'), ('and', 'CONJ'), ('mortgages', 'NOUN'), ('in', 'ADP'), ('particular', 'ADJ'), (',', '.'), (\"''\", '.'), ('she', 'PRON'), ('said', 'VERB'), ('*T*-1', 'X'), ('.', '.'), ('Bond', 'NOUN'), ('prices', 'NOUN'), ('and', 'CONJ'), ('the', 'DET'), ('dollar', 'NOUN'), ('both', 'DET'), ('gained', 'VERB'), ('modestly', 'ADV'), ('.', '.'), ('Trading', 'NOUN'), ('was', 'VERB'), ('muted', 'X'), ('*-1', 'X'), ('in', 'ADP'), ('part', 'NOUN'), ('because', 'ADP'), ('of', 'ADP'), ('the', 'DET'), ('observance', 'NOUN'), ('of', 'ADP'), ('All', 'DET'), ('Saints', 'NOUN'), (\"'\", 'PRT'), ('Day', 'VERB'), ('across', 'ADP'), ('much', 'ADJ'), ('of', 'ADP'), ('Europe', 'NOUN'), ('.', '.'), ('Mr.', 'NOUN'), ('Ackerman', 'NOUN'), ('already', 'ADV'), ('is', 'VERB'), ('seeking', 'VERB'), ('*-1', 'X'), ('to', 'PRT'), ('oust', 'VERB'), ('Mr.', 'NOUN'), ('Edelman', 'NOUN'), ('as', 'ADP'), ('chairman', 'NOUN'), ('of', 'ADP'), ('Datapoint', 'DET'), ('Corp.', 'NOUN'), (',', '.'), ('an', 'DET'), ('Intelogic', 'NOUN'), ('affiliate', 'NOUN'), ('.', '.'), ('Each', 'DET'), ('variation', 'NOUN'), (',', '.'), ('or', 'CONJ'), ('change', 'NOUN'), (',', '.'), ('can', 'VERB'), ('occur', 'VERB'), ('only', 'ADV'), ('once', 'ADV'), (',', '.'), ('the', 'DET'), ('rules', 'NOUN'), ('state', 'NOUN'), ('0', 'X'), ('*T*-1', 'X'), ('.', '.'), ('At', 'ADP'), ('Cray', 'NOUN'), ('Computer', 'NOUN'), (',', '.'), ('he', 'PRON'), ('will', 'VERB'), ('be', 'VERB'), ('paid', 'VERB'), ('*-26', 'X'), ('$', '.'), ('240,000', 'NOUN'), ('*U*', 'X'), ('.', '.'), ('Price', 'NOUN'), ('Communications', 'NOUN'), ('Corp.', 'NOUN'), ('completed', 'VERB'), ('the', 'DET'), ('sale', 'NOUN'), ('of', 'ADP'), ('four', 'NUM'), ('of', 'ADP'), ('its', 'PRON'), ('TV', 'NOUN'), ('stations', 'NOUN'), ('to', 'PRT'), ('NTG', 'NOUN'), ('Inc.', 'NOUN'), ('for', 'ADP'), ('$', '.'), ('120', 'NUM'), ('million', 'NUM'), ('*U*', 'X'), ('in', 'ADP'), ('cash', 'NOUN'), ('and', 'CONJ'), ('notes', 'NOUN'), (',', '.'), ('*-1', 'X'), ('retaining', 'VERB'), ('a', 'DET'), ('10', 'NUM'), ('%', 'NOUN'), ('equity', 'NOUN'), ('stake', 'NOUN'), ('in', 'ADP'), ('the', 'DET'), ('new', 'ADJ'), ('concern', 'NOUN'), ('.', '.'), ('The', 'DET'), ('agreement', 'NOUN'), ('on', 'ADP'), ('Poland', 'NOUN'), ('contrasts', 'NOUN'), ('with', 'ADP'), ('the', 'DET'), ('major', 'ADJ'), ('differences', 'NOUN'), ('remaining', 'VERB'), ('over', 'ADP'), ('the', 'DET'), ('underlying', 'ADJ'), ('foreign', 'ADJ'), ('aid', 'NOUN'), ('bill', 'NOUN'), (',', '.'), ('which', 'DET'), ('*T*-9', 'X'), ('has', 'VERB'), ('already', 'ADV'), ('provoked', 'VERB'), ('veto', 'VERB'), ('threats', 'NOUN'), ('by', 'ADP'), ('the', 'DET'), ('White', 'NOUN'), ('House', 'NOUN'), ('and', 'CONJ'), ('is', 'VERB'), ('sharply', 'ADV'), ('confined', 'VERB'), ('under', 'ADP'), ('this', 'DET'), ('year', 'NOUN'), (\"'s\", 'PRT'), ('budget', 'NOUN'), ('.', '.'), ('The', 'DET'), ('move', 'NOUN'), ('boosts', 'VERB'), ('Intelogic', 'NOUN'), ('Chairman', 'NOUN'), ('Asher', 'NOUN'), ('Edelman', 'NOUN'), (\"'s\", 'PRT'), ('stake', 'NOUN'), ('to', 'PRT'), ('20', 'NUM'), ('%', 'NOUN'), ('from', 'ADP'), ('16.2', 'DET'), ('%', 'NOUN'), ('and', 'CONJ'), ('may', 'VERB'), ('help', 'VERB'), ('*-2', 'X'), ('prevent', 'VERB'), ('Martin', 'NOUN'), ('Ackerman', 'NOUN'), ('from', 'ADP'), ('*-1', 'X'), ('making', 'VERB'), ('a', 'DET'), ('run', 'VERB'), ('at', 'ADP'), ('the', 'DET'), ('computer-services', 'NOUN'), ('concern', 'NOUN'), ('.', '.'), ('In', 'ADP'), ('October', 'NOUN'), (',', '.'), ('the', 'DET'), ('busiest', 'NOUN'), ('month', 'NOUN'), ('of', 'ADP'), ('the', 'DET'), ('year', 'NOUN'), ('so', 'ADV'), ('far', 'ADV'), (',', '.'), ('daily', 'ADJ'), ('volume', 'NOUN'), ('averaged', 'NOUN'), ('roughly', 'ADV'), ('145', 'NUM'), ('million', 'NUM'), ('shares', 'NOUN'), ('.', '.'), ('But', 'CONJ'), ('in', 'ADP'), ('1986', 'NUM'), (',', '.'), ('program', 'NOUN'), ('traders', 'NOUN'), ('received', 'VERB'), ('what', 'PRON'), ('*T*-73', 'X'), ('amounted', 'VERB'), ('to', 'PRT'), ('an', 'DET'), ('exemption', 'NOUN'), ('from', 'ADP'), ('the', 'DET'), ('uptick', 'NOUN'), ('rule', 'NOUN'), ('in', 'ADP'), ('certain', 'ADJ'), ('situations', 'NOUN'), (',', '.'), ('*', 'X'), ('to', 'PRT'), ('make', 'VERB'), ('it', 'PRON'), ('*EXP*-1', 'X'), ('easier', 'ADJ'), ('*', 'X'), ('to', 'PRT'), ('link', 'VERB'), ('the', 'DET'), ('stock', 'NOUN'), ('and', 'CONJ'), ('futures', 'NOUN'), ('markets', 'NOUN'), ('.', '.'), ('The', 'DET'), ('Santa', 'NOUN'), ('Ana', 'NOUN'), ('bonds', 'NOUN'), ('were', 'VERB'), ('tentatively', 'ADV'), ('priced', 'VERB'), ('*-1', 'X'), ('*-2', 'X'), ('to', 'PRT'), ('yield', 'VERB'), ('from', 'ADP'), ('6.40', 'NUM'), ('%', 'NOUN'), ('in', 'ADP'), ('1991', 'NUM'), ('to', 'PRT'), ('7.458', 'NUM'), ('%', 'NOUN'), ('in', 'ADP'), ('He', 'PRON'), ('says', 'VERB'), ('0', 'X'), ('the', 'DET'), ('10', 'NUM'), ('citizen-sparked', 'NOUN'), ('issues', 'NOUN'), ('on', 'ADP'), ('state', 'NOUN'), ('ballots', 'NOUN'), ('this', 'DET'), ('fall', 'NOUN'), ('represent', 'VERB'), ('the', 'DET'), ('most', 'ADJ'), ('in', 'ADP'), ('any', 'DET'), ('odd-year', 'NOUN'), ('this', 'DET'), ('decade', 'NOUN'), ('.', '.'), ('The', 'DET'), ('issue', 'NOUN'), ('could', 'VERB'), ('be', 'VERB'), ('relaunched', 'X'), ('*-1', 'X'), (',', '.'), ('possibly', 'ADV'), ('in', 'ADP'), ('a', 'DET'), ('restructured', 'VERB'), ('form', 'NOUN'), (',', '.'), ('as', 'ADP'), ('early', 'ADJ'), ('as', 'ADP'), ('next', 'ADJ'), ('week', 'NOUN'), (',', '.'), ('according', 'VERB'), ('to', 'PRT'), ('the', 'DET'), ('lead', 'NOUN'), ('underwriter', 'NOUN'), ('.', '.'), ('Today', 'NOUN'), ('taxpayers', 'NOUN'), ('get', 'VERB'), ('*-1', 'X'), ('to', 'PRT'), ('vote', 'VERB'), (',', '.'), ('most', 'ADV'), ('of', 'ADP'), ('the', 'DET'), ('time', 'NOUN'), (',', '.'), ('on', 'ADP'), ('whether', 'ADP'), ('they', 'PRON'), ('want', 'VERB'), ('*-2', 'X'), ('to', 'PRT'), ('finance', 'VERB'), ('the', 'DET'), ('building', 'NOUN'), ('schemes', 'NOUN'), ('of', 'ADP'), ('our', 'PRON'), ('modern', 'ADJ'), ('political', 'ADJ'), ('pharaohs', 'NOUN'), (',', '.'), ('or', 'CONJ'), ('let', 'VERB'), ('private', 'ADJ'), ('money', 'NOUN'), ('erect', 'NOUN'), ('these', 'DET'), ('playgrounds', 'NOUN'), ('for', 'ADP'), ('public', 'ADJ'), ('passions', 'NOUN'), ('.', '.'), ('Mr.', 'NOUN'), ('Dingell', 'NOUN'), (\"'s\", 'PRT'), ('staff', 'NOUN'), ('was', 'VERB'), ('expected', 'VERB'), ('*-2', 'X'), ('to', 'PRT'), ('present', 'ADJ'), ('its', 'PRON'), ('acid-rain', 'NOUN'), ('alternative', 'NOUN'), ('to', 'PRT'), ('other', 'ADJ'), ('committee', 'NOUN'), ('members', 'NOUN'), (',', '.'), ('apparently', 'ADV'), ('in', 'ADP'), ('an', 'DET'), ('attempt', 'NOUN'), ('*', 'X'), ('to', 'PRT'), ('appease', 'VERB'), ('Midwestern', 'ADJ'), ('lawmakers', 'NOUN'), ('from', 'ADP'), ('high-polluting', 'DET'), ('states', 'NOUN'), ('who', 'PRON'), ('*T*-1', 'X'), ('insist', 'VERB'), ('on', 'ADP'), ('cost-sharing', 'ADJ'), ('.', '.'), ('Ginnie', 'NOUN'), ('Mae', 'NOUN'), (\"'s\", 'PRT'), ('9', 'NUM'), ('%', 'NOUN'), ('issue', 'NOUN'), ('for', 'ADP'), ('November', 'NOUN'), ('delivery', 'NOUN'), ('finished', 'VERB'), ('at', 'ADP'), ('98', 'NUM'), ('5\\\\/8', 'NUM'), (',', '.'), ('up', 'ADV'), ('2\\\\/32', 'NUM'), (',', '.'), ('and', 'CONJ'), ('its', 'PRON'), ('9', 'NUM'), ('1\\\\/2', 'NUM'), ('%', 'NOUN'), ('issue', 'NOUN'), ('at', 'ADP'), ('100', 'NUM'), ('22\\\\/32', 'NUM'), (',', '.'), ('also', 'ADV'), ('up', 'ADV'), ('2\\\\/32', 'NUM'), ('.', '.'), ('*-1', 'X'), ('Not', 'ADV'), ('counting', 'VERB'), ('the', 'DET'), ('extraordinary', 'ADJ'), ('charge', 'NOUN'), (',', '.'), ('the', 'DET'), ('company', 'NOUN'), ('said', 'VERB'), ('0', 'X'), ('it', 'PRON'), ('would', 'VERB'), ('have', 'VERB'), ('had', 'VERB'), ('a', 'DET'), ('net', 'ADJ'), ('loss', 'NOUN'), ('of', 'ADP'), ('$', '.'), ('3.1', 'NUM'), ('million', 'NUM'), ('*U*', 'X'), (',', '.'), ('or', 'CONJ'), ('seven', 'NUM'), ('cents', 'NOUN'), ('a', 'DET'), ('share', 'NOUN'), ('.', '.'), ('Last', 'ADJ'), ('year', 'NOUN'), (\"'s\", 'PRT'), ('figures', 'NOUN'), ('include', 'VERB'), ('a', 'DET'), ('one-time', 'ADJ'), ('loss', 'NOUN'), ('of', 'ADP'), ('$', '.'), ('12', 'NUM'), ('million', 'NUM'), ('*U*', 'X'), ('for', 'ADP'), ('restructuring', 'NOUN'), ('and', 'CONJ'), ('unusual', 'ADJ'), ('items', 'NOUN'), ('.', '.'), ('However', 'ADV'), (',', '.'), ('neither', 'DET'), ('Mr.', 'NOUN'), ('Baum', 'NOUN'), ('nor', 'CONJ'), ('Mr.', 'NOUN'), ('Harper', 'NOUN'), ('has', 'VERB'), ('much', 'ADV'), ('international', 'ADJ'), ('experience', 'NOUN'), ('.', '.'), ('For', 'ADP'), ('fiscal', 'ADJ'), ('1989', 'NUM'), (\"'s\", 'PRT'), ('fourth', 'ADJ'), ('quarter', 'NOUN'), (',', '.'), ('Rockwell', 'NOUN'), (\"'s\", 'PRT'), ('net', 'ADJ'), ('income', 'NOUN'), ('totaled', 'VERB'), ('$', '.'), ('126.1', 'NOUN'), ('million', 'NUM'), ('*U*', 'X'), (',', '.'), ('or', 'CONJ'), ('50', 'NUM'), ('cents', 'NOUN'), ('a', 'DET'), ('share', 'NOUN'), ('.', '.'), ('George', 'NOUN'), ('Christopher', 'NOUN'), (',', '.'), ('the', 'DET'), ('former', 'ADJ'), ('San', 'NOUN'), ('Francisco', 'NOUN'), ('mayor', 'NOUN'), ('who', 'PRON'), ('*T*-1', 'X'), ('built', 'VERB'), ('Candlestick', 'NOUN'), ('Park', 'NOUN'), ('for', 'ADP'), ('the', 'DET'), ('Giants', 'NOUN'), ('in', 'ADP'), ('the', 'DET'), ('1960s', 'NUM'), (',', '.'), ('wo', 'VERB'), (\"n't\", 'ADV'), ('endorse', 'VERB'), ('the', 'DET'), ('new', 'ADJ'), ('ballpark', 'NOUN'), ('.', '.'), ('``', '.'), ('It', 'PRON'), (\"'s\", 'VERB'), ('a', 'DET'), ('cosmetic', 'NOUN'), ('move', 'NOUN'), (',', '.'), (\"''\", '.'), ('said', 'VERB'), ('*T*-1', 'X'), ('Jonathan', 'NOUN'), ('S.', 'NOUN'), ('Gelles', 'NOUN'), ('of', 'ADP'), ('Wertheim', 'DET'), ('Schroder', 'NOUN'), ('&', 'CONJ'), ('Co', 'NOUN'), ('.', '.'), ('They', 'PRON'), ('belong', 'VERB'), ('to', 'PRT'), ('a', 'DET'), ('group', 'NOUN'), ('of', 'ADP'), ('15', 'NUM'), ('ringers', 'NOUN'), ('--', '.'), ('including', 'VERB'), ('two', 'NUM'), ('octogenarians', 'NOUN'), ('and', 'CONJ'), ('four', 'NUM'), ('youngsters', 'NOUN'), ('in', 'ADP'), ('training', 'NOUN'), ('--', '.'), ('who', 'PRON'), ('*T*-222', 'VERB'), ('drive', 'VERB'), ('every', 'DET'), ('Sunday', 'NOUN'), ('from', 'ADP'), ('church', 'NOUN'), ('to', 'PRT'), ('church', 'NOUN'), ('in', 'ADP'), ('a', 'DET'), ('sometimes-exhausting', 'NOUN'), ('effort', 'NOUN'), ('*', 'X'), ('to', 'PRT'), ('keep', 'VERB'), ('the', 'DET'), ('bells', 'NOUN'), ('sounding', 'NOUN'), ('in', 'ADP'), ('the', 'DET'), ('many', 'ADJ'), ('belfries', 'NOUN'), ('of', 'ADP'), ('East', 'NOUN'), ('Anglia', 'NOUN'), ('.', '.'), ('As', 'ADP'), ('a', 'DET'), ('result', 'NOUN'), (',', '.'), ('the', 'DET'), ('market', 'NOUN'), (\"'s\", 'PRT'), ('dividend', 'NOUN'), ('yield', 'VERB'), ('--', '.'), ('dividends', 'NOUN'), ('as', 'ADP'), ('a', 'DET'), ('percentage', 'NOUN'), ('of', 'ADP'), ('price', 'NOUN'), ('--', '.'), ('has', 'VERB'), ('slid', 'VERB'), ('to', 'PRT'), ('a', 'DET'), ('level', 'NOUN'), ('that', 'ADP'), ('*T*-232', 'DET'), ('is', 'VERB'), ('fairly', 'ADV'), ('low', 'ADJ'), ('and', 'CONJ'), ('unenticing', 'NOUN'), ('by', 'ADP'), ('historical', 'ADJ'), ('standards', 'NOUN'), ('.', '.'), ('Most', 'ADJ'), ('contracts', 'NOUN'), ('are', 'VERB'), ('simply', 'ADV'), ('nullified', 'VERB'), ('*-1', 'X'), ('by', 'ADP'), ('an', 'DET'), ('opposite', 'NOUN'), ('trade', 'NOUN'), ('before', 'ADP'), ('they', 'PRON'), ('come', 'VERB'), ('due', 'ADJ'), ('.', '.'), ('The', 'DET'), ('firmness', 'NOUN'), ('in', 'ADP'), ('heating', 'NOUN'), ('oil', 'NOUN'), ('was', 'VERB'), ('attributed', 'VERB'), ('*-1', 'X'), ('to', 'PRT'), ('colder', 'VERB'), ('weather', 'VERB'), ('in', 'ADP'), ('parts', 'NOUN'), ('of', 'ADP'), ('the', 'DET'), ('U.S.', 'NOUN'), ('and', 'CONJ'), ('to', 'PRT'), ('the', 'DET'), ('latest', 'ADJ'), ('weekly', 'ADJ'), ('report', 'NOUN'), ('by', 'ADP'), ('the', 'DET'), ('American', 'ADJ'), ('Petroleum', 'NOUN'), ('Institute', 'NOUN'), (',', '.'), ('which', 'DET'), ('*T*-2', 'X'), ('showed', 'VERB'), ('a', 'DET'), ('decline', 'NOUN'), ('in', 'ADP'), ('inventories', 'NOUN'), ('of', 'ADP'), ('the', 'DET'), ('fuel', 'NOUN'), ('.', '.'), ('Also', 'ADV'), (',', '.'), ('there', 'DET'), ('has', 'VERB'), ('been', 'VERB'), ('a', 'DET'), ('switch', 'NOUN'), ('*ICH*-3', 'X'), ('in', 'ADP'), ('the', 'DET'), ('past', 'ADJ'), ('decade', 'NOUN'), ('to', 'PRT'), ('planting', 'VERB'), ('of', 'ADP'), ('orange', 'DET'), ('trees', 'NOUN'), ('in', 'ADP'), ('areas', 'NOUN'), ('that', 'ADP'), ('*T*-5', 'X'), ('were', 'VERB'), ('previously', 'ADV'), ('used', 'VERB'), ('*-1', 'X'), ('for', 'ADP'), ('cane', 'DET'), (',', '.'), ('and', 'CONJ'), ('this', 'DET'), ('change', 'NOUN'), ('is', 'VERB'), ('being', 'VERB'), ('felt', 'VERB'), ('*-4', 'X'), ('now', 'ADV'), (',', '.'), ('she', 'PRON'), ('said', 'VERB'), ('0', 'X'), ('*T*-2', 'X'), ('.', '.'), ('All', 'DET'), ('of', 'ADP'), ('the', 'DET'), ('changes', 'NOUN'), ('require', 'VERB'), ('regulatory', 'ADJ'), ('approval', 'NOUN'), (',', '.'), ('which', 'DET'), ('*T*-1', 'X'), ('is', 'VERB'), ('expected', 'VERB'), ('*-129', 'X'), ('shortly', 'ADV'), ('.', '.'), ('The', 'DET'), ('start', 'NOUN'), ('of', 'ADP'), ('the', 'DET'), ('whole', 'ADJ'), ('process', 'NOUN'), ('is', 'VERB'), ('the', 'DET'), ('key', 'ADJ'), ('-', '.'), ('someone', 'NOUN'), ('must', 'VERB'), ('fundamentally', 'X'), ('increase', 'VERB'), ('or', 'CONJ'), ('decrease', 'NOUN'), ('his', 'PRON'), ('ownership', 'NOUN'), ('in', 'ADP'), ('widgets', 'NOUN'), ('*-1', 'X'), ('to', 'PRT'), ('make', 'VERB'), ('widget', 'NOUN'), ('prices', 'NOUN'), ('move', 'NOUN'), ('.', '.'), ('And', 'CONJ'), ('while', 'ADP'), ('there', 'DET'), ('was', 'VERB'), ('no', 'DET'), ('profit', 'NOUN'), ('*ICH*-1', 'X'), ('this', 'DET'), ('year', 'NOUN'), ('from', 'ADP'), ('discontinued', 'VERB'), ('operations', 'NOUN'), (',', '.'), ('last', 'ADJ'), ('year', 'NOUN'), ('they', 'PRON'), ('contributed', 'VERB'), ('#', '.'), ('34', 'NUM'), ('million', 'NUM'), ('*U*', 'X'), (',', '.'), ('before', 'ADP'), ('tax', 'NOUN'), ('.', '.'), ('From', 'ADP'), ('Italy', 'NOUN'), ('there', 'DET'), ('is', 'VERB'), ('Angelo', 'X'), ('Gaja', 'VERB'), ('Barbaresco', 'X'), ('at', 'ADP'), ('$', '.'), ('125', 'NUM'), ('*U*', 'X'), ('a', 'DET'), ('bottle', 'NOUN'), (',', '.'), ('Piero', 'NOUN'), ('Antinori', 'NOUN'), (\"'s\", 'PRT'), ('La', 'NOUN'), ('Solaia', 'NOUN'), (',', '.'), ('a', 'DET'), ('$', '.'), ('90', 'NUM'), ('*U*', 'X'), ('Cabernet', 'NOUN'), ('from', 'ADP'), ('Tuscany', 'NOUN'), (',', '.'), ('and', 'CONJ'), ('Biondi-Santi', 'NOUN'), ('Brunello', 'NOUN'), ('at', 'ADP'), ('$', '.'), ('98', 'NUM'), ('*U*', 'X'), ('.', '.'), ('The', 'DET'), ('most', 'ADJ'), ('common', 'ADJ'), ('program-trading', 'ADJ'), ('vehicles', 'NOUN'), ('are', 'VERB'), ('futures', 'NOUN'), ('contracts', 'NOUN'), ('on', 'ADP'), ('Standard', 'NOUN'), ('&', 'CONJ'), ('poor', 'ADJ'), (\"'s\", 'PRT'), ('500-stock', 'ADJ'), ('index', 'NOUN'), ('-LRB-', '.'), ('traded', 'VERB'), ('*', 'X'), ('on', 'ADP'), ('the', 'DET'), ('Chicago', 'NOUN'), ('Mercantile', 'NOUN'), ('Exchange', 'NOUN'), ('-RRB-', '.'), (';', '.'), ('the', 'DET'), ('Major', 'NOUN'), ('Market', 'NOUN'), ('Index', 'NOUN'), (',', '.'), ('a', 'DET'), ('20-stock', 'NOUN'), ('index', 'NOUN'), ('that', 'ADP'), ('*T*-1', 'X'), ('mimics', 'VERB'), ('the', 'DET'), ('Dow', 'NOUN'), ('Jones', 'NOUN'), ('Industrial', 'NOUN'), ('Average', 'NOUN'), ('-LRB-', '.'), ('traded', 'VERB'), ('*', 'X'), ('on', 'ADP'), ('the', 'DET'), ('chicago', 'NOUN'), ('Board', 'NOUN'), ('of', 'ADP'), ('Trade', 'NOUN'), ('-RRB-', '.'), (';', '.'), ('and', 'CONJ'), ('the', 'DET'), ('S&P', 'NOUN'), ('100', 'NUM'), ('options', 'NOUN'), ('-LRB-', '.'), ('traded', 'VERB'), ('*', 'X'), ('on', 'ADP'), ('the', 'DET'), ('Chicago', 'NOUN'), ('Board', 'NOUN'), ('Options', 'NOUN'), ('Exchange', 'NOUN'), (',', '.'), ('and', 'CONJ'), ('based', 'VERB'), ('*', 'X'), ('on', 'ADP'), ('100', 'NUM'), ('stocks', 'NOUN'), ('selected', 'VERB'), ('*', 'X'), ('from', 'ADP'), ('the', 'DET'), ('S&P', 'NOUN'), ('500', 'NUM'), ('-RRB-', '.'), ('.', '.'), ('The', 'DET'), ('analyst', 'NOUN'), ('noted', 'VERB'), ('that', 'ADP'), ('also', 'ADV'), ('inherent', 'ADJ'), ('in', 'ADP'), ('all', 'DET'), ('metal', 'NOUN'), ('markets', 'NOUN'), ('was', 'VERB'), ('*T*-1', 'X'), ('a', 'DET'), ('sympathetic', 'ADJ'), ('reaction', 'NOUN'), ('to', 'PRT'), ('stocks', 'NOUN'), ('.', '.'), ('``', '.'), ('We', 'PRON'), ('did', 'VERB'), (\"n't\", 'ADV'), ('have', 'VERB'), ('much', 'ADV'), ('of', 'ADP'), ('a', 'DET'), ('choice', 'NOUN'), (',', '.'), (\"''\", '.'), ('Cray', 'NOUN'), ('Computer', 'NOUN'), (\"'s\", 'PRT'), ('chief', 'NOUN'), ('financial', 'ADJ'), ('officer', 'NOUN'), (',', '.'), ('Gregory', 'NOUN'), ('Barnum', 'NOUN'), (',', '.'), ('said', 'VERB'), ('*T*-1', 'X'), ('in', 'ADP'), ('an', 'DET'), ('interview', 'NOUN'), ('.', '.'), ('The', 'DET'), ('purchasing', 'NOUN'), ('managers', 'NOUN'), (\"'\", 'PRT'), ('report', 'VERB'), ('is', 'VERB'), ('based', 'VERB'), ('*-56', 'X'), ('on', 'ADP'), ('data', 'NOUN'), ('provided', 'VERB'), ('*', 'X'), ('by', 'ADP'), ('more', 'ADJ'), ('than', 'ADP'), ('250', 'NUM'), ('purchasing', 'NOUN'), ('executives', 'NOUN'), ('.', '.'), ('The', 'DET'), ('British', 'ADJ'), ('also', 'ADV'), ('are', 'VERB'), ('scrutinizing', 'VERB'), ('program', 'NOUN'), ('trades', 'NOUN'), ('.', '.'), ('Legislation', 'NOUN'), ('0', 'X'), ('*T*-1', 'X'), ('to', 'PRT'), ('lift', 'VERB'), ('the', 'DET'), ('debt', 'NOUN'), ('ceiling', 'NOUN'), ('is', 'VERB'), ('ensnarled', 'X'), ('*-11', 'X'), ('in', 'ADP'), ('the', 'DET'), ('fight', 'NOUN'), ('over', 'ADP'), ('*', 'X'), ('cutting', 'VERB'), ('capital-gains', 'NOUN'), ('taxes', 'NOUN'), ('.', '.'), ('Wednesday', 'NOUN'), (\"'s\", 'PRT'), ('volume', 'NOUN'), ('on', 'ADP'), ('the', 'DET'), ('First', 'NOUN'), ('Section', 'NOUN'), ('was', 'VERB'), ('estimated', 'VERB'), ('*-1', 'X'), ('at', 'ADP'), ('900', 'NUM'), ('million', 'NUM'), ('shares', 'NOUN'), (',', '.'), ('in', 'ADP'), ('line', 'NOUN'), ('with', 'ADP'), ('Tuesday', 'NOUN'), (\"'s\", 'PRT'), ('909', 'VERB'), ('million', 'NUM'), ('.', '.'), ('The', 'DET'), ('training', 'NOUN'), ('wage', 'NOUN'), ('covers', 'VERB'), ('only', 'ADV'), ('workers', 'NOUN'), ('who', 'PRON'), ('*T*-260', 'VERB'), ('are', 'VERB'), ('16', 'NUM'), ('to', 'PRT'), ('19', 'NUM'), ('years', 'NOUN'), ('old', 'ADJ'), ('.', '.'), ('Americans', 'NOUN'), ('will', 'VERB'), ('learn', 'X'), ('more', 'ADV'), ('about', 'ADP'), ('*', 'X'), ('making', 'VERB'), ('products', 'NOUN'), ('for', 'ADP'), ('the', 'DET'), ('Soviets', 'NOUN'), ('.', '.'), ('*-1', 'X'), ('Starting', 'VERB'), ('with', 'ADP'), ('Congressman', 'DET'), ('Mario', 'NOUN'), ('Biaggi', 'NOUN'), ('-LRB-', '.'), ('now', 'ADV'), ('serving', 'VERB'), ('a', 'DET'), ('jail', 'NOUN'), ('sentence', 'NOUN'), ('-RRB-', '.'), (',', '.'), ('the', 'DET'), ('company', 'NOUN'), ('began', 'VERB'), ('a', 'DET'), ('career', 'NOUN'), ('of', 'ADP'), ('*', 'X'), ('bribing', 'VERB'), ('federal', 'ADJ'), (',', '.'), ('state', 'NOUN'), ('and', 'CONJ'), ('local', 'ADJ'), ('public', 'NOUN'), ('officials', 'NOUN'), ('and', 'CONJ'), ('those', 'DET'), ('close', 'NOUN'), ('to', 'PRT'), ('public', 'ADJ'), ('officials', 'NOUN'), (',', '.'), ('right', 'NOUN'), ('up', 'PRT'), ('to', 'PRT'), ('*RNR*-2', 'X'), ('and', 'CONJ'), ('including', 'VERB'), ('*RNR*-2', 'X'), ('E.', 'NOUN'), ('Robert', 'NOUN'), ('Wallach', 'NOUN'), (',', '.'), ('close', 'NOUN'), ('friend', 'NOUN'), ('and', 'CONJ'), ('adviser', 'NOUN'), ('to', 'PRT'), ('former', 'ADJ'), ('Attorney', 'NOUN'), ('General', 'NOUN'), ('Ed', 'NOUN'), ('Meese', 'NOUN'), ('.', '.'), ('While', 'ADP'), ('worry', 'VERB'), ('*ICH*-1', 'X'), ('grows', 'VERB'), ('about', 'ADP'), ('big', 'ADJ'), ('Japanese', 'ADJ'), ('investments', 'NOUN'), ('in', 'ADP'), ('the', 'DET'), ('U.S.', 'NOUN'), (',', '.'), ('Japan', 'NOUN'), (\"'s\", 'PRT'), ('big', 'ADJ'), ('trading', 'NOUN'), ('companies', 'NOUN'), ('are', 'VERB'), ('rapidly', 'ADV'), ('increasing', 'VERB'), ('their', 'PRON'), ('stake', 'NOUN'), ('in', 'ADP'), ('America', 'NOUN'), (\"'s\", 'PRT'), ('smaller', 'ADJ'), ('business', 'NOUN'), ('.', '.'), ('Before', 'ADP'), ('the', 'DET'), ('USX', 'NOUN'), ('case', 'NOUN'), (',', '.'), ('OSHA', 'NOUN'), (\"'s\", 'PRT'), ('largest', 'ADJ'), ('proposed', 'VERB'), ('fine', 'NOUN'), ('for', 'ADP'), ('one', 'NUM'), ('employer', 'NOUN'), ('was', 'VERB'), ('$', '.'), ('4.3', 'NUM'), ('million', 'NUM'), ('*U*', 'X'), ('for', 'ADP'), ('alleged', 'ADJ'), ('safety', 'NOUN'), ('violations', 'NOUN'), ('at', 'ADP'), ('John', 'NOUN'), ('Morrell', 'NOUN'), ('&', 'CONJ'), ('Co.', 'NOUN'), (',', '.'), ('a', 'DET'), ('meatpacking', 'NOUN'), ('subsidiary', 'NOUN'), ('of', 'ADP'), ('United', 'NOUN'), ('Brands', 'NOUN'), ('Co.', 'NOUN'), (',', '.'), ('Cincinnati', 'NOUN'), ('.', '.'), ('Mrs.', 'NOUN'), ('Ward', 'NOUN'), ('took', 'VERB'), ('over', 'ADP'), ('in', 'ADP'), ('1986', 'NUM'), (',', '.'), ('*-1', 'X'), ('becoming', 'VERB'), ('the', 'DET'), ('school', 'NOUN'), (\"'s\", 'PRT'), ('seventh', 'VERB'), ('principal', 'ADJ'), ('in', 'ADP'), ('15', 'NUM'), ('years', 'NOUN'), ('.', '.'), ('Gerard', 'NOUN'), ('Scannell', 'NOUN'), (',', '.'), ('the', 'DET'), ('head', 'NOUN'), ('of', 'ADP'), ('OSHA', 'NOUN'), (',', '.'), ('said', 'VERB'), ('0', 'X'), ('USX', 'NOUN'), ('managers', 'NOUN'), ('have', 'VERB'), ('known', 'VERB'), ('about', 'ADP'), ('many', 'ADJ'), ('of', 'ADP'), ('the', 'DET'), ('safety', 'NOUN'), ('and', 'CONJ'), ('health', 'NOUN'), ('deficiencies', 'NOUN'), ('at', 'ADP'), ('the', 'DET'), ('plants', 'NOUN'), ('for', 'ADP'), ('years', 'NOUN'), (',', '.'), ('``', '.'), ('yet', 'ADV'), ('have', 'VERB'), ('failed', 'VERB'), ('*-1', 'X'), ('to', 'PRT'), ('take', 'VERB'), ('necessary', 'ADJ'), ('action', 'NOUN'), ('*', 'X'), ('to', 'PRT'), ('counteract', 'VERB'), ('the', 'DET'), ('hazards', 'NOUN'), ('.', '.'), (\"''\", '.'), ('Drug', 'NOUN'), ('companies', 'NOUN'), ('in', 'ADP'), ('the', 'DET'), ('key', 'ADJ'), ('index', 'NOUN'), ('also', 'ADV'), ('notched', 'VERB'), ('gains', 'NOUN'), ('as', 'ADP'), ('market-makers', 'NOUN'), ('searched', 'NOUN'), ('for', 'ADP'), ('stock', 'NOUN'), ('in', 'ADP'), ('anticipation', 'NOUN'), ('of', 'ADP'), ('demand', 'NOUN'), ('due', 'ADJ'), ('to', 'PRT'), ('the', 'DET'), ('sector', 'NOUN'), (\"'s\", 'PRT'), ('defensive', 'ADJ'), ('qualities', 'NOUN'), ('.', '.'), ('And', 'CONJ'), ('in', 'ADP'), ('the', 'DET'), ('Chicago', 'NOUN'), ('district', 'NOUN'), (',', '.'), ('the', 'DET'), ('report', 'NOUN'), ('said', 'VERB'), ('0', 'X'), ('*T*-1', 'X'), (',', '.'), ('``', '.'), ('a', 'DET'), ('manufacturer', 'NOUN'), ('of', 'ADP'), ('capital', 'NOUN'), ('goods', 'NOUN'), ('noted', 'VERB'), ('slower', 'ADJ'), ('orders', 'NOUN'), ('for', 'ADP'), ('some', 'DET'), ('types', 'NOUN'), (',', '.'), ('including', 'VERB'), ('defense', 'NOUN'), ('equipment', 'NOUN'), (',', '.'), ('petroleum', 'NOUN'), ('equipment', 'NOUN'), (',', '.'), ('food', 'NOUN'), ('packaging', 'NOUN'), ('machinery', 'NOUN'), ('and', 'CONJ'), ('material', 'NOUN'), ('handling', 'NOUN'), ('equipment', 'NOUN'), ('.', '.'), (\"''\", '.'), ('The', 'DET'), ('Contra', 'NOUN'), ('military', 'ADJ'), ('command', 'VERB'), (',', '.'), ('in', 'ADP'), ('a', 'DET'), ('statement', 'NOUN'), ('from', 'ADP'), ('Honduras', 'DET'), (',', '.'), ('said', 'VERB'), ('0', 'X'), ('Sandinista', 'VERB'), ('troops', 'NOUN'), ('had', 'VERB'), ('launched', 'VERB'), ('a', 'DET'), ('major', 'ADJ'), ('offensive', 'NOUN'), ('against', 'ADP'), ('the', 'DET'), ('rebel', 'NOUN'), ('forces', 'NOUN'), ('.', '.'), ('As', 'ADP'), ('a', 'DET'), ('result', 'NOUN'), (',', '.'), ('the', 'DET'), ('company', 'NOUN'), ('said', 'VERB'), ('0', 'X'), ('it', 'PRON'), ('decided', 'VERB'), ('*-1', 'X'), ('to', 'PRT'), ('phase', 'VERB'), ('out', 'PRT'), ('its', 'PRON'), ('oldest', 'ADJ'), ('capacity', 'NOUN'), ('and', 'CONJ'), ('``', '.'), ('make', 'VERB'), ('appropriate', 'X'), ('reductions', 'NOUN'), (\"''\", '.'), ('in', 'ADP'), ('operating', 'NOUN'), ('expenses', 'NOUN'), ('.', '.'), ('An', 'DET'), ('appeal', 'NOUN'), ('is', 'VERB'), ('expected', 'VERB'), ('*-68', 'X'), ('.', '.'), ('Mr.', 'NOUN'), ('Nemeth', 'NOUN'), ('said', 'VERB'), ('in', 'ADP'), ('parliament', 'NOUN'), ('that', 'ADP'), ('Czechoslovakia', 'NOUN'), ('and', 'CONJ'), ('Hungary', 'NOUN'), ('would', 'VERB'), ('suffer', 'VERB'), ('environmental', 'ADJ'), ('damage', 'NOUN'), ('if', 'ADP'), ('the', 'DET'), ('twin', 'NOUN'), ('dams', 'NOUN'), ('were', 'VERB'), ('built', 'VERB'), ('*-67', 'X'), ('as', 'ADP'), ('*', 'X'), ('planned', 'VERB'), ('*-2', 'X'), ('.', '.'), ('Customers', 'NOUN'), ('holding', 'VERB'), ('contracts', 'NOUN'), ('for', 'ADP'), ('Waertsilae', 'NOUN'), ('Marine', 'NOUN'), (\"'s\", 'PRT'), ('undelivered', 'VERB'), ('ships', 'NOUN'), ('are', 'VERB'), ('expected', 'VERB'), ('*-1', 'X'), ('to', 'PRT'), ('subscribe', 'VERB'), ('most', 'ADV'), ('of', 'ADP'), ('the', 'DET'), ('remaining', 'VERB'), ('170', 'X'), ('million', 'NUM'), ('markkaa', 'NOUN'), ('in', 'ADP'), ('share', 'NOUN'), ('capital', 'NOUN'), (',', '.'), ('government', 'NOUN'), ('officials', 'NOUN'), ('said', 'VERB'), ('0', 'X'), ('*T*-2', 'X'), ('.', '.'), ('The', 'DET'), ('company', 'NOUN'), ('said', 'VERB'), ('0', 'X'), ('Mr.', 'NOUN'), ('Stronach', 'NOUN'), ('will', 'VERB'), ('personally', 'X'), ('direct', 'VERB'), ('the', 'DET'), ('restructuring', 'NOUN'), (',', '.'), ('*-1', 'X'), ('assisted', 'VERB'), ('*-2', 'X'), ('by', 'ADP'), ('Manfred', 'DET'), ('Gingl', 'NOUN'), (',', '.'), ('president', 'NOUN'), ('and', 'CONJ'), ('chief', 'NOUN'), ('executive', 'NOUN'), ('.', '.'), ('Roederer', 'NOUN'), ('Cristal', 'NOUN'), ('at', 'ADP'), ('$', '.'), ('90', 'NUM'), ('*U*', 'X'), ('a', 'DET'), ('bottle', 'NOUN'), ('sells', 'VERB'), ('out', 'PRT'), ('around', 'ADP'), ('the', 'DET'), ('country', 'NOUN'), ('and', 'CONJ'), ('Taittinger', 'NOUN'), (\"'s\", 'PRT'), ('Comtes', 'VERB'), ('de', 'X'), ('Champagne', 'NOUN'), ('Blanc', 'NOUN'), ('de', 'ADP'), ('Blancs', 'NOUN'), ('is', 'VERB'), ('encroaching', 'X'), ('upon', 'ADP'), ('that', 'DET'), ('level', 'NOUN'), ('.', '.'), ('``', '.'), ('I', 'PRON'), (\"'m\", 'VERB'), ('starting', 'VERB'), ('*-1', 'X'), ('to', 'PRT'), ('see', 'VERB'), ('more', 'ADV'), ('business', 'NOUN'), ('transactions', 'NOUN'), (',', '.'), (\"''\", '.'), ('says', 'VERB'), ('*T*-2', 'X'), ('Andrea', 'VERB'), ('West', 'NOUN'), ('of', 'ADP'), ('American', 'ADJ'), ('Telephone', 'NOUN'), ('&', 'CONJ'), ('Telegraph', 'NOUN'), ('Co.', 'NOUN'), (',', '.'), ('*-3', 'X'), ('noting', 'VERB'), ('growing', 'VERB'), ('interest', 'NOUN'), ('in', 'ADP'), ('use', 'NOUN'), ('of', 'ADP'), ('900', 'NUM'), ('service', 'NOUN'), ('for', 'ADP'), ('stock', 'NOUN'), ('sales', 'NOUN'), (',', '.'), ('software', 'NOUN'), ('tutorials', 'NOUN'), ('and', 'CONJ'), ('even', 'ADV'), ('service', 'NOUN'), ('contracts', 'NOUN'), ('.', '.'), ('In', 'ADP'), ('the', 'DET'), ('third', 'ADJ'), ('quarter', 'NOUN'), (',', '.'), ('Georgia', 'NOUN'), ('Gulf', 'NOUN'), ('earned', 'VERB'), ('$', '.'), ('46.1', 'NOUN'), ('million', 'NUM'), ('*U*', 'X'), (',', '.'), ('or', 'CONJ'), ('$', '.'), ('1.85', 'NOUN'), ('*U*', 'X'), ('a', 'DET'), ('share', 'NOUN'), (',', '.'), ('down', 'ADV'), ('from', 'ADP'), ('$', '.'), ('53', 'NUM'), ('million', 'NUM'), ('*U*', 'X'), (',', '.'), ('or', 'CONJ'), ('$', '.'), ('1.85', 'NOUN'), ('*U*', 'X'), ('a', 'DET'), ('share', 'NOUN'), ('on', 'ADP'), ('fewer', 'ADJ'), ('shares', 'NOUN'), ('outstanding', 'ADJ'), ('.', '.'), ('Japan', 'NOUN'), (\"'s\", 'PRT'), ('swelling', 'VERB'), ('investment', 'NOUN'), ('in', 'ADP'), ('Southeast', 'NOUN'), ('Asia', 'NOUN'), ('is', 'VERB'), ('part', 'NOUN'), ('of', 'ADP'), ('its', 'PRON'), ('economic', 'ADJ'), ('evolution', 'NOUN'), ('.', '.'), ('Moreover', 'ADV'), (',', '.'), ('the', 'DET'), ('Japanese', 'ADJ'), ('government', 'NOUN'), (',', '.'), ('now', 'ADV'), ('the', 'DET'), ('world', 'NOUN'), (\"'s\", 'PRT'), ('largest', 'ADJ'), ('aid', 'NOUN'), ('donor', 'NOUN'), (',', '.'), ('is', 'VERB'), ('pumping', 'VERB'), ('far', 'ADV'), ('more', 'ADJ'), ('assistance', 'NOUN'), ('*ICH*-2', 'X'), ('into', 'ADP'), ('the', 'DET'), ('region', 'NOUN'), ('than', 'ADP'), ('the', 'DET'), ('U.S.', 'NOUN'), ('is', 'VERB'), ('*?*', 'X'), ('.', '.'), ('Mr.', 'NOUN'), ('Yamamoto', 'NOUN'), ('insisted', 'VERB'), ('that', 'ADP'), ('headquarters', 'NOUN'), ('had', 'VERB'), (\"n't\", 'ADV'), ('approved', 'VERB'), ('the', 'DET'), ('bids', 'NOUN'), (',', '.'), ('and', 'CONJ'), ('that', 'DET'), ('he', 'PRON'), ('did', 'VERB'), (\"n't\", 'ADV'), ('know', 'VERB'), ('about', 'ADP'), ('most', 'ADJ'), ('of', 'ADP'), ('the', 'DET'), ('cases', 'NOUN'), ('until', 'ADP'), ('Wednesday', 'NOUN'), ('.', '.'), ('The', 'DET'), ('Senate', 'NOUN'), ('Finance', 'NOUN'), ('Committee', 'NOUN'), (',', '.'), ('chaired', 'VERB'), ('*', 'X'), ('by', 'ADP'), ('a', 'DET'), ('fellow', 'ADJ'), ('Texan', 'NOUN'), (',', '.'), ('Democratic', 'ADJ'), ('Sen.', 'NOUN'), ('Lloyd', 'NOUN'), ('Bentsen', 'NOUN'), (',', '.'), ('last', 'ADJ'), ('month', 'NOUN'), ('urged', 'VERB'), ('U.S.', 'NOUN'), ('Trade', 'NOUN'), ('Representative', 'NOUN'), ('Carla', 'NOUN'), ('Hills', 'NOUN'), ('to', 'PRT'), ('use', 'VERB'), ('Mr.', 'NOUN'), ('Pickens', 'NOUN'), (\"'s\", 'PRT'), ('experience', 'NOUN'), ('in', 'ADP'), ('talks', 'NOUN'), ('with', 'ADP'), ('Tokyo', 'NOUN'), ('``', '.'), ('*-1', 'X'), ('to', 'PRT'), ('highlight', 'VERB'), ('this', 'DET'), ('problem', 'NOUN'), ('facing', 'VERB'), ('Americans', 'NOUN'), ('who', 'PRON'), ('*T*-185', 'VERB'), ('seek', 'VERB'), ('access', 'NOUN'), ('to', 'PRT'), ('the', 'DET'), ('Japanese', 'ADJ'), ('capital', 'NOUN'), ('markets', 'NOUN'), ('.', '.'), (\"''\", '.'), ('Mr.', 'NOUN'), ('Dinkins', 'NOUN'), ('did', 'VERB'), ('fail', 'VERB'), ('*-1', 'X'), ('to', 'PRT'), ('file', 'VERB'), ('his', 'PRON'), ('income', 'NOUN'), ('taxes', 'NOUN'), ('for', 'ADP'), ('four', 'NUM'), ('years', 'NOUN'), (',', '.'), ('but', 'CONJ'), ('he', 'PRON'), ('insists', 'VERB'), ('0', 'X'), ('he', 'PRON'), ('voluntarily', 'ADV'), ('admitted', 'VERB'), ('the', 'DET'), ('``', '.'), ('oversight', 'NOUN'), (\"''\", '.'), ('when', 'ADV'), ('he', 'PRON'), ('was', 'VERB'), ('being', 'VERB'), ('considered', 'VERB'), ('*-2', 'X'), ('for', 'ADP'), ('a', 'DET'), ('city', 'NOUN'), ('job', 'NOUN'), ('*T*-3', 'X'), ('.', '.'), ('The', 'DET'), ('screen', 'NOUN'), ('fills', 'VERB'), ('with', 'ADP'), ('a', 'DET'), ('small', 'ADJ'), (',', '.'), ('tight', 'ADV'), ('facial', 'VERB'), ('shot', 'VERB'), ('of', 'ADP'), ('David', 'NOUN'), ('Dinkins', 'NOUN'), (',', '.'), ('Democratic', 'ADJ'), ('candidate', 'NOUN'), ('for', 'ADP'), ('mayor', 'NOUN'), ('of', 'ADP'), ('New', 'NOUN'), ('York', 'NOUN'), ('City', 'NOUN'), ('.', '.'), ('R.', 'NOUN'), ('Gordon', 'NOUN'), ('McGovern', 'NOUN'), ('was', 'VERB'), ('forced', 'VERB'), ('*-37', 'X'), ('out', 'PRT'), ('as', 'ADP'), ('Campbell', 'NOUN'), ('Soup', 'NOUN'), ('Co.', 'NOUN'), (\"'s\", 'PRT'), ('president', 'NOUN'), ('and', 'CONJ'), ('chief', 'NOUN'), ('executive', 'NOUN'), ('officer', 'NOUN'), (',', '.'), ('the', 'DET'), ('strongest', 'ADJ'), ('evidence', 'NOUN'), ('yet', 'ADV'), ('of', 'ADP'), ('the', 'DET'), ('power', 'NOUN'), ('that', 'ADP'), ('Dorrance', 'NOUN'), ('family', 'NOUN'), ('members', 'NOUN'), ('intend', 'VERB'), ('*-2', 'X'), ('to', 'PRT'), ('wield', 'VERB'), ('*T*-1', 'X'), ('in', 'ADP'), ('*', 'X'), ('reshaping', 'VERB'), ('the', 'DET'), ('troubled', 'ADJ'), ('food', 'NOUN'), ('company', 'NOUN'), ('.', '.'), ('Prices', 'NOUN'), ('rose', 'VERB'), ('on', 'ADP'), ('the', 'DET'), ('news', 'NOUN'), ('that', 'ADP'), ('a', 'DET'), ('sizable', 'ADJ'), ('West', 'NOUN'), ('German', 'NOUN'), ('refinery', 'NOUN'), ('was', 'VERB'), ('damaged', 'VERB'), ('*-1', 'X'), ('in', 'ADP'), ('a', 'DET'), ('fire', 'NOUN'), (',', '.'), ('*', 'X'), ('tightening', 'VERB'), ('an', 'DET'), ('already', 'ADV'), ('tight', 'ADJ'), ('European', 'ADJ'), ('market', 'NOUN'), ('.', '.'), ('``', '.'), ('If', 'ADP'), ('I', 'PRON'), ('were', 'VERB'), ('choosing', 'VERB'), ('the', 'DET'), ('people', 'NOUN'), ('of', 'ADP'), ('tomorrow', 'NOUN'), (',', '.'), ('I', 'PRON'), ('would', 'VERB'), ('have', 'VERB'), ('chosen', 'VERB'), ('the', 'DET'), ('people', 'NOUN'), ('who', 'PRON'), ('*T*-1', 'X'), ('are', 'VERB'), ('now', 'ADV'), ('on', 'ADP'), ('the', 'DET'), ('board', 'NOUN'), (',', '.'), (\"''\", '.'), ('he', 'PRON'), ('said', 'VERB'), ('*T*-2', 'X'), ('.', '.'), ('Source', 'NOUN'), (':', '.'), ('Telerate', 'NOUN'), ('Systems', 'NOUN'), ('Inc', 'NOUN'), ('.', '.'), ('When', 'ADV'), ('Ms.', 'NOUN'), ('Evans', 'NOUN'), ('took', 'VERB'), ('her', 'PRON'), ('job', 'NOUN'), ('*T*-1', 'X'), (',', '.'), ('several', 'ADJ'), ('important', 'ADJ'), ('divisions', 'NOUN'), ('that', 'ADP'), ('*T*-2', 'X'), ('had', 'VERB'), ('reported', 'VERB'), ('to', 'PRT'), ('her', 'PRON'), ('predecessor', 'NOUN'), ('were', 'VERB'), (\"n't\", 'ADV'), ('included', 'VERB'), ('*-3', 'X'), ('partly', 'ADV'), ('because', 'ADP'), ('she', 'PRON'), ('did', 'VERB'), (\"n't\", 'ADV'), ('wish', 'VERB'), ('*-4', 'X'), ('to', 'PRT'), ('be', 'VERB'), ('a', 'DET'), ('full-time', 'ADJ'), ('administrator', 'NOUN'), ('.', '.'), ('The', 'DET'), ('two', 'NUM'), ('banks', 'NOUN'), ('merged', 'VERB'), ('in', 'ADP'), ('1985', 'NUM'), ('.', '.'), ('The', 'DET'), ('management', 'NOUN'), ('group', 'NOUN'), ('owns', 'VERB'), ('about', 'ADP'), ('18', 'NUM'), ('%', 'NOUN'), ('of', 'ADP'), ('the', 'DET'), ('stock', 'NOUN'), (',', '.'), ('most', 'ADV'), ('purchased', 'VERB'), ('*', 'X'), ('at', 'ADP'), ('nominal', 'DET'), ('prices', 'NOUN'), (',', '.'), ('and', 'CONJ'), ('would', 'VERB'), ('stand', 'VERB'), ('*-1', 'X'), ('to', 'PRT'), ('gain', 'NOUN'), ('millions', 'NOUN'), ('of', 'ADP'), ('dollars', 'NOUN'), ('if', 'ADP'), ('the', 'DET'), ('company', 'NOUN'), ('were', 'VERB'), ('sold', 'VERB'), ('*-115', 'X'), ('.', '.'), ('Dick', 'NOUN'), ('Lobo', 'NOUN'), (',', '.'), ('the', 'DET'), ('general', 'ADJ'), ('manager', 'NOUN'), ('of', 'ADP'), ('WTVJ', 'DET'), (',', '.'), ('the', 'DET'), ('NBC-owned', 'NOUN'), ('station', 'NOUN'), ('in', 'ADP'), ('Miami', 'NOUN'), (',', '.'), ('for', 'ADP'), ('example', 'NOUN'), (',', '.'), ('says', 'VERB'), ('0', 'X'), ('the', 'DET'), ('show', 'NOUN'), ('has', 'VERB'), ('``', '.'), ('been', 'VERB'), ('a', 'DET'), ('major', 'ADJ'), ('disappointment', 'NOUN'), ('to', 'PRT'), ('us', 'PRON'), ('.', '.'), (\"''\", '.'), ('It', 'PRON'), ('also', 'ADV'), ('asks', 'VERB'), ('them', 'PRON'), ('*-1', 'X'), ('to', 'PRT'), ('add', 'VERB'), ('two-sevenths', 'X'), ('and', 'CONJ'), ('three-sevenths', 'NOUN'), ('.', '.'), ('On', 'ADP'), ('the', 'DET'), ('New', 'NOUN'), ('York', 'NOUN'), ('Mercantile', 'NOUN'), ('Exchange', 'NOUN'), (',', '.'), ('heating', 'NOUN'), ('oil', 'NOUN'), ('for', 'ADP'), ('December', 'NOUN'), ('delivery', 'NOUN'), ('increased', 'VERB'), ('1.25', 'NUM'), ('cents', 'NOUN'), ('*-1', 'X'), ('to', 'PRT'), ('settle', 'VERB'), ('at', 'ADP'), ('60.36', 'DET'), ('cents', 'NOUN'), ('a', 'DET'), ('gallon', 'NOUN'), ('.', '.'), ('Showa', 'NOUN'), ('Shell', 'NOUN'), ('gained', 'VERB'), ('20', 'NUM'), ('to', 'PRT'), ('1,570', 'VERB'), ('and', 'CONJ'), ('Mitsubishi', 'NOUN'), ('Oil', 'NOUN'), ('rose', 'VERB'), ('50', 'NUM'), ('to', 'PRT'), ('1,500', 'NUM'), ('.', '.'), ('Mr.', 'NOUN'), ('Allen', 'NOUN'), (\"'s\", 'PRT'), ('Pittsburgh', 'VERB'), ('firm', 'NOUN'), (',', '.'), ('Advanced', 'NOUN'), ('Investment', 'NOUN'), ('Management', 'NOUN'), ('Inc.', 'NOUN'), (',', '.'), ('executes', 'NOUN'), ('program', 'NOUN'), ('trades', 'NOUN'), ('for', 'ADP'), ('institutions', 'NOUN'), ('.', '.'), ('It', 'PRON'), ('*EXP*-1', 'X'), ('is', 'VERB'), ('not', 'ADV'), ('unethical', 'VERB'), ('*', 'X'), ('to', 'PRT'), ('choose', 'VERB'), ('a', 'DET'), ('higher-salaried', 'NOUN'), ('job', 'NOUN'), ('.', '.'), ('In', 'ADP'), ('addition', 'NOUN'), (',', '.'), ('the', 'DET'), ('Apple', 'NOUN'), ('II', 'NOUN'), ('was', 'VERB'), ('an', 'DET'), ('affordable', 'NOUN'), ('$', '.'), ('1,298', 'NOUN'), ('*U*', 'X'), ('.', '.'), ('A', 'DET'), ('shift', 'NOUN'), ('to', 'PRT'), ('*', 'X'), ('producing', 'VERB'), ('more', 'ADV'), ('alcohol', 'NOUN'), ('and', 'CONJ'), ('less', 'ADJ'), ('sugar', 'NOUN'), ('had', 'VERB'), ('been', 'VERB'), ('expected', 'VERB'), ('*-1', 'X'), (',', '.'), ('but', 'CONJ'), ('the', 'DET'), ('latest', 'ADJ'), ('news', 'NOUN'), (',', '.'), ('if', 'ADP'), ('true', 'ADJ'), (',', '.'), ('indicates', 'VERB'), ('a', 'DET'), ('more', 'ADJ'), ('drastic', 'NOUN'), ('shift', 'NOUN'), ('0', 'X'), ('than', 'ADP'), ('*T*-2', 'X'), ('had', 'VERB'), ('been', 'VERB'), ('anticipated', 'VERB'), ('*-3', 'X'), ('.', '.'), ('The', 'DET'), ('Federal', 'NOUN'), ('Reserve', 'NOUN'), (\"'s\", 'PRT'), ('Beige', 'VERB'), ('Book', 'X'), (',', '.'), ('a', 'DET'), ('summary', 'NOUN'), ('of', 'ADP'), ('economic', 'ADJ'), ('conditions', 'NOUN'), ('across', 'ADP'), ('the', 'DET'), ('country', 'NOUN'), (',', '.'), ('indicated', 'VERB'), ('that', 'ADP'), ('the', 'DET'), ('overall', 'ADJ'), ('economy', 'NOUN'), ('remains', 'VERB'), ('in', 'ADP'), ('a', 'DET'), ('pattern', 'NOUN'), ('of', 'ADP'), ('sluggish', 'ADJ'), ('growth', 'NOUN'), ('.', '.'), ('She', 'PRON'), ('says', 'VERB'), ('that', 'ADP'), ('because', 'ADP'), ('of', 'ADP'), ('Mrs.', 'NOUN'), ('Yeargin', 'NOUN'), ('she', 'PRON'), ('gave', 'VERB'), ('up', 'ADV'), ('ambitions', 'NOUN'), ('in', 'ADP'), ('architecture', 'NOUN'), ('and', 'CONJ'), ('is', 'VERB'), ('studying', 'VERB'), ('*-1', 'X'), ('to', 'PRT'), ('become', 'VERB'), ('a', 'DET'), ('teacher', 'NOUN'), ('.', '.'), ('The', 'DET'), ('downgrading', 'NOUN'), ('of', 'ADP'), ('debt', 'NOUN'), ('issued', 'VERB'), ('*', 'X'), ('by', 'ADP'), ('CS', 'NOUN'), ('First', 'NOUN'), ('Boston', 'NOUN'), ('Inc.', 'NOUN'), (',', '.'), ('parent', 'NOUN'), ('of', 'ADP'), ('First', 'NOUN'), ('Boston', 'NOUN'), ('Corp.', 'NOUN'), (',', '.'), ('by', 'ADP'), ('Moody', 'NOUN'), (\"'s\", 'PRT'), ('Investors', 'NOUN'), ('Service', 'NOUN'), ('Inc.', 'NOUN'), (',', '.'), ('*', 'X'), ('coupled', 'VERB'), ('*', 'X'), ('with', 'ADP'), ('a', 'DET'), ('Moody', 'NOUN'), (\"'s\", 'PRT'), ('announcement', 'NOUN'), ('that', 'ADP'), ('Shearson', 'NOUN'), ('Lehman', 'NOUN'), ('Hutton', 'NOUN'), ('Holdings', 'NOUN'), ('Inc.', 'NOUN'), ('is', 'VERB'), ('under', 'ADP'), ('review', 'NOUN'), ('for', 'ADP'), ('a', 'DET'), ('possible', 'ADJ'), ('downgrade', 'NOUN'), (',', '.'), ('sent', 'VERB'), ('shivers', 'X'), ('through', 'ADP'), ('the', 'DET'), ('brokerage', 'NOUN'), ('community', 'NOUN'), ('this', 'DET'), ('week', 'NOUN'), ('.', '.'), ('And', 'CONJ'), ('8', 'NUM'), ('%', 'NOUN'), ('*ICH*-1', 'X'), ('said', 'VERB'), ('0', 'X'), ('export', 'VERB'), ('orders', 'NOUN'), ('were', 'VERB'), ('down', 'ADV'), ('last', 'ADJ'), ('month', 'NOUN'), (',', '.'), ('compared', 'VERB'), ('with', 'ADP'), ('6', 'NUM'), ('%', 'NOUN'), ('the', 'DET'), ('month', 'NOUN'), ('before', 'ADP'), ('.', '.'), ('Critics', 'NOUN'), ('like', 'ADP'), ('Mr.', 'NOUN'), ('Murray', 'NOUN'), ('``', '.'), ('are', 'VERB'), ('looking', 'VERB'), ('for', 'ADP'), ('witches', 'DET'), (',', '.'), ('and', 'CONJ'), ('people', 'NOUN'), ('who', 'PRON'), ('*T*-68', 'X'), ('use', 'VERB'), ('computers', 'NOUN'), ('*', 'X'), ('to', 'PRT'), ('trade', 'VERB'), ('are', 'VERB'), ('a', 'DET'), ('convenient', 'ADJ'), ('boogieman', 'NOUN'), (',', '.'), (\"''\", '.'), ('says', 'VERB'), ('0', 'X'), ('*T*-3', 'X'), ('J.', 'NOUN'), ('Thomas', 'NOUN'), ('Allen', 'NOUN'), (',', '.'), ('president', 'NOUN'), ('of', 'ADP'), ('Advanced', 'DET'), ('Investment', 'NOUN'), ('Management', 'NOUN'), ('Inc.', 'NOUN'), (',', '.'), ('a', 'DET'), ('Pittsburgh', 'NOUN'), ('firm', 'NOUN'), ('that', 'ADP'), ('*T*-1', 'X'), ('runs', 'VERB'), ('a', 'DET'), ('$', '.'), ('200', 'NUM'), ('million', 'NUM'), ('*U*', 'X'), ('fund', 'VERB'), ('that', 'ADP'), ('*T*-2', 'X'), ('uses', 'VERB'), ('index', 'NOUN'), ('arbitrage', 'NOUN'), ('.', '.'), ('The', 'DET'), ('dollar', 'NOUN'), ('rose', 'VERB'), ('.', '.'), ('This', 'DET'), ('species', 'NOUN'), ('of', 'ADP'), ('congressional', 'ADJ'), ('action', 'NOUN'), ('is', 'VERB'), ('predicated', 'X'), ('*-50', 'X'), ('on', 'ADP'), ('an', 'DET'), ('interpretation', 'NOUN'), ('of', 'ADP'), ('the', 'DET'), ('appropriations', 'NOUN'), ('clause', 'NOUN'), ('that', 'ADP'), ('*T*-1', 'X'), ('is', 'VERB'), ('erroneous', 'X'), ('and', 'CONJ'), ('unconstitutional', 'ADJ'), ('.', '.'), ('Mr.', 'NOUN'), ('Felten', 'NOUN'), ('said', 'VERB'), (',', '.'), ('``', '.'), ('We', 'PRON'), ('got', 'VERB'), ('what', 'PRON'), ('*T*-252', 'VERB'), ('amounted', 'VERB'), ('to', 'PRT'), ('a', 'DET'), ('parking', 'NOUN'), ('ticket', 'NOUN'), (',', '.'), ('and', 'CONJ'), ('by', 'ADP'), ('*-1', 'X'), ('complaining', 'VERB'), ('about', 'ADP'), ('it', 'PRON'), (',', '.'), ('we', 'PRON'), ('ended', 'VERB'), ('up', 'ADV'), ('with', 'ADP'), ('a', 'DET'), ('sizable', 'ADJ'), ('fine', 'NOUN'), ('and', 'CONJ'), ('suspension', 'NOUN'), ('.', '.'), (\"''\", '.'), ('In', 'ADP'), ('addition', 'NOUN'), (',', '.'), ('Buick', 'NOUN'), ('is', 'VERB'), ('a', 'DET'), ('relatively', 'ADV'), ('respected', 'VERB'), ('nameplate', 'NOUN'), ('among', 'ADP'), ('American', 'ADJ'), ('Express', 'NOUN'), ('card', 'NOUN'), ('holders', 'NOUN'), (',', '.'), ('says', 'VERB'), ('0', 'X'), ('*T*-1', 'X'), ('an', 'DET'), ('American', 'ADJ'), ('Express', 'NOUN'), ('spokeswoman', 'NOUN'), ('.', '.'), ('The', 'DET'), ('Chicago', 'NOUN'), ('report', 'NOUN'), ('raised', 'VERB'), ('the', 'DET'), ('possibility', 'NOUN'), ('that', 'ADP'), ('the', 'DET'), ('October', 'NOUN'), ('survey', 'NOUN'), ('of', 'ADP'), ('the', 'DET'), ('National', 'NOUN'), ('Association', 'NOUN'), ('of', 'ADP'), ('Purchasing', 'NOUN'), ('Management', 'NOUN'), ('would', 'VERB'), ('also', 'ADV'), ('show', 'VERB'), ('a', 'DET'), ('reading', 'NOUN'), ('above', 'ADP'), ('50', 'NUM'), ('%', 'NOUN'), ('.', '.'), ('Analysts', 'NOUN'), ('said', 'VERB'), ('0', 'X'), ('the', 'DET'), ('fall', 'NOUN'), ('in', 'ADP'), ('pretax', 'NOUN'), ('profit', 'NOUN'), ('was', 'VERB'), ('due', 'ADJ'), ('to', 'PRT'), ('the', 'DET'), ('group', 'NOUN'), (\"'s\", 'PRT'), ('recent', 'ADJ'), ('restructuring', 'NOUN'), ('and', 'CONJ'), ('sale', 'NOUN'), ('of', 'ADP'), ('peripheral', 'ADJ'), ('units', 'NOUN'), (',', '.'), ('and', 'CONJ'), ('that', 'DET'), ('its', 'PRON'), ('remaining', 'VERB'), ('businesses', 'NOUN'), ('are', 'VERB'), ('performing', 'VERB'), ('well', 'ADV'), ('.', '.'), ('The', 'DET'), ('Bush', 'NOUN'), ('administration', 'NOUN'), (\"'s\", 'PRT'), ('nomination', 'NOUN'), ('of', 'ADP'), ('Clarence', 'DET'), ('Thomas', 'NOUN'), ('to', 'PRT'), ('a', 'DET'), ('seat', 'NOUN'), ('on', 'ADP'), ('the', 'DET'), ('federal', 'ADJ'), ('appeals', 'NOUN'), ('court', 'NOUN'), ('here', 'ADV'), ('received', 'VERB'), ('a', 'DET'), ('blow', 'NOUN'), ('this', 'DET'), ('week', 'NOUN'), ('when', 'ADV'), ('the', 'DET'), ('American', 'ADJ'), ('Bar', 'NOUN'), ('Association', 'NOUN'), ('gave', 'VERB'), ('Mr.', 'NOUN'), ('Thomas', 'NOUN'), ('only', 'ADV'), ('a', 'DET'), ('``', '.'), ('qualified', 'VERB'), (\"''\", '.'), ('rating', 'NOUN'), (',', '.'), ('rather', 'ADV'), ('than', 'ADP'), ('``', '.'), ('well', 'ADV'), ('qualified', 'VERB'), ('*T*-1', 'X'), ('.', '.'), (\"''\", '.'), ('Cooper', 'NOUN'), ('Tire', 'NOUN'), ('&', 'CONJ'), ('Rubber', 'NOUN'), ('Co.', 'NOUN'), ('said', 'VERB'), ('0', 'X'), ('it', 'PRON'), ('has', 'VERB'), ('reached', 'VERB'), ('an', 'DET'), ('agreement', 'NOUN'), ('*ICH*-1', 'X'), ('in', 'ADP'), ('principle', 'NOUN'), ('*', 'X'), ('to', 'PRT'), ('buy', 'VERB'), ('buildings', 'NOUN'), ('and', 'CONJ'), ('related', 'VERB'), ('property', 'NOUN'), ('in', 'ADP'), ('Albany', 'DET'), (',', '.'), ('Ga.', 'NOUN'), (',', '.'), ('from', 'ADP'), ('Bridgestone\\\\/Firestone', 'NOUN'), ('Inc', 'NOUN'), ('.', '.'), ('Packaging', 'NOUN'), ('has', 'VERB'), ('some', 'DET'), ('drawbacks', 'NOUN'), ('.', '.'), ('A', 'DET'), ('White', 'NOUN'), ('House', 'NOUN'), ('spokesman', 'NOUN'), ('condemned', 'VERB'), ('the', 'DET'), ('truce', 'NOUN'), ('suspension', 'NOUN'), ('as', 'ADP'), ('``', '.'), ('deplorable', 'NOUN'), (\"''\", '.'), ('but', 'CONJ'), ('brushed', 'NOUN'), ('off', 'PRT'), ('talk', 'VERB'), ('of', 'ADP'), ('*', 'X'), ('renewing', 'VERB'), ('military', 'ADJ'), ('funding', 'NOUN'), ('for', 'ADP'), ('the', 'DET'), ('insurgents', 'NOUN'), ('.', '.'), ('``', '.'), ('What', 'PRON'), ('*T*-164', 'VERB'), (\"'s\", 'PRT'), ('different', 'ADJ'), ('is', 'VERB'), ('that', 'ADP'), ('it', 'PRON'), ('is', 'VERB'), ('happening', 'X'), ('with', 'ADP'), ('young', 'ADJ'), ('wines', 'NOUN'), ('just', 'ADV'), ('coming', 'VERB'), ('out', 'PRT'), ('.', '.'), ('The', 'DET'), ('firm', 'NOUN'), ('and', 'CONJ'), ('Mr.', 'NOUN'), ('Whelen', 'NOUN'), ('allegedly', 'ADV'), ('sold', 'VERB'), ('securities', 'NOUN'), ('to', 'PRT'), ('the', 'DET'), ('public', 'ADJ'), ('at', 'ADP'), ('unfair', 'ADJ'), ('prices', 'NOUN'), (',', '.'), ('among', 'ADP'), ('other', 'ADJ'), ('alleged', 'ADJ'), ('violations', 'NOUN'), ('.', '.'), ('Net', 'ADJ'), ('advanced', 'ADJ'), ('to', 'PRT'), ('$', '.'), ('94.2', 'NOUN'), ('million', 'NUM'), ('*U*', 'X'), (',', '.'), ('or', 'CONJ'), ('89', 'NUM'), ('cents', 'NOUN'), ('a', 'DET'), ('share', 'NOUN'), (',', '.'), ('from', 'ADP'), ('$', '.'), ('85', 'NUM'), ('million', 'NUM'), ('*U*', 'X'), (',', '.'), ('or', 'CONJ'), ('83', 'NOUN'), ('cents', 'NOUN'), ('a', 'DET'), ('share', 'NOUN'), (',', '.'), ('including', 'VERB'), ('net', 'ADJ'), ('realized', 'VERB'), ('investment', 'NOUN'), ('gains', 'NOUN'), ('of', 'ADP'), ('$', '.'), ('31', 'NUM'), ('million', 'NUM'), ('*U*', 'X'), (',', '.'), ('up', 'ADV'), ('from', 'ADP'), ('$', '.'), ('10', 'NUM'), ('million', 'NUM'), ('*U*', 'X'), ('a', 'DET'), ('year', 'NOUN'), ('ago', 'ADP'), ('.', '.'), ('There', 'DET'), ('were', 'VERB'), ('many', 'ADJ'), ('pioneer', 'NOUN'), ('PC', 'NOUN'), ('contributors', 'NOUN'), ('.', '.'), ('``', '.'), ('It', 'PRON'), ('*EXP*-1', 'X'), (\"'s\", 'PRT'), ('hard', 'ADJ'), ('*', 'X'), ('to', 'PRT'), ('explain', 'VERB'), ('to', 'PRT'), ('a', 'DET'), ('17-year-old', 'NOUN'), ('why', 'ADV'), ('someone', 'NOUN'), ('0', 'X'), ('they', 'PRON'), ('like', 'VERB'), ('*T*-2', 'X'), ('had', 'VERB'), ('*-3', 'X'), ('to', 'PRT'), ('go', 'VERB'), (',', '.'), (\"''\", '.'), ('says', 'VERB'), ('*T*-4', 'X'), ('Mrs.', 'NOUN'), ('Ward', 'NOUN'), ('.', '.'), ('Last', 'ADJ'), ('year', 'NOUN'), (',', '.'), ('DSM', 'NOUN'), ('had', 'VERB'), ('71', 'NUM'), ('million', 'NUM'), ('guilders', 'NOUN'), ('of', 'ADP'), ('extraordinary', 'ADJ'), ('charges', 'NOUN'), ('for', 'ADP'), ('the', 'DET'), ('restructuring', 'NOUN'), ('program', 'NOUN'), ('and', 'CONJ'), ('other', 'ADJ'), ('transactions', 'NOUN'), ('.', '.'), ('By', 'ADP'), ('January', 'NOUN'), ('it', 'PRON'), ('*EXP*-1', 'X'), ('should', 'VERB'), ('be', 'VERB'), ('fairly', 'ADV'), ('clear', 'ADJ'), ('what', 'PRON'), ('*T*-2', 'X'), (\"'s\", 'PRT'), ('hot', 'VERB'), ('--', '.'), ('and', 'CONJ'), ('what', 'PRON'), ('*T*-172', 'VERB'), (\"'s\", 'PRT'), ('not', 'ADV'), ('*?*', 'X'), ('.', '.'), ('He', 'PRON'), ('added', 'VERB'), (',', '.'), ('``', '.'), ('There', 'DET'), (\"'s\", 'VERB'), ('nothing', 'NOUN'), ('very', 'ADV'), ('hot', 'VERB'), ('.', '.'), (\"''\", '.'), ('New', 'NOUN'), ('York', 'NOUN'), ('City', 'NOUN'), (':', '.'), ('Argentina', 'NOUN'), ('said', 'VERB'), ('0', 'X'), ('it', 'PRON'), ('will', 'VERB'), ('ask', 'VERB'), ('creditor', 'NOUN'), ('banks', 'NOUN'), ('*-1', 'X'), ('to', 'PRT'), ('halve', 'VERB'), ('its', 'PRON'), ('foreign', 'ADJ'), ('debt', 'NOUN'), ('of', 'ADP'), ('$', '.'), ('64', 'NUM'), ('billion', 'NUM'), ('*U*', 'X'), ('--', '.'), ('the', 'DET'), ('third-highest', 'NOUN'), ('in', 'ADP'), ('the', 'DET'), ('developing', 'VERB'), ('world', 'NOUN'), ('.', '.'), ('``', '.'), ('Professional', 'NOUN'), ('sugar', 'NOUN'), ('people', 'NOUN'), ('here', 'ADV'), ('who', 'PRON'), ('*T*-1', 'X'), ('have', 'VERB'), ('strong', 'ADJ'), ('contacts', 'NOUN'), ('with', 'ADP'), ('the', 'DET'), ('Brazilian', 'ADJ'), ('sugar', 'NOUN'), ('industry', 'NOUN'), ('have', 'VERB'), ('been', 'VERB'), ('unable', 'ADJ'), ('*-3', 'X'), ('to', 'PRT'), ('confirm', 'VERB'), ('the', 'DET'), ('reports', 'NOUN'), ('or', 'CONJ'), ('get', 'VERB'), ('enough', 'ADV'), ('information', 'NOUN'), ('0', 'X'), ('*', 'X'), ('to', 'PRT'), ('clarify', 'VERB'), ('the', 'DET'), ('situation', 'NOUN'), ('*T*-4', 'X'), (',', '.'), (\"''\", '.'), ('he', 'PRON'), ('said', 'VERB'), ('*T*-2', 'X'), ('.', '.'), ('The', 'DET'), ('second', 'ADJ'), ('patent', 'NOUN'), ('describes', 'VERB'), ('bone', 'NOUN'), ('morphogenetic', 'ADJ'), ('protein-1', 'NOUN'), (',', '.'), ('a', 'DET'), ('substance', 'NOUN'), ('that', 'ADP'), ('*T*-2', 'X'), ('can', 'VERB'), ('induce', 'X'), ('formation', 'VERB'), ('of', 'ADP'), ('new', 'ADJ'), ('cartilage', 'NOUN'), ('.', '.'), ('This', 'DET'), ('argument', 'NOUN'), ('is', 'VERB'), ('perhaps', 'ADV'), ('the', 'DET'), ('most', 'ADJ'), ('interesting', 'ADJ'), ('one', 'NUM'), ('for', 'ADP'), ('*', 'X'), ('abolishing', 'VERB'), ('program', 'NOUN'), ('trading', 'NOUN'), ('--', '.'), ('not', 'ADV'), ('because', 'ADP'), ('of', 'ADP'), ('its', 'PRON'), ('merits', 'VERB'), (',', '.'), ('but', 'CONJ'), ('because', 'ADP'), ('of', 'ADP'), ('the', 'DET'), ('firms', 'NOUN'), ('championing', 'NOUN'), ('the', 'DET'), ('cause', 'NOUN'), ('.', '.'), ('USX', 'NOUN'), ('Corp.', 'NOUN'), ('posted', 'VERB'), ('a', 'DET'), ('23', 'NUM'), ('%', 'NOUN'), ('drop', 'NOUN'), ('in', 'ADP'), ('third-quarter', 'NOUN'), ('profit', 'NOUN'), (',', '.'), ('as', 'ADP'), ('improved', 'VERB'), ('oil', 'NOUN'), ('results', 'NOUN'), ('failed', 'VERB'), ('*-1', 'X'), ('to', 'PRT'), ('offset', 'VERB'), ('weakness', 'NOUN'), ('in', 'ADP'), ('steel', 'NOUN'), ('and', 'CONJ'), ('natural', 'ADJ'), ('gas', 'NOUN'), ('operations', 'NOUN'), ('.', '.'), ('But', 'CONJ'), ('a', 'DET'), ('takeover', 'NOUN'), ('battle', 'NOUN'), ('opens', 'NOUN'), ('up', 'PRT'), ('the', 'DET'), ('possibility', 'NOUN'), ('of', 'ADP'), ('a', 'DET'), ('bidding', 'NOUN'), ('war', 'NOUN'), (',', '.'), ('with', 'ADP'), ('all', 'DET'), ('0', 'X'), ('that', 'ADP'), ('implies', 'VERB'), ('*T*-1', 'X'), ('.', '.'), ('First', 'NOUN'), ('Commonwealth', 'NOUN'), ('Securities', 'NOUN'), ('Corp.', 'NOUN'), (',', '.'), ('of', 'ADP'), ('New', 'NOUN'), ('Orleans', 'NOUN'), (',', '.'), ('and', 'CONJ'), ('its', 'PRON'), ('president', 'NOUN'), (',', '.'), ('Kenneth', 'NOUN'), ('J.', 'NOUN'), ('Canepa', 'NOUN'), (',', '.'), ('also', 'ADV'), ('of', 'ADP'), ('New', 'NOUN'), ('Orleans', 'NOUN'), (',', '.'), ('consented', 'VERB'), ('to', 'PRT'), ('a', 'DET'), ('$', '.'), ('10,000', 'NUM'), ('*U*', 'X'), ('fine', 'NOUN'), ('.', '.'), ('Third', 'NOUN'), ('quarter', 'NOUN'), (',', '.'), ('Sept.', 'NOUN'), ('30', 'NUM'), (',', '.'), ('1989', 'NUM'), (':', '.'), ('Net', 'ADJ'), ('loss', 'NOUN'), (':', '.'), ('$', '.'), ('11.57', 'NOUN'), ('*U*', 'X'), ('a', 'DET'), ('share', 'NOUN'), ('vs.', 'ADP'), ('net', 'ADJ'), ('income', 'NOUN'), (':', '.'), ('37', 'NUM'), ('cents', 'NOUN'), ('a', 'DET'), ('share', 'NOUN'), ('Old', 'NOUN'), ('Spaghetti', 'NOUN'), ('Warehouse', 'NOUN'), ('rose', 'VERB'), ('1', 'NUM'), ('to', 'PRT'), ('16', 'NUM'), ('1\\\\/8', 'NUM'), ('.', '.'), ('The', 'DET'), ('offer', 'NOUN'), (',', '.'), ('advertised', 'VERB'), ('*', 'X'), ('in', 'ADP'), ('today', 'NOUN'), (\"'s\", 'PRT'), ('editions', 'VERB'), ('of', 'ADP'), ('The', 'DET'), ('Wall', 'NOUN'), ('Street', 'NOUN'), ('Journal', 'NOUN'), (',', '.'), ('is', 'VERB'), ('scheduled', 'VERB'), ('*-1', 'X'), ('to', 'PRT'), ('expire', 'VERB'), ('at', 'ADP'), ('the', 'DET'), ('end', 'NOUN'), ('of', 'ADP'), ('November', 'NOUN'), ('.', '.'), ('Editorials', 'NOUN'), ('in', 'ADP'), ('the', 'DET'), ('Greenville', 'NOUN'), ('newspaper', 'NOUN'), ('allowed', 'VERB'), ('that', 'ADP'), ('Mrs.', 'NOUN'), ('Yeargin', 'NOUN'), ('was', 'VERB'), ('wrong', 'ADJ'), (',', '.'), ('but', 'CONJ'), ('also', 'ADV'), ('said', 'VERB'), ('0', 'X'), ('the', 'DET'), ('case', 'NOUN'), ('showed', 'VERB'), ('how', 'ADV'), ('testing', 'NOUN'), ('was', 'VERB'), ('being', 'VERB'), ('overused', 'X'), ('*-2', 'X'), ('*T*-1', 'X'), ('.', '.'), ('``', '.'), ('Each', 'DET'), ('day', 'NOUN'), ('that', 'ADP'), ('Congress', 'NOUN'), ('fails', 'VERB'), ('*-1', 'X'), ('to', 'PRT'), ('act', 'VERB'), ('*T*-2', 'X'), ('...', '.'), ('will', 'VERB'), ('cause', 'VERB'), ('additional', 'ADJ'), ('disruption', 'NOUN'), ('in', 'ADP'), ('our', 'PRON'), ('borrowing', 'VERB'), ('schedule', 'X'), (',', '.'), ('*', 'X'), ('possibly', 'ADV'), ('resulting', 'VERB'), ('in', 'ADP'), ('higher', 'ADJ'), ('interest', 'NOUN'), ('costs', 'NOUN'), ('to', 'PRT'), ('the', 'DET'), ('taxpayer', 'NOUN'), (',', '.'), (\"''\", '.'), ('Treasury', 'NOUN'), ('Secretary', 'NOUN'), ('Nicholas', 'NOUN'), ('Brady', 'NOUN'), ('said', 'VERB'), ('*T*-3', 'X'), ('in', 'ADP'), ('a', 'DET'), ('speech', 'NOUN'), ('prepared', 'VERB'), ('*', 'X'), ('for', 'ADP'), ('delivery', 'NOUN'), ('last', 'ADJ'), ('night', 'NOUN'), ('to', 'PRT'), ('a', 'DET'), ('group', 'NOUN'), ('of', 'ADP'), ('bankers', 'NOUN'), ('.', '.'), ('Although', 'ADP'), ('preliminary', 'ADJ'), ('findings', 'NOUN'), ('were', 'VERB'), ('reported', 'VERB'), ('*-2', 'X'), ('more', 'ADV'), ('than', 'ADP'), ('a', 'DET'), ('year', 'NOUN'), ('ago', 'ADP'), (',', '.'), ('the', 'DET'), ('latest', 'ADJ'), ('results', 'NOUN'), ('appear', 'VERB'), ('in', 'ADP'), ('today', 'NOUN'), (\"'s\", 'PRT'), ('New', 'NOUN'), ('England', 'NOUN'), ('Journal', 'NOUN'), ('of', 'ADP'), ('Medicine', 'NOUN'), (',', '.'), ('a', 'DET'), ('forum', 'NOUN'), ('likely', 'ADJ'), ('*', 'X'), ('to', 'PRT'), ('bring', 'VERB'), ('new', 'ADJ'), ('attention', 'NOUN'), ('to', 'PRT'), ('the', 'DET'), ('problem', 'NOUN'), ('.', '.'), ('When', 'ADV'), ('you', 'PRON'), ('become', 'VERB'), ('a', 'DET'), ('federal', 'ADJ'), ('judge', 'NOUN'), ('*T*-1', 'X'), (',', '.'), ('all', 'DET'), ('of', 'ADP'), ('a', 'DET'), ('sudden', 'ADJ'), ('you', 'PRON'), ('are', 'VERB'), ('relegated', 'VERB'), ('*-2', 'X'), ('to', 'PRT'), ('a', 'DET'), ('paltry', 'ADJ'), ('sum', 'NOUN'), ('.', '.'), (\"''\", '.'), ('``', '.'), ('These', 'DET'), ('kids', 'NOUN'), ('broke', 'NOUN'), ('my', 'PRON'), ('heart', 'NOUN'), (',', '.'), (\"''\", '.'), ('she', 'PRON'), ('says', 'VERB'), ('*T*-1', 'X'), ('.', '.'), ('``', '.'), ('You', 'PRON'), (\"'d\", 'VERB'), ('see', 'VERB'), ('her', 'PRON'), ('correcting', 'VERB'), ('homework', 'X'), ('in', 'ADP'), ('the', 'DET'), ('stands', 'NOUN'), ('at', 'ADP'), ('a', 'DET'), ('football', 'NOUN'), ('game', 'NOUN'), ('.', '.'), (\"''\", '.'), ('After', 'ADP'), ('the', 'DET'), ('race', 'NOUN'), (',', '.'), ('Fortune', 'NOUN'), ('500', 'NUM'), ('executives', 'NOUN'), ('drooled', 'NOUN'), ('like', 'ADP'), ('schoolboys', 'DET'), ('over', 'ADP'), ('the', 'DET'), ('cars', 'NOUN'), ('and', 'CONJ'), ('drivers', 'NOUN'), ('.', '.'), ('``', '.'), ('If', 'ADP'), ('you', 'PRON'), ('look', 'VERB'), ('at', 'ADP'), ('the', 'DET'), ('third', 'ADJ'), ('quarter', 'NOUN'), ('as', 'ADP'), ('*', 'X'), ('posting', 'VERB'), ('roughly', 'ADV'), ('2.5', 'NUM'), ('%', 'NOUN'), ('growth', 'NOUN'), (',', '.'), ('I', 'PRON'), ('do', 'VERB'), ('see', 'VERB'), ('some', 'DET'), ('slowing', 'NOUN'), ('in', 'ADP'), ('the', 'DET'), ('fourth', 'ADJ'), ('quarter', 'NOUN'), (',', '.'), (\"''\", '.'), ('agrees', 'VERB'), ('*T*-1', 'X'), ('Kansas', 'NOUN'), ('City', 'NOUN'), ('Fed', 'NOUN'), ('President', 'NOUN'), ('Roger', 'NOUN'), ('Guffey', 'NOUN'), ('.', '.'), ('Heritage', 'NOUN'), (',', '.'), ('which', 'DET'), ('*T*-1', 'X'), ('owns', 'VERB'), ('51', 'NUM'), ('%', 'NOUN'), ('of', 'ADP'), ('POP', 'NOUN'), (\"'s\", 'PRT'), ('3.6', 'NUM'), ('million', 'NUM'), ('shares', 'NOUN'), ('outstanding', 'ADJ'), (',', '.'), ('said', 'VERB'), ('0', 'X'), ('it', 'PRON'), ('will', 'VERB'), ('exchange', 'NOUN'), ('one', 'NUM'), ('share', 'NOUN'), ('of', 'ADP'), ('a', 'DET'), ('new', 'ADJ'), ('preferred', 'ADJ'), ('stock', 'NOUN'), ('for', 'ADP'), ('each', 'DET'), ('POP', 'NOUN'), ('common', 'ADJ'), ('share', 'NOUN'), ('0', 'X'), ('it', 'PRON'), ('does', 'VERB'), (\"n't\", 'ADV'), ('already', 'ADV'), ('own', 'ADJ'), ('*T*-2', 'X'), ('.', '.'), ('Primerica', 'NOUN'), (',', '.'), ('as', 'ADP'), ('*', 'X'), ('expected', 'VERB'), (',', '.'), ('also', 'ADV'), ('acquired', 'VERB'), ('certain', 'ADJ'), ('assets', 'NOUN'), ('of', 'ADP'), ('the', 'DET'), ('agency', 'NOUN'), ('and', 'CONJ'), ('assumed', 'VERB'), ('certain', 'ADJ'), ('of', 'ADP'), ('its', 'PRON'), ('liabilities', 'VERB'), ('.', '.'), ('Second', 'NOUN'), (',', '.'), ('they', 'PRON'), ('channel', 'VERB'), ('monthly', 'ADJ'), ('mortgage', 'NOUN'), ('payments', 'NOUN'), ('into', 'ADP'), ('semiannual', 'ADJ'), ('payments', 'NOUN'), (',', '.'), ('*-1', 'X'), ('reducing', 'VERB'), ('the', 'DET'), ('administrative', 'ADJ'), ('burden', 'NOUN'), ('on', 'ADP'), ('investors', 'NOUN'), ('.', '.'), ('Moscow', 'NOUN'), ('has', 'VERB'), ('settled', 'VERB'), ('pre-1917', 'X'), ('debts', 'NOUN'), ('with', 'ADP'), ('other', 'ADJ'), ('countries', 'NOUN'), ('in', 'ADP'), ('recent', 'ADJ'), ('years', 'NOUN'), ('at', 'ADP'), ('less', 'ADJ'), ('than', 'ADP'), ('face', 'NOUN'), ('value', 'NOUN'), ('.', '.'), ('And', 'CONJ'), ('the', 'DET'), ('nose', 'NOUN'), ('on', 'ADP'), ('Mr.', 'NOUN'), ('Courter', 'NOUN'), (\"'s\", 'PRT'), ('face', 'VERB'), ('grows', 'VERB'), ('.', '.'), ('Finmeccanica', 'NOUN'), ('is', 'VERB'), ('an', 'DET'), ('Italian', 'ADJ'), ('state-owned', 'ADJ'), ('holding', 'NOUN'), ('company', 'NOUN'), ('with', 'ADP'), ('interests', 'NOUN'), ('in', 'ADP'), ('the', 'DET'), ('mechanical', 'ADJ'), ('engineering', 'NOUN'), ('industry', 'NOUN'), ('.', '.'), ('Mr.', 'NOUN'), ('van', 'NOUN'), ('Dover', 'NOUN'), ('said', 'VERB'), ('0', 'X'), ('the', 'DET'), ('crystal', 'NOUN'), ('changes', 'NOUN'), ('0', 'X'), ('his', 'PRON'), ('team', 'NOUN'), ('introduced', 'VERB'), ('*T*-1', 'X'), ('apparently', 'ADV'), ('pins', 'NOUN'), ('the', 'DET'), ('magnetic', 'ADJ'), ('fields', 'NOUN'), ('in', 'ADP'), ('place', 'NOUN'), (',', '.'), ('*', 'X'), ('preventing', 'VERB'), ('them', 'PRON'), ('from', 'ADP'), ('*-3', 'X'), ('lowering', 'VERB'), ('current-carrying', 'ADJ'), ('capacity', 'NOUN'), ('.', '.'), ('South', 'NOUN'), ('Carolina', 'NOUN'), (\"'s\", 'PRT'), ('reforms', 'NOUN'), ('were', 'VERB'), ('designed', 'VERB'), ('*-1', 'X'), ('for', 'ADP'), ('schools', 'NOUN'), ('like', 'ADP'), ('Greenville', 'NOUN'), ('High', 'NOUN'), ('School', 'NOUN'), ('.', '.'), ('Overall', 'NOUN'), (',', '.'), ('pretax', 'NOUN'), ('electronics', 'NOUN'), ('earnings', 'NOUN'), ('soared', 'VERB'), ('12', 'NUM'), ('%', 'NOUN'), ('to', 'PRT'), ('$', '.'), ('107.9', 'NOUN'), ('million', 'NUM'), ('*U*', 'X'), ('from', 'ADP'), ('$', '.'), ('96.4', 'NOUN'), ('million', 'NUM'), ('*U*', 'X'), ('.', '.'), ('The', 'DET'), ('American', 'ADJ'), ('Bar', 'NOUN'), ('Association', 'NOUN'), (\"'s\", 'PRT'), ('House', 'NOUN'), ('of', 'ADP'), ('Delegates', 'DET'), ('passed', 'VERB'), ('a', 'DET'), ('resolution', 'NOUN'), ('*ICH*-1', 'X'), ('in', 'ADP'), ('1985', 'NUM'), ('condemning', 'NOUN'), ('the', 'DET'), ('IRS', 'NOUN'), ('reporting', 'VERB'), ('requirement', 'NOUN'), ('.', '.'), ('According', 'VERB'), ('to', 'PRT'), ('an', 'DET'), ('American', 'ADJ'), ('member', 'NOUN'), ('of', 'ADP'), ('the', 'DET'), ('Nixon', 'NOUN'), ('party', 'NOUN'), (',', '.'), ('the', 'DET'), ('former', 'ADJ'), ('president', 'NOUN'), ('raised', 'VERB'), ('a', 'DET'), ('number', 'NOUN'), ('of', 'ADP'), ('controversial', 'ADJ'), ('issues', 'NOUN'), ('in', 'ADP'), ('his', 'PRON'), ('20', 'NUM'), ('hours', 'NOUN'), ('of', 'ADP'), ('talks', 'NOUN'), ('with', 'ADP'), ('top-level', 'DET'), ('Chinese', 'ADJ'), ('officials', 'NOUN'), ('.', '.')]\n",
      "accuracy 0.9403392474166504\n",
      "\n",
      "Incorrect tagged cases:  [[('for', 'ADP'), (('midsized', 'VERB'), ('midsized', 'ADJ'))], [(',', '.'), (('traced', 'NOUN'), ('traced', 'VERB'))], [('its', 'PRON'), (('Eveready', 'VERB'), ('Eveready', 'NOUN'))], [(\"'s\", 'PRT'), (('vagabond', 'VERB'), ('vagabond', 'NOUN'))], [('vagabond', 'NOUN'), (('existence', 'X'), ('existence', 'NOUN'))], [('Parliament', 'NOUN'), (('authorized', 'NOUN'), ('authorized', 'VERB'))], [('was', 'VERB'), (('2,303,328', 'X'), ('2,303,328', 'NUM'))], [('down', 'ADV'), (('2.6', 'VERB'), ('2.6', 'NUM'))], [('an', 'DET'), (('eight-count', 'NOUN'), ('eight-count', 'ADJ'))], [('its', 'PRON'), (('Vice', 'VERB'), ('Vice', 'NOUN'))], [(\"'s\", 'PRT'), (('planned', 'VERB'), ('planned', 'ADJ'))], [('lobbyists', 'NOUN'), (('as', 'ADP'), ('as', 'ADV'))], [('emissions', 'NOUN'), (('that', 'ADP'), ('that', 'DET'))], [('$', '.'), (('737.5', 'NOUN'), ('737.5', 'NUM'))], [('$', '.'), (('3.01', 'NOUN'), ('3.01', 'NUM'))], [('be', 'VERB'), (('centralized', 'X'), ('centralized', 'VERB'))], [('to', 'PRT'), (('fuel', 'NOUN'), ('fuel', 'VERB'))], [('of', 'ADP'), (('Mount', 'DET'), ('Mount', 'NOUN'))], [('acquired', 'VERB'), (('Braun', 'X'), ('Braun', 'NOUN'))], [('their', 'PRON'), (('wives', 'VERB'), ('wives', 'NOUN'))], [('wives', 'NOUN'), (('raced', 'X'), ('raced', 'VERB'))], [('*-1', 'X'), (('unimpeded', 'VERB'), ('unimpeded', 'ADJ'))], [('by', 'ADP'), (('traffic', 'DET'), ('traffic', 'NOUN'))], [('contract', 'NOUN'), (('reopened', 'NOUN'), ('reopened', 'VERB'))], [('the', 'DET'), (('subsequent', 'NOUN'), ('subsequent', 'ADJ'))], [('orders', 'NOUN'), (('that', 'ADP'), ('that', 'DET'))], [('that', 'DET'), (('*T*-211', 'DET'), ('*T*-211', 'X'))], [('contract', 'NOUN'), (('down', 'ADP'), ('down', 'PRT'))], [('the', 'DET'), (('intermediate', 'NOUN'), ('intermediate', 'ADJ'))], [('*-128', 'X'), (('*-128', 'VERB'), ('*-128', 'X'))], [('prices', 'NOUN'), (('synchronized', 'NOUN'), ('synchronized', 'VERB'))], [('.', '.'), (('Proper', 'NOUN'), ('Proper', 'ADJ'))], [('Proper', 'ADJ'), (('English', 'NOUN'), ('English', 'ADJ'))], [('the', 'DET'), (('highest-pitched', 'NOUN'), ('highest-pitched', 'ADJ'))], [('simple', 'ADJ'), (('descending', 'NOUN'), ('descending', 'VERB'))], [(',', '.'), (('as', 'ADP'), ('as', 'ADV'))], [('the', 'DET'), (('Soviet', 'ADJ'), ('Soviet', 'NOUN'))], [('most', 'ADV'), (('favored', 'VERB'), ('favored', 'ADJ'))], [('the', 'DET'), (('absolute', 'NOUN'), ('absolute', 'ADJ'))], [('the', 'DET'), (('scholarly', 'NOUN'), ('scholarly', 'ADJ'))], [('.', '.'), (('Federal', 'NOUN'), ('Federal', 'ADJ'))], [('$', '.'), (('89,500', 'NOUN'), ('89,500', 'NUM'))], [('bill', 'NOUN'), (('that', 'ADP'), ('that', 'DET'))], [('their', 'PRON'), (('pay', 'VERB'), ('pay', 'NOUN'))], [('The', 'DET'), (('Chinese', 'ADJ'), ('Chinese', 'NOUN'))], [('equally', 'ADV'), (('undiplomatic', 'VERB'), ('undiplomatic', 'ADJ'))], [('undiplomatic', 'ADJ'), (('fashion', 'X'), ('fashion', 'NOUN'))], [('The', 'DET'), (('Soviet', 'ADJ'), ('Soviet', 'NOUN'))], [('crops', 'NOUN'), (('earlier', 'ADV'), ('earlier', 'ADJ'))], [('sky', 'NOUN'), (('high', 'ADJ'), ('high', 'ADV'))], [('%', 'NOUN'), (('boosts', 'VERB'), ('boosts', 'NOUN'))], [('--', '.'), (('complicated', 'ADJ'), ('complicated', 'ADP'))], [('.', '.'), (('New', 'NOUN'), ('New', 'ADJ'))], [('rules', 'NOUN'), (('force', 'NOUN'), ('force', 'VERB'))], [('write', 'VERB'), (('down', 'ADV'), ('down', 'PRT'))], [('to', 'PRT'), (('Trailer', 'VERB'), ('Trailer', 'NOUN'))], [('Trailer', 'NOUN'), (('Train', 'X'), ('Train', 'NOUN'))], [('months', 'NOUN'), (('ago', 'ADP'), ('ago', 'ADV'))], [('come', 'VERB'), (('up', 'ADV'), ('up', 'PRT'))], [('for', 'ADP'), (('expendable', 'DET'), ('expendable', 'ADJ'))], [('.', '.'), (('Net', 'ADJ'), ('Net', 'NOUN'))], [('from', 'ADP'), (('12.82', 'DET'), ('12.82', 'NUM'))], [('year', 'NOUN'), (('earlier', 'ADV'), ('earlier', 'ADJ'))], [('was', 'VERB'), (('such', 'ADJ'), ('such', 'DET'))], [('$', '.'), (('133.7', 'NOUN'), ('133.7', 'NUM'))], [('$', '.'), (('94', 'NOUN'), ('94', 'NUM'))], [('be', 'VERB'), (('delisted', 'X'), ('delisted', 'VERB'))], [('$', '.'), (('23.25', 'NOUN'), ('23.25', 'NUM'))], [(',', '.'), (('off', 'ADP'), ('off', 'ADV'))], [(':', '.'), (('7.78', 'NOUN'), ('7.78', 'NUM'))], [(';', '.'), (('7.62', 'NOUN'), ('7.62', 'NUM'))], [('a', 'DET'), (('gigantic', 'NOUN'), ('gigantic', 'ADJ'))], [('year', 'NOUN'), (('earlier', 'ADV'), ('earlier', 'ADJ'))], [('law', 'NOUN'), (('that', 'ADP'), ('that', 'DET'))], [('who', 'PRON'), (('*T*-126', 'VERB'), ('*T*-126', 'X'))], [('*T*-126', 'X'), (('receives', 'X'), ('receives', 'VERB'))], [('receives', 'VERB'), (('more', 'ADV'), ('more', 'ADJ'))], [('as', 'ADP'), (('Form', 'DET'), ('Form', 'NOUN'))], [('Form', 'NOUN'), (('8300', 'ADJ'), ('8300', 'NUM'))], [('That', 'DET'), (('builds', 'NOUN'), ('builds', 'VERB'))], [('mention', 'VERB'), (('critical', 'X'), ('critical', 'ADJ'))], [('regulatory', 'ADJ'), (('net', 'ADJ'), ('net', 'NOUN'))], [('riders', 'NOUN'), (('that', 'ADP'), ('that', 'DET'))], [('but', 'CONJ'), (('due', 'ADJ'), ('due', 'ADV'))], [(',', '.'), (('overseas', 'ADV'), ('overseas', 'ADJ'))], [('which', 'DET'), (('*T*-236', 'NOUN'), ('*T*-236', 'X'))], [('systems', 'NOUN'), (('any', 'DET'), ('any', 'ADV'))], [('to', 'PRT'), (('audit', 'NOUN'), ('audit', 'VERB'))], [('and', 'CONJ'), (('refund', 'NOUN'), ('refund', 'VERB'))], [('the', 'DET'), (('outside', 'ADJ'), ('outside', 'NOUN'))], [(',', '.'), (('nonresidential', 'NOUN'), ('nonresidential', 'ADJ'))], [('was', 'VERB'), (('off', 'PRT'), ('off', 'ADJ'))], [('off', 'ADJ'), (('2.6', 'VERB'), ('2.6', 'NUM'))], [('$', '.'), (('99.1', 'NOUN'), ('99.1', 'NUM'))], [('``', '.'), (('So', 'ADV'), ('So', 'ADP'))], [('other', 'ADJ'), (('fixed-income', 'NOUN'), ('fixed-income', 'ADJ'))], [('was', 'VERB'), (('muted', 'X'), ('muted', 'VERB'))], [('of', 'ADP'), (('All', 'DET'), ('All', 'NOUN'))], [(\"'\", 'PRT'), (('Day', 'VERB'), ('Day', 'NOUN'))], [('of', 'ADP'), (('Datapoint', 'DET'), ('Datapoint', 'NOUN'))], [('rules', 'NOUN'), (('state', 'NOUN'), ('state', 'VERB'))], [('$', '.'), (('240,000', 'NOUN'), ('240,000', 'NUM'))], [('Poland', 'NOUN'), (('contrasts', 'NOUN'), ('contrasts', 'VERB'))], [('the', 'DET'), (('underlying', 'ADJ'), ('underlying', 'VERB'))], [('provoked', 'VERB'), (('veto', 'VERB'), ('veto', 'NOUN'))], [('from', 'ADP'), (('16.2', 'DET'), ('16.2', 'NUM'))], [('a', 'DET'), (('run', 'VERB'), ('run', 'NOUN'))], [('the', 'DET'), (('busiest', 'NOUN'), ('busiest', 'ADJ'))], [('so', 'ADV'), (('far', 'ADV'), ('far', 'ADJ'))], [('volume', 'NOUN'), (('averaged', 'NOUN'), ('averaged', 'VERB'))], [('10', 'NUM'), (('citizen-sparked', 'NOUN'), ('citizen-sparked', 'ADJ'))], [('any', 'DET'), (('odd-year', 'NOUN'), ('odd-year', 'ADJ'))], [('be', 'VERB'), (('relaunched', 'X'), ('relaunched', 'VERB'))], [(',', '.'), (('as', 'ADP'), ('as', 'ADV'))], [('as', 'ADV'), (('early', 'ADJ'), ('early', 'ADV'))], [(',', '.'), (('most', 'ADV'), ('most', 'ADJ'))], [('the', 'DET'), (('building', 'NOUN'), ('building', 'VERB'))], [('money', 'NOUN'), (('erect', 'NOUN'), ('erect', 'VERB'))], [('to', 'PRT'), (('present', 'ADJ'), ('present', 'VERB'))], [('from', 'ADP'), (('high-polluting', 'DET'), ('high-polluting', 'ADJ'))], [('on', 'ADP'), (('cost-sharing', 'ADJ'), ('cost-sharing', 'NOUN'))], [('has', 'VERB'), (('much', 'ADV'), ('much', 'ADJ'))], [('$', '.'), (('126.1', 'NOUN'), ('126.1', 'NUM'))], [('a', 'DET'), (('cosmetic', 'NOUN'), ('cosmetic', 'ADJ'))], [('of', 'ADP'), (('Wertheim', 'DET'), ('Wertheim', 'NOUN'))], [('who', 'PRON'), (('*T*-222', 'VERB'), ('*T*-222', 'X'))], [('a', 'DET'), (('sometimes-exhausting', 'NOUN'), ('sometimes-exhausting', 'ADJ'))], [('bells', 'NOUN'), (('sounding', 'NOUN'), ('sounding', 'VERB'))], [('dividend', 'NOUN'), (('yield', 'VERB'), ('yield', 'NOUN'))], [('level', 'NOUN'), (('that', 'ADP'), ('that', 'DET'))], [('that', 'DET'), (('*T*-232', 'DET'), ('*T*-232', 'X'))], [('and', 'CONJ'), (('unenticing', 'NOUN'), ('unenticing', 'ADJ'))], [('an', 'DET'), (('opposite', 'NOUN'), ('opposite', 'ADJ'))], [('to', 'PRT'), (('colder', 'VERB'), ('colder', 'ADJ'))], [('colder', 'ADJ'), (('weather', 'VERB'), ('weather', 'NOUN'))], [('the', 'DET'), (('American', 'ADJ'), ('American', 'NOUN'))], [('to', 'PRT'), (('planting', 'VERB'), ('planting', 'NOUN'))], [('of', 'ADP'), (('orange', 'DET'), ('orange', 'ADJ'))], [('areas', 'NOUN'), (('that', 'ADP'), ('that', 'DET'))], [('for', 'ADP'), (('cane', 'DET'), ('cane', 'NOUN'))], [('the', 'DET'), (('key', 'ADJ'), ('key', 'NOUN'))], [('must', 'VERB'), (('fundamentally', 'X'), ('fundamentally', 'ADV'))], [('or', 'CONJ'), (('decrease', 'NOUN'), ('decrease', 'VERB'))], [('prices', 'NOUN'), (('move', 'NOUN'), ('move', 'VERB'))], [('Italy', 'NOUN'), (('there', 'DET'), ('there', 'ADV'))], [('is', 'VERB'), (('Angelo', 'X'), ('Angelo', 'NOUN'))], [('Angelo', 'NOUN'), (('Gaja', 'VERB'), ('Gaja', 'NOUN'))], [('Gaja', 'NOUN'), (('Barbaresco', 'X'), ('Barbaresco', 'NOUN'))], [('The', 'DET'), (('most', 'ADJ'), ('most', 'ADV'))], [('&', 'CONJ'), (('poor', 'ADJ'), ('poor', 'NOUN'))], [('a', 'DET'), (('20-stock', 'NOUN'), ('20-stock', 'ADJ'))], [('index', 'NOUN'), (('that', 'ADP'), ('that', 'DET'))], [(\"'\", 'PRT'), (('report', 'VERB'), ('report', 'NOUN'))], [('by', 'ADP'), (('more', 'ADJ'), ('more', 'ADV'))], [('The', 'DET'), (('British', 'ADJ'), ('British', 'NOUN'))], [('is', 'VERB'), (('ensnarled', 'X'), ('ensnarled', 'VERB'))], [('cutting', 'VERB'), (('capital-gains', 'NOUN'), ('capital-gains', 'ADJ'))], [(\"'s\", 'PRT'), (('909', 'VERB'), ('909', 'NUM'))], [('covers', 'VERB'), (('only', 'ADV'), ('only', 'ADJ'))], [('who', 'PRON'), (('*T*-260', 'VERB'), ('*T*-260', 'X'))], [('will', 'VERB'), (('learn', 'X'), ('learn', 'VERB'))], [('with', 'ADP'), (('Congressman', 'DET'), ('Congressman', 'NOUN'))], [('local', 'ADJ'), (('public', 'NOUN'), ('public', 'ADJ'))], [('those', 'DET'), (('close', 'NOUN'), ('close', 'ADJ'))], [(',', '.'), (('right', 'NOUN'), ('right', 'ADV'))], [('right', 'ADV'), (('up', 'PRT'), ('up', 'ADP'))], [(',', '.'), (('close', 'NOUN'), ('close', 'ADJ'))], [('While', 'ADP'), (('worry', 'VERB'), ('worry', 'NOUN'))], [('for', 'ADP'), (('alleged', 'ADJ'), ('alleged', 'VERB'))], [('took', 'VERB'), (('over', 'ADP'), ('over', 'PRT'))], [(\"'s\", 'PRT'), (('seventh', 'VERB'), ('seventh', 'ADJ'))], [('seventh', 'ADJ'), (('principal', 'ADJ'), ('principal', 'NOUN'))], [('market-makers', 'NOUN'), (('searched', 'NOUN'), ('searched', 'VERB'))], [('military', 'ADJ'), (('command', 'VERB'), ('command', 'NOUN'))], [('from', 'ADP'), (('Honduras', 'DET'), ('Honduras', 'NOUN'))], [('0', 'X'), (('Sandinista', 'VERB'), ('Sandinista', 'NOUN'))], [('make', 'VERB'), (('appropriate', 'X'), ('appropriate', 'ADJ'))], [(\"'s\", 'PRT'), (('undelivered', 'VERB'), ('undelivered', 'ADJ'))], [('subscribe', 'VERB'), (('most', 'ADV'), ('most', 'ADJ'))], [('remaining', 'VERB'), (('170', 'X'), ('170', 'NUM'))], [('will', 'VERB'), (('personally', 'X'), ('personally', 'ADV'))], [('by', 'ADP'), (('Manfred', 'DET'), ('Manfred', 'NOUN'))], [(\"'s\", 'PRT'), (('Comtes', 'VERB'), ('Comtes', 'NOUN'))], [('Comtes', 'NOUN'), (('de', 'X'), ('de', 'ADP'))], [('is', 'VERB'), (('encroaching', 'X'), ('encroaching', 'VERB'))], [('see', 'VERB'), (('more', 'ADV'), ('more', 'ADJ'))], [('*T*-2', 'X'), (('Andrea', 'VERB'), ('Andrea', 'NOUN'))], [('of', 'ADP'), (('American', 'ADJ'), ('American', 'NOUN'))], [('$', '.'), (('46.1', 'NOUN'), ('46.1', 'NUM'))], [('$', '.'), (('1.85', 'NOUN'), ('1.85', 'NUM'))], [('$', '.'), (('1.85', 'NOUN'), ('1.85', 'NUM'))], [('and', 'CONJ'), (('that', 'DET'), ('that', 'ADP'))], [('who', 'PRON'), (('*T*-185', 'VERB'), ('*T*-185', 'X'))], [(',', '.'), (('tight', 'ADV'), ('tight', 'ADJ'))], [('tight', 'ADJ'), (('facial', 'VERB'), ('facial', 'ADJ'))], [('facial', 'ADJ'), (('shot', 'VERB'), ('shot', 'NOUN'))], [('*-37', 'X'), (('out', 'PRT'), ('out', 'ADP'))], [('power', 'NOUN'), (('that', 'ADP'), ('that', 'DET'))], [('sizable', 'ADJ'), (('West', 'NOUN'), ('West', 'ADJ'))], [('West', 'ADJ'), (('German', 'NOUN'), ('German', 'ADJ'))], [('divisions', 'NOUN'), (('that', 'ADP'), ('that', 'DET'))], [(\"n't\", 'ADV'), (('wish', 'VERB'), ('wish', 'NOUN'))], [('owns', 'VERB'), (('about', 'ADP'), ('about', 'ADV'))], [(',', '.'), (('most', 'ADV'), ('most', 'ADJ'))], [('at', 'ADP'), (('nominal', 'DET'), ('nominal', 'ADJ'))], [('to', 'PRT'), (('gain', 'NOUN'), ('gain', 'VERB'))], [('of', 'ADP'), (('WTVJ', 'DET'), ('WTVJ', 'NOUN'))], [('the', 'DET'), (('NBC-owned', 'NOUN'), ('NBC-owned', 'ADJ'))], [('add', 'VERB'), (('two-sevenths', 'X'), ('two-sevenths', 'NOUN'))], [('at', 'ADP'), (('60.36', 'DET'), ('60.36', 'NUM'))], [('to', 'PRT'), (('1,570', 'VERB'), ('1,570', 'NUM'))], [(\"'s\", 'PRT'), (('Pittsburgh', 'VERB'), ('Pittsburgh', 'NOUN'))], [(',', '.'), (('executes', 'NOUN'), ('executes', 'VERB'))], [('not', 'ADV'), (('unethical', 'VERB'), ('unethical', 'ADJ'))], [('a', 'DET'), (('higher-salaried', 'NOUN'), ('higher-salaried', 'ADJ'))], [('an', 'DET'), (('affordable', 'NOUN'), ('affordable', 'ADJ'))], [('$', '.'), (('1,298', 'NOUN'), ('1,298', 'NUM'))], [('producing', 'VERB'), (('more', 'ADV'), ('more', 'ADJ'))], [('a', 'DET'), (('more', 'ADJ'), ('more', 'ADV'))], [('more', 'ADV'), (('drastic', 'NOUN'), ('drastic', 'ADJ'))], [(\"'s\", 'PRT'), (('Beige', 'VERB'), ('Beige', 'NOUN'))], [('Beige', 'NOUN'), (('Book', 'X'), ('Book', 'NOUN'))], [('gave', 'VERB'), (('up', 'ADV'), ('up', 'PRT'))], [('sent', 'VERB'), (('shivers', 'X'), ('shivers', 'NOUN'))], [('0', 'X'), (('export', 'VERB'), ('export', 'NOUN'))], [('month', 'NOUN'), (('before', 'ADP'), ('before', 'ADV'))], [('for', 'ADP'), (('witches', 'DET'), ('witches', 'NOUN'))], [('of', 'ADP'), (('Advanced', 'DET'), ('Advanced', 'NOUN'))], [('firm', 'NOUN'), (('that', 'ADP'), ('that', 'DET'))], [('*U*', 'X'), (('fund', 'VERB'), ('fund', 'NOUN'))], [('fund', 'NOUN'), (('that', 'ADP'), ('that', 'DET'))], [('is', 'VERB'), (('predicated', 'X'), ('predicated', 'VERB'))], [('clause', 'NOUN'), (('that', 'ADP'), ('that', 'DET'))], [('is', 'VERB'), (('erroneous', 'X'), ('erroneous', 'ADJ'))], [('what', 'PRON'), (('*T*-252', 'VERB'), ('*T*-252', 'X'))], [('ended', 'VERB'), (('up', 'ADV'), ('up', 'PRT'))], [('among', 'ADP'), (('American', 'ADJ'), ('American', 'NOUN'))], [('an', 'DET'), (('American', 'ADJ'), ('American', 'NOUN'))], [('and', 'CONJ'), (('that', 'DET'), ('that', 'ADP'))], [('of', 'ADP'), (('Clarence', 'DET'), ('Clarence', 'NOUN'))], [('the', 'DET'), (('American', 'ADJ'), ('American', 'NOUN'))], [('``', '.'), (('qualified', 'VERB'), ('qualified', 'ADJ'))], [('Tire', 'NOUN'), (('&', 'CONJ'), ('&', 'X'))], [('and', 'CONJ'), (('related', 'VERB'), ('related', 'ADJ'))], [('in', 'ADP'), (('Albany', 'DET'), ('Albany', 'NOUN'))], [('``', '.'), (('deplorable', 'NOUN'), ('deplorable', 'ADJ'))], [('but', 'CONJ'), (('brushed', 'NOUN'), ('brushed', 'VERB'))], [('off', 'PRT'), (('talk', 'VERB'), ('talk', 'NOUN'))], [('What', 'PRON'), (('*T*-164', 'VERB'), ('*T*-164', 'X'))], [('*T*-164', 'X'), ((\"'s\", 'PRT'), (\"'s\", 'VERB'))], [('is', 'VERB'), (('happening', 'X'), ('happening', 'VERB'))], [('the', 'DET'), (('public', 'ADJ'), ('public', 'NOUN'))], [('.', '.'), (('Net', 'ADJ'), ('Net', 'NOUN'))], [('Net', 'NOUN'), (('advanced', 'ADJ'), ('advanced', 'VERB'))], [('$', '.'), (('94.2', 'NOUN'), ('94.2', 'NUM'))], [('or', 'CONJ'), (('83', 'NOUN'), ('83', 'NUM'))], [('including', 'VERB'), (('net', 'ADJ'), ('net', 'NOUN'))], [('*EXP*-1', 'X'), ((\"'s\", 'PRT'), (\"'s\", 'VERB'))], [('a', 'DET'), (('17-year-old', 'NOUN'), ('17-year-old', 'ADJ'))], [(\"'s\", 'PRT'), (('hot', 'VERB'), ('hot', 'ADJ'))], [('--', '.'), (('and', 'CONJ'), ('and', 'NOUN'))], [('what', 'PRON'), (('*T*-172', 'VERB'), ('*T*-172', 'X'))], [('*T*-172', 'X'), ((\"'s\", 'PRT'), (\"'s\", 'VERB'))], [('very', 'ADV'), (('hot', 'VERB'), ('hot', 'ADJ'))], [('the', 'DET'), (('third-highest', 'NOUN'), ('third-highest', 'ADJ'))], [('``', '.'), (('Professional', 'NOUN'), ('Professional', 'ADJ'))], [('get', 'VERB'), (('enough', 'ADV'), ('enough', 'ADJ'))], [('substance', 'NOUN'), (('that', 'ADP'), ('that', 'DET'))], [('can', 'VERB'), (('induce', 'X'), ('induce', 'VERB'))], [('induce', 'VERB'), (('formation', 'VERB'), ('formation', 'NOUN'))], [('the', 'DET'), (('most', 'ADJ'), ('most', 'ADV'))], [('its', 'PRON'), (('merits', 'VERB'), ('merits', 'NOUN'))], [('firms', 'NOUN'), (('championing', 'NOUN'), ('championing', 'VERB'))], [('battle', 'NOUN'), (('opens', 'NOUN'), ('opens', 'VERB'))], [('0', 'X'), (('that', 'ADP'), ('that', 'DET'))], [('.', '.'), (('Third', 'NOUN'), ('Third', 'ADJ'))], [('$', '.'), (('11.57', 'NOUN'), ('11.57', 'NUM'))], [('share', 'NOUN'), (('vs.', 'ADP'), ('vs.', 'CONJ'))], [('vs.', 'CONJ'), (('net', 'ADJ'), ('net', 'NOUN'))], [(\"'s\", 'PRT'), (('editions', 'VERB'), ('editions', 'NOUN'))], [('being', 'VERB'), (('overused', 'X'), ('overused', 'VERB'))], [('our', 'PRON'), (('borrowing', 'VERB'), ('borrowing', 'NOUN'))], [('borrowing', 'NOUN'), (('schedule', 'X'), ('schedule', 'NOUN'))], [('kids', 'NOUN'), (('broke', 'NOUN'), ('broke', 'VERB'))], [('correcting', 'VERB'), (('homework', 'X'), ('homework', 'NOUN'))], [('executives', 'NOUN'), (('drooled', 'NOUN'), ('drooled', 'VERB'))], [('like', 'ADP'), (('schoolboys', 'DET'), ('schoolboys', 'NOUN'))], [('will', 'VERB'), (('exchange', 'NOUN'), ('exchange', 'VERB'))], [('new', 'ADJ'), (('preferred', 'ADJ'), ('preferred', 'VERB'))], [('already', 'ADV'), (('own', 'ADJ'), ('own', 'VERB'))], [('its', 'PRON'), (('liabilities', 'VERB'), ('liabilities', 'NOUN'))], [('.', '.'), (('Second', 'NOUN'), ('Second', 'ADJ'))], [('settled', 'VERB'), (('pre-1917', 'X'), ('pre-1917', 'ADJ'))], [(\"'s\", 'PRT'), (('face', 'VERB'), ('face', 'NOUN'))], [('state-owned', 'ADJ'), (('holding', 'NOUN'), ('holding', 'VERB'))], [('crystal', 'NOUN'), (('changes', 'NOUN'), ('changes', 'VERB'))], [('apparently', 'ADV'), (('pins', 'NOUN'), ('pins', 'VERB'))], [('.', '.'), (('Overall', 'NOUN'), ('Overall', 'ADJ'))], [(',', '.'), (('pretax', 'NOUN'), ('pretax', 'ADJ'))], [('$', '.'), (('107.9', 'NOUN'), ('107.9', 'NUM'))], [('$', '.'), (('96.4', 'NOUN'), ('96.4', 'NUM'))], [('The', 'DET'), (('American', 'ADJ'), ('American', 'NOUN'))], [('of', 'ADP'), (('Delegates', 'DET'), ('Delegates', 'NOUN'))], [('1985', 'NUM'), (('condemning', 'NOUN'), ('condemning', 'VERB'))], [('IRS', 'NOUN'), (('reporting', 'VERB'), ('reporting', 'NOUN'))], [('with', 'ADP'), (('top-level', 'DET'), ('top-level', 'ADJ'))]]\n"
     ]
    }
   ],
   "source": [
    "accuracy_transition,incorrect_tagged=evaluate_test(validation_set,viterbi_call=Modified_Viterbi_Transitional_P)"
   ]
  },
  {
   "cell_type": "markdown",
   "metadata": {},
   "source": [
    "#### Accuracy from Modified Viterbi on validation set :"
   ]
  },
  {
   "cell_type": "code",
   "execution_count": 63,
   "metadata": {},
   "outputs": [
    {
     "name": "stdout",
     "output_type": "stream",
     "text": [
      "accuracy:  0.9403392474166504\n"
     ]
    }
   ],
   "source": [
    "print('accuracy: ',accuracy_transition)"
   ]
  },
  {
   "cell_type": "markdown",
   "metadata": {},
   "source": [
    "#### Incorrect tagged cases:"
   ]
  },
  {
   "cell_type": "code",
   "execution_count": 64,
   "metadata": {},
   "outputs": [
    {
     "name": "stdout",
     "output_type": "stream",
     "text": [
      "Incorrect tagged cases:  [[('for', 'ADP'), (('midsized', 'VERB'), ('midsized', 'ADJ'))], [(',', '.'), (('traced', 'NOUN'), ('traced', 'VERB'))], [('its', 'PRON'), (('Eveready', 'VERB'), ('Eveready', 'NOUN'))], [(\"'s\", 'PRT'), (('vagabond', 'VERB'), ('vagabond', 'NOUN'))], [('vagabond', 'NOUN'), (('existence', 'X'), ('existence', 'NOUN'))], [('Parliament', 'NOUN'), (('authorized', 'NOUN'), ('authorized', 'VERB'))], [('was', 'VERB'), (('2,303,328', 'X'), ('2,303,328', 'NUM'))], [('down', 'ADV'), (('2.6', 'VERB'), ('2.6', 'NUM'))], [('an', 'DET'), (('eight-count', 'NOUN'), ('eight-count', 'ADJ'))], [('its', 'PRON'), (('Vice', 'VERB'), ('Vice', 'NOUN'))], [(\"'s\", 'PRT'), (('planned', 'VERB'), ('planned', 'ADJ'))], [('lobbyists', 'NOUN'), (('as', 'ADP'), ('as', 'ADV'))], [('emissions', 'NOUN'), (('that', 'ADP'), ('that', 'DET'))], [('$', '.'), (('737.5', 'NOUN'), ('737.5', 'NUM'))], [('$', '.'), (('3.01', 'NOUN'), ('3.01', 'NUM'))], [('be', 'VERB'), (('centralized', 'X'), ('centralized', 'VERB'))], [('to', 'PRT'), (('fuel', 'NOUN'), ('fuel', 'VERB'))], [('of', 'ADP'), (('Mount', 'DET'), ('Mount', 'NOUN'))], [('acquired', 'VERB'), (('Braun', 'X'), ('Braun', 'NOUN'))], [('their', 'PRON'), (('wives', 'VERB'), ('wives', 'NOUN'))], [('wives', 'NOUN'), (('raced', 'X'), ('raced', 'VERB'))], [('*-1', 'X'), (('unimpeded', 'VERB'), ('unimpeded', 'ADJ'))], [('by', 'ADP'), (('traffic', 'DET'), ('traffic', 'NOUN'))], [('contract', 'NOUN'), (('reopened', 'NOUN'), ('reopened', 'VERB'))], [('the', 'DET'), (('subsequent', 'NOUN'), ('subsequent', 'ADJ'))], [('orders', 'NOUN'), (('that', 'ADP'), ('that', 'DET'))], [('that', 'DET'), (('*T*-211', 'DET'), ('*T*-211', 'X'))], [('contract', 'NOUN'), (('down', 'ADP'), ('down', 'PRT'))], [('the', 'DET'), (('intermediate', 'NOUN'), ('intermediate', 'ADJ'))], [('*-128', 'X'), (('*-128', 'VERB'), ('*-128', 'X'))], [('prices', 'NOUN'), (('synchronized', 'NOUN'), ('synchronized', 'VERB'))], [('.', '.'), (('Proper', 'NOUN'), ('Proper', 'ADJ'))], [('Proper', 'ADJ'), (('English', 'NOUN'), ('English', 'ADJ'))], [('the', 'DET'), (('highest-pitched', 'NOUN'), ('highest-pitched', 'ADJ'))], [('simple', 'ADJ'), (('descending', 'NOUN'), ('descending', 'VERB'))], [(',', '.'), (('as', 'ADP'), ('as', 'ADV'))], [('the', 'DET'), (('Soviet', 'ADJ'), ('Soviet', 'NOUN'))], [('most', 'ADV'), (('favored', 'VERB'), ('favored', 'ADJ'))], [('the', 'DET'), (('absolute', 'NOUN'), ('absolute', 'ADJ'))], [('the', 'DET'), (('scholarly', 'NOUN'), ('scholarly', 'ADJ'))], [('.', '.'), (('Federal', 'NOUN'), ('Federal', 'ADJ'))], [('$', '.'), (('89,500', 'NOUN'), ('89,500', 'NUM'))], [('bill', 'NOUN'), (('that', 'ADP'), ('that', 'DET'))], [('their', 'PRON'), (('pay', 'VERB'), ('pay', 'NOUN'))], [('The', 'DET'), (('Chinese', 'ADJ'), ('Chinese', 'NOUN'))], [('equally', 'ADV'), (('undiplomatic', 'VERB'), ('undiplomatic', 'ADJ'))], [('undiplomatic', 'ADJ'), (('fashion', 'X'), ('fashion', 'NOUN'))], [('The', 'DET'), (('Soviet', 'ADJ'), ('Soviet', 'NOUN'))], [('crops', 'NOUN'), (('earlier', 'ADV'), ('earlier', 'ADJ'))], [('sky', 'NOUN'), (('high', 'ADJ'), ('high', 'ADV'))], [('%', 'NOUN'), (('boosts', 'VERB'), ('boosts', 'NOUN'))], [('--', '.'), (('complicated', 'ADJ'), ('complicated', 'ADP'))], [('.', '.'), (('New', 'NOUN'), ('New', 'ADJ'))], [('rules', 'NOUN'), (('force', 'NOUN'), ('force', 'VERB'))], [('write', 'VERB'), (('down', 'ADV'), ('down', 'PRT'))], [('to', 'PRT'), (('Trailer', 'VERB'), ('Trailer', 'NOUN'))], [('Trailer', 'NOUN'), (('Train', 'X'), ('Train', 'NOUN'))], [('months', 'NOUN'), (('ago', 'ADP'), ('ago', 'ADV'))], [('come', 'VERB'), (('up', 'ADV'), ('up', 'PRT'))], [('for', 'ADP'), (('expendable', 'DET'), ('expendable', 'ADJ'))], [('.', '.'), (('Net', 'ADJ'), ('Net', 'NOUN'))], [('from', 'ADP'), (('12.82', 'DET'), ('12.82', 'NUM'))], [('year', 'NOUN'), (('earlier', 'ADV'), ('earlier', 'ADJ'))], [('was', 'VERB'), (('such', 'ADJ'), ('such', 'DET'))], [('$', '.'), (('133.7', 'NOUN'), ('133.7', 'NUM'))], [('$', '.'), (('94', 'NOUN'), ('94', 'NUM'))], [('be', 'VERB'), (('delisted', 'X'), ('delisted', 'VERB'))], [('$', '.'), (('23.25', 'NOUN'), ('23.25', 'NUM'))], [(',', '.'), (('off', 'ADP'), ('off', 'ADV'))], [(':', '.'), (('7.78', 'NOUN'), ('7.78', 'NUM'))], [(';', '.'), (('7.62', 'NOUN'), ('7.62', 'NUM'))], [('a', 'DET'), (('gigantic', 'NOUN'), ('gigantic', 'ADJ'))], [('year', 'NOUN'), (('earlier', 'ADV'), ('earlier', 'ADJ'))], [('law', 'NOUN'), (('that', 'ADP'), ('that', 'DET'))], [('who', 'PRON'), (('*T*-126', 'VERB'), ('*T*-126', 'X'))], [('*T*-126', 'X'), (('receives', 'X'), ('receives', 'VERB'))], [('receives', 'VERB'), (('more', 'ADV'), ('more', 'ADJ'))], [('as', 'ADP'), (('Form', 'DET'), ('Form', 'NOUN'))], [('Form', 'NOUN'), (('8300', 'ADJ'), ('8300', 'NUM'))], [('That', 'DET'), (('builds', 'NOUN'), ('builds', 'VERB'))], [('mention', 'VERB'), (('critical', 'X'), ('critical', 'ADJ'))], [('regulatory', 'ADJ'), (('net', 'ADJ'), ('net', 'NOUN'))], [('riders', 'NOUN'), (('that', 'ADP'), ('that', 'DET'))], [('but', 'CONJ'), (('due', 'ADJ'), ('due', 'ADV'))], [(',', '.'), (('overseas', 'ADV'), ('overseas', 'ADJ'))], [('which', 'DET'), (('*T*-236', 'NOUN'), ('*T*-236', 'X'))], [('systems', 'NOUN'), (('any', 'DET'), ('any', 'ADV'))], [('to', 'PRT'), (('audit', 'NOUN'), ('audit', 'VERB'))], [('and', 'CONJ'), (('refund', 'NOUN'), ('refund', 'VERB'))], [('the', 'DET'), (('outside', 'ADJ'), ('outside', 'NOUN'))], [(',', '.'), (('nonresidential', 'NOUN'), ('nonresidential', 'ADJ'))], [('was', 'VERB'), (('off', 'PRT'), ('off', 'ADJ'))], [('off', 'ADJ'), (('2.6', 'VERB'), ('2.6', 'NUM'))], [('$', '.'), (('99.1', 'NOUN'), ('99.1', 'NUM'))], [('``', '.'), (('So', 'ADV'), ('So', 'ADP'))], [('other', 'ADJ'), (('fixed-income', 'NOUN'), ('fixed-income', 'ADJ'))], [('was', 'VERB'), (('muted', 'X'), ('muted', 'VERB'))], [('of', 'ADP'), (('All', 'DET'), ('All', 'NOUN'))], [(\"'\", 'PRT'), (('Day', 'VERB'), ('Day', 'NOUN'))], [('of', 'ADP'), (('Datapoint', 'DET'), ('Datapoint', 'NOUN'))], [('rules', 'NOUN'), (('state', 'NOUN'), ('state', 'VERB'))], [('$', '.'), (('240,000', 'NOUN'), ('240,000', 'NUM'))], [('Poland', 'NOUN'), (('contrasts', 'NOUN'), ('contrasts', 'VERB'))], [('the', 'DET'), (('underlying', 'ADJ'), ('underlying', 'VERB'))], [('provoked', 'VERB'), (('veto', 'VERB'), ('veto', 'NOUN'))], [('from', 'ADP'), (('16.2', 'DET'), ('16.2', 'NUM'))], [('a', 'DET'), (('run', 'VERB'), ('run', 'NOUN'))], [('the', 'DET'), (('busiest', 'NOUN'), ('busiest', 'ADJ'))], [('so', 'ADV'), (('far', 'ADV'), ('far', 'ADJ'))], [('volume', 'NOUN'), (('averaged', 'NOUN'), ('averaged', 'VERB'))], [('10', 'NUM'), (('citizen-sparked', 'NOUN'), ('citizen-sparked', 'ADJ'))], [('any', 'DET'), (('odd-year', 'NOUN'), ('odd-year', 'ADJ'))], [('be', 'VERB'), (('relaunched', 'X'), ('relaunched', 'VERB'))], [(',', '.'), (('as', 'ADP'), ('as', 'ADV'))], [('as', 'ADV'), (('early', 'ADJ'), ('early', 'ADV'))], [(',', '.'), (('most', 'ADV'), ('most', 'ADJ'))], [('the', 'DET'), (('building', 'NOUN'), ('building', 'VERB'))], [('money', 'NOUN'), (('erect', 'NOUN'), ('erect', 'VERB'))], [('to', 'PRT'), (('present', 'ADJ'), ('present', 'VERB'))], [('from', 'ADP'), (('high-polluting', 'DET'), ('high-polluting', 'ADJ'))], [('on', 'ADP'), (('cost-sharing', 'ADJ'), ('cost-sharing', 'NOUN'))], [('has', 'VERB'), (('much', 'ADV'), ('much', 'ADJ'))], [('$', '.'), (('126.1', 'NOUN'), ('126.1', 'NUM'))], [('a', 'DET'), (('cosmetic', 'NOUN'), ('cosmetic', 'ADJ'))], [('of', 'ADP'), (('Wertheim', 'DET'), ('Wertheim', 'NOUN'))], [('who', 'PRON'), (('*T*-222', 'VERB'), ('*T*-222', 'X'))], [('a', 'DET'), (('sometimes-exhausting', 'NOUN'), ('sometimes-exhausting', 'ADJ'))], [('bells', 'NOUN'), (('sounding', 'NOUN'), ('sounding', 'VERB'))], [('dividend', 'NOUN'), (('yield', 'VERB'), ('yield', 'NOUN'))], [('level', 'NOUN'), (('that', 'ADP'), ('that', 'DET'))], [('that', 'DET'), (('*T*-232', 'DET'), ('*T*-232', 'X'))], [('and', 'CONJ'), (('unenticing', 'NOUN'), ('unenticing', 'ADJ'))], [('an', 'DET'), (('opposite', 'NOUN'), ('opposite', 'ADJ'))], [('to', 'PRT'), (('colder', 'VERB'), ('colder', 'ADJ'))], [('colder', 'ADJ'), (('weather', 'VERB'), ('weather', 'NOUN'))], [('the', 'DET'), (('American', 'ADJ'), ('American', 'NOUN'))], [('to', 'PRT'), (('planting', 'VERB'), ('planting', 'NOUN'))], [('of', 'ADP'), (('orange', 'DET'), ('orange', 'ADJ'))], [('areas', 'NOUN'), (('that', 'ADP'), ('that', 'DET'))], [('for', 'ADP'), (('cane', 'DET'), ('cane', 'NOUN'))], [('the', 'DET'), (('key', 'ADJ'), ('key', 'NOUN'))], [('must', 'VERB'), (('fundamentally', 'X'), ('fundamentally', 'ADV'))], [('or', 'CONJ'), (('decrease', 'NOUN'), ('decrease', 'VERB'))], [('prices', 'NOUN'), (('move', 'NOUN'), ('move', 'VERB'))], [('Italy', 'NOUN'), (('there', 'DET'), ('there', 'ADV'))], [('is', 'VERB'), (('Angelo', 'X'), ('Angelo', 'NOUN'))], [('Angelo', 'NOUN'), (('Gaja', 'VERB'), ('Gaja', 'NOUN'))], [('Gaja', 'NOUN'), (('Barbaresco', 'X'), ('Barbaresco', 'NOUN'))], [('The', 'DET'), (('most', 'ADJ'), ('most', 'ADV'))], [('&', 'CONJ'), (('poor', 'ADJ'), ('poor', 'NOUN'))], [('a', 'DET'), (('20-stock', 'NOUN'), ('20-stock', 'ADJ'))], [('index', 'NOUN'), (('that', 'ADP'), ('that', 'DET'))], [(\"'\", 'PRT'), (('report', 'VERB'), ('report', 'NOUN'))], [('by', 'ADP'), (('more', 'ADJ'), ('more', 'ADV'))], [('The', 'DET'), (('British', 'ADJ'), ('British', 'NOUN'))], [('is', 'VERB'), (('ensnarled', 'X'), ('ensnarled', 'VERB'))], [('cutting', 'VERB'), (('capital-gains', 'NOUN'), ('capital-gains', 'ADJ'))], [(\"'s\", 'PRT'), (('909', 'VERB'), ('909', 'NUM'))], [('covers', 'VERB'), (('only', 'ADV'), ('only', 'ADJ'))], [('who', 'PRON'), (('*T*-260', 'VERB'), ('*T*-260', 'X'))], [('will', 'VERB'), (('learn', 'X'), ('learn', 'VERB'))], [('with', 'ADP'), (('Congressman', 'DET'), ('Congressman', 'NOUN'))], [('local', 'ADJ'), (('public', 'NOUN'), ('public', 'ADJ'))], [('those', 'DET'), (('close', 'NOUN'), ('close', 'ADJ'))], [(',', '.'), (('right', 'NOUN'), ('right', 'ADV'))], [('right', 'ADV'), (('up', 'PRT'), ('up', 'ADP'))], [(',', '.'), (('close', 'NOUN'), ('close', 'ADJ'))], [('While', 'ADP'), (('worry', 'VERB'), ('worry', 'NOUN'))], [('for', 'ADP'), (('alleged', 'ADJ'), ('alleged', 'VERB'))], [('took', 'VERB'), (('over', 'ADP'), ('over', 'PRT'))], [(\"'s\", 'PRT'), (('seventh', 'VERB'), ('seventh', 'ADJ'))], [('seventh', 'ADJ'), (('principal', 'ADJ'), ('principal', 'NOUN'))], [('market-makers', 'NOUN'), (('searched', 'NOUN'), ('searched', 'VERB'))], [('military', 'ADJ'), (('command', 'VERB'), ('command', 'NOUN'))], [('from', 'ADP'), (('Honduras', 'DET'), ('Honduras', 'NOUN'))], [('0', 'X'), (('Sandinista', 'VERB'), ('Sandinista', 'NOUN'))], [('make', 'VERB'), (('appropriate', 'X'), ('appropriate', 'ADJ'))], [(\"'s\", 'PRT'), (('undelivered', 'VERB'), ('undelivered', 'ADJ'))], [('subscribe', 'VERB'), (('most', 'ADV'), ('most', 'ADJ'))], [('remaining', 'VERB'), (('170', 'X'), ('170', 'NUM'))], [('will', 'VERB'), (('personally', 'X'), ('personally', 'ADV'))], [('by', 'ADP'), (('Manfred', 'DET'), ('Manfred', 'NOUN'))], [(\"'s\", 'PRT'), (('Comtes', 'VERB'), ('Comtes', 'NOUN'))], [('Comtes', 'NOUN'), (('de', 'X'), ('de', 'ADP'))], [('is', 'VERB'), (('encroaching', 'X'), ('encroaching', 'VERB'))], [('see', 'VERB'), (('more', 'ADV'), ('more', 'ADJ'))], [('*T*-2', 'X'), (('Andrea', 'VERB'), ('Andrea', 'NOUN'))], [('of', 'ADP'), (('American', 'ADJ'), ('American', 'NOUN'))], [('$', '.'), (('46.1', 'NOUN'), ('46.1', 'NUM'))], [('$', '.'), (('1.85', 'NOUN'), ('1.85', 'NUM'))], [('$', '.'), (('1.85', 'NOUN'), ('1.85', 'NUM'))], [('and', 'CONJ'), (('that', 'DET'), ('that', 'ADP'))], [('who', 'PRON'), (('*T*-185', 'VERB'), ('*T*-185', 'X'))], [(',', '.'), (('tight', 'ADV'), ('tight', 'ADJ'))], [('tight', 'ADJ'), (('facial', 'VERB'), ('facial', 'ADJ'))], [('facial', 'ADJ'), (('shot', 'VERB'), ('shot', 'NOUN'))], [('*-37', 'X'), (('out', 'PRT'), ('out', 'ADP'))], [('power', 'NOUN'), (('that', 'ADP'), ('that', 'DET'))], [('sizable', 'ADJ'), (('West', 'NOUN'), ('West', 'ADJ'))], [('West', 'ADJ'), (('German', 'NOUN'), ('German', 'ADJ'))], [('divisions', 'NOUN'), (('that', 'ADP'), ('that', 'DET'))], [(\"n't\", 'ADV'), (('wish', 'VERB'), ('wish', 'NOUN'))], [('owns', 'VERB'), (('about', 'ADP'), ('about', 'ADV'))], [(',', '.'), (('most', 'ADV'), ('most', 'ADJ'))], [('at', 'ADP'), (('nominal', 'DET'), ('nominal', 'ADJ'))], [('to', 'PRT'), (('gain', 'NOUN'), ('gain', 'VERB'))], [('of', 'ADP'), (('WTVJ', 'DET'), ('WTVJ', 'NOUN'))], [('the', 'DET'), (('NBC-owned', 'NOUN'), ('NBC-owned', 'ADJ'))], [('add', 'VERB'), (('two-sevenths', 'X'), ('two-sevenths', 'NOUN'))], [('at', 'ADP'), (('60.36', 'DET'), ('60.36', 'NUM'))], [('to', 'PRT'), (('1,570', 'VERB'), ('1,570', 'NUM'))], [(\"'s\", 'PRT'), (('Pittsburgh', 'VERB'), ('Pittsburgh', 'NOUN'))], [(',', '.'), (('executes', 'NOUN'), ('executes', 'VERB'))], [('not', 'ADV'), (('unethical', 'VERB'), ('unethical', 'ADJ'))], [('a', 'DET'), (('higher-salaried', 'NOUN'), ('higher-salaried', 'ADJ'))], [('an', 'DET'), (('affordable', 'NOUN'), ('affordable', 'ADJ'))], [('$', '.'), (('1,298', 'NOUN'), ('1,298', 'NUM'))], [('producing', 'VERB'), (('more', 'ADV'), ('more', 'ADJ'))], [('a', 'DET'), (('more', 'ADJ'), ('more', 'ADV'))], [('more', 'ADV'), (('drastic', 'NOUN'), ('drastic', 'ADJ'))], [(\"'s\", 'PRT'), (('Beige', 'VERB'), ('Beige', 'NOUN'))], [('Beige', 'NOUN'), (('Book', 'X'), ('Book', 'NOUN'))], [('gave', 'VERB'), (('up', 'ADV'), ('up', 'PRT'))], [('sent', 'VERB'), (('shivers', 'X'), ('shivers', 'NOUN'))], [('0', 'X'), (('export', 'VERB'), ('export', 'NOUN'))], [('month', 'NOUN'), (('before', 'ADP'), ('before', 'ADV'))], [('for', 'ADP'), (('witches', 'DET'), ('witches', 'NOUN'))], [('of', 'ADP'), (('Advanced', 'DET'), ('Advanced', 'NOUN'))], [('firm', 'NOUN'), (('that', 'ADP'), ('that', 'DET'))], [('*U*', 'X'), (('fund', 'VERB'), ('fund', 'NOUN'))], [('fund', 'NOUN'), (('that', 'ADP'), ('that', 'DET'))], [('is', 'VERB'), (('predicated', 'X'), ('predicated', 'VERB'))], [('clause', 'NOUN'), (('that', 'ADP'), ('that', 'DET'))], [('is', 'VERB'), (('erroneous', 'X'), ('erroneous', 'ADJ'))], [('what', 'PRON'), (('*T*-252', 'VERB'), ('*T*-252', 'X'))], [('ended', 'VERB'), (('up', 'ADV'), ('up', 'PRT'))], [('among', 'ADP'), (('American', 'ADJ'), ('American', 'NOUN'))], [('an', 'DET'), (('American', 'ADJ'), ('American', 'NOUN'))], [('and', 'CONJ'), (('that', 'DET'), ('that', 'ADP'))], [('of', 'ADP'), (('Clarence', 'DET'), ('Clarence', 'NOUN'))], [('the', 'DET'), (('American', 'ADJ'), ('American', 'NOUN'))], [('``', '.'), (('qualified', 'VERB'), ('qualified', 'ADJ'))], [('Tire', 'NOUN'), (('&', 'CONJ'), ('&', 'X'))], [('and', 'CONJ'), (('related', 'VERB'), ('related', 'ADJ'))], [('in', 'ADP'), (('Albany', 'DET'), ('Albany', 'NOUN'))], [('``', '.'), (('deplorable', 'NOUN'), ('deplorable', 'ADJ'))], [('but', 'CONJ'), (('brushed', 'NOUN'), ('brushed', 'VERB'))], [('off', 'PRT'), (('talk', 'VERB'), ('talk', 'NOUN'))], [('What', 'PRON'), (('*T*-164', 'VERB'), ('*T*-164', 'X'))], [('*T*-164', 'X'), ((\"'s\", 'PRT'), (\"'s\", 'VERB'))], [('is', 'VERB'), (('happening', 'X'), ('happening', 'VERB'))], [('the', 'DET'), (('public', 'ADJ'), ('public', 'NOUN'))], [('.', '.'), (('Net', 'ADJ'), ('Net', 'NOUN'))], [('Net', 'NOUN'), (('advanced', 'ADJ'), ('advanced', 'VERB'))], [('$', '.'), (('94.2', 'NOUN'), ('94.2', 'NUM'))], [('or', 'CONJ'), (('83', 'NOUN'), ('83', 'NUM'))], [('including', 'VERB'), (('net', 'ADJ'), ('net', 'NOUN'))], [('*EXP*-1', 'X'), ((\"'s\", 'PRT'), (\"'s\", 'VERB'))], [('a', 'DET'), (('17-year-old', 'NOUN'), ('17-year-old', 'ADJ'))], [(\"'s\", 'PRT'), (('hot', 'VERB'), ('hot', 'ADJ'))], [('--', '.'), (('and', 'CONJ'), ('and', 'NOUN'))], [('what', 'PRON'), (('*T*-172', 'VERB'), ('*T*-172', 'X'))], [('*T*-172', 'X'), ((\"'s\", 'PRT'), (\"'s\", 'VERB'))], [('very', 'ADV'), (('hot', 'VERB'), ('hot', 'ADJ'))], [('the', 'DET'), (('third-highest', 'NOUN'), ('third-highest', 'ADJ'))], [('``', '.'), (('Professional', 'NOUN'), ('Professional', 'ADJ'))], [('get', 'VERB'), (('enough', 'ADV'), ('enough', 'ADJ'))], [('substance', 'NOUN'), (('that', 'ADP'), ('that', 'DET'))], [('can', 'VERB'), (('induce', 'X'), ('induce', 'VERB'))], [('induce', 'VERB'), (('formation', 'VERB'), ('formation', 'NOUN'))], [('the', 'DET'), (('most', 'ADJ'), ('most', 'ADV'))], [('its', 'PRON'), (('merits', 'VERB'), ('merits', 'NOUN'))], [('firms', 'NOUN'), (('championing', 'NOUN'), ('championing', 'VERB'))], [('battle', 'NOUN'), (('opens', 'NOUN'), ('opens', 'VERB'))], [('0', 'X'), (('that', 'ADP'), ('that', 'DET'))], [('.', '.'), (('Third', 'NOUN'), ('Third', 'ADJ'))], [('$', '.'), (('11.57', 'NOUN'), ('11.57', 'NUM'))], [('share', 'NOUN'), (('vs.', 'ADP'), ('vs.', 'CONJ'))], [('vs.', 'CONJ'), (('net', 'ADJ'), ('net', 'NOUN'))], [(\"'s\", 'PRT'), (('editions', 'VERB'), ('editions', 'NOUN'))], [('being', 'VERB'), (('overused', 'X'), ('overused', 'VERB'))], [('our', 'PRON'), (('borrowing', 'VERB'), ('borrowing', 'NOUN'))], [('borrowing', 'NOUN'), (('schedule', 'X'), ('schedule', 'NOUN'))], [('kids', 'NOUN'), (('broke', 'NOUN'), ('broke', 'VERB'))], [('correcting', 'VERB'), (('homework', 'X'), ('homework', 'NOUN'))], [('executives', 'NOUN'), (('drooled', 'NOUN'), ('drooled', 'VERB'))], [('like', 'ADP'), (('schoolboys', 'DET'), ('schoolboys', 'NOUN'))], [('will', 'VERB'), (('exchange', 'NOUN'), ('exchange', 'VERB'))], [('new', 'ADJ'), (('preferred', 'ADJ'), ('preferred', 'VERB'))], [('already', 'ADV'), (('own', 'ADJ'), ('own', 'VERB'))], [('its', 'PRON'), (('liabilities', 'VERB'), ('liabilities', 'NOUN'))], [('.', '.'), (('Second', 'NOUN'), ('Second', 'ADJ'))], [('settled', 'VERB'), (('pre-1917', 'X'), ('pre-1917', 'ADJ'))], [(\"'s\", 'PRT'), (('face', 'VERB'), ('face', 'NOUN'))], [('state-owned', 'ADJ'), (('holding', 'NOUN'), ('holding', 'VERB'))], [('crystal', 'NOUN'), (('changes', 'NOUN'), ('changes', 'VERB'))], [('apparently', 'ADV'), (('pins', 'NOUN'), ('pins', 'VERB'))], [('.', '.'), (('Overall', 'NOUN'), ('Overall', 'ADJ'))], [(',', '.'), (('pretax', 'NOUN'), ('pretax', 'ADJ'))], [('$', '.'), (('107.9', 'NOUN'), ('107.9', 'NUM'))], [('$', '.'), (('96.4', 'NOUN'), ('96.4', 'NUM'))], [('The', 'DET'), (('American', 'ADJ'), ('American', 'NOUN'))], [('of', 'ADP'), (('Delegates', 'DET'), ('Delegates', 'NOUN'))], [('1985', 'NUM'), (('condemning', 'NOUN'), ('condemning', 'VERB'))], [('IRS', 'NOUN'), (('reporting', 'VERB'), ('reporting', 'NOUN'))], [('with', 'ADP'), (('top-level', 'DET'), ('top-level', 'ADJ'))]]\n"
     ]
    }
   ],
   "source": [
    "print('Incorrect tagged cases: ',incorrect_tagged)"
   ]
  },
  {
   "cell_type": "markdown",
   "metadata": {},
   "source": [
    "#### 6.1.4 Incorrect tagged words \n",
    "<a id='Incorrect_Words_Transition'></a>"
   ]
  },
  {
   "cell_type": "code",
   "execution_count": 65,
   "metadata": {},
   "outputs": [
    {
     "name": "stdout",
     "output_type": "stream",
     "text": [
      "Incorrect tagged words size:  257  Incorrect tagged words:  {'1,298', 'as', 'NBC-owned', '107.9', 'up', 'builds', 'gigantic', 'underlying', '*T*-172', 'undiplomatic', 'fundamentally', 'fashion', '7.78', '*T*-126', 'expendable', 'there', 'highest-pitched', 'Barbaresco', 'muted', '&', 'searched', 'Proper', 'vagabond', 'alleged', 'averaged', '170', 'championing', 'nominal', 'wives', '*-128', 'condemning', 'building', 'erect', 'due', 'Congressman', '23.25', 'Sandinista', '60.36', '*T*-222', 'Vice', 'overused', 'broke', 'Chinese', 'Albany', 'Soviet', 'most', 'higher-salaried', 'Second', 'Mount', 'holding', 'raced', '*T*-252', 'own', 'odd-year', '240,000', 'present', 'sounding', 'shot', 'Eveready', 'Pittsburgh', 'Professional', 'audit', 'report', 'key', 'reopened', '11.57', 'Federal', 'wish', 'fund', 'cosmetic', 'borrowing', 'facial', 'third-highest', 'pay', 'move', 'opposite', 'Andrea', '83', 'pins', '*T*-185', 'Delegates', 'Third', '133.7', 'All', 'state', 'centralized', 'more', '96.4', 'Clarence', 'ago', 'So', 'favored', 'principal', '1,570', '*T*-211', 'changes', '89,500', '12.82', 'unethical', '126.1', 'related', 'witches', 'existence', 'net', 'such', 'Comtes', 'descending', 'drooled', 'executes', 'brushed', 'happening', 'relaunched', 'Day', 'and', 'Wertheim', 'pre-1917', 'two-sevenths', 'learn', 'yield', 'appropriate', '3.01', 'off', 'talk', 'erroneous', '*T*-232', 'authorized', 'intermediate', 'far', 'public', 'overseas', 'de', 'about', 'only', 'gain', '7.62', 'fuel', 'receives', 'Advanced', 'sometimes-exhausting', 'cane', '46.1', '94', 'predicated', 'encroaching', 'traced', 'pretax', 'weather', '*T*-164', 'traffic', '909', 'much', 'force', 'enough', 'high-polluting', '*T*-260', '99.1', 'midsized', 'ensnarled', 'top-level', 'close', 'Braun', 'Form', 'outside', 'affordable', 'Angelo', 'formation', '737.5', 'complicated', 'vs.', 'planting', 'planned', 'high', 'worry', 'capital-gains', 'induce', 'Net', 'orange', '17-year-old', 'subsequent', 'down', 'Trailer', 'unimpeded', 'nonresidential', 'reporting', 'over', 'delisted', 'English', 'busiest', 'colder', 'shivers', 'veto', 'any', 'export', 'undelivered', 'synchronized', 'New', 'hot', 'WTVJ', 'Manfred', 'Gaja', 'eight-count', '20-stock', 'drastic', 'schoolboys', 'opens', 'Datapoint', 'refund', 'merits', 'liabilities', 'qualified', 'early', 'critical', 'run', '1.85', 'poor', 'advanced', 'British', 'decrease', 'Book', \"'s\", 'exchange', 'deplorable', 'citizen-sparked', '16.2', 'West', 'face', 'schedule', 'earlier', 'boosts', 'right', 'command', '8300', '*T*-236', 'tight', 'out', '2,303,328', 'editions', 'Beige', 'cost-sharing', 'Honduras', 'American', 'German', 'contrasts', 'preferred', 'fixed-income', '94.2', 'Overall', 'absolute', 'unenticing', 'seventh', 'Train', 'homework', 'that', 'scholarly', 'personally', 'before', '2.6'}\n"
     ]
    }
   ],
   "source": [
    "incorrect_tagged_words=[i[0] for i in [incorrect_word[1] for pair in incorrect_tagged for incorrect_word in pair][1::2]]\n",
    "incorrect_tagged_transition=set(incorrect_tagged_words)\n",
    "print('Incorrect tagged words size: ',len(incorrect_tagged_transition),' Incorrect tagged words: ',incorrect_tagged_transition)"
   ]
  },
  {
   "cell_type": "markdown",
   "metadata": {},
   "source": [
    "<b>Unknown Words which are common in incorrect tagged words</b>:\n",
    "\n",
    "\n",
    "- Unknown Words Section: [Unknown_Words](#Unknown_Words) \n",
    "- Incorrect Tagged Words Section: [Incorrect_Words_Transition](#Incorrect_Words_Transition)"
   ]
  },
  {
   "cell_type": "markdown",
   "metadata": {},
   "source": [
    "<b>Left words which are not been corrected from above</b>:"
   ]
  },
  {
   "cell_type": "code",
   "execution_count": 66,
   "metadata": {},
   "outputs": [
    {
     "data": {
      "text/plain": [
       "{'*-128',\n",
       " '*T*-126',\n",
       " '*T*-164',\n",
       " '*T*-172',\n",
       " '*T*-185',\n",
       " '*T*-211',\n",
       " '*T*-222',\n",
       " '*T*-232',\n",
       " '*T*-236',\n",
       " '*T*-252',\n",
       " '*T*-260',\n",
       " '1,298',\n",
       " '1,570',\n",
       " '1.85',\n",
       " '107.9',\n",
       " '11.57',\n",
       " '12.82',\n",
       " '126.1',\n",
       " '133.7',\n",
       " '16.2',\n",
       " '17-year-old',\n",
       " '170',\n",
       " '2,303,328',\n",
       " '2.6',\n",
       " '20-stock',\n",
       " '23.25',\n",
       " '240,000',\n",
       " '3.01',\n",
       " '46.1',\n",
       " '60.36',\n",
       " '7.62',\n",
       " '7.78',\n",
       " '737.5',\n",
       " '83',\n",
       " '89,500',\n",
       " '909',\n",
       " '94',\n",
       " '94.2',\n",
       " '96.4',\n",
       " '99.1',\n",
       " 'Advanced',\n",
       " 'Albany',\n",
       " 'Andrea',\n",
       " 'Angelo',\n",
       " 'Barbaresco',\n",
       " 'Beige',\n",
       " 'Book',\n",
       " 'Braun',\n",
       " 'Clarence',\n",
       " 'Comtes',\n",
       " 'Congressman',\n",
       " 'Datapoint',\n",
       " 'Day',\n",
       " 'Delegates',\n",
       " 'Eveready',\n",
       " 'Form',\n",
       " 'Gaja',\n",
       " 'Honduras',\n",
       " 'Manfred',\n",
       " 'Mount',\n",
       " 'NBC-owned',\n",
       " 'Overall',\n",
       " 'Pittsburgh',\n",
       " 'Proper',\n",
       " 'Sandinista',\n",
       " 'Third',\n",
       " 'Trailer',\n",
       " 'Train',\n",
       " 'Vice',\n",
       " 'WTVJ',\n",
       " 'Wertheim',\n",
       " 'absolute',\n",
       " 'affordable',\n",
       " 'appropriate',\n",
       " 'authorized',\n",
       " 'averaged',\n",
       " 'broke',\n",
       " 'brushed',\n",
       " 'builds',\n",
       " 'busiest',\n",
       " 'cane',\n",
       " 'centralized',\n",
       " 'championing',\n",
       " 'citizen-sparked',\n",
       " 'colder',\n",
       " 'condemning',\n",
       " 'contrasts',\n",
       " 'critical',\n",
       " 'delisted',\n",
       " 'deplorable',\n",
       " 'descending',\n",
       " 'drastic',\n",
       " 'drooled',\n",
       " 'editions',\n",
       " 'eight-count',\n",
       " 'encroaching',\n",
       " 'ensnarled',\n",
       " 'erect',\n",
       " 'erroneous',\n",
       " 'executes',\n",
       " 'existence',\n",
       " 'expendable',\n",
       " 'facial',\n",
       " 'fashion',\n",
       " 'fixed-income',\n",
       " 'formation',\n",
       " 'fundamentally',\n",
       " 'gigantic',\n",
       " 'happening',\n",
       " 'high-polluting',\n",
       " 'higher-salaried',\n",
       " 'highest-pitched',\n",
       " 'homework',\n",
       " 'hot',\n",
       " 'induce',\n",
       " 'intermediate',\n",
       " 'learn',\n",
       " 'liabilities',\n",
       " 'merits',\n",
       " 'muted',\n",
       " 'nominal',\n",
       " 'nonresidential',\n",
       " 'odd-year',\n",
       " 'opens',\n",
       " 'opposite',\n",
       " 'orange',\n",
       " 'overused',\n",
       " 'personally',\n",
       " 'planting',\n",
       " 'pre-1917',\n",
       " 'predicated',\n",
       " 'raced',\n",
       " 'receives',\n",
       " 'relaunched',\n",
       " 'reopened',\n",
       " 'schedule',\n",
       " 'scholarly',\n",
       " 'schoolboys',\n",
       " 'searched',\n",
       " 'seventh',\n",
       " 'shivers',\n",
       " 'sometimes-exhausting',\n",
       " 'sounding',\n",
       " 'subsequent',\n",
       " 'synchronized',\n",
       " 'third-highest',\n",
       " 'top-level',\n",
       " 'traced',\n",
       " 'traffic',\n",
       " 'two-sevenths',\n",
       " 'undelivered',\n",
       " 'undiplomatic',\n",
       " 'unenticing',\n",
       " 'unethical',\n",
       " 'unimpeded',\n",
       " 'vagabond',\n",
       " 'witches',\n",
       " 'wives'}"
      ]
     },
     "execution_count": 66,
     "metadata": {},
     "output_type": "execute_result"
    }
   ],
   "source": [
    "set(unknown_words).intersection(incorrect_tagged_transition)"
   ]
  },
  {
   "cell_type": "markdown",
   "metadata": {},
   "source": [
    "<b>Left over unknown words which are not been corrected from above</b>:"
   ]
  },
  {
   "cell_type": "code",
   "execution_count": 67,
   "metadata": {},
   "outputs": [
    {
     "data": {
      "text/plain": [
       "{'*-128',\n",
       " '*T*-126',\n",
       " '*T*-164',\n",
       " '*T*-172',\n",
       " '*T*-185',\n",
       " '*T*-211',\n",
       " '*T*-222',\n",
       " '*T*-232',\n",
       " '*T*-236',\n",
       " '*T*-252',\n",
       " '*T*-260',\n",
       " '1,298',\n",
       " '1,570',\n",
       " '1.85',\n",
       " '107.9',\n",
       " '11.57',\n",
       " '12.82',\n",
       " '126.1',\n",
       " '133.7',\n",
       " '16.2',\n",
       " '17-year-old',\n",
       " '170',\n",
       " '2,303,328',\n",
       " '2.6',\n",
       " '20-stock',\n",
       " '23.25',\n",
       " '240,000',\n",
       " '3.01',\n",
       " '46.1',\n",
       " '60.36',\n",
       " '7.62',\n",
       " '7.78',\n",
       " '737.5',\n",
       " '83',\n",
       " '89,500',\n",
       " '909',\n",
       " '94',\n",
       " '94.2',\n",
       " '96.4',\n",
       " '99.1',\n",
       " 'Advanced',\n",
       " 'Albany',\n",
       " 'Andrea',\n",
       " 'Angelo',\n",
       " 'Barbaresco',\n",
       " 'Beige',\n",
       " 'Book',\n",
       " 'Braun',\n",
       " 'Clarence',\n",
       " 'Comtes',\n",
       " 'Congressman',\n",
       " 'Datapoint',\n",
       " 'Day',\n",
       " 'Delegates',\n",
       " 'Eveready',\n",
       " 'Form',\n",
       " 'Gaja',\n",
       " 'Honduras',\n",
       " 'Manfred',\n",
       " 'Mount',\n",
       " 'NBC-owned',\n",
       " 'Overall',\n",
       " 'Pittsburgh',\n",
       " 'Proper',\n",
       " 'Sandinista',\n",
       " 'Third',\n",
       " 'Trailer',\n",
       " 'Train',\n",
       " 'Vice',\n",
       " 'WTVJ',\n",
       " 'Wertheim',\n",
       " 'absolute',\n",
       " 'affordable',\n",
       " 'appropriate',\n",
       " 'authorized',\n",
       " 'averaged',\n",
       " 'broke',\n",
       " 'brushed',\n",
       " 'builds',\n",
       " 'busiest',\n",
       " 'cane',\n",
       " 'centralized',\n",
       " 'championing',\n",
       " 'citizen-sparked',\n",
       " 'colder',\n",
       " 'condemning',\n",
       " 'contrasts',\n",
       " 'critical',\n",
       " 'delisted',\n",
       " 'deplorable',\n",
       " 'descending',\n",
       " 'drastic',\n",
       " 'drooled',\n",
       " 'editions',\n",
       " 'eight-count',\n",
       " 'encroaching',\n",
       " 'ensnarled',\n",
       " 'erect',\n",
       " 'erroneous',\n",
       " 'executes',\n",
       " 'existence',\n",
       " 'expendable',\n",
       " 'facial',\n",
       " 'fashion',\n",
       " 'fixed-income',\n",
       " 'formation',\n",
       " 'fundamentally',\n",
       " 'gigantic',\n",
       " 'happening',\n",
       " 'high-polluting',\n",
       " 'higher-salaried',\n",
       " 'highest-pitched',\n",
       " 'homework',\n",
       " 'hot',\n",
       " 'induce',\n",
       " 'intermediate',\n",
       " 'learn',\n",
       " 'liabilities',\n",
       " 'merits',\n",
       " 'muted',\n",
       " 'nominal',\n",
       " 'nonresidential',\n",
       " 'odd-year',\n",
       " 'opens',\n",
       " 'opposite',\n",
       " 'orange',\n",
       " 'overused',\n",
       " 'personally',\n",
       " 'planting',\n",
       " 'pre-1917',\n",
       " 'predicated',\n",
       " 'raced',\n",
       " 'receives',\n",
       " 'relaunched',\n",
       " 'reopened',\n",
       " 'schedule',\n",
       " 'scholarly',\n",
       " 'schoolboys',\n",
       " 'searched',\n",
       " 'seventh',\n",
       " 'shivers',\n",
       " 'sometimes-exhausting',\n",
       " 'sounding',\n",
       " 'subsequent',\n",
       " 'synchronized',\n",
       " 'third-highest',\n",
       " 'top-level',\n",
       " 'traced',\n",
       " 'traffic',\n",
       " 'two-sevenths',\n",
       " 'undelivered',\n",
       " 'undiplomatic',\n",
       " 'unenticing',\n",
       " 'unethical',\n",
       " 'unimpeded',\n",
       " 'vagabond',\n",
       " 'witches',\n",
       " 'wives'}"
      ]
     },
     "execution_count": 67,
     "metadata": {},
     "output_type": "execute_result"
    }
   ],
   "source": [
    "set(unknown_words).intersection(incorrect_tagged_transition)"
   ]
  },
  {
   "cell_type": "code",
   "execution_count": 68,
   "metadata": {},
   "outputs": [
    {
     "name": "stdout",
     "output_type": "stream",
     "text": [
      "38.521400778210115 % of unknown words identified correctly\n"
     ]
    }
   ],
   "source": [
    "print((1-(len(set(unknown_words).intersection(incorrect_tagged_transition))/len(incorrect_tagged_transition)))*100,'% of unknown words identified correctly')"
   ]
  },
  {
   "cell_type": "markdown",
   "metadata": {},
   "source": [
    "#### 6.1.5 Evaluating on test set"
   ]
  },
  {
   "cell_type": "code",
   "execution_count": 69,
   "metadata": {},
   "outputs": [],
   "source": [
    "## Function to test on test sentences\n",
    "def check_tags_on_test_modified_combined(sentence_test):\n",
    "    words = word_tokenize(sentence_test)\n",
    "\n",
    "    start = time.time()\n",
    "    tagged_seq = Modified_Viterbi_Transitional_P(words)\n",
    "    end = time.time()\n",
    "    difference = end-start\n",
    "    print('Tag Sequence: ',tagged_seq)\n",
    "    print(difference)\n",
    "    return tagged_seq\n",
    "    "
   ]
  },
  {
   "cell_type": "markdown",
   "metadata": {},
   "source": [
    "<b>Results on Test Set:</b>\n",
    "<a id='Transition_Probability_Results'></a>"
   ]
  },
  {
   "cell_type": "code",
   "execution_count": 70,
   "metadata": {},
   "outputs": [
    {
     "name": "stdout",
     "output_type": "stream",
     "text": [
      "Sentence 1:  Android is a mobile operating system developed by Google.\n",
      "\n",
      "Tag Sequence:  [('Android', 'NOUN'), ('is', 'VERB'), ('a', 'DET'), ('mobile', 'ADJ'), ('operating', 'NOUN'), ('system', 'NOUN'), ('developed', 'VERB'), ('by', 'ADP'), ('Google', 'DET'), ('.', '.')]\n",
      "1.1469480991363525\n",
      "\n",
      "Sentence 2:  Android has been the best-selling OS worldwide on smartphones since 2011 and on tablets since 2013.\n",
      "\n",
      "Tag Sequence:  [('Android', 'NOUN'), ('has', 'VERB'), ('been', 'VERB'), ('the', 'DET'), ('best-selling', 'ADJ'), ('OS', 'NOUN'), ('worldwide', 'NOUN'), ('on', 'ADP'), ('smartphones', 'DET'), ('since', 'ADP'), ('2011', 'DET'), ('and', 'CONJ'), ('on', 'ADP'), ('tablets', 'NOUN'), ('since', 'ADP'), ('2013', 'DET'), ('.', '.')]\n",
      "1.9468064308166504\n",
      "\n",
      "Sentence 3:  Google and Twitter made a deal in 2015 that gave Google access to Twitter's firehose.\n",
      "\n",
      "Tag Sequence:  [('Google', 'NOUN'), ('and', 'CONJ'), ('Twitter', 'NOUN'), ('made', 'VERB'), ('a', 'DET'), ('deal', 'NOUN'), ('in', 'ADP'), ('2015', 'DET'), ('that', 'ADP'), ('gave', 'VERB'), ('Google', 'X'), ('access', 'NOUN'), ('to', 'PRT'), ('Twitter', 'VERB'), (\"'s\", 'PRT'), ('firehose', 'VERB'), ('.', '.')]\n",
      "2.0065970420837402\n",
      "\n",
      "Sentence 4:  Twitter is an online news and social networking service on which users post and interact with messages known as tweets.\n",
      "\n",
      "Tag Sequence:  [('Twitter', 'NOUN'), ('is', 'VERB'), ('an', 'DET'), ('online', 'NOUN'), ('news', 'NOUN'), ('and', 'CONJ'), ('social', 'ADJ'), ('networking', 'NOUN'), ('service', 'NOUN'), ('on', 'ADP'), ('which', 'DET'), ('users', 'NOUN'), ('post', 'NOUN'), ('and', 'CONJ'), ('interact', 'NOUN'), ('with', 'ADP'), ('messages', 'DET'), ('known', 'ADJ'), ('as', 'ADP'), ('tweets', 'DET'), ('.', '.')]\n",
      "2.304966688156128\n",
      "\n",
      "Sentence 5:  Before entering politics, Donald Trump was a domineering businessman and a television personality.\n",
      "\n",
      "Tag Sequence:  [('Before', 'ADP'), ('entering', 'VERB'), ('politics', 'NOUN'), (',', '.'), ('Donald', 'NOUN'), ('Trump', 'NOUN'), ('was', 'VERB'), ('a', 'DET'), ('domineering', 'NOUN'), ('businessman', 'NOUN'), ('and', 'CONJ'), ('a', 'DET'), ('television', 'NOUN'), ('personality', 'NOUN'), ('.', '.')]\n",
      "1.6515815258026123\n",
      "\n",
      "Sentence 6:  The 2018 FIFA World Cup is the 21st FIFA World Cup, an international football tournament contested once every four years.\n",
      "\n",
      "Tag Sequence:  [('The', 'DET'), ('2018', 'NOUN'), ('FIFA', 'NOUN'), ('World', 'NOUN'), ('Cup', 'NOUN'), ('is', 'VERB'), ('the', 'DET'), ('21st', 'NOUN'), ('FIFA', 'NOUN'), ('World', 'NOUN'), ('Cup', 'NOUN'), (',', '.'), ('an', 'DET'), ('international', 'ADJ'), ('football', 'NOUN'), ('tournament', 'NOUN'), ('contested', 'NOUN'), ('once', 'ADV'), ('every', 'DET'), ('four', 'NUM'), ('years', 'NOUN'), ('.', '.')]\n",
      "2.48534893989563\n",
      "\n",
      "Sentence 7:  This is the first World Cup to be held in Eastern Europe and the 11th time that it has been held in Europe.\n",
      "\n",
      "Tag Sequence:  [('This', 'DET'), ('is', 'VERB'), ('the', 'DET'), ('first', 'ADJ'), ('World', 'NOUN'), ('Cup', 'NOUN'), ('to', 'PRT'), ('be', 'VERB'), ('held', 'VERB'), ('in', 'ADP'), ('Eastern', 'NOUN'), ('Europe', 'NOUN'), ('and', 'CONJ'), ('the', 'DET'), ('11th', 'ADJ'), ('time', 'NOUN'), ('that', 'ADP'), ('it', 'PRON'), ('has', 'VERB'), ('been', 'VERB'), ('held', 'VERB'), ('in', 'ADP'), ('Europe', 'NOUN'), ('.', '.')]\n",
      "2.6139912605285645\n",
      "\n",
      "Sentence 8:  Show me the cheapest round trips from Dallas to Atlanta\n",
      "\n",
      "Tag Sequence:  [('Show', 'NOUN'), ('me', 'PRON'), ('the', 'DET'), ('cheapest', 'ADJ'), ('round', 'NOUN'), ('trips', 'NOUN'), ('from', 'ADP'), ('Dallas', 'NOUN'), ('to', 'PRT'), ('Atlanta', 'NOUN')]\n",
      "1.050203561782837\n",
      "\n",
      "Sentence 9:  I would like to see flights from Denver to Philadelphia.\n",
      "\n",
      "Tag Sequence:  [('I', 'PRON'), ('would', 'VERB'), ('like', 'ADP'), ('to', 'PRT'), ('see', 'VERB'), ('flights', 'NOUN'), ('from', 'ADP'), ('Denver', 'NOUN'), ('to', 'PRT'), ('Philadelphia', 'NOUN'), ('.', '.')]\n",
      "1.2117588520050049\n",
      "\n",
      "Sentence 10:  Show me the price of the flights leaving Atlanta at about 3 in the afternoon and arriving in San Francisco.\n",
      "\n",
      "Tag Sequence:  [('Show', 'NOUN'), ('me', 'PRON'), ('the', 'DET'), ('price', 'NOUN'), ('of', 'ADP'), ('the', 'DET'), ('flights', 'NOUN'), ('leaving', 'VERB'), ('Atlanta', 'NOUN'), ('at', 'ADP'), ('about', 'ADP'), ('3', 'NUM'), ('in', 'ADP'), ('the', 'DET'), ('afternoon', 'NOUN'), ('and', 'CONJ'), ('arriving', 'NOUN'), ('in', 'ADP'), ('San', 'NOUN'), ('Francisco', 'NOUN'), ('.', '.')]\n",
      "2.2589540481567383\n",
      "\n",
      "Sentence 11:  NASA invited social media users to experience the launch of ICESAT-2 Satellite.\n",
      "\n",
      "Tag Sequence:  [('NASA', 'NOUN'), ('invited', 'NOUN'), ('social', 'ADJ'), ('media', 'NOUN'), ('users', 'NOUN'), ('to', 'PRT'), ('experience', 'NOUN'), ('the', 'DET'), ('launch', 'NOUN'), ('of', 'ADP'), ('ICESAT-2', 'DET'), ('Satellite', 'NOUN'), ('.', '.')]\n",
      "1.370331048965454\n",
      "\n",
      "Sentence 12:  \n",
      "\n",
      "Tag Sequence:  []\n",
      "0.0\n",
      "\n"
     ]
    }
   ],
   "source": [
    "#Executing Modified viterbi line by line on each sentence on test set\n",
    "f = open(test_file)\n",
    "file_as_list = f.readlines()\n",
    "\n",
    "test_prob_tag_seq=[]\n",
    "i=1\n",
    "for line in file_as_list:\n",
    "    if line!=[]:\n",
    "        print('Sentence '+str(i)+': ',line)\n",
    "        test_prob_tag_seq.append(check_tags_on_test_modified_combined(line))\n",
    "        print()\n",
    "        i=i+1"
   ]
  },
  {
   "cell_type": "markdown",
   "metadata": {},
   "source": [
    "### Observation\n",
    "<b>It is seen that most of the incorrect tagged cases are corrected by using transition probability based technique for tagging.\n",
    "Some of the improved cases are : FIFA,Cup,NASA (previous->'.' now->NOUN) etc</b>\n",
    "\n",
    "We will be discussing the details of this at the last section\n",
    "\n",
    "Some other observations:\n",
    "- Accuracy has increased from `0.909728992006239 (~91%)`(Vanilla) to `0.9403392474166504 (~94%)`\n",
    "- Number of tags in validation set identified incorrectlly has dropped from `405` to `257`\n",
    "- Defaulty it appears that when no tags are sufficient to mark an unknown word this approach tags 'NOUN' as default based on maximum occurance. "
   ]
  },
  {
   "cell_type": "markdown",
   "metadata": {},
   "source": [
    "## 7. Compare the tagging accuracies of the modifications with the Vanilla Viterbi algorithm"
   ]
  },
  {
   "cell_type": "markdown",
   "metadata": {},
   "source": [
    "#### 7.1  Comparing Vanilla Viterbi and Approach 1"
   ]
  },
  {
   "cell_type": "markdown",
   "metadata": {},
   "source": [
    "##### 7.1.1 Tagging accuracy of Vanilla Viterbi along with incorrect tags:"
   ]
  },
  {
   "cell_type": "code",
   "execution_count": 71,
   "metadata": {},
   "outputs": [
    {
     "name": "stdout",
     "output_type": "stream",
     "text": [
      "Accuracy: 0.909728992006239, Incorrect tags: {'1,298', 'Attorney', 'Editorials', 'investor-relations', 'fashion', 'there', 'Barbaresco', 'muted', 'vagabond', 'championing', '*-128', 'Congressman', 'Carbide', 'overused', '*T*-222', 'glamorize', 'Soviet', 'tutorials', 'Mount', 'own', 'odd-year', 'Eveready', 'CSV', 'Professional', 'audit', \"'\", 'Anglia', 'wish', 'fund', 'cosmetic', 'highlight', 'opposite', '83', 'disseminate', 'pins', 'Delegates', '133.7', 'flood', 'centralized', 'Sherwin', '89,500', 'unethical', 'witches', 'such', 'Comtes', 'drooled', 'executes', 'Gingl', 'Excision', 'two-sevenths', 'yield', 'ballots', 'public', 'Warehouse', 'overseas', 'Meese', '94', 'encroaching', 'traced', 'provoked', 'much', 'high-polluting', 'Brands', 'top-level', 'Braun', 'dams', 'complicated', 'observance', 'high', 'Net', 'down', 'offensive', 'delisted', 'shivers', 'export', 'memo', '*-129', 'Texan', 'boogieman', 'schemes', 'verge', 'oust', 'opens', 'refund', 'qualified', 'critical', 'exchange', 'Tire', '8300', '*T*-236', 'contributors', 'qualities', '2,303,328', 'American', 'contrasts', 'fixed-income', 'Overall', 'endorse', 'BILLS', '2.6', 'NBC-owned', 'underlying', 'gigantic', '*T*-172', 'undiplomatic', 'manipulate', 'sufficiency', 'renewing', 'expendable', 'counteract', 'alleged', 'averaged', 'condemning', 'due', '60.36', 'Sandinista', 'Chinese', 'Albany', 'holding', '*T*-252', '240,000', 'Pittsburgh', 'report', 'complaining', '11.57', 'phase', 'borrowing', 'facial', 'third-highest', 'pay', 'move', 'Andrea', 'playgrounds', 'drawbacks', 'state', 'species', 'Brady', '96.4', 'Clarence', 'favored', 'swelling', 'changes', 'Legislation', 'existence', 'railcar', 'brushed', 'relaunched', 'Day', 'Wertheim', 'Schroder', 'pre-1917', 'learn', 'trespass', 'disruption', 'bribing', 'off', 'shift', 'intermediate', 'only', 'fuel', '46.1', 'predicated', 'Gelles', 'traffic', '909', 'ensnarled', 'Morrell', 'insurgents', 'outside', 'wield', 'formation', '737.5', 'increase', 'TREASURY', 'planting', 'planned', 'worry', 'capital-gains', 'induce', 'unimpeded', 'English', 'busiest', 'passions', 'escort', 'Lobo', 'Gaja', '20-stock', 'drastic', 'engines', 'poor', 'British', 'prerogative', 'self', '16.2', 'refinery', 'inside', 'Asher', 'cost-sharing', 'Honduras', 'German', 'preferred', 'that', 'personally', 'before', 'computer-services', 'up', 'builds', 'Midwestern', '7.78', '*T*-126', '170', 'nominal', 'wives', 'building', '23.25', 'Vice', 'Deere', 'raced', 'twin', 'present', 'Clemens', 'appease', 'crapshoot', 'reopened', 'Dick', 'pharaohs', 'Starting', 'more', 'Lloyd', 'protein-1', '*T*-211', 'sentence', '12.82', '126.1', 'descending', 'happening', 'Payouts', 'and', 'Wallach', 'platforms', 'Results', 'Ketchum', 'Biaggi', 'far', 'Speedway', 'Demand', 'petroleum', 'cane', 'Nicholas', 'pretax', 'Solaia', 'busloads', 'force', 'enough', '99.1', 'Form', 'marketing-communications', 'Customers', 'mimics', 'orange', 'subsequent', 'over', 'launch-vehicle', 'any', 'Nemeth', 'synchronized', 'New', 'hot', 'eight-count', 'schoolboys', 'ethanol', 'Datapoint', 'early', 'run', 'octogenarians', 'decrease', 'Book', \"'s\", 'correcting', 'citizen-sparked', 'West', 'face', 'schedule', 'Piero', 'earlier', 'three-sevenths', 'command', 'Antinori', 'tight', 'Beige', 'Spending', 'absolute', 'sky', 'unenticing', 'seventh', 'Train', 'riders', 'homework', 'scholarly', 'NYSE', 'as', '107.9', 'fundamentally', 'Bucking', 'highest-pitched', '&', 'variation', 'Proper', 'nullified', 'searched', 'Showa', 'Rubber', 'Saints', 'erect', 'shuttle', 'broke', 'higher-salaried', 'most', 'Second', 'Spaghetti', 'sounding', 'Miklos', 'sum', 'Contra', 'key', 'abolishing', 'wave', 'Federal', 'oversight', '*T*-185', 'Symbol', 'Third', 'channel', 'All', 'Bentsen', 'Taittinger', 'rounds', 'ago', 'meatpacking', 'So', '1,570', 'Packaging', 'resumption', 'related', 'net', 'assisted', 'appropriate', '3.01', 'erroneous', 'counting', '*T*-232', 'authorized', 'about', 'gain', 'nickname', 'Advanced', '7.62', 'receives', 'Fortune', 'belfries', 'trees', 'sometimes-exhausting', 'tightening', 'labeling', '*T*-164', '*T*-260', 'midsized', 'close', 'chicago', 'affordable', 'Angelo', 'drew', 'notched', 'vs.', 'direct', 'rebel', 'document', '17-year-old', 'Trailer', 'Bar', 'nonresidential', 'reporting', 'halve', 'colder', 'fleet', 'downgrading', 'undelivered', 'Shell', 'WTVJ', '*-115', 'merits', 'liabilities', 'advanced', '1.85', 'knocked', 'deplorable', 'boosts', 'right', 'taxpayer', 'out', 'editions', '94.2', 'indictment', 'Mario', 'Manfred'}\n"
     ]
    }
   ],
   "source": [
    "print('Accuracy: {}, Incorrect tags: {}'.format(accuracy_vanilla,incorrect_tagged_words_vanilla))"
   ]
  },
  {
   "cell_type": "markdown",
   "metadata": {},
   "source": [
    "<b>Tests result on unseen data: </b> [Vanilla_Tests_Results](#Vanilla_Tests_Results)"
   ]
  },
  {
   "cell_type": "markdown",
   "metadata": {},
   "source": [
    "##### 7.1.2 Tagging accuracy of modified Viterbi with rule based tagging(regex) along with incorrect tags:"
   ]
  },
  {
   "cell_type": "code",
   "execution_count": 72,
   "metadata": {},
   "outputs": [
    {
     "name": "stdout",
     "output_type": "stream",
     "text": [
      "Accuracy: 0.9561317995710665, Incorrect tags: {'as', 'NBC-owned', 'up', 'builds', 'gigantic', 'underlying', 'undiplomatic', 'fundamentally', 'manipulate', 'Midwestern', 'expendable', 'there', 'counteract', 'highest-pitched', '&', 'Proper', 'alleged', 'nominal', 'building', 'erect', 'due', 'glamorize', 'broke', 'Chinese', 'holding', 'Soviet', 'most', 'higher-salaried', 'Second', 'own', 'odd-year', 'present', 'shot', 'Professional', 'audit', 'appease', 'report', 'key', 'Federal', 'phase', 'wish', 'fund', 'cosmetic', 'borrowing', 'facial', 'highlight', 'third-highest', 'pay', 'move', 'opposite', 'disseminate', 'pins', 'Third', 'channel', 'All', 'state', 'more', 'ago', 'meatpacking', 'So', 'favored', 'Packaging', 'changes', 'unethical', 'related', 'net', 'such', 'executes', 'and', 'pre-1917', 'learn', 'yield', 'appropriate', 'trespass', 'off', 'talk', 'erroneous', 'about', 'intermediate', 'far', 'public', 'overseas', 'gain', 'only', 'Advanced', 'fuel', 'receives', 'sometimes-exhausting', 'pretax', 'weather', 'much', 'force', 'enough', 'high-polluting', 'midsized', 'top-level', 'close', 'outside', 'affordable', 'wield', 'drew', 'complicated', 'increase', 'vs.', 'planting', 'planned', 'high', 'mimics', 'worry', 'capital-gains', 'induce', 'Net', 'orange', '17-year-old', 'subsequent', 'down', 'unimpeded', 'nonresidential', 'reporting', 'offensive', 'over', 'halve', 'English', 'colder', 'downgrading', 'veto', 'any', 'export', 'undelivered', 'New', 'hot', 'Manfred', 'eight-count', '20-stock', 'drastic', 'oust', 'opens', 'refund', 'qualified', 'early', 'critical', 'run', 'advanced', 'poor', 'British', 'decrease', \"'s\", 'prerogative', 'exchange', 'deplorable', 'citizen-sparked', 'West', 'face', 'earlier', 'boosts', 'right', 'command', '8300', 'tight', 'out', 'cost-sharing', 'German', 'American', 'preferred', 'contrasts', 'fixed-income', 'Spending', 'Overall', 'absolute', 'endorse', 'unenticing', 'seventh', 'that', 'scholarly', 'personally', 'before'}\n"
     ]
    }
   ],
   "source": [
    "print('Accuracy: {}, Incorrect tags: {}'.format(accuracy_modified_rulebased,incorrect_tagged_rulebased))"
   ]
  },
  {
   "cell_type": "markdown",
   "metadata": {},
   "source": [
    "<b>Tests result on unseen data: </b> [Rulebased_Tests_Results](#Rulebased_Tests_Results)"
   ]
  },
  {
   "cell_type": "markdown",
   "metadata": {},
   "source": [
    "#### 7.2  Comparing Vanilla Viterbi and Approach 2"
   ]
  },
  {
   "cell_type": "markdown",
   "metadata": {},
   "source": [
    "##### 7.2.1 Tagging accuracy of Vanilla Viterbi along with incorrect tags:"
   ]
  },
  {
   "cell_type": "code",
   "execution_count": 73,
   "metadata": {},
   "outputs": [
    {
     "name": "stdout",
     "output_type": "stream",
     "text": [
      "Accuracy: 0.909728992006239, Incorrect tags: {'1,298', 'Attorney', 'Editorials', 'investor-relations', 'fashion', 'there', 'Barbaresco', 'muted', 'vagabond', 'championing', '*-128', 'Congressman', 'Carbide', 'overused', '*T*-222', 'glamorize', 'Soviet', 'tutorials', 'Mount', 'own', 'odd-year', 'Eveready', 'CSV', 'Professional', 'audit', \"'\", 'Anglia', 'wish', 'fund', 'cosmetic', 'highlight', 'opposite', '83', 'disseminate', 'pins', 'Delegates', '133.7', 'flood', 'centralized', 'Sherwin', '89,500', 'unethical', 'witches', 'such', 'Comtes', 'drooled', 'executes', 'Gingl', 'Excision', 'two-sevenths', 'yield', 'ballots', 'public', 'Warehouse', 'overseas', 'Meese', '94', 'encroaching', 'traced', 'provoked', 'much', 'high-polluting', 'Brands', 'top-level', 'Braun', 'dams', 'complicated', 'observance', 'high', 'Net', 'down', 'offensive', 'delisted', 'shivers', 'export', 'memo', '*-129', 'Texan', 'boogieman', 'schemes', 'verge', 'oust', 'opens', 'refund', 'qualified', 'critical', 'exchange', 'Tire', '8300', '*T*-236', 'contributors', 'qualities', '2,303,328', 'American', 'contrasts', 'fixed-income', 'Overall', 'endorse', 'BILLS', '2.6', 'NBC-owned', 'underlying', 'gigantic', '*T*-172', 'undiplomatic', 'manipulate', 'sufficiency', 'renewing', 'expendable', 'counteract', 'alleged', 'averaged', 'condemning', 'due', '60.36', 'Sandinista', 'Chinese', 'Albany', 'holding', '*T*-252', '240,000', 'Pittsburgh', 'report', 'complaining', '11.57', 'phase', 'borrowing', 'facial', 'third-highest', 'pay', 'move', 'Andrea', 'playgrounds', 'drawbacks', 'state', 'species', 'Brady', '96.4', 'Clarence', 'favored', 'swelling', 'changes', 'Legislation', 'existence', 'railcar', 'brushed', 'relaunched', 'Day', 'Wertheim', 'Schroder', 'pre-1917', 'learn', 'trespass', 'disruption', 'bribing', 'off', 'shift', 'intermediate', 'only', 'fuel', '46.1', 'predicated', 'Gelles', 'traffic', '909', 'ensnarled', 'Morrell', 'insurgents', 'outside', 'wield', 'formation', '737.5', 'increase', 'TREASURY', 'planting', 'planned', 'worry', 'capital-gains', 'induce', 'unimpeded', 'English', 'busiest', 'passions', 'escort', 'Lobo', 'Gaja', '20-stock', 'drastic', 'engines', 'poor', 'British', 'prerogative', 'self', '16.2', 'refinery', 'inside', 'Asher', 'cost-sharing', 'Honduras', 'German', 'preferred', 'that', 'personally', 'before', 'computer-services', 'up', 'builds', 'Midwestern', '7.78', '*T*-126', '170', 'nominal', 'wives', 'building', '23.25', 'Vice', 'Deere', 'raced', 'twin', 'present', 'Clemens', 'appease', 'crapshoot', 'reopened', 'Dick', 'pharaohs', 'Starting', 'more', 'Lloyd', 'protein-1', '*T*-211', 'sentence', '12.82', '126.1', 'descending', 'happening', 'Payouts', 'and', 'Wallach', 'platforms', 'Results', 'Ketchum', 'Biaggi', 'far', 'Speedway', 'Demand', 'petroleum', 'cane', 'Nicholas', 'pretax', 'Solaia', 'busloads', 'force', 'enough', '99.1', 'Form', 'marketing-communications', 'Customers', 'mimics', 'orange', 'subsequent', 'over', 'launch-vehicle', 'any', 'Nemeth', 'synchronized', 'New', 'hot', 'eight-count', 'schoolboys', 'ethanol', 'Datapoint', 'early', 'run', 'octogenarians', 'decrease', 'Book', \"'s\", 'correcting', 'citizen-sparked', 'West', 'face', 'schedule', 'Piero', 'earlier', 'three-sevenths', 'command', 'Antinori', 'tight', 'Beige', 'Spending', 'absolute', 'sky', 'unenticing', 'seventh', 'Train', 'riders', 'homework', 'scholarly', 'NYSE', 'as', '107.9', 'fundamentally', 'Bucking', 'highest-pitched', '&', 'variation', 'Proper', 'nullified', 'searched', 'Showa', 'Rubber', 'Saints', 'erect', 'shuttle', 'broke', 'higher-salaried', 'most', 'Second', 'Spaghetti', 'sounding', 'Miklos', 'sum', 'Contra', 'key', 'abolishing', 'wave', 'Federal', 'oversight', '*T*-185', 'Symbol', 'Third', 'channel', 'All', 'Bentsen', 'Taittinger', 'rounds', 'ago', 'meatpacking', 'So', '1,570', 'Packaging', 'resumption', 'related', 'net', 'assisted', 'appropriate', '3.01', 'erroneous', 'counting', '*T*-232', 'authorized', 'about', 'gain', 'nickname', 'Advanced', '7.62', 'receives', 'Fortune', 'belfries', 'trees', 'sometimes-exhausting', 'tightening', 'labeling', '*T*-164', '*T*-260', 'midsized', 'close', 'chicago', 'affordable', 'Angelo', 'drew', 'notched', 'vs.', 'direct', 'rebel', 'document', '17-year-old', 'Trailer', 'Bar', 'nonresidential', 'reporting', 'halve', 'colder', 'fleet', 'downgrading', 'undelivered', 'Shell', 'WTVJ', '*-115', 'merits', 'liabilities', 'advanced', '1.85', 'knocked', 'deplorable', 'boosts', 'right', 'taxpayer', 'out', 'editions', '94.2', 'indictment', 'Mario', 'Manfred'}\n"
     ]
    }
   ],
   "source": [
    "print('Accuracy: {}, Incorrect tags: {}'.format(accuracy_vanilla,incorrect_tagged_words_vanilla))"
   ]
  },
  {
   "cell_type": "markdown",
   "metadata": {},
   "source": [
    "<b>Tests result on unseen data: </b> [Vanilla_Tests_Results](#Vanilla_Tests_Results)"
   ]
  },
  {
   "cell_type": "markdown",
   "metadata": {},
   "source": [
    "##### 7.2.2 Tagging accuracy of modified Viterbi with transition probability based tagging along with incorrect tags:"
   ]
  },
  {
   "cell_type": "code",
   "execution_count": 74,
   "metadata": {},
   "outputs": [
    {
     "name": "stdout",
     "output_type": "stream",
     "text": [
      "Accuracy: 0.9403392474166504, Incorrect tags: {'1,298', 'as', 'NBC-owned', '107.9', 'up', 'builds', 'gigantic', 'underlying', '*T*-172', 'undiplomatic', 'fundamentally', 'fashion', '7.78', '*T*-126', 'expendable', 'there', 'highest-pitched', 'Barbaresco', 'muted', '&', 'searched', 'Proper', 'vagabond', 'alleged', 'averaged', '170', 'championing', 'nominal', 'wives', '*-128', 'condemning', 'building', 'erect', 'due', 'Congressman', '23.25', 'Sandinista', '60.36', '*T*-222', 'Vice', 'overused', 'broke', 'Chinese', 'Albany', 'Soviet', 'most', 'higher-salaried', 'Second', 'Mount', 'holding', 'raced', '*T*-252', 'own', 'odd-year', '240,000', 'present', 'sounding', 'shot', 'Eveready', 'Pittsburgh', 'Professional', 'audit', 'report', 'key', 'reopened', '11.57', 'Federal', 'wish', 'fund', 'cosmetic', 'borrowing', 'facial', 'third-highest', 'pay', 'move', 'opposite', 'Andrea', '83', 'pins', '*T*-185', 'Delegates', 'Third', '133.7', 'All', 'state', 'centralized', 'more', '96.4', 'Clarence', 'ago', 'So', 'favored', 'principal', '1,570', '*T*-211', 'changes', '89,500', '12.82', 'unethical', '126.1', 'related', 'witches', 'existence', 'net', 'such', 'Comtes', 'descending', 'drooled', 'executes', 'brushed', 'happening', 'relaunched', 'Day', 'and', 'Wertheim', 'pre-1917', 'two-sevenths', 'learn', 'yield', 'appropriate', '3.01', 'off', 'talk', 'erroneous', '*T*-232', 'authorized', 'intermediate', 'far', 'public', 'overseas', 'de', 'about', 'only', 'gain', '7.62', 'fuel', 'receives', 'Advanced', 'sometimes-exhausting', 'cane', '46.1', '94', 'predicated', 'encroaching', 'traced', 'pretax', 'weather', '*T*-164', 'traffic', '909', 'much', 'force', 'enough', 'high-polluting', '*T*-260', '99.1', 'midsized', 'ensnarled', 'top-level', 'close', 'Braun', 'Form', 'outside', 'affordable', 'Angelo', 'formation', '737.5', 'complicated', 'vs.', 'planting', 'planned', 'high', 'worry', 'capital-gains', 'induce', 'Net', 'orange', '17-year-old', 'subsequent', 'down', 'Trailer', 'unimpeded', 'nonresidential', 'reporting', 'over', 'delisted', 'English', 'busiest', 'colder', 'shivers', 'veto', 'any', 'export', 'undelivered', 'synchronized', 'New', 'hot', 'WTVJ', 'Manfred', 'Gaja', 'eight-count', '20-stock', 'drastic', 'schoolboys', 'opens', 'Datapoint', 'refund', 'merits', 'liabilities', 'qualified', 'early', 'critical', 'run', '1.85', 'poor', 'advanced', 'British', 'decrease', 'Book', \"'s\", 'exchange', 'deplorable', 'citizen-sparked', '16.2', 'West', 'face', 'schedule', 'earlier', 'boosts', 'right', 'command', '8300', '*T*-236', 'tight', 'out', '2,303,328', 'editions', 'Beige', 'cost-sharing', 'Honduras', 'American', 'German', 'contrasts', 'preferred', 'fixed-income', '94.2', 'Overall', 'absolute', 'unenticing', 'seventh', 'Train', 'homework', 'that', 'scholarly', 'personally', 'before', '2.6'}\n"
     ]
    }
   ],
   "source": [
    "print('Accuracy: {}, Incorrect tags: {}'.format(accuracy_transition,incorrect_tagged_transition))"
   ]
  },
  {
   "cell_type": "markdown",
   "metadata": {},
   "source": [
    "<b>Tests result on unseen data: </b> [Transition_Probability_Results](#Transition_Probability_Results)"
   ]
  },
  {
   "cell_type": "markdown",
   "metadata": {},
   "source": [
    "## 8. Compare tags in Vanilla and Modified Viterbi (Approach 1 & 2)"
   ]
  },
  {
   "cell_type": "markdown",
   "metadata": {},
   "source": [
    "### 8.1 Modification Approach 1"
   ]
  },
  {
   "cell_type": "markdown",
   "metadata": {},
   "source": [
    "#### 8.1.1 Improved cases with the help of rule based technique(Approach 1) on validation set:"
   ]
  },
  {
   "cell_type": "code",
   "execution_count": 75,
   "metadata": {},
   "outputs": [
    {
     "name": "stdout",
     "output_type": "stream",
     "text": [
      "Word: \" 1,298 \" Vanilla viterbi Tag:  [('1,298', '.')]  Modified Viterbi Tag:  [('1,298', 'NUM')]\n",
      "\n",
      "Word: \" Attorney \" Vanilla viterbi Tag:  [('Attorney', '.')]  Modified Viterbi Tag:  [('Attorney', 'NOUN')]\n",
      "\n",
      "Word: \" 107.9 \" Vanilla viterbi Tag:  [('107.9', '.')]  Modified Viterbi Tag:  [('107.9', 'NUM')]\n",
      "\n",
      "Word: \" computer-services \" Vanilla viterbi Tag:  [('computer-services', '.')]  Modified Viterbi Tag:  [('computer-services', 'NOUN')]\n",
      "\n",
      "Word: \" *T*-172 \" Vanilla viterbi Tag:  [('*T*-172', '.')]  Modified Viterbi Tag:  [('*T*-172', 'X')]\n",
      "\n",
      "Word: \" Editorials \" Vanilla viterbi Tag:  [('Editorials', '.')]  Modified Viterbi Tag:  [('Editorials', 'NOUN')]\n",
      "\n",
      "Word: \" investor-relations \" Vanilla viterbi Tag:  [('investor-relations', '.')]  Modified Viterbi Tag:  [('investor-relations', 'NOUN')]\n",
      "\n",
      "Word: \" sufficiency \" Vanilla viterbi Tag:  [('sufficiency', '.')]  Modified Viterbi Tag:  [('sufficiency', 'NOUN')]\n",
      "\n",
      "Word: \" fashion \" Vanilla viterbi Tag:  [('fashion', '.')]  Modified Viterbi Tag:  [('fashion', 'NOUN')]\n",
      "\n",
      "Word: \" 7.78 \" Vanilla viterbi Tag:  [('7.78', '.')]  Modified Viterbi Tag:  [('7.78', 'NUM')]\n",
      "\n",
      "Word: \" renewing \" Vanilla viterbi Tag:  [('renewing', '.')]  Modified Viterbi Tag:  [('renewing', 'VERB')]\n",
      "\n",
      "Word: \" *T*-126 \" Vanilla viterbi Tag:  [('*T*-126', '.')]  Modified Viterbi Tag:  [('*T*-126', 'X')]\n",
      "\n",
      "Word: \" Bucking \" Vanilla viterbi Tag:  [('Bucking', '.')]  Modified Viterbi Tag:  [('Bucking', 'VERB')]\n",
      "\n",
      "Word: \" Barbaresco \" Vanilla viterbi Tag:  [('Barbaresco', '.')]  Modified Viterbi Tag:  [('Barbaresco', 'NOUN')]\n",
      "\n",
      "Word: \" muted \" Vanilla viterbi Tag:  [('muted', '.')]  Modified Viterbi Tag:  [('muted', 'VERB')]\n",
      "\n",
      "Word: \" variation \" Vanilla viterbi Tag:  [('variation', '.')]  Modified Viterbi Tag:  [('variation', 'NOUN')]\n",
      "\n",
      "Word: \" searched \" Vanilla viterbi Tag:  [('searched', '.')]  Modified Viterbi Tag:  [('searched', 'VERB')]\n",
      "\n",
      "Word: \" vagabond \" Vanilla viterbi Tag:  [('vagabond', '.')]  Modified Viterbi Tag:  [('vagabond', 'NOUN')]\n",
      "\n",
      "Word: \" championing \" Vanilla viterbi Tag:  [('championing', '.')]  Modified Viterbi Tag:  [('championing', 'VERB')]\n",
      "\n",
      "Word: \" averaged \" Vanilla viterbi Tag:  [('averaged', '.')]  Modified Viterbi Tag:  [('averaged', 'VERB')]\n",
      "\n",
      "Word: \" 170 \" Vanilla viterbi Tag:  [('170', '.')]  Modified Viterbi Tag:  [('170', 'NUM')]\n",
      "\n",
      "Word: \" nullified \" Vanilla viterbi Tag:  [('nullified', '.')]  Modified Viterbi Tag:  [('nullified', 'VERB')]\n",
      "\n",
      "Word: \" Showa \" Vanilla viterbi Tag:  [('Showa', '.')]  Modified Viterbi Tag:  [('Showa', 'NOUN')]\n",
      "\n",
      "Word: \" Rubber \" Vanilla viterbi Tag:  [('Rubber', '.')]  Modified Viterbi Tag:  [('Rubber', 'NOUN')]\n",
      "\n",
      "Word: \" Saints \" Vanilla viterbi Tag:  [('Saints', '.')]  Modified Viterbi Tag:  [('Saints', 'NOUN')]\n",
      "\n",
      "Word: \" *-128 \" Vanilla viterbi Tag:  [('*-128', '.')]  Modified Viterbi Tag:  [('*-128', 'X')]\n",
      "\n",
      "Word: \" wives \" Vanilla viterbi Tag:  [('wives', '.')]  Modified Viterbi Tag:  [('wives', 'NOUN')]\n",
      "\n",
      "Word: \" condemning \" Vanilla viterbi Tag:  [('condemning', '.')]  Modified Viterbi Tag:  [('condemning', 'VERB')]\n",
      "\n",
      "Word: \" Congressman \" Vanilla viterbi Tag:  [('Congressman', '.')]  Modified Viterbi Tag:  [('Congressman', 'NOUN')]\n",
      "\n",
      "Word: \" 60.36 \" Vanilla viterbi Tag:  [('60.36', '.')]  Modified Viterbi Tag:  [('60.36', 'NUM')]\n",
      "\n",
      "Word: \" overused \" Vanilla viterbi Tag:  [('overused', '.')]  Modified Viterbi Tag:  [('overused', 'VERB')]\n",
      "\n",
      "Word: \" Carbide \" Vanilla viterbi Tag:  [('Carbide', '.')]  Modified Viterbi Tag:  [('Carbide', 'NOUN')]\n",
      "\n",
      "Word: \" *T*-222 \" Vanilla viterbi Tag:  [('*T*-222', '.')]  Modified Viterbi Tag:  [('*T*-222', 'X')]\n",
      "\n",
      "Word: \" Sandinista \" Vanilla viterbi Tag:  [('Sandinista', '.')]  Modified Viterbi Tag:  [('Sandinista', 'NOUN')]\n",
      "\n",
      "Word: \" 23.25 \" Vanilla viterbi Tag:  [('23.25', '.')]  Modified Viterbi Tag:  [('23.25', 'NUM')]\n",
      "\n",
      "Word: \" Vice \" Vanilla viterbi Tag:  [('Vice', '.')]  Modified Viterbi Tag:  [('Vice', 'NOUN')]\n",
      "\n",
      "Word: \" Deere \" Vanilla viterbi Tag:  [('Deere', '.')]  Modified Viterbi Tag:  [('Deere', 'NOUN')]\n",
      "\n",
      "Word: \" shuttle \" Vanilla viterbi Tag:  [('shuttle', '.')]  Modified Viterbi Tag:  [('shuttle', 'NOUN')]\n",
      "\n",
      "Word: \" Albany \" Vanilla viterbi Tag:  [('Albany', '.')]  Modified Viterbi Tag:  [('Albany', 'NOUN')]\n",
      "\n",
      "Word: \" tutorials \" Vanilla viterbi Tag:  [('tutorials', '.')]  Modified Viterbi Tag:  [('tutorials', 'NOUN')]\n",
      "\n",
      "Word: \" Mount \" Vanilla viterbi Tag:  [('Mount', '.')]  Modified Viterbi Tag:  [('Mount', 'NOUN')]\n",
      "\n",
      "Word: \" Spaghetti \" Vanilla viterbi Tag:  [('Spaghetti', '.')]  Modified Viterbi Tag:  [('Spaghetti', 'NOUN')]\n",
      "\n",
      "Word: \" *T*-252 \" Vanilla viterbi Tag:  [('*T*-252', '.')]  Modified Viterbi Tag:  [('*T*-252', 'X')]\n",
      "\n",
      "Word: \" raced \" Vanilla viterbi Tag:  [('raced', '.')]  Modified Viterbi Tag:  [('raced', 'VERB')]\n",
      "\n",
      "Word: \" twin \" Vanilla viterbi Tag:  [('twin', '.')]  Modified Viterbi Tag:  [('twin', 'NOUN')]\n",
      "\n",
      "Word: \" 240,000 \" Vanilla viterbi Tag:  [('240,000', '.')]  Modified Viterbi Tag:  [('240,000', 'NUM')]\n",
      "\n",
      "Word: \" Pittsburgh \" Vanilla viterbi Tag:  [('Pittsburgh', '.')]  Modified Viterbi Tag:  [('Pittsburgh', 'NOUN')]\n",
      "\n",
      "Word: \" sounding \" Vanilla viterbi Tag:  [('sounding', '.')]  Modified Viterbi Tag:  [('sounding', 'VERB')]\n",
      "\n",
      "Word: \" Eveready \" Vanilla viterbi Tag:  [('Eveready', '.')]  Modified Viterbi Tag:  [('Eveready', 'NOUN')]\n",
      "\n",
      "Word: \" CSV \" Vanilla viterbi Tag:  [('CSV', '.')]  Modified Viterbi Tag:  [('CSV', 'NOUN')]\n",
      "\n",
      "Word: \" Clemens \" Vanilla viterbi Tag:  [('Clemens', '.')]  Modified Viterbi Tag:  [('Clemens', 'NOUN')]\n",
      "\n",
      "Word: \" ' \" Vanilla viterbi Tag:  [(\"'\", '.')]  Modified Viterbi Tag:  [(\"'\", '.')]\n",
      "\n",
      "Word: \" Anglia \" Vanilla viterbi Tag:  [('Anglia', '.')]  Modified Viterbi Tag:  [('Anglia', 'NOUN')]\n",
      "\n",
      "Word: \" Miklos \" Vanilla viterbi Tag:  [('Miklos', '.')]  Modified Viterbi Tag:  [('Miklos', 'NOUN')]\n",
      "\n",
      "Word: \" sum \" Vanilla viterbi Tag:  [('sum', '.')]  Modified Viterbi Tag:  [('sum', 'NOUN')]\n",
      "\n",
      "Word: \" crapshoot \" Vanilla viterbi Tag:  [('crapshoot', '.')]  Modified Viterbi Tag:  [('crapshoot', 'NOUN')]\n",
      "\n",
      "Word: \" Contra \" Vanilla viterbi Tag:  [('Contra', '.')]  Modified Viterbi Tag:  [('Contra', 'NOUN')]\n",
      "\n",
      "Word: \" complaining \" Vanilla viterbi Tag:  [('complaining', '.')]  Modified Viterbi Tag:  [('complaining', 'VERB')]\n",
      "\n",
      "Word: \" reopened \" Vanilla viterbi Tag:  [('reopened', '.')]  Modified Viterbi Tag:  [('reopened', 'VERB')]\n",
      "\n",
      "Word: \" 11.57 \" Vanilla viterbi Tag:  [('11.57', '.')]  Modified Viterbi Tag:  [('11.57', 'NUM')]\n",
      "\n",
      "Word: \" abolishing \" Vanilla viterbi Tag:  [('abolishing', '.')]  Modified Viterbi Tag:  [('abolishing', 'VERB')]\n",
      "\n",
      "Word: \" wave \" Vanilla viterbi Tag:  [('wave', '.')]  Modified Viterbi Tag:  [('wave', 'NOUN')]\n",
      "\n",
      "Word: \" oversight \" Vanilla viterbi Tag:  [('oversight', '.')]  Modified Viterbi Tag:  [('oversight', 'NOUN')]\n",
      "\n",
      "Word: \" Andrea \" Vanilla viterbi Tag:  [('Andrea', '.')]  Modified Viterbi Tag:  [('Andrea', 'NOUN')]\n",
      "\n",
      "Word: \" 83 \" Vanilla viterbi Tag:  [('83', '.')]  Modified Viterbi Tag:  [('83', 'NUM')]\n",
      "\n",
      "Word: \" Delegates \" Vanilla viterbi Tag:  [('Delegates', '.')]  Modified Viterbi Tag:  [('Delegates', 'NOUN')]\n",
      "\n",
      "Word: \" *T*-185 \" Vanilla viterbi Tag:  [('*T*-185', '.')]  Modified Viterbi Tag:  [('*T*-185', 'X')]\n",
      "\n",
      "Word: \" Symbol \" Vanilla viterbi Tag:  [('Symbol', '.')]  Modified Viterbi Tag:  [('Symbol', 'NOUN')]\n",
      "\n",
      "Word: \" playgrounds \" Vanilla viterbi Tag:  [('playgrounds', '.')]  Modified Viterbi Tag:  [('playgrounds', 'NOUN')]\n",
      "\n",
      "Word: \" drawbacks \" Vanilla viterbi Tag:  [('drawbacks', '.')]  Modified Viterbi Tag:  [('drawbacks', 'NOUN')]\n",
      "\n",
      "Word: \" Dick \" Vanilla viterbi Tag:  [('Dick', '.')]  Modified Viterbi Tag:  [('Dick', 'NOUN')]\n",
      "\n",
      "Word: \" 133.7 \" Vanilla viterbi Tag:  [('133.7', '.')]  Modified Viterbi Tag:  [('133.7', 'NUM')]\n",
      "\n",
      "Word: \" pharaohs \" Vanilla viterbi Tag:  [('pharaohs', '.')]  Modified Viterbi Tag:  [('pharaohs', 'NOUN')]\n",
      "\n",
      "Word: \" flood \" Vanilla viterbi Tag:  [('flood', '.')]  Modified Viterbi Tag:  [('flood', 'NOUN')]\n",
      "\n",
      "Word: \" Starting \" Vanilla viterbi Tag:  [('Starting', '.')]  Modified Viterbi Tag:  [('Starting', 'VERB')]\n",
      "\n",
      "Word: \" Bentsen \" Vanilla viterbi Tag:  [('Bentsen', '.')]  Modified Viterbi Tag:  [('Bentsen', 'NOUN')]\n",
      "\n",
      "Word: \" centralized \" Vanilla viterbi Tag:  [('centralized', '.')]  Modified Viterbi Tag:  [('centralized', 'VERB')]\n",
      "\n",
      "Word: \" species \" Vanilla viterbi Tag:  [('species', '.')]  Modified Viterbi Tag:  [('species', 'NOUN')]\n",
      "\n"
     ]
    },
    {
     "name": "stdout",
     "output_type": "stream",
     "text": [
      "Word: \" Brady \" Vanilla viterbi Tag:  [('Brady', '.')]  Modified Viterbi Tag:  [('Brady', 'NOUN')]\n",
      "\n",
      "Word: \" Taittinger \" Vanilla viterbi Tag:  [('Taittinger', '.')]  Modified Viterbi Tag:  [('Taittinger', 'NOUN')]\n",
      "\n",
      "Word: \" 96.4 \" Vanilla viterbi Tag:  [('96.4', '.')]  Modified Viterbi Tag:  [('96.4', 'NUM')]\n",
      "\n",
      "Word: \" Lloyd \" Vanilla viterbi Tag:  [('Lloyd', '.')]  Modified Viterbi Tag:  [('Lloyd', 'NOUN')]\n",
      "\n",
      "Word: \" Clarence \" Vanilla viterbi Tag:  [('Clarence', '.')]  Modified Viterbi Tag:  [('Clarence', 'NOUN')]\n",
      "\n",
      "Word: \" rounds \" Vanilla viterbi Tag:  [('rounds', '.')]  Modified Viterbi Tag:  [('rounds', 'NOUN')]\n",
      "\n",
      "Word: \" swelling \" Vanilla viterbi Tag:  [('swelling', '.')]  Modified Viterbi Tag:  [('swelling', 'VERB')]\n",
      "\n",
      "Word: \" 1,570 \" Vanilla viterbi Tag:  [('1,570', '.')]  Modified Viterbi Tag:  [('1,570', 'NUM')]\n",
      "\n",
      "Word: \" Sherwin \" Vanilla viterbi Tag:  [('Sherwin', '.')]  Modified Viterbi Tag:  [('Sherwin', 'NOUN')]\n",
      "\n",
      "Word: \" protein-1 \" Vanilla viterbi Tag:  [('protein-1', '.')]  Modified Viterbi Tag:  [('protein-1', 'NOUN')]\n",
      "\n",
      "Word: \" *T*-211 \" Vanilla viterbi Tag:  [('*T*-211', '.')]  Modified Viterbi Tag:  [('*T*-211', 'X')]\n",
      "\n",
      "Word: \" sentence \" Vanilla viterbi Tag:  [('sentence', '.')]  Modified Viterbi Tag:  [('sentence', 'NOUN')]\n",
      "\n",
      "Word: \" resumption \" Vanilla viterbi Tag:  [('resumption', '.')]  Modified Viterbi Tag:  [('resumption', 'NOUN')]\n",
      "\n",
      "Word: \" 89,500 \" Vanilla viterbi Tag:  [('89,500', '.')]  Modified Viterbi Tag:  [('89,500', 'NUM')]\n",
      "\n",
      "Word: \" 12.82 \" Vanilla viterbi Tag:  [('12.82', '.')]  Modified Viterbi Tag:  [('12.82', 'NUM')]\n",
      "\n",
      "Word: \" 126.1 \" Vanilla viterbi Tag:  [('126.1', '.')]  Modified Viterbi Tag:  [('126.1', 'NUM')]\n",
      "\n",
      "Word: \" witches \" Vanilla viterbi Tag:  [('witches', '.')]  Modified Viterbi Tag:  [('witches', 'NOUN')]\n",
      "\n",
      "Word: \" Legislation \" Vanilla viterbi Tag:  [('Legislation', '.')]  Modified Viterbi Tag:  [('Legislation', 'NOUN')]\n",
      "\n",
      "Word: \" existence \" Vanilla viterbi Tag:  [('existence', '.')]  Modified Viterbi Tag:  [('existence', 'NOUN')]\n",
      "\n",
      "Word: \" railcar \" Vanilla viterbi Tag:  [('railcar', '.')]  Modified Viterbi Tag:  [('railcar', 'NOUN')]\n",
      "\n",
      "Word: \" Comtes \" Vanilla viterbi Tag:  [('Comtes', '.')]  Modified Viterbi Tag:  [('Comtes', 'NOUN')]\n",
      "\n",
      "Word: \" descending \" Vanilla viterbi Tag:  [('descending', '.')]  Modified Viterbi Tag:  [('descending', 'VERB')]\n",
      "\n",
      "Word: \" drooled \" Vanilla viterbi Tag:  [('drooled', '.')]  Modified Viterbi Tag:  [('drooled', 'VERB')]\n",
      "\n",
      "Word: \" brushed \" Vanilla viterbi Tag:  [('brushed', '.')]  Modified Viterbi Tag:  [('brushed', 'VERB')]\n",
      "\n",
      "Word: \" happening \" Vanilla viterbi Tag:  [('happening', '.')]  Modified Viterbi Tag:  [('happening', 'VERB')]\n",
      "\n",
      "Word: \" relaunched \" Vanilla viterbi Tag:  [('relaunched', '.')]  Modified Viterbi Tag:  [('relaunched', 'VERB')]\n",
      "\n",
      "Word: \" Payouts \" Vanilla viterbi Tag:  [('Payouts', '.')]  Modified Viterbi Tag:  [('Payouts', 'NOUN')]\n",
      "\n",
      "Word: \" assisted \" Vanilla viterbi Tag:  [('assisted', '.')]  Modified Viterbi Tag:  [('assisted', 'VERB')]\n",
      "\n",
      "Word: \" Gingl \" Vanilla viterbi Tag:  [('Gingl', '.')]  Modified Viterbi Tag:  [('Gingl', 'NOUN')]\n",
      "\n",
      "Word: \" Excision \" Vanilla viterbi Tag:  [('Excision', '.')]  Modified Viterbi Tag:  [('Excision', 'NOUN')]\n",
      "\n",
      "Word: \" Day \" Vanilla viterbi Tag:  [('Day', '.')]  Modified Viterbi Tag:  [('Day', 'NOUN')]\n",
      "\n",
      "Word: \" Wallach \" Vanilla viterbi Tag:  [('Wallach', '.')]  Modified Viterbi Tag:  [('Wallach', 'NOUN')]\n",
      "\n",
      "Word: \" Wertheim \" Vanilla viterbi Tag:  [('Wertheim', '.')]  Modified Viterbi Tag:  [('Wertheim', 'NOUN')]\n",
      "\n",
      "Word: \" Schroder \" Vanilla viterbi Tag:  [('Schroder', '.')]  Modified Viterbi Tag:  [('Schroder', 'NOUN')]\n",
      "\n",
      "Word: \" two-sevenths \" Vanilla viterbi Tag:  [('two-sevenths', '.')]  Modified Viterbi Tag:  [('two-sevenths', 'NOUN')]\n",
      "\n",
      "Word: \" ballots \" Vanilla viterbi Tag:  [('ballots', '.')]  Modified Viterbi Tag:  [('ballots', 'NOUN')]\n",
      "\n",
      "Word: \" platforms \" Vanilla viterbi Tag:  [('platforms', '.')]  Modified Viterbi Tag:  [('platforms', 'NOUN')]\n",
      "\n",
      "Word: \" disruption \" Vanilla viterbi Tag:  [('disruption', '.')]  Modified Viterbi Tag:  [('disruption', 'NOUN')]\n",
      "\n",
      "Word: \" Results \" Vanilla viterbi Tag:  [('Results', '.')]  Modified Viterbi Tag:  [('Results', 'NOUN')]\n",
      "\n",
      "Word: \" bribing \" Vanilla viterbi Tag:  [('bribing', '.')]  Modified Viterbi Tag:  [('bribing', 'VERB')]\n",
      "\n",
      "Word: \" 3.01 \" Vanilla viterbi Tag:  [('3.01', '.')]  Modified Viterbi Tag:  [('3.01', 'NUM')]\n",
      "\n",
      "Word: \" Ketchum \" Vanilla viterbi Tag:  [('Ketchum', '.')]  Modified Viterbi Tag:  [('Ketchum', 'NOUN')]\n",
      "\n",
      "Word: \" shift \" Vanilla viterbi Tag:  [('shift', '.')]  Modified Viterbi Tag:  [('shift', 'NOUN')]\n",
      "\n",
      "Word: \" counting \" Vanilla viterbi Tag:  [('counting', '.')]  Modified Viterbi Tag:  [('counting', 'VERB')]\n",
      "\n",
      "Word: \" *T*-232 \" Vanilla viterbi Tag:  [('*T*-232', '.')]  Modified Viterbi Tag:  [('*T*-232', 'X')]\n",
      "\n",
      "Word: \" authorized \" Vanilla viterbi Tag:  [('authorized', '.')]  Modified Viterbi Tag:  [('authorized', 'VERB')]\n",
      "\n",
      "Word: \" Biaggi \" Vanilla viterbi Tag:  [('Biaggi', '.')]  Modified Viterbi Tag:  [('Biaggi', 'NOUN')]\n",
      "\n",
      "Word: \" Warehouse \" Vanilla viterbi Tag:  [('Warehouse', '.')]  Modified Viterbi Tag:  [('Warehouse', 'NOUN')]\n",
      "\n",
      "Word: \" Speedway \" Vanilla viterbi Tag:  [('Speedway', '.')]  Modified Viterbi Tag:  [('Speedway', 'NOUN')]\n",
      "\n",
      "Word: \" nickname \" Vanilla viterbi Tag:  [('nickname', '.')]  Modified Viterbi Tag:  [('nickname', 'NOUN')]\n",
      "\n",
      "Word: \" Demand \" Vanilla viterbi Tag:  [('Demand', '.')]  Modified Viterbi Tag:  [('Demand', 'NOUN')]\n",
      "\n",
      "Word: \" 7.62 \" Vanilla viterbi Tag:  [('7.62', '.')]  Modified Viterbi Tag:  [('7.62', 'NUM')]\n",
      "\n",
      "Word: \" Fortune \" Vanilla viterbi Tag:  [('Fortune', '.')]  Modified Viterbi Tag:  [('Fortune', 'NOUN')]\n",
      "\n",
      "Word: \" Meese \" Vanilla viterbi Tag:  [('Meese', '.')]  Modified Viterbi Tag:  [('Meese', 'NOUN')]\n",
      "\n",
      "Word: \" belfries \" Vanilla viterbi Tag:  [('belfries', '.')]  Modified Viterbi Tag:  [('belfries', 'NOUN')]\n",
      "\n",
      "Word: \" trees \" Vanilla viterbi Tag:  [('trees', '.')]  Modified Viterbi Tag:  [('trees', 'NOUN')]\n",
      "\n",
      "Word: \" petroleum \" Vanilla viterbi Tag:  [('petroleum', '.')]  Modified Viterbi Tag:  [('petroleum', 'NOUN')]\n",
      "\n",
      "Word: \" cane \" Vanilla viterbi Tag:  [('cane', '.')]  Modified Viterbi Tag:  [('cane', 'NOUN')]\n",
      "\n",
      "Word: \" 46.1 \" Vanilla viterbi Tag:  [('46.1', '.')]  Modified Viterbi Tag:  [('46.1', 'NUM')]\n",
      "\n",
      "Word: \" Nicholas \" Vanilla viterbi Tag:  [('Nicholas', '.')]  Modified Viterbi Tag:  [('Nicholas', 'NOUN')]\n",
      "\n",
      "Word: \" 94 \" Vanilla viterbi Tag:  [('94', '.')]  Modified Viterbi Tag:  [('94', 'NUM')]\n",
      "\n",
      "Word: \" predicated \" Vanilla viterbi Tag:  [('predicated', '.')]  Modified Viterbi Tag:  [('predicated', 'VERB')]\n",
      "\n",
      "Word: \" encroaching \" Vanilla viterbi Tag:  [('encroaching', '.')]  Modified Viterbi Tag:  [('encroaching', 'VERB')]\n",
      "\n",
      "Word: \" traced \" Vanilla viterbi Tag:  [('traced', '.')]  Modified Viterbi Tag:  [('traced', 'VERB')]\n",
      "\n",
      "Word: \" tightening \" Vanilla viterbi Tag:  [('tightening', '.')]  Modified Viterbi Tag:  [('tightening', 'VERB')]\n",
      "\n",
      "Word: \" labeling \" Vanilla viterbi Tag:  [('labeling', '.')]  Modified Viterbi Tag:  [('labeling', 'VERB')]\n",
      "\n",
      "Word: \" Gelles \" Vanilla viterbi Tag:  [('Gelles', '.')]  Modified Viterbi Tag:  [('Gelles', 'NOUN')]\n",
      "\n",
      "Word: \" Solaia \" Vanilla viterbi Tag:  [('Solaia', '.')]  Modified Viterbi Tag:  [('Solaia', 'NOUN')]\n",
      "\n",
      "Word: \" *T*-164 \" Vanilla viterbi Tag:  [('*T*-164', '.')]  Modified Viterbi Tag:  [('*T*-164', 'X')]\n",
      "\n",
      "Word: \" traffic \" Vanilla viterbi Tag:  [('traffic', '.')]  Modified Viterbi Tag:  [('traffic', 'NOUN')]\n",
      "\n",
      "Word: \" busloads \" Vanilla viterbi Tag:  [('busloads', '.')]  Modified Viterbi Tag:  [('busloads', 'NOUN')]\n",
      "\n",
      "Word: \" provoked \" Vanilla viterbi Tag:  [('provoked', '.')]  Modified Viterbi Tag:  [('provoked', 'VERB')]\n",
      "\n",
      "Word: \" 909 \" Vanilla viterbi Tag:  [('909', '.')]  Modified Viterbi Tag:  [('909', 'NUM')]\n",
      "\n",
      "Word: \" *T*-260 \" Vanilla viterbi Tag:  [('*T*-260', '.')]  Modified Viterbi Tag:  [('*T*-260', 'X')]\n",
      "\n",
      "Word: \" 99.1 \" Vanilla viterbi Tag:  [('99.1', '.')]  Modified Viterbi Tag:  [('99.1', 'NUM')]\n",
      "\n",
      "Word: \" Brands \" Vanilla viterbi Tag:  [('Brands', '.')]  Modified Viterbi Tag:  [('Brands', 'NOUN')]\n",
      "\n",
      "Word: \" ensnarled \" Vanilla viterbi Tag:  [('ensnarled', '.')]  Modified Viterbi Tag:  [('ensnarled', 'VERB')]\n",
      "\n",
      "Word: \" Braun \" Vanilla viterbi Tag:  [('Braun', '.')]  Modified Viterbi Tag:  [('Braun', 'NOUN')]\n",
      "\n"
     ]
    },
    {
     "name": "stdout",
     "output_type": "stream",
     "text": [
      "Word: \" Morrell \" Vanilla viterbi Tag:  [('Morrell', '.')]  Modified Viterbi Tag:  [('Morrell', 'NOUN')]\n",
      "\n",
      "Word: \" insurgents \" Vanilla viterbi Tag:  [('insurgents', '.')]  Modified Viterbi Tag:  [('insurgents', 'NOUN')]\n",
      "\n",
      "Word: \" Form \" Vanilla viterbi Tag:  [('Form', '.')]  Modified Viterbi Tag:  [('Form', 'NOUN')]\n",
      "\n",
      "Word: \" marketing-communications \" Vanilla viterbi Tag:  [('marketing-communications', '.')]  Modified Viterbi Tag:  [('marketing-communications', 'NOUN')]\n",
      "\n",
      "Word: \" chicago \" Vanilla viterbi Tag:  [('chicago', '.')]  Modified Viterbi Tag:  [('chicago', 'NOUN')]\n",
      "\n",
      "Word: \" formation \" Vanilla viterbi Tag:  [('formation', '.')]  Modified Viterbi Tag:  [('formation', 'NOUN')]\n",
      "\n",
      "Word: \" Angelo \" Vanilla viterbi Tag:  [('Angelo', '.')]  Modified Viterbi Tag:  [('Angelo', 'NOUN')]\n",
      "\n",
      "Word: \" dams \" Vanilla viterbi Tag:  [('dams', '.')]  Modified Viterbi Tag:  [('dams', 'NOUN')]\n",
      "\n",
      "Word: \" notched \" Vanilla viterbi Tag:  [('notched', '.')]  Modified Viterbi Tag:  [('notched', 'VERB')]\n",
      "\n",
      "Word: \" 737.5 \" Vanilla viterbi Tag:  [('737.5', '.')]  Modified Viterbi Tag:  [('737.5', 'NUM')]\n",
      "\n",
      "Word: \" Customers \" Vanilla viterbi Tag:  [('Customers', '.')]  Modified Viterbi Tag:  [('Customers', 'NOUN')]\n",
      "\n",
      "Word: \" TREASURY \" Vanilla viterbi Tag:  [('TREASURY', '.')]  Modified Viterbi Tag:  [('TREASURY', 'NOUN')]\n",
      "\n",
      "Word: \" observance \" Vanilla viterbi Tag:  [('observance', '.')]  Modified Viterbi Tag:  [('observance', 'NOUN')]\n",
      "\n",
      "Word: \" direct \" Vanilla viterbi Tag:  [('direct', 'ADJ')]  Modified Viterbi Tag:  [('direct', 'ADJ')]\n",
      "\n",
      "Word: \" rebel \" Vanilla viterbi Tag:  [('rebel', '.')]  Modified Viterbi Tag:  [('rebel', 'NOUN')]\n",
      "\n",
      "Word: \" document \" Vanilla viterbi Tag:  [('document', '.')]  Modified Viterbi Tag:  [('document', 'NOUN')]\n",
      "\n",
      "Word: \" Trailer \" Vanilla viterbi Tag:  [('Trailer', '.')]  Modified Viterbi Tag:  [('Trailer', 'NOUN')]\n",
      "\n",
      "Word: \" Bar \" Vanilla viterbi Tag:  [('Bar', '.')]  Modified Viterbi Tag:  [('Bar', 'NOUN')]\n",
      "\n",
      "Word: \" shivers \" Vanilla viterbi Tag:  [('shivers', '.')]  Modified Viterbi Tag:  [('shivers', 'NOUN')]\n",
      "\n",
      "Word: \" delisted \" Vanilla viterbi Tag:  [('delisted', '.')]  Modified Viterbi Tag:  [('delisted', 'VERB')]\n",
      "\n",
      "Word: \" busiest \" Vanilla viterbi Tag:  [('busiest', '.')]  Modified Viterbi Tag:  [('busiest', 'ADJ')]\n",
      "\n",
      "Word: \" fleet \" Vanilla viterbi Tag:  [('fleet', '.')]  Modified Viterbi Tag:  [('fleet', 'NOUN')]\n",
      "\n",
      "Word: \" launch-vehicle \" Vanilla viterbi Tag:  [('launch-vehicle', '.')]  Modified Viterbi Tag:  [('launch-vehicle', 'NOUN')]\n",
      "\n",
      "Word: \" Shell \" Vanilla viterbi Tag:  [('Shell', '.')]  Modified Viterbi Tag:  [('Shell', 'NOUN')]\n",
      "\n",
      "Word: \" passions \" Vanilla viterbi Tag:  [('passions', '.')]  Modified Viterbi Tag:  [('passions', 'NOUN')]\n",
      "\n",
      "Word: \" memo \" Vanilla viterbi Tag:  [('memo', '.')]  Modified Viterbi Tag:  [('memo', 'NOUN')]\n",
      "\n",
      "Word: \" Nemeth \" Vanilla viterbi Tag:  [('Nemeth', '.')]  Modified Viterbi Tag:  [('Nemeth', 'NOUN')]\n",
      "\n",
      "Word: \" synchronized \" Vanilla viterbi Tag:  [('synchronized', '.')]  Modified Viterbi Tag:  [('synchronized', 'VERB')]\n",
      "\n",
      "Word: \" *-129 \" Vanilla viterbi Tag:  [('*-129', '.')]  Modified Viterbi Tag:  [('*-129', 'X')]\n",
      "\n",
      "Word: \" Texan \" Vanilla viterbi Tag:  [('Texan', '.')]  Modified Viterbi Tag:  [('Texan', 'NOUN')]\n",
      "\n",
      "Word: \" escort \" Vanilla viterbi Tag:  [('escort', '.')]  Modified Viterbi Tag:  [('escort', 'NOUN')]\n",
      "\n",
      "Word: \" WTVJ \" Vanilla viterbi Tag:  [('WTVJ', '.')]  Modified Viterbi Tag:  [('WTVJ', 'NOUN')]\n",
      "\n",
      "Word: \" Lobo \" Vanilla viterbi Tag:  [('Lobo', '.')]  Modified Viterbi Tag:  [('Lobo', 'NOUN')]\n",
      "\n",
      "Word: \" Gaja \" Vanilla viterbi Tag:  [('Gaja', '.')]  Modified Viterbi Tag:  [('Gaja', 'NOUN')]\n",
      "\n",
      "Word: \" boogieman \" Vanilla viterbi Tag:  [('boogieman', '.')]  Modified Viterbi Tag:  [('boogieman', 'NOUN')]\n",
      "\n",
      "Word: \" schemes \" Vanilla viterbi Tag:  [('schemes', '.')]  Modified Viterbi Tag:  [('schemes', 'NOUN')]\n",
      "\n",
      "Word: \" verge \" Vanilla viterbi Tag:  [('verge', '.')]  Modified Viterbi Tag:  [('verge', 'NOUN')]\n",
      "\n",
      "Word: \" schoolboys \" Vanilla viterbi Tag:  [('schoolboys', '.')]  Modified Viterbi Tag:  [('schoolboys', 'NOUN')]\n",
      "\n",
      "Word: \" *-115 \" Vanilla viterbi Tag:  [('*-115', '.')]  Modified Viterbi Tag:  [('*-115', 'X')]\n",
      "\n",
      "Word: \" ethanol \" Vanilla viterbi Tag:  [('ethanol', '.')]  Modified Viterbi Tag:  [('ethanol', 'NOUN')]\n",
      "\n",
      "Word: \" Datapoint \" Vanilla viterbi Tag:  [('Datapoint', '.')]  Modified Viterbi Tag:  [('Datapoint', 'NOUN')]\n",
      "\n",
      "Word: \" engines \" Vanilla viterbi Tag:  [('engines', '.')]  Modified Viterbi Tag:  [('engines', 'NOUN')]\n",
      "\n",
      "Word: \" merits \" Vanilla viterbi Tag:  [('merits', '.')]  Modified Viterbi Tag:  [('merits', 'NOUN')]\n",
      "\n",
      "Word: \" liabilities \" Vanilla viterbi Tag:  [('liabilities', '.')]  Modified Viterbi Tag:  [('liabilities', 'NOUN')]\n",
      "\n",
      "Word: \" 1.85 \" Vanilla viterbi Tag:  [('1.85', '.')]  Modified Viterbi Tag:  [('1.85', 'NUM')]\n",
      "\n",
      "Word: \" octogenarians \" Vanilla viterbi Tag:  [('octogenarians', '.')]  Modified Viterbi Tag:  [('octogenarians', 'NOUN')]\n",
      "\n",
      "Word: \" Book \" Vanilla viterbi Tag:  [('Book', '.')]  Modified Viterbi Tag:  [('Book', 'NOUN')]\n",
      "\n",
      "Word: \" knocked \" Vanilla viterbi Tag:  [('knocked', '.')]  Modified Viterbi Tag:  [('knocked', 'VERB')]\n",
      "\n",
      "Word: \" self \" Vanilla viterbi Tag:  [('self', '.')]  Modified Viterbi Tag:  [('self', 'NOUN')]\n",
      "\n",
      "Word: \" correcting \" Vanilla viterbi Tag:  [('correcting', '.')]  Modified Viterbi Tag:  [('correcting', 'VERB')]\n",
      "\n",
      "Word: \" 16.2 \" Vanilla viterbi Tag:  [('16.2', '.')]  Modified Viterbi Tag:  [('16.2', 'NUM')]\n",
      "\n",
      "Word: \" schedule \" Vanilla viterbi Tag:  [('schedule', '.')]  Modified Viterbi Tag:  [('schedule', 'NOUN')]\n",
      "\n",
      "Word: \" Tire \" Vanilla viterbi Tag:  [('Tire', '.')]  Modified Viterbi Tag:  [('Tire', 'NOUN')]\n",
      "\n",
      "Word: \" Piero \" Vanilla viterbi Tag:  [('Piero', '.')]  Modified Viterbi Tag:  [('Piero', 'NOUN')]\n",
      "\n",
      "Word: \" three-sevenths \" Vanilla viterbi Tag:  [('three-sevenths', '.')]  Modified Viterbi Tag:  [('three-sevenths', 'NOUN')]\n",
      "\n",
      "Word: \" refinery \" Vanilla viterbi Tag:  [('refinery', '.')]  Modified Viterbi Tag:  [('refinery', 'NOUN')]\n",
      "\n",
      "Word: \" *T*-236 \" Vanilla viterbi Tag:  [('*T*-236', '.')]  Modified Viterbi Tag:  [('*T*-236', 'X')]\n",
      "\n",
      "Word: \" contributors \" Vanilla viterbi Tag:  [('contributors', '.')]  Modified Viterbi Tag:  [('contributors', 'NOUN')]\n",
      "\n",
      "Word: \" Antinori \" Vanilla viterbi Tag:  [('Antinori', '.')]  Modified Viterbi Tag:  [('Antinori', 'NOUN')]\n",
      "\n",
      "Word: \" taxpayer \" Vanilla viterbi Tag:  [('taxpayer', '.')]  Modified Viterbi Tag:  [('taxpayer', 'NOUN')]\n",
      "\n",
      "Word: \" qualities \" Vanilla viterbi Tag:  [('qualities', '.')]  Modified Viterbi Tag:  [('qualities', 'NOUN')]\n",
      "\n",
      "Word: \" 2,303,328 \" Vanilla viterbi Tag:  [('2,303,328', '.')]  Modified Viterbi Tag:  [('2,303,328', 'NUM')]\n",
      "\n",
      "Word: \" editions \" Vanilla viterbi Tag:  [('editions', '.')]  Modified Viterbi Tag:  [('editions', 'NOUN')]\n",
      "\n",
      "Word: \" inside \" Vanilla viterbi Tag:  [('inside', '.')]  Modified Viterbi Tag:  [('inside', 'NOUN')]\n",
      "\n",
      "Word: \" Asher \" Vanilla viterbi Tag:  [('Asher', '.')]  Modified Viterbi Tag:  [('Asher', 'NOUN')]\n",
      "\n",
      "Word: \" Honduras \" Vanilla viterbi Tag:  [('Honduras', '.')]  Modified Viterbi Tag:  [('Honduras', 'NOUN')]\n",
      "\n",
      "Word: \" Beige \" Vanilla viterbi Tag:  [('Beige', '.')]  Modified Viterbi Tag:  [('Beige', 'NOUN')]\n",
      "\n",
      "Word: \" 94.2 \" Vanilla viterbi Tag:  [('94.2', '.')]  Modified Viterbi Tag:  [('94.2', 'NUM')]\n",
      "\n",
      "Word: \" BILLS \" Vanilla viterbi Tag:  [('BILLS', '.')]  Modified Viterbi Tag:  [('BILLS', 'NOUN')]\n",
      "\n",
      "Word: \" sky \" Vanilla viterbi Tag:  [('sky', '.')]  Modified Viterbi Tag:  [('sky', 'NOUN')]\n",
      "\n",
      "Word: \" indictment \" Vanilla viterbi Tag:  [('indictment', '.')]  Modified Viterbi Tag:  [('indictment', 'NOUN')]\n",
      "\n",
      "Word: \" Train \" Vanilla viterbi Tag:  [('Train', '.')]  Modified Viterbi Tag:  [('Train', 'NOUN')]\n",
      "\n",
      "Word: \" riders \" Vanilla viterbi Tag:  [('riders', '.')]  Modified Viterbi Tag:  [('riders', 'NOUN')]\n",
      "\n",
      "Word: \" homework \" Vanilla viterbi Tag:  [('homework', '.')]  Modified Viterbi Tag:  [('homework', 'NOUN')]\n",
      "\n",
      "Word: \" Mario \" Vanilla viterbi Tag:  [('Mario', '.')]  Modified Viterbi Tag:  [('Mario', 'NOUN')]\n",
      "\n",
      "Word: \" NYSE \" Vanilla viterbi Tag:  [('NYSE', '.')]  Modified Viterbi Tag:  [('NYSE', 'NOUN')]\n",
      "\n",
      "Word: \" 2.6 \" Vanilla viterbi Tag:  [('2.6', '.')]  Modified Viterbi Tag:  [('2.6', 'NUM')]\n",
      "\n"
     ]
    }
   ],
   "source": [
    "for word in (incorrect_tagged_words_vanilla-incorrect_tagged_rulebased):\n",
    "    print('Word: \"',word,'\" Vanilla viterbi Tag: ',Vanilla_Viterbi([word]),' Modified Viterbi Tag: ',Modified_Viterbi_Rule_Based([word],custom_tagger=rule_based_tagger))\n",
    "    print()\n",
    "    "
   ]
  },
  {
   "cell_type": "markdown",
   "metadata": {},
   "source": [
    "#### 8.1.2 Improved cases with the help of rule based technique(Approach 1) on sample test set:"
   ]
  },
  {
   "cell_type": "markdown",
   "metadata": {},
   "source": [
    "<B><I>Identifying tokens of test file</I></B>"
   ]
  },
  {
   "cell_type": "code",
   "execution_count": 76,
   "metadata": {},
   "outputs": [
    {
     "name": "stdout",
     "output_type": "stream",
     "text": [
      "{'as', 'post', 'domineering', 'OS', 'The', 'Android', 'Trump', '2013', 'This', 'I', 'an', 'mobile', 'would', 'ICESAT-2', 'firehose', 'social', 'Show', 'deal', 'time', 'arriving', 'Donald', 'users', 'trips', 'from', 'operating', '.', 'Eastern', 'round', '11th', 'which', 'online', 'tweets', 'media', 'of', 'by', '2011', 'flights', 'to', 'leaving', 'with', 'four', 'FIFA', 'the', 'networking', 'tournament', 'Francisco', 'Twitter', 'television', 'held', 'been', 'cheapest', 'gave', 'it', 'Google', ',', 'first', 'be', 'personality', 'international', 'and', 'on', 'in', 'Before', 'a', 'at', 'years', 'Dallas', 'San', 'about', 'contested', 'once', '3', 'smartphones', 'is', 'system', 'World', 'service', 'NASA', 'Europe', 'worldwide', 'since', '2018', 'football', 'has', 'like', 'businessman', 'entering', 'see', 'Atlanta', 'made', 'experience', 'Philadelphia', 'Denver', '2015', 'messages', '21st', 'invited', 'developed', 'me', 'news', 'launch', \"'s\", 'interact', 'afternoon', 'known', 'Cup', 'access', 'every', 'tablets', 'best-selling', 'that', 'politics', 'price', 'was', 'Satellite'}\n"
     ]
    }
   ],
   "source": [
    "file_content = open(test_file).read()\n",
    "test_vocabulary = set(nltk.word_tokenize(file_content))\n",
    "print(test_vocabulary)"
   ]
  },
  {
   "cell_type": "markdown",
   "metadata": {},
   "source": [
    "<B><I>Finding unknown words by comparing test and train tokens</I></B>"
   ]
  },
  {
   "cell_type": "code",
   "execution_count": 77,
   "metadata": {
    "scrolled": true
   },
   "outputs": [
    {
     "data": {
      "text/plain": [
       "{'2011',\n",
       " '2013',\n",
       " '2015',\n",
       " '2018',\n",
       " '21st',\n",
       " 'Android',\n",
       " 'Cup',\n",
       " 'FIFA',\n",
       " 'Google',\n",
       " 'ICESAT-2',\n",
       " 'NASA',\n",
       " 'OS',\n",
       " 'Satellite',\n",
       " 'Twitter',\n",
       " 'arriving',\n",
       " 'contested',\n",
       " 'domineering',\n",
       " 'firehose',\n",
       " 'interact',\n",
       " 'invited',\n",
       " 'messages',\n",
       " 'online',\n",
       " 'personality',\n",
       " 'smartphones',\n",
       " 'tournament',\n",
       " 'trips',\n",
       " 'tweets',\n",
       " 'worldwide'}"
      ]
     },
     "execution_count": 77,
     "metadata": {},
     "output_type": "execute_result"
    }
   ],
   "source": [
    "unknown_test_app=test_vocabulary.difference(train_vocabulary)\n",
    "unknown_test_app"
   ]
  },
  {
   "cell_type": "markdown",
   "metadata": {},
   "source": [
    "<B><I>Checking tags done by modification on viterbi</I></B>\n",
    "<a id='Rule_Based_Cases'></a>"
   ]
  },
  {
   "cell_type": "code",
   "execution_count": 78,
   "metadata": {},
   "outputs": [
    {
     "name": "stdout",
     "output_type": "stream",
     "text": [
      "Word: \" online \" Vanilla viterbi Tag:  [('online', '.')]  Modified Viterbi Tag:  [('online', 'NOUN')]\n",
      "\n",
      "Word: \" tweets \" Vanilla viterbi Tag:  [('tweets', '.')]  Modified Viterbi Tag:  [('tweets', 'NOUN')]\n",
      "\n",
      "Word: \" domineering \" Vanilla viterbi Tag:  [('domineering', '.')]  Modified Viterbi Tag:  [('domineering', 'VERB')]\n",
      "\n",
      "Word: \" 2011 \" Vanilla viterbi Tag:  [('2011', '.')]  Modified Viterbi Tag:  [('2011', 'NUM')]\n",
      "\n",
      "Word: \" OS \" Vanilla viterbi Tag:  [('OS', '.')]  Modified Viterbi Tag:  [('OS', 'NOUN')]\n",
      "\n",
      "Word: \" Android \" Vanilla viterbi Tag:  [('Android', '.')]  Modified Viterbi Tag:  [('Android', 'NOUN')]\n",
      "\n",
      "Word: \" contested \" Vanilla viterbi Tag:  [('contested', '.')]  Modified Viterbi Tag:  [('contested', 'VERB')]\n",
      "\n",
      "Word: \" 2015 \" Vanilla viterbi Tag:  [('2015', '.')]  Modified Viterbi Tag:  [('2015', 'NUM')]\n",
      "\n",
      "Word: \" messages \" Vanilla viterbi Tag:  [('messages', '.')]  Modified Viterbi Tag:  [('messages', 'NOUN')]\n",
      "\n",
      "Word: \" 2013 \" Vanilla viterbi Tag:  [('2013', '.')]  Modified Viterbi Tag:  [('2013', 'NUM')]\n",
      "\n",
      "Word: \" 21st \" Vanilla viterbi Tag:  [('21st', '.')]  Modified Viterbi Tag:  [('21st', 'NOUN')]\n",
      "\n",
      "Word: \" invited \" Vanilla viterbi Tag:  [('invited', '.')]  Modified Viterbi Tag:  [('invited', 'VERB')]\n",
      "\n",
      "Word: \" smartphones \" Vanilla viterbi Tag:  [('smartphones', '.')]  Modified Viterbi Tag:  [('smartphones', 'NOUN')]\n",
      "\n",
      "Word: \" FIFA \" Vanilla viterbi Tag:  [('FIFA', '.')]  Modified Viterbi Tag:  [('FIFA', 'NOUN')]\n",
      "\n",
      "Word: \" NASA \" Vanilla viterbi Tag:  [('NASA', '.')]  Modified Viterbi Tag:  [('NASA', 'NOUN')]\n",
      "\n",
      "Word: \" tournament \" Vanilla viterbi Tag:  [('tournament', '.')]  Modified Viterbi Tag:  [('tournament', 'NOUN')]\n",
      "\n",
      "Word: \" Twitter \" Vanilla viterbi Tag:  [('Twitter', '.')]  Modified Viterbi Tag:  [('Twitter', 'NOUN')]\n",
      "\n",
      "Word: \" worldwide \" Vanilla viterbi Tag:  [('worldwide', '.')]  Modified Viterbi Tag:  [('worldwide', 'NOUN')]\n",
      "\n",
      "Word: \" ICESAT-2 \" Vanilla viterbi Tag:  [('ICESAT-2', '.')]  Modified Viterbi Tag:  [('ICESAT-2', 'NOUN')]\n",
      "\n",
      "Word: \" interact \" Vanilla viterbi Tag:  [('interact', '.')]  Modified Viterbi Tag:  [('interact', 'NOUN')]\n",
      "\n",
      "Word: \" firehose \" Vanilla viterbi Tag:  [('firehose', '.')]  Modified Viterbi Tag:  [('firehose', 'NOUN')]\n",
      "\n",
      "Word: \" 2018 \" Vanilla viterbi Tag:  [('2018', '.')]  Modified Viterbi Tag:  [('2018', 'NUM')]\n",
      "\n",
      "Word: \" Cup \" Vanilla viterbi Tag:  [('Cup', '.')]  Modified Viterbi Tag:  [('Cup', 'NOUN')]\n",
      "\n",
      "Word: \" arriving \" Vanilla viterbi Tag:  [('arriving', '.')]  Modified Viterbi Tag:  [('arriving', 'VERB')]\n",
      "\n",
      "Word: \" Google \" Vanilla viterbi Tag:  [('Google', '.')]  Modified Viterbi Tag:  [('Google', 'NOUN')]\n",
      "\n",
      "Word: \" personality \" Vanilla viterbi Tag:  [('personality', '.')]  Modified Viterbi Tag:  [('personality', 'NOUN')]\n",
      "\n",
      "Word: \" trips \" Vanilla viterbi Tag:  [('trips', '.')]  Modified Viterbi Tag:  [('trips', 'NOUN')]\n",
      "\n",
      "Word: \" Satellite \" Vanilla viterbi Tag:  [('Satellite', '.')]  Modified Viterbi Tag:  [('Satellite', 'NOUN')]\n",
      "\n"
     ]
    }
   ],
   "source": [
    "for word in (unknown_test_app):\n",
    "    print('Word: \"',word,'\" Vanilla viterbi Tag: ',Vanilla_Viterbi([word]),' Modified Viterbi Tag: ',Modified_Viterbi_Rule_Based([word],custom_tagger=rule_based_tagger))\n",
    "    print()"
   ]
  },
  {
   "cell_type": "markdown",
   "metadata": {},
   "source": [
    "### 8.2 Modification Approach 2"
   ]
  },
  {
   "cell_type": "markdown",
   "metadata": {},
   "source": [
    "#### 8.1.1 Improved cases with the help of transition probability technique(Approach 2) on validation set:"
   ]
  },
  {
   "cell_type": "code",
   "execution_count": 79,
   "metadata": {},
   "outputs": [
    {
     "name": "stdout",
     "output_type": "stream",
     "text": [
      "Word: \" 1,298 \" Vanilla viterbi Tag:  [('1,298', '.')]  Modified Viterbi Tag:  [('1,298', 'NOUN')]\n",
      "\n",
      "Word: \" Attorney \" Vanilla viterbi Tag:  [('Attorney', '.')]  Modified Viterbi Tag:  [('Attorney', 'NOUN')]\n",
      "\n",
      "Word: \" 107.9 \" Vanilla viterbi Tag:  [('107.9', '.')]  Modified Viterbi Tag:  [('107.9', 'NOUN')]\n",
      "\n",
      "Word: \" computer-services \" Vanilla viterbi Tag:  [('computer-services', '.')]  Modified Viterbi Tag:  [('computer-services', 'NOUN')]\n",
      "\n",
      "Word: \" *T*-172 \" Vanilla viterbi Tag:  [('*T*-172', '.')]  Modified Viterbi Tag:  [('*T*-172', 'NOUN')]\n",
      "\n",
      "Word: \" Editorials \" Vanilla viterbi Tag:  [('Editorials', '.')]  Modified Viterbi Tag:  [('Editorials', 'NOUN')]\n",
      "\n",
      "Word: \" investor-relations \" Vanilla viterbi Tag:  [('investor-relations', '.')]  Modified Viterbi Tag:  [('investor-relations', 'NOUN')]\n",
      "\n",
      "Word: \" sufficiency \" Vanilla viterbi Tag:  [('sufficiency', '.')]  Modified Viterbi Tag:  [('sufficiency', 'NOUN')]\n",
      "\n",
      "Word: \" fashion \" Vanilla viterbi Tag:  [('fashion', '.')]  Modified Viterbi Tag:  [('fashion', 'NOUN')]\n",
      "\n",
      "Word: \" 7.78 \" Vanilla viterbi Tag:  [('7.78', '.')]  Modified Viterbi Tag:  [('7.78', 'NOUN')]\n",
      "\n",
      "Word: \" renewing \" Vanilla viterbi Tag:  [('renewing', '.')]  Modified Viterbi Tag:  [('renewing', 'NOUN')]\n",
      "\n",
      "Word: \" *T*-126 \" Vanilla viterbi Tag:  [('*T*-126', '.')]  Modified Viterbi Tag:  [('*T*-126', 'NOUN')]\n",
      "\n",
      "Word: \" Bucking \" Vanilla viterbi Tag:  [('Bucking', '.')]  Modified Viterbi Tag:  [('Bucking', 'NOUN')]\n",
      "\n",
      "Word: \" Barbaresco \" Vanilla viterbi Tag:  [('Barbaresco', '.')]  Modified Viterbi Tag:  [('Barbaresco', 'NOUN')]\n",
      "\n",
      "Word: \" muted \" Vanilla viterbi Tag:  [('muted', '.')]  Modified Viterbi Tag:  [('muted', 'NOUN')]\n",
      "\n",
      "Word: \" variation \" Vanilla viterbi Tag:  [('variation', '.')]  Modified Viterbi Tag:  [('variation', 'NOUN')]\n",
      "\n",
      "Word: \" searched \" Vanilla viterbi Tag:  [('searched', '.')]  Modified Viterbi Tag:  [('searched', 'NOUN')]\n",
      "\n",
      "Word: \" vagabond \" Vanilla viterbi Tag:  [('vagabond', '.')]  Modified Viterbi Tag:  [('vagabond', 'NOUN')]\n",
      "\n",
      "Word: \" championing \" Vanilla viterbi Tag:  [('championing', '.')]  Modified Viterbi Tag:  [('championing', 'NOUN')]\n",
      "\n",
      "Word: \" averaged \" Vanilla viterbi Tag:  [('averaged', '.')]  Modified Viterbi Tag:  [('averaged', 'NOUN')]\n",
      "\n",
      "Word: \" 170 \" Vanilla viterbi Tag:  [('170', '.')]  Modified Viterbi Tag:  [('170', 'NOUN')]\n",
      "\n",
      "Word: \" nullified \" Vanilla viterbi Tag:  [('nullified', '.')]  Modified Viterbi Tag:  [('nullified', 'NOUN')]\n",
      "\n",
      "Word: \" Showa \" Vanilla viterbi Tag:  [('Showa', '.')]  Modified Viterbi Tag:  [('Showa', 'NOUN')]\n",
      "\n",
      "Word: \" Rubber \" Vanilla viterbi Tag:  [('Rubber', '.')]  Modified Viterbi Tag:  [('Rubber', 'NOUN')]\n",
      "\n",
      "Word: \" Saints \" Vanilla viterbi Tag:  [('Saints', '.')]  Modified Viterbi Tag:  [('Saints', 'NOUN')]\n",
      "\n",
      "Word: \" *-128 \" Vanilla viterbi Tag:  [('*-128', '.')]  Modified Viterbi Tag:  [('*-128', 'NOUN')]\n",
      "\n",
      "Word: \" wives \" Vanilla viterbi Tag:  [('wives', '.')]  Modified Viterbi Tag:  [('wives', 'NOUN')]\n",
      "\n",
      "Word: \" condemning \" Vanilla viterbi Tag:  [('condemning', '.')]  Modified Viterbi Tag:  [('condemning', 'NOUN')]\n",
      "\n",
      "Word: \" Congressman \" Vanilla viterbi Tag:  [('Congressman', '.')]  Modified Viterbi Tag:  [('Congressman', 'NOUN')]\n",
      "\n",
      "Word: \" 60.36 \" Vanilla viterbi Tag:  [('60.36', '.')]  Modified Viterbi Tag:  [('60.36', 'NOUN')]\n",
      "\n",
      "Word: \" overused \" Vanilla viterbi Tag:  [('overused', '.')]  Modified Viterbi Tag:  [('overused', 'NOUN')]\n",
      "\n",
      "Word: \" Carbide \" Vanilla viterbi Tag:  [('Carbide', '.')]  Modified Viterbi Tag:  [('Carbide', 'NOUN')]\n",
      "\n",
      "Word: \" *T*-222 \" Vanilla viterbi Tag:  [('*T*-222', '.')]  Modified Viterbi Tag:  [('*T*-222', 'NOUN')]\n",
      "\n",
      "Word: \" Sandinista \" Vanilla viterbi Tag:  [('Sandinista', '.')]  Modified Viterbi Tag:  [('Sandinista', 'NOUN')]\n",
      "\n",
      "Word: \" 23.25 \" Vanilla viterbi Tag:  [('23.25', '.')]  Modified Viterbi Tag:  [('23.25', 'NOUN')]\n",
      "\n",
      "Word: \" Vice \" Vanilla viterbi Tag:  [('Vice', '.')]  Modified Viterbi Tag:  [('Vice', 'NOUN')]\n",
      "\n",
      "Word: \" Deere \" Vanilla viterbi Tag:  [('Deere', '.')]  Modified Viterbi Tag:  [('Deere', 'NOUN')]\n",
      "\n",
      "Word: \" shuttle \" Vanilla viterbi Tag:  [('shuttle', '.')]  Modified Viterbi Tag:  [('shuttle', 'NOUN')]\n",
      "\n",
      "Word: \" Albany \" Vanilla viterbi Tag:  [('Albany', '.')]  Modified Viterbi Tag:  [('Albany', 'NOUN')]\n",
      "\n",
      "Word: \" tutorials \" Vanilla viterbi Tag:  [('tutorials', '.')]  Modified Viterbi Tag:  [('tutorials', 'NOUN')]\n",
      "\n",
      "Word: \" Mount \" Vanilla viterbi Tag:  [('Mount', '.')]  Modified Viterbi Tag:  [('Mount', 'NOUN')]\n",
      "\n",
      "Word: \" Spaghetti \" Vanilla viterbi Tag:  [('Spaghetti', '.')]  Modified Viterbi Tag:  [('Spaghetti', 'NOUN')]\n",
      "\n",
      "Word: \" *T*-252 \" Vanilla viterbi Tag:  [('*T*-252', '.')]  Modified Viterbi Tag:  [('*T*-252', 'NOUN')]\n",
      "\n",
      "Word: \" raced \" Vanilla viterbi Tag:  [('raced', '.')]  Modified Viterbi Tag:  [('raced', 'NOUN')]\n",
      "\n",
      "Word: \" twin \" Vanilla viterbi Tag:  [('twin', '.')]  Modified Viterbi Tag:  [('twin', 'NOUN')]\n",
      "\n",
      "Word: \" 240,000 \" Vanilla viterbi Tag:  [('240,000', '.')]  Modified Viterbi Tag:  [('240,000', 'NOUN')]\n",
      "\n",
      "Word: \" Pittsburgh \" Vanilla viterbi Tag:  [('Pittsburgh', '.')]  Modified Viterbi Tag:  [('Pittsburgh', 'NOUN')]\n",
      "\n",
      "Word: \" sounding \" Vanilla viterbi Tag:  [('sounding', '.')]  Modified Viterbi Tag:  [('sounding', 'NOUN')]\n",
      "\n",
      "Word: \" Eveready \" Vanilla viterbi Tag:  [('Eveready', '.')]  Modified Viterbi Tag:  [('Eveready', 'NOUN')]\n",
      "\n",
      "Word: \" CSV \" Vanilla viterbi Tag:  [('CSV', '.')]  Modified Viterbi Tag:  [('CSV', 'NOUN')]\n",
      "\n",
      "Word: \" Clemens \" Vanilla viterbi Tag:  [('Clemens', '.')]  Modified Viterbi Tag:  [('Clemens', 'NOUN')]\n",
      "\n",
      "Word: \" ' \" Vanilla viterbi Tag:  [(\"'\", '.')]  Modified Viterbi Tag:  [(\"'\", '.')]\n",
      "\n",
      "Word: \" Anglia \" Vanilla viterbi Tag:  [('Anglia', '.')]  Modified Viterbi Tag:  [('Anglia', 'NOUN')]\n",
      "\n",
      "Word: \" Miklos \" Vanilla viterbi Tag:  [('Miklos', '.')]  Modified Viterbi Tag:  [('Miklos', 'NOUN')]\n",
      "\n",
      "Word: \" sum \" Vanilla viterbi Tag:  [('sum', '.')]  Modified Viterbi Tag:  [('sum', 'NOUN')]\n",
      "\n",
      "Word: \" crapshoot \" Vanilla viterbi Tag:  [('crapshoot', '.')]  Modified Viterbi Tag:  [('crapshoot', 'NOUN')]\n",
      "\n",
      "Word: \" Contra \" Vanilla viterbi Tag:  [('Contra', '.')]  Modified Viterbi Tag:  [('Contra', 'NOUN')]\n",
      "\n",
      "Word: \" complaining \" Vanilla viterbi Tag:  [('complaining', '.')]  Modified Viterbi Tag:  [('complaining', 'NOUN')]\n",
      "\n",
      "Word: \" reopened \" Vanilla viterbi Tag:  [('reopened', '.')]  Modified Viterbi Tag:  [('reopened', 'NOUN')]\n",
      "\n",
      "Word: \" 11.57 \" Vanilla viterbi Tag:  [('11.57', '.')]  Modified Viterbi Tag:  [('11.57', 'NOUN')]\n",
      "\n",
      "Word: \" abolishing \" Vanilla viterbi Tag:  [('abolishing', '.')]  Modified Viterbi Tag:  [('abolishing', 'NOUN')]\n",
      "\n",
      "Word: \" wave \" Vanilla viterbi Tag:  [('wave', '.')]  Modified Viterbi Tag:  [('wave', 'NOUN')]\n",
      "\n",
      "Word: \" oversight \" Vanilla viterbi Tag:  [('oversight', '.')]  Modified Viterbi Tag:  [('oversight', 'NOUN')]\n",
      "\n",
      "Word: \" Andrea \" Vanilla viterbi Tag:  [('Andrea', '.')]  Modified Viterbi Tag:  [('Andrea', 'NOUN')]\n",
      "\n",
      "Word: \" 83 \" Vanilla viterbi Tag:  [('83', '.')]  Modified Viterbi Tag:  [('83', 'NOUN')]\n",
      "\n",
      "Word: \" Delegates \" Vanilla viterbi Tag:  [('Delegates', '.')]  Modified Viterbi Tag:  [('Delegates', 'NOUN')]\n",
      "\n",
      "Word: \" *T*-185 \" Vanilla viterbi Tag:  [('*T*-185', '.')]  Modified Viterbi Tag:  [('*T*-185', 'NOUN')]\n",
      "\n",
      "Word: \" Symbol \" Vanilla viterbi Tag:  [('Symbol', '.')]  Modified Viterbi Tag:  [('Symbol', 'NOUN')]\n",
      "\n",
      "Word: \" playgrounds \" Vanilla viterbi Tag:  [('playgrounds', '.')]  Modified Viterbi Tag:  [('playgrounds', 'NOUN')]\n",
      "\n",
      "Word: \" drawbacks \" Vanilla viterbi Tag:  [('drawbacks', '.')]  Modified Viterbi Tag:  [('drawbacks', 'NOUN')]\n",
      "\n",
      "Word: \" Dick \" Vanilla viterbi Tag:  [('Dick', '.')]  Modified Viterbi Tag:  [('Dick', 'NOUN')]\n",
      "\n",
      "Word: \" 133.7 \" Vanilla viterbi Tag:  [('133.7', '.')]  Modified Viterbi Tag:  [('133.7', 'NOUN')]\n",
      "\n",
      "Word: \" pharaohs \" Vanilla viterbi Tag:  [('pharaohs', '.')]  Modified Viterbi Tag:  [('pharaohs', 'NOUN')]\n",
      "\n",
      "Word: \" flood \" Vanilla viterbi Tag:  [('flood', '.')]  Modified Viterbi Tag:  [('flood', 'NOUN')]\n",
      "\n",
      "Word: \" Starting \" Vanilla viterbi Tag:  [('Starting', '.')]  Modified Viterbi Tag:  [('Starting', 'NOUN')]\n",
      "\n",
      "Word: \" Bentsen \" Vanilla viterbi Tag:  [('Bentsen', '.')]  Modified Viterbi Tag:  [('Bentsen', 'NOUN')]\n",
      "\n",
      "Word: \" centralized \" Vanilla viterbi Tag:  [('centralized', '.')]  Modified Viterbi Tag:  [('centralized', 'NOUN')]\n",
      "\n"
     ]
    },
    {
     "name": "stdout",
     "output_type": "stream",
     "text": [
      "Word: \" species \" Vanilla viterbi Tag:  [('species', '.')]  Modified Viterbi Tag:  [('species', 'NOUN')]\n",
      "\n",
      "Word: \" Brady \" Vanilla viterbi Tag:  [('Brady', '.')]  Modified Viterbi Tag:  [('Brady', 'NOUN')]\n",
      "\n",
      "Word: \" Taittinger \" Vanilla viterbi Tag:  [('Taittinger', '.')]  Modified Viterbi Tag:  [('Taittinger', 'NOUN')]\n",
      "\n",
      "Word: \" 96.4 \" Vanilla viterbi Tag:  [('96.4', '.')]  Modified Viterbi Tag:  [('96.4', 'NOUN')]\n",
      "\n",
      "Word: \" Lloyd \" Vanilla viterbi Tag:  [('Lloyd', '.')]  Modified Viterbi Tag:  [('Lloyd', 'NOUN')]\n",
      "\n",
      "Word: \" Clarence \" Vanilla viterbi Tag:  [('Clarence', '.')]  Modified Viterbi Tag:  [('Clarence', 'NOUN')]\n",
      "\n",
      "Word: \" rounds \" Vanilla viterbi Tag:  [('rounds', '.')]  Modified Viterbi Tag:  [('rounds', 'NOUN')]\n",
      "\n",
      "Word: \" swelling \" Vanilla viterbi Tag:  [('swelling', '.')]  Modified Viterbi Tag:  [('swelling', 'NOUN')]\n",
      "\n",
      "Word: \" 1,570 \" Vanilla viterbi Tag:  [('1,570', '.')]  Modified Viterbi Tag:  [('1,570', 'NOUN')]\n",
      "\n",
      "Word: \" Sherwin \" Vanilla viterbi Tag:  [('Sherwin', '.')]  Modified Viterbi Tag:  [('Sherwin', 'NOUN')]\n",
      "\n",
      "Word: \" protein-1 \" Vanilla viterbi Tag:  [('protein-1', '.')]  Modified Viterbi Tag:  [('protein-1', 'NOUN')]\n",
      "\n",
      "Word: \" *T*-211 \" Vanilla viterbi Tag:  [('*T*-211', '.')]  Modified Viterbi Tag:  [('*T*-211', 'NOUN')]\n",
      "\n",
      "Word: \" sentence \" Vanilla viterbi Tag:  [('sentence', '.')]  Modified Viterbi Tag:  [('sentence', 'NOUN')]\n",
      "\n",
      "Word: \" resumption \" Vanilla viterbi Tag:  [('resumption', '.')]  Modified Viterbi Tag:  [('resumption', 'NOUN')]\n",
      "\n",
      "Word: \" 89,500 \" Vanilla viterbi Tag:  [('89,500', '.')]  Modified Viterbi Tag:  [('89,500', 'NOUN')]\n",
      "\n",
      "Word: \" 12.82 \" Vanilla viterbi Tag:  [('12.82', '.')]  Modified Viterbi Tag:  [('12.82', 'NOUN')]\n",
      "\n",
      "Word: \" 126.1 \" Vanilla viterbi Tag:  [('126.1', '.')]  Modified Viterbi Tag:  [('126.1', 'NOUN')]\n",
      "\n",
      "Word: \" witches \" Vanilla viterbi Tag:  [('witches', '.')]  Modified Viterbi Tag:  [('witches', 'NOUN')]\n",
      "\n",
      "Word: \" Legislation \" Vanilla viterbi Tag:  [('Legislation', '.')]  Modified Viterbi Tag:  [('Legislation', 'NOUN')]\n",
      "\n",
      "Word: \" existence \" Vanilla viterbi Tag:  [('existence', '.')]  Modified Viterbi Tag:  [('existence', 'NOUN')]\n",
      "\n",
      "Word: \" railcar \" Vanilla viterbi Tag:  [('railcar', '.')]  Modified Viterbi Tag:  [('railcar', 'NOUN')]\n",
      "\n",
      "Word: \" Comtes \" Vanilla viterbi Tag:  [('Comtes', '.')]  Modified Viterbi Tag:  [('Comtes', 'NOUN')]\n",
      "\n",
      "Word: \" descending \" Vanilla viterbi Tag:  [('descending', '.')]  Modified Viterbi Tag:  [('descending', 'NOUN')]\n",
      "\n",
      "Word: \" drooled \" Vanilla viterbi Tag:  [('drooled', '.')]  Modified Viterbi Tag:  [('drooled', 'NOUN')]\n",
      "\n",
      "Word: \" brushed \" Vanilla viterbi Tag:  [('brushed', '.')]  Modified Viterbi Tag:  [('brushed', 'NOUN')]\n",
      "\n",
      "Word: \" happening \" Vanilla viterbi Tag:  [('happening', '.')]  Modified Viterbi Tag:  [('happening', 'NOUN')]\n",
      "\n",
      "Word: \" relaunched \" Vanilla viterbi Tag:  [('relaunched', '.')]  Modified Viterbi Tag:  [('relaunched', 'NOUN')]\n",
      "\n",
      "Word: \" Payouts \" Vanilla viterbi Tag:  [('Payouts', '.')]  Modified Viterbi Tag:  [('Payouts', 'NOUN')]\n",
      "\n",
      "Word: \" assisted \" Vanilla viterbi Tag:  [('assisted', '.')]  Modified Viterbi Tag:  [('assisted', 'NOUN')]\n",
      "\n",
      "Word: \" Gingl \" Vanilla viterbi Tag:  [('Gingl', '.')]  Modified Viterbi Tag:  [('Gingl', 'NOUN')]\n",
      "\n",
      "Word: \" Excision \" Vanilla viterbi Tag:  [('Excision', '.')]  Modified Viterbi Tag:  [('Excision', 'NOUN')]\n",
      "\n",
      "Word: \" Day \" Vanilla viterbi Tag:  [('Day', '.')]  Modified Viterbi Tag:  [('Day', 'NOUN')]\n",
      "\n",
      "Word: \" Wallach \" Vanilla viterbi Tag:  [('Wallach', '.')]  Modified Viterbi Tag:  [('Wallach', 'NOUN')]\n",
      "\n",
      "Word: \" Wertheim \" Vanilla viterbi Tag:  [('Wertheim', '.')]  Modified Viterbi Tag:  [('Wertheim', 'NOUN')]\n",
      "\n",
      "Word: \" Schroder \" Vanilla viterbi Tag:  [('Schroder', '.')]  Modified Viterbi Tag:  [('Schroder', 'NOUN')]\n",
      "\n",
      "Word: \" two-sevenths \" Vanilla viterbi Tag:  [('two-sevenths', '.')]  Modified Viterbi Tag:  [('two-sevenths', 'NOUN')]\n",
      "\n",
      "Word: \" ballots \" Vanilla viterbi Tag:  [('ballots', '.')]  Modified Viterbi Tag:  [('ballots', 'NOUN')]\n",
      "\n",
      "Word: \" platforms \" Vanilla viterbi Tag:  [('platforms', '.')]  Modified Viterbi Tag:  [('platforms', 'NOUN')]\n",
      "\n",
      "Word: \" disruption \" Vanilla viterbi Tag:  [('disruption', '.')]  Modified Viterbi Tag:  [('disruption', 'NOUN')]\n",
      "\n",
      "Word: \" Results \" Vanilla viterbi Tag:  [('Results', '.')]  Modified Viterbi Tag:  [('Results', 'NOUN')]\n",
      "\n",
      "Word: \" bribing \" Vanilla viterbi Tag:  [('bribing', '.')]  Modified Viterbi Tag:  [('bribing', 'NOUN')]\n",
      "\n",
      "Word: \" 3.01 \" Vanilla viterbi Tag:  [('3.01', '.')]  Modified Viterbi Tag:  [('3.01', 'NOUN')]\n",
      "\n",
      "Word: \" Ketchum \" Vanilla viterbi Tag:  [('Ketchum', '.')]  Modified Viterbi Tag:  [('Ketchum', 'NOUN')]\n",
      "\n",
      "Word: \" shift \" Vanilla viterbi Tag:  [('shift', '.')]  Modified Viterbi Tag:  [('shift', 'NOUN')]\n",
      "\n",
      "Word: \" counting \" Vanilla viterbi Tag:  [('counting', '.')]  Modified Viterbi Tag:  [('counting', 'NOUN')]\n",
      "\n",
      "Word: \" *T*-232 \" Vanilla viterbi Tag:  [('*T*-232', '.')]  Modified Viterbi Tag:  [('*T*-232', 'NOUN')]\n",
      "\n",
      "Word: \" authorized \" Vanilla viterbi Tag:  [('authorized', '.')]  Modified Viterbi Tag:  [('authorized', 'NOUN')]\n",
      "\n",
      "Word: \" Biaggi \" Vanilla viterbi Tag:  [('Biaggi', '.')]  Modified Viterbi Tag:  [('Biaggi', 'NOUN')]\n",
      "\n",
      "Word: \" Warehouse \" Vanilla viterbi Tag:  [('Warehouse', '.')]  Modified Viterbi Tag:  [('Warehouse', 'NOUN')]\n",
      "\n",
      "Word: \" Speedway \" Vanilla viterbi Tag:  [('Speedway', '.')]  Modified Viterbi Tag:  [('Speedway', 'NOUN')]\n",
      "\n",
      "Word: \" nickname \" Vanilla viterbi Tag:  [('nickname', '.')]  Modified Viterbi Tag:  [('nickname', 'NOUN')]\n",
      "\n",
      "Word: \" Demand \" Vanilla viterbi Tag:  [('Demand', '.')]  Modified Viterbi Tag:  [('Demand', 'NOUN')]\n",
      "\n",
      "Word: \" 7.62 \" Vanilla viterbi Tag:  [('7.62', '.')]  Modified Viterbi Tag:  [('7.62', 'NOUN')]\n",
      "\n",
      "Word: \" Fortune \" Vanilla viterbi Tag:  [('Fortune', '.')]  Modified Viterbi Tag:  [('Fortune', 'NOUN')]\n",
      "\n",
      "Word: \" Meese \" Vanilla viterbi Tag:  [('Meese', '.')]  Modified Viterbi Tag:  [('Meese', 'NOUN')]\n",
      "\n",
      "Word: \" belfries \" Vanilla viterbi Tag:  [('belfries', '.')]  Modified Viterbi Tag:  [('belfries', 'NOUN')]\n",
      "\n",
      "Word: \" trees \" Vanilla viterbi Tag:  [('trees', '.')]  Modified Viterbi Tag:  [('trees', 'NOUN')]\n",
      "\n",
      "Word: \" petroleum \" Vanilla viterbi Tag:  [('petroleum', '.')]  Modified Viterbi Tag:  [('petroleum', 'NOUN')]\n",
      "\n",
      "Word: \" cane \" Vanilla viterbi Tag:  [('cane', '.')]  Modified Viterbi Tag:  [('cane', 'NOUN')]\n",
      "\n",
      "Word: \" 46.1 \" Vanilla viterbi Tag:  [('46.1', '.')]  Modified Viterbi Tag:  [('46.1', 'NOUN')]\n",
      "\n",
      "Word: \" Nicholas \" Vanilla viterbi Tag:  [('Nicholas', '.')]  Modified Viterbi Tag:  [('Nicholas', 'NOUN')]\n",
      "\n",
      "Word: \" 94 \" Vanilla viterbi Tag:  [('94', '.')]  Modified Viterbi Tag:  [('94', 'NOUN')]\n",
      "\n",
      "Word: \" predicated \" Vanilla viterbi Tag:  [('predicated', '.')]  Modified Viterbi Tag:  [('predicated', 'NOUN')]\n",
      "\n",
      "Word: \" encroaching \" Vanilla viterbi Tag:  [('encroaching', '.')]  Modified Viterbi Tag:  [('encroaching', 'NOUN')]\n",
      "\n",
      "Word: \" traced \" Vanilla viterbi Tag:  [('traced', '.')]  Modified Viterbi Tag:  [('traced', 'NOUN')]\n",
      "\n",
      "Word: \" tightening \" Vanilla viterbi Tag:  [('tightening', '.')]  Modified Viterbi Tag:  [('tightening', 'NOUN')]\n",
      "\n",
      "Word: \" labeling \" Vanilla viterbi Tag:  [('labeling', '.')]  Modified Viterbi Tag:  [('labeling', 'NOUN')]\n",
      "\n",
      "Word: \" Gelles \" Vanilla viterbi Tag:  [('Gelles', '.')]  Modified Viterbi Tag:  [('Gelles', 'NOUN')]\n",
      "\n",
      "Word: \" Solaia \" Vanilla viterbi Tag:  [('Solaia', '.')]  Modified Viterbi Tag:  [('Solaia', 'NOUN')]\n",
      "\n",
      "Word: \" *T*-164 \" Vanilla viterbi Tag:  [('*T*-164', '.')]  Modified Viterbi Tag:  [('*T*-164', 'NOUN')]\n",
      "\n",
      "Word: \" traffic \" Vanilla viterbi Tag:  [('traffic', '.')]  Modified Viterbi Tag:  [('traffic', 'NOUN')]\n",
      "\n",
      "Word: \" busloads \" Vanilla viterbi Tag:  [('busloads', '.')]  Modified Viterbi Tag:  [('busloads', 'NOUN')]\n",
      "\n",
      "Word: \" provoked \" Vanilla viterbi Tag:  [('provoked', '.')]  Modified Viterbi Tag:  [('provoked', 'NOUN')]\n",
      "\n",
      "Word: \" 909 \" Vanilla viterbi Tag:  [('909', '.')]  Modified Viterbi Tag:  [('909', 'NOUN')]\n",
      "\n",
      "Word: \" *T*-260 \" Vanilla viterbi Tag:  [('*T*-260', '.')]  Modified Viterbi Tag:  [('*T*-260', 'NOUN')]\n",
      "\n",
      "Word: \" 99.1 \" Vanilla viterbi Tag:  [('99.1', '.')]  Modified Viterbi Tag:  [('99.1', 'NOUN')]\n",
      "\n",
      "Word: \" Brands \" Vanilla viterbi Tag:  [('Brands', '.')]  Modified Viterbi Tag:  [('Brands', 'NOUN')]\n",
      "\n",
      "Word: \" ensnarled \" Vanilla viterbi Tag:  [('ensnarled', '.')]  Modified Viterbi Tag:  [('ensnarled', 'NOUN')]\n",
      "\n"
     ]
    },
    {
     "name": "stdout",
     "output_type": "stream",
     "text": [
      "Word: \" Braun \" Vanilla viterbi Tag:  [('Braun', '.')]  Modified Viterbi Tag:  [('Braun', 'NOUN')]\n",
      "\n",
      "Word: \" Morrell \" Vanilla viterbi Tag:  [('Morrell', '.')]  Modified Viterbi Tag:  [('Morrell', 'NOUN')]\n",
      "\n",
      "Word: \" insurgents \" Vanilla viterbi Tag:  [('insurgents', '.')]  Modified Viterbi Tag:  [('insurgents', 'NOUN')]\n",
      "\n",
      "Word: \" Form \" Vanilla viterbi Tag:  [('Form', '.')]  Modified Viterbi Tag:  [('Form', 'NOUN')]\n",
      "\n",
      "Word: \" marketing-communications \" Vanilla viterbi Tag:  [('marketing-communications', '.')]  Modified Viterbi Tag:  [('marketing-communications', 'NOUN')]\n",
      "\n",
      "Word: \" chicago \" Vanilla viterbi Tag:  [('chicago', '.')]  Modified Viterbi Tag:  [('chicago', 'NOUN')]\n",
      "\n",
      "Word: \" formation \" Vanilla viterbi Tag:  [('formation', '.')]  Modified Viterbi Tag:  [('formation', 'NOUN')]\n",
      "\n",
      "Word: \" Angelo \" Vanilla viterbi Tag:  [('Angelo', '.')]  Modified Viterbi Tag:  [('Angelo', 'NOUN')]\n",
      "\n",
      "Word: \" dams \" Vanilla viterbi Tag:  [('dams', '.')]  Modified Viterbi Tag:  [('dams', 'NOUN')]\n",
      "\n",
      "Word: \" notched \" Vanilla viterbi Tag:  [('notched', '.')]  Modified Viterbi Tag:  [('notched', 'NOUN')]\n",
      "\n",
      "Word: \" 737.5 \" Vanilla viterbi Tag:  [('737.5', '.')]  Modified Viterbi Tag:  [('737.5', 'NOUN')]\n",
      "\n",
      "Word: \" Customers \" Vanilla viterbi Tag:  [('Customers', '.')]  Modified Viterbi Tag:  [('Customers', 'NOUN')]\n",
      "\n",
      "Word: \" TREASURY \" Vanilla viterbi Tag:  [('TREASURY', '.')]  Modified Viterbi Tag:  [('TREASURY', 'NOUN')]\n",
      "\n",
      "Word: \" observance \" Vanilla viterbi Tag:  [('observance', '.')]  Modified Viterbi Tag:  [('observance', 'NOUN')]\n",
      "\n",
      "Word: \" direct \" Vanilla viterbi Tag:  [('direct', 'ADJ')]  Modified Viterbi Tag:  [('direct', 'ADJ')]\n",
      "\n",
      "Word: \" rebel \" Vanilla viterbi Tag:  [('rebel', '.')]  Modified Viterbi Tag:  [('rebel', 'NOUN')]\n",
      "\n",
      "Word: \" document \" Vanilla viterbi Tag:  [('document', '.')]  Modified Viterbi Tag:  [('document', 'NOUN')]\n",
      "\n",
      "Word: \" Trailer \" Vanilla viterbi Tag:  [('Trailer', '.')]  Modified Viterbi Tag:  [('Trailer', 'NOUN')]\n",
      "\n",
      "Word: \" Bar \" Vanilla viterbi Tag:  [('Bar', '.')]  Modified Viterbi Tag:  [('Bar', 'NOUN')]\n",
      "\n",
      "Word: \" shivers \" Vanilla viterbi Tag:  [('shivers', '.')]  Modified Viterbi Tag:  [('shivers', 'NOUN')]\n",
      "\n",
      "Word: \" delisted \" Vanilla viterbi Tag:  [('delisted', '.')]  Modified Viterbi Tag:  [('delisted', 'NOUN')]\n",
      "\n",
      "Word: \" busiest \" Vanilla viterbi Tag:  [('busiest', '.')]  Modified Viterbi Tag:  [('busiest', 'NOUN')]\n",
      "\n",
      "Word: \" fleet \" Vanilla viterbi Tag:  [('fleet', '.')]  Modified Viterbi Tag:  [('fleet', 'NOUN')]\n",
      "\n",
      "Word: \" launch-vehicle \" Vanilla viterbi Tag:  [('launch-vehicle', '.')]  Modified Viterbi Tag:  [('launch-vehicle', 'NOUN')]\n",
      "\n",
      "Word: \" Shell \" Vanilla viterbi Tag:  [('Shell', '.')]  Modified Viterbi Tag:  [('Shell', 'NOUN')]\n",
      "\n",
      "Word: \" passions \" Vanilla viterbi Tag:  [('passions', '.')]  Modified Viterbi Tag:  [('passions', 'NOUN')]\n",
      "\n",
      "Word: \" memo \" Vanilla viterbi Tag:  [('memo', '.')]  Modified Viterbi Tag:  [('memo', 'NOUN')]\n",
      "\n",
      "Word: \" Nemeth \" Vanilla viterbi Tag:  [('Nemeth', '.')]  Modified Viterbi Tag:  [('Nemeth', 'NOUN')]\n",
      "\n",
      "Word: \" synchronized \" Vanilla viterbi Tag:  [('synchronized', '.')]  Modified Viterbi Tag:  [('synchronized', 'NOUN')]\n",
      "\n",
      "Word: \" *-129 \" Vanilla viterbi Tag:  [('*-129', '.')]  Modified Viterbi Tag:  [('*-129', 'NOUN')]\n",
      "\n",
      "Word: \" Texan \" Vanilla viterbi Tag:  [('Texan', '.')]  Modified Viterbi Tag:  [('Texan', 'NOUN')]\n",
      "\n",
      "Word: \" escort \" Vanilla viterbi Tag:  [('escort', '.')]  Modified Viterbi Tag:  [('escort', 'NOUN')]\n",
      "\n",
      "Word: \" WTVJ \" Vanilla viterbi Tag:  [('WTVJ', '.')]  Modified Viterbi Tag:  [('WTVJ', 'NOUN')]\n",
      "\n",
      "Word: \" Lobo \" Vanilla viterbi Tag:  [('Lobo', '.')]  Modified Viterbi Tag:  [('Lobo', 'NOUN')]\n",
      "\n",
      "Word: \" Gaja \" Vanilla viterbi Tag:  [('Gaja', '.')]  Modified Viterbi Tag:  [('Gaja', 'NOUN')]\n",
      "\n",
      "Word: \" boogieman \" Vanilla viterbi Tag:  [('boogieman', '.')]  Modified Viterbi Tag:  [('boogieman', 'NOUN')]\n",
      "\n",
      "Word: \" schemes \" Vanilla viterbi Tag:  [('schemes', '.')]  Modified Viterbi Tag:  [('schemes', 'NOUN')]\n",
      "\n",
      "Word: \" verge \" Vanilla viterbi Tag:  [('verge', '.')]  Modified Viterbi Tag:  [('verge', 'NOUN')]\n",
      "\n",
      "Word: \" schoolboys \" Vanilla viterbi Tag:  [('schoolboys', '.')]  Modified Viterbi Tag:  [('schoolboys', 'NOUN')]\n",
      "\n",
      "Word: \" *-115 \" Vanilla viterbi Tag:  [('*-115', '.')]  Modified Viterbi Tag:  [('*-115', 'NOUN')]\n",
      "\n",
      "Word: \" ethanol \" Vanilla viterbi Tag:  [('ethanol', '.')]  Modified Viterbi Tag:  [('ethanol', 'NOUN')]\n",
      "\n",
      "Word: \" Datapoint \" Vanilla viterbi Tag:  [('Datapoint', '.')]  Modified Viterbi Tag:  [('Datapoint', 'NOUN')]\n",
      "\n",
      "Word: \" engines \" Vanilla viterbi Tag:  [('engines', '.')]  Modified Viterbi Tag:  [('engines', 'NOUN')]\n",
      "\n",
      "Word: \" merits \" Vanilla viterbi Tag:  [('merits', '.')]  Modified Viterbi Tag:  [('merits', 'NOUN')]\n",
      "\n",
      "Word: \" liabilities \" Vanilla viterbi Tag:  [('liabilities', '.')]  Modified Viterbi Tag:  [('liabilities', 'NOUN')]\n",
      "\n",
      "Word: \" 1.85 \" Vanilla viterbi Tag:  [('1.85', '.')]  Modified Viterbi Tag:  [('1.85', 'NOUN')]\n",
      "\n",
      "Word: \" octogenarians \" Vanilla viterbi Tag:  [('octogenarians', '.')]  Modified Viterbi Tag:  [('octogenarians', 'NOUN')]\n",
      "\n",
      "Word: \" Book \" Vanilla viterbi Tag:  [('Book', '.')]  Modified Viterbi Tag:  [('Book', 'NOUN')]\n",
      "\n",
      "Word: \" knocked \" Vanilla viterbi Tag:  [('knocked', '.')]  Modified Viterbi Tag:  [('knocked', 'NOUN')]\n",
      "\n",
      "Word: \" self \" Vanilla viterbi Tag:  [('self', '.')]  Modified Viterbi Tag:  [('self', 'NOUN')]\n",
      "\n",
      "Word: \" correcting \" Vanilla viterbi Tag:  [('correcting', '.')]  Modified Viterbi Tag:  [('correcting', 'NOUN')]\n",
      "\n",
      "Word: \" 16.2 \" Vanilla viterbi Tag:  [('16.2', '.')]  Modified Viterbi Tag:  [('16.2', 'NOUN')]\n",
      "\n",
      "Word: \" schedule \" Vanilla viterbi Tag:  [('schedule', '.')]  Modified Viterbi Tag:  [('schedule', 'NOUN')]\n",
      "\n",
      "Word: \" Tire \" Vanilla viterbi Tag:  [('Tire', '.')]  Modified Viterbi Tag:  [('Tire', 'NOUN')]\n",
      "\n",
      "Word: \" Piero \" Vanilla viterbi Tag:  [('Piero', '.')]  Modified Viterbi Tag:  [('Piero', 'NOUN')]\n",
      "\n",
      "Word: \" three-sevenths \" Vanilla viterbi Tag:  [('three-sevenths', '.')]  Modified Viterbi Tag:  [('three-sevenths', 'NOUN')]\n",
      "\n",
      "Word: \" refinery \" Vanilla viterbi Tag:  [('refinery', '.')]  Modified Viterbi Tag:  [('refinery', 'NOUN')]\n",
      "\n",
      "Word: \" *T*-236 \" Vanilla viterbi Tag:  [('*T*-236', '.')]  Modified Viterbi Tag:  [('*T*-236', 'NOUN')]\n",
      "\n",
      "Word: \" contributors \" Vanilla viterbi Tag:  [('contributors', '.')]  Modified Viterbi Tag:  [('contributors', 'NOUN')]\n",
      "\n",
      "Word: \" Antinori \" Vanilla viterbi Tag:  [('Antinori', '.')]  Modified Viterbi Tag:  [('Antinori', 'NOUN')]\n",
      "\n",
      "Word: \" taxpayer \" Vanilla viterbi Tag:  [('taxpayer', '.')]  Modified Viterbi Tag:  [('taxpayer', 'NOUN')]\n",
      "\n",
      "Word: \" qualities \" Vanilla viterbi Tag:  [('qualities', '.')]  Modified Viterbi Tag:  [('qualities', 'NOUN')]\n",
      "\n",
      "Word: \" 2,303,328 \" Vanilla viterbi Tag:  [('2,303,328', '.')]  Modified Viterbi Tag:  [('2,303,328', 'NOUN')]\n",
      "\n",
      "Word: \" editions \" Vanilla viterbi Tag:  [('editions', '.')]  Modified Viterbi Tag:  [('editions', 'NOUN')]\n",
      "\n",
      "Word: \" inside \" Vanilla viterbi Tag:  [('inside', '.')]  Modified Viterbi Tag:  [('inside', 'NOUN')]\n",
      "\n",
      "Word: \" Asher \" Vanilla viterbi Tag:  [('Asher', '.')]  Modified Viterbi Tag:  [('Asher', 'NOUN')]\n",
      "\n",
      "Word: \" Honduras \" Vanilla viterbi Tag:  [('Honduras', '.')]  Modified Viterbi Tag:  [('Honduras', 'NOUN')]\n",
      "\n",
      "Word: \" Beige \" Vanilla viterbi Tag:  [('Beige', '.')]  Modified Viterbi Tag:  [('Beige', 'NOUN')]\n",
      "\n",
      "Word: \" 94.2 \" Vanilla viterbi Tag:  [('94.2', '.')]  Modified Viterbi Tag:  [('94.2', 'NOUN')]\n",
      "\n",
      "Word: \" BILLS \" Vanilla viterbi Tag:  [('BILLS', '.')]  Modified Viterbi Tag:  [('BILLS', 'NOUN')]\n",
      "\n",
      "Word: \" sky \" Vanilla viterbi Tag:  [('sky', '.')]  Modified Viterbi Tag:  [('sky', 'NOUN')]\n",
      "\n",
      "Word: \" indictment \" Vanilla viterbi Tag:  [('indictment', '.')]  Modified Viterbi Tag:  [('indictment', 'NOUN')]\n",
      "\n",
      "Word: \" Train \" Vanilla viterbi Tag:  [('Train', '.')]  Modified Viterbi Tag:  [('Train', 'NOUN')]\n",
      "\n",
      "Word: \" riders \" Vanilla viterbi Tag:  [('riders', '.')]  Modified Viterbi Tag:  [('riders', 'NOUN')]\n",
      "\n",
      "Word: \" homework \" Vanilla viterbi Tag:  [('homework', '.')]  Modified Viterbi Tag:  [('homework', 'NOUN')]\n",
      "\n",
      "Word: \" Mario \" Vanilla viterbi Tag:  [('Mario', '.')]  Modified Viterbi Tag:  [('Mario', 'NOUN')]\n",
      "\n",
      "Word: \" NYSE \" Vanilla viterbi Tag:  [('NYSE', '.')]  Modified Viterbi Tag:  [('NYSE', 'NOUN')]\n",
      "\n",
      "Word: \" 2.6 \" Vanilla viterbi Tag:  [('2.6', '.')]  Modified Viterbi Tag:  [('2.6', 'NOUN')]\n",
      "\n"
     ]
    }
   ],
   "source": [
    "for word in (incorrect_tagged_words_vanilla-incorrect_tagged_rulebased):\n",
    "    print('Word: \"',word,'\" Vanilla viterbi Tag: ',Vanilla_Viterbi([word]),' Modified Viterbi Tag: ',Modified_Viterbi_Transitional_P([word]))\n",
    "    print()\n",
    "    "
   ]
  },
  {
   "cell_type": "markdown",
   "metadata": {},
   "source": [
    "#### 8.1.2 Improved cases with the help of transition probability technique(Approach 2) on sample test set:"
   ]
  },
  {
   "cell_type": "markdown",
   "metadata": {},
   "source": [
    "<B><I>Checking tags done by modification on viterbi</I></B>\n",
    "<a id='Transitional_Cases'></a>"
   ]
  },
  {
   "cell_type": "code",
   "execution_count": 80,
   "metadata": {},
   "outputs": [
    {
     "name": "stdout",
     "output_type": "stream",
     "text": [
      "Word: \" online \" Vanilla viterbi Tag:  [('online', '.')]  Modified Viterbi Tag:  [('online', 'NOUN')]\n",
      "\n",
      "Word: \" tweets \" Vanilla viterbi Tag:  [('tweets', '.')]  Modified Viterbi Tag:  [('tweets', 'NOUN')]\n",
      "\n",
      "Word: \" domineering \" Vanilla viterbi Tag:  [('domineering', '.')]  Modified Viterbi Tag:  [('domineering', 'NOUN')]\n",
      "\n",
      "Word: \" 2011 \" Vanilla viterbi Tag:  [('2011', '.')]  Modified Viterbi Tag:  [('2011', 'NOUN')]\n",
      "\n",
      "Word: \" OS \" Vanilla viterbi Tag:  [('OS', '.')]  Modified Viterbi Tag:  [('OS', 'NOUN')]\n",
      "\n",
      "Word: \" Android \" Vanilla viterbi Tag:  [('Android', '.')]  Modified Viterbi Tag:  [('Android', 'NOUN')]\n",
      "\n",
      "Word: \" contested \" Vanilla viterbi Tag:  [('contested', '.')]  Modified Viterbi Tag:  [('contested', 'NOUN')]\n",
      "\n",
      "Word: \" 2015 \" Vanilla viterbi Tag:  [('2015', '.')]  Modified Viterbi Tag:  [('2015', 'NOUN')]\n",
      "\n",
      "Word: \" messages \" Vanilla viterbi Tag:  [('messages', '.')]  Modified Viterbi Tag:  [('messages', 'NOUN')]\n",
      "\n",
      "Word: \" 2013 \" Vanilla viterbi Tag:  [('2013', '.')]  Modified Viterbi Tag:  [('2013', 'NOUN')]\n",
      "\n",
      "Word: \" 21st \" Vanilla viterbi Tag:  [('21st', '.')]  Modified Viterbi Tag:  [('21st', 'NOUN')]\n",
      "\n",
      "Word: \" invited \" Vanilla viterbi Tag:  [('invited', '.')]  Modified Viterbi Tag:  [('invited', 'NOUN')]\n",
      "\n",
      "Word: \" smartphones \" Vanilla viterbi Tag:  [('smartphones', '.')]  Modified Viterbi Tag:  [('smartphones', 'NOUN')]\n",
      "\n",
      "Word: \" FIFA \" Vanilla viterbi Tag:  [('FIFA', '.')]  Modified Viterbi Tag:  [('FIFA', 'NOUN')]\n",
      "\n",
      "Word: \" NASA \" Vanilla viterbi Tag:  [('NASA', '.')]  Modified Viterbi Tag:  [('NASA', 'NOUN')]\n",
      "\n",
      "Word: \" tournament \" Vanilla viterbi Tag:  [('tournament', '.')]  Modified Viterbi Tag:  [('tournament', 'NOUN')]\n",
      "\n",
      "Word: \" Twitter \" Vanilla viterbi Tag:  [('Twitter', '.')]  Modified Viterbi Tag:  [('Twitter', 'NOUN')]\n",
      "\n",
      "Word: \" worldwide \" Vanilla viterbi Tag:  [('worldwide', '.')]  Modified Viterbi Tag:  [('worldwide', 'NOUN')]\n",
      "\n",
      "Word: \" ICESAT-2 \" Vanilla viterbi Tag:  [('ICESAT-2', '.')]  Modified Viterbi Tag:  [('ICESAT-2', 'NOUN')]\n",
      "\n",
      "Word: \" interact \" Vanilla viterbi Tag:  [('interact', '.')]  Modified Viterbi Tag:  [('interact', 'NOUN')]\n",
      "\n",
      "Word: \" firehose \" Vanilla viterbi Tag:  [('firehose', '.')]  Modified Viterbi Tag:  [('firehose', 'NOUN')]\n",
      "\n",
      "Word: \" 2018 \" Vanilla viterbi Tag:  [('2018', '.')]  Modified Viterbi Tag:  [('2018', 'NOUN')]\n",
      "\n",
      "Word: \" Cup \" Vanilla viterbi Tag:  [('Cup', '.')]  Modified Viterbi Tag:  [('Cup', 'NOUN')]\n",
      "\n",
      "Word: \" arriving \" Vanilla viterbi Tag:  [('arriving', '.')]  Modified Viterbi Tag:  [('arriving', 'NOUN')]\n",
      "\n",
      "Word: \" Google \" Vanilla viterbi Tag:  [('Google', '.')]  Modified Viterbi Tag:  [('Google', 'NOUN')]\n",
      "\n",
      "Word: \" personality \" Vanilla viterbi Tag:  [('personality', '.')]  Modified Viterbi Tag:  [('personality', 'NOUN')]\n",
      "\n",
      "Word: \" trips \" Vanilla viterbi Tag:  [('trips', '.')]  Modified Viterbi Tag:  [('trips', 'NOUN')]\n",
      "\n",
      "Word: \" Satellite \" Vanilla viterbi Tag:  [('Satellite', '.')]  Modified Viterbi Tag:  [('Satellite', 'NOUN')]\n",
      "\n"
     ]
    }
   ],
   "source": [
    "for word in (unknown_test_app):\n",
    "    print('Word: \"',word,'\" Vanilla viterbi Tag: ',Vanilla_Viterbi([word]),' Modified Viterbi Tag: ',Modified_Viterbi_Transitional_P([word]))\n",
    "    print()"
   ]
  },
  {
   "cell_type": "markdown",
   "metadata": {},
   "source": [
    "## 9. Listing down cases which were incorrectly tagged by original POS tagger and got corrected modififying Vanilla Viterbi algorithm"
   ]
  },
  {
   "cell_type": "markdown",
   "metadata": {},
   "source": [
    "### 9.1 Accuracy improvements"
   ]
  },
  {
   "cell_type": "code",
   "execution_count": 81,
   "metadata": {},
   "outputs": [
    {
     "name": "stdout",
     "output_type": "stream",
     "text": [
      "Vanilla Viterbi Accuracy:  0.909728992006239\n",
      "Rulebased Viterbi Accuracy:  0.9561317995710665\n",
      "Transition Viterbi Accuracy:  0.9403392474166504\n"
     ]
    }
   ],
   "source": [
    "print('Vanilla Viterbi Accuracy: ',accuracy_vanilla)\n",
    "print('Rulebased Viterbi Accuracy: ',accuracy_modified_rulebased)\n",
    "print('Transition Viterbi Accuracy: ',accuracy_transition)\n"
   ]
  },
  {
   "cell_type": "markdown",
   "metadata": {},
   "source": [
    "<b>Observations: </b>\n",
    "- Rule based tagging has improved the accuracy to 0.9561317995710665\n",
    "- Transition probability technique has improved the accuracy to 0.9403392474166504"
   ]
  },
  {
   "cell_type": "markdown",
   "metadata": {},
   "source": [
    "### 9.2 Incorrect tagged words reduction"
   ]
  },
  {
   "cell_type": "code",
   "execution_count": 82,
   "metadata": {},
   "outputs": [
    {
     "name": "stdout",
     "output_type": "stream",
     "text": [
      "Vanilla Viterbi Incorrect Tags:  405\n",
      "Rulebased Viterbi Incorrect Tags:  176\n",
      "Transition Viterbi Incorrect Tags:  257\n"
     ]
    }
   ],
   "source": [
    "print('Vanilla Viterbi Incorrect Tags: ',len(incorrect_tagged_words_vanilla))\n",
    "print('Rulebased Viterbi Incorrect Tags: ',len(incorrect_tagged_rulebased))\n",
    "print('Transition Viterbi Incorrect Tags: ',len(incorrect_tagged_transition))"
   ]
  },
  {
   "cell_type": "markdown",
   "metadata": {},
   "source": [
    "<b>Observations: </b>\n",
    "- Rule based tagging has reduced the incorrect tagging from 405 to 176 as morphological taggers have played role here\n",
    "- Transition probability technique has reduced the incorrect tagging from 405 to 257"
   ]
  },
  {
   "cell_type": "markdown",
   "metadata": {},
   "source": [
    "### 9.3 Corrected cases for unknown words: "
   ]
  },
  {
   "cell_type": "code",
   "execution_count": 83,
   "metadata": {},
   "outputs": [],
   "source": [
    "display_list=[]\n",
    "for p in range(len(test_vanilla_tag_seq)):\n",
    "    for q in range(len(test_vanilla_tag_seq[p])):\n",
    "        if test_vanilla_tag_seq[p][q][0] in unknown_test_app:\n",
    "            tags_for_word=[test_vanilla_tag_seq[p][q][0],test_vanilla_tag_seq[p][q][1],test_rulebased_tag_seq[p][q][1],test_prob_tag_seq[p][q][1]]\n",
    "            display_list.append(tags_for_word)\n",
    "        \n",
    "    \n",
    "    "
   ]
  },
  {
   "cell_type": "code",
   "execution_count": 84,
   "metadata": {
    "scrolled": true
   },
   "outputs": [
    {
     "data": {
      "text/html": [
       "<table>\n",
       "<thead>\n",
       "<tr><th>Word       </th><th>POS tag (Vanilla Viterbi)  </th><th>POS tag Approach-1(Rule Based)  </th><th>POS tag Approach-2(Transition Prob)  </th></tr>\n",
       "</thead>\n",
       "<tbody>\n",
       "<tr><td>Android    </td><td>.                          </td><td>NOUN                            </td><td>NOUN                                 </td></tr>\n",
       "<tr><td>Google     </td><td>.                          </td><td>NOUN                            </td><td>DET                                  </td></tr>\n",
       "<tr><td>Android    </td><td>.                          </td><td>NOUN                            </td><td>NOUN                                 </td></tr>\n",
       "<tr><td>OS         </td><td>.                          </td><td>NOUN                            </td><td>NOUN                                 </td></tr>\n",
       "<tr><td>worldwide  </td><td>.                          </td><td>NOUN                            </td><td>NOUN                                 </td></tr>\n",
       "<tr><td>smartphones</td><td>.                          </td><td>NOUN                            </td><td>DET                                  </td></tr>\n",
       "<tr><td>2011       </td><td>.                          </td><td>NUM                             </td><td>DET                                  </td></tr>\n",
       "<tr><td>2013       </td><td>.                          </td><td>NUM                             </td><td>DET                                  </td></tr>\n",
       "<tr><td>Google     </td><td>.                          </td><td>NOUN                            </td><td>NOUN                                 </td></tr>\n",
       "<tr><td>Twitter    </td><td>.                          </td><td>NOUN                            </td><td>NOUN                                 </td></tr>\n",
       "<tr><td>2015       </td><td>.                          </td><td>NUM                             </td><td>DET                                  </td></tr>\n",
       "<tr><td>Google     </td><td>.                          </td><td>NOUN                            </td><td>X                                    </td></tr>\n",
       "<tr><td>Twitter    </td><td>.                          </td><td>NOUN                            </td><td>VERB                                 </td></tr>\n",
       "<tr><td>firehose   </td><td>.                          </td><td>NOUN                            </td><td>VERB                                 </td></tr>\n",
       "<tr><td>Twitter    </td><td>.                          </td><td>NOUN                            </td><td>NOUN                                 </td></tr>\n",
       "<tr><td>online     </td><td>.                          </td><td>NOUN                            </td><td>NOUN                                 </td></tr>\n",
       "<tr><td>interact   </td><td>.                          </td><td>NOUN                            </td><td>NOUN                                 </td></tr>\n",
       "<tr><td>messages   </td><td>.                          </td><td>NOUN                            </td><td>DET                                  </td></tr>\n",
       "<tr><td>tweets     </td><td>.                          </td><td>NOUN                            </td><td>DET                                  </td></tr>\n",
       "<tr><td>domineering</td><td>.                          </td><td>VERB                            </td><td>NOUN                                 </td></tr>\n",
       "<tr><td>personality</td><td>.                          </td><td>NOUN                            </td><td>NOUN                                 </td></tr>\n",
       "<tr><td>2018       </td><td>.                          </td><td>NUM                             </td><td>NOUN                                 </td></tr>\n",
       "<tr><td>FIFA       </td><td>.                          </td><td>NOUN                            </td><td>NOUN                                 </td></tr>\n",
       "<tr><td>Cup        </td><td>.                          </td><td>NOUN                            </td><td>NOUN                                 </td></tr>\n",
       "<tr><td>21st       </td><td>.                          </td><td>NOUN                            </td><td>NOUN                                 </td></tr>\n",
       "<tr><td>FIFA       </td><td>.                          </td><td>NOUN                            </td><td>NOUN                                 </td></tr>\n",
       "<tr><td>Cup        </td><td>.                          </td><td>NOUN                            </td><td>NOUN                                 </td></tr>\n",
       "<tr><td>tournament </td><td>.                          </td><td>NOUN                            </td><td>NOUN                                 </td></tr>\n",
       "<tr><td>contested  </td><td>.                          </td><td>VERB                            </td><td>NOUN                                 </td></tr>\n",
       "<tr><td>Cup        </td><td>.                          </td><td>NOUN                            </td><td>NOUN                                 </td></tr>\n",
       "<tr><td>trips      </td><td>.                          </td><td>NOUN                            </td><td>NOUN                                 </td></tr>\n",
       "<tr><td>arriving   </td><td>.                          </td><td>VERB                            </td><td>NOUN                                 </td></tr>\n",
       "<tr><td>NASA       </td><td>.                          </td><td>NOUN                            </td><td>NOUN                                 </td></tr>\n",
       "<tr><td>invited    </td><td>.                          </td><td>VERB                            </td><td>NOUN                                 </td></tr>\n",
       "<tr><td>ICESAT-2   </td><td>.                          </td><td>NOUN                            </td><td>DET                                  </td></tr>\n",
       "<tr><td>Satellite  </td><td>.                          </td><td>NOUN                            </td><td>NOUN                                 </td></tr>\n",
       "</tbody>\n",
       "</table>"
      ],
      "text/plain": [
       "<IPython.core.display.HTML object>"
      ]
     },
     "metadata": {},
     "output_type": "display_data"
    }
   ],
   "source": [
    "# displaying the tags for given word in each approach to identify correctness\n",
    "from IPython.display import HTML, display\n",
    "import tabulate\n",
    "headers = ['Word','POS tag (Vanilla Viterbi)','POS tag Approach-1(Rule Based)','POS tag Approach-2(Transition Prob)']\n",
    "display(HTML(tabulate.tabulate(display_list,headers, tablefmt='html')))"
   ]
  },
  {
   "cell_type": "markdown",
   "metadata": {},
   "source": [
    "### Observations : \n",
    "<B><I>Rule based tagging</I></B>\n",
    "1. Words like `'Android' , 'Google', 'OS', 'Twitter' , 'FIFA'` has been correctly tagged as <b>NOUN</b> which was previously tagged as '.' in vanilla viterbi\n",
    "2. Words like `'2011' , '2013' , '2015' , '2018'` has been correctly tagged as <b>NUM</b> which was previously tagged as '.' in vanilla viterbi\n",
    "3. Words like `'invited' , 'domineering' , 'arriving' , 'contested'` have been correctly tagged as <b>VERB</b> which was previously tagged as '.' in vanilla viterbi\n",
    "\n",
    "<B><I>Transition probability tagging</I></B>\n",
    "1. Word `'FIFA'` has been correctly tagged as <b>NOUN</b> which was previously tagged as '.' in vanilla viterbi\n",
    "2. Word `'Cup'` has been correctly tagged as <b>NOUN</b> which was previously tagged as '.' in vanilla viterbi\n",
    "3. Word `'NASA'` has been correctly tagged as <b>NOUN</b> which was previously tagged as '.' in vanilla viterbi\n",
    "4. Word `'Android'` has been correctly tagged as <b>NOUN</b> which was previously tagged as '.' in vanilla viterbi\n",
    "5. Word `'OS'` has been correctly tagged as <b>NOUN</b> which was previously tagged as '.' in vanilla viterbi\n",
    "6. Word `'Twitter'` has been correctly tagged as <b>NOUN</b> which was previously tagged as '.' in vanilla viterbi\n",
    "\n",
    "\n"
   ]
  },
  {
   "cell_type": "markdown",
   "metadata": {},
   "source": [
    "<b>For more corrected cases refer above table</b>"
   ]
  },
  {
   "cell_type": "code",
   "execution_count": null,
   "metadata": {},
   "outputs": [],
   "source": []
  }
 ],
 "metadata": {
  "kernelspec": {
   "display_name": "Python 3",
   "language": "python",
   "name": "python3"
  },
  "language_info": {
   "codemirror_mode": {
    "name": "ipython",
    "version": 3
   },
   "file_extension": ".py",
   "mimetype": "text/x-python",
   "name": "python",
   "nbconvert_exporter": "python",
   "pygments_lexer": "ipython3",
   "version": "3.7.3"
  }
 },
 "nbformat": 4,
 "nbformat_minor": 2
}
